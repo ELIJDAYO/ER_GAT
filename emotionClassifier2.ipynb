{
 "cells": [
  {
   "cell_type": "markdown",
   "id": "35a857cc",
   "metadata": {},
   "source": [
    "\"FC layers referenced from https://towardsdatascience.com/math-neural-network-from-scratch-in-python-d6da9f29ce65\"\n"
   ]
  },
  {
   "cell_type": "code",
   "execution_count": 72,
   "id": "176f72e4",
   "metadata": {},
   "outputs": [
    {
     "name": "stdout",
     "output_type": "stream",
     "text": [
      "The autoreload extension is already loaded. To reload it, use:\n",
      "  %reload_ext autoreload\n"
     ]
    }
   ],
   "source": [
    "import torch, time, os, pickle\n",
    "import numpy as np\n",
    "import torch.nn as nn\n",
    "import pandas as pd\n",
    "import torch.nn.functional as F\n",
    "from torch.utils.data import DataLoader, TensorDataset, Dataset\n",
    "import torch.optim as optim\n",
    "from sklearn.metrics import precision_score, recall_score, f1_score, precision_recall_fscore_support\n",
    "import matplotlib.pyplot as plt\n",
    "from sklearn.metrics.pairwise import cosine_similarity\n",
    "from sklearn.datasets import make_classification\n",
    "from sklearn.model_selection import train_test_split\n",
    "from sklearn.tree import DecisionTreeClassifier\n",
    "from sklearn.metrics import accuracy_score\n",
    "from sklearn.feature_selection import SelectKBest, f_classif, chi2\n",
    "from sklearn.decomposition import PCA\n",
    "from sklearn.preprocessing import MinMaxScaler\n",
    "import plotly.graph_objs as go\n",
    "from sklearn.manifold import TSNE\n",
    "import plotly.io as pio\n",
    "from sklearn.utils import class_weight\n",
    "import tqdm as notebook_tqdm\n",
    "from tqdm import tqdm\n",
    "from sklearn.model_selection import train_test_split\n",
    "from torch.utils.data import TensorDataset, DataLoader\n",
    "from sklearn.metrics import classification_report\n",
    "from model import FCClassifier\n",
    "from tqdm import tqdm\n",
    "from graph_context_dataset import FeatureEngineeredDataset\n",
    "import warnings\n",
    "%load_ext autoreload\n",
    "%autoreload 2"
   ]
  },
  {
   "cell_type": "markdown",
   "id": "166b22dd",
   "metadata": {},
   "source": [
    "Make sure to specify which dataset to use\n",
    "\n",
    " - dataset_original\n",
    " - dataset_drop_noise\n",
    " - dataset_smote"
   ]
  },
  {
   "cell_type": "code",
   "execution_count": 2,
   "id": "f6565cbb",
   "metadata": {},
   "outputs": [],
   "source": [
    "dataset_path = \"dataset_original\"\n",
    "# dataset_path = \"dataset_drop_noise\"\n",
    "# dataset_path = \"dataset_smote\""
   ]
  },
  {
   "cell_type": "markdown",
   "id": "4a1470c3",
   "metadata": {},
   "source": [
    "<h3> Declare functions"
   ]
  },
  {
   "cell_type": "code",
   "execution_count": 3,
   "id": "3a68406d",
   "metadata": {},
   "outputs": [],
   "source": [
    "class MyNetwork(nn.Module):\n",
    "    def __init__(self, input_dim, hidden_dims, output_dim, dropout_rate):\n",
    "        super(MyNetwork, self).__init__()\n",
    "        self.fc1 = nn.Linear(input_dim, hidden_dims[0])\n",
    "        self.activation1 = nn.ReLU()\n",
    "        self.fc2 = nn.Linear(hidden_dims[0], hidden_dims[1])\n",
    "        self.activation2 = nn.ReLU()\n",
    "        self.dropout = nn.Dropout(dropout_rate)\n",
    "        self.fc3 = nn.Linear(hidden_dims[1], output_dim)\n",
    "\n",
    "    def forward(self, x):\n",
    "        x = self.fc1(x)\n",
    "        x = self.activation1(x)\n",
    "        x = self.fc2(x)\n",
    "        x = self.activation2(x)\n",
    "        x = self.dropout(x)\n",
    "        x = self.fc3(x)\n",
    "        return x"
   ]
  },
  {
   "cell_type": "code",
   "execution_count": 4,
   "id": "6a4fb045",
   "metadata": {
    "code_folding": [
     0,
     9,
     18,
     21,
     24,
     27
    ]
   },
   "outputs": [],
   "source": [
    "class FCLayer(nn.Module):\n",
    "    def __init__(self, input_dim, output_dim):\n",
    "        super(FCLayer, self).__init__()\n",
    "        self.fc = nn.Linear(input_dim, output_dim)\n",
    "\n",
    "    def forward(self, x):\n",
    "        x = self.fc(x)\n",
    "        return x\n",
    "\n",
    "class ActivationLayer(nn.Module):\n",
    "    def __init__(self, activation_fn):\n",
    "        super(ActivationLayer, self).__init__()\n",
    "        self.activation_fn = activation_fn\n",
    "\n",
    "    def forward(self, x):\n",
    "        x = self.activation_fn(x)\n",
    "        return x\n",
    "\n",
    "def tanh(x):\n",
    "    return torch.tanh(x)\n",
    "\n",
    "def sigmoid(x):\n",
    "    return torch.sigmoid(x)\n",
    "# loss function and its derivative\n",
    "def mse(y_true, y_pred):\n",
    "    return np.mean(np.power(y_true - y_pred, 2))\n",
    "\n",
    "def mse_prime(y_true, y_pred):\n",
    "    return 2 * (y_pred - y_true) / y_true.size\n"
   ]
  },
  {
   "cell_type": "code",
   "execution_count": 5,
   "id": "246bf76e",
   "metadata": {
    "code_folding": [
     0
    ]
   },
   "outputs": [],
   "source": [
    "def oversample_data(X_train, Y_train, num_classes):\n",
    "    # Determine the class with the maximum number of instances\n",
    "    max_class_count = np.max(np.bincount(Y_train))\n",
    "    # Generate indices for oversampling each class\n",
    "    indices_list = [np.where(Y_train == i)[0] for i in range(num_classes)]\n",
    "    # Oversample minority classes to match the count of the majority class\n",
    "    for i, indices in enumerate(indices_list):\n",
    "        if len(indices) < max_class_count:\n",
    "            # Calculate the number of instances to oversample for this class\n",
    "            num_to_oversample = max_class_count - len(indices)\n",
    "            # Randomly select instances with replacement to oversample\n",
    "            oversampled_indices = np.random.choice(indices, size=num_to_oversample, replace=True)\n",
    "            # Append the oversampled instances to the original data\n",
    "            X_train = np.concatenate((X_train, X_train[oversampled_indices]), axis=0)\n",
    "            Y_train = np.concatenate((Y_train, Y_train[oversampled_indices]), axis=0)\n",
    "    return torch.tensor(X_train), torch.tensor(Y_train)\n"
   ]
  },
  {
   "cell_type": "code",
   "execution_count": 6,
   "id": "8349606b",
   "metadata": {
    "code_folding": [
     0
    ]
   },
   "outputs": [],
   "source": [
    "def concatenate_tensors(tensor_list):\n",
    "    if not tensor_list:\n",
    "        raise ValueError(\"The tensor list is empty\")\n",
    "\n",
    "    feature_dim = tensor_list[0].shape[1]\n",
    "    for tensor in tensor_list:\n",
    "        if tensor.shape[1] != feature_dim:\n",
    "            raise ValueError(\"All tensors must have the same feature dimension\")\n",
    "    \n",
    "    concatenated_tensor = torch.cat(tensor_list, dim=0)\n",
    "    \n",
    "    return concatenated_tensor"
   ]
  },
  {
   "cell_type": "markdown",
   "id": "a7503aae",
   "metadata": {},
   "source": [
    "<h4> Import labels and label decoder"
   ]
  },
  {
   "cell_type": "code",
   "execution_count": 7,
   "id": "72c216ce",
   "metadata": {},
   "outputs": [],
   "source": [
    "file_path = \"data/dump/\" + dataset_path + \"/labels_train.pkl\"\n",
    "with open(file_path, 'rb') as file:\n",
    "    y_train = pickle.load(file)\n",
    "y_train = torch.tensor(y_train)\n",
    "\n",
    "file_path = \"data/dump/\" + dataset_path + \"/labels_test.pkl\"\n",
    "with open(file_path, 'rb') as file:\n",
    "    y_test = pickle.load(file)\n",
    "y_test = torch.tensor(y_test)\n",
    "\n",
    "file_path = \"data/dump/\" + dataset_path + \"/labels_dev.pkl\"\n",
    "with open(file_path, 'rb') as file:\n",
    "    y_val = pickle.load(file)\n",
    "y_val = torch.tensor(y_val)\n",
    "    \n",
    "file_path = 'data/dump/' + dataset_path + '/label_decoder.pkl'\n",
    "with open(file_path, 'rb') as file:\n",
    "    label_decoder = pickle.load(file)"
   ]
  },
  {
   "cell_type": "markdown",
   "id": "40f3e716",
   "metadata": {},
   "source": [
    "<h4> Import the CNNBiLSTM base-node outputs"
   ]
  },
  {
   "cell_type": "markdown",
   "id": "757c53ba",
   "metadata": {},
   "source": [
    "first we disregard the u' and directly train the h'"
   ]
  },
  {
   "cell_type": "code",
   "execution_count": 8,
   "id": "396cc340",
   "metadata": {},
   "outputs": [],
   "source": [
    "train_file_paths = [\n",
    "    \"embed/\" + dataset_path + \"/u_prime_BERT_train.pkl\",\n",
    "    \"embed/\" + dataset_path + \"/h_prime_BERT_DGCN_train.pkl\",\n",
    "    \"embed/\" + dataset_path + \"/h_prime_BERT_GATv1_train.pkl\",\n",
    "    \"embed/\" + dataset_path + \"/h_prime_BERT_GATv1_edgeAttr_train.pkl\",\n",
    "    \"embed/\" + dataset_path + \"/h_prime_BERT_GATv2_edgeAttr_train.pkl\",\n",
    "    \"embed/\" + dataset_path + \"/h_prime_BERT_RGAT_train.pkl\",\n",
    "    \"embed/\" + dataset_path + \"/h_prime_BERT-EGAT_train.pkl\",\n",
    "]\n",
    "\n",
    "test_file_paths = [\n",
    "    \"embed/\" + dataset_path + \"/u_prime_BERT_test.pkl\",\n",
    "    \"embed/\" + dataset_path + \"/h_prime_BERT_DGCN_test.pkl\",\n",
    "    \"embed/\" + dataset_path + \"/h_prime_BERT_GATv1_test.pkl\",\n",
    "    \"embed/\" + dataset_path + \"/h_prime_BERT_GATv1_edgeAttr_test.pkl\",\n",
    "    \"embed/\" + dataset_path + \"/h_prime_BERT_GATv2_edgeAttr_test.pkl\",\n",
    "    \"embed/\" + dataset_path + \"/h_prime_BERT_RGAT_test.pkl\",\n",
    "    \"embed/\" + dataset_path + \"/h_prime_BERT-EGAT_test.pkl\",\n",
    "]\n",
    "\n",
    "val_file_paths = [\n",
    "    \"embed/\" + dataset_path + \"/u_prime_BERT_dev.pkl\",\n",
    "    \"embed/\" + dataset_path + \"/h_prime_BERT_DGCN_dev.pkl\",\n",
    "    \"embed/\" + dataset_path + \"/h_prime_BERT_GATv1_dev.pkl\",\n",
    "    \"embed/\" + dataset_path + \"/h_prime_BERT_GATv1_edgeAttr_dev.pkl\",\n",
    "    \"embed/\" + dataset_path + \"/h_prime_BERT_GATv2_edgeAttr_dev.pkl\",\n",
    "    \"embed/\" + dataset_path + \"/h_prime_BERT_RGAT_dev.pkl\",\n",
    "    \"embed/\" + dataset_path + \"/h_prime_BERT-EGAT_dev.pkl\",\n",
    "]\n",
    "\n",
    "dictKey = {\n",
    "    0 : 'bert',\n",
    "    1 : 'bert-select-few',\n",
    "    2 : 'bert-select-mod',\n",
    "    3 : 'bert-select-more',\n",
    "    4 : 'dgcn',\n",
    "    5 : 'dgcn-select',\n",
    "    6 : 'gatv1',\n",
    "    7 : 'gatv1-select',\n",
    "    8 : 'gatv1-edge',\n",
    "    9 : 'gatv1-edge-select',\n",
    "    10 : 'gatv2-edge',\n",
    "    11 : 'gatv2-edge-select',\n",
    "    12 : 'rgat',\n",
    "    13 : 'rgat-select',\n",
    "    14 : 'egat',\n",
    "    15 : 'egat-select',\n",
    "    16 : 'bert-select-mod-dgcn',\n",
    "    17 : 'bert-select-mod-gatv1',\n",
    "    18 : 'bert-select-mod-gatv1-edge',\n",
    "    19 : 'bert-select-mod-gatv2-edge',\n",
    "    20 : 'bert-select-mod-rgat',\n",
    "    21 : 'bert-select-mod-egat',\n",
    "}"
   ]
  },
  {
   "cell_type": "markdown",
   "id": "80ff1721",
   "metadata": {},
   "source": [
    "<h4> Getting BERT and GAT outputs for all sets"
   ]
  },
  {
   "cell_type": "code",
   "execution_count": 9,
   "id": "0b0c4677",
   "metadata": {},
   "outputs": [],
   "source": [
    "trainFeaturesList = []\n",
    "testFeaturesList = []\n",
    "valFeaturesList = []"
   ]
  },
  {
   "cell_type": "code",
   "execution_count": 10,
   "id": "7e3426c4",
   "metadata": {},
   "outputs": [],
   "source": [
    "def concatenate_tensors(tensor_list):\n",
    "    return torch.cat(tensor_list, dim=0)\n",
    "\n",
    "for file_path in train_file_paths:\n",
    "    with open(file_path, 'rb') as file:\n",
    "        data = pickle.load(file)\n",
    "        if file_path != train_file_paths[-1]: \n",
    "            trainFeaturesList.append(concatenate_tensors(data))\n",
    "        else:\n",
    "            trainFeaturesList.append(data)\n",
    "            \n",
    "for file_path in test_file_paths:\n",
    "    with open(file_path, 'rb') as file:\n",
    "        data = pickle.load(file)\n",
    "        if file_path != test_file_paths[-1]: \n",
    "            testFeaturesList.append(concatenate_tensors(data))\n",
    "        else:\n",
    "            testFeaturesList.append(data)\n",
    "            \n",
    "for file_path in val_file_paths:\n",
    "    with open(file_path, 'rb') as file:\n",
    "        data = pickle.load(file)\n",
    "        if file_path != val_file_paths[-1]: \n",
    "            valFeaturesList.append(concatenate_tensors(data))\n",
    "        else:\n",
    "            valFeaturesList.append(data)"
   ]
  },
  {
   "cell_type": "markdown",
   "id": "875e7687",
   "metadata": {},
   "source": [
    "EDA"
   ]
  },
  {
   "cell_type": "code",
   "execution_count": 11,
   "id": "1e174164",
   "metadata": {
    "code_folding": [
     0
    ]
   },
   "outputs": [],
   "source": [
    "# # Checking the structure of graph\n",
    "# for n in range(10):\n",
    "#     tensor_data_np = tensor_utterances[n].detach().numpy()\n",
    "\n",
    "#     # Plot the data\n",
    "#     plt.figure(figsize=(10, 5))\n",
    "#     plt.plot(range(len(tensor_data_np)), tensor_data_np)\n",
    "#     plt.title('Line Graph of Tensor Data')\n",
    "#     plt.xlabel('Index')\n",
    "#     plt.ylabel('Value')\n",
    "#     plt.show()\n"
   ]
  },
  {
   "cell_type": "code",
   "execution_count": 12,
   "id": "479a3b1f",
   "metadata": {
    "code_folding": [
     0
    ]
   },
   "outputs": [],
   "source": [
    "# # Normalize the h' (1st GAT)\n",
    "# data = cherry_picked_nodes.detach().numpy()\n",
    "# data_normalized = data / np.linalg.norm(data, axis=1, keepdims=True)\n",
    "\n",
    "# # Compute pairwise cosine similarities\n",
    "# similarities = cosine_similarity(data_normalized)\n",
    "\n",
    "# # Print or analyze the similarity matrix\n",
    "# # print(similarities)\n",
    "# plt.hist(similarities.flatten(), bins=50, density=True)\n",
    "# plt.title('Distribution of Cosine Similarities')\n",
    "# plt.xlabel('Cosine Similarity')\n",
    "# plt.ylabel('Frequency')\n",
    "# plt.show()\n"
   ]
  },
  {
   "cell_type": "code",
   "execution_count": 13,
   "id": "6a070ce4",
   "metadata": {
    "code_folding": [
     0
    ]
   },
   "outputs": [],
   "source": [
    "# # Normalize the h' (2nd GAT)\n",
    "# data = all_node_feats.detach().numpy()\n",
    "# data_normalized = data / np.linalg.norm(data, axis=1, keepdims=True)\n",
    "\n",
    "# # Compute pairwise cosine similarities\n",
    "# similarities = cosine_similarity(data_normalized)\n",
    "\n",
    "# # Print or analyze the similarity matrix\n",
    "# # print(similarities)\n",
    "# plt.hist(similarities.flatten(), bins=50, density=True)\n",
    "# plt.title('Distribution of Cosine Similarities')\n",
    "# plt.xlabel('Cosine Similarity')\n",
    "# plt.ylabel('Frequency')\n",
    "# plt.show()\n"
   ]
  },
  {
   "cell_type": "code",
   "execution_count": 14,
   "id": "a43fa315",
   "metadata": {
    "code_folding": [
     0
    ]
   },
   "outputs": [],
   "source": [
    "# # Normalize the u' or updated_representations\n",
    "# data = tensor_utterances.detach().numpy()\n",
    "# data_normalized = data / np.linalg.norm(data, axis=1, keepdims=True)\n",
    "\n",
    "# # Compute pairwise cosine similarities\n",
    "# similarities = cosine_similarity(data_normalized)\n",
    "\n",
    "# plt.hist(similarities.flatten(), bins=50, density=True)\n",
    "# plt.title('Distribution of Cosine Similarities')\n",
    "# plt.xlabel('Cosine Similarity')\n",
    "# plt.ylabel('Frequency')\n",
    "# plt.show()\n"
   ]
  },
  {
   "cell_type": "markdown",
   "id": "40320052",
   "metadata": {},
   "source": [
    "<h3> Feature Selection and creating data combination for classifiers"
   ]
  },
  {
   "cell_type": "markdown",
   "id": "510f143f",
   "metadata": {},
   "source": [
    "Define select feature function"
   ]
  },
  {
   "cell_type": "code",
   "execution_count": 15,
   "id": "6501b577",
   "metadata": {
    "code_folding": [
     0,
     6
    ]
   },
   "outputs": [],
   "source": [
    "def get_norm_features(encoded_features):\n",
    "    scaler = MinMaxScaler()\n",
    "#       \"FeatureSelected+BERT+GAT: \", concatenatedRepresentationTrain2.shape, \"\\n\",\n",
    "    features_scaled = scaler.fit_transform(encoded_features)\n",
    "    return torch.tensor(features_scaled)\n",
    "\n",
    "def get_selected_features(encoded_features, labels, top_n):\n",
    "    if torch.is_tensor(encoded_features):\n",
    "        encoded_features = encoded_features.detach().cpu().numpy()\n",
    "    \n",
    "    scaler = MinMaxScaler()\n",
    "    features_scaled = scaler.fit_transform(encoded_features)\n",
    "\n",
    "    selector = SelectKBest(score_func=f_classif, k=100)\n",
    "\n",
    "    top_features_by_class = {}\n",
    "    top_scores = {}\n",
    "\n",
    "    for label in range(7):\n",
    "        # Create a binary mask indicating instances belonging to the current class\n",
    "        mask = (labels == label)\n",
    "\n",
    "        # SelectKBest with chi2 as the scoring function\n",
    "        selector = SelectKBest(score_func=chi2, k=top_n)  # Select top 20 features\n",
    "        selector.fit(features_scaled, mask)  # Fit SelectKBest to the data\n",
    "        # Get the indices of the top 20 features\n",
    "        top_features_indices = np.argsort(selector.scores_)[-top_n:]\n",
    "        scores = selector.scores_[top_features_indices]\n",
    "        # Store the indices in the dictionary\n",
    "        top_features_by_class[label] = top_features_indices\n",
    "        top_scores[label] = scores\n",
    "\n",
    "    concatenated_features_set = set()\n",
    "    for label, indices in top_features_by_class.items():\n",
    "        concatenated_features_set.update(indices)\n",
    "\n",
    "    concatenated_features_indices = list(concatenated_features_set)\n",
    "\n",
    "    concatenated_features_indices = np.array(concatenated_features_indices)\n",
    "\n",
    "    # Select the desired features\n",
    "    selected_features = encoded_features[:, concatenated_features_indices]\n",
    "#     print(selected_features.shape)\n",
    "    return selected_features, concatenated_features_indices"
   ]
  },
  {
   "cell_type": "code",
   "execution_count": 16,
   "id": "46d79a94",
   "metadata": {
    "code_folding": [
     0
    ]
   },
   "outputs": [],
   "source": [
    "# pca = PCA(n_components=2)\n",
    "# pca_result = pca.fit_transform(selected_features.detach().numpy())\n",
    "\n",
    "# # Plot the PCA result with color-coded labels\n",
    "# plt.figure(figsize=(8, 6))\n",
    "# for label in np.unique(Y_train):\n",
    "#     indices = Y_train == label\n",
    "#     plt.scatter(pca_result[indices, 0], pca_result[indices, 1], label=f'{label_decoder[label]}', alpha=0.5)\n",
    "#     plt.title('PCA Visualization of Selected Utterance Embeddings (Train) with Color-Coded Labels')\n",
    "#     plt.xlabel('Principal Component 1')\n",
    "#     plt.ylabel('Principal Component 2')\n",
    "#     plt.legend()\n",
    "#     plt.grid(True)\n",
    "#     plt.show()"
   ]
  },
  {
   "cell_type": "markdown",
   "id": "9891e235",
   "metadata": {},
   "source": [
    "3d plottly"
   ]
  },
  {
   "cell_type": "code",
   "execution_count": 17,
   "id": "efccc17d",
   "metadata": {
    "code_folding": [
     0
    ]
   },
   "outputs": [],
   "source": [
    "# X_train = selected_features\n",
    "# X_train = X_train / np.linalg.norm(X_train, axis=1, keepdims=True)\n",
    "# # Perform T-SNE dimensionality reduction\n",
    "# tsne = TSNE(n_components=3, random_state=42)\n",
    "# X_tsne = tsne.fit_transform(X_train)\n",
    "\n",
    "# # Create a Plotly scatter plot\n",
    "# fig = go.Figure(data=[go.Scatter3d(\n",
    "#     x=X_tsne[:, 0],\n",
    "#     y=X_tsne[:, 1],\n",
    "#     z=X_tsne[:, 2],\n",
    "#     mode='markers',\n",
    "#     marker=dict(\n",
    "#         size=3,\n",
    "#         color=Y_train,  # Assuming Y_train contains labels for coloring\n",
    "#         colorscale='Viridis',  # You can choose a different colorscale\n",
    "#         opacity=0.8\n",
    "#     )\n",
    "# )])\n",
    "\n",
    "# # Update layout\n",
    "# fig.update_layout(title='3D T-SNE Plot', autosize=False,\n",
    "#                   width=800, height=800)\n",
    "\n",
    "# # Show the plot\n",
    "# fig.show()"
   ]
  },
  {
   "cell_type": "code",
   "execution_count": 18,
   "id": "ca73f7e2",
   "metadata": {
    "code_folding": [
     0
    ]
   },
   "outputs": [],
   "source": [
    "# Save the plot as an HTML file\n",
    "# pio.write_html(fig, '3d_tsne_plot.html')"
   ]
  },
  {
   "cell_type": "markdown",
   "id": "0feaf772",
   "metadata": {},
   "source": [
    "Now prepare the data that will be ued to train the classifier, there are 20 combinations. And pick top 7 combinations yielding top F1 weighted-score"
   ]
  },
  {
   "cell_type": "code",
   "execution_count": 21,
   "id": "61905fb7",
   "metadata": {
    "code_folding": []
   },
   "outputs": [],
   "source": [
    "trainList = []\n",
    "testList = []\n",
    "valList = []\n",
    "\n",
    "file_path1 = \"data/dump/\" + dataset_path + \"/BERT_data_for_classifier/trainList.pkl\"\n",
    "file_path2 = \"data/dump/\" + dataset_path + \"/BERT_data_for_classifier/testList.pkl\"\n",
    "file_path3 = \"data/dump/\" + dataset_path + \"/BERT_data_for_classifier/valList.pkl\"\n",
    "\n",
    "checkFile1 = os.path.isfile(file_path1)\n",
    "checkFile2 = os.path.isfile(file_path2)\n",
    "checkFile3 = os.path.isfile(file_path3)\n",
    "\n",
    "if checkFile1 and checkFile2 and checkFile3: \n",
    "    with open(file_path1, \"rb\") as file:\n",
    "        trainList = pickle.load(file)\n",
    "    with open(file_path2, \"rb\") as file:\n",
    "        testList = pickle.load(file)\n",
    "    with open(file_path3, \"rb\") as file:\n",
    "        valList = pickle.load(file)\n",
    "else:\n",
    "    trainFeaturesList.append(data)\n",
    "    #1\n",
    "    trainList.append(trainFeaturesList[0])\n",
    "    testList.append(testFeaturesList[0])\n",
    "    valList.append(valFeaturesList[0])\n",
    "    #2\n",
    "    selectedTrainFeatures1a, indicesFeatures1a = get_selected_features(trainFeaturesList[0], y_train, 16)\n",
    "    selectedTestFeatures1a = testFeaturesList[0][:, indicesFeatures1a]\n",
    "    selectedValFeatures1a = valFeaturesList[0][:, indicesFeatures1a]\n",
    "    trainList.append(selectedTrainFeatures1a)\n",
    "    testList.append(selectedTestFeatures1a)\n",
    "    valList.append(selectedValFeatures1a)\n",
    "    #3\n",
    "    selectedTrainFeatures1b, indicesFeatures1b = get_selected_features(trainFeaturesList[0], y_train, 32)\n",
    "    selectedTestFeatures1b = testFeaturesList[0][:, indicesFeatures1b]\n",
    "    selectedValFeatures1b = valFeaturesList[0][:, indicesFeatures1b]\n",
    "    trainList.append(selectedTrainFeatures1b)\n",
    "    testList.append(selectedTestFeatures1b)\n",
    "    valList.append(selectedValFeatures1b)\n",
    "    #4\n",
    "    selectedTrainFeatures1c, indicesFeatures1c = get_selected_features(trainFeaturesList[0], y_train, 64)\n",
    "    selectedTestFeatures1c = testFeaturesList[0][:, indicesFeatures1c]\n",
    "    selectedValFeatures1c = valFeaturesList[0][:, indicesFeatures1c]\n",
    "    trainList.append(selectedTrainFeatures1c)\n",
    "    testList.append(selectedTestFeatures1c)\n",
    "    valList.append(selectedValFeatures1c)\n",
    "    #5\n",
    "    trainList.append(trainFeaturesList[1])\n",
    "    testList.append(testFeaturesList[1])\n",
    "    valList.append(valFeaturesList[1])\n",
    "    #6\n",
    "    selectedTrainFeatures2, indicesFeatures2 = get_selected_features(trainFeaturesList[1], y_train, 12)\n",
    "    selectedTestFeatures2 = testFeaturesList[1][:, indicesFeatures2]\n",
    "    selectedValFeatures2 = valFeaturesList[1][:, indicesFeatures2]\n",
    "    trainList.append(selectedTrainFeatures2)\n",
    "    testList.append(selectedTestFeatures2)\n",
    "    valList.append(selectedValFeatures2)\n",
    "    #7\n",
    "    trainList.append(trainFeaturesList[2])\n",
    "    testList.append(testFeaturesList[2])\n",
    "    valList.append(valFeaturesList[2])\n",
    "    #8\n",
    "    selectedTrainFeatures3, indicesFeatures3 = get_selected_features(trainFeaturesList[2], y_train, 12)\n",
    "    selectedTestFeatures3 = testFeaturesList[2][:, indicesFeatures3]\n",
    "    selectedValFeatures3 = valFeaturesList[2][:, indicesFeatures3]\n",
    "    trainList.append(selectedTrainFeatures3)\n",
    "    testList.append(selectedTestFeatures3)\n",
    "    valList.append(selectedValFeatures3)\n",
    "    #9\n",
    "    trainList.append(trainFeaturesList[3])\n",
    "    testList.append(testFeaturesList[3])\n",
    "    valList.append(valFeaturesList[3])\n",
    "    #10\n",
    "    selectedTrainFeatures4, indicesFeatures4 = get_selected_features(trainFeaturesList[3], y_train, 12)\n",
    "    selectedTestFeatures4 = testFeaturesList[3][:, indicesFeatures4]\n",
    "    selectedValFeatures4 = valFeaturesList[3][:, indicesFeatures4]\n",
    "    trainList.append(selectedTrainFeatures4)\n",
    "    testList.append(selectedTestFeatures4)\n",
    "    valList.append(selectedValFeatures4)\n",
    "    #11\n",
    "    trainList.append(trainFeaturesList[4])\n",
    "    testList.append(testFeaturesList[4])\n",
    "    valList.append(valFeaturesList[4])\n",
    "    #12\n",
    "    selectedTrainFeatures5, indicesFeatures5 = get_selected_features(trainFeaturesList[4], y_train, 12)\n",
    "    selectedTestFeatures5 = testFeaturesList[4][:, indicesFeatures5]\n",
    "    selectedValFeatures5 = valFeaturesList[4][:, indicesFeatures5]\n",
    "    trainList.append(selectedTrainFeatures5)\n",
    "    testList.append(selectedTestFeatures5)\n",
    "    valList.append(selectedValFeatures5)\n",
    "    #13\n",
    "    trainList.append(trainFeaturesList[5])\n",
    "    testList.append(testFeaturesList[5])\n",
    "    valList.append(valFeaturesList[5])\n",
    "    #14\n",
    "    selectedTrainFeatures6, indicesFeatures6 = get_selected_features(trainFeaturesList[5], y_train, 12)\n",
    "    selectedTestFeatures6 = testFeaturesList[5][:, indicesFeatures6]\n",
    "    selectedValFeatures6 = valFeaturesList[5][:, indicesFeatures6]\n",
    "    trainList.append(selectedTrainFeatures6)\n",
    "    testList.append(selectedTestFeatures6)\n",
    "    valList.append(selectedValFeatures6)\n",
    "    #15\n",
    "    trainList.append(trainFeaturesList[6])\n",
    "    testList.append(testFeaturesList[6])\n",
    "    valList.append(valFeaturesList[6])\n",
    "    #16\n",
    "    selectedTrainFeatures7, indicesFeatures7 = get_selected_features(trainFeaturesList[6][0], y_train, 12)\n",
    "    selectedTestFeatures7 = testFeaturesList[6][0][:, indicesFeatures7]\n",
    "    selectedValFeatures7 = testFeaturesList[6][0][:, indicesFeatures7]\n",
    "    trainList.append(selectedTrainFeatures7)\n",
    "    testList.append(selectedTestFeatures7)\n",
    "    valList.append(selectedValFeatures7)\n",
    "    selectedNormTrainFeatures1 = get_norm_features(selectedTrainFeatures1b)\n",
    "    selectedNormTestFeatures1 = get_norm_features(selectedTestFeatures1b)\n",
    "    selectedNormValFeatures1 = get_norm_features(selectedValFeatures1b)\n",
    "\n",
    "    #17\n",
    "    trainNormFeatures2 = get_norm_features(trainFeaturesList[1].detach().numpy())\n",
    "    testNormFeatures2 = get_norm_features(testFeaturesList[1].detach().numpy())\n",
    "    valNormFeatures2 = get_norm_features(valFeaturesList[1].detach().numpy())\n",
    "    concatenatedTrainFeatures2 = torch.cat((selectedNormTrainFeatures1, trainNormFeatures2), dim=1)\n",
    "    concatenatedTestFeatures2 = torch.cat((selectedNormTestFeatures1, testNormFeatures2), dim=1)\n",
    "    concatenatedValFeatures2 = torch.cat((selectedNormValFeatures1, valNormFeatures2), dim=1)\n",
    "    trainList.append(concatenatedTrainFeatures2)\n",
    "    testList.append(concatenatedTestFeatures2)\n",
    "    valList.append(concatenatedValFeatures2)\n",
    "    #18\n",
    "    trainNormFeatures3 = get_norm_features(trainFeaturesList[2].detach().numpy())\n",
    "    testNormFeatures3 = get_norm_features(testFeaturesList[2].detach().numpy())\n",
    "    valNormFeatures3 = get_norm_features(valFeaturesList[2].detach().numpy())\n",
    "    concatenatedTrainFeatures3 = torch.cat((selectedNormTrainFeatures1, trainNormFeatures3), dim=1)\n",
    "    concatenatedTestFeatures3 = torch.cat((selectedNormTestFeatures1, testNormFeatures3), dim=1)\n",
    "    concatenatedValFeatures3 = torch.cat((selectedNormValFeatures1, valNormFeatures3), dim=1)\n",
    "    trainList.append(concatenatedTrainFeatures3)\n",
    "    testList.append(concatenatedTestFeatures3)\n",
    "    valList.append(concatenatedValFeatures3)\n",
    "    #19\n",
    "    trainNormFeatures4 = get_norm_features(trainFeaturesList[3].detach().numpy())\n",
    "    testNormFeatures4 = get_norm_features(testFeaturesList[3].detach().numpy())\n",
    "    valNormFeatures4 = get_norm_features(valFeaturesList[3].detach().numpy())\n",
    "    concatenatedTrainFeatures4 = torch.cat((selectedNormTrainFeatures1, trainNormFeatures4), dim=1)\n",
    "    concatenatedTestFeatures4 = torch.cat((selectedNormTestFeatures1, testNormFeatures4), dim=1)\n",
    "    concatenatedValFeatures4 = torch.cat((selectedNormValFeatures1, valNormFeatures4), dim=1)\n",
    "    trainList.append(concatenatedTrainFeatures4)\n",
    "    testList.append(concatenatedTestFeatures4)\n",
    "    valList.append(concatenatedValFeatures4)\n",
    "    #20\n",
    "    trainNormFeatures5 = get_norm_features(trainFeaturesList[4].detach().numpy())\n",
    "    testNormFeatures5 = get_norm_features(testFeaturesList[4].detach().numpy())\n",
    "    valNormFeatures5 = get_norm_features(valFeaturesList[4].detach().numpy())\n",
    "    concatenatedTrainFeatures5 = torch.cat((selectedNormTrainFeatures1, trainNormFeatures5), dim=1)\n",
    "    concatenatedTestFeatures5 = torch.cat((selectedNormTestFeatures1, testNormFeatures5), dim=1)\n",
    "    concatenatedValFeatures5 = torch.cat((selectedNormValFeatures1, valNormFeatures5), dim=1)\n",
    "    trainList.append(concatenatedTrainFeatures5)\n",
    "    testList.append(concatenatedTestFeatures5)\n",
    "    valList.append(concatenatedValFeatures5)\n",
    "\n",
    "    #21\n",
    "    trainNormFeatures6 = get_norm_features(trainFeaturesList[5].detach().numpy())\n",
    "    testNormFeatures6 = get_norm_features(testFeaturesList[5].detach().numpy())\n",
    "    valNormFeatures6 = get_norm_features(valFeaturesList[5].detach().numpy())\n",
    "    concatenatedTrainFeatures6 = torch.cat((selectedNormTrainFeatures1, trainNormFeatures6), dim=1)\n",
    "    concatenatedTestFeatures6 = torch.cat((selectedNormTestFeatures1, testNormFeatures6), dim=1)\n",
    "    concatenatedValFeatures6 = torch.cat((selectedNormValFeatures1, valNormFeatures6), dim=1)\n",
    "    trainList.append(concatenatedTrainFeatures6)\n",
    "    testList.append(concatenatedTestFeatures6)\n",
    "    valList.append(concatenatedValFeatures6)\n",
    "\n",
    "    #22\n",
    "    trainNormFeatures7 = get_norm_features(trainFeaturesList[6][0].detach().numpy())\n",
    "    testNormFeatures7 = get_norm_features(testFeaturesList[6][0].detach().numpy())\n",
    "    valNormFeatures7 = get_norm_features(valFeaturesList[6][0].detach().numpy())\n",
    "    concatenatedTrainFeatures7 = torch.cat((selectedNormTrainFeatures1, trainNormFeatures7), dim=1)\n",
    "    concatenatedTestFeatures7 = torch.cat((selectedNormTestFeatures1, testNormFeatures7), dim=1)\n",
    "    concatenatedValFeatures7 = torch.cat((selectedNormValFeatures1, valNormFeatures7), dim=1)\n",
    "    trainList.append(concatenatedTrainFeatures7)\n",
    "    testList.append(concatenatedTestFeatures7)\n",
    "    valList.append(concatenatedValFeatures7)\n",
    "\n",
    "    with open(file_path1, 'wb') as file:\n",
    "        pickle.dump(trainList, file)\n",
    "    with open(file_path2, 'wb') as file:\n",
    "        pickle.dump(testList, file)\n",
    "    with open(file_path3, 'wb') as file:\n",
    "        pickle.dump(valList, file)"
   ]
  },
  {
   "cell_type": "markdown",
   "id": "265dc4c4",
   "metadata": {},
   "source": [
    "1. Prep data - normalize and create data loader"
   ]
  },
  {
   "cell_type": "code",
   "execution_count": 55,
   "id": "ebb893e7",
   "metadata": {
    "code_folding": []
   },
   "outputs": [],
   "source": [
    "def prep_data(features, labels, isOversample):\n",
    "    num_instances = len(features)\n",
    "    num_classes = 7\n",
    "\n",
    "    # Rescale input features\n",
    "    # selected_features = concatenated_representation / np.linalg.norm(concatenated_representation, axis=1, keepdims=True)\n",
    "\n",
    "    # Apply data resampling (oversampling) to balance class distribution\n",
    "    if isOversample:\n",
    "        X_set, Y_set = oversample_data(features, labels, num_classes)\n",
    "    else:\n",
    "        X_set, Y_set = features, labels\n",
    "\n",
    "    # Calculate class weights for class weighting\n",
    "#     class_counts = np.bincount(labels)\n",
    "#     total_instances = np.sum(class_counts)\n",
    "    # class_weights = torch.tensor([total_instances / (num_classes * count) for count in class_counts], dtype=torch.float32)\n",
    "\n",
    "    # Convert data to PyTorch tensors\n",
    "    X_tensor = torch.tensor(X_set.clone().detach(), dtype=torch.float32).clone().detach()\n",
    "    Y_tensor = torch.tensor(Y_set.clone().detach(), dtype=torch.long).clone().detach()\n",
    "    # print(X_train_tensor.shape, Y_train_tensor.shape)\n",
    "    # X_train_tensor = torch.tensor(selected_features)\n",
    "    # Y_train_tensor = torch.tensor(y_train)\n",
    "\n",
    "    unique_labels, label_counts = np.unique(Y_set, return_counts=True)\n",
    "\n",
    "    # Print the counts for each unique label\n",
    "#     for label, count in zip(unique_labels, label_counts):\n",
    "#         print(f\"Label {label_decoder[label]}: {count} occurrences\")\n",
    "\n",
    "#     print(X_tensor.shape, Y_tensor.shape)\n",
    "    # Create a TensorDataset\n",
    "    dataset = TensorDataset(X_tensor, Y_tensor)\n",
    "\n",
    "    return X_tensor, Y_tensor"
   ]
  },
  {
   "cell_type": "markdown",
   "id": "861ebf30",
   "metadata": {},
   "source": [
    "2. Training"
   ]
  },
  {
   "cell_type": "code",
   "execution_count": 51,
   "id": "9a71c886",
   "metadata": {
    "code_folding": [
     0
    ]
   },
   "outputs": [],
   "source": [
    "def model_train1(X_set, Y_set, num_epochs=20, batch_size=64, loss_difference_threshold=0.01):\n",
    "    hidden_dims = [256, 128]  # Hidden layer dimensions\n",
    "    output_dim = 7  # Number of classes\n",
    "    dropout_rate = 0.5  # Dropout rate for regularization\n",
    "    # Initialize the model\n",
    "    model = MyNetwork(len(X_set[0]), hidden_dims, output_dim, dropout_rate)\n",
    "    # Define loss function and optimizer\n",
    "    criterion = nn.CrossEntropyLoss()\n",
    "    optimizer = optim.Adam(model.parameters(), lr=0.0001)\n",
    "    # Lists to store loss and accuracy for plotting\n",
    "    loss_history = []\n",
    "    accuracy_history = []\n",
    "    # Train the model\n",
    "    print_interval = 1  # Print tqdm every epoch\n",
    "    previous_loss = float('inf')\n",
    "    for epoch in range(num_epochs):\n",
    "        total_loss = 0.0\n",
    "        correct_predictions = 0\n",
    "        total_instances = 0\n",
    "        # Use tqdm for progress tracking\n",
    "        with tqdm(total=len(X_set), desc=f'Epoch {epoch+1}/{num_epochs}', leave=False) as pbar:\n",
    "            for inputs, labels in zip(X_set, Y_set):\n",
    "                inputs = torch.tensor(inputs.clone().detach(), dtype=torch.float32)\n",
    "                labels = torch.tensor(labels.clone().detach(), dtype=torch.long)\n",
    "                # Forward pass\n",
    "                outputs = model(inputs)\n",
    "                # Flatten the outputs and labels if necessary\n",
    "                outputs = outputs.squeeze()\n",
    "                labels = labels.squeeze()\n",
    "                # Calculate loss\n",
    "                loss = criterion(outputs, labels)\n",
    "                # Backward and optimize\n",
    "                optimizer.zero_grad()\n",
    "                loss.backward()\n",
    "                optimizer.step()\n",
    "                # Update metrics\n",
    "                total_loss += loss.item()\n",
    "                _, predicted = torch.max(outputs, dim=0)  # Use dim=0 for single output\n",
    "                correct_predictions += (predicted == labels).sum().item()\n",
    "                total_instances += 1\n",
    "                pbar.update(1)\n",
    "\n",
    "        # Calculate epoch loss and accuracy\n",
    "        epoch_loss = total_loss / total_instances\n",
    "        epoch_accuracy = correct_predictions / total_instances\n",
    "        loss_history.append(epoch_loss)\n",
    "        accuracy_history.append(epoch_accuracy)\n",
    "\n",
    "        # Print average loss and accuracy per epoch\n",
    "#         print(f'Epoch [{epoch+1}/{num_epochs}], Loss: {epoch_loss:.4f}, Accuracy: {epoch_accuracy:.4f}')\n",
    "\n",
    "        # Check if difference in loss exceeds threshold\n",
    "        if epoch > 0 and abs(epoch_loss - previous_loss) < loss_difference_threshold:\n",
    "#             print(f'Training terminated early at epoch {epoch+1} due to small change in loss')\n",
    "            break\n",
    "\n",
    "        previous_loss = epoch_loss\n",
    "\n",
    "    # Plot loss and accuracy over epochs\n",
    "#     plt.figure(figsize=(10, 5))\n",
    "#     plt.subplot(1, 2, 1)\n",
    "#     plt.plot(loss_history, label='Loss')\n",
    "#     plt.xlabel('Epoch')\n",
    "#     plt.ylabel('Loss')\n",
    "#     plt.title('Loss Over Epochs')\n",
    "#     plt.legend()\n",
    "\n",
    "#     plt.subplot(1, 2, 2)\n",
    "#     plt.plot(accuracy_history, label='Accuracy')\n",
    "#     plt.xlabel('Epoch')\n",
    "#     plt.ylabel('Accuracy')\n",
    "#     plt.title('Accuracy Over Epochs')\n",
    "#     plt.legend()\n",
    "\n",
    "#     plt.tight_layout()\n",
    "#     plt.show()\n",
    "\n",
    "    return model"
   ]
  },
  {
   "cell_type": "code",
   "execution_count": 52,
   "id": "635c4f57",
   "metadata": {
    "code_folding": [
     0
    ]
   },
   "outputs": [],
   "source": [
    "def model_train2(X_set, y_set, num_epochs=20, batch_size=128, early_stopping_threshold=0.01):\n",
    "    input_dim = len(X_set[0])  # Size of the input features\n",
    "    hidden_dim = 128  # Size of the hidden layer, this could be tuned\n",
    "    output_dim = 7  # Number of classes\n",
    "    dropout_prob = 0.5  # Dropout probability\n",
    "\n",
    "    model = FCClassifier(input_dim, hidden_dim, output_dim, dropout_prob)\n",
    "#     print(model)\n",
    "\n",
    "    criterion = nn.CrossEntropyLoss()\n",
    "    optimizer = optim.Adam(model.parameters(), lr=0.0005)\n",
    "\n",
    "    # Create DataLoader for batching\n",
    "    dataset = TensorDataset(X_set, y_set)\n",
    "    dataloader = DataLoader(dataset, batch_size=batch_size, shuffle=True)\n",
    "\n",
    "    epoch_losses = []  # List to store loss values for each epoch\n",
    "\n",
    "    # Training loop\n",
    "    for epoch in range(num_epochs):\n",
    "        model.train()\n",
    "        running_loss = 0.0\n",
    "\n",
    "        # Use tqdm for the progress bar\n",
    "        with tqdm(dataloader, unit=\"batch\") as tepoch:\n",
    "            for batch_features, batch_labels in tepoch:\n",
    "                tepoch.set_description(f\"Epoch {epoch+1}/{num_epochs}\")\n",
    "\n",
    "                # Zero the parameter gradients\n",
    "                optimizer.zero_grad()\n",
    "\n",
    "                # Forward pass\n",
    "                outputs = model(batch_features)\n",
    "                loss = criterion(outputs, batch_labels)\n",
    "\n",
    "                # Backward pass and optimize\n",
    "                loss.backward()\n",
    "                optimizer.step()\n",
    "\n",
    "                # Update running loss\n",
    "                running_loss += loss.item()\n",
    "                tepoch.set_postfix(loss=loss.item())\n",
    "\n",
    "        # Calculate and store average loss for the epoch\n",
    "        epoch_loss = running_loss / len(dataloader)\n",
    "        epoch_losses.append(epoch_loss)\n",
    "#         print(f\"Epoch {epoch+1} finished with average loss: {epoch_loss:.4f}\")\n",
    "\n",
    "        # Check for early stopping\n",
    "        if epoch > 0 and abs(epoch_losses[-2] - epoch_losses[-1]) < early_stopping_threshold:\n",
    "#             print(f\"Early stopping at epoch {epoch+1} due to minimal loss improvement\")\n",
    "            break\n",
    "\n",
    "#     print('Finished Training')\n",
    "\n",
    "    # Plot line graph of loss over epochs\n",
    "#     plt.figure(figsize=(10, 5))\n",
    "#     plt.plot(range(1, len(epoch_losses) + 1), epoch_losses, marker='o', linestyle='-')\n",
    "#     plt.xlabel('Epoch')\n",
    "#     plt.ylabel('Loss')\n",
    "#     plt.title('Loss Over Epochs')\n",
    "#     plt.grid(True)\n",
    "#     plt.show()\n",
    "\n",
    "    return model"
   ]
  },
  {
   "cell_type": "code",
   "execution_count": 53,
   "id": "b435c98b",
   "metadata": {
    "code_folding": []
   },
   "outputs": [],
   "source": [
    "def classify_emotions(model, X_tensor, Y_tensor, isTrain, isSimpleFC, idx):\n",
    "    # Set the model to evaluation mode\n",
    "    model.eval()\n",
    "\n",
    "    # Predict on the data\n",
    "    with torch.no_grad():\n",
    "        outputs = model(X_tensor)\n",
    "        _, predicted = torch.max(outputs, 1)\n",
    "\n",
    "    # Convert predicted tensor to numpy array\n",
    "    predicted = predicted.cpu().numpy()\n",
    "    Y_tensor = Y_tensor.cpu().numpy()\n",
    "\n",
    "    # Calculate classification report\n",
    "    report = classification_report(Y_tensor, predicted, target_names=label_decoder.values(), output_dict=True, zero_division=0)\n",
    "\n",
    "    # Extract metrics\n",
    "    accuracy = report['accuracy']\n",
    "    recall = report['weighted avg']['recall']\n",
    "    weighted_f1 = report['weighted avg']['f1-score']\n",
    "    f1_micro = report.get('micro avg', {}).get('f1-score', accuracy)  # Use accuracy as a fallback\n",
    "    f1_macro = report.get('macro avg', {}).get('f1-score', 0.0)  # Default to 0.0 if not present\n",
    "\n",
    "    return dictKey[idx], isTrain, isSimpleFC, accuracy, recall, weighted_f1, f1_micro, f1_macro\n"
   ]
  },
  {
   "cell_type": "code",
   "execution_count": 26,
   "id": "52d8752b",
   "metadata": {},
   "outputs": [],
   "source": [
    "dataset = FeatureEngineeredDataset(trainList, testList, valList)\n",
    "dataLoader = DataLoader(dataset, batch_size=1, shuffle=False)"
   ]
  },
  {
   "cell_type": "code",
   "execution_count": 60,
   "id": "5b35df7e",
   "metadata": {
    "code_folding": []
   },
   "outputs": [
    {
     "name": "stderr",
     "output_type": "stream",
     "text": [
      "\r",
      "Encoding Progress:   0%|                                                                     | 0/22 [00:00<?, ?batch/s]"
     ]
    },
    {
     "name": "stdout",
     "output_type": "stream",
     "text": [
      "0 <class 'torch.Tensor'>\n",
      "torch.Size([12840, 768])\n",
      "1 <class 'torch.Tensor'>\n",
      "torch.Size([12840, 87])\n",
      "2 <class 'torch.Tensor'>\n",
      "torch.Size([12840, 159])\n",
      "3 <class 'torch.Tensor'>\n",
      "torch.Size([12840, 287])\n",
      "4 <class 'torch.Tensor'>\n",
      "torch.Size([12840, 64])\n",
      "5 <class 'torch.Tensor'>\n",
      "torch.Size([12840, 30])\n",
      "6 <class 'torch.Tensor'>\n",
      "torch.Size([12840, 64])\n",
      "7 <class 'torch.Tensor'>\n",
      "torch.Size([12840, 46])\n",
      "8 <class 'torch.Tensor'>\n",
      "torch.Size([12840, 64])\n",
      "9 <class 'torch.Tensor'>\n",
      "torch.Size([12840, 44])\n",
      "10 <class 'torch.Tensor'>\n",
      "torch.Size([12840, 64])\n",
      "11 <class 'torch.Tensor'>\n",
      "torch.Size([12840, 45])\n",
      "12 <class 'torch.Tensor'>\n",
      "torch.Size([12840, 64])\n",
      "13 <class 'torch.Tensor'>\n",
      "torch.Size([12840, 45])\n"
     ]
    },
    {
     "name": "stderr",
     "output_type": "stream",
     "text": [
      "Encoding Progress: 100%|████████████████████████████████████████████████████████████| 22/22 [00:00<00:00, 58.45batch/s]"
     ]
    },
    {
     "name": "stdout",
     "output_type": "stream",
     "text": [
      "14 <class 'list'>\n",
      "<class 'torch.Tensor'>\n",
      "torch.Size([1, 12840, 64])\n",
      "15 <class 'torch.Tensor'>\n",
      "torch.Size([12840, 40])\n",
      "16 <class 'torch.Tensor'>\n",
      "torch.Size([12840, 223])\n",
      "17 <class 'torch.Tensor'>\n",
      "torch.Size([12840, 223])\n",
      "18 <class 'torch.Tensor'>\n",
      "torch.Size([12840, 223])\n",
      "19 <class 'torch.Tensor'>\n",
      "torch.Size([12840, 223])\n",
      "20 <class 'torch.Tensor'>\n",
      "torch.Size([12840, 223])\n",
      "21 <class 'torch.Tensor'>\n",
      "torch.Size([12840, 223])\n"
     ]
    },
    {
     "name": "stderr",
     "output_type": "stream",
     "text": [
      "\n"
     ]
    }
   ],
   "source": [
    "i = 0\n",
    "for trainSet, testSet, valSet in tqdm(dataLoader, desc=\"Encoding Progress\", unit=\"batch\"):\n",
    "    print(i, type(trainSet))\n",
    "    if isinstance(trainSet, list):\n",
    "        print(type(trainSet[0]))\n",
    "        sample = trainSet[0]\n",
    "        print(sample.shape)\n",
    "    else:\n",
    "        print(trainSet.squeeze(0).shape)\n",
    "    i = i+1"
   ]
  },
  {
   "cell_type": "code",
   "execution_count": 87,
   "id": "3c6a93e4",
   "metadata": {
    "code_folding": []
   },
   "outputs": [],
   "source": [
    "file_path = \"data/dump/\" + dataset_path + \"/BERT_data_for_classifier/results/classifier_test_no_tuning_Df.pkl\"\n",
    "checkFile = os.path.isfile(file_path)\n",
    "\n",
    "if checkFile: \n",
    "    with open(file_path, \"rb\") as file:\n",
    "        df_results_sorted = pickle.load(file)\n",
    "else:\n",
    "    results = []\n",
    "    num_epochs = 50\n",
    "    batch_size = 64\n",
    "    i = 0\n",
    "\n",
    "    for trainSet, testSet, valSet in dataLoader:\n",
    "        if isinstance(trainSet, list):\n",
    "            trainSet = trainSet[0].squeeze(0)\n",
    "            testSet = testSet[0].squeeze(0)\n",
    "            valSet = valSet[0].squeeze(0)\n",
    "        else:\n",
    "            trainSet = trainSet.squeeze(0)\n",
    "            testSet = testSet.squeeze(0)\n",
    "            valSet = valSet.squeeze(0)\n",
    "\n",
    "        X_tensor, Y_tensor = prep_data(trainSet.clone().detach(), y_train, False)\n",
    "        model = model_train1(X_tensor, Y_tensor, num_epochs, batch_size)\n",
    "        result = classify_emotions(model, X_tensor.clone().detach(), Y_tensor.clone().detach(), True, False, i)\n",
    "        results.append(result)\n",
    "\n",
    "        X_tensor, Y_tensor = prep_data(testSet.clone().detach(), y_test, False)\n",
    "        result = classify_emotions(model, X_tensor.clone().detach(), Y_tensor.clone().detach(), False, False, i)\n",
    "        results.append(result)\n",
    "\n",
    "        i += 1\n",
    "\n",
    "    i = 0\n",
    "    for trainSet, testSet, valSet in dataLoader:\n",
    "        if isinstance(trainSet, list):\n",
    "            trainSet = trainSet[0].squeeze(0)\n",
    "            testSet = testSet[0].squeeze(0)\n",
    "            valSet = valSet[0].squeeze(0)\n",
    "        else:\n",
    "            trainSet = trainSet.squeeze(0)\n",
    "            testSet = testSet.squeeze(0)\n",
    "            valSet = valSet.squeeze(0)\n",
    "\n",
    "        X_tensor, Y_tensor = prep_data(trainSet, y_train, False)\n",
    "        model = model_train2(X_tensor, Y_tensor, num_epochs, batch_size)\n",
    "        result = classify_emotions(model, X_tensor, Y_tensor, True, True, i)\n",
    "        results.append(result)\n",
    "\n",
    "        X_tensor, Y_tensor = prep_data(testSet, y_test, False)\n",
    "        result = classify_emotions(model, X_tensor, Y_tensor, False, True, i)\n",
    "        results.append(result)\n",
    "        i += 1\n",
    "\n",
    "    columns = ['data_combination', 'isTrain', 'isDeepFC', 'Accuracy', 'Recall', 'Weighted-F1', 'F1-micro', 'F1-macro']\n",
    "    df = pd.DataFrame(results, columns=columns)\n",
    "    df_results_sorted = df.sort_values(by='Weighted-F1', ascending=False)\n",
    "\n",
    "    with open(file_path, 'wb') as file:\n",
    "        pickle.dump(df_results_sorted, file)"
   ]
  },
  {
   "cell_type": "code",
   "execution_count": 88,
   "id": "ed1d0610",
   "metadata": {},
   "outputs": [
    {
     "data": {
      "text/html": [
       "<div>\n",
       "<style scoped>\n",
       "    .dataframe tbody tr th:only-of-type {\n",
       "        vertical-align: middle;\n",
       "    }\n",
       "\n",
       "    .dataframe tbody tr th {\n",
       "        vertical-align: top;\n",
       "    }\n",
       "\n",
       "    .dataframe thead th {\n",
       "        text-align: right;\n",
       "    }\n",
       "</style>\n",
       "<table border=\"1\" class=\"dataframe\">\n",
       "  <thead>\n",
       "    <tr style=\"text-align: right;\">\n",
       "      <th></th>\n",
       "      <th>data_combination</th>\n",
       "      <th>isTrain</th>\n",
       "      <th>isDeepFC</th>\n",
       "      <th>Accuracy</th>\n",
       "      <th>Recall</th>\n",
       "      <th>Weighted-F1</th>\n",
       "      <th>F1-micro</th>\n",
       "      <th>F1-macro</th>\n",
       "    </tr>\n",
       "  </thead>\n",
       "  <tbody>\n",
       "    <tr>\n",
       "      <th>22</th>\n",
       "      <td>bert</td>\n",
       "      <td>False</td>\n",
       "      <td>True</td>\n",
       "      <td>0.619706</td>\n",
       "      <td>0.619706</td>\n",
       "      <td>0.572623</td>\n",
       "      <td>0.619706</td>\n",
       "      <td>0.337923</td>\n",
       "    </tr>\n",
       "    <tr>\n",
       "      <th>25</th>\n",
       "      <td>bert-select-more</td>\n",
       "      <td>False</td>\n",
       "      <td>True</td>\n",
       "      <td>0.614118</td>\n",
       "      <td>0.614118</td>\n",
       "      <td>0.569297</td>\n",
       "      <td>0.614118</td>\n",
       "      <td>0.337338</td>\n",
       "    </tr>\n",
       "    <tr>\n",
       "      <th>2</th>\n",
       "      <td>bert-select-mod</td>\n",
       "      <td>False</td>\n",
       "      <td>False</td>\n",
       "      <td>0.572353</td>\n",
       "      <td>0.572353</td>\n",
       "      <td>0.560681</td>\n",
       "      <td>0.572353</td>\n",
       "      <td>0.388670</td>\n",
       "    </tr>\n",
       "    <tr>\n",
       "      <th>20</th>\n",
       "      <td>bert-select-mod-rgat</td>\n",
       "      <td>False</td>\n",
       "      <td>False</td>\n",
       "      <td>0.608529</td>\n",
       "      <td>0.608529</td>\n",
       "      <td>0.557835</td>\n",
       "      <td>0.608529</td>\n",
       "      <td>0.319851</td>\n",
       "    </tr>\n",
       "    <tr>\n",
       "      <th>24</th>\n",
       "      <td>bert-select-mod</td>\n",
       "      <td>False</td>\n",
       "      <td>True</td>\n",
       "      <td>0.611176</td>\n",
       "      <td>0.611176</td>\n",
       "      <td>0.557144</td>\n",
       "      <td>0.611176</td>\n",
       "      <td>0.320935</td>\n",
       "    </tr>\n",
       "    <tr>\n",
       "      <th>16</th>\n",
       "      <td>bert-select-mod-dgcn</td>\n",
       "      <td>False</td>\n",
       "      <td>False</td>\n",
       "      <td>0.603529</td>\n",
       "      <td>0.603529</td>\n",
       "      <td>0.557021</td>\n",
       "      <td>0.603529</td>\n",
       "      <td>0.319695</td>\n",
       "    </tr>\n",
       "    <tr>\n",
       "      <th>3</th>\n",
       "      <td>bert-select-more</td>\n",
       "      <td>False</td>\n",
       "      <td>False</td>\n",
       "      <td>0.565294</td>\n",
       "      <td>0.565294</td>\n",
       "      <td>0.555539</td>\n",
       "      <td>0.565294</td>\n",
       "      <td>0.384001</td>\n",
       "    </tr>\n",
       "    <tr>\n",
       "      <th>19</th>\n",
       "      <td>bert-select-mod-gatv2-edge</td>\n",
       "      <td>False</td>\n",
       "      <td>False</td>\n",
       "      <td>0.602059</td>\n",
       "      <td>0.602059</td>\n",
       "      <td>0.554937</td>\n",
       "      <td>0.602059</td>\n",
       "      <td>0.316779</td>\n",
       "    </tr>\n",
       "    <tr>\n",
       "      <th>0</th>\n",
       "      <td>bert</td>\n",
       "      <td>False</td>\n",
       "      <td>False</td>\n",
       "      <td>0.580882</td>\n",
       "      <td>0.580882</td>\n",
       "      <td>0.553987</td>\n",
       "      <td>0.580882</td>\n",
       "      <td>0.388461</td>\n",
       "    </tr>\n",
       "    <tr>\n",
       "      <th>21</th>\n",
       "      <td>bert-select-mod-egat</td>\n",
       "      <td>False</td>\n",
       "      <td>False</td>\n",
       "      <td>0.604412</td>\n",
       "      <td>0.604412</td>\n",
       "      <td>0.552006</td>\n",
       "      <td>0.604412</td>\n",
       "      <td>0.312812</td>\n",
       "    </tr>\n",
       "    <tr>\n",
       "      <th>17</th>\n",
       "      <td>bert-select-mod-gatv1</td>\n",
       "      <td>False</td>\n",
       "      <td>False</td>\n",
       "      <td>0.597059</td>\n",
       "      <td>0.597059</td>\n",
       "      <td>0.547829</td>\n",
       "      <td>0.597059</td>\n",
       "      <td>0.312264</td>\n",
       "    </tr>\n",
       "    <tr>\n",
       "      <th>18</th>\n",
       "      <td>bert-select-mod-gatv1-edge</td>\n",
       "      <td>False</td>\n",
       "      <td>False</td>\n",
       "      <td>0.597353</td>\n",
       "      <td>0.597353</td>\n",
       "      <td>0.545752</td>\n",
       "      <td>0.597353</td>\n",
       "      <td>0.309229</td>\n",
       "    </tr>\n",
       "    <tr>\n",
       "      <th>41</th>\n",
       "      <td>bert-select-mod-gatv2-edge</td>\n",
       "      <td>False</td>\n",
       "      <td>True</td>\n",
       "      <td>0.596471</td>\n",
       "      <td>0.596471</td>\n",
       "      <td>0.541277</td>\n",
       "      <td>0.596471</td>\n",
       "      <td>0.301143</td>\n",
       "    </tr>\n",
       "    <tr>\n",
       "      <th>23</th>\n",
       "      <td>bert-select-few</td>\n",
       "      <td>False</td>\n",
       "      <td>True</td>\n",
       "      <td>0.598529</td>\n",
       "      <td>0.598529</td>\n",
       "      <td>0.540301</td>\n",
       "      <td>0.598529</td>\n",
       "      <td>0.306036</td>\n",
       "    </tr>\n",
       "    <tr>\n",
       "      <th>39</th>\n",
       "      <td>bert-select-mod-gatv1</td>\n",
       "      <td>False</td>\n",
       "      <td>True</td>\n",
       "      <td>0.576471</td>\n",
       "      <td>0.576471</td>\n",
       "      <td>0.535804</td>\n",
       "      <td>0.576471</td>\n",
       "      <td>0.304342</td>\n",
       "    </tr>\n",
       "    <tr>\n",
       "      <th>1</th>\n",
       "      <td>bert-select-few</td>\n",
       "      <td>False</td>\n",
       "      <td>False</td>\n",
       "      <td>0.542647</td>\n",
       "      <td>0.542647</td>\n",
       "      <td>0.531699</td>\n",
       "      <td>0.542647</td>\n",
       "      <td>0.343311</td>\n",
       "    </tr>\n",
       "    <tr>\n",
       "      <th>40</th>\n",
       "      <td>bert-select-mod-gatv1-edge</td>\n",
       "      <td>False</td>\n",
       "      <td>True</td>\n",
       "      <td>0.590882</td>\n",
       "      <td>0.590882</td>\n",
       "      <td>0.531242</td>\n",
       "      <td>0.590882</td>\n",
       "      <td>0.292999</td>\n",
       "    </tr>\n",
       "    <tr>\n",
       "      <th>43</th>\n",
       "      <td>bert-select-mod-egat</td>\n",
       "      <td>False</td>\n",
       "      <td>True</td>\n",
       "      <td>0.582941</td>\n",
       "      <td>0.582941</td>\n",
       "      <td>0.526418</td>\n",
       "      <td>0.582941</td>\n",
       "      <td>0.287667</td>\n",
       "    </tr>\n",
       "    <tr>\n",
       "      <th>38</th>\n",
       "      <td>bert-select-mod-dgcn</td>\n",
       "      <td>False</td>\n",
       "      <td>True</td>\n",
       "      <td>0.575882</td>\n",
       "      <td>0.575882</td>\n",
       "      <td>0.518642</td>\n",
       "      <td>0.575882</td>\n",
       "      <td>0.282778</td>\n",
       "    </tr>\n",
       "    <tr>\n",
       "      <th>42</th>\n",
       "      <td>bert-select-mod-rgat</td>\n",
       "      <td>False</td>\n",
       "      <td>True</td>\n",
       "      <td>0.574412</td>\n",
       "      <td>0.574412</td>\n",
       "      <td>0.510202</td>\n",
       "      <td>0.574412</td>\n",
       "      <td>0.272963</td>\n",
       "    </tr>\n",
       "    <tr>\n",
       "      <th>14</th>\n",
       "      <td>egat</td>\n",
       "      <td>False</td>\n",
       "      <td>False</td>\n",
       "      <td>0.528529</td>\n",
       "      <td>0.528529</td>\n",
       "      <td>0.457139</td>\n",
       "      <td>0.528529</td>\n",
       "      <td>0.233727</td>\n",
       "    </tr>\n",
       "    <tr>\n",
       "      <th>36</th>\n",
       "      <td>egat</td>\n",
       "      <td>False</td>\n",
       "      <td>True</td>\n",
       "      <td>0.529412</td>\n",
       "      <td>0.529412</td>\n",
       "      <td>0.447844</td>\n",
       "      <td>0.529412</td>\n",
       "      <td>0.221379</td>\n",
       "    </tr>\n",
       "    <tr>\n",
       "      <th>15</th>\n",
       "      <td>egat-select</td>\n",
       "      <td>False</td>\n",
       "      <td>False</td>\n",
       "      <td>0.517941</td>\n",
       "      <td>0.517941</td>\n",
       "      <td>0.445364</td>\n",
       "      <td>0.517941</td>\n",
       "      <td>0.222352</td>\n",
       "    </tr>\n",
       "    <tr>\n",
       "      <th>4</th>\n",
       "      <td>dgcn</td>\n",
       "      <td>False</td>\n",
       "      <td>False</td>\n",
       "      <td>0.506471</td>\n",
       "      <td>0.506471</td>\n",
       "      <td>0.433909</td>\n",
       "      <td>0.506471</td>\n",
       "      <td>0.218960</td>\n",
       "    </tr>\n",
       "    <tr>\n",
       "      <th>5</th>\n",
       "      <td>dgcn-select</td>\n",
       "      <td>False</td>\n",
       "      <td>False</td>\n",
       "      <td>0.505588</td>\n",
       "      <td>0.505588</td>\n",
       "      <td>0.424154</td>\n",
       "      <td>0.505588</td>\n",
       "      <td>0.208230</td>\n",
       "    </tr>\n",
       "    <tr>\n",
       "      <th>37</th>\n",
       "      <td>egat-select</td>\n",
       "      <td>False</td>\n",
       "      <td>True</td>\n",
       "      <td>0.512353</td>\n",
       "      <td>0.512353</td>\n",
       "      <td>0.406444</td>\n",
       "      <td>0.512353</td>\n",
       "      <td>0.180061</td>\n",
       "    </tr>\n",
       "    <tr>\n",
       "      <th>26</th>\n",
       "      <td>dgcn</td>\n",
       "      <td>False</td>\n",
       "      <td>True</td>\n",
       "      <td>0.503235</td>\n",
       "      <td>0.503235</td>\n",
       "      <td>0.385439</td>\n",
       "      <td>0.503235</td>\n",
       "      <td>0.167032</td>\n",
       "    </tr>\n",
       "    <tr>\n",
       "      <th>12</th>\n",
       "      <td>rgat</td>\n",
       "      <td>False</td>\n",
       "      <td>False</td>\n",
       "      <td>0.411176</td>\n",
       "      <td>0.411176</td>\n",
       "      <td>0.371826</td>\n",
       "      <td>0.411176</td>\n",
       "      <td>0.179918</td>\n",
       "    </tr>\n",
       "    <tr>\n",
       "      <th>8</th>\n",
       "      <td>gatv1-edge</td>\n",
       "      <td>False</td>\n",
       "      <td>False</td>\n",
       "      <td>0.487353</td>\n",
       "      <td>0.487353</td>\n",
       "      <td>0.338159</td>\n",
       "      <td>0.487353</td>\n",
       "      <td>0.120374</td>\n",
       "    </tr>\n",
       "    <tr>\n",
       "      <th>9</th>\n",
       "      <td>gatv1-edge-select</td>\n",
       "      <td>False</td>\n",
       "      <td>False</td>\n",
       "      <td>0.485588</td>\n",
       "      <td>0.485588</td>\n",
       "      <td>0.335682</td>\n",
       "      <td>0.485588</td>\n",
       "      <td>0.117665</td>\n",
       "    </tr>\n",
       "    <tr>\n",
       "      <th>10</th>\n",
       "      <td>gatv2-edge</td>\n",
       "      <td>False</td>\n",
       "      <td>False</td>\n",
       "      <td>0.482353</td>\n",
       "      <td>0.482353</td>\n",
       "      <td>0.328756</td>\n",
       "      <td>0.482353</td>\n",
       "      <td>0.113045</td>\n",
       "    </tr>\n",
       "    <tr>\n",
       "      <th>7</th>\n",
       "      <td>gatv1-select</td>\n",
       "      <td>False</td>\n",
       "      <td>False</td>\n",
       "      <td>0.482941</td>\n",
       "      <td>0.482941</td>\n",
       "      <td>0.326085</td>\n",
       "      <td>0.482941</td>\n",
       "      <td>0.109554</td>\n",
       "    </tr>\n",
       "    <tr>\n",
       "      <th>11</th>\n",
       "      <td>gatv2-edge-select</td>\n",
       "      <td>False</td>\n",
       "      <td>False</td>\n",
       "      <td>0.480588</td>\n",
       "      <td>0.480588</td>\n",
       "      <td>0.324227</td>\n",
       "      <td>0.480588</td>\n",
       "      <td>0.109468</td>\n",
       "    </tr>\n",
       "    <tr>\n",
       "      <th>6</th>\n",
       "      <td>gatv1</td>\n",
       "      <td>False</td>\n",
       "      <td>False</td>\n",
       "      <td>0.479412</td>\n",
       "      <td>0.479412</td>\n",
       "      <td>0.319755</td>\n",
       "      <td>0.479412</td>\n",
       "      <td>0.104093</td>\n",
       "    </tr>\n",
       "    <tr>\n",
       "      <th>27</th>\n",
       "      <td>dgcn-select</td>\n",
       "      <td>False</td>\n",
       "      <td>True</td>\n",
       "      <td>0.475000</td>\n",
       "      <td>0.475000</td>\n",
       "      <td>0.318463</td>\n",
       "      <td>0.475000</td>\n",
       "      <td>0.102941</td>\n",
       "    </tr>\n",
       "    <tr>\n",
       "      <th>30</th>\n",
       "      <td>gatv1-edge</td>\n",
       "      <td>False</td>\n",
       "      <td>True</td>\n",
       "      <td>0.477941</td>\n",
       "      <td>0.477941</td>\n",
       "      <td>0.314310</td>\n",
       "      <td>0.477941</td>\n",
       "      <td>0.099726</td>\n",
       "    </tr>\n",
       "    <tr>\n",
       "      <th>31</th>\n",
       "      <td>gatv1-edge-select</td>\n",
       "      <td>False</td>\n",
       "      <td>True</td>\n",
       "      <td>0.476176</td>\n",
       "      <td>0.476176</td>\n",
       "      <td>0.309237</td>\n",
       "      <td>0.476176</td>\n",
       "      <td>0.094965</td>\n",
       "    </tr>\n",
       "    <tr>\n",
       "      <th>13</th>\n",
       "      <td>rgat-select</td>\n",
       "      <td>False</td>\n",
       "      <td>False</td>\n",
       "      <td>0.475588</td>\n",
       "      <td>0.475588</td>\n",
       "      <td>0.307402</td>\n",
       "      <td>0.475588</td>\n",
       "      <td>0.093244</td>\n",
       "    </tr>\n",
       "    <tr>\n",
       "      <th>28</th>\n",
       "      <td>gatv1</td>\n",
       "      <td>False</td>\n",
       "      <td>True</td>\n",
       "      <td>0.475588</td>\n",
       "      <td>0.475588</td>\n",
       "      <td>0.307226</td>\n",
       "      <td>0.475588</td>\n",
       "      <td>0.093196</td>\n",
       "    </tr>\n",
       "    <tr>\n",
       "      <th>33</th>\n",
       "      <td>gatv2-edge-select</td>\n",
       "      <td>False</td>\n",
       "      <td>True</td>\n",
       "      <td>0.475294</td>\n",
       "      <td>0.475294</td>\n",
       "      <td>0.306580</td>\n",
       "      <td>0.475294</td>\n",
       "      <td>0.092604</td>\n",
       "    </tr>\n",
       "    <tr>\n",
       "      <th>34</th>\n",
       "      <td>rgat</td>\n",
       "      <td>False</td>\n",
       "      <td>True</td>\n",
       "      <td>0.475000</td>\n",
       "      <td>0.475000</td>\n",
       "      <td>0.305932</td>\n",
       "      <td>0.475000</td>\n",
       "      <td>0.092010</td>\n",
       "    </tr>\n",
       "    <tr>\n",
       "      <th>32</th>\n",
       "      <td>gatv2-edge</td>\n",
       "      <td>False</td>\n",
       "      <td>True</td>\n",
       "      <td>0.475000</td>\n",
       "      <td>0.475000</td>\n",
       "      <td>0.305932</td>\n",
       "      <td>0.475000</td>\n",
       "      <td>0.092010</td>\n",
       "    </tr>\n",
       "    <tr>\n",
       "      <th>29</th>\n",
       "      <td>gatv1-select</td>\n",
       "      <td>False</td>\n",
       "      <td>True</td>\n",
       "      <td>0.475000</td>\n",
       "      <td>0.475000</td>\n",
       "      <td>0.305932</td>\n",
       "      <td>0.475000</td>\n",
       "      <td>0.092010</td>\n",
       "    </tr>\n",
       "    <tr>\n",
       "      <th>35</th>\n",
       "      <td>rgat-select</td>\n",
       "      <td>False</td>\n",
       "      <td>True</td>\n",
       "      <td>0.475000</td>\n",
       "      <td>0.475000</td>\n",
       "      <td>0.305932</td>\n",
       "      <td>0.475000</td>\n",
       "      <td>0.092010</td>\n",
       "    </tr>\n",
       "  </tbody>\n",
       "</table>\n",
       "</div>"
      ],
      "text/plain": [
       "              data_combination  isTrain  isDeepFC  Accuracy    Recall  \\\n",
       "22                        bert    False      True  0.619706  0.619706   \n",
       "25            bert-select-more    False      True  0.614118  0.614118   \n",
       "2              bert-select-mod    False     False  0.572353  0.572353   \n",
       "20        bert-select-mod-rgat    False     False  0.608529  0.608529   \n",
       "24             bert-select-mod    False      True  0.611176  0.611176   \n",
       "16        bert-select-mod-dgcn    False     False  0.603529  0.603529   \n",
       "3             bert-select-more    False     False  0.565294  0.565294   \n",
       "19  bert-select-mod-gatv2-edge    False     False  0.602059  0.602059   \n",
       "0                         bert    False     False  0.580882  0.580882   \n",
       "21        bert-select-mod-egat    False     False  0.604412  0.604412   \n",
       "17       bert-select-mod-gatv1    False     False  0.597059  0.597059   \n",
       "18  bert-select-mod-gatv1-edge    False     False  0.597353  0.597353   \n",
       "41  bert-select-mod-gatv2-edge    False      True  0.596471  0.596471   \n",
       "23             bert-select-few    False      True  0.598529  0.598529   \n",
       "39       bert-select-mod-gatv1    False      True  0.576471  0.576471   \n",
       "1              bert-select-few    False     False  0.542647  0.542647   \n",
       "40  bert-select-mod-gatv1-edge    False      True  0.590882  0.590882   \n",
       "43        bert-select-mod-egat    False      True  0.582941  0.582941   \n",
       "38        bert-select-mod-dgcn    False      True  0.575882  0.575882   \n",
       "42        bert-select-mod-rgat    False      True  0.574412  0.574412   \n",
       "14                        egat    False     False  0.528529  0.528529   \n",
       "36                        egat    False      True  0.529412  0.529412   \n",
       "15                 egat-select    False     False  0.517941  0.517941   \n",
       "4                         dgcn    False     False  0.506471  0.506471   \n",
       "5                  dgcn-select    False     False  0.505588  0.505588   \n",
       "37                 egat-select    False      True  0.512353  0.512353   \n",
       "26                        dgcn    False      True  0.503235  0.503235   \n",
       "12                        rgat    False     False  0.411176  0.411176   \n",
       "8                   gatv1-edge    False     False  0.487353  0.487353   \n",
       "9            gatv1-edge-select    False     False  0.485588  0.485588   \n",
       "10                  gatv2-edge    False     False  0.482353  0.482353   \n",
       "7                 gatv1-select    False     False  0.482941  0.482941   \n",
       "11           gatv2-edge-select    False     False  0.480588  0.480588   \n",
       "6                        gatv1    False     False  0.479412  0.479412   \n",
       "27                 dgcn-select    False      True  0.475000  0.475000   \n",
       "30                  gatv1-edge    False      True  0.477941  0.477941   \n",
       "31           gatv1-edge-select    False      True  0.476176  0.476176   \n",
       "13                 rgat-select    False     False  0.475588  0.475588   \n",
       "28                       gatv1    False      True  0.475588  0.475588   \n",
       "33           gatv2-edge-select    False      True  0.475294  0.475294   \n",
       "34                        rgat    False      True  0.475000  0.475000   \n",
       "32                  gatv2-edge    False      True  0.475000  0.475000   \n",
       "29                gatv1-select    False      True  0.475000  0.475000   \n",
       "35                 rgat-select    False      True  0.475000  0.475000   \n",
       "\n",
       "    Weighted-F1  F1-micro  F1-macro  \n",
       "22     0.572623  0.619706  0.337923  \n",
       "25     0.569297  0.614118  0.337338  \n",
       "2      0.560681  0.572353  0.388670  \n",
       "20     0.557835  0.608529  0.319851  \n",
       "24     0.557144  0.611176  0.320935  \n",
       "16     0.557021  0.603529  0.319695  \n",
       "3      0.555539  0.565294  0.384001  \n",
       "19     0.554937  0.602059  0.316779  \n",
       "0      0.553987  0.580882  0.388461  \n",
       "21     0.552006  0.604412  0.312812  \n",
       "17     0.547829  0.597059  0.312264  \n",
       "18     0.545752  0.597353  0.309229  \n",
       "41     0.541277  0.596471  0.301143  \n",
       "23     0.540301  0.598529  0.306036  \n",
       "39     0.535804  0.576471  0.304342  \n",
       "1      0.531699  0.542647  0.343311  \n",
       "40     0.531242  0.590882  0.292999  \n",
       "43     0.526418  0.582941  0.287667  \n",
       "38     0.518642  0.575882  0.282778  \n",
       "42     0.510202  0.574412  0.272963  \n",
       "14     0.457139  0.528529  0.233727  \n",
       "36     0.447844  0.529412  0.221379  \n",
       "15     0.445364  0.517941  0.222352  \n",
       "4      0.433909  0.506471  0.218960  \n",
       "5      0.424154  0.505588  0.208230  \n",
       "37     0.406444  0.512353  0.180061  \n",
       "26     0.385439  0.503235  0.167032  \n",
       "12     0.371826  0.411176  0.179918  \n",
       "8      0.338159  0.487353  0.120374  \n",
       "9      0.335682  0.485588  0.117665  \n",
       "10     0.328756  0.482353  0.113045  \n",
       "7      0.326085  0.482941  0.109554  \n",
       "11     0.324227  0.480588  0.109468  \n",
       "6      0.319755  0.479412  0.104093  \n",
       "27     0.318463  0.475000  0.102941  \n",
       "30     0.314310  0.477941  0.099726  \n",
       "31     0.309237  0.476176  0.094965  \n",
       "13     0.307402  0.475588  0.093244  \n",
       "28     0.307226  0.475588  0.093196  \n",
       "33     0.306580  0.475294  0.092604  \n",
       "34     0.305932  0.475000  0.092010  \n",
       "32     0.305932  0.475000  0.092010  \n",
       "29     0.305932  0.475000  0.092010  \n",
       "35     0.305932  0.475000  0.092010  "
      ]
     },
     "execution_count": 88,
     "metadata": {},
     "output_type": "execute_result"
    }
   ],
   "source": [
    "df_results_sorted"
   ]
  },
  {
   "cell_type": "code",
   "execution_count": null,
   "id": "aa9ba4ed",
   "metadata": {},
   "outputs": [],
   "source": []
  },
  {
   "cell_type": "code",
   "execution_count": null,
   "id": "58e8a881",
   "metadata": {},
   "outputs": [],
   "source": []
  },
  {
   "cell_type": "code",
   "execution_count": null,
   "id": "73a65ecd",
   "metadata": {},
   "outputs": [],
   "source": []
  },
  {
   "cell_type": "code",
   "execution_count": null,
   "id": "7c5cf835",
   "metadata": {},
   "outputs": [],
   "source": []
  },
  {
   "cell_type": "code",
   "execution_count": null,
   "id": "9c9f3d43",
   "metadata": {},
   "outputs": [],
   "source": []
  },
  {
   "cell_type": "code",
   "execution_count": null,
   "id": "ea685eb8",
   "metadata": {},
   "outputs": [],
   "source": []
  },
  {
   "cell_type": "code",
   "execution_count": null,
   "id": "33895576",
   "metadata": {},
   "outputs": [],
   "source": []
  },
  {
   "cell_type": "code",
   "execution_count": null,
   "id": "83245e13",
   "metadata": {},
   "outputs": [],
   "source": []
  },
  {
   "cell_type": "code",
   "execution_count": null,
   "id": "6db757f6",
   "metadata": {},
   "outputs": [],
   "source": []
  },
  {
   "cell_type": "code",
   "execution_count": null,
   "id": "ac72afa3",
   "metadata": {},
   "outputs": [],
   "source": []
  },
  {
   "cell_type": "code",
   "execution_count": 164,
   "id": "98297c72",
   "metadata": {},
   "outputs": [
    {
     "name": "stderr",
     "output_type": "stream",
     "text": [
      "C:\\Users\\edayo\\AppData\\Local\\Temp\\ipykernel_11528\\2974198338.py:1: UserWarning: To copy construct from a tensor, it is recommended to use sourceTensor.clone().detach() or sourceTensor.clone().detach().requires_grad_(True), rather than torch.tensor(sourceTensor).\n",
      "  X_trainTensor, Y_trainTensor = prep_data(torch.tensor(concatenatedTrainFeatures2), y_train, False)\n",
      "C:\\Users\\edayo\\AppData\\Local\\Temp\\ipykernel_11528\\2151628629.py:20: UserWarning: To copy construct from a tensor, it is recommended to use sourceTensor.clone().detach() or sourceTensor.clone().detach().requires_grad_(True), rather than torch.tensor(sourceTensor).\n",
      "  X_tensor = torch.tensor(X_set.clone().detach(), dtype=torch.float32).clone().detach()\n",
      "C:\\Users\\edayo\\AppData\\Local\\Temp\\ipykernel_11528\\2151628629.py:21: UserWarning: To copy construct from a tensor, it is recommended to use sourceTensor.clone().detach() or sourceTensor.clone().detach().requires_grad_(True), rather than torch.tensor(sourceTensor).\n",
      "  Y_tensor = torch.tensor(Y_set.clone().detach(), dtype=torch.long).clone().detach()\n"
     ]
    },
    {
     "name": "stdout",
     "output_type": "stream",
     "text": [
      "Label anger: 1500 occurrences\n",
      "Label disgust: 364 occurrences\n",
      "Label fear: 338 occurrences\n",
      "Label joy: 2312 occurrences\n",
      "Label neutral: 5960 occurrences\n",
      "Label sadness: 876 occurrences\n",
      "Label surprise: 1490 occurrences\n",
      "torch.Size([12840, 216]) torch.Size([12840])\n"
     ]
    },
    {
     "name": "stderr",
     "output_type": "stream",
     "text": [
      "Epoch 1/40:   0%|                                                                            | 0/12840 [00:00<?, ?it/s]C:\\Users\\edayo\\AppData\\Local\\Temp\\ipykernel_11528\\3359458753.py:23: UserWarning: To copy construct from a tensor, it is recommended to use sourceTensor.clone().detach() or sourceTensor.clone().detach().requires_grad_(True), rather than torch.tensor(sourceTensor).\n",
      "  inputs = torch.tensor(inputs.clone().detach(), dtype=torch.float32)\n",
      "C:\\Users\\edayo\\AppData\\Local\\Temp\\ipykernel_11528\\3359458753.py:24: UserWarning: To copy construct from a tensor, it is recommended to use sourceTensor.clone().detach() or sourceTensor.clone().detach().requires_grad_(True), rather than torch.tensor(sourceTensor).\n",
      "  labels = torch.tensor(labels.clone().detach(), dtype=torch.long)\n",
      "                                                                                                                       \r"
     ]
    },
    {
     "name": "stdout",
     "output_type": "stream",
     "text": [
      "Epoch [1/40], Loss: 1.4639, Accuracy: 0.4911\n"
     ]
    },
    {
     "name": "stderr",
     "output_type": "stream",
     "text": [
      "                                                                                                                       \r"
     ]
    },
    {
     "name": "stdout",
     "output_type": "stream",
     "text": [
      "Epoch [2/40], Loss: 1.3191, Accuracy: 0.5537\n"
     ]
    },
    {
     "name": "stderr",
     "output_type": "stream",
     "text": [
      "                                                                                                                       \r"
     ]
    },
    {
     "name": "stdout",
     "output_type": "stream",
     "text": [
      "Epoch [3/40], Loss: 1.2660, Accuracy: 0.5734\n"
     ]
    },
    {
     "name": "stderr",
     "output_type": "stream",
     "text": [
      "                                                                                                                       \r"
     ]
    },
    {
     "name": "stdout",
     "output_type": "stream",
     "text": [
      "Epoch [4/40], Loss: 1.2486, Accuracy: 0.5776\n"
     ]
    },
    {
     "name": "stderr",
     "output_type": "stream",
     "text": [
      "                                                                                                                       \r"
     ]
    },
    {
     "name": "stdout",
     "output_type": "stream",
     "text": [
      "Epoch [5/40], Loss: 1.2335, Accuracy: 0.5843\n"
     ]
    },
    {
     "name": "stderr",
     "output_type": "stream",
     "text": [
      "                                                                                                                       \r"
     ]
    },
    {
     "name": "stdout",
     "output_type": "stream",
     "text": [
      "Epoch [6/40], Loss: 1.2221, Accuracy: 0.5913\n"
     ]
    },
    {
     "name": "stderr",
     "output_type": "stream",
     "text": [
      "                                                                                                                       \r"
     ]
    },
    {
     "name": "stdout",
     "output_type": "stream",
     "text": [
      "Epoch [7/40], Loss: 1.2141, Accuracy: 0.5933\n",
      "Training terminated early at epoch 7 due to small change in loss\n"
     ]
    },
    {
     "data": {
      "image/png": "[encoded data removed]",
      "text/plain": [
       "<Figure size 720x360 with 2 Axes>"
      ]
     },
     "metadata": {
      "needs_background": "light"
     },
     "output_type": "display_data"
    },
    {
     "name": "stdout",
     "output_type": "stream",
     "text": [
      "Class: anger\n",
      "Precision: 0.4482\n",
      "Recall: 0.3807\n",
      "F1 Score: 0.4117\n",
      "\n",
      "Class: disgust\n",
      "Precision: 0.0000\n",
      "Recall: 0.0000\n",
      "F1 Score: 0.0000\n",
      "\n",
      "Class: fear\n",
      "Precision: 0.0000\n",
      "Recall: 0.0000\n",
      "F1 Score: 0.0000\n",
      "\n",
      "Class: joy\n",
      "Precision: 0.6400\n",
      "Recall: 0.3707\n",
      "F1 Score: 0.4695\n",
      "\n",
      "Class: neutral\n",
      "Precision: 0.6157\n",
      "Recall: 0.9413\n",
      "F1 Score: 0.7445\n",
      "\n",
      "Class: sadness\n",
      "Precision: 0.2500\n",
      "Recall: 0.0011\n",
      "F1 Score: 0.0023\n",
      "\n",
      "Class: surprise\n",
      "Precision: 0.5998\n",
      "Recall: 0.4477\n",
      "F1 Score: 0.5127\n",
      "\n",
      "Class: macro avg\n",
      "Precision: 0.3648\n",
      "Recall: 0.3059\n",
      "F1 Score: 0.3058\n",
      "\n",
      "Class: weighted avg\n",
      "Precision: 0.5401\n",
      "Recall: 0.6002\n",
      "F1 Score: 0.5378\n",
      "\n",
      "Accuracy: 0.6002\n",
      "Weighted F1 Score: 0.5378\n",
      "Label anger: 516 occurrences\n",
      "Label disgust: 99 occurrences\n",
      "Label fear: 60 occurrences\n",
      "Label joy: 495 occurrences\n",
      "Label neutral: 1615 occurrences\n",
      "Label sadness: 263 occurrences\n",
      "Label surprise: 352 occurrences\n",
      "torch.Size([3400, 216]) torch.Size([3400])\n",
      "Class: anger\n",
      "Precision: 0.5023\n",
      "Recall: 0.4186\n",
      "F1 Score: 0.4567\n",
      "\n",
      "Class: disgust\n",
      "Precision: 0.0000\n",
      "Recall: 0.0000\n",
      "F1 Score: 0.0000\n",
      "\n",
      "Class: fear\n",
      "Precision: 0.0000\n",
      "Recall: 0.0000\n",
      "F1 Score: 0.0000\n",
      "\n",
      "Class: joy\n",
      "Precision: 0.5550\n",
      "Recall: 0.4788\n",
      "F1 Score: 0.5141\n",
      "\n",
      "Class: neutral\n",
      "Precision: 0.6757\n",
      "Recall: 0.8848\n",
      "F1 Score: 0.7662\n",
      "\n",
      "Class: sadness\n",
      "Precision: 0.5000\n",
      "Recall: 0.0038\n",
      "F1 Score: 0.0075\n",
      "\n",
      "Class: surprise\n",
      "Precision: 0.4648\n",
      "Recall: 0.5625\n",
      "F1 Score: 0.5090\n",
      "\n",
      "Class: macro avg\n",
      "Precision: 0.3854\n",
      "Recall: 0.3355\n",
      "F1 Score: 0.3219\n",
      "\n",
      "Class: weighted avg\n",
      "Precision: 0.5648\n",
      "Recall: 0.6121\n",
      "F1 Score: 0.5614\n",
      "\n",
      "Accuracy: 0.6121\n",
      "Weighted F1 Score: 0.5614\n"
     ]
    },
    {
     "name": "stderr",
     "output_type": "stream",
     "text": [
      "C:\\Users\\edayo\\AppData\\Local\\Temp\\ipykernel_11528\\2974198338.py:6: UserWarning: To copy construct from a tensor, it is recommended to use sourceTensor.clone().detach() or sourceTensor.clone().detach().requires_grad_(True), rather than torch.tensor(sourceTensor).\n",
      "  X_testTensor, Y_testTensor = prep_data(torch.tensor(concatenatedTestFeatures2), y_test, False)\n",
      "C:\\Users\\edayo\\AppData\\Local\\Temp\\ipykernel_11528\\2151628629.py:20: UserWarning: To copy construct from a tensor, it is recommended to use sourceTensor.clone().detach() or sourceTensor.clone().detach().requires_grad_(True), rather than torch.tensor(sourceTensor).\n",
      "  X_tensor = torch.tensor(X_set.clone().detach(), dtype=torch.float32).clone().detach()\n",
      "C:\\Users\\edayo\\AppData\\Local\\Temp\\ipykernel_11528\\2151628629.py:21: UserWarning: To copy construct from a tensor, it is recommended to use sourceTensor.clone().detach() or sourceTensor.clone().detach().requires_grad_(True), rather than torch.tensor(sourceTensor).\n",
      "  Y_tensor = torch.tensor(Y_set.clone().detach(), dtype=torch.long).clone().detach()\n"
     ]
    }
   ],
   "source": [
    "X_trainTensor, Y_trainTensor = prep_data(torch.tensor(concatenatedTrainFeatures2), y_train, False)\n",
    "model = model_train1(X_trainTensor,Y_trainTensor, 40, 64)\n",
    "\n",
    "classify_emotions(model, X_trainTensor, Y_trainTensor, False)\n",
    "\n",
    "X_testTensor, Y_testTensor = prep_data(torch.tensor(concatenatedTestFeatures2), y_test, False)\n",
    "classify_emotions(model, X_testTensor, Y_testTensor, False)"
   ]
  },
  {
   "cell_type": "code",
   "execution_count": 165,
   "id": "2f8563a1",
   "metadata": {},
   "outputs": [
    {
     "name": "stderr",
     "output_type": "stream",
     "text": [
      "C:\\Users\\edayo\\AppData\\Local\\Temp\\ipykernel_11528\\396841405.py:1: UserWarning: To copy construct from a tensor, it is recommended to use sourceTensor.clone().detach() or sourceTensor.clone().detach().requires_grad_(True), rather than torch.tensor(sourceTensor).\n",
      "  X_trainTensor, Y_trainTensor = prep_data(torch.tensor(concatenatedTrainFeatures2), y_train, False)\n",
      "C:\\Users\\edayo\\AppData\\Local\\Temp\\ipykernel_11528\\2151628629.py:20: UserWarning: To copy construct from a tensor, it is recommended to use sourceTensor.clone().detach() or sourceTensor.clone().detach().requires_grad_(True), rather than torch.tensor(sourceTensor).\n",
      "  X_tensor = torch.tensor(X_set.clone().detach(), dtype=torch.float32).clone().detach()\n",
      "C:\\Users\\edayo\\AppData\\Local\\Temp\\ipykernel_11528\\2151628629.py:21: UserWarning: To copy construct from a tensor, it is recommended to use sourceTensor.clone().detach() or sourceTensor.clone().detach().requires_grad_(True), rather than torch.tensor(sourceTensor).\n",
      "  Y_tensor = torch.tensor(Y_set.clone().detach(), dtype=torch.long).clone().detach()\n"
     ]
    },
    {
     "name": "stdout",
     "output_type": "stream",
     "text": [
      "Label anger: 1500 occurrences\n",
      "Label disgust: 364 occurrences\n",
      "Label fear: 338 occurrences\n",
      "Label joy: 2312 occurrences\n",
      "Label neutral: 5960 occurrences\n",
      "Label sadness: 876 occurrences\n",
      "Label surprise: 1490 occurrences\n",
      "torch.Size([12840, 216]) torch.Size([12840])\n"
     ]
    },
    {
     "name": "stderr",
     "output_type": "stream",
     "text": [
      "Epoch 1/40: 100%|█████████████████████████████████████████████████████| 201/201 [00:00<00:00, 214.09batch/s, loss=1.56]\n"
     ]
    },
    {
     "name": "stdout",
     "output_type": "stream",
     "text": [
      "Epoch 1 finished with average loss: 1.5491\n"
     ]
    },
    {
     "name": "stderr",
     "output_type": "stream",
     "text": [
      "Epoch 2/40: 100%|█████████████████████████████████████████████████████| 201/201 [00:00<00:00, 224.17batch/s, loss=1.48]\n"
     ]
    },
    {
     "name": "stdout",
     "output_type": "stream",
     "text": [
      "Epoch 2 finished with average loss: 1.4383\n"
     ]
    },
    {
     "name": "stderr",
     "output_type": "stream",
     "text": [
      "Epoch 3/40: 100%|█████████████████████████████████████████████████████| 201/201 [00:00<00:00, 226.43batch/s, loss=1.18]\n"
     ]
    },
    {
     "name": "stdout",
     "output_type": "stream",
     "text": [
      "Epoch 3 finished with average loss: 1.3811\n"
     ]
    },
    {
     "name": "stderr",
     "output_type": "stream",
     "text": [
      "Epoch 4/40: 100%|█████████████████████████████████████████████████████| 201/201 [00:01<00:00, 197.53batch/s, loss=1.08]\n"
     ]
    },
    {
     "name": "stdout",
     "output_type": "stream",
     "text": [
      "Epoch 4 finished with average loss: 1.3541\n"
     ]
    },
    {
     "name": "stderr",
     "output_type": "stream",
     "text": [
      "Epoch 5/40: 100%|█████████████████████████████████████████████████████| 201/201 [00:01<00:00, 190.93batch/s, loss=1.18]\n"
     ]
    },
    {
     "name": "stdout",
     "output_type": "stream",
     "text": [
      "Epoch 5 finished with average loss: 1.3236\n"
     ]
    },
    {
     "name": "stderr",
     "output_type": "stream",
     "text": [
      "Epoch 6/40: 100%|█████████████████████████████████████████████████████| 201/201 [00:01<00:00, 190.14batch/s, loss=1.23]\n"
     ]
    },
    {
     "name": "stdout",
     "output_type": "stream",
     "text": [
      "Epoch 6 finished with average loss: 1.3103\n"
     ]
    },
    {
     "name": "stderr",
     "output_type": "stream",
     "text": [
      "Epoch 7/40: 100%|█████████████████████████████████████████████████████| 201/201 [00:01<00:00, 191.56batch/s, loss=1.09]\n"
     ]
    },
    {
     "name": "stdout",
     "output_type": "stream",
     "text": [
      "Epoch 7 finished with average loss: 1.2886\n"
     ]
    },
    {
     "name": "stderr",
     "output_type": "stream",
     "text": [
      "Epoch 8/40: 100%|█████████████████████████████████████████████████████| 201/201 [00:01<00:00, 188.21batch/s, loss=1.39]\n"
     ]
    },
    {
     "name": "stdout",
     "output_type": "stream",
     "text": [
      "Epoch 8 finished with average loss: 1.2780\n"
     ]
    },
    {
     "name": "stderr",
     "output_type": "stream",
     "text": [
      "Epoch 9/40: 100%|██████████████████████████████████████████████████████| 201/201 [00:01<00:00, 190.70batch/s, loss=1.1]\n"
     ]
    },
    {
     "name": "stdout",
     "output_type": "stream",
     "text": [
      "Epoch 9 finished with average loss: 1.2714\n",
      "Early stopping at epoch 9 due to minimal loss improvement\n",
      "Finished Training\n"
     ]
    },
    {
     "data": {
      "image/png": "[encoded data removed]",
      "text/plain": [
       "<Figure size 720x360 with 1 Axes>"
      ]
     },
     "metadata": {
      "needs_background": "light"
     },
     "output_type": "display_data"
    },
    {
     "name": "stdout",
     "output_type": "stream",
     "text": [
      "Class: anger\n",
      "Precision: 0.4736\n",
      "Recall: 0.2273\n",
      "F1 Score: 0.3072\n",
      "\n",
      "Class: disgust\n",
      "Precision: 0.0000\n",
      "Recall: 0.0000\n",
      "F1 Score: 0.0000\n",
      "\n",
      "Class: fear\n",
      "Precision: 0.0000\n",
      "Recall: 0.0000\n",
      "F1 Score: 0.0000\n",
      "\n",
      "Class: joy\n",
      "Precision: 0.5404\n",
      "Recall: 0.4079\n",
      "F1 Score: 0.4649\n",
      "\n",
      "Class: neutral\n",
      "Precision: 0.6172\n",
      "Recall: 0.9334\n",
      "F1 Score: 0.7431\n",
      "\n",
      "Class: sadness\n",
      "Precision: 0.0000\n",
      "Recall: 0.0000\n",
      "F1 Score: 0.0000\n",
      "\n",
      "Class: surprise\n",
      "Precision: 0.4912\n",
      "Recall: 0.4490\n",
      "F1 Score: 0.4691\n",
      "\n",
      "Class: macro avg\n",
      "Precision: 0.3032\n",
      "Recall: 0.2882\n",
      "F1 Score: 0.2835\n",
      "\n",
      "Class: weighted avg\n",
      "Precision: 0.4961\n",
      "Recall: 0.5854\n",
      "F1 Score: 0.5190\n",
      "\n",
      "Accuracy: 0.5854\n",
      "Weighted F1 Score: 0.5190\n",
      "Label anger: 516 occurrences\n",
      "Label disgust: 99 occurrences\n",
      "Label fear: 60 occurrences\n",
      "Label joy: 495 occurrences\n",
      "Label neutral: 1615 occurrences\n",
      "Label sadness: 263 occurrences\n",
      "Label surprise: 352 occurrences\n",
      "torch.Size([3400, 216]) torch.Size([3400])\n",
      "Class: anger\n",
      "Precision: 0.5419\n",
      "Recall: 0.2384\n",
      "F1 Score: 0.3311\n",
      "\n",
      "Class: disgust\n",
      "Precision: 0.0000\n",
      "Recall: 0.0000\n",
      "F1 Score: 0.0000\n",
      "\n",
      "Class: fear\n",
      "Precision: 0.0000\n",
      "Recall: 0.0000\n",
      "F1 Score: 0.0000\n",
      "\n",
      "Class: joy\n",
      "Precision: 0.4379\n",
      "Recall: 0.5414\n",
      "F1 Score: 0.4842\n",
      "\n",
      "Class: neutral\n",
      "Precision: 0.6641\n",
      "Recall: 0.8972\n",
      "F1 Score: 0.7632\n",
      "\n",
      "Class: sadness\n",
      "Precision: 0.0000\n",
      "Recall: 0.0000\n",
      "F1 Score: 0.0000\n",
      "\n",
      "Class: surprise\n",
      "Precision: 0.4670\n",
      "Recall: 0.5028\n",
      "F1 Score: 0.4843\n",
      "\n",
      "Class: macro avg\n",
      "Precision: 0.3015\n",
      "Recall: 0.3114\n",
      "F1 Score: 0.2947\n",
      "\n",
      "Class: weighted avg\n",
      "Precision: 0.5098\n",
      "Recall: 0.5932\n",
      "F1 Score: 0.5334\n",
      "\n",
      "Accuracy: 0.5932\n",
      "Weighted F1 Score: 0.5334\n"
     ]
    },
    {
     "name": "stderr",
     "output_type": "stream",
     "text": [
      "C:\\Users\\edayo\\AppData\\Local\\Temp\\ipykernel_11528\\396841405.py:6: UserWarning: To copy construct from a tensor, it is recommended to use sourceTensor.clone().detach() or sourceTensor.clone().detach().requires_grad_(True), rather than torch.tensor(sourceTensor).\n",
      "  X_testTensor, Y_testTensor = prep_data(torch.tensor(concatenatedTestFeatures2), y_test, False)\n",
      "C:\\Users\\edayo\\AppData\\Local\\Temp\\ipykernel_11528\\2151628629.py:20: UserWarning: To copy construct from a tensor, it is recommended to use sourceTensor.clone().detach() or sourceTensor.clone().detach().requires_grad_(True), rather than torch.tensor(sourceTensor).\n",
      "  X_tensor = torch.tensor(X_set.clone().detach(), dtype=torch.float32).clone().detach()\n",
      "C:\\Users\\edayo\\AppData\\Local\\Temp\\ipykernel_11528\\2151628629.py:21: UserWarning: To copy construct from a tensor, it is recommended to use sourceTensor.clone().detach() or sourceTensor.clone().detach().requires_grad_(True), rather than torch.tensor(sourceTensor).\n",
      "  Y_tensor = torch.tensor(Y_set.clone().detach(), dtype=torch.long).clone().detach()\n"
     ]
    }
   ],
   "source": [
    "X_trainTensor, Y_trainTensor = prep_data(torch.tensor(concatenatedTrainFeatures2), y_train, False)\n",
    "model = model_train2(X_trainTensor,Y_trainTensor, 40, 64)\n",
    "\n",
    "classify_emotions(model, X_trainTensor, Y_trainTensor, False)\n",
    "\n",
    "X_testTensor, Y_testTensor = prep_data(torch.tensor(concatenatedTestFeatures2), y_test, False)\n",
    "classify_emotions(model, X_testTensor, Y_testTensor, False)"
   ]
  },
  {
   "cell_type": "code",
   "execution_count": null,
   "id": "8e10d5ef",
   "metadata": {},
   "outputs": [],
   "source": []
  },
  {
   "cell_type": "code",
   "execution_count": 168,
   "id": "6c3c823b",
   "metadata": {},
   "outputs": [
    {
     "name": "stderr",
     "output_type": "stream",
     "text": [
      "C:\\Users\\edayo\\AppData\\Local\\Temp\\ipykernel_11528\\3582582597.py:1: UserWarning: To copy construct from a tensor, it is recommended to use sourceTensor.clone().detach() or sourceTensor.clone().detach().requires_grad_(True), rather than torch.tensor(sourceTensor).\n",
      "  X_trainTensor, Y_trainTensor = prep_data(torch.tensor(concatenatedTrainFeatures5), y_train, False)\n",
      "C:\\Users\\edayo\\AppData\\Local\\Temp\\ipykernel_11528\\2151628629.py:20: UserWarning: To copy construct from a tensor, it is recommended to use sourceTensor.clone().detach() or sourceTensor.clone().detach().requires_grad_(True), rather than torch.tensor(sourceTensor).\n",
      "  X_tensor = torch.tensor(X_set.clone().detach(), dtype=torch.float32).clone().detach()\n",
      "C:\\Users\\edayo\\AppData\\Local\\Temp\\ipykernel_11528\\2151628629.py:21: UserWarning: To copy construct from a tensor, it is recommended to use sourceTensor.clone().detach() or sourceTensor.clone().detach().requires_grad_(True), rather than torch.tensor(sourceTensor).\n",
      "  Y_tensor = torch.tensor(Y_set.clone().detach(), dtype=torch.long).clone().detach()\n"
     ]
    },
    {
     "name": "stdout",
     "output_type": "stream",
     "text": [
      "Label anger: 1500 occurrences\n",
      "Label disgust: 364 occurrences\n",
      "Label fear: 338 occurrences\n",
      "Label joy: 2312 occurrences\n",
      "Label neutral: 5960 occurrences\n",
      "Label sadness: 876 occurrences\n",
      "Label surprise: 1490 occurrences\n",
      "torch.Size([12840, 222]) torch.Size([12840])\n"
     ]
    },
    {
     "name": "stderr",
     "output_type": "stream",
     "text": [
      "Epoch 1/40:   0%|                                                                            | 0/12840 [00:00<?, ?it/s]C:\\Users\\edayo\\AppData\\Local\\Temp\\ipykernel_11528\\3359458753.py:23: UserWarning: To copy construct from a tensor, it is recommended to use sourceTensor.clone().detach() or sourceTensor.clone().detach().requires_grad_(True), rather than torch.tensor(sourceTensor).\n",
      "  inputs = torch.tensor(inputs.clone().detach(), dtype=torch.float32)\n",
      "C:\\Users\\edayo\\AppData\\Local\\Temp\\ipykernel_11528\\3359458753.py:24: UserWarning: To copy construct from a tensor, it is recommended to use sourceTensor.clone().detach() or sourceTensor.clone().detach().requires_grad_(True), rather than torch.tensor(sourceTensor).\n",
      "  labels = torch.tensor(labels.clone().detach(), dtype=torch.long)\n",
      "                                                                                                                       \r"
     ]
    },
    {
     "name": "stdout",
     "output_type": "stream",
     "text": [
      "Epoch [1/40], Loss: 1.4612, Accuracy: 0.4917\n"
     ]
    },
    {
     "name": "stderr",
     "output_type": "stream",
     "text": [
      "                                                                                                                       \r"
     ]
    },
    {
     "name": "stdout",
     "output_type": "stream",
     "text": [
      "Epoch [2/40], Loss: 1.3253, Accuracy: 0.5513\n"
     ]
    },
    {
     "name": "stderr",
     "output_type": "stream",
     "text": [
      "                                                                                                                       \r"
     ]
    },
    {
     "name": "stdout",
     "output_type": "stream",
     "text": [
      "Epoch [3/40], Loss: 1.2747, Accuracy: 0.5707\n"
     ]
    },
    {
     "name": "stderr",
     "output_type": "stream",
     "text": [
      "                                                                                                                       \r"
     ]
    },
    {
     "name": "stdout",
     "output_type": "stream",
     "text": [
      "Epoch [4/40], Loss: 1.2493, Accuracy: 0.5787\n"
     ]
    },
    {
     "name": "stderr",
     "output_type": "stream",
     "text": [
      "                                                                                                                       \r"
     ]
    },
    {
     "name": "stdout",
     "output_type": "stream",
     "text": [
      "Epoch [5/40], Loss: 1.2367, Accuracy: 0.5862\n"
     ]
    },
    {
     "name": "stderr",
     "output_type": "stream",
     "text": [
      "                                                                                                                       \r"
     ]
    },
    {
     "name": "stdout",
     "output_type": "stream",
     "text": [
      "Epoch [6/40], Loss: 1.2254, Accuracy: 0.5897\n"
     ]
    },
    {
     "name": "stderr",
     "output_type": "stream",
     "text": [
      "                                                                                                                       \r"
     ]
    },
    {
     "name": "stdout",
     "output_type": "stream",
     "text": [
      "Epoch [7/40], Loss: 1.2146, Accuracy: 0.5939\n"
     ]
    },
    {
     "name": "stderr",
     "output_type": "stream",
     "text": [
      "                                                                                                                       \r"
     ]
    },
    {
     "name": "stdout",
     "output_type": "stream",
     "text": [
      "Epoch [8/40], Loss: 1.2085, Accuracy: 0.5956\n",
      "Training terminated early at epoch 8 due to small change in loss\n"
     ]
    },
    {
     "data": {
      "image/png": "[encoded data removed]",
      "text/plain": [
       "<Figure size 720x360 with 2 Axes>"
      ]
     },
     "metadata": {
      "needs_background": "light"
     },
     "output_type": "display_data"
    },
    {
     "name": "stdout",
     "output_type": "stream",
     "text": [
      "Class: anger\n",
      "Precision: 0.4773\n",
      "Recall: 0.3160\n",
      "F1 Score: 0.3803\n",
      "\n",
      "Class: disgust\n",
      "Precision: 0.0000\n",
      "Recall: 0.0000\n",
      "F1 Score: 0.0000\n",
      "\n",
      "Class: fear\n",
      "Precision: 0.0000\n",
      "Recall: 0.0000\n",
      "F1 Score: 0.0000\n",
      "\n",
      "Class: joy\n",
      "Precision: 0.6234\n",
      "Recall: 0.3845\n",
      "F1 Score: 0.4757\n",
      "\n",
      "Class: neutral\n",
      "Precision: 0.6276\n",
      "Recall: 0.9336\n",
      "F1 Score: 0.7506\n",
      "\n",
      "Class: sadness\n",
      "Precision: 0.0000\n",
      "Recall: 0.0000\n",
      "F1 Score: 0.0000\n",
      "\n",
      "Class: surprise\n",
      "Precision: 0.5251\n",
      "Recall: 0.5483\n",
      "F1 Score: 0.5364\n",
      "\n",
      "Class: macro avg\n",
      "Precision: 0.3219\n",
      "Recall: 0.3118\n",
      "F1 Score: 0.3061\n",
      "\n",
      "Class: weighted avg\n",
      "Precision: 0.5203\n",
      "Recall: 0.6031\n",
      "F1 Score: 0.5407\n",
      "\n",
      "Accuracy: 0.6031\n",
      "Weighted F1 Score: 0.5407\n",
      "Label anger: 516 occurrences\n",
      "Label disgust: 99 occurrences\n",
      "Label fear: 60 occurrences\n",
      "Label joy: 495 occurrences\n",
      "Label neutral: 1615 occurrences\n",
      "Label sadness: 263 occurrences\n",
      "Label surprise: 352 occurrences\n",
      "torch.Size([3400, 222]) torch.Size([3400])\n",
      "Class: anger\n",
      "Precision: 0.5121\n",
      "Recall: 0.3275\n",
      "F1 Score: 0.3995\n",
      "\n",
      "Class: disgust\n",
      "Precision: 0.0000\n",
      "Recall: 0.0000\n",
      "F1 Score: 0.0000\n",
      "\n",
      "Class: fear\n",
      "Precision: 0.0000\n",
      "Recall: 0.0000\n",
      "F1 Score: 0.0000\n",
      "\n",
      "Class: joy\n",
      "Precision: 0.5469\n",
      "Recall: 0.4707\n",
      "F1 Score: 0.5060\n",
      "\n",
      "Class: neutral\n",
      "Precision: 0.6867\n",
      "Recall: 0.8563\n",
      "F1 Score: 0.7622\n",
      "\n",
      "Class: sadness\n",
      "Precision: 0.0000\n",
      "Recall: 0.0000\n",
      "F1 Score: 0.0000\n",
      "\n",
      "Class: surprise\n",
      "Precision: 0.3730\n",
      "Recall: 0.6676\n",
      "F1 Score: 0.4786\n",
      "\n",
      "Class: macro avg\n",
      "Precision: 0.3027\n",
      "Recall: 0.3317\n",
      "F1 Score: 0.3066\n",
      "\n",
      "Class: weighted avg\n",
      "Precision: 0.5221\n",
      "Recall: 0.5941\n",
      "F1 Score: 0.5459\n",
      "\n",
      "Accuracy: 0.5941\n",
      "Weighted F1 Score: 0.5459\n"
     ]
    },
    {
     "name": "stderr",
     "output_type": "stream",
     "text": [
      "C:\\Users\\edayo\\AppData\\Local\\Temp\\ipykernel_11528\\3582582597.py:6: UserWarning: To copy construct from a tensor, it is recommended to use sourceTensor.clone().detach() or sourceTensor.clone().detach().requires_grad_(True), rather than torch.tensor(sourceTensor).\n",
      "  X_testTensor, Y_testTensor = prep_data(torch.tensor(concatenatedTestFeatures5), y_test, False)\n",
      "C:\\Users\\edayo\\AppData\\Local\\Temp\\ipykernel_11528\\2151628629.py:20: UserWarning: To copy construct from a tensor, it is recommended to use sourceTensor.clone().detach() or sourceTensor.clone().detach().requires_grad_(True), rather than torch.tensor(sourceTensor).\n",
      "  X_tensor = torch.tensor(X_set.clone().detach(), dtype=torch.float32).clone().detach()\n",
      "C:\\Users\\edayo\\AppData\\Local\\Temp\\ipykernel_11528\\2151628629.py:21: UserWarning: To copy construct from a tensor, it is recommended to use sourceTensor.clone().detach() or sourceTensor.clone().detach().requires_grad_(True), rather than torch.tensor(sourceTensor).\n",
      "  Y_tensor = torch.tensor(Y_set.clone().detach(), dtype=torch.long).clone().detach()\n"
     ]
    }
   ],
   "source": [
    "X_trainTensor, Y_trainTensor = prep_data(torch.tensor(concatenatedTrainFeatures5), y_train, False)\n",
    "model = model_train1(X_trainTensor,Y_trainTensor, 40, 64)\n",
    "\n",
    "classify_emotions(model, X_trainTensor, Y_trainTensor, False)\n",
    "\n",
    "X_testTensor, Y_testTensor = prep_data(torch.tensor(concatenatedTestFeatures5), y_test, False)\n",
    "classify_emotions(model, X_testTensor, Y_testTensor, False)"
   ]
  },
  {
   "cell_type": "code",
   "execution_count": 167,
   "id": "3aa48ac8",
   "metadata": {},
   "outputs": [
    {
     "name": "stderr",
     "output_type": "stream",
     "text": [
      "C:\\Users\\edayo\\AppData\\Local\\Temp\\ipykernel_11528\\396841405.py:1: UserWarning: To copy construct from a tensor, it is recommended to use sourceTensor.clone().detach() or sourceTensor.clone().detach().requires_grad_(True), rather than torch.tensor(sourceTensor).\n",
      "  X_trainTensor, Y_trainTensor = prep_data(torch.tensor(concatenatedTrainFeatures2), y_train, False)\n",
      "C:\\Users\\edayo\\AppData\\Local\\Temp\\ipykernel_11528\\2151628629.py:20: UserWarning: To copy construct from a tensor, it is recommended to use sourceTensor.clone().detach() or sourceTensor.clone().detach().requires_grad_(True), rather than torch.tensor(sourceTensor).\n",
      "  X_tensor = torch.tensor(X_set.clone().detach(), dtype=torch.float32).clone().detach()\n",
      "C:\\Users\\edayo\\AppData\\Local\\Temp\\ipykernel_11528\\2151628629.py:21: UserWarning: To copy construct from a tensor, it is recommended to use sourceTensor.clone().detach() or sourceTensor.clone().detach().requires_grad_(True), rather than torch.tensor(sourceTensor).\n",
      "  Y_tensor = torch.tensor(Y_set.clone().detach(), dtype=torch.long).clone().detach()\n"
     ]
    },
    {
     "name": "stdout",
     "output_type": "stream",
     "text": [
      "Label anger: 1500 occurrences\n",
      "Label disgust: 364 occurrences\n",
      "Label fear: 338 occurrences\n",
      "Label joy: 2312 occurrences\n",
      "Label neutral: 5960 occurrences\n",
      "Label sadness: 876 occurrences\n",
      "Label surprise: 1490 occurrences\n",
      "torch.Size([12840, 216]) torch.Size([12840])\n"
     ]
    },
    {
     "name": "stderr",
     "output_type": "stream",
     "text": [
      "Epoch 1/40: 100%|█████████████████████████████████████████████████████| 201/201 [00:00<00:00, 240.07batch/s, loss=1.65]\n"
     ]
    },
    {
     "name": "stdout",
     "output_type": "stream",
     "text": [
      "Epoch 1 finished with average loss: 1.5412\n"
     ]
    },
    {
     "name": "stderr",
     "output_type": "stream",
     "text": [
      "Epoch 2/40: 100%|█████████████████████████████████████████████████████| 201/201 [00:00<00:00, 235.14batch/s, loss=1.17]\n"
     ]
    },
    {
     "name": "stdout",
     "output_type": "stream",
     "text": [
      "Epoch 2 finished with average loss: 1.4321\n"
     ]
    },
    {
     "name": "stderr",
     "output_type": "stream",
     "text": [
      "Epoch 3/40: 100%|█████████████████████████████████████████████████████| 201/201 [00:00<00:00, 235.75batch/s, loss=1.56]\n"
     ]
    },
    {
     "name": "stdout",
     "output_type": "stream",
     "text": [
      "Epoch 3 finished with average loss: 1.3799\n"
     ]
    },
    {
     "name": "stderr",
     "output_type": "stream",
     "text": [
      "Epoch 4/40: 100%|█████████████████████████████████████████████████████| 201/201 [00:01<00:00, 200.43batch/s, loss=1.51]\n"
     ]
    },
    {
     "name": "stdout",
     "output_type": "stream",
     "text": [
      "Epoch 4 finished with average loss: 1.3392\n"
     ]
    },
    {
     "name": "stderr",
     "output_type": "stream",
     "text": [
      "Epoch 5/40: 100%|█████████████████████████████████████████████████████| 201/201 [00:01<00:00, 180.84batch/s, loss=1.47]\n"
     ]
    },
    {
     "name": "stdout",
     "output_type": "stream",
     "text": [
      "Epoch 5 finished with average loss: 1.3164\n"
     ]
    },
    {
     "name": "stderr",
     "output_type": "stream",
     "text": [
      "Epoch 6/40: 100%|█████████████████████████████████████████████████████| 201/201 [00:01<00:00, 183.01batch/s, loss=1.45]\n"
     ]
    },
    {
     "name": "stdout",
     "output_type": "stream",
     "text": [
      "Epoch 6 finished with average loss: 1.3004\n"
     ]
    },
    {
     "name": "stderr",
     "output_type": "stream",
     "text": [
      "Epoch 7/40: 100%|█████████████████████████████████████████████████████| 201/201 [00:01<00:00, 194.16batch/s, loss=1.42]\n"
     ]
    },
    {
     "name": "stdout",
     "output_type": "stream",
     "text": [
      "Epoch 7 finished with average loss: 1.2857\n"
     ]
    },
    {
     "name": "stderr",
     "output_type": "stream",
     "text": [
      "Epoch 8/40: 100%|█████████████████████████████████████████████████████| 201/201 [00:01<00:00, 185.89batch/s, loss=1.39]\n"
     ]
    },
    {
     "name": "stdout",
     "output_type": "stream",
     "text": [
      "Epoch 8 finished with average loss: 1.2776\n",
      "Early stopping at epoch 8 due to minimal loss improvement\n",
      "Finished Training\n"
     ]
    },
    {
     "data": {
      "image/png": "[encoded data removed]",
      "text/plain": [
       "<Figure size 720x360 with 1 Axes>"
      ]
     },
     "metadata": {
      "needs_background": "light"
     },
     "output_type": "display_data"
    },
    {
     "name": "stdout",
     "output_type": "stream",
     "text": [
      "Class: anger\n",
      "Precision: 0.4864\n",
      "Recall: 0.1673\n",
      "F1 Score: 0.2490\n",
      "\n",
      "Class: disgust\n",
      "Precision: 0.0000\n",
      "Recall: 0.0000\n",
      "F1 Score: 0.0000\n",
      "\n",
      "Class: fear\n",
      "Precision: 0.0000\n",
      "Recall: 0.0000\n",
      "F1 Score: 0.0000\n",
      "\n",
      "Class: joy\n",
      "Precision: 0.4651\n",
      "Recall: 0.4728\n",
      "F1 Score: 0.4689\n",
      "\n",
      "Class: neutral\n",
      "Precision: 0.6152\n",
      "Recall: 0.9357\n",
      "F1 Score: 0.7424\n",
      "\n",
      "Class: sadness\n",
      "Precision: 0.0000\n",
      "Recall: 0.0000\n",
      "F1 Score: 0.0000\n",
      "\n",
      "Class: surprise\n",
      "Precision: 0.5325\n",
      "Recall: 0.3248\n",
      "F1 Score: 0.4035\n",
      "\n",
      "Class: macro avg\n",
      "Precision: 0.2999\n",
      "Recall: 0.2715\n",
      "F1 Score: 0.2663\n",
      "\n",
      "Class: weighted avg\n",
      "Precision: 0.4879\n",
      "Recall: 0.5767\n",
      "F1 Score: 0.5049\n",
      "\n",
      "Accuracy: 0.5767\n",
      "Weighted F1 Score: 0.5049\n",
      "Label anger: 516 occurrences\n",
      "Label disgust: 99 occurrences\n",
      "Label fear: 60 occurrences\n",
      "Label joy: 495 occurrences\n",
      "Label neutral: 1615 occurrences\n",
      "Label sadness: 263 occurrences\n",
      "Label surprise: 352 occurrences\n",
      "torch.Size([3400, 216]) torch.Size([3400])\n",
      "Class: anger\n",
      "Precision: 0.5425\n",
      "Recall: 0.1609\n",
      "F1 Score: 0.2481\n",
      "\n",
      "Class: disgust\n",
      "Precision: 0.0000\n",
      "Recall: 0.0000\n",
      "F1 Score: 0.0000\n",
      "\n",
      "Class: fear\n",
      "Precision: 0.0000\n",
      "Recall: 0.0000\n",
      "F1 Score: 0.0000\n",
      "\n",
      "Class: joy\n",
      "Precision: 0.3809\n",
      "Recall: 0.5879\n",
      "F1 Score: 0.4623\n",
      "\n",
      "Class: neutral\n",
      "Precision: 0.6676\n",
      "Recall: 0.8879\n",
      "F1 Score: 0.7622\n",
      "\n",
      "Class: sadness\n",
      "Precision: 0.0000\n",
      "Recall: 0.0000\n",
      "F1 Score: 0.0000\n",
      "\n",
      "Class: surprise\n",
      "Precision: 0.4687\n",
      "Recall: 0.4460\n",
      "F1 Score: 0.4571\n",
      "\n",
      "Class: macro avg\n",
      "Precision: 0.2942\n",
      "Recall: 0.2975\n",
      "F1 Score: 0.2757\n",
      "\n",
      "Class: weighted avg\n",
      "Precision: 0.5034\n",
      "Recall: 0.5779\n",
      "F1 Score: 0.5143\n",
      "\n",
      "Accuracy: 0.5779\n",
      "Weighted F1 Score: 0.5143\n"
     ]
    },
    {
     "name": "stderr",
     "output_type": "stream",
     "text": [
      "C:\\Users\\edayo\\AppData\\Local\\Temp\\ipykernel_11528\\396841405.py:6: UserWarning: To copy construct from a tensor, it is recommended to use sourceTensor.clone().detach() or sourceTensor.clone().detach().requires_grad_(True), rather than torch.tensor(sourceTensor).\n",
      "  X_testTensor, Y_testTensor = prep_data(torch.tensor(concatenatedTestFeatures2), y_test, False)\n",
      "C:\\Users\\edayo\\AppData\\Local\\Temp\\ipykernel_11528\\2151628629.py:20: UserWarning: To copy construct from a tensor, it is recommended to use sourceTensor.clone().detach() or sourceTensor.clone().detach().requires_grad_(True), rather than torch.tensor(sourceTensor).\n",
      "  X_tensor = torch.tensor(X_set.clone().detach(), dtype=torch.float32).clone().detach()\n",
      "C:\\Users\\edayo\\AppData\\Local\\Temp\\ipykernel_11528\\2151628629.py:21: UserWarning: To copy construct from a tensor, it is recommended to use sourceTensor.clone().detach() or sourceTensor.clone().detach().requires_grad_(True), rather than torch.tensor(sourceTensor).\n",
      "  Y_tensor = torch.tensor(Y_set.clone().detach(), dtype=torch.long).clone().detach()\n"
     ]
    }
   ],
   "source": [
    "X_trainTensor, Y_trainTensor = prep_data(torch.tensor(concatenatedTrainFeatures5), y_train, False)\n",
    "model = model_train2(X_trainTensor,Y_trainTensor, 40, 64)\n",
    "\n",
    "classify_emotions(model, X_trainTensor, Y_trainTensor, False)\n",
    "\n",
    "X_testTensor, Y_testTensor = prep_data(torch.tensor(concatenatedTestFeatures5), y_test, False)\n",
    "classify_emotions(model, X_testTensor, Y_testTensor, False)"
   ]
  },
  {
   "cell_type": "code",
   "execution_count": null,
   "id": "0873f0dd",
   "metadata": {},
   "outputs": [],
   "source": []
  },
  {
   "cell_type": "code",
   "execution_count": 153,
   "id": "61797461",
   "metadata": {},
   "outputs": [
    {
     "name": "stderr",
     "output_type": "stream",
     "text": [
      "C:\\Users\\edayo\\AppData\\Local\\Temp\\ipykernel_11528\\3703393720.py:1: UserWarning: To copy construct from a tensor, it is recommended to use sourceTensor.clone().detach() or sourceTensor.clone().detach().requires_grad_(True), rather than torch.tensor(sourceTensor).\n",
      "  X_trainTensor, Y_trainTensor = prep_data(torch.tensor(concatenatedTrainFeatures6), y_train, False)\n",
      "C:\\Users\\edayo\\AppData\\Local\\Temp\\ipykernel_11528\\2151628629.py:20: UserWarning: To copy construct from a tensor, it is recommended to use sourceTensor.clone().detach() or sourceTensor.clone().detach().requires_grad_(True), rather than torch.tensor(sourceTensor).\n",
      "  X_tensor = torch.tensor(X_set.clone().detach(), dtype=torch.float32).clone().detach()\n",
      "C:\\Users\\edayo\\AppData\\Local\\Temp\\ipykernel_11528\\2151628629.py:21: UserWarning: To copy construct from a tensor, it is recommended to use sourceTensor.clone().detach() or sourceTensor.clone().detach().requires_grad_(True), rather than torch.tensor(sourceTensor).\n",
      "  Y_tensor = torch.tensor(Y_set.clone().detach(), dtype=torch.long).clone().detach()\n"
     ]
    },
    {
     "name": "stdout",
     "output_type": "stream",
     "text": [
      "Label anger: 1500 occurrences\n",
      "Label disgust: 364 occurrences\n",
      "Label fear: 338 occurrences\n",
      "Label joy: 2312 occurrences\n",
      "Label neutral: 5960 occurrences\n",
      "Label sadness: 876 occurrences\n",
      "Label surprise: 1490 occurrences\n",
      "torch.Size([12840, 207]) torch.Size([12840])\n"
     ]
    },
    {
     "name": "stderr",
     "output_type": "stream",
     "text": [
      "Epoch 1/40:   0%|                                                                            | 0/12840 [00:00<?, ?it/s]C:\\Users\\edayo\\AppData\\Local\\Temp\\ipykernel_11528\\3359458753.py:23: UserWarning: To copy construct from a tensor, it is recommended to use sourceTensor.clone().detach() or sourceTensor.clone().detach().requires_grad_(True), rather than torch.tensor(sourceTensor).\n",
      "  inputs = torch.tensor(inputs.clone().detach(), dtype=torch.float32)\n",
      "C:\\Users\\edayo\\AppData\\Local\\Temp\\ipykernel_11528\\3359458753.py:24: UserWarning: To copy construct from a tensor, it is recommended to use sourceTensor.clone().detach() or sourceTensor.clone().detach().requires_grad_(True), rather than torch.tensor(sourceTensor).\n",
      "  labels = torch.tensor(labels.clone().detach(), dtype=torch.long)\n",
      "                                                                                                                       \r"
     ]
    },
    {
     "name": "stdout",
     "output_type": "stream",
     "text": [
      "Epoch [1/40], Loss: 1.4638, Accuracy: 0.4891\n"
     ]
    },
    {
     "name": "stderr",
     "output_type": "stream",
     "text": [
      "                                                                                                                       \r"
     ]
    },
    {
     "name": "stdout",
     "output_type": "stream",
     "text": [
      "Epoch [2/40], Loss: 1.3291, Accuracy: 0.5489\n"
     ]
    },
    {
     "name": "stderr",
     "output_type": "stream",
     "text": [
      "                                                                                                                       \r"
     ]
    },
    {
     "name": "stdout",
     "output_type": "stream",
     "text": [
      "Epoch [3/40], Loss: 1.2753, Accuracy: 0.5688\n"
     ]
    },
    {
     "name": "stderr",
     "output_type": "stream",
     "text": [
      "                                                                                                                       \r"
     ]
    },
    {
     "name": "stdout",
     "output_type": "stream",
     "text": [
      "Epoch [4/40], Loss: 1.2501, Accuracy: 0.5804\n"
     ]
    },
    {
     "name": "stderr",
     "output_type": "stream",
     "text": [
      "                                                                                                                       \r"
     ]
    },
    {
     "name": "stdout",
     "output_type": "stream",
     "text": [
      "Epoch [5/40], Loss: 1.2356, Accuracy: 0.5847\n"
     ]
    },
    {
     "name": "stderr",
     "output_type": "stream",
     "text": [
      "                                                                                                                       \r"
     ]
    },
    {
     "name": "stdout",
     "output_type": "stream",
     "text": [
      "Epoch [6/40], Loss: 1.2254, Accuracy: 0.5906\n"
     ]
    },
    {
     "name": "stderr",
     "output_type": "stream",
     "text": [
      "                                                                                                                       \r"
     ]
    },
    {
     "name": "stdout",
     "output_type": "stream",
     "text": [
      "Epoch [7/40], Loss: 1.2156, Accuracy: 0.5959\n",
      "Training terminated early at epoch 7 due to small change in loss\n"
     ]
    },
    {
     "data": {
      "image/png": "[encoded data removed]",
      "text/plain": [
       "<Figure size 720x360 with 2 Axes>"
      ]
     },
     "metadata": {
      "needs_background": "light"
     },
     "output_type": "display_data"
    }
   ],
   "source": [
    "X_trainTensor, Y_trainTensor = prep_data(torch.tensor(concatenatedTrainFeatures6), y_train, False)\n",
    "model = model_train1(X_trainTensor,Y_trainTensor, 40, 64)"
   ]
  },
  {
   "cell_type": "code",
   "execution_count": 154,
   "id": "1eb8e24f",
   "metadata": {},
   "outputs": [
    {
     "name": "stdout",
     "output_type": "stream",
     "text": [
      "Class: anger\n",
      "Precision: 0.4357\n",
      "Recall: 0.3680\n",
      "F1 Score: 0.3990\n",
      "\n",
      "Class: disgust\n",
      "Precision: 0.0000\n",
      "Recall: 0.0000\n",
      "F1 Score: 0.0000\n",
      "\n",
      "Class: fear\n",
      "Precision: 0.0000\n",
      "Recall: 0.0000\n",
      "F1 Score: 0.0000\n",
      "\n",
      "Class: joy\n",
      "Precision: 0.6598\n",
      "Recall: 0.3456\n",
      "F1 Score: 0.4536\n",
      "\n",
      "Class: neutral\n",
      "Precision: 0.6303\n",
      "Recall: 0.9289\n",
      "F1 Score: 0.7510\n",
      "\n",
      "Class: sadness\n",
      "Precision: 0.0000\n",
      "Recall: 0.0000\n",
      "F1 Score: 0.0000\n",
      "\n",
      "Class: surprise\n",
      "Precision: 0.5193\n",
      "Recall: 0.5503\n",
      "F1 Score: 0.5344\n",
      "\n",
      "Class: macro avg\n",
      "Precision: 0.3207\n",
      "Recall: 0.3133\n",
      "F1 Score: 0.3054\n",
      "\n",
      "Class: weighted avg\n",
      "Precision: 0.5225\n",
      "Recall: 0.6002\n",
      "F1 Score: 0.5389\n",
      "\n",
      "Accuracy: 0.6002\n",
      "Weighted F1 Score: 0.5389\n"
     ]
    }
   ],
   "source": [
    "classify_emotions(model, X_trainTensor, Y_trainTensor, False)"
   ]
  },
  {
   "cell_type": "code",
   "execution_count": 155,
   "id": "ebead0b9",
   "metadata": {},
   "outputs": [
    {
     "name": "stdout",
     "output_type": "stream",
     "text": [
      "Label anger: 516 occurrences\n",
      "Label disgust: 99 occurrences\n",
      "Label fear: 60 occurrences\n",
      "Label joy: 495 occurrences\n",
      "Label neutral: 1615 occurrences\n",
      "Label sadness: 263 occurrences\n",
      "Label surprise: 352 occurrences\n",
      "torch.Size([3400, 207]) torch.Size([3400])\n",
      "Class: anger\n",
      "Precision: 0.4976\n",
      "Recall: 0.4012\n",
      "F1 Score: 0.4442\n",
      "\n",
      "Class: disgust\n",
      "Precision: 0.0000\n",
      "Recall: 0.0000\n",
      "F1 Score: 0.0000\n",
      "\n",
      "Class: fear\n",
      "Precision: 0.0000\n",
      "Recall: 0.0000\n",
      "F1 Score: 0.0000\n",
      "\n",
      "Class: joy\n",
      "Precision: 0.5770\n",
      "Recall: 0.4465\n",
      "F1 Score: 0.5034\n",
      "\n",
      "Class: neutral\n",
      "Precision: 0.6842\n",
      "Recall: 0.8625\n",
      "F1 Score: 0.7631\n",
      "\n",
      "Class: sadness\n",
      "Precision: 0.0000\n",
      "Recall: 0.0000\n",
      "F1 Score: 0.0000\n",
      "\n",
      "Class: surprise\n",
      "Precision: 0.3982\n",
      "Recall: 0.6392\n",
      "F1 Score: 0.4907\n",
      "\n",
      "Class: macro avg\n",
      "Precision: 0.3081\n",
      "Recall: 0.3356\n",
      "F1 Score: 0.3145\n",
      "\n",
      "Class: weighted avg\n",
      "Precision: 0.5257\n",
      "Recall: 0.6018\n",
      "F1 Score: 0.5540\n",
      "\n",
      "Accuracy: 0.6018\n",
      "Weighted F1 Score: 0.5540\n"
     ]
    },
    {
     "name": "stderr",
     "output_type": "stream",
     "text": [
      "C:\\Users\\edayo\\AppData\\Local\\Temp\\ipykernel_11528\\512766527.py:1: UserWarning: To copy construct from a tensor, it is recommended to use sourceTensor.clone().detach() or sourceTensor.clone().detach().requires_grad_(True), rather than torch.tensor(sourceTensor).\n",
      "  X_testTensor, Y_testTensor = prep_data(torch.tensor(concatenatedTestFeatures6), y_test, False)\n",
      "C:\\Users\\edayo\\AppData\\Local\\Temp\\ipykernel_11528\\2151628629.py:20: UserWarning: To copy construct from a tensor, it is recommended to use sourceTensor.clone().detach() or sourceTensor.clone().detach().requires_grad_(True), rather than torch.tensor(sourceTensor).\n",
      "  X_tensor = torch.tensor(X_set.clone().detach(), dtype=torch.float32).clone().detach()\n",
      "C:\\Users\\edayo\\AppData\\Local\\Temp\\ipykernel_11528\\2151628629.py:21: UserWarning: To copy construct from a tensor, it is recommended to use sourceTensor.clone().detach() or sourceTensor.clone().detach().requires_grad_(True), rather than torch.tensor(sourceTensor).\n",
      "  Y_tensor = torch.tensor(Y_set.clone().detach(), dtype=torch.long).clone().detach()\n"
     ]
    }
   ],
   "source": [
    "X_testTensor, Y_testTensor = prep_data(torch.tensor(concatenatedTestFeatures6), y_test, False)\n",
    "classify_emotions(model, X_testTensor, Y_testTensor, False)"
   ]
  },
  {
   "cell_type": "code",
   "execution_count": null,
   "id": "c77c9fba",
   "metadata": {},
   "outputs": [],
   "source": []
  },
  {
   "cell_type": "markdown",
   "id": "61a14b7b",
   "metadata": {},
   "source": [
    "<h4> Train and validate CNNBiLSTM+EGAT"
   ]
  },
  {
   "cell_type": "code",
   "execution_count": 45,
   "id": "d05020bf",
   "metadata": {},
   "outputs": [
    {
     "data": {
      "text/plain": [
       "(12840, 134)"
      ]
     },
     "execution_count": 45,
     "metadata": {},
     "output_type": "execute_result"
    }
   ],
   "source": []
  },
  {
   "cell_type": "code",
   "execution_count": 48,
   "id": "731a5a22",
   "metadata": {
    "scrolled": true
   },
   "outputs": [
    {
     "name": "stderr",
     "output_type": "stream",
     "text": [
      "C:\\Users\\edayo\\AppData\\Local\\Temp\\ipykernel_10832\\1375589347.py:2: UserWarning: To copy construct from a tensor, it is recommended to use sourceTensor.clone().detach() or sourceTensor.clone().detach().requires_grad_(True), rather than torch.tensor(sourceTensor).\n",
      "  X_trainTensor, Y_trainTensor = prep_data(torch.tensor(trainFeatures6), y_train, False)\n",
      "C:\\Users\\edayo\\AppData\\Local\\Temp\\ipykernel_10832\\2151628629.py:20: UserWarning: To copy construct from a tensor, it is recommended to use sourceTensor.clone().detach() or sourceTensor.clone().detach().requires_grad_(True), rather than torch.tensor(sourceTensor).\n",
      "  X_tensor = torch.tensor(X_set.clone().detach(), dtype=torch.float32).clone().detach()\n",
      "C:\\Users\\edayo\\AppData\\Local\\Temp\\ipykernel_10832\\2151628629.py:21: UserWarning: To copy construct from a tensor, it is recommended to use sourceTensor.clone().detach() or sourceTensor.clone().detach().requires_grad_(True), rather than torch.tensor(sourceTensor).\n",
      "  Y_tensor = torch.tensor(Y_set.clone().detach(), dtype=torch.long).clone().detach()\n"
     ]
    },
    {
     "name": "stdout",
     "output_type": "stream",
     "text": [
      "Label anger: 1500 occurrences\n",
      "Label disgust: 364 occurrences\n",
      "Label fear: 338 occurrences\n",
      "Label joy: 2312 occurrences\n",
      "Label neutral: 5960 occurrences\n",
      "Label sadness: 876 occurrences\n",
      "Label surprise: 1490 occurrences\n",
      "torch.Size([12840, 64]) torch.Size([12840])\n"
     ]
    },
    {
     "name": "stderr",
     "output_type": "stream",
     "text": [
      "Epoch 1/50:   0%|                                                                                | 0/12840 [00:00<?, ?it/s]C:\\Users\\edayo\\AppData\\Local\\Temp\\ipykernel_10832\\1948670983.py:23: UserWarning: To copy construct from a tensor, it is recommended to use sourceTensor.clone().detach() or sourceTensor.clone().detach().requires_grad_(True), rather than torch.tensor(sourceTensor).\n",
      "  inputs = torch.tensor(inputs.clone().detach(), dtype=torch.float32)\n",
      "C:\\Users\\edayo\\AppData\\Local\\Temp\\ipykernel_10832\\1948670983.py:24: UserWarning: To copy construct from a tensor, it is recommended to use sourceTensor.clone().detach() or sourceTensor.clone().detach().requires_grad_(True), rather than torch.tensor(sourceTensor).\n",
      "  labels = torch.tensor(labels.clone().detach(), dtype=torch.long)\n",
      "                                                                                                                           \r"
     ]
    },
    {
     "name": "stdout",
     "output_type": "stream",
     "text": [
      "Epoch [1/50], Loss: 1.5792, Accuracy: 0.4616\n"
     ]
    },
    {
     "name": "stderr",
     "output_type": "stream",
     "text": [
      "                                                                                                                           \r"
     ]
    },
    {
     "name": "stdout",
     "output_type": "stream",
     "text": [
      "Epoch [2/50], Loss: 1.5582, Accuracy: 0.4642\n"
     ]
    },
    {
     "name": "stderr",
     "output_type": "stream",
     "text": [
      "                                                                                                                           \r"
     ]
    },
    {
     "name": "stdout",
     "output_type": "stream",
     "text": [
      "Epoch [3/50], Loss: 1.5591, Accuracy: 0.4642\n",
      "Training terminated early at epoch 3 due to small change in loss\n"
     ]
    },
    {
     "data": {
      "image/png": "[encoded data removed]",
      "text/plain": [
       "<Figure size 720x360 with 2 Axes>"
      ]
     },
     "metadata": {
      "needs_background": "light"
     },
     "output_type": "display_data"
    },
    {
     "name": "stdout",
     "output_type": "stream",
     "text": [
      "Train CNNBiLSTM+EGAT given 15 epochs - Elapsed time: 108.74697637557983 seconds\n",
      "Label anger: 516 occurrences\n",
      "Label disgust: 99 occurrences\n",
      "Label fear: 60 occurrences\n",
      "Label joy: 495 occurrences\n",
      "Label neutral: 1615 occurrences\n",
      "Label sadness: 263 occurrences\n",
      "Label surprise: 352 occurrences\n",
      "torch.Size([3400, 64]) torch.Size([3400])\n",
      "Class: anger\n",
      "Precision: 0.0000\n",
      "Recall: 0.0000\n",
      "F1 Score: 0.0000\n",
      "\n",
      "Class: disgust\n",
      "Precision: 0.0000\n",
      "Recall: 0.0000\n",
      "F1 Score: 0.0000\n",
      "\n",
      "Class: fear\n",
      "Precision: 0.0000\n",
      "Recall: 0.0000\n",
      "F1 Score: 0.0000\n",
      "\n",
      "Class: joy\n",
      "Precision: 0.0000\n",
      "Recall: 0.0000\n",
      "F1 Score: 0.0000\n",
      "\n",
      "Class: neutral\n",
      "Precision: 0.4750\n",
      "Recall: 1.0000\n",
      "F1 Score: 0.6441\n",
      "\n",
      "Class: sadness\n",
      "Precision: 0.0000\n",
      "Recall: 0.0000\n",
      "F1 Score: 0.0000\n",
      "\n",
      "Class: surprise\n",
      "Precision: 0.0000\n",
      "Recall: 0.0000\n",
      "F1 Score: 0.0000\n",
      "\n",
      "Class: macro avg\n",
      "Precision: 0.0679\n",
      "Recall: 0.1429\n",
      "F1 Score: 0.0920\n",
      "\n",
      "Class: weighted avg\n",
      "Precision: 0.2256\n",
      "Recall: 0.4750\n",
      "F1 Score: 0.3059\n",
      "\n",
      "Accuracy: 0.4750\n",
      "Weighted F1 Score: 0.3059\n"
     ]
    }
   ],
   "source": [
    "# enable oversampling by setting isOversample=True\n",
    "X_trainTensor, Y_trainTensor = prep_data(torch.tensor(trainFeatures6), y_train, False)\n",
    "\n",
    "start_time = time.time()\n",
    "\n",
    "fcClf = model_train(X_set=X_trainTensor, \n",
    "                    Y_set=Y_trainTensor,\n",
    "                    input_dim=X_trainTensor.shape[1], \n",
    "                    num_epochs=50, \n",
    "                    num_classes=7)\n",
    "\n",
    "end_time = time.time()\n",
    "elapsed_time = end_time - start_time\n",
    "print(f\"Train CNNBiLSTM+EGAT given 15 epochs - Elapsed time: {elapsed_time} seconds\")\n",
    "X_testTensor, Y_testTensor = prep_data(testFeatures6, y_test, False)\n",
    "classify_emotions(fcClf, X_testTensor, Y_testTensor, False)"
   ]
  },
  {
   "cell_type": "code",
   "execution_count": 39,
   "id": "50c657f0",
   "metadata": {},
   "outputs": [
    {
     "name": "stdout",
     "output_type": "stream",
     "text": [
      "Label anger: 516 occurrences\n",
      "Label disgust: 99 occurrences\n",
      "Label fear: 60 occurrences\n",
      "Label joy: 495 occurrences\n",
      "Label neutral: 1615 occurrences\n",
      "Label sadness: 263 occurrences\n",
      "Label surprise: 352 occurrences\n",
      "torch.Size([3400, 600]) torch.Size([3400])\n",
      "Class: anger\n",
      "Precision: 0.0000\n",
      "Recall: 0.0000\n",
      "F1 Score: 0.0000\n",
      "\n",
      "Class: disgust\n",
      "Precision: 0.0000\n",
      "Recall: 0.0000\n",
      "F1 Score: 0.0000\n",
      "\n",
      "Class: fear\n",
      "Precision: 0.0000\n",
      "Recall: 0.0000\n",
      "F1 Score: 0.0000\n",
      "\n",
      "Class: joy\n",
      "Precision: 0.0000\n",
      "Recall: 0.0000\n",
      "F1 Score: 0.0000\n",
      "\n",
      "Class: neutral\n",
      "Precision: 0.4750\n",
      "Recall: 1.0000\n",
      "F1 Score: 0.6441\n",
      "\n",
      "Class: sadness\n",
      "Precision: 0.0000\n",
      "Recall: 0.0000\n",
      "F1 Score: 0.0000\n",
      "\n",
      "Class: surprise\n",
      "Precision: 0.0000\n",
      "Recall: 0.0000\n",
      "F1 Score: 0.0000\n",
      "\n",
      "Class: macro avg\n",
      "Precision: 0.0679\n",
      "Recall: 0.1429\n",
      "F1 Score: 0.0920\n",
      "\n",
      "Class: weighted avg\n",
      "Precision: 0.2256\n",
      "Recall: 0.4750\n",
      "F1 Score: 0.3059\n",
      "\n",
      "Accuracy: 0.4750\n",
      "Weighted F1 Score: 0.3059\n"
     ]
    },
    {
     "name": "stderr",
     "output_type": "stream",
     "text": [
      "C:\\Users\\edayo\\AppData\\Local\\Temp\\ipykernel_21404\\2151628629.py:20: UserWarning: To copy construct from a tensor, it is recommended to use sourceTensor.clone().detach() or sourceTensor.clone().detach().requires_grad_(True), rather than torch.tensor(sourceTensor).\n",
      "  X_tensor = torch.tensor(X_set.clone().detach(), dtype=torch.float32).clone().detach()\n",
      "C:\\Users\\edayo\\AppData\\Local\\Temp\\ipykernel_21404\\2151628629.py:21: UserWarning: To copy construct from a tensor, it is recommended to use sourceTensor.clone().detach() or sourceTensor.clone().detach().requires_grad_(True), rather than torch.tensor(sourceTensor).\n",
      "  Y_tensor = torch.tensor(Y_set.clone().detach(), dtype=torch.long).clone().detach()\n"
     ]
    }
   ],
   "source": []
  },
  {
   "cell_type": "markdown",
   "id": "23e94626",
   "metadata": {},
   "source": [
    "<h4> Train and validate CNNBiLSTM+GAT (⭕️ Oversample)"
   ]
  },
  {
   "cell_type": "code",
   "execution_count": 40,
   "id": "57c145a1",
   "metadata": {},
   "outputs": [
    {
     "name": "stderr",
     "output_type": "stream",
     "text": [
      "C:\\Users\\edayo\\AppData\\Local\\Temp\\ipykernel_21404\\2151628629.py:20: UserWarning: To copy construct from a tensor, it is recommended to use sourceTensor.clone().detach() or sourceTensor.clone().detach().requires_grad_(True), rather than torch.tensor(sourceTensor).\n",
      "  X_tensor = torch.tensor(X_set.clone().detach(), dtype=torch.float32).clone().detach()\n",
      "C:\\Users\\edayo\\AppData\\Local\\Temp\\ipykernel_21404\\2151628629.py:21: UserWarning: To copy construct from a tensor, it is recommended to use sourceTensor.clone().detach() or sourceTensor.clone().detach().requires_grad_(True), rather than torch.tensor(sourceTensor).\n",
      "  Y_tensor = torch.tensor(Y_set.clone().detach(), dtype=torch.long).clone().detach()\n"
     ]
    },
    {
     "name": "stdout",
     "output_type": "stream",
     "text": [
      "Label anger: 5960 occurrences\n",
      "Label disgust: 5960 occurrences\n",
      "Label fear: 5960 occurrences\n",
      "Label joy: 5960 occurrences\n",
      "Label neutral: 5960 occurrences\n",
      "Label sadness: 5960 occurrences\n",
      "Label surprise: 5960 occurrences\n",
      "torch.Size([41720, 600]) torch.Size([41720])\n"
     ]
    },
    {
     "name": "stderr",
     "output_type": "stream",
     "text": [
      "Epoch 1/11:   0%|                                                                            | 0/41720 [00:00<?, ?it/s]C:\\Users\\edayo\\AppData\\Local\\Temp\\ipykernel_21404\\3756449778.py:23: UserWarning: To copy construct from a tensor, it is recommended to use sourceTensor.clone().detach() or sourceTensor.clone().detach().requires_grad_(True), rather than torch.tensor(sourceTensor).\n",
      "  inputs = torch.tensor(inputs.clone().detach(), dtype=torch.float32)\n",
      "C:\\Users\\edayo\\AppData\\Local\\Temp\\ipykernel_21404\\3756449778.py:24: UserWarning: To copy construct from a tensor, it is recommended to use sourceTensor.clone().detach() or sourceTensor.clone().detach().requires_grad_(True), rather than torch.tensor(sourceTensor).\n",
      "  labels = torch.tensor(labels.clone().detach(), dtype=torch.long)\n",
      "                                                                                                                       \r"
     ]
    },
    {
     "name": "stdout",
     "output_type": "stream",
     "text": [
      "Epoch [1/11], Loss: 0.5595, Accuracy: 0.8228\n"
     ]
    },
    {
     "name": "stderr",
     "output_type": "stream",
     "text": [
      "                                                                                                                       \r"
     ]
    },
    {
     "name": "stdout",
     "output_type": "stream",
     "text": [
      "Epoch [2/11], Loss: 0.5732, Accuracy: 0.8187\n",
      "Training terminated early at epoch 2 due to small change in loss\n"
     ]
    },
    {
     "data": {
      "image/png": "[encoded data removed]",
      "text/plain": [
       "<Figure size 720x360 with 2 Axes>"
      ]
     },
     "metadata": {
      "needs_background": "light"
     },
     "output_type": "display_data"
    },
    {
     "name": "stdout",
     "output_type": "stream",
     "text": [
      "Trai CNNBiLSTM+GAT given 15 epochs - Elapsed time: 869.8773131370544 seconds\n",
      "Class: anger\n",
      "Precision: 0.0000\n",
      "Recall: 0.0000\n",
      "F1 Score: 0.0000\n",
      "\n",
      "Class: disgust\n",
      "Precision: 0.0000\n",
      "Recall: 0.0000\n",
      "F1 Score: 0.0000\n",
      "\n",
      "Class: fear\n",
      "Precision: 0.0000\n",
      "Recall: 0.0000\n",
      "F1 Score: 0.0000\n",
      "\n",
      "Class: joy\n",
      "Precision: 0.0000\n",
      "Recall: 0.0000\n",
      "F1 Score: 0.0000\n",
      "\n",
      "Class: neutral\n",
      "Precision: 0.0000\n",
      "Recall: 0.0000\n",
      "F1 Score: 0.0000\n",
      "\n",
      "Class: sadness\n",
      "Precision: 0.0000\n",
      "Recall: 0.0000\n",
      "F1 Score: 0.0000\n",
      "\n",
      "Class: surprise\n",
      "Precision: 0.1429\n",
      "Recall: 1.0000\n",
      "F1 Score: 0.2500\n",
      "\n",
      "Class: macro avg\n",
      "Precision: 0.0204\n",
      "Recall: 0.1429\n",
      "F1 Score: 0.0357\n",
      "\n",
      "Class: weighted avg\n",
      "Precision: 0.0204\n",
      "Recall: 0.1429\n",
      "F1 Score: 0.0357\n",
      "\n",
      "Accuracy: 0.1429\n",
      "Weighted F1 Score: 0.0357\n"
     ]
    }
   ],
   "source": [
    "X_trainTensor, Y_trainTensor = prep_data(concatenatedRepresentationTrain1, y_train, True)\n",
    "\n",
    "start_time = time.time()\n",
    "\n",
    "fcClf = model_train(X_set=X_trainTensor, \n",
    "                    Y_set=Y_trainTensor,\n",
    "                    input_dim=X_trainTensor.shape[1], \n",
    "                    num_epochs=11, \n",
    "                    num_classes=7)\n",
    "\n",
    "end_time = time.time()\n",
    "elapsed_time = end_time - start_time\n",
    "end_time = time.time()\n",
    "elapsed_time = end_time - start_time\n",
    "print(f\"Trai CNNBiLSTM+GAT given 15 epochs - Elapsed time: {elapsed_time} seconds\")\n",
    "\n",
    "classify_emotions(fcClf, X_trainTensor, Y_trainTensor, True)"
   ]
  },
  {
   "cell_type": "code",
   "execution_count": 42,
   "id": "5aa10a6e",
   "metadata": {},
   "outputs": [
    {
     "name": "stdout",
     "output_type": "stream",
     "text": [
      "Label anger: 516 occurrences\n",
      "Label disgust: 99 occurrences\n",
      "Label fear: 60 occurrences\n",
      "Label joy: 495 occurrences\n",
      "Label neutral: 1615 occurrences\n",
      "Label sadness: 263 occurrences\n",
      "Label surprise: 352 occurrences\n",
      "torch.Size([3400, 600]) torch.Size([3400])\n",
      "Class: anger\n",
      "Precision: 0.0000\n",
      "Recall: 0.0000\n",
      "F1 Score: 0.0000\n",
      "\n",
      "Class: disgust\n",
      "Precision: 0.0000\n",
      "Recall: 0.0000\n",
      "F1 Score: 0.0000\n",
      "\n",
      "Class: fear\n",
      "Precision: 0.0000\n",
      "Recall: 0.0000\n",
      "F1 Score: 0.0000\n",
      "\n",
      "Class: joy\n",
      "Precision: 0.0000\n",
      "Recall: 0.0000\n",
      "F1 Score: 0.0000\n",
      "\n",
      "Class: neutral\n",
      "Precision: 0.0000\n",
      "Recall: 0.0000\n",
      "F1 Score: 0.0000\n",
      "\n",
      "Class: sadness\n",
      "Precision: 0.0000\n",
      "Recall: 0.0000\n",
      "F1 Score: 0.0000\n",
      "\n",
      "Class: surprise\n",
      "Precision: 0.1035\n",
      "Recall: 1.0000\n",
      "F1 Score: 0.1876\n",
      "\n",
      "Class: macro avg\n",
      "Precision: 0.0148\n",
      "Recall: 0.1429\n",
      "F1 Score: 0.0268\n",
      "\n",
      "Class: weighted avg\n",
      "Precision: 0.0107\n",
      "Recall: 0.1035\n",
      "F1 Score: 0.0194\n",
      "\n",
      "Accuracy: 0.1035\n",
      "Weighted F1 Score: 0.0194\n"
     ]
    },
    {
     "name": "stderr",
     "output_type": "stream",
     "text": [
      "C:\\Users\\edayo\\AppData\\Local\\Temp\\ipykernel_21404\\2151628629.py:20: UserWarning: To copy construct from a tensor, it is recommended to use sourceTensor.clone().detach() or sourceTensor.clone().detach().requires_grad_(True), rather than torch.tensor(sourceTensor).\n",
      "  X_tensor = torch.tensor(X_set.clone().detach(), dtype=torch.float32).clone().detach()\n",
      "C:\\Users\\edayo\\AppData\\Local\\Temp\\ipykernel_21404\\2151628629.py:21: UserWarning: To copy construct from a tensor, it is recommended to use sourceTensor.clone().detach() or sourceTensor.clone().detach().requires_grad_(True), rather than torch.tensor(sourceTensor).\n",
      "  Y_tensor = torch.tensor(Y_set.clone().detach(), dtype=torch.long).clone().detach()\n"
     ]
    }
   ],
   "source": [
    "# Predict the test set\n",
    "X_testTensor, Y_testTensor = prep_data(concatenatedRepresentationTest1, y_test, False)\n",
    "classify_emotions(fcClf, X_testTensor, Y_testTensor, False)"
   ]
  },
  {
   "cell_type": "markdown",
   "id": "1a5dc686",
   "metadata": {},
   "source": [
    "<h4> Train and validate CNNBiLSTM (❌ feature selection ⭕️ Oversample) given 2 epochs"
   ]
  },
  {
   "cell_type": "code",
   "execution_count": 43,
   "id": "665f4578",
   "metadata": {
    "code_folding": []
   },
   "outputs": [
    {
     "name": "stderr",
     "output_type": "stream",
     "text": [
      "C:\\Users\\edayo\\AppData\\Local\\Temp\\ipykernel_21404\\2151628629.py:20: UserWarning: To copy construct from a tensor, it is recommended to use sourceTensor.clone().detach() or sourceTensor.clone().detach().requires_grad_(True), rather than torch.tensor(sourceTensor).\n",
      "  X_tensor = torch.tensor(X_set.clone().detach(), dtype=torch.float32).clone().detach()\n",
      "C:\\Users\\edayo\\AppData\\Local\\Temp\\ipykernel_21404\\2151628629.py:21: UserWarning: To copy construct from a tensor, it is recommended to use sourceTensor.clone().detach() or sourceTensor.clone().detach().requires_grad_(True), rather than torch.tensor(sourceTensor).\n",
      "  Y_tensor = torch.tensor(Y_set.clone().detach(), dtype=torch.long).clone().detach()\n"
     ]
    },
    {
     "name": "stdout",
     "output_type": "stream",
     "text": [
      "Label anger: 5960 occurrences\n",
      "Label disgust: 5960 occurrences\n",
      "Label fear: 5960 occurrences\n",
      "Label joy: 5960 occurrences\n",
      "Label neutral: 5960 occurrences\n",
      "Label sadness: 5960 occurrences\n",
      "Label surprise: 5960 occurrences\n",
      "torch.Size([41720, 300]) torch.Size([41720])\n"
     ]
    },
    {
     "name": "stderr",
     "output_type": "stream",
     "text": [
      "Epoch 1/11:   0%|                                                                            | 0/41720 [00:00<?, ?it/s]C:\\Users\\edayo\\AppData\\Local\\Temp\\ipykernel_21404\\3756449778.py:23: UserWarning: To copy construct from a tensor, it is recommended to use sourceTensor.clone().detach() or sourceTensor.clone().detach().requires_grad_(True), rather than torch.tensor(sourceTensor).\n",
      "  inputs = torch.tensor(inputs.clone().detach(), dtype=torch.float32)\n",
      "C:\\Users\\edayo\\AppData\\Local\\Temp\\ipykernel_21404\\3756449778.py:24: UserWarning: To copy construct from a tensor, it is recommended to use sourceTensor.clone().detach() or sourceTensor.clone().detach().requires_grad_(True), rather than torch.tensor(sourceTensor).\n",
      "  labels = torch.tensor(labels.clone().detach(), dtype=torch.long)\n",
      "                                                                                                                       \r"
     ]
    },
    {
     "name": "stdout",
     "output_type": "stream",
     "text": [
      "Epoch [1/11], Loss: 0.5492, Accuracy: 0.8229\n"
     ]
    },
    {
     "name": "stderr",
     "output_type": "stream",
     "text": [
      "                                                                                                                       \r"
     ]
    },
    {
     "name": "stdout",
     "output_type": "stream",
     "text": [
      "Epoch [2/11], Loss: 0.5942, Accuracy: 0.8044\n",
      "Training terminated early at epoch 2 due to small change in loss\n"
     ]
    },
    {
     "data": {
      "image/png": "[encoded data removed]",
      "text/plain": [
       "<Figure size 720x360 with 2 Axes>"
      ]
     },
     "metadata": {
      "needs_background": "light"
     },
     "output_type": "display_data"
    },
    {
     "name": "stdout",
     "output_type": "stream",
     "text": [
      "Training CNNBiLSTM given 15 epochs - Elapsed time: 612.7316813468933 seconds\n",
      "Class: anger\n",
      "Precision: 0.0000\n",
      "Recall: 0.0000\n",
      "F1 Score: 0.0000\n",
      "\n",
      "Class: disgust\n",
      "Precision: 0.0000\n",
      "Recall: 0.0000\n",
      "F1 Score: 0.0000\n",
      "\n",
      "Class: fear\n",
      "Precision: 0.0000\n",
      "Recall: 0.0000\n",
      "F1 Score: 0.0000\n",
      "\n",
      "Class: joy\n",
      "Precision: 0.0000\n",
      "Recall: 0.0000\n",
      "F1 Score: 0.0000\n",
      "\n",
      "Class: neutral\n",
      "Precision: 0.0000\n",
      "Recall: 0.0000\n",
      "F1 Score: 0.0000\n",
      "\n",
      "Class: sadness\n",
      "Precision: 0.0000\n",
      "Recall: 0.0000\n",
      "F1 Score: 0.0000\n",
      "\n",
      "Class: surprise\n",
      "Precision: 0.1429\n",
      "Recall: 1.0000\n",
      "F1 Score: 0.2500\n",
      "\n",
      "Class: macro avg\n",
      "Precision: 0.0204\n",
      "Recall: 0.1429\n",
      "F1 Score: 0.0357\n",
      "\n",
      "Class: weighted avg\n",
      "Precision: 0.0204\n",
      "Recall: 0.1429\n",
      "F1 Score: 0.0357\n",
      "\n",
      "Accuracy: 0.1429\n",
      "Weighted F1 Score: 0.0357\n"
     ]
    }
   ],
   "source": [
    "X_trainTensor, Y_trainTensor = prep_data(rawCtxRepresentationTrain, y_train, True)\n",
    "\n",
    "start_time = time.time()\n",
    "\n",
    "fcClf = model_train(X_set=X_trainTensor, \n",
    "                    Y_set=Y_trainTensor,\n",
    "                    input_dim=X_trainTensor.shape[1], \n",
    "                    num_epochs=11, \n",
    "                    num_classes=7)\n",
    "\n",
    "end_time = time.time()\n",
    "elapsed_time = end_time - start_time\n",
    "\n",
    "end_time = time.time()\n",
    "elapsed_time = end_time - start_time\n",
    "print(f\"Training CNNBiLSTM given 15 epochs - Elapsed time: {elapsed_time} seconds\")\n",
    "\n",
    "classify_emotions(fcClf, X_trainTensor, Y_trainTensor, True)"
   ]
  },
  {
   "cell_type": "code",
   "execution_count": 44,
   "id": "052cd879",
   "metadata": {},
   "outputs": [
    {
     "name": "stdout",
     "output_type": "stream",
     "text": [
      "Label anger: 516 occurrences\n",
      "Label disgust: 99 occurrences\n",
      "Label fear: 60 occurrences\n",
      "Label joy: 495 occurrences\n",
      "Label neutral: 1615 occurrences\n",
      "Label sadness: 263 occurrences\n",
      "Label surprise: 352 occurrences\n",
      "torch.Size([3400, 300]) torch.Size([3400])\n",
      "Class: anger\n",
      "Precision: 0.0000\n",
      "Recall: 0.0000\n",
      "F1 Score: 0.0000\n",
      "\n",
      "Class: disgust\n",
      "Precision: 0.0000\n",
      "Recall: 0.0000\n",
      "F1 Score: 0.0000\n",
      "\n",
      "Class: fear\n",
      "Precision: 0.0000\n",
      "Recall: 0.0000\n",
      "F1 Score: 0.0000\n",
      "\n",
      "Class: joy\n",
      "Precision: 0.0000\n",
      "Recall: 0.0000\n",
      "F1 Score: 0.0000\n",
      "\n",
      "Class: neutral\n",
      "Precision: 0.0000\n",
      "Recall: 0.0000\n",
      "F1 Score: 0.0000\n",
      "\n",
      "Class: sadness\n",
      "Precision: 0.0000\n",
      "Recall: 0.0000\n",
      "F1 Score: 0.0000\n",
      "\n",
      "Class: surprise\n",
      "Precision: 0.1035\n",
      "Recall: 1.0000\n",
      "F1 Score: 0.1876\n",
      "\n",
      "Class: macro avg\n",
      "Precision: 0.0148\n",
      "Recall: 0.1429\n",
      "F1 Score: 0.0268\n",
      "\n",
      "Class: weighted avg\n",
      "Precision: 0.0107\n",
      "Recall: 0.1035\n",
      "F1 Score: 0.0194\n",
      "\n",
      "Accuracy: 0.1035\n",
      "Weighted F1 Score: 0.0194\n"
     ]
    },
    {
     "name": "stderr",
     "output_type": "stream",
     "text": [
      "C:\\Users\\edayo\\AppData\\Local\\Temp\\ipykernel_21404\\2151628629.py:20: UserWarning: To copy construct from a tensor, it is recommended to use sourceTensor.clone().detach() or sourceTensor.clone().detach().requires_grad_(True), rather than torch.tensor(sourceTensor).\n",
      "  X_tensor = torch.tensor(X_set.clone().detach(), dtype=torch.float32).clone().detach()\n",
      "C:\\Users\\edayo\\AppData\\Local\\Temp\\ipykernel_21404\\2151628629.py:21: UserWarning: To copy construct from a tensor, it is recommended to use sourceTensor.clone().detach() or sourceTensor.clone().detach().requires_grad_(True), rather than torch.tensor(sourceTensor).\n",
      "  Y_tensor = torch.tensor(Y_set.clone().detach(), dtype=torch.long).clone().detach()\n"
     ]
    }
   ],
   "source": [
    "# Predict the test set\n",
    "X_testTensor, Y_testTensor = prep_data(rawCtxRepresentationTest, y_test, False)\n",
    "classify_emotions(fcClf, X_testTensor, Y_testTensor, False)"
   ]
  },
  {
   "cell_type": "markdown",
   "id": "2cac86ff",
   "metadata": {},
   "source": [
    "<h4> Train and validate BERT+EGAT (⭕️ feature selection, ⭕️ Oversample) given 11 epochs"
   ]
  },
  {
   "cell_type": "code",
   "execution_count": 56,
   "id": "3189c7d9",
   "metadata": {},
   "outputs": [
    {
     "name": "stderr",
     "output_type": "stream",
     "text": [
      "C:\\Users\\edayo\\AppData\\Local\\Temp\\ipykernel_21404\\2151628629.py:20: UserWarning: To copy construct from a tensor, it is recommended to use sourceTensor.clone().detach() or sourceTensor.clone().detach().requires_grad_(True), rather than torch.tensor(sourceTensor).\n",
      "  X_tensor = torch.tensor(X_set.clone().detach(), dtype=torch.float32).clone().detach()\n",
      "C:\\Users\\edayo\\AppData\\Local\\Temp\\ipykernel_21404\\2151628629.py:21: UserWarning: To copy construct from a tensor, it is recommended to use sourceTensor.clone().detach() or sourceTensor.clone().detach().requires_grad_(True), rather than torch.tensor(sourceTensor).\n",
      "  Y_tensor = torch.tensor(Y_set.clone().detach(), dtype=torch.long).clone().detach()\n"
     ]
    },
    {
     "name": "stdout",
     "output_type": "stream",
     "text": [
      "Label anger: 5960 occurrences\n",
      "Label disgust: 5960 occurrences\n",
      "Label fear: 5960 occurrences\n",
      "Label joy: 5960 occurrences\n",
      "Label neutral: 5960 occurrences\n",
      "Label sadness: 5960 occurrences\n",
      "Label surprise: 5960 occurrences\n",
      "torch.Size([41720, 131]) torch.Size([41720])\n"
     ]
    },
    {
     "name": "stderr",
     "output_type": "stream",
     "text": [
      "Epoch 1/5:   0%|                                                                             | 0/41720 [00:00<?, ?it/s]C:\\Users\\edayo\\AppData\\Local\\Temp\\ipykernel_21404\\1948670983.py:23: UserWarning: To copy construct from a tensor, it is recommended to use sourceTensor.clone().detach() or sourceTensor.clone().detach().requires_grad_(True), rather than torch.tensor(sourceTensor).\n",
      "  inputs = torch.tensor(inputs.clone().detach(), dtype=torch.float32)\n",
      "C:\\Users\\edayo\\AppData\\Local\\Temp\\ipykernel_21404\\1948670983.py:24: UserWarning: To copy construct from a tensor, it is recommended to use sourceTensor.clone().detach() or sourceTensor.clone().detach().requires_grad_(True), rather than torch.tensor(sourceTensor).\n",
      "  labels = torch.tensor(labels.clone().detach(), dtype=torch.long)\n",
      "                                                                                                                       \r"
     ]
    },
    {
     "name": "stdout",
     "output_type": "stream",
     "text": [
      "Epoch [1/5], Loss: 0.7708, Accuracy: 0.7471\n"
     ]
    },
    {
     "name": "stderr",
     "output_type": "stream",
     "text": [
      "                                                                                                                       \r"
     ]
    },
    {
     "name": "stdout",
     "output_type": "stream",
     "text": [
      "Epoch [2/5], Loss: 0.7725, Accuracy: 0.7529\n",
      "Training terminated early at epoch 2 due to small change in loss\n"
     ]
    },
    {
     "data": {
      "image/png": "[encoded data removed]",
      "text/plain": [
       "<Figure size 720x360 with 2 Axes>"
      ]
     },
     "metadata": {
      "needs_background": "light"
     },
     "output_type": "display_data"
    },
    {
     "name": "stdout",
     "output_type": "stream",
     "text": [
      "Training CNNBiLSTM given 15 epochs - Elapsed time: 310.8277277946472 seconds\n",
      "Class: anger\n",
      "Precision: 0.0000\n",
      "Recall: 0.0000\n",
      "F1 Score: 0.0000\n",
      "\n",
      "Class: disgust\n",
      "Precision: 0.0000\n",
      "Recall: 0.0000\n",
      "F1 Score: 0.0000\n",
      "\n",
      "Class: fear\n",
      "Precision: 0.0000\n",
      "Recall: 0.0000\n",
      "F1 Score: 0.0000\n",
      "\n",
      "Class: joy\n",
      "Precision: 0.0000\n",
      "Recall: 0.0000\n",
      "F1 Score: 0.0000\n",
      "\n",
      "Class: neutral\n",
      "Precision: 0.0000\n",
      "Recall: 0.0000\n",
      "F1 Score: 0.0000\n",
      "\n",
      "Class: sadness\n",
      "Precision: 0.0000\n",
      "Recall: 0.0000\n",
      "F1 Score: 0.0000\n",
      "\n",
      "Class: surprise\n",
      "Precision: 0.1429\n",
      "Recall: 1.0000\n",
      "F1 Score: 0.2500\n",
      "\n",
      "Class: macro avg\n",
      "Precision: 0.0204\n",
      "Recall: 0.1429\n",
      "F1 Score: 0.0357\n",
      "\n",
      "Class: weighted avg\n",
      "Precision: 0.0204\n",
      "Recall: 0.1429\n",
      "F1 Score: 0.0357\n",
      "\n",
      "Accuracy: 0.1429\n",
      "Weighted F1 Score: 0.0357\n"
     ]
    }
   ],
   "source": [
    "X_trainTensor, Y_trainTensor = prep_data(concatenatedSelectedRepresentationTrain1, y_train, True)\n",
    "\n",
    "start_time = time.time()\n",
    "\n",
    "fcClf = model_train(X_set=X_trainTensor, \n",
    "                    Y_set=Y_trainTensor,\n",
    "                    input_dim=X_trainTensor.shape[1], \n",
    "                    num_epochs=5, \n",
    "                    num_classes=7)\n",
    "\n",
    "end_time = time.time()\n",
    "elapsed_time = end_time - start_time\n",
    "\n",
    "end_time = time.time()\n",
    "elapsed_time = end_time - start_time\n",
    "print(f\"Training CNNBiLSTM given 15 epochs - Elapsed time: {elapsed_time} seconds\")\n",
    "\n",
    "classify_emotions(fcClf, X_trainTensor, Y_trainTensor, True)"
   ]
  },
  {
   "cell_type": "code",
   "execution_count": null,
   "id": "1847bae2",
   "metadata": {},
   "outputs": [],
   "source": [
    "# # Predict the test set\n",
    "X_testTensor, Y_testTensor = prep_data(concatenatedSelectedRepresentationTest1, y_test, False)\n",
    "classify_emotions(fcClf, X_testTensor, Y_testTensor, False)"
   ]
  },
  {
   "cell_type": "markdown",
   "id": "8bbfadf1",
   "metadata": {},
   "source": [
    "<h4> Train and validate BERT+EGAT (⭕️ feature selection, ❌ Oversample) given 11 epochs¶"
   ]
  },
  {
   "cell_type": "code",
   "execution_count": 53,
   "id": "3f0fbe5f",
   "metadata": {},
   "outputs": [
    {
     "name": "stderr",
     "output_type": "stream",
     "text": [
      "C:\\Users\\edayo\\AppData\\Local\\Temp\\ipykernel_21404\\2151628629.py:20: UserWarning: To copy construct from a tensor, it is recommended to use sourceTensor.clone().detach() or sourceTensor.clone().detach().requires_grad_(True), rather than torch.tensor(sourceTensor).\n",
      "  X_tensor = torch.tensor(X_set.clone().detach(), dtype=torch.float32).clone().detach()\n",
      "C:\\Users\\edayo\\AppData\\Local\\Temp\\ipykernel_21404\\2151628629.py:21: UserWarning: To copy construct from a tensor, it is recommended to use sourceTensor.clone().detach() or sourceTensor.clone().detach().requires_grad_(True), rather than torch.tensor(sourceTensor).\n",
      "  Y_tensor = torch.tensor(Y_set.clone().detach(), dtype=torch.long).clone().detach()\n"
     ]
    },
    {
     "name": "stdout",
     "output_type": "stream",
     "text": [
      "Label anger: 1500 occurrences\n",
      "Label disgust: 364 occurrences\n",
      "Label fear: 338 occurrences\n",
      "Label joy: 2312 occurrences\n",
      "Label neutral: 5960 occurrences\n",
      "Label sadness: 876 occurrences\n",
      "Label surprise: 1490 occurrences\n",
      "torch.Size([12840, 131]) torch.Size([12840])\n"
     ]
    },
    {
     "name": "stderr",
     "output_type": "stream",
     "text": [
      "Epoch 1/11:   0%|                                                                            | 0/12840 [00:00<?, ?it/s]C:\\Users\\edayo\\AppData\\Local\\Temp\\ipykernel_21404\\1948670983.py:23: UserWarning: To copy construct from a tensor, it is recommended to use sourceTensor.clone().detach() or sourceTensor.clone().detach().requires_grad_(True), rather than torch.tensor(sourceTensor).\n",
      "  inputs = torch.tensor(inputs.clone().detach(), dtype=torch.float32)\n",
      "C:\\Users\\edayo\\AppData\\Local\\Temp\\ipykernel_21404\\1948670983.py:24: UserWarning: To copy construct from a tensor, it is recommended to use sourceTensor.clone().detach() or sourceTensor.clone().detach().requires_grad_(True), rather than torch.tensor(sourceTensor).\n",
      "  labels = torch.tensor(labels.clone().detach(), dtype=torch.long)\n",
      "                                                                                                                       \r"
     ]
    },
    {
     "name": "stdout",
     "output_type": "stream",
     "text": [
      "Epoch [1/11], Loss: 1.5805, Accuracy: 0.4622\n"
     ]
    },
    {
     "name": "stderr",
     "output_type": "stream",
     "text": [
      "                                                                                                                       \r"
     ]
    },
    {
     "name": "stdout",
     "output_type": "stream",
     "text": [
      "Epoch [2/11], Loss: 1.5517, Accuracy: 0.4642\n"
     ]
    },
    {
     "name": "stderr",
     "output_type": "stream",
     "text": [
      "                                                                                                                       \r"
     ]
    },
    {
     "name": "stdout",
     "output_type": "stream",
     "text": [
      "Epoch [3/11], Loss: 1.5454, Accuracy: 0.4642\n",
      "Training terminated early at epoch 3 due to small change in loss\n"
     ]
    },
    {
     "data": {
      "image/png": "[encoded data removed]",
      "text/plain": [
       "<Figure size 720x360 with 2 Axes>"
      ]
     },
     "metadata": {
      "needs_background": "light"
     },
     "output_type": "display_data"
    },
    {
     "name": "stdout",
     "output_type": "stream",
     "text": [
      "Training CNNBiLSTM given 15 epochs - Elapsed time: 107.85777187347412 seconds\n",
      "Class: anger\n",
      "Precision: 0.0000\n",
      "Recall: 0.0000\n",
      "F1 Score: 0.0000\n",
      "\n",
      "Class: disgust\n",
      "Precision: 0.0000\n",
      "Recall: 0.0000\n",
      "F1 Score: 0.0000\n",
      "\n",
      "Class: fear\n",
      "Precision: 0.0000\n",
      "Recall: 0.0000\n",
      "F1 Score: 0.0000\n",
      "\n",
      "Class: joy\n",
      "Precision: 0.0000\n",
      "Recall: 0.0000\n",
      "F1 Score: 0.0000\n",
      "\n",
      "Class: neutral\n",
      "Precision: 0.4642\n",
      "Recall: 1.0000\n",
      "F1 Score: 0.6340\n",
      "\n",
      "Class: sadness\n",
      "Precision: 0.0000\n",
      "Recall: 0.0000\n",
      "F1 Score: 0.0000\n",
      "\n",
      "Class: surprise\n",
      "Precision: 0.0000\n",
      "Recall: 0.0000\n",
      "F1 Score: 0.0000\n",
      "\n",
      "Class: macro avg\n",
      "Precision: 0.0663\n",
      "Recall: 0.1429\n",
      "F1 Score: 0.0906\n",
      "\n",
      "Class: weighted avg\n",
      "Precision: 0.2155\n",
      "Recall: 0.4642\n",
      "F1 Score: 0.2943\n",
      "\n",
      "Accuracy: 0.4642\n",
      "Weighted F1 Score: 0.2943\n"
     ]
    }
   ],
   "source": [
    "X_trainTensor, Y_trainTensor = prep_data(concatenatedSelectedRepresentationTrain1, y_train, False)\n",
    "\n",
    "start_time = time.time()\n",
    "\n",
    "fcClf = model_train(X_set=X_trainTensor, \n",
    "                    Y_set=Y_trainTensor,\n",
    "                    input_dim=X_trainTensor.shape[1], \n",
    "                    num_epochs=11, \n",
    "                    num_classes=7)\n",
    "\n",
    "end_time = time.time()\n",
    "elapsed_time = end_time - start_time\n",
    "\n",
    "end_time = time.time()\n",
    "elapsed_time = end_time - start_time\n",
    "print(f\"Training CNNBiLSTM given 15 epochs - Elapsed time: {elapsed_time} seconds\")\n",
    "\n",
    "classify_emotions(fcClf, X_trainTensor, Y_trainTensor, True)"
   ]
  },
  {
   "cell_type": "code",
   "execution_count": 54,
   "id": "dccd7044",
   "metadata": {},
   "outputs": [
    {
     "name": "stdout",
     "output_type": "stream",
     "text": [
      "Label anger: 516 occurrences\n",
      "Label disgust: 99 occurrences\n",
      "Label fear: 60 occurrences\n",
      "Label joy: 495 occurrences\n",
      "Label neutral: 1615 occurrences\n",
      "Label sadness: 263 occurrences\n",
      "Label surprise: 352 occurrences\n",
      "torch.Size([3400, 131]) torch.Size([3400])\n",
      "Class: anger\n",
      "Precision: 0.0000\n",
      "Recall: 0.0000\n",
      "F1 Score: 0.0000\n",
      "\n",
      "Class: disgust\n",
      "Precision: 0.0000\n",
      "Recall: 0.0000\n",
      "F1 Score: 0.0000\n",
      "\n",
      "Class: fear\n",
      "Precision: 0.0000\n",
      "Recall: 0.0000\n",
      "F1 Score: 0.0000\n",
      "\n",
      "Class: joy\n",
      "Precision: 0.0000\n",
      "Recall: 0.0000\n",
      "F1 Score: 0.0000\n",
      "\n",
      "Class: neutral\n",
      "Precision: 0.4750\n",
      "Recall: 1.0000\n",
      "F1 Score: 0.6441\n",
      "\n",
      "Class: sadness\n",
      "Precision: 0.0000\n",
      "Recall: 0.0000\n",
      "F1 Score: 0.0000\n",
      "\n",
      "Class: surprise\n",
      "Precision: 0.0000\n",
      "Recall: 0.0000\n",
      "F1 Score: 0.0000\n",
      "\n",
      "Class: macro avg\n",
      "Precision: 0.0679\n",
      "Recall: 0.1429\n",
      "F1 Score: 0.0920\n",
      "\n",
      "Class: weighted avg\n",
      "Precision: 0.2256\n",
      "Recall: 0.4750\n",
      "F1 Score: 0.3059\n",
      "\n",
      "Accuracy: 0.4750\n",
      "Weighted F1 Score: 0.3059\n"
     ]
    },
    {
     "name": "stderr",
     "output_type": "stream",
     "text": [
      "C:\\Users\\edayo\\AppData\\Local\\Temp\\ipykernel_21404\\2151628629.py:20: UserWarning: To copy construct from a tensor, it is recommended to use sourceTensor.clone().detach() or sourceTensor.clone().detach().requires_grad_(True), rather than torch.tensor(sourceTensor).\n",
      "  X_tensor = torch.tensor(X_set.clone().detach(), dtype=torch.float32).clone().detach()\n",
      "C:\\Users\\edayo\\AppData\\Local\\Temp\\ipykernel_21404\\2151628629.py:21: UserWarning: To copy construct from a tensor, it is recommended to use sourceTensor.clone().detach() or sourceTensor.clone().detach().requires_grad_(True), rather than torch.tensor(sourceTensor).\n",
      "  Y_tensor = torch.tensor(Y_set.clone().detach(), dtype=torch.long).clone().detach()\n"
     ]
    }
   ],
   "source": [
    "# # Predict the test set\n",
    "X_testTensor, Y_testTensor = prep_data(concatenatedSelectedRepresentationTest1, y_test, False)\n",
    "classify_emotions(fcClf, X_testTensor, Y_testTensor, False)"
   ]
  }
 ],
 "metadata": {
  "kernelspec": {
   "display_name": "Python 3 (ipykernel)",
   "language": "python",
   "name": "python3"
  },
  "language_info": {
   "codemirror_mode": {
    "name": "ipython",
    "version": 3
   },
   "file_extension": ".py",
   "mimetype": "text/x-python",
   "name": "python",
   "nbconvert_exporter": "python",
   "pygments_lexer": "ipython3",
   "version": "3.10.4"
  },
  "toc": {
   "base_numbering": 1,
   "nav_menu": {},
   "number_sections": true,
   "sideBar": true,
   "skip_h1_title": false,
   "title_cell": "Table of Contents",
   "title_sidebar": "Contents",
   "toc_cell": false,
   "toc_position": {},
   "toc_section_display": true,
   "toc_window_display": false
  }
 },
 "nbformat": 4,
 "nbformat_minor": 5
}
