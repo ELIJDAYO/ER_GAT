{
 "cells": [
  {
   "cell_type": "code",
   "execution_count": 4,
   "id": "60958b01",
   "metadata": {},
   "outputs": [
    {
     "name": "stdout",
     "output_type": "stream",
     "text": [
      "requirements.txt generated with 24 libraries.\n"
     ]
    }
   ],
   "source": [
    "import os\n",
    "import nbformat\n",
    "import pkg_resources\n",
    "\n",
    "def extract_imports_from_notebook(notebook_path, custom_libraries):\n",
    "    with open(notebook_path, 'r', encoding='utf-8') as f:\n",
    "        notebook = nbformat.read(f, as_version=4)\n",
    "    \n",
    "    imports = set()\n",
    "    for cell in notebook.cells:\n",
    "        if cell.cell_type == 'code':\n",
    "            code = cell.source\n",
    "            lines = code.split('\\n')\n",
    "            for line in lines:\n",
    "                line = line.strip()\n",
    "                if line.startswith('import ') or line.startswith('from '):\n",
    "                    parts = line.replace(',', ' ').split()\n",
    "                    if parts[0] == 'import':\n",
    "                        for part in parts[1:]:\n",
    "                            lib = part.split('.')[0]\n",
    "                            if lib and lib not in custom_libraries:\n",
    "                                imports.add(lib)\n",
    "                    elif parts[0] == 'from':\n",
    "                        lib = parts[1].split('.')[0]\n",
    "                        if lib and lib not in custom_libraries:\n",
    "                            imports.add(lib)\n",
    "    return imports\n",
    "\n",
    "def get_installed_version(lib_name):\n",
    "    try:\n",
    "        version = pkg_resources.get_distribution(lib_name).version\n",
    "    except pkg_resources.DistributionNotFound:\n",
    "        version = None\n",
    "    return version\n",
    "\n",
    "def generate_requirements(custom_libraries=None):\n",
    "    if custom_libraries is None:\n",
    "        custom_libraries = []\n",
    "    \n",
    "    current_directory = os.getcwd()\n",
    "    all_imports = set()\n",
    "    \n",
    "    for root, _, files in os.walk(current_directory):\n",
    "        for file in files:\n",
    "            if file.endswith('.ipynb'):\n",
    "                notebook_path = os.path.join(root, file)\n",
    "                imports = extract_imports_from_notebook(notebook_path, custom_libraries)\n",
    "                all_imports.update(imports)\n",
    "    \n",
    "    requirements = []\n",
    "    for lib in sorted(all_imports):\n",
    "        version = get_installed_version(lib)\n",
    "        if version:\n",
    "            requirements.append(f'{lib}=={version}')\n",
    "    \n",
    "    with open('requirements.txt', 'w') as f:\n",
    "        for req in requirements:\n",
    "            f.write(req + '\\n')\n",
    "\n",
    "    print(f\"requirements.txt generated with {len(requirements)} libraries.\")\n",
    "\n",
    "# List your custom libraries here\n",
    "custom_libraries = ['model', 'your_custom_library']\n",
    "generate_requirements(custom_libraries)\n"
   ]
  },
  {
   "cell_type": "code",
   "execution_count": 5,
   "id": "6ebe89c2",
   "metadata": {},
   "outputs": [
    {
     "name": "stdout",
     "output_type": "stream",
     "text": [
      "Collecting py-cpuinfo\n",
      "  Downloading py_cpuinfo-9.0.0-py3-none-any.whl.metadata (794 bytes)\n",
      "Requirement already satisfied: psutil in c:\\users\\edayo\\appdata\\local\\programs\\python\\python310\\lib\\site-packages (5.9.0)\n",
      "Collecting gputil\n",
      "  Downloading GPUtil-1.4.0.tar.gz (5.5 kB)\n",
      "  Preparing metadata (setup.py): started\n",
      "  Preparing metadata (setup.py): finished with status 'done'\n",
      "Downloading py_cpuinfo-9.0.0-py3-none-any.whl (22 kB)\n",
      "Building wheels for collected packages: gputil\n",
      "  Building wheel for gputil (setup.py): started\n",
      "  Building wheel for gputil (setup.py): finished with status 'done'\n",
      "  Created wheel for gputil: filename=GPUtil-1.4.0-py3-none-any.whl size=7418 sha256=12314f09b9af1577b47c1df3a537502a0da42003be2bfeddcf29e6c98cfaa8e9\n",
      "  Stored in directory: c:\\users\\edayo\\appdata\\local\\pip\\cache\\wheels\\a9\\8a\\bd\\81082387151853ab8b6b3ef33426e98f5cbfebc3c397a9d4d0\n",
      "Successfully built gputil\n",
      "Installing collected packages: py-cpuinfo, gputil\n",
      "Successfully installed gputil-1.4.0 py-cpuinfo-9.0.0\n"
     ]
    },
    {
     "name": "stderr",
     "output_type": "stream",
     "text": [
      "WARNING: Ignoring invalid distribution -atplotlib (c:\\users\\edayo\\appdata\\local\\programs\\python\\python310\\lib\\site-packages)\n",
      "WARNING: Ignoring invalid distribution -atplotlib (c:\\users\\edayo\\appdata\\local\\programs\\python\\python310\\lib\\site-packages)\n",
      "\n",
      "[notice] A new release of pip is available: 24.0 -> 24.1.2\n",
      "[notice] To update, run: python.exe -m pip install --upgrade pip\n"
     ]
    }
   ],
   "source": [
    "!pip install py-cpuinfo psutil gputil\n"
   ]
  },
  {
   "cell_type": "code",
   "execution_count": 7,
   "id": "23adfe7a",
   "metadata": {},
   "outputs": [
    {
     "name": "stdout",
     "output_type": "stream",
     "text": [
      "{'cpu_info': {'brand': '11th Gen Intel(R) Core(TM) i5-11320H @ 3.20GHz', 'arch': 'X86_64', 'count': 8, 'hz_advertised': '3.2000 GHz'}, 'memory_info': {'total': 16905965568, 'available': 6061633536, 'used': 10844332032, 'percent': 64.1}, 'disk_info': {'total': 486354251776, 'used': 353266790400, 'free': 133087461376, 'percent': 72.6, 'meets_minimum_storage': True}}\n"
     ]
    }
   ],
   "source": [
    "import cpuinfo\n",
    "import psutil\n",
    "import GPUtil\n",
    "\n",
    "def get_important_system_info():\n",
    "    # CPU Info\n",
    "    cpu_info = cpuinfo.get_cpu_info()\n",
    "    important_cpu_info = {\n",
    "        'brand': cpu_info.get('brand_raw'),\n",
    "        'arch': cpu_info.get('arch'),\n",
    "        'count': cpu_info.get('count'),\n",
    "        'hz_advertised': cpu_info.get('hz_advertised_friendly')\n",
    "    }\n",
    "\n",
    "    # Memory Info\n",
    "    memory_info = psutil.virtual_memory()\n",
    "    important_memory_info = {\n",
    "        'total': memory_info.total,\n",
    "        'available': memory_info.available,\n",
    "        'used': memory_info.used,\n",
    "        'percent': memory_info.percent\n",
    "    }\n",
    "\n",
    "    # Disk Info\n",
    "    disk_info = psutil.disk_usage('/')\n",
    "    important_disk_info = {\n",
    "        'total': disk_info.total,\n",
    "        'used': disk_info.used,\n",
    "        'free': disk_info.free,\n",
    "        'percent': disk_info.percent,\n",
    "        'meets_minimum_storage': disk_info.free >= 5 * 1024 * 1024 * 1024  # 5GB in bytes\n",
    "    }\n",
    "\n",
    "    # Combine all important info\n",
    "    important_system_info = {\n",
    "        'cpu_info': important_cpu_info,\n",
    "        'memory_info': important_memory_info,\n",
    "        'disk_info': important_disk_info\n",
    "    }\n",
    "\n",
    "    return important_system_info\n",
    "\n",
    "info = get_important_system_info()\n",
    "print(info)\n"
   ]
  }
 ],
 "metadata": {
  "kernelspec": {
   "display_name": "Python 3 (ipykernel)",
   "language": "python",
   "name": "python3"
  },
  "language_info": {
   "codemirror_mode": {
    "name": "ipython",
    "version": 3
   },
   "file_extension": ".py",
   "mimetype": "text/x-python",
   "name": "python",
   "nbconvert_exporter": "python",
   "pygments_lexer": "ipython3",
   "version": "3.10.4"
  },
  "toc": {
   "base_numbering": 1,
   "nav_menu": {},
   "number_sections": true,
   "sideBar": true,
   "skip_h1_title": false,
   "title_cell": "Table of Contents",
   "title_sidebar": "Contents",
   "toc_cell": false,
   "toc_position": {},
   "toc_section_display": true,
   "toc_window_display": false
  }
 },
 "nbformat": 4,
 "nbformat_minor": 5
}
