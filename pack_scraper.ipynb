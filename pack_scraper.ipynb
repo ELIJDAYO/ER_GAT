{
 "cells": [
  {
   "cell_type": "code",
   "execution_count": 4,
   "id": "60958b01",
   "metadata": {},
   "outputs": [
    {
     "name": "stdout",
     "output_type": "stream",
     "text": [
      "requirements.txt generated with 24 libraries.\n"
     ]
    }
   ],
   "source": [
    "import os\n",
    "import nbformat\n",
    "import pkg_resources\n",
    "\n",
    "def extract_imports_from_notebook(notebook_path, custom_libraries):\n",
    "    with open(notebook_path, 'r', encoding='utf-8') as f:\n",
    "        notebook = nbformat.read(f, as_version=4)\n",
    "    \n",
    "    imports = set()\n",
    "    for cell in notebook.cells:\n",
    "        if cell.cell_type == 'code':\n",
    "            code = cell.source\n",
    "            lines = code.split('\\n')\n",
    "            for line in lines:\n",
    "                line = line.strip()\n",
    "                if line.startswith('import ') or line.startswith('from '):\n",
    "                    parts = line.replace(',', ' ').split()\n",
    "                    if parts[0] == 'import':\n",
    "                        for part in parts[1:]:\n",
    "                            lib = part.split('.')[0]\n",
    "                            if lib and lib not in custom_libraries:\n",
    "                                imports.add(lib)\n",
    "                    elif parts[0] == 'from':\n",
    "                        lib = parts[1].split('.')[0]\n",
    "                        if lib and lib not in custom_libraries:\n",
    "                            imports.add(lib)\n",
    "    return imports\n",
    "\n",
    "def get_installed_version(lib_name):\n",
    "    try:\n",
    "        version = pkg_resources.get_distribution(lib_name).version\n",
    "    except pkg_resources.DistributionNotFound:\n",
    "        version = None\n",
    "    return version\n",
    "\n",
    "def generate_requirements(custom_libraries=None):\n",
    "    if custom_libraries is None:\n",
    "        custom_libraries = []\n",
    "    \n",
    "    current_directory = os.getcwd()\n",
    "    all_imports = set()\n",
    "    \n",
    "    for root, _, files in os.walk(current_directory):\n",
    "        for file in files:\n",
    "            if file.endswith('.ipynb'):\n",
    "                notebook_path = os.path.join(root, file)\n",
    "                imports = extract_imports_from_notebook(notebook_path, custom_libraries)\n",
    "                all_imports.update(imports)\n",
    "    \n",
    "    requirements = []\n",
    "    for lib in sorted(all_imports):\n",
    "        version = get_installed_version(lib)\n",
    "        if version:\n",
    "            requirements.append(f'{lib}=={version}')\n",
    "    \n",
    "    with open('requirements.txt', 'w') as f:\n",
    "        for req in requirements:\n",
    "            f.write(req + '\\n')\n",
    "\n",
    "    print(f\"requirements.txt generated with {len(requirements)} libraries.\")\n",
    "\n",
    "# List your custom libraries here\n",
    "custom_libraries = ['model', 'your_custom_library']\n",
    "generate_requirements(custom_libraries)\n"
   ]
  }
 ],
 "metadata": {
  "kernelspec": {
   "display_name": "Python 3 (ipykernel)",
   "language": "python",
   "name": "python3"
  },
  "language_info": {
   "codemirror_mode": {
    "name": "ipython",
    "version": 3
   },
   "file_extension": ".py",
   "mimetype": "text/x-python",
   "name": "python",
   "nbconvert_exporter": "python",
   "pygments_lexer": "ipython3",
   "version": "3.10.4"
  },
  "toc": {
   "base_numbering": 1,
   "nav_menu": {},
   "number_sections": true,
   "sideBar": true,
   "skip_h1_title": false,
   "title_cell": "Table of Contents",
   "title_sidebar": "Contents",
   "toc_cell": false,
   "toc_position": {},
   "toc_section_display": true,
   "toc_window_display": false
  }
 },
 "nbformat": 4,
 "nbformat_minor": 5
}
