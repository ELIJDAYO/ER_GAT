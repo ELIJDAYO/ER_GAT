{
 "cells": [
  {
   "cell_type": "code",
   "execution_count": 102,
   "id": "2dfdc889",
   "metadata": {},
   "outputs": [
    {
     "name": "stdout",
     "output_type": "stream",
     "text": [
      "The autoreload extension is already loaded. To reload it, use:\n",
      "  %reload_ext autoreload\n"
     ]
    }
   ],
   "source": [
    "import torch, os, math, pickle, sys, random, time\n",
    "from tqdm import tqdm\n",
    "import torch.nn.init as init\n",
    "import dgl,numpy as np\n",
    "from torch.utils.data import Dataset, DataLoader\n",
    "from torch_geometric.data import Data, DataLoader as GDataLoader, Batch\n",
    "import torch.nn as nn\n",
    "import torch.optim as optim\n",
    "import torch.nn.functional as F\n",
    "from torch.nn import Parameter\n",
    "from collections import Counter\n",
    "import dgl.function as fn\n",
    "from dgl.nn.functional import edge_softmax\n",
    "import pandas as pd\n",
    "from scipy.stats import chi2_contingency\n",
    "from sklearn.manifold import TSNE\n",
    "import matplotlib.pyplot as plt\n",
    "from torch_geometric.nn import RGCNConv, GraphConv, global_max_pool\n",
    "from model import DialogueGCN_MELDModel, GraphNetwork_RGCN, GraphNetwork_GAT, \\\n",
    "GraphNetwork_GAT_EdgeFeat, GraphNetwork_GATv2, GraphNetwork_GATv2_EdgeFeat, GraphNetwork_RGAT, \\\n",
    "MatchingAttention, getDataLoaderAndLabels,GCNWithSkipConnections\n",
    "from model import DATASET_PATH\n",
    "from torch.nn.utils.rnn import pad_sequence\n",
    "from graph_context_dataset import GraphContextDataset\n",
    "from sklearn.metrics import classification_report\n",
    "from model import FCClassifier, MyNetwork, DATASET_PATH, MatchingAttention, RGCNWithGAT, \\\n",
    "RGATWithSkipConnections, EdgeGATWithSkipConnection, EGATConv, EdgeGATWithGCN, EdgeGATWithSkipConnection\n",
    "%load_ext autoreload\n",
    "%autoreload 2"
   ]
  },
  {
   "cell_type": "code",
   "execution_count": 2,
   "id": "9f920f2f",
   "metadata": {},
   "outputs": [],
   "source": [
    "key=True\n",
    "WINDOW_SIZE = 3"
   ]
  },
  {
   "cell_type": "markdown",
   "id": "a153dd45",
   "metadata": {},
   "source": [
    "<b>Make sure to specify which dataset to use\n",
    "<br>\n",
    " - dataset_original\n",
    "<br>\n",
    " - dataset_drop_noise\n",
    "<br>\n",
    " - dataset_smote"
   ]
  },
  {
   "cell_type": "code",
   "execution_count": 3,
   "id": "4a74ba53",
   "metadata": {},
   "outputs": [],
   "source": [
    "# dataset_path = \"dataset_original\"\n",
    "# dataset_path = \"dataset_drop_noise\"\n",
    "# dataset_path = \"dataset_smote\"\n",
    "dataset_path = DATASET_PATH"
   ]
  },
  {
   "cell_type": "code",
   "execution_count": 4,
   "id": "8aa9fe91",
   "metadata": {
    "code_folding": [
     0,
     38,
     60
    ]
   },
   "outputs": [],
   "source": [
    "class GATLayerWithEdgeType(nn.Module):\n",
    "    def __init__(self, num_in_features_per_head, num_out_features_per_head, num_heads, num_edge_types):\n",
    "        super(GATLayerWithEdgeType, self).__init__()\n",
    "        self.num_in_features_per_head = num_in_features_per_head\n",
    "        self.num_out_features_per_head = num_out_features_per_head\n",
    "        self.num_heads = num_heads\n",
    "        self.num_edge_types = num_edge_types\n",
    "\n",
    "        # Linear projection for node features\n",
    "        torch.manual_seed(42)\n",
    "        self.linear_proj = nn.Linear(self.num_in_features_per_head, self.num_heads * self.num_out_features_per_head)\n",
    "        \n",
    "        # Edge type embeddings\n",
    "        torch.manual_seed(42)\n",
    "        self.edge_type_embedding = nn.Embedding(self.num_edge_types, self.num_heads)\n",
    "        \n",
    "    def forward(self, input_data, edge_type):\n",
    "        node_features, edge_indices = input_data\n",
    "\n",
    "        # Linear projection for node features\n",
    "        h_linear = self.linear_proj(node_features.view(-1, self.num_in_features_per_head))\n",
    "        h_linear = h_linear.view(-1, self.num_heads, self.num_out_features_per_head)\n",
    "        h_linear = h_linear.permute(0, 2, 1)\n",
    "\n",
    "        # Edge type embedding\n",
    "        edge_type_embedding = self.edge_type_embedding(edge_type).transpose(0, 1)\n",
    "\n",
    "        # Perform matrix multiplication\n",
    "        attention_scores = torch.matmul(h_linear, edge_type_embedding).squeeze(-1)\n",
    "\n",
    "        # Softmax to get attention coefficients\n",
    "        attention_coefficients = F.softmax(attention_scores, dim=-1)\n",
    "\n",
    "        # Weighted sum of neighbor node representations\n",
    "        updated_representation = torch.matmul(attention_coefficients.transpose(1, 2), h_linear).mean(dim=2)\n",
    "\n",
    "        return updated_representation, attention_coefficients\n",
    "    \n",
    "class GATWithEdgeType(nn.Module):\n",
    "    def __init__(self, num_of_layers, num_heads_per_layer, num_features_per_layer, num_edge_types):\n",
    "        super(GATWithEdgeType, self).__init__()\n",
    "\n",
    "        self.gat_net = nn.ModuleList()\n",
    "\n",
    "        for layer in range(num_of_layers):\n",
    "            num_in_features = num_heads_per_layer[layer - 1] * num_features_per_layer[layer - 1] if layer > 0 else num_features_per_layer[0]\n",
    "            num_out_features = num_heads_per_layer[layer] * num_features_per_layer[layer]\n",
    "            self.gat_net.append(GATLayerWithEdgeType(num_in_features, num_out_features, num_heads_per_layer[layer], num_edge_types))\n",
    "\n",
    "    def forward(self, node_features, edge_indices, edge_types):\n",
    "        h = node_features\n",
    "\n",
    "        attention_scores = []\n",
    "\n",
    "        for layer in self.gat_net:\n",
    "            h, attention_coefficients = layer((h, edge_indices), edge_types)\n",
    "            attention_scores.append(attention_coefficients)\n",
    "\n",
    "        return h, attention_scores\n",
    "\n",
    "class EGATConv(nn.Module):\n",
    "    def __init__(self,\n",
    "                 in_node_feats,\n",
    "                 in_edge_feats,\n",
    "                 out_node_feats,\n",
    "                 out_edge_feats,\n",
    "                 num_heads,\n",
    "                 bias=True,\n",
    "                 **kw_args):\n",
    "\n",
    "        super().__init__()\n",
    "        self._num_heads = num_heads\n",
    "        self._out_node_feats = out_node_feats\n",
    "        self._out_edge_feats = out_edge_feats\n",
    "        \n",
    "        self.fc_node = nn.Linear(in_node_feats, out_node_feats * num_heads, bias=bias)\n",
    "        self.fc_ni = nn.Linear(in_node_feats, out_edge_feats * num_heads, bias=False)\n",
    "        self.fc_fij = nn.Linear(in_edge_feats, out_edge_feats * num_heads, bias=False)\n",
    "        self.fc_nj = nn.Linear(in_node_feats, out_edge_feats * num_heads, bias=False)\n",
    "        \n",
    "        # Attention parameter\n",
    "        self.attn = nn.Parameter(torch.FloatTensor(size=(1, num_heads, out_edge_feats)))\n",
    "        \n",
    "        if bias:\n",
    "            self.bias = nn.Parameter(torch.FloatTensor(size=(num_heads * out_edge_feats,)))\n",
    "        else:\n",
    "            self.register_buffer('bias', None)\n",
    "        \n",
    "        self.reset_parameters()\n",
    "\n",
    "    def reset_parameters(self):\n",
    "        torch.manual_seed(42)\n",
    "        gain = init.calculate_gain('relu')\n",
    "        init.xavier_normal_(self.fc_node.weight, gain=gain)\n",
    "        init.xavier_normal_(self.fc_ni.weight, gain=gain)\n",
    "        init.xavier_normal_(self.fc_fij.weight, gain=gain)\n",
    "        init.xavier_normal_(self.fc_nj.weight, gain=gain)\n",
    "        init.xavier_normal_(self.attn, gain=gain)\n",
    "        \n",
    "        if self.bias is not None:\n",
    "            nn.init.constant_(self.bias, 0)\n",
    "\n",
    "    def forward(self, graph, nfeats, efeats, get_attention=False):\n",
    "        with graph.local_scope():\n",
    "            graph.edata['f'] = efeats\n",
    "            graph.ndata['h'] = nfeats\n",
    "            \n",
    "            f_ni = self.fc_ni(nfeats)\n",
    "            f_nj = self.fc_nj(nfeats)\n",
    "            f_fij = self.fc_fij(efeats)\n",
    "            graph.srcdata.update({'f_ni' : f_ni})\n",
    "            graph.dstdata.update({'f_nj' : f_nj})\n",
    "            \n",
    "            graph.apply_edges(fn.u_add_v('f_ni', 'f_nj', 'f_tmp'))\n",
    "            f_out = graph.edata.pop('f_tmp') + f_fij\n",
    "            \n",
    "            if self.bias is not None:\n",
    "                f_out += self.bias\n",
    "            f_out = nn.functional.leaky_relu(f_out)\n",
    "            f_out = f_out.view(-1, self._num_heads, self._out_edge_feats)\n",
    "            \n",
    "            e = (f_out * self.attn).sum(dim=-1).unsqueeze(-1)\n",
    "            graph.edata['a'] = edge_softmax(graph, e)\n",
    "            graph.ndata['h_out'] = self.fc_node(nfeats).view(-1, self._num_heads, self._out_node_feats)\n",
    "            \n",
    "            graph.update_all(fn.u_mul_e('h_out', 'a', 'm'), fn.sum('m', 'h_out'))\n",
    "\n",
    "            h_out = graph.ndata['h_out'].view(-1, self._num_heads, self._out_node_feats)\n",
    "            if get_attention:\n",
    "                return h_out, f_out, graph.edata.pop('a')\n",
    "            else:\n",
    "                return h_out, f_out\n"
   ]
  },
  {
   "cell_type": "code",
   "execution_count": 5,
   "id": "d7adf37e",
   "metadata": {
    "code_folding": [
     0,
     11,
     29,
     31
    ]
   },
   "outputs": [],
   "source": [
    "def get_ohe(edge_types):\n",
    "    one_hot_encoding = []\n",
    "    for edge_type in edge_types:\n",
    "        if edge_type == 0:\n",
    "            one_hot_encoding.append([1., 0., 0.])\n",
    "        elif edge_type == 1:\n",
    "            one_hot_encoding.append([0., 1., 0.])\n",
    "        elif edge_type == 2:\n",
    "            one_hot_encoding.append([0., 0., 1.])\n",
    "    return torch.tensor(one_hot_encoding)\n",
    "\n",
    "def get_inferred_edgetypes_GAT(dialog, edge_types):\n",
    "    inferred_edge_types = []\n",
    "    inferred_edge_indices = []\n",
    "    for target_node in dialog.values():\n",
    "        if len(target_node) == 1:\n",
    "            inferred_edge_types.append(0)\n",
    "            inferred_edge_indices.append(0)\n",
    "        else:\n",
    "            edge_index = target_node[0][0]\n",
    "            highest_attention = target_node[0][1]\n",
    "            for src_node in target_node[1:]:\n",
    "                if highest_attention < src_node[1]:\n",
    "                    highest_attention = src_node[1]\n",
    "                    edge_index = src_node[0]\n",
    "            inferred_edge_indices.append(edge_index)\n",
    "            inferred_edge_types.append(edge_types[edge_index].tolist())\n",
    "    return inferred_edge_indices, inferred_edge_types\n",
    "\n",
    "def get_inferred_edgetypes_EGAT(edges_target_nodes, sample_edge_types, size_dialog, dialog_id):\n",
    "    inferred_edge_types = []\n",
    "    for target_idx in range(size_dialog):\n",
    "        num_edges = len(edges_target_nodes[target_idx])\n",
    "        if num_edges == 1:\n",
    "            edgetype_idx = np.argmax(edges_target_nodes[target_idx][0][1])\n",
    "            edge_idx = edges_target_nodes[target_idx][0][0]\n",
    "            inferred_edge_types.append(edgetype_idx)\n",
    "        else:\n",
    "            highest_attn_score = max(edges_target_nodes[target_idx][0][1])\n",
    "            edgetype_idx = np.argmax(edges_target_nodes[target_idx][0][1])\n",
    "            edge_idx = edges_target_nodes[target_idx][0][0]\n",
    "            for sample_edge in range(1, num_edges):\n",
    "                cur_highest_attn_score = max(edges_target_nodes[target_idx][sample_edge][1])\n",
    "                if cur_highest_attn_score > highest_attn_score:\n",
    "                    highest_attn_score = cur_highest_attn_score\n",
    "                    edgetype_idx = np.argmax(edges_target_nodes[target_idx][sample_edge][1])\n",
    "                    edge_idx = edges_target_nodes[target_idx][sample_edge][0]\n",
    "            inferred_edge_types.append(edgetype_idx)\n",
    "    return inferred_edge_types\n",
    "\n",
    "def flatten_extend(matrix):\n",
    "    flat_list = []\n",
    "    for row in matrix:\n",
    "        flat_list.extend(row)\n",
    "    return flat_list\n"
   ]
  },
  {
   "cell_type": "code",
   "execution_count": 6,
   "id": "a7639e77",
   "metadata": {
    "code_folding": [
     0,
     15,
     25,
     40
    ]
   },
   "outputs": [],
   "source": [
    "def create_node_pairs_list(start_idx, end_idx):\n",
    "    list_node_i = []\n",
    "    list_node_j = []\n",
    "    end_idx = end_idx - start_idx\n",
    "    start_idx = 0\n",
    "    for i in range(start_idx, end_idx+1):\n",
    "        val = 0\n",
    "        while (val <= WINDOW_SIZE) and (i+val <= end_idx):\n",
    "            target_idx = i+val\n",
    "            if target_idx >= 0:\n",
    "                list_node_i.append(i)\n",
    "                list_node_j.append(target_idx)\n",
    "            val = val+1\n",
    "    return [list_node_i, list_node_j]\n",
    "\n",
    "def create_adjacency_dict(node_pairs):\n",
    "    adjacency_list_dict = {}\n",
    "    for i in range(0, len(node_pairs[0])):\n",
    "        source_node, target_node = node_pairs[0][i], node_pairs[1][i]\n",
    "        if source_node not in adjacency_list_dict:\n",
    "            adjacency_list_dict[source_node] = [target_node]\n",
    "        else:\n",
    "            adjacency_list_dict[source_node].append(target_node)\n",
    "    return adjacency_list_dict\n",
    "\n",
    "def get_all_adjacency_list(ranges, key=0):\n",
    "    all_adjacency_list = []\n",
    "    for range_pair in ranges:\n",
    "        start_idx, end_idx = range_pair\n",
    "        if key == 0:\n",
    "            output = create_node_pairs_list(start_idx, end_idx)\n",
    "            output = create_adjacency_dict(output)\n",
    "        elif key == 1:\n",
    "            output = create_node_pairs_list(start_idx, end_idx)\n",
    "            output = torch.tensor(output)\n",
    "        else:\n",
    "            print(\"N/A\")\n",
    "        all_adjacency_list.append(output)\n",
    "    return all_adjacency_list\n",
    "\n",
    "def get_all_edge_type_list(edge_indices, encoded_speaker_list):\n",
    "    dialogs_len = len(edge_indices)\n",
    "    whole_edge_type_list = []\n",
    "    for i in range(dialogs_len):\n",
    "        dialog_nodes_pairs = edge_indices[i]\n",
    "        dialog_speakers = list(encoded_speaker_list[i])\n",
    "        dialog_len = len(dialog_nodes_pairs.keys())\n",
    "        edge_type_list = []\n",
    "        for j in range(dialog_len):\n",
    "            src_node = dialog_nodes_pairs[j]\n",
    "            node_i_idx = j\n",
    "            win_len = len(src_node)\n",
    "            for k in range(win_len):\n",
    "                node_j_idx = src_node[k]\n",
    "                if node_i_idx == node_j_idx:\n",
    "                    edge_type_list.append(0)\n",
    "                else:\n",
    "                    if dialog_speakers[node_i_idx] != dialog_speakers[node_j_idx]:\n",
    "                        edge_type_list.append(1)\n",
    "                    else:\n",
    "                        edge_type_list.append(2)\n",
    "        whole_edge_type_list.append(torch.tensor(edge_type_list).to(torch.int64))\n",
    "    return whole_edge_type_list\n"
   ]
  },
  {
   "cell_type": "code",
   "execution_count": 7,
   "id": "1ed53f3f",
   "metadata": {
    "code_folding": [
     0
    ]
   },
   "outputs": [],
   "source": [
    "def seed_everything(seed=100):\n",
    "    random.seed(seed)\n",
    "    np.random.seed(seed)\n",
    "    torch.manual_seed(seed)\n",
    "    torch.cuda.manual_seed(seed)\n",
    "    torch.cuda.manual_seed_all(seed)\n",
    "    torch.backends.cudnn.benchmark = False\n",
    "    torch.backends.cudnn.deterministic = True"
   ]
  },
  {
   "cell_type": "markdown",
   "id": "26ddb394",
   "metadata": {},
   "source": [
    "<h3> Data Preparation"
   ]
  },
  {
   "cell_type": "markdown",
   "id": "ef2c424c",
   "metadata": {},
   "source": [
    "<h4> Creating graph features from Train, Test and Validation sets"
   ]
  },
  {
   "cell_type": "code",
   "execution_count": 8,
   "id": "6d8a8f87",
   "metadata": {
    "code_folding": []
   },
   "outputs": [],
   "source": [
    "# checkFile = os.path.isfile(\"data/dump/\" + dataset_path + \"/speaker_encoder_train.pkl\")\n",
    "# encodedSpeakersTrain = []\n",
    "# rangesTrain = []\n",
    "\n",
    "# if not checkFile:\n",
    "#     print(\"Run first the contextEncoder1 or 2 to generate this file\")\n",
    "# else:\n",
    "#     with open('data/dump/' + dataset_path + '/speaker_encoder_train.pkl', \"rb\") as file:\n",
    "#         encodedSpeakersTrain, rangesTrain = pickle.load(file)\n",
    "\n",
    "# checkFile = os.path.isfile(\"data/dump/\" + dataset_path +\"/adjListTrain.pkl\")\n",
    "# adjacencyListTrain = []\n",
    "\n",
    "# if key:\n",
    "#     adjacencyListTrain = get_all_adjacency_list(rangesTrain)\n",
    "# else:\n",
    "#     with open('data/dump/' + dataset_path + '/adjListTrain', \"rb\") as file:\n",
    "#         adjacencyListTrain = pickle.load(file)"
   ]
  },
  {
   "cell_type": "code",
   "execution_count": 8,
   "id": "6f5170d0",
   "metadata": {},
   "outputs": [],
   "source": [
    "def getSpeakersAndRanges(file_path):\n",
    "    checkFile = os.path.isfile(file_path)\n",
    "    encodedSpeakers = []\n",
    "#     ranges = []\n",
    "    if not checkFile:\n",
    "        print(\"Run first the contextEncoder1.5 to generate this file\")\n",
    "        return None\n",
    "    else:\n",
    "        with open(file_path, \"rb\") as file:\n",
    "            encodedSpeakers, ranges = pickle.load(file)\n",
    "        return encodedSpeakers, ranges\n",
    "    \n",
    "def getAdjacencyList(file_path, ranges):\n",
    "    checkFile = os.path.isfile(file_path)\n",
    "    adjacencyList = []\n",
    "\n",
    "    if key:\n",
    "        adjacencyList = get_all_adjacency_list(ranges)\n",
    "    else:\n",
    "        with open(file_path, \"rb\") as file:\n",
    "            adjacencyList = pickle.load(file)\n",
    "    \n",
    "    return adjacencyList"
   ]
  },
  {
   "cell_type": "code",
   "execution_count": 9,
   "id": "a7be6a01",
   "metadata": {},
   "outputs": [],
   "source": [
    "file_path1 = \"data/dump/\" + dataset_path + \"/speaker_encoder_train.pkl\"\n",
    "file_path2 = \"data/dump/\" + dataset_path + \"/speaker_encoder_test.pkl\"\n",
    "file_path3 = \"data/dump/\" + dataset_path + \"/speaker_encoder_dev.pkl\"\n",
    "\n",
    "encodedSpeakersTrain, rangesTrain = getSpeakersAndRanges(file_path1)\n",
    "encodedSpeakersTest, rangesTest = getSpeakersAndRanges(file_path2)\n",
    "encodedSpeakersDev, rangesDev = getSpeakersAndRanges(file_path3)\n",
    "\n",
    "file_path1 = 'data/dump/' + dataset_path + '/adjListTrain'\n",
    "file_path2 = 'data/dump/' + dataset_path + '/adjListTest'\n",
    "file_path3 = 'data/dump/' + dataset_path + '/adjListDev'\n",
    "\n",
    "adjacencyListTrain = getAdjacencyList(file_path1, rangesTrain)\n",
    "adjacencyListTest = getAdjacencyList(file_path1, rangesTest)\n",
    "adjacencyListDev = getAdjacencyList(file_path1, rangesDev)"
   ]
  },
  {
   "cell_type": "code",
   "execution_count": 10,
   "id": "771b8350",
   "metadata": {},
   "outputs": [],
   "source": [
    "file_path1 = 'embed/' + dataset_path + '/u_prime_BERT_train.pkl'\n",
    "file_path2 = 'embed/' + dataset_path + '/u_prime_BERT_test.pkl'\n",
    "file_path3 = 'embed/' + dataset_path + '/u_prime_BERT_dev.pkl'\n",
    "\n",
    "# Load the list from the file using pickle\n",
    "def getFeatures(file_path):\n",
    "    with open(file_path, 'rb') as file:\n",
    "        emotions = pickle.load(file)\n",
    "    return emotions\n",
    "\n",
    "contextualEmbeddingsTrain = getFeatures(file_path1)\n",
    "contextualEmbeddingsTest = getFeatures(file_path2)\n",
    "contextualEmbeddingsDev = getFeatures(file_path3)"
   ]
  },
  {
   "cell_type": "code",
   "execution_count": 12,
   "id": "f6698b91",
   "metadata": {},
   "outputs": [],
   "source": [
    "# print(contextualEmbeddingsTrain.shape, contextualEmbeddingsTest.shape, contextualEmbeddingsDev.shape)"
   ]
  },
  {
   "cell_type": "code",
   "execution_count": 11,
   "id": "a6055971",
   "metadata": {},
   "outputs": [],
   "source": [
    "edgeIndicesTrain = get_all_adjacency_list(rangesTrain)\n",
    "edgeTypesTrain = get_all_edge_type_list(edgeIndicesTrain, encodedSpeakersTrain)\n",
    "edgeIndicesTrain = get_all_adjacency_list(rangesTrain, key=1)\n",
    "\n",
    "edgeIndicesTest = get_all_adjacency_list(rangesTest)\n",
    "edgeTypesTest = get_all_edge_type_list(edgeIndicesTest, encodedSpeakersTest)\n",
    "edgeIndicesTest = get_all_adjacency_list(rangesTest, key=1)\n",
    "\n",
    "edgeIndicesDev = get_all_adjacency_list(rangesDev)\n",
    "edgeTypesDev = get_all_edge_type_list(edgeIndicesDev, encodedSpeakersDev)\n",
    "edgeIndicesDev = get_all_adjacency_list(rangesDev, key=1)"
   ]
  },
  {
   "cell_type": "markdown",
   "id": "6b6dc275",
   "metadata": {},
   "source": [
    "#### Train without relational features"
   ]
  },
  {
   "cell_type": "code",
   "execution_count": 12,
   "id": "2a486153",
   "metadata": {},
   "outputs": [],
   "source": [
    "file_path = \"data/dump/\" + dataset_path + \"/labels_train.pkl\"\n",
    "with open(file_path, 'rb') as file:\n",
    "    y_train = pickle.load(file)\n",
    "y_train = torch.tensor(y_train)\n",
    "\n",
    "file_path = \"data/dump/\" + dataset_path + \"/labels_test.pkl\"\n",
    "with open(file_path, 'rb') as file:\n",
    "    y_test = pickle.load(file)\n",
    "y_test = torch.tensor(y_test)\n",
    "\n",
    "file_path = \"data/dump/\" + dataset_path + \"/labels_dev.pkl\"\n",
    "with open(file_path, 'rb') as file:\n",
    "    y_dev = pickle.load(file)\n",
    "y_dev = torch.tensor(y_dev)"
   ]
  },
  {
   "cell_type": "code",
   "execution_count": 13,
   "id": "c02ae234",
   "metadata": {},
   "outputs": [],
   "source": [
    "y_tensor_train = [y_train[start:end + 1] for start, end in rangesTrain]\n",
    "y_tensor_dev = [y_dev[start:end + 1] for start, end in rangesDev]\n",
    "y_tensor_test = [y_test[start:end + 1] for start, end in rangesTest]"
   ]
  },
  {
   "cell_type": "code",
   "execution_count": 15,
   "id": "0f96b2e2",
   "metadata": {},
   "outputs": [
    {
     "name": "stderr",
     "output_type": "stream",
     "text": [
      "C:\\Users\\edayo\\AppData\\Local\\Temp\\ipykernel_17560\\3524950887.py:5: UserWarning: To copy construct from a tensor, it is recommended to use sourceTensor.clone().detach() or sourceTensor.clone().detach().requires_grad_(True), rather than torch.tensor(sourceTensor).\n",
      "  x=torch.tensor(X, dtype=torch.float),\n",
      "C:\\Users\\edayo\\AppData\\Local\\Temp\\ipykernel_17560\\3524950887.py:6: UserWarning: To copy construct from a tensor, it is recommended to use sourceTensor.clone().detach() or sourceTensor.clone().detach().requires_grad_(True), rather than torch.tensor(sourceTensor).\n",
      "  edge_index=torch.tensor(edges, dtype=torch.long),\n",
      "C:\\Users\\edayo\\AppData\\Local\\Temp\\ipykernel_17560\\3524950887.py:7: UserWarning: To copy construct from a tensor, it is recommended to use sourceTensor.clone().detach() or sourceTensor.clone().detach().requires_grad_(True), rather than torch.tensor(sourceTensor).\n",
      "  y=torch.tensor(Y, dtype=torch.long),\n",
      "C:\\Users\\edayo\\AppData\\Local\\Temp\\ipykernel_17560\\3524950887.py:8: UserWarning: To copy construct from a tensor, it is recommended to use sourceTensor.clone().detach() or sourceTensor.clone().detach().requires_grad_(True), rather than torch.tensor(sourceTensor).\n",
      "  edge_type = torch.tensor(edgeTypes, dtype=torch.long)\n",
      "C:\\Users\\edayo\\AppData\\Local\\Programs\\Python\\Python310\\lib\\site-packages\\torch_geometric\\deprecation.py:26: UserWarning: 'data.DataLoader' is deprecated, use 'loader.DataLoader' instead\n",
      "  warnings.warn(out)\n"
     ]
    }
   ],
   "source": [
    "def getDataset(contextualEmbedding, edgeIndices, yTensor, edgeTypes):\n",
    "    dataset=[]\n",
    "    for X, edges, Y, edgeTypes in zip(contextualEmbedding, edgeIndices, yTensor, edgeTypes):\n",
    "        graph_data = Data(\n",
    "            x=torch.tensor(X, dtype=torch.float),\n",
    "            edge_index=torch.tensor(edges, dtype=torch.long),\n",
    "            y=torch.tensor(Y, dtype=torch.long),\n",
    "            edge_type = torch.tensor(edgeTypes, dtype=torch.long)\n",
    "        )\n",
    "        dataset.append(graph_data)\n",
    "    return dataset\n",
    "\n",
    "train_dataset = getDataset(contextualEmbeddingsTrain, edgeIndicesTrain, y_tensor_train, edgeTypesTrain)\n",
    "dev_dataset = getDataset(contextualEmbeddingsDev, edgeIndicesDev, y_tensor_dev, edgeTypesDev)\n",
    "test_dataset = getDataset(contextualEmbeddingsTest, edgeIndicesTest, y_tensor_test, edgeTypesTest)\n",
    "\n",
    "train_loader = GDataLoader(train_dataset, batch_size=1, shuffle=True)\n",
    "val_loader = GDataLoader(dev_dataset, batch_size=1, shuffle=True)\n",
    "test_loader = GDataLoader(test_dataset, batch_size=1, shuffle=True)"
   ]
  },
  {
   "cell_type": "code",
   "execution_count": 16,
   "id": "e806af17",
   "metadata": {},
   "outputs": [
    {
     "data": {
      "text/plain": [
       "dict_values(['anger', 'disgust', 'fear', 'joy', 'neutral', 'sadness', 'surprise'])"
      ]
     },
     "execution_count": 16,
     "metadata": {},
     "output_type": "execute_result"
    }
   ],
   "source": [
    "file_path = 'data/dump/' + dataset_path + '/label_decoder.pkl'\n",
    "with open(file_path, 'rb') as file:\n",
    "    label_decoder = pickle.load(file)\n",
    "    \n",
    "label_decoder.values()"
   ]
  },
  {
   "cell_type": "code",
   "execution_count": 28,
   "id": "5ff001ff",
   "metadata": {},
   "outputs": [
    {
     "name": "stderr",
     "output_type": "stream",
     "text": [
      "Epoch 1: 100%|████████████████████████████████████████████████████████████████████| 8174/8174 [01:06<00:00, 122.48it/s]\n"
     ]
    },
    {
     "name": "stdout",
     "output_type": "stream",
     "text": [
      "Epoch 1: Train Loss = 1.8232753800758346, Val Loss = 2.258693438983928, Train Acc = 0.5103017991874638, Val Acc = 0.5314443246828621\n"
     ]
    },
    {
     "name": "stderr",
     "output_type": "stream",
     "text": [
      "Epoch 2: 100%|████████████████████████████████████████████████████████████████████| 8174/8174 [00:54<00:00, 151.23it/s]\n"
     ]
    },
    {
     "name": "stdout",
     "output_type": "stream",
     "text": [
      "Epoch 2: Train Loss = 1.8571508607436453, Val Loss = 2.1361063364467143, Train Acc = 0.5276096509410496, Val Acc = 0.45466793798192523\n"
     ]
    },
    {
     "name": "stderr",
     "output_type": "stream",
     "text": [
      "Epoch 3: 100%|████████████████████████████████████████████████████████████████████| 8174/8174 [00:48<00:00, 167.44it/s]\n"
     ]
    },
    {
     "name": "stdout",
     "output_type": "stream",
     "text": [
      "Epoch 3: Train Loss = 1.8926985084317152, Val Loss = 1.9521376883816755, Train Acc = 0.5346778874056878, Val Acc = 0.5543279993367051\n"
     ]
    },
    {
     "name": "stderr",
     "output_type": "stream",
     "text": [
      "Epoch 4: 100%|████████████████████████████████████████████████████████████████████| 8174/8174 [00:47<00:00, 170.66it/s]\n"
     ]
    },
    {
     "name": "stdout",
     "output_type": "stream",
     "text": [
      "Epoch 4: Train Loss = 1.8632798981787417, Val Loss = 2.6126867812497108, Train Acc = 0.540191526407429, Val Acc = 0.5500165823729376\n"
     ]
    },
    {
     "name": "stderr",
     "output_type": "stream",
     "text": [
      "Epoch 5: 100%|████████████████████████████████████████████████████████████████████| 8174/8174 [00:47<00:00, 173.14it/s]\n"
     ]
    },
    {
     "name": "stdout",
     "output_type": "stream",
     "text": [
      "Epoch 5: Train Loss = 1.8512618158240113, Val Loss = 1.3465177611763368, Train Acc = 0.5441091120139292, Val Acc = 0.6142525495398391\n"
     ]
    },
    {
     "name": "stderr",
     "output_type": "stream",
     "text": [
      "Epoch 6: 100%|████████████████████████████████████████████████████████████████████| 8174/8174 [00:45<00:00, 178.65it/s]\n"
     ]
    },
    {
     "name": "stdout",
     "output_type": "stream",
     "text": [
      "Epoch 6: Train Loss = 1.8796066827087679, Val Loss = 1.6486401508041124, Train Acc = 0.54570516540917, Val Acc = 0.5655625570019069\n"
     ]
    },
    {
     "name": "stderr",
     "output_type": "stream",
     "text": [
      "Epoch 7: 100%|████████████████████████████████████████████████████████████████████| 8174/8174 [00:44<00:00, 182.70it/s]\n"
     ]
    },
    {
     "name": "stdout",
     "output_type": "stream",
     "text": [
      "Epoch 7: Train Loss = 1.8701622181127515, Val Loss = 1.5278473336339768, Train Acc = 0.5485241688085565, Val Acc = 0.5961155791393749\n"
     ]
    },
    {
     "name": "stderr",
     "output_type": "stream",
     "text": [
      "Epoch 8: 100%|████████████████████████████████████████████████████████████████████| 8174/8174 [00:46<00:00, 177.47it/s]\n"
     ]
    },
    {
     "name": "stdout",
     "output_type": "stream",
     "text": [
      "Epoch 8: Train Loss = 1.8936438629994048, Val Loss = 1.7165503190243145, Train Acc = 0.549270375590747, Val Acc = 0.5877829367382472\n"
     ]
    },
    {
     "name": "stderr",
     "output_type": "stream",
     "text": [
      "Epoch 9: 100%|████████████████████████████████████████████████████████████████████| 8174/8174 [00:47<00:00, 173.63it/s]\n"
     ]
    },
    {
     "name": "stdout",
     "output_type": "stream",
     "text": [
      "Epoch 9: Train Loss = 1.9058858633921132, Val Loss = 1.915511999339106, Train Acc = 0.5512809883094271, Val Acc = 0.529454439930354\n"
     ]
    },
    {
     "name": "stderr",
     "output_type": "stream",
     "text": [
      "Epoch 10: 100%|███████████████████████████████████████████████████████████████████| 8174/8174 [00:50<00:00, 161.61it/s]\n"
     ]
    },
    {
     "name": "stdout",
     "output_type": "stream",
     "text": [
      "Epoch 10: Train Loss = 1.8442167063507402, Val Loss = 1.5672420075034108, Train Acc = 0.5546596467954564, Val Acc = 0.6042616698449548\n",
      "Early stopping triggered\n"
     ]
    }
   ],
   "source": [
    "model = GCNWithSkipConnections(num_features=768, num_classes=7)\n",
    "optimizer = torch.optim.Adam(model.parameters(), lr=0.01)\n",
    "criterion = torch.nn.CrossEntropyLoss()\n",
    "\n",
    "train_losses = []\n",
    "val_losses = []\n",
    "train_accuracies = []\n",
    "val_accuracies = []\n",
    "early_stop_threshold = 0.0001\n",
    "best_val_loss = float('inf')\n",
    "no_improve_epochs = 0\n",
    "max_no_improve_epochs = 5\n",
    "\n",
    "for epoch in range(25):\n",
    "    model.train()\n",
    "    train_loss = 0\n",
    "    correct_train = 0\n",
    "    total_train = 0\n",
    "    \n",
    "    for data in tqdm(train_loader, desc=f\"Epoch {epoch+1}\"):\n",
    "        optimizer.zero_grad()\n",
    "        out = model(data.x, data.edge_index)\n",
    "        loss = criterion(out, data.y)\n",
    "        loss.backward()\n",
    "        optimizer.step()\n",
    "        train_loss += loss.item()\n",
    "        \n",
    "        preds = out.argmax(dim=1)\n",
    "        correct_train += (preds == data.y).sum().item()\n",
    "        total_train += data.y.size(0)\n",
    "    \n",
    "    train_losses.append(train_loss / len(train_loader))\n",
    "    train_accuracies.append(correct_train / total_train)\n",
    "    \n",
    "    model.eval()\n",
    "    val_loss = 0\n",
    "    correct_val = 0\n",
    "    total_val = 0\n",
    "    \n",
    "    with torch.no_grad():\n",
    "        for data in val_loader:\n",
    "            out = model(data.x, data.edge_index)\n",
    "            loss = criterion(out, data.y)\n",
    "            val_loss += loss.item()\n",
    "            \n",
    "            preds = out.argmax(dim=1)\n",
    "            correct_val += (preds == data.y).sum().item()\n",
    "            total_val += data.y.size(0)\n",
    "    \n",
    "    val_losses.append(val_loss / len(val_loader))\n",
    "    val_accuracies.append(correct_val / total_val)\n",
    "    \n",
    "    print(f\"Epoch {epoch+1}: Train Loss = {train_losses[-1]}, Val Loss = {val_losses[-1]}, Train Acc = {train_accuracies[-1]}, Val Acc = {val_accuracies[-1]}\")\n",
    "    \n",
    "    if best_val_loss - val_losses[-1] < early_stop_threshold:\n",
    "        no_improve_epochs += 1\n",
    "        if no_improve_epochs >= max_no_improve_epochs:\n",
    "            print(\"Early stopping triggered\")\n",
    "            break\n",
    "    else:\n",
    "        no_improve_epochs = 0\n",
    "        best_val_loss = val_losses[-1]"
   ]
  },
  {
   "cell_type": "code",
   "execution_count": 29,
   "id": "efdf1528",
   "metadata": {},
   "outputs": [
    {
     "data": {
      "image/png": "[encoded data removed]",
      "text/plain": [
       "<Figure size 864x360 with 2 Axes>"
      ]
     },
     "metadata": {
      "needs_background": "light"
     },
     "output_type": "display_data"
    }
   ],
   "source": [
    "# Plot learning curves\n",
    "plt.figure(figsize=(12, 5))\n",
    "\n",
    "plt.subplot(1, 2, 1)\n",
    "plt.plot(train_losses, label='Training Loss')\n",
    "plt.plot(val_losses, label='Validation Loss')\n",
    "plt.xlabel('Epochs')\n",
    "plt.ylabel('Loss')\n",
    "plt.legend()\n",
    "plt.title('Loss Over Epochs')\n",
    "\n",
    "plt.subplot(1, 2, 2)\n",
    "plt.plot(train_accuracies, label='Training Accuracy')\n",
    "plt.plot(val_accuracies, label='Validation Accuracy')\n",
    "plt.xlabel('Epochs')\n",
    "plt.ylabel('Accuracy')\n",
    "plt.legend()\n",
    "plt.title('Accuracy Over Epochs')\n",
    "\n",
    "plt.tight_layout()\n",
    "plt.show()"
   ]
  },
  {
   "cell_type": "code",
   "execution_count": 30,
   "id": "7fb9c52b",
   "metadata": {
    "scrolled": true
   },
   "outputs": [
    {
     "name": "stdout",
     "output_type": "stream",
     "text": [
      "              precision    recall  f1-score   support\n",
      "\n",
      "       anger       0.47      0.36      0.41      5948\n",
      "     disgust       0.38      0.45      0.41      1352\n",
      "        fear       0.23      0.42      0.29      1242\n",
      "         joy       0.77      0.31      0.44      8354\n",
      "     neutral       0.68      0.86      0.76     22310\n",
      "     sadness       0.57      0.07      0.13      3444\n",
      "    surprise       0.49      0.68      0.57      5594\n",
      "\n",
      "    accuracy                           0.60     48244\n",
      "   macro avg       0.51      0.45      0.43     48244\n",
      "weighted avg       0.62      0.60      0.57     48244\n",
      "\n"
     ]
    }
   ],
   "source": [
    "# Classification report on test set\n",
    "model.eval()\n",
    "all_preds = []\n",
    "all_labels = []\n",
    "\n",
    "with torch.no_grad():\n",
    "    for data in test_loader:\n",
    "        out = model(data.x, data.edge_index)\n",
    "        preds = out.argmax(dim=1)\n",
    "        all_preds.extend(preds.cpu().numpy())\n",
    "        all_labels.extend(data.y.cpu().numpy())\n",
    "\n",
    "print(classification_report(all_labels, all_preds, target_names=label_decoder.values()))"
   ]
  },
  {
   "cell_type": "markdown",
   "id": "b5d2a7ac",
   "metadata": {
    "code_folding": []
   },
   "source": [
    "#### RGCN"
   ]
  },
  {
   "cell_type": "code",
   "execution_count": 46,
   "id": "98714822",
   "metadata": {},
   "outputs": [],
   "source": [
    "def train_relational_model(model, train_loader, val_loader):\n",
    "    optimizer = torch.optim.Adam(model.parameters(), lr=0.01)\n",
    "    criterion = torch.nn.CrossEntropyLoss()\n",
    "\n",
    "    train_losses = []\n",
    "    val_losses = []\n",
    "    train_accuracies = []\n",
    "    val_accuracies = []\n",
    "    early_stop_threshold = 0.0001\n",
    "    best_val_loss = float('inf')\n",
    "    no_improve_epochs = 0\n",
    "    max_no_improve_epochs = 5\n",
    "\n",
    "    for epoch in range(25):\n",
    "        model.train()\n",
    "        train_loss = 0\n",
    "        correct_train = 0\n",
    "        total_train = 0\n",
    "\n",
    "        for data in tqdm(train_loader, desc=f\"Epoch {epoch+1}\"):\n",
    "            optimizer.zero_grad()\n",
    "            out = model(data.x, data.edge_index , data.edge_type)\n",
    "            loss = criterion(out, data.y)\n",
    "            loss.backward()\n",
    "            optimizer.step()\n",
    "            train_loss += loss.item()\n",
    "\n",
    "            preds = out.argmax(dim=1)\n",
    "            correct_train += (preds == data.y).sum().item()\n",
    "            total_train += data.y.size(0)\n",
    "\n",
    "        train_losses.append(train_loss / len(train_loader))\n",
    "        train_accuracies.append(correct_train / total_train)\n",
    "\n",
    "        model.eval()\n",
    "        val_loss = 0\n",
    "        correct_val = 0\n",
    "        total_val = 0\n",
    "\n",
    "        with torch.no_grad():\n",
    "            for data in val_loader:\n",
    "                out = model(data.x, data.edge_index, data.edge_type)\n",
    "                loss = criterion(out, data.y)\n",
    "                val_loss += loss.item()\n",
    "\n",
    "                preds = out.argmax(dim=1)\n",
    "                correct_val += (preds == data.y).sum().item()\n",
    "                total_val += data.y.size(0)\n",
    "\n",
    "        val_losses.append(val_loss / len(val_loader))\n",
    "        val_accuracies.append(correct_val / total_val)\n",
    "\n",
    "        print(f\"Epoch {epoch+1}: Train Loss = {train_losses[-1]}, Val Loss = {val_losses[-1]}, Train Acc = {train_accuracies[-1]}, Val Acc = {val_accuracies[-1]}\")\n",
    "\n",
    "        if best_val_loss - val_losses[-1] < early_stop_threshold:\n",
    "            no_improve_epochs += 1\n",
    "            if no_improve_epochs >= max_no_improve_epochs:\n",
    "                print(\"Early stopping triggered\")\n",
    "                break\n",
    "        else:\n",
    "            no_improve_epochs = 0\n",
    "            best_val_loss = val_losses[-1]\n",
    "            \n",
    "    return model, train_losses, val_losses, train_accuracies, val_accuracies\n",
    "\n",
    "def show_learning_curves(train_losses, val_losses, train_accuracies, val_accuracies):\n",
    "    plt.figure(figsize=(12, 5))\n",
    "\n",
    "    plt.subplot(1, 2, 1)\n",
    "    plt.plot(train_losses, label='Training Loss')\n",
    "    plt.plot(val_losses, label='Validation Loss')\n",
    "    plt.xlabel('Epochs')\n",
    "    plt.ylabel('Loss')\n",
    "    plt.legend()\n",
    "    plt.title('Loss Over Epochs')\n",
    "\n",
    "    plt.subplot(1, 2, 2)\n",
    "    plt.plot(train_accuracies, label='Training Accuracy')\n",
    "    plt.plot(val_accuracies, label='Validation Accuracy')\n",
    "    plt.xlabel('Epochs')\n",
    "    plt.ylabel('Accuracy')\n",
    "    plt.legend()\n",
    "    plt.title('Accuracy Over Epochs')\n",
    "\n",
    "    plt.tight_layout()\n",
    "    plt.show()\n",
    "    \n",
    "def show_classification_report_relation_model(model, test_loader):\n",
    "    # Classification report on test set\n",
    "    model.eval()\n",
    "    all_preds = []\n",
    "    all_labels = []\n",
    "\n",
    "    with torch.no_grad():\n",
    "        for data in test_loader:\n",
    "            out = model(data.x, data.edge_index, data.edge_type)\n",
    "            preds = out.argmax(dim=1)\n",
    "            all_preds.extend(preds.cpu().numpy())\n",
    "            all_labels.extend(data.y.cpu().numpy())\n",
    "\n",
    "    print(classification_report(all_labels, all_preds, target_names=label_decoder.values()))"
   ]
  },
  {
   "cell_type": "code",
   "execution_count": 47,
   "id": "b074c855",
   "metadata": {},
   "outputs": [
    {
     "data": {
      "text/plain": [
       "RGCNWithGAT(\n",
       "  (rgcn): RGCNConv(768, 64, num_relations=3)\n",
       "  (gat): GATConv(64, 64, heads=1)\n",
       "  (skip_transformation): Linear(in_features=768, out_features=64, bias=True)\n",
       "  (fc): Linear(in_features=64, out_features=7, bias=True)\n",
       ")"
      ]
     },
     "execution_count": 47,
     "metadata": {},
     "output_type": "execute_result"
    }
   ],
   "source": [
    "model"
   ]
  },
  {
   "cell_type": "code",
   "execution_count": 48,
   "id": "fa0a8258",
   "metadata": {},
   "outputs": [
    {
     "name": "stderr",
     "output_type": "stream",
     "text": [
      "Epoch 1: 100%|████████████████████████████████████████████████████████████████████| 2160/2160 [00:20<00:00, 107.85it/s]\n"
     ]
    },
    {
     "name": "stdout",
     "output_type": "stream",
     "text": [
      "Epoch 1: Train Loss = 1.8048358852992317, Val Loss = 1.8670368384923441, Train Acc = 0.4893302180685358, Val Acc = 0.49658002735978113\n"
     ]
    },
    {
     "name": "stderr",
     "output_type": "stream",
     "text": [
      "Epoch 2: 100%|█████████████████████████████████████████████████████████████████████| 2160/2160 [00:22<00:00, 94.09it/s]\n"
     ]
    },
    {
     "name": "stdout",
     "output_type": "stream",
     "text": [
      "Epoch 2: Train Loss = 1.7643155695732375, Val Loss = 1.8609246344547028, Train Acc = 0.5212616822429906, Val Acc = 0.5273597811217511\n"
     ]
    },
    {
     "name": "stderr",
     "output_type": "stream",
     "text": [
      "Epoch 3: 100%|█████████████████████████████████████████████████████████████████████| 2160/2160 [00:23<00:00, 90.89it/s]\n"
     ]
    },
    {
     "name": "stdout",
     "output_type": "stream",
     "text": [
      "Epoch 3: Train Loss = 1.8775895824183746, Val Loss = 3.046246177230582, Train Acc = 0.5169003115264797, Val Acc = 0.45006839945280436\n"
     ]
    },
    {
     "name": "stderr",
     "output_type": "stream",
     "text": [
      "Epoch 4: 100%|█████████████████████████████████████████████████████████████████████| 2160/2160 [00:23<00:00, 92.93it/s]\n"
     ]
    },
    {
     "name": "stdout",
     "output_type": "stream",
     "text": [
      "Epoch 4: Train Loss = 1.7934952301342828, Val Loss = 3.1130979819326763, Train Acc = 0.5312305295950156, Val Acc = 0.40287277701778385\n"
     ]
    },
    {
     "name": "stderr",
     "output_type": "stream",
     "text": [
      "Epoch 5: 100%|█████████████████████████████████████████████████████████████████████| 2160/2160 [00:24<00:00, 88.08it/s]\n"
     ]
    },
    {
     "name": "stdout",
     "output_type": "stream",
     "text": [
      "Epoch 5: Train Loss = 1.7769033479183927, Val Loss = 2.668024345913997, Train Acc = 0.5390965732087227, Val Acc = 0.506155950752394\n"
     ]
    },
    {
     "name": "stderr",
     "output_type": "stream",
     "text": [
      "Epoch 6: 100%|█████████████████████████████████████████████████████████████████████| 2160/2160 [00:23<00:00, 92.89it/s]\n"
     ]
    },
    {
     "name": "stdout",
     "output_type": "stream",
     "text": [
      "Epoch 6: Train Loss = 1.7628761791248473, Val Loss = 2.0345136443773906, Train Acc = 0.5380062305295951, Val Acc = 0.49316005471956226\n"
     ]
    },
    {
     "name": "stderr",
     "output_type": "stream",
     "text": [
      "Epoch 7: 100%|█████████████████████████████████████████████████████████████████████| 2160/2160 [00:23<00:00, 90.86it/s]\n"
     ]
    },
    {
     "name": "stdout",
     "output_type": "stream",
     "text": [
      "Epoch 7: Train Loss = 1.8048772596853118, Val Loss = 3.835830100356705, Train Acc = 0.5352803738317757, Val Acc = 0.32694938440492477\n",
      "Early stopping triggered\n"
     ]
    },
    {
     "data": {
      "image/png": "[encoded data removed]",
      "text/plain": [
       "<Figure size 864x360 with 2 Axes>"
      ]
     },
     "metadata": {
      "needs_background": "light"
     },
     "output_type": "display_data"
    },
    {
     "name": "stdout",
     "output_type": "stream",
     "text": [
      "              precision    recall  f1-score   support\n",
      "\n",
      "       anger       0.35      0.08      0.13       516\n",
      "     disgust       0.05      0.73      0.09        99\n",
      "        fear       0.06      0.02      0.03        60\n",
      "         joy       0.50      0.27      0.35       495\n",
      "     neutral       0.68      0.55      0.61      1615\n",
      "     sadness       0.11      0.03      0.04       263\n",
      "    surprise       0.70      0.24      0.36       352\n",
      "\n",
      "    accuracy                           0.36      3400\n",
      "   macro avg       0.35      0.27      0.23      3400\n",
      "weighted avg       0.53      0.36      0.40      3400\n",
      "\n"
     ]
    }
   ],
   "source": [
    "model = RGCNWithGAT(num_features=768, num_classes=7, num_relations=3)\n",
    "\n",
    "model, train_losses, \\\n",
    "val_losses, train_accuracies, \\\n",
    "val_accuracies = train_relational_model(model, train_loader, val_loader)\n",
    "\n",
    "show_learning_curves(train_losses, val_losses, train_accuracies, val_accuracies)\n",
    "\n",
    "show_classification_report_relation_model(model, test_loader)"
   ]
  },
  {
   "cell_type": "code",
   "execution_count": 45,
   "id": "febea0e9",
   "metadata": {},
   "outputs": [
    {
     "name": "stdout",
     "output_type": "stream",
     "text": [
      "              precision    recall  f1-score   support\n",
      "\n",
      "       anger       0.39      0.41      0.40      5948\n",
      "     disgust       0.47      0.15      0.23      1352\n",
      "        fear       0.64      0.11      0.19      1242\n",
      "         joy       0.47      0.53      0.50      8354\n",
      "     neutral       0.70      0.81      0.75     22310\n",
      "     sadness       0.54      0.11      0.18      3444\n",
      "    surprise       0.53      0.53      0.53      5594\n",
      "\n",
      "    accuracy                           0.59     48244\n",
      "   macro avg       0.53      0.38      0.40     48244\n",
      "weighted avg       0.59      0.59      0.57     48244\n",
      "\n"
     ]
    }
   ],
   "source": [
    "show_classification_report_relation_model(model, test_loader)"
   ]
  },
  {
   "cell_type": "markdown",
   "id": "c694bf57",
   "metadata": {},
   "source": [
    "#### RGAT"
   ]
  },
  {
   "cell_type": "code",
   "execution_count": 49,
   "id": "224dc5d6",
   "metadata": {},
   "outputs": [
    {
     "name": "stderr",
     "output_type": "stream",
     "text": [
      "Epoch 1: 100%|█████████████████████████████████████████████████████████████████████| 8174/8174 [09:18<00:00, 14.63it/s]\n"
     ]
    },
    {
     "name": "stdout",
     "output_type": "stream",
     "text": [
      "Epoch 1: Train Loss = 213.23603577329445, Val Loss = 72.3147659005101, Train Acc = 0.3183608324351215, Val Acc = 0.4206326175275682\n"
     ]
    },
    {
     "name": "stderr",
     "output_type": "stream",
     "text": [
      "Epoch 2: 100%|█████████████████████████████████████████████████████████████████████| 8174/8174 [08:56<00:00, 15.24it/s]\n"
     ]
    },
    {
     "name": "stdout",
     "output_type": "stream",
     "text": [
      "Epoch 2: Train Loss = 294.47417506254567, Val Loss = 94.69157874148742, Train Acc = 0.36236630461819086, Val Acc = 0.5607329408838405\n"
     ]
    },
    {
     "name": "stderr",
     "output_type": "stream",
     "text": [
      "Epoch 3: 100%|█████████████████████████████████████████████████████████████████████| 8174/8174 [09:13<00:00, 14.76it/s]\n"
     ]
    },
    {
     "name": "stdout",
     "output_type": "stream",
     "text": [
      "Epoch 3: Train Loss = 324.49151814151946, Val Loss = 74.42516108871587, Train Acc = 0.3993242683027941, Val Acc = 0.5631166569936158\n"
     ]
    },
    {
     "name": "stderr",
     "output_type": "stream",
     "text": [
      "Epoch 4: 100%|█████████████████████████████████████████████████████████████████████| 8174/8174 [08:58<00:00, 15.19it/s]\n"
     ]
    },
    {
     "name": "stdout",
     "output_type": "stream",
     "text": [
      "Epoch 4: Train Loss = 512.8208612725512, Val Loss = 144.1641142630034, Train Acc = 0.3995730038968576, Val Acc = 0.5350302628306111\n"
     ]
    },
    {
     "name": "stderr",
     "output_type": "stream",
     "text": [
      "Epoch 5: 100%|█████████████████████████████████████████████████████████████████████| 8174/8174 [09:05<00:00, 15.00it/s]\n"
     ]
    },
    {
     "name": "stdout",
     "output_type": "stream",
     "text": [
      "Epoch 5: Train Loss = 363.611120826198, Val Loss = 151.99879234137677, Train Acc = 0.41157449631042203, Val Acc = 0.5049747118812702\n"
     ]
    },
    {
     "name": "stderr",
     "output_type": "stream",
     "text": [
      "Epoch 6: 100%|█████████████████████████████████████████████████████████████████████| 8174/8174 [08:51<00:00, 15.38it/s]\n"
     ]
    },
    {
     "name": "stdout",
     "output_type": "stream",
     "text": [
      "Epoch 6: Train Loss = 406.3151796365362, Val Loss = 291.8443010317577, Train Acc = 0.40825802172290854, Val Acc = 0.4528646049249648\n",
      "Early stopping triggered\n"
     ]
    },
    {
     "data": {
      "image/png": "[encoded data removed]",
      "text/plain": [
       "<Figure size 864x360 with 2 Axes>"
      ]
     },
     "metadata": {
      "needs_background": "light"
     },
     "output_type": "display_data"
    },
    {
     "name": "stdout",
     "output_type": "stream",
     "text": [
      "              precision    recall  f1-score   support\n",
      "\n",
      "       anger       0.31      0.17      0.22      5948\n",
      "     disgust       0.05      0.01      0.01      1352\n",
      "        fear       0.17      0.00      0.01      1242\n",
      "         joy       0.26      0.74      0.39      8354\n",
      "     neutral       0.71      0.60      0.65     22310\n",
      "     sadness       0.21      0.03      0.05      3444\n",
      "    surprise       0.59      0.19      0.29      5594\n",
      "\n",
      "    accuracy                           0.45     48244\n",
      "   macro avg       0.33      0.25      0.23     48244\n",
      "weighted avg       0.50      0.45      0.43     48244\n",
      "\n"
     ]
    }
   ],
   "source": [
    "model = EGATConv(num_features=768, num_classes=7, num_relations=3)\n",
    "\n",
    "model, train_losses, \\\n",
    "val_losses, train_accuracies, \\\n",
    "val_accuracies = train_relational_model(model, train_loader, val_loader)\n",
    "\n",
    "show_learning_curves(train_losses, val_losses, train_accuracies, val_accuracies)\n",
    "\n",
    "show_classification_report_relation_model(model, test_loader)"
   ]
  },
  {
   "cell_type": "markdown",
   "id": "5aeb20fd",
   "metadata": {},
   "source": [
    "#### EdgeGAT"
   ]
  },
  {
   "cell_type": "code",
   "execution_count": 105,
   "id": "9d53813c",
   "metadata": {},
   "outputs": [],
   "source": [
    "DIOLOG_ID = 0\n",
    "startIdx, endIdx = rangesTrain[DIOLOG_ID][0], rangesTrain[DIOLOG_ID][1]\n",
    "\n",
    "graph = dgl.graph((edgeIndicesTrain[DIOLOG_ID][0], edgeIndicesTrain[DIOLOG_ID][1]))\n",
    "edge_feats = get_ohe(edgeTypesTrain[DIOLOG_ID])\n",
    "\n",
    "# egat_output = egat(graph, contextualEmbeddings[startIdx: endIdx+1], edge_feats)"
   ]
  },
  {
   "cell_type": "code",
   "execution_count": 106,
   "id": "592ed65b",
   "metadata": {},
   "outputs": [
    {
     "data": {
      "text/plain": [
       "Graph(num_nodes=14, num_edges=50,\n",
       "      ndata_schemes={}\n",
       "      edata_schemes={})"
      ]
     },
     "execution_count": 106,
     "metadata": {},
     "output_type": "execute_result"
    }
   ],
   "source": [
    "graph"
   ]
  },
  {
   "cell_type": "code",
   "execution_count": 114,
   "id": "9a41b8d5",
   "metadata": {
    "code_folding": [
     0
    ]
   },
   "outputs": [],
   "source": [
    "class EGATConv(nn.Module):\n",
    "    def __init__(self,\n",
    "                 in_node_feats,\n",
    "                 in_edge_feats,\n",
    "                 out_node_feats,\n",
    "                 out_edge_feats,\n",
    "                 num_heads,\n",
    "                 bias=True,\n",
    "                 **kw_args):\n",
    "\n",
    "        super().__init__()\n",
    "        self._num_heads = num_heads\n",
    "        self._out_node_feats = out_node_feats\n",
    "        self._out_edge_feats = out_edge_feats\n",
    "        \n",
    "        self.fc_node = nn.Linear(in_node_feats, out_node_feats * num_heads, bias=bias)\n",
    "        self.fc_ni = nn.Linear(in_node_feats, out_edge_feats * num_heads, bias=False)\n",
    "        self.fc_fij = nn.Linear(in_edge_feats, out_edge_feats * num_heads, bias=False)\n",
    "        self.fc_nj = nn.Linear(in_node_feats, out_edge_feats * num_heads, bias=False)\n",
    "        \n",
    "        # Attention parameter\n",
    "        self.attn = nn.Parameter(torch.FloatTensor(size=(1, num_heads, out_edge_feats)))\n",
    "        \n",
    "        if bias:\n",
    "            self.bias = nn.Parameter(torch.FloatTensor(size=(num_heads * out_edge_feats,)))\n",
    "        else:\n",
    "            self.register_buffer('bias', None)\n",
    "        \n",
    "        self.reset_parameters()\n",
    "\n",
    "    def reset_parameters(self):\n",
    "        torch.manual_seed(42)\n",
    "        gain = init.calculate_gain('relu')\n",
    "        init.xavier_normal_(self.fc_node.weight, gain=gain)\n",
    "        init.xavier_normal_(self.fc_ni.weight, gain=gain)\n",
    "        init.xavier_normal_(self.fc_fij.weight, gain=gain)\n",
    "        init.xavier_normal_(self.fc_nj.weight, gain=gain)\n",
    "        init.xavier_normal_(self.attn, gain=gain)\n",
    "        \n",
    "        if self.bias is not None:\n",
    "            nn.init.constant_(self.bias, 0)\n",
    "\n",
    "    def forward(self, graph, nfeats, efeats, get_attention=False):\n",
    "        with graph.local_scope():\n",
    "            graph.edata['f'] = efeats\n",
    "            graph.ndata['h'] = nfeats\n",
    "            \n",
    "            f_ni = self.fc_ni(nfeats)\n",
    "            f_nj = self.fc_nj(nfeats)\n",
    "            f_fij = self.fc_fij(efeats)\n",
    "            graph.srcdata.update({'f_ni' : f_ni})\n",
    "            graph.dstdata.update({'f_nj' : f_nj})\n",
    "            \n",
    "            graph.apply_edges(fn.u_add_v('f_ni', 'f_nj', 'f_tmp'))\n",
    "            f_out = graph.edata.pop('f_tmp') + f_fij\n",
    "            \n",
    "            if self.bias is not None:\n",
    "                f_out += self.bias\n",
    "            f_out = nn.functional.leaky_relu(f_out)\n",
    "            f_out = f_out.view(-1, self._num_heads, self._out_edge_feats)\n",
    "            \n",
    "            e = (f_out * self.attn).sum(dim=-1).unsqueeze(-1)\n",
    "            graph.edata['a'] = edge_softmax(graph, e)\n",
    "            graph.ndata['h_out'] = self.fc_node(nfeats).view(-1, self._num_heads, self._out_node_feats)\n",
    "            \n",
    "            graph.update_all(fn.u_mul_e('h_out', 'a', 'm'), fn.sum('m', 'h_out'))\n",
    "\n",
    "            h_out = graph.ndata['h_out'].view(-1, self._num_heads, self._out_node_feats)\n",
    "            if get_attention:\n",
    "                return h_out, f_out, graph.edata.pop('a')\n",
    "            else:\n",
    "                return h_out, f_out\n",
    "            \n",
    "class EdgeGATWithSkipConnection(nn.Module):\n",
    "    def __init__(self, in_node_feats, in_edge_feats=3, out_node_feats=64, out_edge_feats=3, num_heads=4, num_classes=7):\n",
    "        super(EdgeGATWithSkipConnection, self).__init__()\n",
    "        self.egat1 = EGATConv(in_node_feats, in_edge_feats, out_node_feats, out_edge_feats, num_heads)\n",
    "        self.egat2 = EGATConv(out_node_feats, out_edge_feats, out_node_feats, out_edge_feats, num_heads)\n",
    "        self.skip_transformation = nn.Linear(in_node_feats, out_node_feats)\n",
    "        self.fc = nn.Linear(out_node_feats, num_classes)\n",
    "\n",
    "    def forward(self, graph, nfeats, efeats):\n",
    "        # Add self-loops to edge_index and adjust edge_attr accordingly if needed\n",
    "#         print(f\"nfeats shape: {nfeats.shape}\")\n",
    "        x_skip = self.skip_transformation(nfeats)  # Transform the input for the skip connection\n",
    "        x, e = self.egat1(graph, nfeats, efeats)\n",
    "        x = x.max(dim=1).values  # Aggregate over heads\n",
    "        x = F.relu(x)\n",
    "#         print(f\"X shape: {x.shape}\")\n",
    "        x, e = self.egat2(graph, x, efeats)  # Ensure x is reshaped properly\n",
    "        x = x.max(dim=1).values  # Aggregate over heads\n",
    "#         print(x.shape, \" vs \", x_skip.shape)\n",
    "        x += x_skip  # Add skip connection\n",
    "        x = self.fc(x)\n",
    "        return F.log_softmax(x, dim=1)"
   ]
  },
  {
   "cell_type": "code",
   "execution_count": 107,
   "id": "f5cc05d7",
   "metadata": {
    "code_folding": [
     0,
     70,
     92
    ]
   },
   "outputs": [],
   "source": [
    "def train_egat_model(model, train_loader, val_loader):\n",
    "    optimizer = torch.optim.Adam(model.parameters(), lr=0.01)\n",
    "    criterion = torch.nn.CrossEntropyLoss()\n",
    "\n",
    "    train_losses = []\n",
    "    val_losses = []\n",
    "    train_accuracies = []\n",
    "    val_accuracies = []\n",
    "    early_stop_threshold = 0.0001\n",
    "    best_val_loss = float('inf')\n",
    "    no_improve_epochs = 0\n",
    "    max_no_improve_epochs = 5\n",
    "\n",
    "    for epoch in range(25):\n",
    "        model.train()\n",
    "        train_loss = 0\n",
    "        correct_train = 0\n",
    "        total_train = 0\n",
    "\n",
    "        for data in tqdm(train_loader, desc=f\"Epoch {epoch+1}\"):\n",
    "            optimizer.zero_grad()\n",
    "            graph = dgl.graph((data.edge_index[0], data.edge_index[1]))\n",
    "            edge_feats = get_ohe(data.edge_type)\n",
    "            out = model(graph, data.x, edge_feats)\n",
    "#             print(f\"out shape: {out.shape}\")\n",
    "            loss = criterion(out, data.y)\n",
    "            loss.backward()\n",
    "            optimizer.step()\n",
    "            train_loss += loss.item()\n",
    "\n",
    "            preds = out.argmax(dim=1)\n",
    "            correct_train += (preds == data.y).sum().item()\n",
    "            total_train += data.y.size(0)\n",
    "\n",
    "        train_losses.append(train_loss / len(train_loader))\n",
    "        train_accuracies.append(correct_train / total_train)\n",
    "\n",
    "        model.eval()\n",
    "        val_loss = 0\n",
    "        correct_val = 0\n",
    "        total_val = 0\n",
    "\n",
    "        with torch.no_grad():\n",
    "            for data in val_loader:\n",
    "                graph = dgl.graph((data.edge_index[0], data.edge_index[1]))\n",
    "                edge_feats = get_ohe(data.edge_type)\n",
    "                out = model(graph, data.x , edge_feats)\n",
    "                loss = criterion(out, data.y)\n",
    "                val_loss += loss.item()\n",
    "\n",
    "                preds = out.argmax(dim=1)\n",
    "                correct_val += (preds == data.y).sum().item()\n",
    "                total_val += data.y.size(0)\n",
    "\n",
    "        val_losses.append(val_loss / len(val_loader))\n",
    "        val_accuracies.append(correct_val / total_val)\n",
    "\n",
    "        print(f\"Epoch {epoch+1}: Train Loss = {train_losses[-1]}, Val Loss = {val_losses[-1]}, Train Acc = {train_accuracies[-1]}, Val Acc = {val_accuracies[-1]}\")\n",
    "\n",
    "        if best_val_loss - val_losses[-1] < early_stop_threshold:\n",
    "            no_improve_epochs += 1\n",
    "            if no_improve_epochs >= max_no_improve_epochs:\n",
    "                print(\"Early stopping triggered\")\n",
    "                break\n",
    "        else:\n",
    "            no_improve_epochs = 0\n",
    "            best_val_loss = val_losses[-1]\n",
    "            \n",
    "    return model, train_losses, val_losses, train_accuracies, val_accuracies\n",
    "\n",
    "def show_learning_curves(train_losses, val_losses, train_accuracies, val_accuracies):\n",
    "    plt.figure(figsize=(12, 5))\n",
    "\n",
    "    plt.subplot(1, 2, 1)\n",
    "    plt.plot(train_losses, label='Training Loss')\n",
    "    plt.plot(val_losses, label='Validation Loss')\n",
    "    plt.xlabel('Epochs')\n",
    "    plt.ylabel('Loss')\n",
    "    plt.legend()\n",
    "    plt.title('Loss Over Epochs')\n",
    "\n",
    "    plt.subplot(1, 2, 2)\n",
    "    plt.plot(train_accuracies, label='Training Accuracy')\n",
    "    plt.plot(val_accuracies, label='Validation Accuracy')\n",
    "    plt.xlabel('Epochs')\n",
    "    plt.ylabel('Accuracy')\n",
    "    plt.legend()\n",
    "    plt.title('Accuracy Over Epochs')\n",
    "\n",
    "    plt.tight_layout()\n",
    "    plt.show()\n",
    "    \n",
    "def show_classification_report_egat_model(model, test_loader):\n",
    "    # Classification report on test set\n",
    "    model.eval()\n",
    "    all_preds = []\n",
    "    all_labels = []\n",
    "\n",
    "    with torch.no_grad():\n",
    "        for data in test_loader:\n",
    "            graph = dgl.graph((data.edge_index[0], data.edge_index[1]))\n",
    "            edge_feats = get_ohe(data.edge_type)\n",
    "            out = model(graph, data.x , edge_feats)\n",
    "            preds = out.argmax(dim=1)\n",
    "            all_preds.extend(preds.cpu().numpy())\n",
    "            all_labels.extend(data.y.cpu().numpy())\n",
    "\n",
    "    print(classification_report(all_labels, all_preds, target_names=label_decoder.values()))"
   ]
  },
  {
   "cell_type": "code",
   "execution_count": 116,
   "id": "7345bfdb",
   "metadata": {},
   "outputs": [
    {
     "name": "stderr",
     "output_type": "stream",
     "text": [
      "Epoch 1: 100%|█████████████████████████████████████████████████████████████████████| 2160/2160 [01:03<00:00, 34.05it/s]\n"
     ]
    },
    {
     "name": "stdout",
     "output_type": "stream",
     "text": [
      "Epoch 1: Train Loss = 4.384525602199387, Val Loss = 6.454736830167477, Train Acc = 0.43769470404984423, Val Acc = 0.521203830369357\n"
     ]
    },
    {
     "name": "stderr",
     "output_type": "stream",
     "text": [
      "Epoch 2: 100%|█████████████████████████████████████████████████████████████████████| 2160/2160 [01:18<00:00, 27.53it/s]\n"
     ]
    },
    {
     "name": "stdout",
     "output_type": "stream",
     "text": [
      "Epoch 2: Train Loss = 4.8059940472502545, Val Loss = 5.720105706350851, Train Acc = 0.4735981308411215, Val Acc = 0.4377564979480164\n"
     ]
    },
    {
     "name": "stderr",
     "output_type": "stream",
     "text": [
      "Epoch 3: 100%|█████████████████████████████████████████████████████████████████████| 2160/2160 [01:19<00:00, 27.06it/s]\n"
     ]
    },
    {
     "name": "stdout",
     "output_type": "stream",
     "text": [
      "Epoch 3: Train Loss = 5.092767859024199, Val Loss = 10.056871703882374, Train Acc = 0.4913551401869159, Val Acc = 0.2722298221614227\n"
     ]
    },
    {
     "name": "stderr",
     "output_type": "stream",
     "text": [
      "Epoch 4: 100%|█████████████████████████████████████████████████████████████████████| 2160/2160 [01:19<00:00, 27.03it/s]\n"
     ]
    },
    {
     "name": "stdout",
     "output_type": "stream",
     "text": [
      "Epoch 4: Train Loss = 4.983419284945328, Val Loss = 6.302938179777667, Train Acc = 0.4968847352024922, Val Acc = 0.49863201094391246\n"
     ]
    },
    {
     "name": "stderr",
     "output_type": "stream",
     "text": [
      "Epoch 5: 100%|█████████████████████████████████████████████████████████████████████| 2160/2160 [01:19<00:00, 27.13it/s]\n"
     ]
    },
    {
     "name": "stdout",
     "output_type": "stream",
     "text": [
      "Epoch 5: Train Loss = 5.11373110241796, Val Loss = 5.275035967559799, Train Acc = 0.5093457943925234, Val Acc = 0.5102599179206566\n"
     ]
    },
    {
     "name": "stderr",
     "output_type": "stream",
     "text": [
      "Epoch 6: 100%|█████████████████████████████████████████████████████████████████████| 2160/2160 [01:19<00:00, 27.13it/s]\n"
     ]
    },
    {
     "name": "stdout",
     "output_type": "stream",
     "text": [
      "Epoch 6: Train Loss = 4.8530212361701235, Val Loss = 6.507454934845141, Train Acc = 0.5044392523364486, Val Acc = 0.42544459644322846\n"
     ]
    },
    {
     "name": "stderr",
     "output_type": "stream",
     "text": [
      "Epoch 7: 100%|█████████████████████████████████████████████████████████████████████| 2160/2160 [01:19<00:00, 27.20it/s]\n"
     ]
    },
    {
     "name": "stdout",
     "output_type": "stream",
     "text": [
      "Epoch 7: Train Loss = 5.557827453719633, Val Loss = 6.356540204650982, Train Acc = 0.5070872274143302, Val Acc = 0.49794801641586867\n"
     ]
    },
    {
     "name": "stderr",
     "output_type": "stream",
     "text": [
      "Epoch 8: 100%|█████████████████████████████████████████████████████████████████████| 2160/2160 [01:19<00:00, 27.20it/s]\n"
     ]
    },
    {
     "name": "stdout",
     "output_type": "stream",
     "text": [
      "Epoch 8: Train Loss = 5.242051050526696, Val Loss = 7.622886589732689, Train Acc = 0.5091121495327103, Val Acc = 0.4316005471956224\n"
     ]
    },
    {
     "name": "stderr",
     "output_type": "stream",
     "text": [
      "Epoch 9: 100%|█████████████████████████████████████████████████████████████████████| 2160/2160 [01:21<00:00, 26.57it/s]\n"
     ]
    },
    {
     "name": "stdout",
     "output_type": "stream",
     "text": [
      "Epoch 9: Train Loss = 5.546152534723783, Val Loss = 7.821125647198001, Train Acc = 0.5151869158878505, Val Acc = 0.5294117647058824\n"
     ]
    },
    {
     "name": "stderr",
     "output_type": "stream",
     "text": [
      "Epoch 10: 100%|████████████████████████████████████████████████████████████████████| 2160/2160 [01:19<00:00, 27.00it/s]\n"
     ]
    },
    {
     "name": "stdout",
     "output_type": "stream",
     "text": [
      "Epoch 10: Train Loss = 5.248498280116797, Val Loss = 6.541630675285409, Train Acc = 0.5292834890965732, Val Acc = 0.4993160054719562\n",
      "Early stopping triggered\n"
     ]
    },
    {
     "data": {
      "image/png": "[encoded data removed]",
      "text/plain": [
       "<Figure size 864x360 with 2 Axes>"
      ]
     },
     "metadata": {
      "needs_background": "light"
     },
     "output_type": "display_data"
    },
    {
     "name": "stdout",
     "output_type": "stream",
     "text": [
      "              precision    recall  f1-score   support\n",
      "\n",
      "       anger       0.75      0.03      0.06       516\n",
      "     disgust       1.00      0.01      0.02        99\n",
      "        fear       0.07      0.23      0.10        60\n",
      "         joy       0.36      0.57      0.44       495\n",
      "     neutral       0.74      0.74      0.74      1615\n",
      "     sadness       0.25      0.27      0.26       263\n",
      "    surprise       0.41      0.55      0.47       352\n",
      "\n",
      "    accuracy                           0.52      3400\n",
      "   macro avg       0.51      0.34      0.30      3400\n",
      "weighted avg       0.61      0.52      0.50      3400\n",
      "\n"
     ]
    }
   ],
   "source": [
    "model = EdgeGATWithSkipConnection(in_node_feats=768, out_node_feats=64, out_edge_feats=3, num_heads=4)\n",
    "# model = EdgeGATWithGCN(in_node_feats=768, out_node_feats=64, out_edge_feats=3, num_heads=4)\n",
    "model, train_losses, \\\n",
    "val_losses, train_accuracies, \\\n",
    "val_accuracies = train_egat_model(model, train_loader, val_loader)\n",
    "\n",
    "show_learning_curves(train_losses, val_losses, train_accuracies, val_accuracies)\n",
    "\n",
    "show_classification_report_egat_model(model, test_loader)"
   ]
  },
  {
   "cell_type": "code",
   "execution_count": null,
   "id": "13889cff",
   "metadata": {},
   "outputs": [],
   "source": []
  },
  {
   "cell_type": "markdown",
   "id": "6e18118d",
   "metadata": {},
   "source": [
    "<h4> Creating \"SAMPLE\" graph features based on various graph networks"
   ]
  },
  {
   "cell_type": "code",
   "execution_count": 100,
   "id": "1e2544c7",
   "metadata": {},
   "outputs": [],
   "source": [
    "model = EdgeGATWithGCN(in_node_feats=768, out_node_feats=64, out_edge_feats=3, num_heads=4)"
   ]
  },
  {
   "cell_type": "code",
   "execution_count": null,
   "id": "16a469bf",
   "metadata": {},
   "outputs": [],
   "source": [
    "# len(rangesTrain)"
   ]
  },
  {
   "cell_type": "markdown",
   "id": "3b197fe2",
   "metadata": {},
   "source": [
    "Start of sample"
   ]
  },
  {
   "cell_type": "markdown",
   "id": "cc943c7d",
   "metadata": {},
   "source": [
    "<h5>DGCN"
   ]
  },
  {
   "cell_type": "code",
   "execution_count": null,
   "id": "c9caf12f",
   "metadata": {},
   "outputs": [],
   "source": [
    "class SampleDataset(Dataset):\n",
    "    def __init__(self):\n",
    "        self.features = [torch.rand(14, 200)]\n",
    "        self.edge_index = [torch.randint(0, 14, (2, 69))]\n",
    "        self.edge_type = [torch.randint(0, 4, (69,))]\n",
    "        self.edge_index_lengths = [torch.tensor([69])]\n",
    "        self.umask = [torch.randint(0, 2, (1, 14))]\n",
    "\n",
    "    def __len__(self):\n",
    "        return len(self.features)\n",
    "\n",
    "    def __getitem__(self, idx):\n",
    "        return (self.features[idx], self.edge_index[idx], self.edge_type[idx], self.edge_index_lengths[idx], self.umask[idx])\n",
    "\n",
    "# Create the dataset and dataloader\n",
    "dataset = SampleDataset()\n",
    "dataloader = DataLoader(dataset, batch_size=1, shuffle=False)"
   ]
  },
  {
   "cell_type": "code",
   "execution_count": null,
   "id": "4874963d",
   "metadata": {
    "code_folding": [
     0
    ]
   },
   "outputs": [],
   "source": [
    "# features = torch.randn(14, 200)\n",
    "# edge_index = [torch.tensor([[0, 1, 2, 3, 4, 5, 6, 7, 8, 9, 10, 11, 12, 13],\n",
    "#                             [1, 2, 3, 4, 5, 6, 7, 8, 9, 10, 11, 12, 13, 0]])]\n",
    "# edge_type = [torch.tensor([1, 0, 2, 2, 2, 0, 1, 3, 2, 2, 0, 2, 2, 2])]\n",
    "# seq_lengths  = torch.tensor([[14]])\n",
    "# umask = torch.ones(1, 1, 14)\n",
    "\n",
    "# nodal_attn = False\n",
    "# avec = False\n",
    "\n",
    "# # Initialize the model\n",
    "# model = GraphNetwork_RGCN(num_features=200, num_classes=7, num_relations=4, max_seq_len=14)\n",
    "# gcn_representation = model(features, edge_index, edge_type)\n",
    "# print(\"GCN Representation Shape:\", gcn_representation.shape)"
   ]
  },
  {
   "cell_type": "code",
   "execution_count": null,
   "id": "c3846a77",
   "metadata": {},
   "outputs": [],
   "source": [
    "# features[0].shape"
   ]
  },
  {
   "cell_type": "markdown",
   "id": "e40d48a0",
   "metadata": {},
   "source": [
    "<h5>GAT w/o edge feats"
   ]
  },
  {
   "cell_type": "code",
   "execution_count": null,
   "id": "0e6cdb11",
   "metadata": {},
   "outputs": [],
   "source": [
    "# # Example usage:\n",
    "# num_features = 768\n",
    "# num_classes = 7\n",
    "# num_relations = 4  # This parameter is not used with GATConv but kept for compatibility\n",
    "# max_seq_len = 14\n",
    "# hidden_size = 64\n",
    "# num_heads = 8\n",
    "# dropout = 0.5\n",
    "# no_cuda = False\n",
    "\n",
    "# model = GraphNetwork_GAT(num_features, num_classes, num_relations, max_seq_len, hidden_size, num_heads, dropout, no_cuda)\n",
    "\n",
    "# # Dummy inputs for testing\n",
    "# x = torch.randn((14, num_features))  # Example feature matrix with 14 nodes\n",
    "# edge_index = [torch.randint(0, 14, (2, 20))]  # Example edge index with 20 edges\n",
    "# # edge_type = [torch.randint(0, num_relations, (20,))]  # Example edge types\n",
    "\n",
    "# # Forward pass\n",
    "# out = model(x, edge_index)\n",
    "# print(\"Output shape:\", out.shape)"
   ]
  },
  {
   "cell_type": "markdown",
   "id": "0862804c",
   "metadata": {},
   "source": [
    "<h5>GAT with edge feats"
   ]
  },
  {
   "cell_type": "code",
   "execution_count": null,
   "id": "276cee90",
   "metadata": {},
   "outputs": [],
   "source": [
    "# num_features = 768\n",
    "# num_classes = 7\n",
    "# num_relations = 4  # Assuming edge features have 4 dimensions\n",
    "# max_seq_len = 14\n",
    "# hidden_size = 64\n",
    "# num_heads = 8\n",
    "# dropout = 0.5\n",
    "# no_cuda = False\n",
    "\n",
    "# model = GraphNetwork_GAT_EdgeFeat(num_features, num_classes, num_relations, max_seq_len,\n",
    "#                                   hidden_size, num_heads, dropout)\n",
    "\n",
    "# # Dummy inputs for testing\n",
    "# x = torch.randn((14, num_features))\n",
    "# edge_index = [torch.randint(0, 14, (2, 20))]\n",
    "# edge_attr = [torch.randn((20, num_relations))]\n",
    "\n",
    "# # Forward pass\n",
    "# out = model(x, edge_index, edge_attr)\n",
    "# print(\"Output shape:\", out.shape)"
   ]
  },
  {
   "cell_type": "code",
   "execution_count": null,
   "id": "1869288a",
   "metadata": {},
   "outputs": [],
   "source": [
    "# edge_attr = torch.randint(0, 2, (20, 1)).float()  # Example binary edge features\n",
    "# edge_attr"
   ]
  },
  {
   "cell_type": "markdown",
   "id": "bd71b632",
   "metadata": {},
   "source": [
    "<h5>GATv2 w/o edgetype"
   ]
  },
  {
   "cell_type": "code",
   "execution_count": null,
   "id": "ab557a25",
   "metadata": {
    "code_folding": [
     0
    ]
   },
   "outputs": [],
   "source": [
    "# num_features = 768\n",
    "# num_classes = 7\n",
    "# hidden_size = 64\n",
    "# num_heads = 8\n",
    "# dropout = 0.5\n",
    "# no_cuda = False\n",
    "\n",
    "# model = GraphNetwork_GATv2(num_features, num_classes, hidden_size, num_heads, dropout)\n",
    "\n",
    "# # Dummy inputs for testing\n",
    "# x = torch.randn((14, num_features))  # Example feature matrix with 14 nodes\n",
    "# edge_index = torch.randint(0, 14, (2, 20))  # Example edge index with 20 edges\n",
    "# edge_attr = torch.randn((20, 1))  # Example edge features\n",
    "\n",
    "# # Forward pass\n",
    "# out = model(x, edge_index, edge_attr)\n",
    "# print(\"Output shape:\", out.shape)\n",
    "\n",
    "# # Forward pass with attention weights\n",
    "# out, (edge_index, attention_weights) = model(x, edge_index, edge_attr, return_attention_weights=True)\n",
    "# print(\"Output shape with attention:\", out.shape)\n",
    "# print(\"Attention weights shape:\", attention_weights.shape)"
   ]
  },
  {
   "cell_type": "markdown",
   "id": "f5781299",
   "metadata": {},
   "source": [
    "<h5>GATv2 with edge type"
   ]
  },
  {
   "cell_type": "code",
   "execution_count": null,
   "id": "3b5ae9cb",
   "metadata": {
    "code_folding": [
     0
    ]
   },
   "outputs": [],
   "source": [
    "# num_features = 768\n",
    "# num_classes = 7\n",
    "# num_relations = 4\n",
    "# max_seq_len = 30\n",
    "# hidden_size = 64\n",
    "# num_heads = 8\n",
    "# dropout = 0.5\n",
    "# no_cuda = False\n",
    "\n",
    "# model = GraphNetwork_GATv2_EdgeFeat(num_features, num_classes, num_relations,\n",
    "#                                     max_seq_len, hidden_size, num_heads, dropout)\n",
    "\n",
    "# x = torch.randn((14, num_features))  # Example feature matrix with 14 nodes\n",
    "# edge_index = torch.randint(0, 14, (2, 20))  # Example edge index with 20 edges\n",
    "# edge_attr = torch.randn((20, num_relations))  # Example edge features\n",
    "\n",
    "# # Forward pass\n",
    "# out = model(x, edge_index, edge_attr)\n",
    "# print(\"Output shape:\", out.shape)"
   ]
  },
  {
   "cell_type": "markdown",
   "id": "1a6d91e3",
   "metadata": {},
   "source": [
    "<h5>RGAT"
   ]
  },
  {
   "cell_type": "code",
   "execution_count": null,
   "id": "d536b5f8",
   "metadata": {
    "code_folding": []
   },
   "outputs": [],
   "source": [
    "# edge_index"
   ]
  },
  {
   "cell_type": "code",
   "execution_count": null,
   "id": "e05a3a7e",
   "metadata": {
    "code_folding": [
     0
    ]
   },
   "outputs": [],
   "source": [
    "# num_features = 768\n",
    "# num_classes = 7\n",
    "# num_relations = 3  # Example number of relations\n",
    "# hidden_size = 64\n",
    "# num_heads = 8\n",
    "# dropout = 0.5\n",
    "# edge_dim = 1  # Dimensionality of edge attributes\n",
    "# no_cuda = False\n",
    "\n",
    "\n",
    "# model = GraphNetwork_RGAT(num_features, num_classes, num_relations, hidden_size, num_heads, dropout, \n",
    "#                           edge_dim)\n",
    "\n",
    "# # Dummy inputs for testing\n",
    "# x = torch.randn((14, num_features))  # Example feature matrix with 14 nodes\n",
    "# edge_index = torch.randint(0, 14, (2, 20))  # Example edge index with 20 edges\n",
    "# edge_type = torch.randint(0, num_relations, (20,))  # Example edge types\n",
    "# edge_attr = torch.randn((20, 1))  # Example edge features\n",
    "\n",
    "# # Forward pass\n",
    "# out = model(x, edge_index, edge_type=edge_type)\n",
    "# print(\"Output shape:\", out.shape)"
   ]
  },
  {
   "cell_type": "markdown",
   "id": "de94a009",
   "metadata": {},
   "source": [
    "End of sample"
   ]
  },
  {
   "cell_type": "markdown",
   "id": "8317848a",
   "metadata": {},
   "source": [
    "<h4> Encode speaker to train, test, and validation sets"
   ]
  },
  {
   "cell_type": "code",
   "execution_count": null,
   "id": "69ad33d1",
   "metadata": {},
   "outputs": [],
   "source": [
    "file_path1 = ['embed/' + dataset_path + '/pre_h_prime_BERT_train.pkl', 'data/dump/' + dataset_path + '/labels_train.pkl']\n",
    "file_path2 = ['embed/' + dataset_path + '/pre_h_prime_BERT_test.pkl' , 'data/dump/' + dataset_path + '/labels_test.pkl']\n",
    "file_path3 = ['embed/' + dataset_path + '/pre_h_prime_BERT_dev.pkl', 'data/dump/' + dataset_path + '/labels_dev.pkl']\n",
    "\n",
    "dataLoaderTrain, trainLabels = getDataLoaderAndLabels(file_path1, rangesTrain)\n",
    "dataLoaderTest, testLabels = getDataLoaderAndLabels(file_path2, rangesTest)\n",
    "dataLoaderDev, devLabels = getDataLoaderAndLabels(file_path3, rangesDev)"
   ]
  },
  {
   "cell_type": "code",
   "execution_count": null,
   "id": "76fc8abd",
   "metadata": {},
   "outputs": [],
   "source": [
    "def RelationEncoding(file_path, dataLoader, model, config):\n",
    "    all_h_prime = []\n",
    "    all_matchatt = []\n",
    "    checkFile = os.path.isfile(file_path)\n",
    "    start_time = time.time()\n",
    "    batch_size = 500  # Batch size for saving intermediate results\n",
    "\n",
    "    i = 0\n",
    "    j = 1\n",
    "\n",
    "    for _, features_in, edge_index_in, edge_type_in, _ in tqdm(dataLoader, desc=\"Encoding Progress\", unit=\"batch\"):\n",
    "        if config == \"dgcn\":\n",
    "            feature = features_in.squeeze(0)\n",
    "            edge_index = edge_index_in.squeeze(0)\n",
    "            edge_type = edge_type_in.squeeze(0)\n",
    "            graph_representation = model(feature, [edge_index], [edge_type])\n",
    "        elif config == \"GATv1_noAttn\":\n",
    "            feature = features_in.squeeze(0)\n",
    "            edge_index = edge_index_in.squeeze(0)\n",
    "            graph_representation = model(feature, [edge_index])\n",
    "        elif config == \"GATv1\":\n",
    "            feature = features_in.squeeze(0)\n",
    "            edge_index = edge_index_in.squeeze(0)\n",
    "            edge_type = edge_type_in.squeeze(0)\n",
    "            num_edge_types = 8\n",
    "            edge_attr = torch.zeros((edge_type.size(0), num_edge_types))\n",
    "            edge_attr.scatter_(1, edge_type.view(-1, 1), 1)\n",
    "            graph_representation = model(feature, [edge_index], [edge_attr])\n",
    "        elif config == \"GATv2_noAttn\":\n",
    "            feature = features_in.squeeze(0)\n",
    "            edge_index = edge_index_in.squeeze(0)\n",
    "            graph_representation = model(feature, edge_index)\n",
    "        elif config == \"GATv2\":\n",
    "            feature = features_in.squeeze(0)\n",
    "            edge_index = edge_index_in.squeeze(0)\n",
    "            edge_type = edge_type_in.squeeze(0)\n",
    "            num_edge_types = 8\n",
    "            edge_attr = torch.zeros((edge_type.size(0), num_edge_types))\n",
    "            edge_attr.scatter_(1, edge_type.view(-1, 1), 1)\n",
    "            graph_representation = model(feature, edge_index, edge_attr)\n",
    "        elif config == \"RGAT\":\n",
    "            feature = features_in.squeeze(0)\n",
    "            edge_index = edge_index_in.squeeze(0)\n",
    "            edge_type = edge_type_in.squeeze(0)\n",
    "            graph_representation = model(x=feature, edge_index=edge_index, edge_type=edge_type)\n",
    "        \n",
    "        all_h_prime.append(graph_representation.cpu())\n",
    "\n",
    "        i += 1\n",
    "        if i % batch_size == 0 and config == \"RGAT\":\n",
    "            pt_file_path = f\"{file_path}_{j}.pkl\"\n",
    "            with open(pt_file_path, 'wb') as file:\n",
    "                pickle.dump(all_h_prime, file)\n",
    "            all_h_prime = []\n",
    "            j += 1\n",
    "            \n",
    "    end_time = time.time()\n",
    "    elapsed_time = end_time - start_time\n",
    "    print(\"It took\", elapsed_time, \"seconds to encode train\", config)\n",
    "    \n",
    "    if all_h_prime:  # Save any remaining data\n",
    "        if config == \"RGAT\":\n",
    "            pt_file_path = f\"{file_path}_{j}.pkl\"\n",
    "            with open(pt_file_path, 'wb') as file:\n",
    "                pickle.dump(all_h_prime, file)\n",
    "        else:\n",
    "            with open(file_path, 'wb') as file:\n",
    "                pickle.dump(all_h_prime, file)"
   ]
  },
  {
   "cell_type": "code",
   "execution_count": null,
   "id": "d3073ff8",
   "metadata": {
    "code_folding": [
     0
    ]
   },
   "outputs": [],
   "source": [
    "# features = torch.randn(14, 200)\n",
    "# edge_index = [torch.tensor([[0, 1, 2, 3, 4, 5, 6, 7, 8, 9, 10, 11, 12, 13],\n",
    "#                             [1, 2, 3, 4, 5, 6, 7, 8, 9, 10, 11, 12, 13, 0]])]\n",
    "# edge_type = [torch.tensor([1, 0, 2, 2, 2, 0, 1, 3, 2, 2, 0, 2, 2, 2])]\n",
    "# seq_lengths  = torch.tensor([[14]])\n",
    "# umask = torch.ones(1, 1, 14)\n",
    "# print(\"features: \", features.shape)\n",
    "# print(\"edge_index.shape: \", edge_index[0].shape)\n",
    "# print(\"edge_index: \", edge_index)\n",
    "# print(\"edge_type.shape: \", edge_type[0].shape)\n",
    "# print(\"edge_type: \", edge_type)\n",
    "# print(\"seq_lengths.shape: \", seq_lengths.shape)\n",
    "# print(\"seq_lengths: \", seq_lengths)\n",
    "# print(\"umask.shape: \", umask.shape)\n",
    "# print(\"umask: \", umask)"
   ]
  },
  {
   "cell_type": "code",
   "execution_count": null,
   "id": "b33d64f3",
   "metadata": {
    "code_folding": [
     0
    ]
   },
   "outputs": [],
   "source": [
    "# edge_type_mapping = {}\n",
    "\n",
    "# for j in range(2):\n",
    "#     for k in range(2):\n",
    "#         edge_type_mapping[str(j) + str(k) + '0'] = len(edge_type_mapping)\n",
    "#         edge_type_mapping[str(j) + str(k) + '1'] = len(edge_type_mapping)\n",
    "# edge_type_mapping"
   ]
  },
  {
   "cell_type": "markdown",
   "id": "648061a8",
   "metadata": {},
   "source": [
    "<h5>DGCN_train"
   ]
  },
  {
   "cell_type": "code",
   "execution_count": null,
   "id": "75c77723",
   "metadata": {
    "code_folding": []
   },
   "outputs": [],
   "source": [
    "file_path1 = 'embed/' + dataset_path + '/h_prime_BERT_DGCN_train.pkl'\n",
    "file_path2 = 'embed/' + dataset_path + '/h_prime_BERT_DGCN_test.pkl'\n",
    "file_path3 = 'embed/' + dataset_path + '/h_prime_BERT_DGCN_dev.pkl'\n",
    "\n",
    "if os.path.exists(file_path1) and os.path.exists(file_path2) and os.path.exists(file_path3):\n",
    "    print(\"All files exist. Skipping operation.\")\n",
    "else:\n",
    "    # Files do not exist, run the operations\n",
    "    model = GraphNetwork_RGCN(num_features=768, num_relations=8)\n",
    "    RelationEncoding(file_path1, dataLoaderTrain, model, \"dgcn\")\n",
    "    RelationEncoding(file_path2, dataLoaderTest, model, \"dgcn\")\n",
    "    RelationEncoding(file_path3, dataLoaderDev, model, \"dgcn\")"
   ]
  },
  {
   "cell_type": "markdown",
   "id": "7f46527c",
   "metadata": {},
   "source": [
    "<h5>GAT w/o edge_feats"
   ]
  },
  {
   "cell_type": "markdown",
   "id": "71f0bcdb",
   "metadata": {},
   "source": [
    "reviwing the types and shape"
   ]
  },
  {
   "cell_type": "code",
   "execution_count": null,
   "id": "31e9a397",
   "metadata": {},
   "outputs": [],
   "source": [
    "# all_edge_type[0]"
   ]
  },
  {
   "cell_type": "code",
   "execution_count": null,
   "id": "18aa4149",
   "metadata": {
    "code_folding": [
     0
    ]
   },
   "outputs": [],
   "source": [
    "# x = torch.randn((14, num_features))  # Example feature matrix with 14 nodes\n",
    "# edge_index = [torch.randint(0, 14, (2, 20))]  # Example edge index with 20 edges\n",
    "# edge_attr = [torch.randn((20, num_relations))]  # Example edge features\n",
    "# print(\"x.shape: \", x.shape)\n",
    "# print(\"edge_index.shape: \", edge_index[0].shape)\n",
    "# print(\"edge_attr.shape: \", edge_attr[0].shape)\n",
    "# print(\"x: \", x)\n",
    "# print(\"edge_index: \", edge_index)\n",
    "# print(\"edge_attr: \", edge_attr)"
   ]
  },
  {
   "cell_type": "code",
   "execution_count": null,
   "id": "758ba04f",
   "metadata": {
    "code_folding": []
   },
   "outputs": [],
   "source": [
    "num_features = 768\n",
    "num_relations = 4  # Assuming edge features have 4 dimensions\n",
    "hidden_size = 128\n",
    "num_heads = 8\n",
    "dropout = 0.5\n",
    "no_cuda = False\n",
    "\n",
    "file_path1 = 'embed/' + dataset_path + '/h_prime_BERT_GATv1_train.pkl'\n",
    "file_path2 = 'embed/' + dataset_path + '/h_prime_BERT_GATv1_test.pkl'\n",
    "file_path3 = 'embed/' + dataset_path + '/h_prime_BERT_GATv1_dev.pkl'\n",
    "\n",
    "if os.path.exists(file_path1) and os.path.exists(file_path2) and os.path.exists(file_path3):\n",
    "    print(\"All files exist. Skipping operation.\")\n",
    "else:\n",
    "    model = GraphNetwork_GAT(num_features, num_relations, hidden_size, num_heads, dropout, no_cuda)\n",
    "    RelationEncoding(file_path1, dataLoaderTrain, model, \"GATv1_noAttn\")\n",
    "    RelationEncoding(file_path2, dataLoaderTest, model, \"GATv1_noAttn\")\n",
    "    RelationEncoding(file_path3, dataLoaderDev, model, \"GATv1_noAttn\")"
   ]
  },
  {
   "cell_type": "markdown",
   "id": "3fb39da0",
   "metadata": {},
   "source": [
    "<h5>GAT w/ edge_feats"
   ]
  },
  {
   "cell_type": "code",
   "execution_count": null,
   "id": "01092d30",
   "metadata": {
    "code_folding": [
     0
    ]
   },
   "outputs": [],
   "source": [
    "# Dummy inputs for testing\n",
    "# x = torch.randn((14, num_features))  # Example feature matrix with 14 nodes\n",
    "# edge_index = [torch.randint(0, 14, (2, 20))]  # Example edge index with 20 edges\n",
    "# edge_attr = [torch.randn((20, num_relations))]  # Example edge features\n",
    "# print(edge_index[0].shape)\n",
    "# print(edge_attr[0].shape)\n",
    "# print(edge_index)\n",
    "# print(edge_attr)"
   ]
  },
  {
   "cell_type": "code",
   "execution_count": null,
   "id": "195e2641",
   "metadata": {
    "code_folding": [
     13
    ]
   },
   "outputs": [],
   "source": [
    "num_features = 768\n",
    "num_relations = 8  # Assuming edge features have 4 dimensions\n",
    "hidden_size = 128\n",
    "num_heads = 8\n",
    "dropout = 0.5\n",
    "no_cuda = False\n",
    "\n",
    "model = GraphNetwork_GAT_EdgeFeat(num_features, num_relations, hidden_size, num_heads, dropout,)\n",
    "\n",
    "file_path1 = 'embed/' + dataset_path + '/h_prime_BERT_GATv1_edgeAttr_train.pkl'\n",
    "file_path2 = 'embed/' + dataset_path + '/h_prime_BERT_GATv1_edgeAttr_test.pkl'\n",
    "file_path3 = 'embed/' + dataset_path + '/h_prime_BERT_GATv1_edgeAttr_dev.pkl'\n",
    "\n",
    "if os.path.exists(file_path1) and os.path.exists(file_path2) and os.path.exists(file_path3):\n",
    "    print(\"All files exist. Skipping operation.\")\n",
    "else:\n",
    "    RelationEncoding(file_path1, dataLoaderTrain, model, \"GATv1\")\n",
    "    RelationEncoding(file_path2, dataLoaderTest, model, \"GATv1\")\n",
    "    RelationEncoding(file_path3, dataLoaderDev, model, \"GATv1\")"
   ]
  },
  {
   "cell_type": "markdown",
   "id": "7d06c4f7",
   "metadata": {},
   "source": [
    "<h5>GATv2 w/o edge_feats"
   ]
  },
  {
   "cell_type": "code",
   "execution_count": null,
   "id": "ff3525a0",
   "metadata": {
    "code_folding": [
     0
    ]
   },
   "outputs": [],
   "source": [
    "# x = torch.randn((14, num_features))  # Example feature matrix with 14 nodes\n",
    "# edge_index = torch.randint(0, 14, (2, 20))  # Example edge index with 20 edges\n",
    "# edge_attr = torch.randn((20, 1))  # Example edge features\n",
    "# print(x.shape)\n",
    "# print(edge_index.shape)\n",
    "# print(edge_attr.shape)\n",
    "# print(x)\n",
    "# print(edge_index)\n",
    "# print(edge_attr)"
   ]
  },
  {
   "cell_type": "code",
   "execution_count": null,
   "id": "0a40b659",
   "metadata": {
    "code_folding": [
     11,
     13
    ]
   },
   "outputs": [],
   "source": [
    "num_features = 768\n",
    "num_classes = 7\n",
    "hidden_size = 128\n",
    "num_heads = 8\n",
    "dropout = 0.5\n",
    "no_cuda = False\n",
    "model = GraphNetwork_GATv2(num_features, hidden_size, num_heads, dropout, no_cuda)\n",
    "file_path1 = 'embed/' + dataset_path + '/h_prime_BERT_GATv2_train.pkl'\n",
    "file_path2 = 'embed/' + dataset_path + '/h_prime_BERT_GATv2_test.pkl'\n",
    "file_path3 = 'embed/' + dataset_path + '/h_prime_BERT_GATv2_dev.pkl'\n",
    "\n",
    "if os.path.exists(file_path1) and os.path.exists(file_path2) and os.path.exists(file_path3):\n",
    "    print(\"All files exist. Skipping operation.\")\n",
    "else:\n",
    "    RelationEncoding(file_path1, dataLoaderTrain, model, \"GATv2_noAttn\")\n",
    "    RelationEncoding(file_path2, dataLoaderTest, model, \"GATv2_noAttn\")\n",
    "    RelationEncoding(file_path3, dataLoaderDev, model, \"GATv2_noAttn\")"
   ]
  },
  {
   "cell_type": "markdown",
   "id": "f1cb8298",
   "metadata": {},
   "source": [
    "<h5>GATv2 w/ edge_feats"
   ]
  },
  {
   "cell_type": "code",
   "execution_count": null,
   "id": "ea9a6dcd",
   "metadata": {
    "code_folding": [
     0
    ]
   },
   "outputs": [],
   "source": [
    "# x = torch.randn((14, num_features))  # Example feature matrix with 14 nodes\n",
    "# edge_index = torch.randint(0, 14, (2, 20))  # Example edge index with 20 edges\n",
    "# edge_attr = torch.randn((20, num_relations))  # Example edge features\n",
    "# print(x.shape)\n",
    "# print(edge_index.shape)\n",
    "# print(edge_attr.shape)"
   ]
  },
  {
   "cell_type": "code",
   "execution_count": null,
   "id": "245ee655",
   "metadata": {
    "code_folding": [
     14
    ]
   },
   "outputs": [],
   "source": [
    "num_features = 768\n",
    "num_classes = 7\n",
    "num_relations = 8\n",
    "max_seq_len = 30\n",
    "hidden_size = 128\n",
    "num_heads = 8\n",
    "dropout = 0.5\n",
    "no_cuda = False\n",
    "\n",
    "model = GraphNetwork_GATv2_EdgeFeat(num_features, num_relations, hidden_size, num_heads, dropout)\n",
    "file_path1 = 'embed/' + dataset_path + '/h_prime_BERT_GATv2_edgeAttr_train.pkl'\n",
    "file_path2 = 'embed/' + dataset_path + '/h_prime_BERT_GATv2_edgeAttr_test.pkl'\n",
    "file_path3 = 'embed/' + dataset_path + '/h_prime_BERT_GATv2_edgeAttr_dev.pkl'\n",
    "\n",
    "if os.path.exists(file_path1) and os.path.exists(file_path2) and os.path.exists(file_path3):\n",
    "    print(\"All files exist. Skipping operation.\")\n",
    "else:\n",
    "    RelationEncoding(file_path1, dataLoaderTrain, model, \"GATv2\")\n",
    "    RelationEncoding(file_path2, dataLoaderTest, model, \"GATv2\")\n",
    "    RelationEncoding(file_path3, dataLoaderDev, model, \"GATv2\")"
   ]
  },
  {
   "cell_type": "markdown",
   "id": "609069ea",
   "metadata": {},
   "source": [
    "<h5> RGAT"
   ]
  },
  {
   "cell_type": "code",
   "execution_count": null,
   "id": "db77a2c4",
   "metadata": {
    "code_folding": [
     0
    ]
   },
   "outputs": [],
   "source": [
    "# # Dummy inputs for testing\n",
    "# x = torch.randn((14, num_features))  # Example feature matrix with 14 nodes\n",
    "# edge_index = torch.randint(0, 14, (2, 20))  # Example edge index with 20 edges\n",
    "# edge_type = torch.randint(0, num_relations, (20,))  # Example edge types\n",
    "# # edge_attr = torch.randn((20, 1))  # Example edge features\n",
    "# print(edge_type.shape)\n",
    "# print(edge_type)"
   ]
  },
  {
   "cell_type": "code",
   "execution_count": null,
   "id": "7b92fc66",
   "metadata": {},
   "outputs": [],
   "source": [
    "num_features = 768\n",
    "num_classes = 7\n",
    "num_relations = 8\n",
    "hidden_size = 64\n",
    "num_heads = 8\n",
    "dropout = 0.5\n",
    "edge_dim = 1  # Dimensionality of edge attributes\n",
    "no_cuda = False\n",
    "\n",
    "model = GraphNetwork_RGAT(num_features, num_relations, hidden_size, num_heads, dropout, edge_dim, no_cuda)\n",
    "file_path1 = 'embed/' + dataset_path + '/h_prime_BERT_RGAT_train'\n",
    "file_path2 = 'embed/' + dataset_path + '/h_prime_BERT_RGAT_test'\n",
    "file_path3 = 'embed/' + dataset_path + '/h_prime_BERT_RGAT_dev'\n",
    "\n",
    "if os.path.exists(file_path1+\".pkl\") or os.path.exists(file_path2+\".pkl\") or os.path.exists(file_path3+\".pkl\"):\n",
    "    print(\"All files exist. Skipping operation.\")\n",
    "else:\n",
    "    RelationEncoding(file_path1, dataLoaderTrain, model, \"RGAT\")\n",
    "    RelationEncoding(file_path2, dataLoaderTest, model, \"RGAT\")\n",
    "    RelationEncoding(file_path3, dataLoaderDev, model, \"RGAT\")"
   ]
  },
  {
   "cell_type": "markdown",
   "id": "bf743465",
   "metadata": {},
   "source": [
    "<b> Watch out here"
   ]
  },
  {
   "cell_type": "code",
   "execution_count": null,
   "id": "36a4c8ae",
   "metadata": {},
   "outputs": [],
   "source": [
    "def combinePartitionedData(file_paths, output_file_path):\n",
    "    combined_h_prime = []\n",
    "\n",
    "    for file_path in file_paths:\n",
    "        if os.path.isfile(file_path):\n",
    "            try:\n",
    "                with open(file_path, 'rb') as file:\n",
    "                    data = pickle.load(file)\n",
    "                    combined_h_prime.extend(data)\n",
    "\n",
    "            except (pickle.UnpicklingError, EOFError) as e:\n",
    "                print(f\"Error loading data from {file_path}: {e}\")\n",
    "            except Exception as e:\n",
    "                print(f\"An unexpected error occurred while processing {file_path}: {e}\")\n",
    "        else:\n",
    "            print(f\"File {file_path} does not exist and will be skipped.\")\n",
    "\n",
    "    try:\n",
    "        with open(output_file_path, 'wb') as file:\n",
    "            pickle.dump(combined_h_prime, file)\n",
    "    except Exception as e:\n",
    "        print(f\"Error saving combined data to {output_file_path}: {e}\")\n",
    "        return\n",
    "\n",
    "    # Delete the original files\n",
    "#     for file_path in file_paths:\n",
    "#         if os.path.isfile(file_path):\n",
    "#             try:\n",
    "#                 os.remove(file_path)\n",
    "#             except OSError as e:\n",
    "#                 print(f\"Error deleting file {file_path}: {e}\")\n",
    "\n",
    "file_paths1 = [\n",
    "    'embed/' + dataset_path + '/h_prime_BERT_RGAT_train_1.pkl',\n",
    "    'embed/' + dataset_path + '/h_prime_BERT_RGAT_train_2.pkl',\n",
    "    'embed/' + dataset_path + '/h_prime_BERT_RGAT_train_3.pkl',\n",
    "    'embed/' + dataset_path + '/h_prime_BERT_RGAT_train_4.pkl',\n",
    "    'embed/' + dataset_path + '/h_prime_BERT_RGAT_train_5.pkl'\n",
    "]\n",
    "\n",
    "file_paths2 = [\n",
    "    'embed/' + dataset_path + '/h_prime_BERT_RGAT_test_1.pkl',\n",
    "    'embed/' + dataset_path + '/h_prime_BERT_RGAT_test_2.pkl'\n",
    "]\n",
    "\n",
    "file_paths3 = [\n",
    "    'embed/' + dataset_path + '/h_prime_BERT_RGAT_dev_1.pkl'\n",
    "]\n",
    "\n",
    "output_file_path1 = 'embed/' + dataset_path + '/h_prime_BERT_RGAT_train.pkl'\n",
    "output_file_path2 = 'embed/' + dataset_path + '/h_prime_BERT_RGAT_test.pkl'\n",
    "output_file_path3 = 'embed/' + dataset_path + '/h_prime_BERT_RGAT_dev.pkl'\n",
    "\n",
    "combinePartitionedData(file_paths1, output_file_path1)\n",
    "combinePartitionedData(file_paths2, output_file_path2)\n",
    "combinePartitionedData(file_paths3, output_file_path3)\n",
    "\n",
    "# # Verifying the combined output\n",
    "# with open(output_file_path1, 'rb') as file:\n",
    "#     tmp1 = pickle.load(file)\n",
    "# print(len(tmp1))  # should print 2\n",
    "# print(len(tmp1[0]))  # should print the combined length of all h_prime elements\n",
    "# print(len(tmp1[1]))  # should print the combined length of all AttObject elements\n",
    "\n",
    "# with open(output_file_path2, 'rb') as file:\n",
    "#     tmp2 = pickle.load(file)\n",
    "# print(len(tmp2))  # should print 2\n",
    "# print(len(tmp2[0]))  # should print the combined length of all h_prime elements\n",
    "# print(len(tmp2[1]))  # should print the combined length of all AttObject elements\n",
    "\n",
    "# with open(output_file_path3, 'rb') as file:\n",
    "#     tmp3 = pickle.load(file)\n",
    "# print(len(tmp3))  # should print 2\n",
    "# print(len(tmp3[0]))  # should print the combined length of all h_prime elements\n",
    "# print(len(tmp3[1]))  # should print the combined length of all AttObject elements"
   ]
  },
  {
   "cell_type": "code",
   "execution_count": null,
   "id": "32b5f767",
   "metadata": {},
   "outputs": [],
   "source": [
    "with open(output_file_path1, 'rb') as file:\n",
    "    tmp1 = pickle.load(file)\n",
    "print(len(tmp1))\n",
    "\n",
    "with open(output_file_path2, 'rb') as file:\n",
    "    tmp2 = pickle.load(file)\n",
    "print(len(tmp2))\n",
    "\n",
    "with open(output_file_path3, 'rb') as file:\n",
    "    tmp3 = pickle.load(file)\n",
    "print(len(tmp3))"
   ]
  },
  {
   "cell_type": "markdown",
   "id": "e016df95",
   "metadata": {},
   "source": [
    "end of encoding train data"
   ]
  },
  {
   "cell_type": "markdown",
   "id": "2f3e5796",
   "metadata": {},
   "source": [
    "<h4> Creating graph features from Test Data"
   ]
  },
  {
   "cell_type": "code",
   "execution_count": null,
   "id": "f0634150",
   "metadata": {
    "code_folding": []
   },
   "outputs": [],
   "source": [
    "# TODO repeat the one above"
   ]
  },
  {
   "cell_type": "markdown",
   "id": "7c36c94f",
   "metadata": {},
   "source": [
    "<h3> Get GAT output from each set of data (DISCONTINUED)"
   ]
  },
  {
   "cell_type": "markdown",
   "id": "3f024704",
   "metadata": {},
   "source": [
    "<h4> Instantiating the GAT (1st implementation) for 1 sample train data"
   ]
  },
  {
   "cell_type": "code",
   "execution_count": null,
   "id": "cacafa9a",
   "metadata": {
    "code_folding": [
     0
    ]
   },
   "outputs": [],
   "source": [
    "# num_in_features = len(contextualEmbeddingsTrain[0][0])\n",
    "# num_out_features = len(contextualEmbeddingsTrain[0][0])\n",
    "# num_heads = 4\n",
    "# num_edge_types = 3\n",
    "# gat_layer = GATLayerWithEdgeType(num_in_features, num_out_features, num_heads, num_edge_types)"
   ]
  },
  {
   "cell_type": "code",
   "execution_count": null,
   "id": "98a8775c",
   "metadata": {
    "code_folding": [
     0
    ]
   },
   "outputs": [],
   "source": [
    "# i = 0  # dialogue id\n",
    "# relationalEmbedding, attentionCoef = gat_layer((contextualEmbeddingsTrain[i], edgeIndicesTrain[i]), edgeTypesTrain[i])\n",
    "# print(\"h_prime shape: \", relationalEmbedding.shape, \"attention_coef shape: \", attentionCoef.shape)\n",
    "\n",
    "# targetNodes = edgeIndicesTrain[i][1].tolist()\n",
    "\n",
    "# sample = {}\n",
    "# sampleEdgetypes = []\n",
    "\n",
    "# for target_i in sorted(set(targetNodes)):\n",
    "#     sample[target_i] = []\n",
    "\n",
    "# for targetNode, idx in zip(targetNodes, range(len(targetNodes))):\n",
    "#     sample[targetNode].append([idx, relationalEmbedding[targetNode][idx].tolist()])\n",
    "\n",
    "# listEdgeIdxTrain, inferredEdgeTypes = get_inferred_edgetypes_GAT(sample, edgeTypesTrain[i])\n",
    "# sampleEdgetypes.append(inferredEdgeTypes)"
   ]
  },
  {
   "cell_type": "code",
   "execution_count": null,
   "id": "fc9c28c3",
   "metadata": {
    "code_folding": []
   },
   "outputs": [],
   "source": [
    "file = open('data/dump/' + dataset_path + '/label_decoder.pkl', 'rb')\n",
    "label_decoder = pickle.load(file)\n",
    "file.close()\n",
    "\n",
    "label_decoder = list(label_decoder.values())\n",
    "print(label_decoder)"
   ]
  },
  {
   "cell_type": "code",
   "execution_count": null,
   "id": "5ca6003c",
   "metadata": {
    "code_folding": []
   },
   "outputs": [],
   "source": [
    "checkFile = os.path.isfile('data/dump/' + dataset_path + '/labels_train.pkl')\n",
    "\n",
    "if checkFile is False:\n",
    "    print(\"Please run the contextEncoder1 notebook to save the label file\")\n",
    "else:\n",
    "    file = open('data/dump/' + dataset_path + '/labels_train.pkl', 'rb')\n",
    "    y_train = pickle.load(file)\n",
    "    file.close()"
   ]
  },
  {
   "cell_type": "code",
   "execution_count": null,
   "id": "c02f789e",
   "metadata": {
    "code_folding": []
   },
   "outputs": [],
   "source": [
    "y_train[0:15]"
   ]
  },
  {
   "cell_type": "code",
   "execution_count": null,
   "id": "c6f3e8e1",
   "metadata": {
    "code_folding": [
     0
    ]
   },
   "outputs": [],
   "source": [
    "# checkFile = os.path.isfile(\"data/dump/labels_test.pkl\")\n",
    "\n",
    "# if checkFile is False:\n",
    "#     print(\"Please run the contextEncoder2 notebook to save the label file\")\n",
    "# else:\n",
    "#     file = open('data/dump/labels_test.pkl', 'rb')\n",
    "#     y_test = pickle.load(file)\n",
    "#     file.close()"
   ]
  },
  {
   "cell_type": "markdown",
   "id": "42223125",
   "metadata": {},
   "source": [
    "<h5>Unsupervised Visualizarion"
   ]
  },
  {
   "cell_type": "code",
   "execution_count": null,
   "id": "d1a41a39",
   "metadata": {
    "code_folding": [
     0
    ]
   },
   "outputs": [],
   "source": [
    "# # Assuming h_prime contains the node embeddings\n",
    "# utt_size = 13\n",
    "# labels = torch.tensor(y_train[:utt_size + 1])\n",
    "\n",
    "# cherrypicked_nodes = []\n",
    "# for src_idx, edge_idx in zip(range(len(list_edge_idx)), list_edge_idx):\n",
    "#     cherrypicked_nodes.append(attention_coef[src_idx, :, edge_idx].tolist())\n",
    "# cherrypicked_nodes = torch.tensor(cherrypicked_nodes)\n"
   ]
  },
  {
   "cell_type": "code",
   "execution_count": null,
   "id": "47a97231",
   "metadata": {
    "code_folding": [
     0
    ]
   },
   "outputs": [],
   "source": [
    "# h_prime_np = cherrypicked_nodes.detach().numpy()\n",
    "\n",
    "# # Perform dimensionality reduction using t-SNE\n",
    "# tsne = TSNE(n_components=3, perplexity=5, random_state=42)\n",
    "# h_prime_tsne = tsne.fit_transform(h_prime_np)\n",
    "\n",
    "# # Plot the node embeddings with different colors for each label\n",
    "# plt.figure(figsize=(10, 8))\n",
    "# for label, emotion in zip(range(len(label_decoder)), label_decoder): \n",
    "#     indices = (labels == label).nonzero().squeeze()\n",
    "#     plt.scatter(h_prime_tsne[indices, 0], h_prime_tsne[indices, 1], label=f'{emotion}')\n",
    "# plt.title('Node Embeddings Visualization (t-SNE)', color=\"white\")\n",
    "# plt.xlabel('Dimension 1', color=\"white\")\n",
    "# plt.ylabel('Dimension 2', color=\"white\")\n",
    "# plt.legend()\n",
    "# plt.show()"
   ]
  },
  {
   "cell_type": "markdown",
   "id": "c8043a6a",
   "metadata": {},
   "source": [
    "<h4> Now get new representations of all train, test, validation"
   ]
  },
  {
   "cell_type": "code",
   "execution_count": null,
   "id": "588776d9",
   "metadata": {
    "code_folding": [
     0
    ]
   },
   "outputs": [],
   "source": [
    "# # filePath = data/dump/h_prime_BERT-GAT_train.pkl\n",
    "# #            data/dump/h_prime_BERT-GAT_test.pkl\n",
    "# #            data/dump/h_prime_BERT-GAT_valid.pkl\n",
    "\n",
    "# def get_GAT_representation(filePath, contextualEmbeddings, edgeIndices, edgeTypes):\n",
    "# #     checkFile = os.path.isfile(\"data/dump/h_prime_BERT-GAT_train.pkl\") #replace it with key when deployed\n",
    "#     if key:\n",
    "#         print(\"Start of getting output of 1st GAT\")\n",
    "#         allInferredEdgetypes = []\n",
    "#         listAllEdgeIdx = []\n",
    "#         cherrypickedNodes = []\n",
    "#         for dialog, dialog_id in zip(contextualEmbeddings, range(len(contextualEmbeddings))):\n",
    "#             h_prime, attention_coef = gat_layer((dialog, edgeIndices[dialog_id]), edgeTypes[dialog_id])\n",
    "#             target_nodes = edgeIndices[dialog_id][1].tolist() # first idx represents dialogue id\n",
    "\n",
    "#             sample_edgetypes = {}\n",
    "#             for i in set(target_nodes):\n",
    "#                 sample_edgetypes[i] = []\n",
    "\n",
    "#             for target_node, edge_idx in zip(target_nodes, range(len(target_nodes))):\n",
    "#                 sample_edgetypes[target_node].append([edge_idx, h_prime[target_node][edge_idx].tolist()])\n",
    "\n",
    "#             list_edge_idx, inferred_edgetypes = get_inferred_edgetypes_GAT(sample_edgetypes,  edgeTypes[dialog_id])\n",
    "#             listAllEdgeIdx.append(list_edge_idx)\n",
    "#             allInferredEdgetypes.append(inferred_edgetypes)\n",
    "\n",
    "#             for src_idx, edge_idx in zip(range(len(list_edge_idx)), list_edge_idx):\n",
    "#                 cherrypickedNodes.append(attention_coef[src_idx, :, edge_idx].tolist())\n",
    "\n",
    "#         cherrypickedNodes = torch.tensor(cherrypickedNodes)\n",
    "#         cherrypickedNodes.shape\n",
    "#         print(\"End of getting output of 1st GAT\")\n",
    "\n",
    "#         pickle.dump([cherrypickedNodes, allInferredEdgetypes],\n",
    "#                     open(filePath, 'wb'))\n",
    "\n",
    "#     else:\n",
    "#         file = open(filePath, 'rb')\n",
    "#         cherrypickedNodes, allInferredEdgetypes = pickle.load(file)\n",
    "#         file.close()\n",
    "\n",
    "#     return cherrypickedNodes, allInferredEdgetypes"
   ]
  },
  {
   "cell_type": "code",
   "execution_count": null,
   "id": "d2ef42f2",
   "metadata": {
    "code_folding": [
     0
    ]
   },
   "outputs": [],
   "source": [
    "# # train data\n",
    "# cherrypickedNodesTrain, allInferredEdgetypesTrain = get_GAT_representation(\n",
    "#                                                     \"embed/h_prime_BERT-GAT_train.pkl\",\n",
    "#                                                     contextualEmbeddingsTrain,\n",
    "#                                                     edgeIndicesTrain,\n",
    "#                                                     edgeTypesTrain)\n",
    "# # only save the pickle data for test and validation\n",
    "# _, _ = get_GAT_representation(\"embed/h_prime_BERT-GAT_test.pkl\",\n",
    "#                         contextualEmbeddingsTest,\n",
    "#                         edgeIndicesTest,\n",
    "#                         edgeTypesTest)\n",
    "# # TODO add valid set"
   ]
  },
  {
   "cell_type": "markdown",
   "id": "7de95f55",
   "metadata": {},
   "source": [
    "<h5> Visualize Train Data"
   ]
  },
  {
   "cell_type": "code",
   "execution_count": null,
   "id": "7e56aa1c",
   "metadata": {
    "code_folding": [
     0
    ]
   },
   "outputs": [],
   "source": [
    "# labels = torch.tensor(trainLabels)\n",
    "# h_prime_np = cherrypickedNodesTrain.detach().numpy() (discontinued)"
   ]
  },
  {
   "cell_type": "code",
   "execution_count": null,
   "id": "548c237c",
   "metadata": {},
   "outputs": [],
   "source": [
    "# runTSNE = 0"
   ]
  },
  {
   "cell_type": "code",
   "execution_count": null,
   "id": "dcd5bd42",
   "metadata": {
    "code_folding": [
     0
    ]
   },
   "outputs": [],
   "source": [
    "# if runTSNE:\n",
    "#     # List of perplexity values to loop over\n",
    "#     perplexity_values = [30, 100]\n",
    "\n",
    "#     # Loop over each perplexity value\n",
    "#     for perplexity in perplexity_values:\n",
    "#         # Initialize t-SNE with the current perplexity value\n",
    "#         tsne = TSNE(n_components=2, perplexity=perplexity, random_state=42)\n",
    "\n",
    "#         # Fit and transform the data using t-SNE\n",
    "#         h_prime_tsne = tsne.fit_transform(h_prime_np)\n",
    "\n",
    "#         # Plot the node embeddings with different colors for each label\n",
    "#         plt.figure(figsize=(10, 8))\n",
    "#         for label, emotion in zip(range(len(label_decoder)), label_decoder): \n",
    "#             indices = (labels == label).nonzero().squeeze()\n",
    "#             plt.scatter(h_prime_tsne[indices, 0], h_prime_tsne[indices, 1], label=f'{emotion}')\n",
    "#         plt.title(f'Node Embeddings Visualization (t-SNE) - Perplexity {perplexity}', color=\"white\")\n",
    "#         plt.xlabel('Dimension 1', color=\"white\")\n",
    "#         plt.ylabel('Dimension 2', color=\"white\")\n",
    "#         plt.legend()\n",
    "#         plt.show()"
   ]
  },
  {
   "cell_type": "markdown",
   "id": "d5caea68",
   "metadata": {},
   "source": [
    "<h4> Analyze the edgetypes of all train nodes in the context of a dialog"
   ]
  },
  {
   "cell_type": "code",
   "execution_count": null,
   "id": "c236b455",
   "metadata": {
    "code_folding": [
     0
    ]
   },
   "outputs": [],
   "source": [
    "# # Assuming `all_inferred_edgetypes` and `y_train` are defined\n",
    "# df_eda = pd.DataFrame(\n",
    "#     {'edgetype': flatten_extend(allInferredEdgetypesTrain),\n",
    "#      'label': y_train,\n",
    "#     })"
   ]
  },
  {
   "cell_type": "code",
   "execution_count": null,
   "id": "46b7f357",
   "metadata": {
    "code_folding": [
     0
    ]
   },
   "outputs": [],
   "source": [
    "# # Assuming `df_eda` and `CrosstabResult` are defined\n",
    "# CrosstabResult = pd.crosstab(index=df_eda['edgetype'], columns=df_eda['label'])\n",
    "\n",
    "# print(\"Crosstab Result:\")\n",
    "# print(CrosstabResult)\n",
    "# print()\n",
    "\n",
    "# # Performing Chi-squared test\n",
    "# ChiSqResult = chi2_contingency(CrosstabResult)\n",
    "\n",
    "# # P-Value is the Probability of H0 being True\n",
    "# # If P-Value > 0.05 then only we Accept the assumption(H0)\n",
    "# # H0: The variables are not correlated with each other.\n",
    "\n",
    "# print('The P-Value of the Chi-Squared Test is:', ChiSqResult[1])\n",
    "\n",
    "# if ChiSqResult[1] > 0.05:\n",
    "#     print(\"Variables are not correlated with each other\")\n",
    "# else:\n",
    "#     print(\"Two variables are correlated\")"
   ]
  },
  {
   "cell_type": "markdown",
   "id": "540cb0a7",
   "metadata": {},
   "source": [
    "<h3> Get EGAT output from each set of data (train, test, validation)"
   ]
  },
  {
   "cell_type": "code",
   "execution_count": null,
   "id": "60061c79",
   "metadata": {},
   "outputs": [],
   "source": [
    "hidden_size=64\n",
    "egat = EGATConv(in_node_feats=len(contextualEmbeddingsTrain[0][0]),\n",
    "                    in_edge_feats=3,\n",
    "                    out_node_feats=hidden_size,\n",
    "                    out_edge_feats=3,\n",
    "                    num_heads=4)"
   ]
  },
  {
   "cell_type": "code",
   "execution_count": null,
   "id": "cc9167ae",
   "metadata": {},
   "outputs": [],
   "source": [
    "def get_EGAT_representations(filePath, contextualEmbeddings, edgeIndices, edgeTypes, ranges):\n",
    "    checkFile = os.path.isfile(filePath)\n",
    "#     ranges = []\n",
    "    if not checkFile:\n",
    "        inferredEdgetypes = []\n",
    "        allNodeFeats = []\n",
    "\n",
    "        for dialog_id in tqdm(range(len(edgeIndices)), desc=\"Encoding Progress\", unit=\"batch\"):\n",
    "            startIdx, endIdx = ranges[dialog_id][0], ranges[dialog_id][1]\n",
    "\n",
    "            graph = dgl.graph((edgeIndices[dialog_id][0], edgeIndices[dialog_id][1]))\n",
    "            edge_feats = get_ohe(edgeTypes[dialog_id])\n",
    "\n",
    "            egat_output = egat(graph, contextualEmbeddings[startIdx: endIdx+1], edge_feats)\n",
    "            new_node_feats, new_edge_feats = egat_output\n",
    "\n",
    "            # Compute mean edge features\n",
    "            mean_edge_feats = new_edge_feats.mean(dim=1)\n",
    "            allNodeFeats.append(new_node_feats.max(dim=1).values)\n",
    "#             allNodeFeats.append(new_node_feats.sum(dim=1))\n",
    "\n",
    "            # Prepare edge features for inference\n",
    "            target_nodes = edgeIndices[dialog_id][1].tolist()\n",
    "            sample_edgetypes = {}\n",
    "            for i in set(target_nodes):\n",
    "                sample_edgetypes[i] = []\n",
    "            for target_node, edge_idx in zip(target_nodes, range(len(target_nodes))):\n",
    "                sample_edgetypes[target_node].append([edge_idx, \n",
    "                                                      mean_edge_feats[edge_idx].tolist()])\n",
    "        pickle.dump(allNodeFeats, open(filePath, 'wb'))\n",
    "\n",
    "    else:\n",
    "        file = open(filePath, 'rb')\n",
    "        allNodeFeats = pickle.load(file)\n",
    "        file.close()\n",
    "\n",
    "    return allNodeFeats, _"
   ]
  },
  {
   "cell_type": "code",
   "execution_count": null,
   "id": "938645cf",
   "metadata": {},
   "outputs": [],
   "source": [
    "contextualEmbeddingsTrain_stacked = torch.cat(contextualEmbeddingsTrain, dim=0)\n",
    "allNodeFeatsTrain, inferredEdgetypesTrain = get_EGAT_representations(\n",
    "                                        \"embed/\" + dataset_path + \"/h_prime_BERT_EGAT_train.pkl\",\n",
    "                                        contextualEmbeddingsTrain_stacked,\n",
    "                                        edgeIndicesTrain,\n",
    "                                        edgeTypesTrain,\n",
    "                                        rangesTrain\n",
    "                                )\n",
    "\n",
    "contextualEmbeddingsTest_stacked = torch.cat(contextualEmbeddingsTest, dim=0)\n",
    "_, _ = get_EGAT_representations(\n",
    "        \"embed/\" + dataset_path + \"/h_prime_BERT_EGAT_test.pkl\",\n",
    "        contextualEmbeddingsTest_stacked,\n",
    "        edgeIndicesTest,\n",
    "        edgeTypesTest, \n",
    "        rangesTest\n",
    ")\n",
    "\n",
    "contextualEmbeddingsDev_stacked = torch.cat(contextualEmbeddingsDev, dim=0)\n",
    "_, _ = get_EGAT_representations(\n",
    "        \"embed/\" + dataset_path + \"/h_prime_BERT_EGAT_dev.pkl\",\n",
    "        contextualEmbeddingsDev_stacked,\n",
    "        edgeIndicesDev,\n",
    "        edgeTypesDev, \n",
    "        rangesDev\n",
    ")"
   ]
  },
  {
   "cell_type": "code",
   "execution_count": null,
   "id": "878a3c6e",
   "metadata": {},
   "outputs": [],
   "source": [
    "contextualEmbeddingsTrain_stacked.shape"
   ]
  },
  {
   "cell_type": "code",
   "execution_count": null,
   "id": "8e4cc671",
   "metadata": {},
   "outputs": [],
   "source": [
    "allNodeFeatsTrain[0].shape"
   ]
  },
  {
   "cell_type": "code",
   "execution_count": null,
   "id": "3c2a765a",
   "metadata": {
    "code_folding": [
     0,
     13,
     18
    ]
   },
   "outputs": [],
   "source": [
    "class FCClassifier(nn.Module):\n",
    "    def __init__(self, input_dim, hidden_dim, output_dim, dropout_rate):\n",
    "        super(FCClassifier, self).__init__()\n",
    "        self.fc1 = nn.Linear(input_dim, hidden_dim)\n",
    "        self.dropout = nn.Dropout(dropout_rate)\n",
    "        self.fc2 = nn.Linear(hidden_dim, output_dim)\n",
    "\n",
    "    def forward(self, x):\n",
    "        x = F.relu(self.fc1(x))\n",
    "        x = self.dropout(x)\n",
    "        x = self.fc2(x)\n",
    "        return x\n",
    "\n",
    "def shuffle_data(X_set, Y_set):\n",
    "    indices = np.arange(len(X_set))\n",
    "    np.random.shuffle(indices)\n",
    "    return X_set[indices], Y_set[indices]\n",
    "\n",
    "def model_train2(X_set=None, Y_set=None, X_test=None, Y_test=None, num_epochs=20, \n",
    "                 loss_difference_threshold=0.001, hidden_dims=128, dropout_rate=0.5, \n",
    "                 lr=0.0001, optimizer_class=optim.Adam, criterion_class=nn.CrossEntropyLoss, \n",
    "                 nodalAtt=None, umask=None, seq_len=None, no_cuda=True, ranges=None):\n",
    "    \n",
    "    output_dim = 7  # Number of classes\n",
    "    input_dim = X_set.shape[1] if len(X_set) > 0 else 0\n",
    "    model = FCClassifier(input_dim, hidden_dims, output_dim, dropout_rate)\n",
    "    \n",
    "    device = 'cuda' if torch.cuda.is_available() and not no_cuda else 'cpu'\n",
    "    model = model.to(device)\n",
    "    \n",
    "    criterion = criterion_class()\n",
    "    optimizer = optimizer_class(model.parameters(), lr=lr)\n",
    "    \n",
    "    loss_history = []\n",
    "    accuracy_history = []\n",
    "    previous_loss = float('inf')\n",
    "\n",
    "    epoch_num = num_epochs\n",
    "\n",
    "    for epoch in range(num_epochs):\n",
    "        total_loss = 0.0\n",
    "        correct_predictions = 0\n",
    "        total_instances = 0\n",
    "        \n",
    "        # Shuffle the dataset at the beginning of each epoch\n",
    "        X_set, Y_set = shuffle_data(X_set, Y_set)\n",
    "\n",
    "        inputs = X_set.float().to(device)\n",
    "        labels = Y_set.long().to(device)\n",
    "\n",
    "        optimizer.zero_grad()\n",
    "\n",
    "        outputs = model(inputs)\n",
    "        outputs = outputs.squeeze()\n",
    "\n",
    "        log_prob = F.log_softmax(outputs, dim=1)\n",
    "        labels = labels.squeeze()\n",
    "\n",
    "        # Ensure labels are 1D\n",
    "        if len(labels.shape) > 1:\n",
    "            labels = labels.view(-1)\n",
    "\n",
    "        loss = criterion(log_prob, labels)\n",
    "\n",
    "        # Check for NaN loss values\n",
    "        if torch.isnan(loss):\n",
    "            print(\"NaN loss encountered. Skipping this batch.\")\n",
    "            continue\n",
    "\n",
    "        # Apply gradient clipping\n",
    "        torch.nn.utils.clip_grad_norm_(model.parameters(), max_norm=1)\n",
    "        loss.backward()\n",
    "        optimizer.step()\n",
    "\n",
    "        total_loss += loss.item()\n",
    "        _, predicted = torch.max(log_prob, dim=1)\n",
    "        correct_predictions += (predicted == labels).sum().item()\n",
    "        total_instances += labels.size(0)\n",
    "\n",
    "        epoch_loss = total_loss\n",
    "        accuracy = correct_predictions / total_instances\n",
    "\n",
    "        loss_history.append(epoch_loss)\n",
    "        accuracy_history.append(accuracy)\n",
    "\n",
    "        print(f'Epoch {epoch+1}/{num_epochs}, Loss: {epoch_loss:.4f}, Accuracy: {accuracy:.4f}')\n",
    "\n",
    "        if epoch > 0:\n",
    "            loss_diff = abs(epoch_loss - previous_loss)\n",
    "            if loss_diff < loss_difference_threshold:\n",
    "                print(f\"Training stopped early at epoch {epoch+1}.\")\n",
    "                print(f\"Loss difference ({loss_diff}) is below the threshold ({loss_difference_threshold}).\")\n",
    "                epoch_num = epoch + 1\n",
    "                break\n",
    "        \n",
    "        previous_loss = epoch_loss\n",
    "\n",
    "    # Test the model\n",
    "    model.eval()\n",
    "    all_predictions = []\n",
    "    all_labels = []\n",
    "\n",
    "    with torch.no_grad():\n",
    "        inputs = X_test\n",
    "        labels = Y_test\n",
    "\n",
    "        outputs = model(inputs)\n",
    "        outputs = outputs.squeeze()\n",
    "        labels = labels.squeeze()\n",
    "\n",
    "        log_prob = F.log_softmax(outputs, dim=1)\n",
    "        _, predicted = torch.max(log_prob, dim=1)\n",
    "\n",
    "\n",
    "    # Generate the classification report\n",
    "    report = classification_report(labels.cpu(),  predicted.cpu(), zero_division=0)\n",
    "    print(report)\n",
    "    \n",
    "    return model, epoch_num, loss_history, accuracy_history, report"
   ]
  },
  {
   "cell_type": "code",
   "execution_count": null,
   "id": "f7271105",
   "metadata": {},
   "outputs": [],
   "source": []
  },
  {
   "cell_type": "code",
   "execution_count": null,
   "id": "6e7269b3",
   "metadata": {},
   "outputs": [],
   "source": [
    "# i = 1\n",
    "# pair = rangesTrain[i]\n",
    "# X_set = torch.tensor(allNodeFeatsTrain[i]).clone()\n",
    "# y_set = y_train[pair[0]: pair[1]+1]"
   ]
  },
  {
   "cell_type": "code",
   "execution_count": null,
   "id": "a7c04633",
   "metadata": {},
   "outputs": [],
   "source": [
    "# model, epoch_num, loss_history, accuracy_history, report = model_train2(\n",
    "#     X_set=X_set, Y_set=Y_set, X_test=X_set, Y_test=Y_set, num_epochs=20, \n",
    "#     loss_difference_threshold=0.001, hidden_dims=128, dropout_rate=0.5, lr=0.0001, \n",
    "#     optimizer_class=optim.Adam, criterion_class=nn.CrossEntropyLoss, no_cuda=True\n",
    "# )"
   ]
  },
  {
   "cell_type": "code",
   "execution_count": null,
   "id": "4e2d8211",
   "metadata": {},
   "outputs": [],
   "source": []
  },
  {
   "cell_type": "code",
   "execution_count": null,
   "id": "019b1419",
   "metadata": {},
   "outputs": [],
   "source": []
  },
  {
   "cell_type": "code",
   "execution_count": null,
   "id": "0d10c956",
   "metadata": {},
   "outputs": [],
   "source": []
  },
  {
   "cell_type": "markdown",
   "id": "6d91fae7",
   "metadata": {},
   "source": [
    "if not inferredEdgetypesTrain:\n",
    "    df_eda2 = pd.DataFrame(\n",
    "        {'edgetype': flatten_extend(inferredEdgetypesTrain),\n",
    "         'label': trainLabels,\n",
    "        })\n",
    "    # Create a DataFrame from your data (df_eda2)\n",
    "    # Assuming df_eda2 is already defined\n",
    "\n",
    "    # Crosstabulation\n",
    "    CrosstabResult2 = pd.crosstab(index=df_eda2['edgetype'], columns=df_eda2['label'])\n",
    "    print(\"Crosstab Result:\\n\", CrosstabResult2)\n",
    "\n",
    "    # Performing Chi-squared test\n",
    "    ChiSqResult2 = chi2_contingency(CrosstabResult2)\n",
    "\n",
    "    # Print the p-value of the Chi-squared test\n",
    "    print('The P-Value of the ChiSq Test is:', ChiSqResult2[1])\n",
    "\n",
    "    # Interpret the p-value\n",
    "    if ChiSqResult2[1] > 0.05:\n",
    "        print(\"Variables are not correlated with each other\")\n",
    "    else:\n",
    "        print(\"Two variables are correlated\")\n"
   ]
  },
  {
   "cell_type": "markdown",
   "id": "0213c68a",
   "metadata": {},
   "source": [
    "Testing on 1 dialog data before scaling up"
   ]
  },
  {
   "cell_type": "code",
   "execution_count": null,
   "id": "84641d47",
   "metadata": {
    "code_folding": [
     0
    ]
   },
   "outputs": [],
   "source": [
    "# dialog_id = 0\n",
    "\n",
    "# # Create a DGL graph\n",
    "# graph = dgl.graph((edgeIndicesTrain[dialog_id][0], edgeIndicesTrain[dialog_id][1]))\n",
    "\n",
    "# # Obtain one-hot encoded edge features\n",
    "# edge_feats = get_ohe(edgeTypesTrain[dialog_id])\n",
    "\n",
    "# # Pass the graph, node representations, and edge features through the EGAT model\n",
    "# contextualEmbeddingsTrain_stacked = torch.cat(contextualEmbeddingsTrain, dim=0)\n",
    "# newNodeFeats, newEdgeFeats = egat(graph, contextualEmbeddingsTrain_stacked[0:14], edge_feats)\n",
    "\n",
    "# # Print the shapes of the new node and edge features\n",
    "# print(\"New Node Features Shape:\", newNodeFeats.shape)\n",
    "# print(\"New Edge Features Shape:\", newEdgeFeats.shape)\n",
    "\n",
    "# # Calculate the mean of node features along the second dimension (number of nodes)\n",
    "# h_prime_mean = newNodeFeats.mean(dim=1)\n",
    "\n",
    "# # Assuming you want to select only a subset of labels for visualization\n",
    "# utt_size = 13\n",
    "# labels = torch.tensor(trainLabels[:utt_size+1])"
   ]
  },
  {
   "cell_type": "code",
   "execution_count": null,
   "id": "0bbcf4d9",
   "metadata": {
    "code_folding": [
     0
    ]
   },
   "outputs": [],
   "source": [
    "# # Convert tensor to numpy array\n",
    "# h_prime_np = h_prime_mean.detach().numpy()\n",
    "# # Perform dimensionality reduction using t-SNE\n",
    "# tsne = TSNE(n_components=2, perplexity=5, random_state=42)\n",
    "# h_prime_tsne = tsne.fit_transform(h_prime_np)\n",
    "\n",
    "# # Plot the node embeddings with different colors for each label\n",
    "# plt.figure(figsize=(10, 8))\n",
    "# for label, emotion Ain zip(range(len(label_decoder)), label_decoder): \n",
    "#     indices = (labels == label).nonzero().squeeze()\n",
    "#     plt.scatter(h_prime_tsne[indices, 0], h_prime_tsne[indices, 1], label=f'{emotion}')\n",
    "# plt.title('Node Embeddings Visualization (t-SNE)', color=\"white\")\n",
    "# plt.xlabel('Dimension 1', color=\"white\")\n",
    "# plt.ylabel('Dimension 2', color=\"white\")\n",
    "# plt.legend()\n",
    "# plt.show()\n"
   ]
  },
  {
   "cell_type": "code",
   "execution_count": null,
   "id": "9e75975a",
   "metadata": {},
   "outputs": [],
   "source": [
    "runTSNE = 0"
   ]
  },
  {
   "cell_type": "code",
   "execution_count": null,
   "id": "851a250c",
   "metadata": {
    "code_folding": [
     0
    ]
   },
   "outputs": [],
   "source": [
    "if runTSNE:\n",
    "    # Convert tensor to numpy array\n",
    "    h_prime_np = allNodeFeatsTrain.detach().numpy()\n",
    "    labels = torch.tensor(trainLabels)\n",
    "    \n",
    "    # List of perplexity values to loop over\n",
    "    perplexity_values = [30, 100]\n",
    "\n",
    "    # Loop over each perplexity value\n",
    "    for perplexity in perplexity_values:\n",
    "        # Initialize t-SNE with the current perplexity value\n",
    "        tsne = TSNE(n_components=2, perplexity=perplexity, random_state=42)\n",
    "\n",
    "        # Fit and transform the data using t-SNE\n",
    "        h_prime_tsne = tsne.fit_transform(h_prime_np)\n",
    "        print(h_prime_tsne.shape)\n",
    "        \n",
    "        # Plot the node embeddings with different colors for each label\n",
    "        plt.figure(figsize=(10, 8))\n",
    "        for label, emotion in zip(range(len(label_decoder)), label_decoder): \n",
    "            indices = (labels == label).nonzero().squeeze()\n",
    "            plt.scatter(h_prime_tsne[indices, 0], h_prime_tsne[indices, 1], label=f'{emotion}')\n",
    "        plt.title(f'Node Embeddings Visualization (t-SNE) - Perplexity {perplexity}', color=\"white\")\n",
    "        plt.xlabel('Dimension 1', color=\"white\")\n",
    "        plt.ylabel('Dimension 2', color=\"white\")\n",
    "        plt.legend()\n",
    "        plt.show()\n"
   ]
  }
 ],
 "metadata": {
  "kernelspec": {
   "display_name": "Python 3 (ipykernel)",
   "language": "python",
   "name": "python3"
  },
  "language_info": {
   "codemirror_mode": {
    "name": "ipython",
    "version": 3
   },
   "file_extension": ".py",
   "mimetype": "text/x-python",
   "name": "python",
   "nbconvert_exporter": "python",
   "pygments_lexer": "ipython3",
   "version": "3.10.4"
  },
  "toc": {
   "base_numbering": 1,
   "nav_menu": {},
   "number_sections": true,
   "sideBar": true,
   "skip_h1_title": false,
   "title_cell": "Table of Contents",
   "title_sidebar": "Contents",
   "toc_cell": false,
   "toc_position": {},
   "toc_section_display": true,
   "toc_window_display": false
  }
 },
 "nbformat": 4,
 "nbformat_minor": 5
}
