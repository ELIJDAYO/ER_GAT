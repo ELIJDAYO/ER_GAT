{
 "cells": [
  {
   "cell_type": "markdown",
   "id": "35a857cc",
   "metadata": {},
   "source": [
    "\"FC layers referenced from https://towardsdatascience.com/math-neural-network-from-scratch-in-python-d6da9f29ce65\"\n"
   ]
  },
  {
   "cell_type": "code",
   "execution_count": 1,
   "id": "176f72e4",
   "metadata": {},
   "outputs": [],
   "source": [
    "import torch, time, os\n",
    "import numpy as np\n",
    "import pickle\n",
    "import numpy as np\n",
    "import torch.nn as nn\n",
    "import torch.nn.functional as F\n",
    "from torch.utils.data import DataLoader, TensorDataset, Dataset\n",
    "import torch.optim as optim\n",
    "from sklearn.metrics import precision_score, recall_score, f1_score, precision_recall_fscore_support\n",
    "import matplotlib.pyplot as plt\n",
    "from sklearn.metrics.pairwise import cosine_similarity\n",
    "from sklearn.datasets import make_classification\n",
    "from sklearn.model_selection import train_test_split\n",
    "from sklearn.tree import DecisionTreeClassifier\n",
    "from sklearn.metrics import accuracy_score\n",
    "from sklearn.feature_selection import SelectKBest, f_classif, chi2\n",
    "from sklearn.decomposition import PCA\n",
    "from sklearn.preprocessing import MinMaxScaler\n",
    "import plotly.graph_objs as go\n",
    "from sklearn.manifold import TSNE\n",
    "import plotly.io as pio\n",
    "from sklearn.utils import class_weight\n",
    "import tqdm as notebook_tqdm\n",
    "from tqdm import tqdm\n",
    "from sklearn.model_selection import train_test_split\n",
    "from sklearn.metrics import classification_report\n"
   ]
  },
  {
   "cell_type": "code",
   "execution_count": 2,
   "id": "4cebd6a3",
   "metadata": {},
   "outputs": [],
   "source": [
    "# !pip install ipywidgets"
   ]
  },
  {
   "cell_type": "markdown",
   "id": "4a1470c3",
   "metadata": {},
   "source": [
    "<h3> Declare functions"
   ]
  },
  {
   "cell_type": "code",
   "execution_count": 3,
   "id": "3a68406d",
   "metadata": {},
   "outputs": [],
   "source": [
    "class MyNetwork(nn.Module):\n",
    "    def __init__(self, input_dim, hidden_dims, output_dim, dropout_rate):\n",
    "        super(MyNetwork, self).__init__()\n",
    "        self.fc1 = nn.Linear(input_dim, hidden_dims[0])\n",
    "        self.activation1 = nn.ReLU()\n",
    "        self.fc2 = nn.Linear(hidden_dims[0], hidden_dims[1])\n",
    "        self.activation2 = nn.ReLU()\n",
    "        self.dropout = nn.Dropout(dropout_rate)\n",
    "        self.fc3 = nn.Linear(hidden_dims[1], output_dim)\n",
    "\n",
    "    def forward(self, x):\n",
    "        x = self.fc1(x)\n",
    "        x = self.activation1(x)\n",
    "        x = self.fc2(x)\n",
    "        x = self.activation2(x)\n",
    "        x = self.dropout(x)\n",
    "        x = self.fc3(x)\n",
    "        return x"
   ]
  },
  {
   "cell_type": "code",
   "execution_count": 4,
   "id": "6a4fb045",
   "metadata": {
    "code_folding": [
     0,
     9,
     18,
     21
    ]
   },
   "outputs": [],
   "source": [
    "class FCLayer(nn.Module):\n",
    "    def __init__(self, input_dim, output_dim):\n",
    "        super(FCLayer, self).__init__()\n",
    "        self.fc = nn.Linear(input_dim, output_dim)\n",
    "\n",
    "    def forward(self, x):\n",
    "        x = self.fc(x)\n",
    "        return x\n",
    "\n",
    "class ActivationLayer(nn.Module):\n",
    "    def __init__(self, activation_fn):\n",
    "        super(ActivationLayer, self).__init__()\n",
    "        self.activation_fn = activation_fn\n",
    "\n",
    "    def forward(self, x):\n",
    "        x = self.activation_fn(x)\n",
    "        return x\n",
    "\n",
    "def tanh(x):\n",
    "    return torch.tanh(x)\n",
    "\n",
    "def sigmoid(x):\n",
    "    return torch.sigmoid(x)\n",
    "# loss function and its derivative\n",
    "def mse(y_true, y_pred):\n",
    "    return np.mean(np.power(y_true - y_pred, 2))\n",
    "\n",
    "def mse_prime(y_true, y_pred):\n",
    "    return 2 * (y_pred - y_true) / y_true.size\n"
   ]
  },
  {
   "cell_type": "code",
   "execution_count": 48,
   "id": "246bf76e",
   "metadata": {},
   "outputs": [],
   "source": [
    "def oversample_data(X_train, Y_train, num_classes):\n",
    "    # Determine the class with the maximum number of instances\n",
    "    max_class_count = np.max(np.bincount(Y_train))\n",
    "    # Generate indices for oversampling each class\n",
    "    indices_list = [np.where(Y_train == i)[0] for i in range(num_classes)]\n",
    "    # Oversample minority classes to match the count of the majority class\n",
    "    for i, indices in enumerate(indices_list):\n",
    "        if len(indices) < max_class_count:\n",
    "            oversampled_indices = np.random.choice(indices, size=max_class_count - len(indices), replace=True)\n",
    "            # Concatenate only the oversampled instances to the original data\n",
    "            X_oversampled = X_train[oversampled_indices]\n",
    "            Y_oversampled = Y_train[oversampled_indices]\n",
    "            X_train = np.concatenate((X_train, X_oversampled), axis=0)\n",
    "            Y_train = np.concatenate((Y_train, Y_oversampled), axis=0)\n",
    "    return torch.tensor(X_train), torch.tensor(Y_train)"
   ]
  },
  {
   "cell_type": "markdown",
   "id": "a7503aae",
   "metadata": {},
   "source": [
    "<h4> Extract train labels and label encoder"
   ]
  },
  {
   "cell_type": "code",
   "execution_count": 6,
   "id": "72c216ce",
   "metadata": {},
   "outputs": [],
   "source": [
    "file_path = \"data/dump/labels_train.pkl\"\n",
    "with open(file_path, 'rb') as file:\n",
    "    y_train = pickle.load(file)\n",
    "y_train = torch.tensor(y_train)\n",
    "    \n",
    "file_path = 'data/dump/label_decoder.pkl'\n",
    "with open(file_path, 'rb') as file:\n",
    "    label_decoder = pickle.load(file)"
   ]
  },
  {
   "cell_type": "markdown",
   "id": "ed7136ff",
   "metadata": {},
   "source": [
    "<h4> Extract test labels"
   ]
  },
  {
   "cell_type": "code",
   "execution_count": 7,
   "id": "117dcaca",
   "metadata": {},
   "outputs": [],
   "source": [
    "file_path = \"data/dump/labels_test.pkl\"\n",
    "with open(file_path, 'rb') as file:\n",
    "    file = open('data/dump/labels_test.pkl', 'rb')\n",
    "    y_test = pickle.load(file)\n",
    "y_test = torch.tensor(y_test)"
   ]
  },
  {
   "cell_type": "markdown",
   "id": "40f3e716",
   "metadata": {},
   "source": [
    "<h4> Getting BERT and GAT outputs for train"
   ]
  },
  {
   "cell_type": "code",
   "execution_count": 8,
   "id": "7e3426c4",
   "metadata": {},
   "outputs": [],
   "source": [
    "file_path = 'embed/u_prime_BERT_train.pkl'\n",
    "with open(file_path, 'rb') as file:\n",
    "    u_primes = pickle.load(file)\n",
    "\n",
    "    concatenated_tensors = []\n",
    "    for dialogue_tensor in u_primes:\n",
    "        concatenated_tensors.extend(dialogue_tensor)\n",
    "\n",
    "    tensorUtterancesTrain = torch.stack(concatenated_tensors)\n",
    "\n",
    "file_path = \"embed/h_prime_BERT-GAT_train.pkl\"\n",
    "with open(file_path, 'rb') as file:\n",
    "    cherryPickedNodesTrain, _ = pickle.load(file)\n",
    "\n",
    "file_path = \"embed/h_prime_BERT-EGAT_train.pkl\"\n",
    "with open(file_path, 'rb') as file:\n",
    "    allNodeFeatsTrain, _ = pickle.load(file)"
   ]
  },
  {
   "cell_type": "markdown",
   "id": "e1e9766f",
   "metadata": {},
   "source": [
    "<h4> Getting BERT and GAT outputs for test set"
   ]
  },
  {
   "cell_type": "code",
   "execution_count": 9,
   "id": "4ba9f3f1",
   "metadata": {},
   "outputs": [],
   "source": [
    "file_path = 'embed/u_prime_BERT_test.pkl'\n",
    "with open(file_path, 'rb') as file:\n",
    "    u_primes = pickle.load(file)\n",
    "\n",
    "    concatenated_tensors = []\n",
    "    for dialogue_tensor in u_primes:\n",
    "        concatenated_tensors.extend(dialogue_tensor)\n",
    "\n",
    "    tensorUtterancesTest = torch.stack(concatenated_tensors)\n",
    "\n",
    "file_path = \"embed/h_prime_BERT-GAT_test.pkl\"\n",
    "with open(file_path, 'rb') as file:\n",
    "    cherryPickedNodesTest, _ = pickle.load(file)\n",
    "\n",
    "file_path = \"embed/h_prime_BERT-EGAT_test.pkl\"\n",
    "with open(file_path, 'rb') as file:\n",
    "    allNodeFeatsTest, _ = pickle.load(file)\n",
    "    \n",
    "_ = None"
   ]
  },
  {
   "cell_type": "markdown",
   "id": "8cba837d",
   "metadata": {},
   "source": [
    "<h4> Getting BERT and GAT outputs for the valid set"
   ]
  },
  {
   "cell_type": "code",
   "execution_count": 10,
   "id": "4a2f89a3",
   "metadata": {},
   "outputs": [],
   "source": [
    "# TODO do the same code as above once you have u' and h' of valid set"
   ]
  },
  {
   "cell_type": "markdown",
   "id": "875e7687",
   "metadata": {},
   "source": [
    "EDA"
   ]
  },
  {
   "cell_type": "code",
   "execution_count": 11,
   "id": "1e174164",
   "metadata": {
    "code_folding": [
     0
    ]
   },
   "outputs": [],
   "source": [
    "# # Checking the structure of graph\n",
    "# for n in range(10):\n",
    "#     tensor_data_np = tensor_utterances[n].detach().numpy()\n",
    "\n",
    "#     # Plot the data\n",
    "#     plt.figure(figsize=(10, 5))\n",
    "#     plt.plot(range(len(tensor_data_np)), tensor_data_np)\n",
    "#     plt.title('Line Graph of Tensor Data')\n",
    "#     plt.xlabel('Index')\n",
    "#     plt.ylabel('Value')\n",
    "#     plt.show()\n"
   ]
  },
  {
   "cell_type": "code",
   "execution_count": 12,
   "id": "479a3b1f",
   "metadata": {
    "code_folding": [
     0
    ]
   },
   "outputs": [],
   "source": [
    "# # Normalize the h' (1st GAT)\n",
    "# data = cherry_picked_nodes.detach().numpy()\n",
    "# data_normalized = data / np.linalg.norm(data, axis=1, keepdims=True)\n",
    "\n",
    "# # Compute pairwise cosine similarities\n",
    "# similarities = cosine_similarity(data_normalized)\n",
    "\n",
    "# # Print or analyze the similarity matrix\n",
    "# # print(similarities)\n",
    "# plt.hist(similarities.flatten(), bins=50, density=True)\n",
    "# plt.title('Distribution of Cosine Similarities')\n",
    "# plt.xlabel('Cosine Similarity')\n",
    "# plt.ylabel('Frequency')\n",
    "# plt.show()\n"
   ]
  },
  {
   "cell_type": "code",
   "execution_count": 13,
   "id": "6a070ce4",
   "metadata": {
    "code_folding": [
     0
    ]
   },
   "outputs": [],
   "source": [
    "# # Normalize the h' (2nd GAT)\n",
    "# data = all_node_feats.detach().numpy()\n",
    "# data_normalized = data / np.linalg.norm(data, axis=1, keepdims=True)\n",
    "\n",
    "# # Compute pairwise cosine similarities\n",
    "# similarities = cosine_similarity(data_normalized)\n",
    "\n",
    "# # Print or analyze the similarity matrix\n",
    "# # print(similarities)\n",
    "# plt.hist(similarities.flatten(), bins=50, density=True)\n",
    "# plt.title('Distribution of Cosine Similarities')\n",
    "# plt.xlabel('Cosine Similarity')\n",
    "# plt.ylabel('Frequency')\n",
    "# plt.show()\n"
   ]
  },
  {
   "cell_type": "code",
   "execution_count": 14,
   "id": "a43fa315",
   "metadata": {
    "code_folding": [
     0
    ]
   },
   "outputs": [],
   "source": [
    "# # Normalize the u' or updated_representations\n",
    "# data = tensor_utterances.detach().numpy()\n",
    "# data_normalized = data / np.linalg.norm(data, axis=1, keepdims=True)\n",
    "\n",
    "# # Compute pairwise cosine similarities\n",
    "# similarities = cosine_similarity(data_normalized)\n",
    "\n",
    "# plt.hist(similarities.flatten(), bins=50, density=True)\n",
    "# plt.title('Distribution of Cosine Similarities')\n",
    "# plt.xlabel('Cosine Similarity')\n",
    "# plt.ylabel('Frequency')\n",
    "# plt.show()\n"
   ]
  },
  {
   "cell_type": "markdown",
   "id": "40320052",
   "metadata": {},
   "source": [
    "<h3> Feature Selection"
   ]
  },
  {
   "cell_type": "code",
   "execution_count": 15,
   "id": "c909e8b3",
   "metadata": {},
   "outputs": [],
   "source": [
    "# X_train = tensor_utterances\n",
    "# Y_train = y_train"
   ]
  },
  {
   "cell_type": "markdown",
   "id": "510f143f",
   "metadata": {},
   "source": [
    "Part 1"
   ]
  },
  {
   "cell_type": "code",
   "execution_count": 16,
   "id": "caf09478",
   "metadata": {
    "code_folding": [
     0
    ]
   },
   "outputs": [],
   "source": [
    "# # Define the number of features (k) to select\n",
    "# k = 100  # Adjust this value as needed\n",
    "\n",
    "# # Initialize SelectKBest with the desired score function (e.g., f_classif for classification tasks)\n",
    "# selector = SelectKBest(score_func=f_classif, k=k)\n",
    "\n",
    "# # Fit SelectKBest on the training data and target variable\n",
    "# selector.fit(X_train, Y_train)\n",
    "\n",
    "# # Get the indices of the selected features\n",
    "# selected_indices = selector.get_support(indices=True)\n",
    "\n",
    "# # Get the scores of the selected features\n",
    "# feature_scores = selector.scores_[selected_indices]\n",
    "\n",
    "# # Display the scores along with their corresponding indices\n",
    "# # for idx, score in zip(selected_indices, feature_scores):\n",
    "# #     print(f\"Feature index: {idx}, Score: {score}\")\n",
    "\n",
    "# X_train_selected = X_train[:, selected_indices]\n",
    "# print(X_train_selected.shape)"
   ]
  },
  {
   "cell_type": "markdown",
   "id": "0264084c",
   "metadata": {},
   "source": [
    "Pass u' (BERT) and h' (GAT or EGAT) into this method"
   ]
  },
  {
   "cell_type": "code",
   "execution_count": 17,
   "id": "6501b577",
   "metadata": {},
   "outputs": [],
   "source": [
    "def get_norm_features(encoded_features):\n",
    "    scaler = MinMaxScaler()\n",
    "#       \"FeatureSelected+BERT+GAT: \", concatenatedRepresentationTrain2.shape, \"\\n\",\n",
    "    features_scaled = scaler.fit_transform(encoded_features.clone().detach())\n",
    "    return torch.tensor(features_scaled)\n",
    "\n",
    "def get_selected_features(encoded_features, labels, top_n):\n",
    "    # Apply Min-Max scaling to make the data non-negative\n",
    "    scaler = MinMaxScaler()\n",
    "    features_scaled = scaler.fit_transform(encoded_features)\n",
    "\n",
    "    # Initialize SelectKBest with the desired score function (e.g., f_classif for classification tasks)\n",
    "    selector = SelectKBest(score_func=f_classif, k=100)\n",
    "    # Assuming feature is your feature matrix (12840 instances x 300 dimensions)\n",
    "    # and y_train is your target labels\n",
    "\n",
    "    # Initialize a dictionary to store the indices of top features for each class\n",
    "    top_features_by_class = {}\n",
    "    top_scores = {}\n",
    "    # Calculate the relevance of each feature to each class using chi-squared test\n",
    "    for label in range(7):  # Assuming you have 7 classes\n",
    "        # Create a binary mask indicating instances belonging to the current class\n",
    "        mask = (labels == label)\n",
    "\n",
    "        # SelectKBest with chi2 as the scoring function\n",
    "        selector = SelectKBest(score_func=chi2, k=top_n)  # Select top 20 features\n",
    "        selector.fit(features_scaled, mask)  # Fit SelectKBest to the data\n",
    "        # Get the indices of the top 20 features\n",
    "        top_features_indices = np.argsort(selector.scores_)[-top_n:]\n",
    "        scores = selector.scores_[top_features_indices]\n",
    "        # Store the indices in the dictionary\n",
    "        top_features_by_class[label] = top_features_indices\n",
    "        top_scores[label] = scores\n",
    "\n",
    "    # Print the top features for each class\n",
    "    # for label, indices in top_features_by_class.items():\n",
    "    #     print(f\"Label {label_decoder[label]}: idx {', '.join(map(str, indices))}\")\n",
    "    #     print(top_scores[label])\n",
    "\n",
    "    concatenated_features_set = set()\n",
    "    for label, indices in top_features_by_class.items():\n",
    "        concatenated_features_set.update(indices)\n",
    "\n",
    "    concatenated_features_indices = list(concatenated_features_set)\n",
    "\n",
    "    concatenated_features_indices = np.array(concatenated_features_indices)\n",
    "\n",
    "    # Select the desired features\n",
    "    selected_features = encoded_features[:, concatenated_features_indices]\n",
    "#     print(selected_features.shape)\n",
    "    return selected_features, concatenated_features_indices"
   ]
  },
  {
   "cell_type": "code",
   "execution_count": null,
   "id": "306feca5",
   "metadata": {},
   "outputs": [],
   "source": []
  },
  {
   "cell_type": "markdown",
   "id": "ac1af030",
   "metadata": {},
   "source": [
    "Selected h'"
   ]
  },
  {
   "cell_type": "code",
   "execution_count": 18,
   "id": "74744ee3",
   "metadata": {
    "code_folding": []
   },
   "outputs": [],
   "source": [
    "# X_train = all_node_feats"
   ]
  },
  {
   "cell_type": "code",
   "execution_count": 19,
   "id": "13cad676",
   "metadata": {
    "code_folding": [
     0
    ]
   },
   "outputs": [],
   "source": [
    "# # Apply Min-Max scaling to make the data non-negative\n",
    "# scaler = MinMaxScaler()\n",
    "# X_train_scaled = scaler.fit_transform(X_train)\n",
    "\n",
    "# # Initialize SelectKBest with the desired score function (e.g., f_classif for classification tasks)\n",
    "# selector = SelectKBest(score_func=f_classif, k=100)\n",
    "# # Assuming X_train is your feature matrix (12840 instances x 300 dimensions)\n",
    "# # and y_train is your target labels\n",
    "\n",
    "# # Initialize a dictionary to store the indices of top features for each class\n",
    "# top_features_by_class = {}\n",
    "# top_scores = {}\n",
    "# # Calculate the relevance of each feature to each class using chi-squared test\n",
    "# for label in range(7):  # Assuming you have 7 classes\n",
    "#     # Create a binary mask indicating instances belonging to the current class\n",
    "#     mask = (Y_train == label)\n",
    "\n",
    "#     # SelectKBest with chi2 as the scoring function\n",
    "#     selector = SelectKBest(score_func=chi2, k=20)  # Select top 20 features\n",
    "#     selector.fit(X_train_scaled, mask)  # Fit SelectKBest to the data\n",
    "#     # Get the indices of the top 20 features\n",
    "#     top_features_indices = np.argsort(selector.scores_)[-20:]\n",
    "#     scores = selector.scores_[top_features_indices]\n",
    "#     # Store the indices in the dictionary\n",
    "#     top_features_by_class[label] = top_features_indices\n",
    "#     top_scores[label] = scores\n",
    "    \n",
    "# # Print the top features for each class\n",
    "# for label, indices in top_features_by_class.items():\n",
    "#     print(f\"Label {label_decoder[label]}: idx {', '.join(map(str, indices))}\")\n",
    "#     print(top_scores[label])"
   ]
  },
  {
   "cell_type": "code",
   "execution_count": 20,
   "id": "ca3e54f4",
   "metadata": {},
   "outputs": [],
   "source": [
    "# selected_features1[0]"
   ]
  },
  {
   "cell_type": "code",
   "execution_count": 21,
   "id": "bc72c402",
   "metadata": {},
   "outputs": [],
   "source": [
    "# selected_features2[0]"
   ]
  },
  {
   "cell_type": "code",
   "execution_count": 22,
   "id": "46d79a94",
   "metadata": {
    "code_folding": [
     0
    ]
   },
   "outputs": [],
   "source": [
    "# pca = PCA(n_components=2)\n",
    "# pca_result = pca.fit_transform(selected_features.detach().numpy())\n",
    "\n",
    "# # Plot the PCA result with color-coded labels\n",
    "# plt.figure(figsize=(8, 6))\n",
    "# for label in np.unique(Y_train):\n",
    "#     indices = Y_train == label\n",
    "#     plt.scatter(pca_result[indices, 0], pca_result[indices, 1], label=f'{label_decoder[label]}', alpha=0.5)\n",
    "#     plt.title('PCA Visualization of Selected Utterance Embeddings (Train) with Color-Coded Labels')\n",
    "#     plt.xlabel('Principal Component 1')\n",
    "#     plt.ylabel('Principal Component 2')\n",
    "#     plt.legend()\n",
    "#     plt.grid(True)\n",
    "#     plt.show()"
   ]
  },
  {
   "cell_type": "markdown",
   "id": "9891e235",
   "metadata": {},
   "source": [
    "3d plottly"
   ]
  },
  {
   "cell_type": "code",
   "execution_count": 23,
   "id": "efccc17d",
   "metadata": {
    "code_folding": [
     0
    ]
   },
   "outputs": [],
   "source": [
    "# X_train = selected_features\n",
    "# X_train = X_train / np.linalg.norm(X_train, axis=1, keepdims=True)\n",
    "# # Perform T-SNE dimensionality reduction\n",
    "# tsne = TSNE(n_components=3, random_state=42)\n",
    "# X_tsne = tsne.fit_transform(X_train)\n",
    "\n",
    "# # Create a Plotly scatter plot\n",
    "# fig = go.Figure(data=[go.Scatter3d(\n",
    "#     x=X_tsne[:, 0],\n",
    "#     y=X_tsne[:, 1],\n",
    "#     z=X_tsne[:, 2],\n",
    "#     mode='markers',\n",
    "#     marker=dict(\n",
    "#         size=3,\n",
    "#         color=Y_train,  # Assuming Y_train contains labels for coloring\n",
    "#         colorscale='Viridis',  # You can choose a different colorscale\n",
    "#         opacity=0.8\n",
    "#     )\n",
    "# )])\n",
    "\n",
    "# # Update layout\n",
    "# fig.update_layout(title='3D T-SNE Plot', autosize=False,\n",
    "#                   width=800, height=800)\n",
    "\n",
    "# # Show the plot\n",
    "# fig.show()"
   ]
  },
  {
   "cell_type": "code",
   "execution_count": 24,
   "id": "ca73f7e2",
   "metadata": {
    "code_folding": [
     0
    ]
   },
   "outputs": [],
   "source": [
    "# Save the plot as an HTML file\n",
    "# pio.write_html(fig, '3d_tsne_plot.html')"
   ]
  },
  {
   "cell_type": "markdown",
   "id": "0feaf772",
   "metadata": {},
   "source": [
    "Selected features of train data"
   ]
  },
  {
   "cell_type": "code",
   "execution_count": 37,
   "id": "cd9e733c",
   "metadata": {},
   "outputs": [],
   "source": [
    "# BERT+EGAT\n",
    "selectedUPrime, BERT_trainIndices = get_selected_features(tensorUtterancesTrain, y_train, 20)\n",
    "selectedHPrime, GAT_trainIndices1 = get_selected_features(allNodeFeatsTrain, y_train, 20)\n",
    "concatenatedSelectedRepresentationTrain1 = torch.cat((selectedUPrime, selectedHPrime), dim=1)\n",
    "# BERT+GAT\n",
    "# selectedHPrime, GAT_trainIndices2 = get_selected_features(allNodeFeatsTrain, y_train, 20)\n",
    "# concatenatedRepresentationTrain2 = torch.cat((selectedUPrime, selectedHPrime), dim=1)\n",
    "# raw-BERT\n",
    "rawCtxRepresentationTrain = get_norm_features(tensorUtterancesTrain)\n",
    "# selected-BERT\n",
    "# ctxRepresentationTrain = selectedUPrime\n",
    "\n",
    "# raw-BERT+GAT \n",
    "concatenatedRepresentationTrain1 = torch.cat((get_norm_features(tensorUtterancesTrain), \n",
    "                                              get_norm_features(cherryPickedNodesTrain)), dim=1)\n",
    "# raw-BERT+EGAT\n",
    "concatenatedRepresentationTrain2 = torch.cat((get_norm_features(tensorUtterancesTrain), \n",
    "                                              get_norm_features(allNodeFeatsTrain)), dim=1)\n",
    "\n",
    "# print(\"Sizes of different combination of train data\\n\",\n",
    "#       \"FeatureSelected+BERT+EGAT: \", concatenatedRepresentationTrain1.shape, \"\\n\",\n",
    "#       \"FeatureSelected+BERT+GAT: \", concatenatedRepresentationTrain2.shape, \"\\n\",\n",
    "#       \"BERT: \", rawCtxRepresentationTrain.shape, \"\\n\",\n",
    "#       \"FeatureSelected+BERT: \", ctxRepresentationTrain.shape)"
   ]
  },
  {
   "cell_type": "code",
   "execution_count": 45,
   "id": "a45cd1d2",
   "metadata": {},
   "outputs": [
    {
     "data": {
      "text/plain": [
       "array([513, 521,  12, 526, 527,  16, 528, 542,  36, 553, 563,  58,  63,\n",
       "        72, 585, 587,  79, 593,  86,  90,  96, 100, 105, 620, 109, 621,\n",
       "       626, 115, 627, 118, 127, 131, 645, 652, 142, 656, 145, 146, 148,\n",
       "       662, 150, 156, 160, 167, 682, 683, 170, 684, 184, 699, 187, 189,\n",
       "       703, 192, 705, 704, 202, 723, 213, 726, 215, 216, 732, 733, 742,\n",
       "       232, 751, 240, 243, 247, 249, 763, 766, 267, 269, 271, 279, 304,\n",
       "       307, 311, 312, 319, 332, 336, 345, 353, 359, 361, 381, 388, 404,\n",
       "       408, 410, 413, 437, 439, 445, 458, 464, 480, 481, 482, 490, 505,\n",
       "       507], dtype=int64)"
      ]
     },
     "execution_count": 45,
     "metadata": {},
     "output_type": "execute_result"
    }
   ],
   "source": [
    "GAT_trainIndices1"
   ]
  },
  {
   "cell_type": "markdown",
   "id": "8756dd76",
   "metadata": {},
   "source": [
    "Selected features of test data"
   ]
  },
  {
   "cell_type": "code",
   "execution_count": 38,
   "id": "84716dd2",
   "metadata": {},
   "outputs": [],
   "source": [
    "# BERT+EGAT\n",
    "selectedUPrime = tensorUtterancesTest[:, BERT_trainIndices]\n",
    "selectedHPrime = allNodeFeatsTest[:, GAT_trainIndices1]\n",
    "concatenatedSelectedRepresentationTest1 = torch.cat((selectedUPrime, selectedHPrime), dim=1)\n",
    "# BERT+GAT\n",
    "# selectedHPrime = allNodeFeatsTest[:, GAT_trainIndices2]\n",
    "# concatenatedRepresentationTest2 = torch.cat((selectedUPrime, selectedHPrime), dim=1)\n",
    "# raw-BERT\n",
    "rawCtxRepresentationTest = get_norm_features(tensorUtterancesTest)\n",
    "# selected-BERT\n",
    "# ctxRepresentationTest = selectedUPrime\n",
    "# raw-BERT+GAT \n",
    "concatenatedRepresentationTest1 = torch.cat((get_norm_features(tensorUtterancesTest), \n",
    "                                             get_norm_features(cherryPickedNodesTest)), dim=1)\n",
    "# raw-BERT+EGAT\n",
    "concatenatedRepresentationTest2 = torch.cat((get_norm_features(tensorUtterancesTest), \n",
    "                                             get_norm_features(allNodeFeatsTest)), dim=1)\n",
    "\n",
    "# print(\"Sizes of different combination of train data\\n\",\n",
    "#       \"FeatureSelected+BERT+EGAT: \", concatenatedRepresentationTest1.shape, \"\\n\",\n",
    "#       \"FeatureSelected+BERT+GAT: \", concatenatedRepresentationTest2.shape, \"\\n\",\n",
    "#       \"BERT: \", rawCtxRepresentationTest.shape, \"\\n\",\n",
    "#       \"FeatureSelected+BERT: \", ctxRepresentationTest.shape)"
   ]
  },
  {
   "cell_type": "markdown",
   "id": "265dc4c4",
   "metadata": {},
   "source": [
    "1. Prep data - normalize and create data loader"
   ]
  },
  {
   "cell_type": "code",
   "execution_count": 27,
   "id": "ebb893e7",
   "metadata": {
    "code_folding": []
   },
   "outputs": [],
   "source": [
    "def prep_data(features, labels, isOversample):\n",
    "    num_instances = len(features)\n",
    "    num_classes = 7\n",
    "\n",
    "    # Rescale input features\n",
    "    # selected_features = concatenated_representation / np.linalg.norm(concatenated_representation, axis=1, keepdims=True)\n",
    "\n",
    "    # Apply data resampling (oversampling) to balance class distribution\n",
    "    if isOversample:\n",
    "        X_set, Y_set = oversample_data(features, labels, num_classes)\n",
    "    else:\n",
    "        X_set, Y_set = features, labels\n",
    "\n",
    "    # Calculate class weights for class weighting\n",
    "#     class_counts = np.bincount(labels)\n",
    "#     total_instances = np.sum(class_counts)\n",
    "    # class_weights = torch.tensor([total_instances / (num_classes * count) for count in class_counts], dtype=torch.float32)\n",
    "\n",
    "    # Convert data to PyTorch tensors\n",
    "    X_tensor = torch.tensor(X_set.clone().detach(), dtype=torch.float32).clone().detach()\n",
    "    Y_tensor = torch.tensor(Y_set.clone().detach(), dtype=torch.long).clone().detach()\n",
    "    # print(X_train_tensor.shape, Y_train_tensor.shape)\n",
    "    # X_train_tensor = torch.tensor(selected_features)\n",
    "    # Y_train_tensor = torch.tensor(y_train)\n",
    "\n",
    "    unique_labels, label_counts = np.unique(Y_set, return_counts=True)\n",
    "\n",
    "    # Print the counts for each unique label\n",
    "    for label, count in zip(unique_labels, label_counts):\n",
    "        print(f\"Label {label_decoder[label]}: {count} occurrences\")\n",
    "\n",
    "    print(X_tensor.shape, Y_tensor.shape)\n",
    "    # Create a TensorDataset\n",
    "    dataset = TensorDataset(X_tensor, Y_tensor)\n",
    "\n",
    "    return X_tensor, Y_tensor"
   ]
  },
  {
   "cell_type": "markdown",
   "id": "861ebf30",
   "metadata": {},
   "source": [
    "2. Training"
   ]
  },
  {
   "cell_type": "code",
   "execution_count": 39,
   "id": "9a71c886",
   "metadata": {},
   "outputs": [],
   "source": [
    "def model_train(X_set, Y_set, input_dim, num_epochs, num_classes, loss_difference_threshold=0.3):\n",
    "    hidden_dims = [512, 256]  # Hidden layer dimensions\n",
    "    output_dim = num_classes  # Number of classes\n",
    "    dropout_rate = 0.5  # Dropout rate for regularization\n",
    "    # Initialize the model\n",
    "    model = MyNetwork(input_dim, hidden_dims, output_dim, dropout_rate)\n",
    "    # Define loss function and optimizer\n",
    "    criterion = nn.CrossEntropyLoss()\n",
    "    optimizer = optim.Adam(model.parameters(), lr=0.0001)\n",
    "    # Lists to store loss and accuracy for plotting\n",
    "    loss_history = []\n",
    "    accuracy_history = []\n",
    "    # Train the model\n",
    "    print_interval = 1  # Print tqdm every epoch\n",
    "    previous_loss = float('inf')\n",
    "    for epoch in range(num_epochs):\n",
    "        total_loss = 0.0\n",
    "        correct_predictions = 0\n",
    "        total_instances = 0\n",
    "        # Use tqdm for progress tracking\n",
    "        with tqdm(total=len(X_set), desc=f'Epoch {epoch+1}/{num_epochs}', leave=False) as pbar:\n",
    "            for inputs, labels in zip(X_set, Y_set):\n",
    "                inputs = torch.tensor(inputs.clone().detach(), dtype=torch.float32)\n",
    "                labels = torch.tensor(labels.clone().detach(), dtype=torch.long)\n",
    "                # Forward pass\n",
    "                outputs = model(inputs)\n",
    "                # Flatten the outputs and labels if necessary\n",
    "                outputs = outputs.squeeze()\n",
    "                labels = labels.squeeze()\n",
    "                # Calculate loss\n",
    "                loss = criterion(outputs, labels)\n",
    "                # Backward and optimize\n",
    "                optimizer.zero_grad()\n",
    "                loss.backward()\n",
    "                optimizer.step()\n",
    "                # Update metrics\n",
    "                total_loss += loss.item()\n",
    "                _, predicted = torch.max(outputs, dim=0)  # Use dim=0 for single output\n",
    "                correct_predictions += (predicted == labels).sum().item()\n",
    "                total_instances += 1\n",
    "                pbar.update(1)\n",
    "\n",
    "        # Calculate epoch loss and accuracy\n",
    "        epoch_loss = total_loss / total_instances\n",
    "        epoch_accuracy = correct_predictions / total_instances\n",
    "        loss_history.append(epoch_loss)\n",
    "        accuracy_history.append(epoch_accuracy)\n",
    "\n",
    "        # Print average loss and accuracy per epoch\n",
    "        print(f'Epoch [{epoch+1}/{num_epochs}], Loss: {epoch_loss:.4f}, Accuracy: {epoch_accuracy:.4f}')\n",
    "\n",
    "        # Check if difference in loss exceeds threshold\n",
    "        if epoch > 0 and abs(epoch_loss - previous_loss) < loss_difference_threshold:\n",
    "            print(f'Training terminated early at epoch {epoch+1} due to small change in loss')\n",
    "            break\n",
    "\n",
    "        previous_loss = epoch_loss\n",
    "\n",
    "    # Plot loss and accuracy over epochs\n",
    "    plt.figure(figsize=(10, 5))\n",
    "    plt.subplot(1, 2, 1)\n",
    "    plt.plot(loss_history, label='Loss')\n",
    "    plt.xlabel('Epoch')\n",
    "    plt.ylabel('Loss')\n",
    "    plt.title('Loss Over Epochs')\n",
    "    plt.legend()\n",
    "\n",
    "    plt.subplot(1, 2, 2)\n",
    "    plt.plot(accuracy_history, label='Accuracy')\n",
    "    plt.xlabel('Epoch')\n",
    "    plt.ylabel('Accuracy')\n",
    "    plt.title('Accuracy Over Epochs')\n",
    "    plt.legend()\n",
    "\n",
    "    plt.tight_layout()\n",
    "    plt.show()\n",
    "\n",
    "    return model"
   ]
  },
  {
   "cell_type": "code",
   "execution_count": 29,
   "id": "b435c98b",
   "metadata": {
    "code_folding": [
     0
    ]
   },
   "outputs": [],
   "source": [
    "def classify_emotions(model, X_tensor, Y_tensor, isTrain):\n",
    "    # Set the model to evaluation mode\n",
    "    model.eval()\n",
    "\n",
    "    # Predict on the data\n",
    "    with torch.no_grad():\n",
    "        outputs = model(X_tensor)\n",
    "        _, predicted = torch.max(outputs, 1)\n",
    "\n",
    "    # Convert predicted tensor to numpy array\n",
    "    predicted = predicted.numpy()\n",
    "\n",
    "    # Calculate classification report\n",
    "    report = classification_report(Y_tensor, predicted, target_names=label_decoder.values(), output_dict=True, zero_division=0)\n",
    "\n",
    "    # Print classification report\n",
    "    for label, metrics in report.items():\n",
    "        if label != 'accuracy':  # Skip printing accuracy as it's a separate metric\n",
    "            print(f'Class: {label}')\n",
    "            print(f'Precision: {metrics[\"precision\"]:.4f}')\n",
    "            print(f'Recall: {metrics[\"recall\"]:.4f}')\n",
    "            print(f'F1 Score: {metrics[\"f1-score\"]:.4f}')\n",
    "            print()\n",
    "\n",
    "    # Print accuracy\n",
    "    print(f'Accuracy: {report[\"accuracy\"]:.4f}')\n",
    "\n",
    "    # Print weighted F1 score\n",
    "    print(f'Weighted F1 Score: {report[\"weighted avg\"][\"f1-score\"]:.4f}')"
   ]
  },
  {
   "cell_type": "code",
   "execution_count": 30,
   "id": "8d2b72ce",
   "metadata": {},
   "outputs": [],
   "source": [
    "# TODO create table of loss and accuracy during training\n",
    "# TODO also compute the time it takes to complete the train"
   ]
  },
  {
   "cell_type": "markdown",
   "id": "61a14b7b",
   "metadata": {},
   "source": [
    "<h4> Train and validate BERT+EGAT given 15 epochs"
   ]
  },
  {
   "cell_type": "code",
   "execution_count": 31,
   "id": "731a5a22",
   "metadata": {},
   "outputs": [
    {
     "name": "stderr",
     "output_type": "stream",
     "text": [
      "C:\\Users\\edayo\\AppData\\Local\\Temp\\ipykernel_28788\\3259066277.py:20: UserWarning: To copy construct from a tensor, it is recommended to use sourceTensor.clone().detach() or sourceTensor.clone().detach().requires_grad_(True), rather than torch.tensor(sourceTensor).\n",
      "  X_tensor = torch.tensor(X_set.clone().detach(), dtype=torch.float32).clone().detach()\n",
      "C:\\Users\\edayo\\AppData\\Local\\Temp\\ipykernel_28788\\3259066277.py:21: UserWarning: To copy construct from a tensor, it is recommended to use sourceTensor.clone().detach() or sourceTensor.clone().detach().requires_grad_(True), rather than torch.tensor(sourceTensor).\n",
      "  Y_tensor = torch.tensor(Y_set.clone().detach(), dtype=torch.long).clone().detach()\n"
     ]
    },
    {
     "name": "stdout",
     "output_type": "stream",
     "text": [
      "Label anger: 1500 occurrences\n",
      "Label disgust: 364 occurrences\n",
      "Label fear: 338 occurrences\n",
      "Label joy: 2312 occurrences\n",
      "Label neutral: 5960 occurrences\n",
      "Label sadness: 876 occurrences\n",
      "Label surprise: 1490 occurrences\n",
      "torch.Size([12840, 1536]) torch.Size([12840])\n"
     ]
    },
    {
     "name": "stderr",
     "output_type": "stream",
     "text": [
      "Epoch 1/15:   0%|                                                                            | 0/12840 [00:00<?, ?it/s]C:\\Users\\edayo\\AppData\\Local\\Temp\\ipykernel_28788\\217854138.py:21: UserWarning: To copy construct from a tensor, it is recommended to use sourceTensor.clone().detach() or sourceTensor.clone().detach().requires_grad_(True), rather than torch.tensor(sourceTensor).\n",
      "  inputs = torch.tensor(inputs.clone().detach(), dtype=torch.float32)\n",
      "C:\\Users\\edayo\\AppData\\Local\\Temp\\ipykernel_28788\\217854138.py:22: UserWarning: To copy construct from a tensor, it is recommended to use sourceTensor.clone().detach() or sourceTensor.clone().detach().requires_grad_(True), rather than torch.tensor(sourceTensor).\n",
      "  labels = torch.tensor(labels.clone().detach(), dtype=torch.long)\n",
      "                                                                                                                       \r"
     ]
    },
    {
     "name": "stdout",
     "output_type": "stream",
     "text": [
      "Epoch [1/15], Loss: 1.5091, Accuracy: 0.4731\n"
     ]
    },
    {
     "name": "stderr",
     "output_type": "stream",
     "text": [
      "                                                                                                                       \r"
     ]
    },
    {
     "name": "stdout",
     "output_type": "stream",
     "text": [
      "Epoch [2/15], Loss: 1.3815, Accuracy: 0.5136\n"
     ]
    },
    {
     "name": "stderr",
     "output_type": "stream",
     "text": [
      "                                                                                                                       \r"
     ]
    },
    {
     "name": "stdout",
     "output_type": "stream",
     "text": [
      "Epoch [3/15], Loss: 1.3288, Accuracy: 0.5402\n"
     ]
    },
    {
     "name": "stderr",
     "output_type": "stream",
     "text": [
      "                                                                                                                       \r"
     ]
    },
    {
     "name": "stdout",
     "output_type": "stream",
     "text": [
      "Epoch [4/15], Loss: 1.2673, Accuracy: 0.5711\n"
     ]
    },
    {
     "name": "stderr",
     "output_type": "stream",
     "text": [
      "                                                                                                                       \r"
     ]
    },
    {
     "name": "stdout",
     "output_type": "stream",
     "text": [
      "Epoch [5/15], Loss: 1.2343, Accuracy: 0.5836\n"
     ]
    },
    {
     "name": "stderr",
     "output_type": "stream",
     "text": [
      "                                                                                                                       \r"
     ]
    },
    {
     "name": "stdout",
     "output_type": "stream",
     "text": [
      "Epoch [6/15], Loss: 1.2131, Accuracy: 0.5888\n"
     ]
    },
    {
     "name": "stderr",
     "output_type": "stream",
     "text": [
      "                                                                                                                       \r"
     ]
    },
    {
     "name": "stdout",
     "output_type": "stream",
     "text": [
      "Epoch [7/15], Loss: 1.1997, Accuracy: 0.5986\n"
     ]
    },
    {
     "name": "stderr",
     "output_type": "stream",
     "text": [
      "                                                                                                                       \r"
     ]
    },
    {
     "name": "stdout",
     "output_type": "stream",
     "text": [
      "Epoch [8/15], Loss: 1.1889, Accuracy: 0.5986\n"
     ]
    },
    {
     "name": "stderr",
     "output_type": "stream",
     "text": [
      "                                                                                                                       \r"
     ]
    },
    {
     "name": "stdout",
     "output_type": "stream",
     "text": [
      "Epoch [9/15], Loss: 1.1818, Accuracy: 0.6035\n"
     ]
    },
    {
     "name": "stderr",
     "output_type": "stream",
     "text": [
      "                                                                                                                       \r"
     ]
    },
    {
     "name": "stdout",
     "output_type": "stream",
     "text": [
      "Epoch [10/15], Loss: 1.1711, Accuracy: 0.6055\n"
     ]
    },
    {
     "name": "stderr",
     "output_type": "stream",
     "text": [
      "                                                                                                                       \r"
     ]
    },
    {
     "name": "stdout",
     "output_type": "stream",
     "text": [
      "Epoch [11/15], Loss: 1.1643, Accuracy: 0.6087\n"
     ]
    },
    {
     "name": "stderr",
     "output_type": "stream",
     "text": [
      "                                                                                                                       \r"
     ]
    },
    {
     "name": "stdout",
     "output_type": "stream",
     "text": [
      "Epoch [12/15], Loss: 1.1580, Accuracy: 0.6114\n"
     ]
    },
    {
     "name": "stderr",
     "output_type": "stream",
     "text": [
      "                                                                                                                       \r"
     ]
    },
    {
     "name": "stdout",
     "output_type": "stream",
     "text": [
      "Epoch [13/15], Loss: 1.1517, Accuracy: 0.6129\n"
     ]
    },
    {
     "name": "stderr",
     "output_type": "stream",
     "text": [
      "                                                                                                                       \r"
     ]
    },
    {
     "name": "stdout",
     "output_type": "stream",
     "text": [
      "Epoch [14/15], Loss: 1.1461, Accuracy: 0.6166\n"
     ]
    },
    {
     "name": "stderr",
     "output_type": "stream",
     "text": [
      "                                                                                                                       "
     ]
    },
    {
     "name": "stdout",
     "output_type": "stream",
     "text": [
      "Epoch [15/15], Loss: 1.1435, Accuracy: 0.6164\n",
      "Train BERT+EGAT given 15 epochs - Elapsed time: 4116.868496417999 seconds\n"
     ]
    },
    {
     "name": "stderr",
     "output_type": "stream",
     "text": [
      "\r"
     ]
    }
   ],
   "source": [
    "# enable oversampling by setting isOversample=True\n",
    "X_trainTensor, Y_trainTensor = prep_data(concatenatedRepresentationTrain2, y_train, False)\n",
    "\n",
    "start_time = time.time()\n",
    "\n",
    "fcClf = model_train(X_set=X_trainTensor, \n",
    "                    Y_set=Y_trainTensor,\n",
    "                    input_dim=X_trainTensor.shape[1], \n",
    "                    num_epochs=15, \n",
    "                    num_classes=7)\n",
    "\n",
    "end_time = time.time()\n",
    "elapsed_time = end_time - start_time\n",
    "print(f\"Train BERT+EGAT given 15 epochs - Elapsed time: {elapsed_time} seconds\")"
   ]
  },
  {
   "cell_type": "code",
   "execution_count": 32,
   "id": "50c657f0",
   "metadata": {},
   "outputs": [
    {
     "name": "stdout",
     "output_type": "stream",
     "text": [
      "Label anger: 516 occurrences\n",
      "Label disgust: 99 occurrences\n",
      "Label fear: 60 occurrences\n",
      "Label joy: 495 occurrences\n",
      "Label neutral: 1615 occurrences\n",
      "Label sadness: 263 occurrences\n",
      "Label surprise: 352 occurrences\n",
      "torch.Size([3400, 1536]) torch.Size([3400])\n",
      "Class: anger\n",
      "Precision: 0.4592\n",
      "Recall: 0.4360\n",
      "F1 Score: 0.4473\n",
      "\n",
      "Class: disgust\n",
      "Precision: 0.0000\n",
      "Recall: 0.0000\n",
      "F1 Score: 0.0000\n",
      "\n",
      "Class: fear\n",
      "Precision: 0.0000\n",
      "Recall: 0.0000\n",
      "F1 Score: 0.0000\n",
      "\n",
      "Class: joy\n",
      "Precision: 0.5913\n",
      "Recall: 0.3859\n",
      "F1 Score: 0.4670\n",
      "\n",
      "Class: neutral\n",
      "Precision: 0.7089\n",
      "Recall: 0.8415\n",
      "F1 Score: 0.7695\n",
      "\n",
      "Class: sadness\n",
      "Precision: 0.0000\n",
      "Recall: 0.0000\n",
      "F1 Score: 0.0000\n",
      "\n",
      "Class: surprise\n",
      "Precision: 0.3642\n",
      "Recall: 0.6932\n",
      "F1 Score: 0.4775\n",
      "\n",
      "Class: macro avg\n",
      "Precision: 0.3034\n",
      "Recall: 0.3367\n",
      "F1 Score: 0.3088\n",
      "\n",
      "Class: weighted avg\n",
      "Precision: 0.5302\n",
      "Recall: 0.5938\n",
      "F1 Score: 0.5508\n",
      "\n",
      "Accuracy: 0.5938\n",
      "Weighted F1 Score: 0.5508\n"
     ]
    },
    {
     "name": "stderr",
     "output_type": "stream",
     "text": [
      "C:\\Users\\edayo\\AppData\\Local\\Temp\\ipykernel_28788\\3259066277.py:20: UserWarning: To copy construct from a tensor, it is recommended to use sourceTensor.clone().detach() or sourceTensor.clone().detach().requires_grad_(True), rather than torch.tensor(sourceTensor).\n",
      "  X_tensor = torch.tensor(X_set.clone().detach(), dtype=torch.float32).clone().detach()\n",
      "C:\\Users\\edayo\\AppData\\Local\\Temp\\ipykernel_28788\\3259066277.py:21: UserWarning: To copy construct from a tensor, it is recommended to use sourceTensor.clone().detach() or sourceTensor.clone().detach().requires_grad_(True), rather than torch.tensor(sourceTensor).\n",
      "  Y_tensor = torch.tensor(Y_set.clone().detach(), dtype=torch.long).clone().detach()\n"
     ]
    }
   ],
   "source": [
    "# Predict the test set\n",
    "# classify_emotions(fcClf, X_trainTensor, Y_trainTensor, False)\n",
    "X_testTensor, Y_testTensor = prep_data(concatenatedRepresentationTest2, y_test, False)\n",
    "classify_emotions(fcClf, X_testTensor, Y_testTensor, False)"
   ]
  },
  {
   "cell_type": "markdown",
   "id": "23e94626",
   "metadata": {},
   "source": [
    "<h4> Train and validate BERT+GAT given 2 epoch"
   ]
  },
  {
   "cell_type": "code",
   "execution_count": 36,
   "id": "57c145a1",
   "metadata": {},
   "outputs": [
    {
     "name": "stderr",
     "output_type": "stream",
     "text": [
      "C:\\Users\\edayo\\AppData\\Local\\Temp\\ipykernel_28788\\3259066277.py:20: UserWarning: To copy construct from a tensor, it is recommended to use sourceTensor.clone().detach() or sourceTensor.clone().detach().requires_grad_(True), rather than torch.tensor(sourceTensor).\n",
      "  X_tensor = torch.tensor(X_set.clone().detach(), dtype=torch.float32).clone().detach()\n",
      "C:\\Users\\edayo\\AppData\\Local\\Temp\\ipykernel_28788\\3259066277.py:21: UserWarning: To copy construct from a tensor, it is recommended to use sourceTensor.clone().detach() or sourceTensor.clone().detach().requires_grad_(True), rather than torch.tensor(sourceTensor).\n",
      "  Y_tensor = torch.tensor(Y_set.clone().detach(), dtype=torch.long).clone().detach()\n"
     ]
    },
    {
     "name": "stdout",
     "output_type": "stream",
     "text": [
      "Label anger: 5960 occurrences\n",
      "Label disgust: 5960 occurrences\n",
      "Label fear: 5960 occurrences\n",
      "Label joy: 5960 occurrences\n",
      "Label neutral: 5960 occurrences\n",
      "Label sadness: 5960 occurrences\n",
      "Label surprise: 5960 occurrences\n",
      "torch.Size([41720, 1536]) torch.Size([41720])\n"
     ]
    },
    {
     "name": "stderr",
     "output_type": "stream",
     "text": [
      "Epoch 1/15:   0%|                                                                            | 0/41720 [00:00<?, ?it/s]C:\\Users\\edayo\\AppData\\Local\\Temp\\ipykernel_28788\\217854138.py:22: UserWarning: To copy construct from a tensor, it is recommended to use sourceTensor.clone().detach() or sourceTensor.clone().detach().requires_grad_(True), rather than torch.tensor(sourceTensor).\n",
      "  labels = torch.tensor(labels.clone().detach(), dtype=torch.long)\n",
      "                                                                                                                       \r"
     ]
    },
    {
     "ename": "KeyboardInterrupt",
     "evalue": "",
     "output_type": "error",
     "traceback": [
      "\u001b[1;31m---------------------------------------------------------------------------\u001b[0m",
      "\u001b[1;31mKeyboardInterrupt\u001b[0m                         Traceback (most recent call last)",
      "Input \u001b[1;32mIn [36]\u001b[0m, in \u001b[0;36m<cell line: 5>\u001b[1;34m()\u001b[0m\n\u001b[0;32m      1\u001b[0m X_trainTensor, Y_trainTensor \u001b[38;5;241m=\u001b[39m prep_data(concatenatedRepresentationTrain1, y_train, \u001b[38;5;28;01mTrue\u001b[39;00m)\n\u001b[0;32m      3\u001b[0m start_time \u001b[38;5;241m=\u001b[39m time\u001b[38;5;241m.\u001b[39mtime()\n\u001b[1;32m----> 5\u001b[0m fcClf \u001b[38;5;241m=\u001b[39m \u001b[43mmodel_train\u001b[49m\u001b[43m(\u001b[49m\u001b[43mX_set\u001b[49m\u001b[38;5;241;43m=\u001b[39;49m\u001b[43mX_trainTensor\u001b[49m\u001b[43m,\u001b[49m\u001b[43m \u001b[49m\n\u001b[0;32m      6\u001b[0m \u001b[43m                    \u001b[49m\u001b[43mY_set\u001b[49m\u001b[38;5;241;43m=\u001b[39;49m\u001b[43mY_trainTensor\u001b[49m\u001b[43m,\u001b[49m\n\u001b[0;32m      7\u001b[0m \u001b[43m                    \u001b[49m\u001b[43minput_dim\u001b[49m\u001b[38;5;241;43m=\u001b[39;49m\u001b[43mX_trainTensor\u001b[49m\u001b[38;5;241;43m.\u001b[39;49m\u001b[43mshape\u001b[49m\u001b[43m[\u001b[49m\u001b[38;5;241;43m1\u001b[39;49m\u001b[43m]\u001b[49m\u001b[43m,\u001b[49m\u001b[43m \u001b[49m\n\u001b[0;32m      8\u001b[0m \u001b[43m                    \u001b[49m\u001b[43mnum_epochs\u001b[49m\u001b[38;5;241;43m=\u001b[39;49m\u001b[38;5;241;43m15\u001b[39;49m\u001b[43m,\u001b[49m\u001b[43m \u001b[49m\n\u001b[0;32m      9\u001b[0m \u001b[43m                    \u001b[49m\u001b[43mnum_classes\u001b[49m\u001b[38;5;241;43m=\u001b[39;49m\u001b[38;5;241;43m7\u001b[39;49m\u001b[43m)\u001b[49m\n\u001b[0;32m     11\u001b[0m end_time \u001b[38;5;241m=\u001b[39m time\u001b[38;5;241m.\u001b[39mtime()\n\u001b[0;32m     12\u001b[0m elapsed_time \u001b[38;5;241m=\u001b[39m end_time \u001b[38;5;241m-\u001b[39m start_time\n",
      "Input \u001b[1;32mIn [28]\u001b[0m, in \u001b[0;36mmodel_train\u001b[1;34m(X_set, Y_set, input_dim, num_epochs, num_classes)\u001b[0m\n\u001b[0;32m     31\u001b[0m optimizer\u001b[38;5;241m.\u001b[39mzero_grad()\n\u001b[0;32m     32\u001b[0m loss\u001b[38;5;241m.\u001b[39mbackward()\n\u001b[1;32m---> 33\u001b[0m \u001b[43moptimizer\u001b[49m\u001b[38;5;241;43m.\u001b[39;49m\u001b[43mstep\u001b[49m\u001b[43m(\u001b[49m\u001b[43m)\u001b[49m\n\u001b[0;32m     34\u001b[0m \u001b[38;5;66;03m# Update metrics\u001b[39;00m\n\u001b[0;32m     35\u001b[0m total_loss \u001b[38;5;241m+\u001b[39m\u001b[38;5;241m=\u001b[39m loss\u001b[38;5;241m.\u001b[39mitem()\n",
      "File \u001b[1;32m~\\AppData\\Local\\Programs\\Python\\Python310\\lib\\site-packages\\torch\\optim\\optimizer.py:373\u001b[0m, in \u001b[0;36mOptimizer.profile_hook_step.<locals>.wrapper\u001b[1;34m(*args, **kwargs)\u001b[0m\n\u001b[0;32m    368\u001b[0m         \u001b[38;5;28;01melse\u001b[39;00m:\n\u001b[0;32m    369\u001b[0m             \u001b[38;5;28;01mraise\u001b[39;00m \u001b[38;5;167;01mRuntimeError\u001b[39;00m(\n\u001b[0;32m    370\u001b[0m                 \u001b[38;5;124mf\u001b[39m\u001b[38;5;124m\"\u001b[39m\u001b[38;5;132;01m{\u001b[39;00mfunc\u001b[38;5;132;01m}\u001b[39;00m\u001b[38;5;124m must return None or a tuple of (new_args, new_kwargs), but got \u001b[39m\u001b[38;5;132;01m{\u001b[39;00mresult\u001b[38;5;132;01m}\u001b[39;00m\u001b[38;5;124m.\u001b[39m\u001b[38;5;124m\"\u001b[39m\n\u001b[0;32m    371\u001b[0m             )\n\u001b[1;32m--> 373\u001b[0m out \u001b[38;5;241m=\u001b[39m func(\u001b[38;5;241m*\u001b[39margs, \u001b[38;5;241m*\u001b[39m\u001b[38;5;241m*\u001b[39mkwargs)\n\u001b[0;32m    374\u001b[0m \u001b[38;5;28mself\u001b[39m\u001b[38;5;241m.\u001b[39m_optimizer_step_code()\n\u001b[0;32m    376\u001b[0m \u001b[38;5;66;03m# call optimizer step post hooks\u001b[39;00m\n",
      "File \u001b[1;32m~\\AppData\\Local\\Programs\\Python\\Python310\\lib\\site-packages\\torch\\optim\\optimizer.py:76\u001b[0m, in \u001b[0;36m_use_grad_for_differentiable.<locals>._use_grad\u001b[1;34m(self, *args, **kwargs)\u001b[0m\n\u001b[0;32m     74\u001b[0m     torch\u001b[38;5;241m.\u001b[39mset_grad_enabled(\u001b[38;5;28mself\u001b[39m\u001b[38;5;241m.\u001b[39mdefaults[\u001b[38;5;124m'\u001b[39m\u001b[38;5;124mdifferentiable\u001b[39m\u001b[38;5;124m'\u001b[39m])\n\u001b[0;32m     75\u001b[0m     torch\u001b[38;5;241m.\u001b[39m_dynamo\u001b[38;5;241m.\u001b[39mgraph_break()\n\u001b[1;32m---> 76\u001b[0m     ret \u001b[38;5;241m=\u001b[39m func(\u001b[38;5;28mself\u001b[39m, \u001b[38;5;241m*\u001b[39margs, \u001b[38;5;241m*\u001b[39m\u001b[38;5;241m*\u001b[39mkwargs)\n\u001b[0;32m     77\u001b[0m \u001b[38;5;28;01mfinally\u001b[39;00m:\n\u001b[0;32m     78\u001b[0m     torch\u001b[38;5;241m.\u001b[39m_dynamo\u001b[38;5;241m.\u001b[39mgraph_break()\n",
      "File \u001b[1;32m~\\AppData\\Local\\Programs\\Python\\Python310\\lib\\site-packages\\torch\\optim\\adam.py:163\u001b[0m, in \u001b[0;36mAdam.step\u001b[1;34m(self, closure)\u001b[0m\n\u001b[0;32m    152\u001b[0m     beta1, beta2 \u001b[38;5;241m=\u001b[39m group[\u001b[38;5;124m'\u001b[39m\u001b[38;5;124mbetas\u001b[39m\u001b[38;5;124m'\u001b[39m]\n\u001b[0;32m    154\u001b[0m     \u001b[38;5;28mself\u001b[39m\u001b[38;5;241m.\u001b[39m_init_group(\n\u001b[0;32m    155\u001b[0m         group,\n\u001b[0;32m    156\u001b[0m         params_with_grad,\n\u001b[1;32m   (...)\u001b[0m\n\u001b[0;32m    160\u001b[0m         max_exp_avg_sqs,\n\u001b[0;32m    161\u001b[0m         state_steps)\n\u001b[1;32m--> 163\u001b[0m     \u001b[43madam\u001b[49m\u001b[43m(\u001b[49m\n\u001b[0;32m    164\u001b[0m \u001b[43m        \u001b[49m\u001b[43mparams_with_grad\u001b[49m\u001b[43m,\u001b[49m\n\u001b[0;32m    165\u001b[0m \u001b[43m        \u001b[49m\u001b[43mgrads\u001b[49m\u001b[43m,\u001b[49m\n\u001b[0;32m    166\u001b[0m \u001b[43m        \u001b[49m\u001b[43mexp_avgs\u001b[49m\u001b[43m,\u001b[49m\n\u001b[0;32m    167\u001b[0m \u001b[43m        \u001b[49m\u001b[43mexp_avg_sqs\u001b[49m\u001b[43m,\u001b[49m\n\u001b[0;32m    168\u001b[0m \u001b[43m        \u001b[49m\u001b[43mmax_exp_avg_sqs\u001b[49m\u001b[43m,\u001b[49m\n\u001b[0;32m    169\u001b[0m \u001b[43m        \u001b[49m\u001b[43mstate_steps\u001b[49m\u001b[43m,\u001b[49m\n\u001b[0;32m    170\u001b[0m \u001b[43m        \u001b[49m\u001b[43mamsgrad\u001b[49m\u001b[38;5;241;43m=\u001b[39;49m\u001b[43mgroup\u001b[49m\u001b[43m[\u001b[49m\u001b[38;5;124;43m'\u001b[39;49m\u001b[38;5;124;43mamsgrad\u001b[39;49m\u001b[38;5;124;43m'\u001b[39;49m\u001b[43m]\u001b[49m\u001b[43m,\u001b[49m\n\u001b[0;32m    171\u001b[0m \u001b[43m        \u001b[49m\u001b[43mbeta1\u001b[49m\u001b[38;5;241;43m=\u001b[39;49m\u001b[43mbeta1\u001b[49m\u001b[43m,\u001b[49m\n\u001b[0;32m    172\u001b[0m \u001b[43m        \u001b[49m\u001b[43mbeta2\u001b[49m\u001b[38;5;241;43m=\u001b[39;49m\u001b[43mbeta2\u001b[49m\u001b[43m,\u001b[49m\n\u001b[0;32m    173\u001b[0m \u001b[43m        \u001b[49m\u001b[43mlr\u001b[49m\u001b[38;5;241;43m=\u001b[39;49m\u001b[43mgroup\u001b[49m\u001b[43m[\u001b[49m\u001b[38;5;124;43m'\u001b[39;49m\u001b[38;5;124;43mlr\u001b[39;49m\u001b[38;5;124;43m'\u001b[39;49m\u001b[43m]\u001b[49m\u001b[43m,\u001b[49m\n\u001b[0;32m    174\u001b[0m \u001b[43m        \u001b[49m\u001b[43mweight_decay\u001b[49m\u001b[38;5;241;43m=\u001b[39;49m\u001b[43mgroup\u001b[49m\u001b[43m[\u001b[49m\u001b[38;5;124;43m'\u001b[39;49m\u001b[38;5;124;43mweight_decay\u001b[39;49m\u001b[38;5;124;43m'\u001b[39;49m\u001b[43m]\u001b[49m\u001b[43m,\u001b[49m\n\u001b[0;32m    175\u001b[0m \u001b[43m        \u001b[49m\u001b[43meps\u001b[49m\u001b[38;5;241;43m=\u001b[39;49m\u001b[43mgroup\u001b[49m\u001b[43m[\u001b[49m\u001b[38;5;124;43m'\u001b[39;49m\u001b[38;5;124;43meps\u001b[39;49m\u001b[38;5;124;43m'\u001b[39;49m\u001b[43m]\u001b[49m\u001b[43m,\u001b[49m\n\u001b[0;32m    176\u001b[0m \u001b[43m        \u001b[49m\u001b[43mmaximize\u001b[49m\u001b[38;5;241;43m=\u001b[39;49m\u001b[43mgroup\u001b[49m\u001b[43m[\u001b[49m\u001b[38;5;124;43m'\u001b[39;49m\u001b[38;5;124;43mmaximize\u001b[39;49m\u001b[38;5;124;43m'\u001b[39;49m\u001b[43m]\u001b[49m\u001b[43m,\u001b[49m\n\u001b[0;32m    177\u001b[0m \u001b[43m        \u001b[49m\u001b[43mforeach\u001b[49m\u001b[38;5;241;43m=\u001b[39;49m\u001b[43mgroup\u001b[49m\u001b[43m[\u001b[49m\u001b[38;5;124;43m'\u001b[39;49m\u001b[38;5;124;43mforeach\u001b[39;49m\u001b[38;5;124;43m'\u001b[39;49m\u001b[43m]\u001b[49m\u001b[43m,\u001b[49m\n\u001b[0;32m    178\u001b[0m \u001b[43m        \u001b[49m\u001b[43mcapturable\u001b[49m\u001b[38;5;241;43m=\u001b[39;49m\u001b[43mgroup\u001b[49m\u001b[43m[\u001b[49m\u001b[38;5;124;43m'\u001b[39;49m\u001b[38;5;124;43mcapturable\u001b[39;49m\u001b[38;5;124;43m'\u001b[39;49m\u001b[43m]\u001b[49m\u001b[43m,\u001b[49m\n\u001b[0;32m    179\u001b[0m \u001b[43m        \u001b[49m\u001b[43mdifferentiable\u001b[49m\u001b[38;5;241;43m=\u001b[39;49m\u001b[43mgroup\u001b[49m\u001b[43m[\u001b[49m\u001b[38;5;124;43m'\u001b[39;49m\u001b[38;5;124;43mdifferentiable\u001b[39;49m\u001b[38;5;124;43m'\u001b[39;49m\u001b[43m]\u001b[49m\u001b[43m,\u001b[49m\n\u001b[0;32m    180\u001b[0m \u001b[43m        \u001b[49m\u001b[43mfused\u001b[49m\u001b[38;5;241;43m=\u001b[39;49m\u001b[43mgroup\u001b[49m\u001b[43m[\u001b[49m\u001b[38;5;124;43m'\u001b[39;49m\u001b[38;5;124;43mfused\u001b[39;49m\u001b[38;5;124;43m'\u001b[39;49m\u001b[43m]\u001b[49m\u001b[43m,\u001b[49m\n\u001b[0;32m    181\u001b[0m \u001b[43m        \u001b[49m\u001b[43mgrad_scale\u001b[49m\u001b[38;5;241;43m=\u001b[39;49m\u001b[38;5;28;43mgetattr\u001b[39;49m\u001b[43m(\u001b[49m\u001b[38;5;28;43mself\u001b[39;49m\u001b[43m,\u001b[49m\u001b[43m \u001b[49m\u001b[38;5;124;43m\"\u001b[39;49m\u001b[38;5;124;43mgrad_scale\u001b[39;49m\u001b[38;5;124;43m\"\u001b[39;49m\u001b[43m,\u001b[49m\u001b[43m \u001b[49m\u001b[38;5;28;43;01mNone\u001b[39;49;00m\u001b[43m)\u001b[49m\u001b[43m,\u001b[49m\n\u001b[0;32m    182\u001b[0m \u001b[43m        \u001b[49m\u001b[43mfound_inf\u001b[49m\u001b[38;5;241;43m=\u001b[39;49m\u001b[38;5;28;43mgetattr\u001b[39;49m\u001b[43m(\u001b[49m\u001b[38;5;28;43mself\u001b[39;49m\u001b[43m,\u001b[49m\u001b[43m \u001b[49m\u001b[38;5;124;43m\"\u001b[39;49m\u001b[38;5;124;43mfound_inf\u001b[39;49m\u001b[38;5;124;43m\"\u001b[39;49m\u001b[43m,\u001b[49m\u001b[43m \u001b[49m\u001b[38;5;28;43;01mNone\u001b[39;49;00m\u001b[43m)\u001b[49m\u001b[43m,\u001b[49m\n\u001b[0;32m    183\u001b[0m \u001b[43m    \u001b[49m\u001b[43m)\u001b[49m\n\u001b[0;32m    185\u001b[0m \u001b[38;5;28;01mreturn\u001b[39;00m loss\n",
      "File \u001b[1;32m~\\AppData\\Local\\Programs\\Python\\Python310\\lib\\site-packages\\torch\\optim\\adam.py:311\u001b[0m, in \u001b[0;36madam\u001b[1;34m(params, grads, exp_avgs, exp_avg_sqs, max_exp_avg_sqs, state_steps, foreach, capturable, differentiable, fused, grad_scale, found_inf, amsgrad, beta1, beta2, lr, weight_decay, eps, maximize)\u001b[0m\n\u001b[0;32m    308\u001b[0m \u001b[38;5;28;01melse\u001b[39;00m:\n\u001b[0;32m    309\u001b[0m     func \u001b[38;5;241m=\u001b[39m _single_tensor_adam\n\u001b[1;32m--> 311\u001b[0m \u001b[43mfunc\u001b[49m\u001b[43m(\u001b[49m\u001b[43mparams\u001b[49m\u001b[43m,\u001b[49m\n\u001b[0;32m    312\u001b[0m \u001b[43m     \u001b[49m\u001b[43mgrads\u001b[49m\u001b[43m,\u001b[49m\n\u001b[0;32m    313\u001b[0m \u001b[43m     \u001b[49m\u001b[43mexp_avgs\u001b[49m\u001b[43m,\u001b[49m\n\u001b[0;32m    314\u001b[0m \u001b[43m     \u001b[49m\u001b[43mexp_avg_sqs\u001b[49m\u001b[43m,\u001b[49m\n\u001b[0;32m    315\u001b[0m \u001b[43m     \u001b[49m\u001b[43mmax_exp_avg_sqs\u001b[49m\u001b[43m,\u001b[49m\n\u001b[0;32m    316\u001b[0m \u001b[43m     \u001b[49m\u001b[43mstate_steps\u001b[49m\u001b[43m,\u001b[49m\n\u001b[0;32m    317\u001b[0m \u001b[43m     \u001b[49m\u001b[43mamsgrad\u001b[49m\u001b[38;5;241;43m=\u001b[39;49m\u001b[43mamsgrad\u001b[49m\u001b[43m,\u001b[49m\n\u001b[0;32m    318\u001b[0m \u001b[43m     \u001b[49m\u001b[43mbeta1\u001b[49m\u001b[38;5;241;43m=\u001b[39;49m\u001b[43mbeta1\u001b[49m\u001b[43m,\u001b[49m\n\u001b[0;32m    319\u001b[0m \u001b[43m     \u001b[49m\u001b[43mbeta2\u001b[49m\u001b[38;5;241;43m=\u001b[39;49m\u001b[43mbeta2\u001b[49m\u001b[43m,\u001b[49m\n\u001b[0;32m    320\u001b[0m \u001b[43m     \u001b[49m\u001b[43mlr\u001b[49m\u001b[38;5;241;43m=\u001b[39;49m\u001b[43mlr\u001b[49m\u001b[43m,\u001b[49m\n\u001b[0;32m    321\u001b[0m \u001b[43m     \u001b[49m\u001b[43mweight_decay\u001b[49m\u001b[38;5;241;43m=\u001b[39;49m\u001b[43mweight_decay\u001b[49m\u001b[43m,\u001b[49m\n\u001b[0;32m    322\u001b[0m \u001b[43m     \u001b[49m\u001b[43meps\u001b[49m\u001b[38;5;241;43m=\u001b[39;49m\u001b[43meps\u001b[49m\u001b[43m,\u001b[49m\n\u001b[0;32m    323\u001b[0m \u001b[43m     \u001b[49m\u001b[43mmaximize\u001b[49m\u001b[38;5;241;43m=\u001b[39;49m\u001b[43mmaximize\u001b[49m\u001b[43m,\u001b[49m\n\u001b[0;32m    324\u001b[0m \u001b[43m     \u001b[49m\u001b[43mcapturable\u001b[49m\u001b[38;5;241;43m=\u001b[39;49m\u001b[43mcapturable\u001b[49m\u001b[43m,\u001b[49m\n\u001b[0;32m    325\u001b[0m \u001b[43m     \u001b[49m\u001b[43mdifferentiable\u001b[49m\u001b[38;5;241;43m=\u001b[39;49m\u001b[43mdifferentiable\u001b[49m\u001b[43m,\u001b[49m\n\u001b[0;32m    326\u001b[0m \u001b[43m     \u001b[49m\u001b[43mgrad_scale\u001b[49m\u001b[38;5;241;43m=\u001b[39;49m\u001b[43mgrad_scale\u001b[49m\u001b[43m,\u001b[49m\n\u001b[0;32m    327\u001b[0m \u001b[43m     \u001b[49m\u001b[43mfound_inf\u001b[49m\u001b[38;5;241;43m=\u001b[39;49m\u001b[43mfound_inf\u001b[49m\u001b[43m)\u001b[49m\n",
      "File \u001b[1;32m~\\AppData\\Local\\Programs\\Python\\Python310\\lib\\site-packages\\torch\\optim\\adam.py:384\u001b[0m, in \u001b[0;36m_single_tensor_adam\u001b[1;34m(params, grads, exp_avgs, exp_avg_sqs, max_exp_avg_sqs, state_steps, grad_scale, found_inf, amsgrad, beta1, beta2, lr, weight_decay, eps, maximize, capturable, differentiable)\u001b[0m\n\u001b[0;32m    381\u001b[0m     param \u001b[38;5;241m=\u001b[39m torch\u001b[38;5;241m.\u001b[39mview_as_real(param)\n\u001b[0;32m    383\u001b[0m \u001b[38;5;66;03m# Decay the first and second moment running average coefficient\u001b[39;00m\n\u001b[1;32m--> 384\u001b[0m \u001b[43mexp_avg\u001b[49m\u001b[38;5;241;43m.\u001b[39;49m\u001b[43mlerp_\u001b[49m\u001b[43m(\u001b[49m\u001b[43mgrad\u001b[49m\u001b[43m,\u001b[49m\u001b[43m \u001b[49m\u001b[38;5;241;43m1\u001b[39;49m\u001b[43m \u001b[49m\u001b[38;5;241;43m-\u001b[39;49m\u001b[43m \u001b[49m\u001b[43mbeta1\u001b[49m\u001b[43m)\u001b[49m\n\u001b[0;32m    385\u001b[0m exp_avg_sq\u001b[38;5;241m.\u001b[39mmul_(beta2)\u001b[38;5;241m.\u001b[39maddcmul_(grad, grad\u001b[38;5;241m.\u001b[39mconj(), value\u001b[38;5;241m=\u001b[39m\u001b[38;5;241m1\u001b[39m \u001b[38;5;241m-\u001b[39m beta2)\n\u001b[0;32m    387\u001b[0m \u001b[38;5;28;01mif\u001b[39;00m capturable \u001b[38;5;129;01mor\u001b[39;00m differentiable:\n",
      "\u001b[1;31mKeyboardInterrupt\u001b[0m: "
     ]
    }
   ],
   "source": [
    "X_trainTensor, Y_trainTensor = prep_data(concatenatedRepresentationTrain1, y_train, True)\n",
    "\n",
    "start_time = time.time()\n",
    "\n",
    "fcClf = model_train(X_set=X_trainTensor, \n",
    "                    Y_set=Y_trainTensor,\n",
    "                    input_dim=X_trainTensor.shape[1], \n",
    "                    num_epochs=11, \n",
    "                    num_classes=7)\n",
    "\n",
    "end_time = time.time()\n",
    "elapsed_time = end_time - start_time\n",
    "end_time = time.time()\n",
    "elapsed_time = end_time - start_time\n",
    "print(f\"Trai BERT+GAT given 15 epochs - Elapsed time: {elapsed_time} seconds\")\n",
    "\n",
    "classify_emotions(fcClf, X_trainTensor, Y_trainTensor, True)"
   ]
  },
  {
   "cell_type": "code",
   "execution_count": null,
   "id": "5aa10a6e",
   "metadata": {},
   "outputs": [],
   "source": [
    "# Predict the test set\n",
    "X_testTensor, Y_testTensor = prep_data(concatenatedRepresentationTest1, y_test, False)\n",
    "classify_emotions(fcClf, X_testTensor, Y_testTensor, False)"
   ]
  },
  {
   "cell_type": "markdown",
   "id": "1a5dc686",
   "metadata": {},
   "source": [
    "<h4> Train and validate BERT (❌ feature selection) given 2 epochs"
   ]
  },
  {
   "cell_type": "code",
   "execution_count": null,
   "id": "665f4578",
   "metadata": {
    "code_folding": []
   },
   "outputs": [],
   "source": [
    "X_trainTensor, Y_trainTensor = prep_data(rawCtxRepresentationTrain, y_train, True)\n",
    "\n",
    "start_time = time.time()\n",
    "\n",
    "fcClf = model_train(X_set=X_trainTensor, \n",
    "                    Y_set=Y_trainTensor,\n",
    "                    input_dim=X_trainTensor.shape[1], \n",
    "                    num_epochs=11, \n",
    "                    num_classes=7)\n",
    "\n",
    "end_time = time.time()\n",
    "elapsed_time = end_time - start_time\n",
    "\n",
    "end_time = time.time()\n",
    "elapsed_time = end_time - start_time\n",
    "print(f\"Training BERT given 15 epochs - Elapsed time: {elapsed_time} seconds\")\n",
    "\n",
    "classify_emotions(fcClf, X_trainTensor, Y_trainTensor, True)"
   ]
  },
  {
   "cell_type": "code",
   "execution_count": null,
   "id": "052cd879",
   "metadata": {},
   "outputs": [],
   "source": [
    "# Predict the test set\n",
    "X_testTensor, Y_testTensor = prep_data(rawCtxRepresentationTest, y_test, False)\n",
    "classify_emotions(fcClf, X_testTensor, Y_testTensor, False)"
   ]
  },
  {
   "cell_type": "markdown",
   "id": "2cac86ff",
   "metadata": {},
   "source": [
    "<h4> Train and validate BERT+EGAT (⭕️ feature selection, ⭕️ Oversample) given 11 epochs"
   ]
  },
  {
   "cell_type": "code",
   "execution_count": 49,
   "id": "3189c7d9",
   "metadata": {},
   "outputs": [
    {
     "name": "stderr",
     "output_type": "stream",
     "text": [
      "C:\\Users\\edayo\\AppData\\Local\\Temp\\ipykernel_28788\\3259066277.py:20: UserWarning: To copy construct from a tensor, it is recommended to use sourceTensor.clone().detach() or sourceTensor.clone().detach().requires_grad_(True), rather than torch.tensor(sourceTensor).\n",
      "  X_tensor = torch.tensor(X_set.clone().detach(), dtype=torch.float32).clone().detach()\n",
      "C:\\Users\\edayo\\AppData\\Local\\Temp\\ipykernel_28788\\3259066277.py:21: UserWarning: To copy construct from a tensor, it is recommended to use sourceTensor.clone().detach() or sourceTensor.clone().detach().requires_grad_(True), rather than torch.tensor(sourceTensor).\n",
      "  Y_tensor = torch.tensor(Y_set.clone().detach(), dtype=torch.long).clone().detach()\n"
     ]
    },
    {
     "name": "stdout",
     "output_type": "stream",
     "text": [
      "Label anger: 5960 occurrences\n",
      "Label disgust: 5960 occurrences\n",
      "Label fear: 5960 occurrences\n",
      "Label joy: 5960 occurrences\n",
      "Label neutral: 5960 occurrences\n",
      "Label sadness: 5960 occurrences\n",
      "Label surprise: 5960 occurrences\n",
      "torch.Size([41720, 210]) torch.Size([41720])\n"
     ]
    },
    {
     "name": "stderr",
     "output_type": "stream",
     "text": [
      "Epoch 1/2:   0%|                                                                             | 0/41720 [00:00<?, ?it/s]C:\\Users\\edayo\\AppData\\Local\\Temp\\ipykernel_28788\\2969156530.py:22: UserWarning: To copy construct from a tensor, it is recommended to use sourceTensor.clone().detach() or sourceTensor.clone().detach().requires_grad_(True), rather than torch.tensor(sourceTensor).\n",
      "  inputs = torch.tensor(inputs.clone().detach(), dtype=torch.float32)\n",
      "C:\\Users\\edayo\\AppData\\Local\\Temp\\ipykernel_28788\\2969156530.py:23: UserWarning: To copy construct from a tensor, it is recommended to use sourceTensor.clone().detach() or sourceTensor.clone().detach().requires_grad_(True), rather than torch.tensor(sourceTensor).\n",
      "  labels = torch.tensor(labels.clone().detach(), dtype=torch.long)\n",
      "                                                                                                                       \r"
     ]
    },
    {
     "name": "stdout",
     "output_type": "stream",
     "text": [
      "Epoch [1/2], Loss: 0.4437, Accuracy: 0.8603\n"
     ]
    },
    {
     "name": "stderr",
     "output_type": "stream",
     "text": [
      "                                                                                                                       \r"
     ]
    },
    {
     "name": "stdout",
     "output_type": "stream",
     "text": [
      "Epoch [2/2], Loss: 0.4070, Accuracy: 0.8717\n"
     ]
    },
    {
     "data": {
      "image/png": "[encoded data removed]",
      "text/plain": [
       "<Figure size 720x360 with 2 Axes>"
      ]
     },
     "metadata": {
      "needs_background": "light"
     },
     "output_type": "display_data"
    },
    {
     "name": "stdout",
     "output_type": "stream",
     "text": [
      "Training BERT given 15 epochs - Elapsed time: 449.64174604415894 seconds\n",
      "Class: anger\n",
      "Precision: 0.0000\n",
      "Recall: 0.0000\n",
      "F1 Score: 0.0000\n",
      "\n",
      "Class: disgust\n",
      "Precision: 0.0000\n",
      "Recall: 0.0000\n",
      "F1 Score: 0.0000\n",
      "\n",
      "Class: fear\n",
      "Precision: 0.0000\n",
      "Recall: 0.0000\n",
      "F1 Score: 0.0000\n",
      "\n",
      "Class: joy\n",
      "Precision: 0.0000\n",
      "Recall: 0.0000\n",
      "F1 Score: 0.0000\n",
      "\n",
      "Class: neutral\n",
      "Precision: 0.0000\n",
      "Recall: 0.0000\n",
      "F1 Score: 0.0000\n",
      "\n",
      "Class: sadness\n",
      "Precision: 0.0000\n",
      "Recall: 0.0000\n",
      "F1 Score: 0.0000\n",
      "\n",
      "Class: surprise\n",
      "Precision: 0.1429\n",
      "Recall: 1.0000\n",
      "F1 Score: 0.2500\n",
      "\n",
      "Class: macro avg\n",
      "Precision: 0.0204\n",
      "Recall: 0.1429\n",
      "F1 Score: 0.0357\n",
      "\n",
      "Class: weighted avg\n",
      "Precision: 0.0204\n",
      "Recall: 0.1429\n",
      "F1 Score: 0.0357\n",
      "\n",
      "Accuracy: 0.1429\n",
      "Weighted F1 Score: 0.0357\n"
     ]
    }
   ],
   "source": [
    "X_trainTensor, Y_trainTensor = prep_data(concatenatedSelectedRepresentationTrain1, y_train, True)\n",
    "\n",
    "start_time = time.time()\n",
    "\n",
    "fcClf = model_train(X_set=X_trainTensor, \n",
    "                    Y_set=Y_trainTensor,\n",
    "                    input_dim=X_trainTensor.shape[1], \n",
    "                    num_epochs=2, \n",
    "                    num_classes=7)\n",
    "\n",
    "end_time = time.time()\n",
    "elapsed_time = end_time - start_time\n",
    "\n",
    "end_time = time.time()\n",
    "elapsed_time = end_time - start_time\n",
    "print(f\"Training BERT given 15 epochs - Elapsed time: {elapsed_time} seconds\")\n",
    "\n",
    "classify_emotions(fcClf, X_trainTensor, Y_trainTensor, True)"
   ]
  },
  {
   "cell_type": "code",
   "execution_count": 44,
   "id": "1847bae2",
   "metadata": {},
   "outputs": [
    {
     "name": "stdout",
     "output_type": "stream",
     "text": [
      "Label anger: 516 occurrences\n",
      "Label disgust: 99 occurrences\n",
      "Label fear: 60 occurrences\n",
      "Label joy: 495 occurrences\n",
      "Label neutral: 1615 occurrences\n",
      "Label sadness: 263 occurrences\n",
      "Label surprise: 352 occurrences\n",
      "torch.Size([3400, 210]) torch.Size([3400])\n",
      "Class: anger\n",
      "Precision: 0.0000\n",
      "Recall: 0.0000\n",
      "F1 Score: 0.0000\n",
      "\n",
      "Class: disgust\n",
      "Precision: 0.0000\n",
      "Recall: 0.0000\n",
      "F1 Score: 0.0000\n",
      "\n",
      "Class: fear\n",
      "Precision: 0.0000\n",
      "Recall: 0.0000\n",
      "F1 Score: 0.0000\n",
      "\n",
      "Class: joy\n",
      "Precision: 1.0000\n",
      "Recall: 0.0020\n",
      "F1 Score: 0.0040\n",
      "\n",
      "Class: neutral\n",
      "Precision: 0.0000\n",
      "Recall: 0.0000\n",
      "F1 Score: 0.0000\n",
      "\n",
      "Class: sadness\n",
      "Precision: 0.0000\n",
      "Recall: 0.0000\n",
      "F1 Score: 0.0000\n",
      "\n",
      "Class: surprise\n",
      "Precision: 0.1037\n",
      "Recall: 1.0000\n",
      "F1 Score: 0.1878\n",
      "\n",
      "Class: macro avg\n",
      "Precision: 0.1577\n",
      "Recall: 0.1431\n",
      "F1 Score: 0.0274\n",
      "\n",
      "Class: weighted avg\n",
      "Precision: 0.1563\n",
      "Recall: 0.1038\n",
      "F1 Score: 0.0200\n",
      "\n",
      "Accuracy: 0.1038\n",
      "Weighted F1 Score: 0.0200\n"
     ]
    },
    {
     "name": "stderr",
     "output_type": "stream",
     "text": [
      "C:\\Users\\edayo\\AppData\\Local\\Temp\\ipykernel_28788\\3259066277.py:20: UserWarning: To copy construct from a tensor, it is recommended to use sourceTensor.clone().detach() or sourceTensor.clone().detach().requires_grad_(True), rather than torch.tensor(sourceTensor).\n",
      "  X_tensor = torch.tensor(X_set.clone().detach(), dtype=torch.float32).clone().detach()\n",
      "C:\\Users\\edayo\\AppData\\Local\\Temp\\ipykernel_28788\\3259066277.py:21: UserWarning: To copy construct from a tensor, it is recommended to use sourceTensor.clone().detach() or sourceTensor.clone().detach().requires_grad_(True), rather than torch.tensor(sourceTensor).\n",
      "  Y_tensor = torch.tensor(Y_set.clone().detach(), dtype=torch.long).clone().detach()\n"
     ]
    }
   ],
   "source": [
    "# # Predict the test set\n",
    "X_testTensor, Y_testTensor = prep_data(concatenatedSelectedRepresentationTest1, y_test, False)\n",
    "classify_emotions(fcClf, X_testTensor, Y_testTensor, False)"
   ]
  },
  {
   "cell_type": "markdown",
   "id": "8bbfadf1",
   "metadata": {},
   "source": [
    "<h4> Train and validate BERT+EGAT (⭕️ feature selection, ❌ Oversample) given 11 epochs¶"
   ]
  },
  {
   "cell_type": "code",
   "execution_count": 40,
   "id": "3f0fbe5f",
   "metadata": {},
   "outputs": [
    {
     "name": "stderr",
     "output_type": "stream",
     "text": [
      "C:\\Users\\edayo\\AppData\\Local\\Temp\\ipykernel_28788\\3259066277.py:20: UserWarning: To copy construct from a tensor, it is recommended to use sourceTensor.clone().detach() or sourceTensor.clone().detach().requires_grad_(True), rather than torch.tensor(sourceTensor).\n",
      "  X_tensor = torch.tensor(X_set.clone().detach(), dtype=torch.float32).clone().detach()\n",
      "C:\\Users\\edayo\\AppData\\Local\\Temp\\ipykernel_28788\\3259066277.py:21: UserWarning: To copy construct from a tensor, it is recommended to use sourceTensor.clone().detach() or sourceTensor.clone().detach().requires_grad_(True), rather than torch.tensor(sourceTensor).\n",
      "  Y_tensor = torch.tensor(Y_set.clone().detach(), dtype=torch.long).clone().detach()\n"
     ]
    },
    {
     "name": "stdout",
     "output_type": "stream",
     "text": [
      "Label anger: 1500 occurrences\n",
      "Label disgust: 364 occurrences\n",
      "Label fear: 338 occurrences\n",
      "Label joy: 2312 occurrences\n",
      "Label neutral: 5960 occurrences\n",
      "Label sadness: 876 occurrences\n",
      "Label surprise: 1490 occurrences\n",
      "torch.Size([12840, 210]) torch.Size([12840])\n"
     ]
    },
    {
     "name": "stderr",
     "output_type": "stream",
     "text": [
      "Epoch 1/11:   0%|                                                                            | 0/12840 [00:00<?, ?it/s]C:\\Users\\edayo\\AppData\\Local\\Temp\\ipykernel_28788\\2969156530.py:22: UserWarning: To copy construct from a tensor, it is recommended to use sourceTensor.clone().detach() or sourceTensor.clone().detach().requires_grad_(True), rather than torch.tensor(sourceTensor).\n",
      "  inputs = torch.tensor(inputs.clone().detach(), dtype=torch.float32)\n",
      "C:\\Users\\edayo\\AppData\\Local\\Temp\\ipykernel_28788\\2969156530.py:23: UserWarning: To copy construct from a tensor, it is recommended to use sourceTensor.clone().detach() or sourceTensor.clone().detach().requires_grad_(True), rather than torch.tensor(sourceTensor).\n",
      "  labels = torch.tensor(labels.clone().detach(), dtype=torch.long)\n",
      "                                                                                                                       \r"
     ]
    },
    {
     "name": "stdout",
     "output_type": "stream",
     "text": [
      "Epoch [1/11], Loss: 1.2762, Accuracy: 0.5670\n"
     ]
    },
    {
     "name": "stderr",
     "output_type": "stream",
     "text": [
      "                                                                                                                       \r"
     ]
    },
    {
     "name": "stdout",
     "output_type": "stream",
     "text": [
      "Epoch [2/11], Loss: 1.1822, Accuracy: 0.6037\n"
     ]
    },
    {
     "name": "stderr",
     "output_type": "stream",
     "text": [
      "                                                                                                                       \r"
     ]
    },
    {
     "name": "stdout",
     "output_type": "stream",
     "text": [
      "Epoch [3/11], Loss: 1.1410, Accuracy: 0.6146\n"
     ]
    },
    {
     "name": "stderr",
     "output_type": "stream",
     "text": [
      "                                                                                                                       \r"
     ]
    },
    {
     "name": "stdout",
     "output_type": "stream",
     "text": [
      "Epoch [4/11], Loss: 1.1084, Accuracy: 0.6242\n"
     ]
    },
    {
     "name": "stderr",
     "output_type": "stream",
     "text": [
      "                                                                                                                       \r"
     ]
    },
    {
     "name": "stdout",
     "output_type": "stream",
     "text": [
      "Epoch [5/11], Loss: 1.0784, Accuracy: 0.6326\n"
     ]
    },
    {
     "name": "stderr",
     "output_type": "stream",
     "text": [
      "                                                                                                                       \r"
     ]
    },
    {
     "name": "stdout",
     "output_type": "stream",
     "text": [
      "Epoch [6/11], Loss: 1.0440, Accuracy: 0.6403\n"
     ]
    },
    {
     "name": "stderr",
     "output_type": "stream",
     "text": [
      "                                                                                                                       \r"
     ]
    },
    {
     "name": "stdout",
     "output_type": "stream",
     "text": [
      "Epoch [7/11], Loss: 1.0113, Accuracy: 0.6532\n"
     ]
    },
    {
     "name": "stderr",
     "output_type": "stream",
     "text": [
      "                                                                                                                       \r"
     ]
    },
    {
     "name": "stdout",
     "output_type": "stream",
     "text": [
      "Epoch [8/11], Loss: 0.9782, Accuracy: 0.6649\n"
     ]
    },
    {
     "name": "stderr",
     "output_type": "stream",
     "text": [
      "                                                                                                                       \r"
     ]
    },
    {
     "name": "stdout",
     "output_type": "stream",
     "text": [
      "Epoch [9/11], Loss: 0.9461, Accuracy: 0.6775\n"
     ]
    },
    {
     "name": "stderr",
     "output_type": "stream",
     "text": [
      "                                                                                                                       \r"
     ]
    },
    {
     "name": "stdout",
     "output_type": "stream",
     "text": [
      "Epoch [10/11], Loss: 0.9063, Accuracy: 0.6874\n"
     ]
    },
    {
     "name": "stderr",
     "output_type": "stream",
     "text": [
      "                                                                                                                       \r"
     ]
    },
    {
     "name": "stdout",
     "output_type": "stream",
     "text": [
      "Epoch [11/11], Loss: 0.8707, Accuracy: 0.7032\n"
     ]
    },
    {
     "data": {
      "image/png": "[encoded data removed]",
      "text/plain": [
       "<Figure size 720x360 with 2 Axes>"
      ]
     },
     "metadata": {
      "needs_background": "light"
     },
     "output_type": "display_data"
    },
    {
     "name": "stdout",
     "output_type": "stream",
     "text": [
      "Training BERT given 15 epochs - Elapsed time: 629.3887054920197 seconds\n",
      "Class: anger\n",
      "Precision: 0.5249\n",
      "Recall: 0.5193\n",
      "F1 Score: 0.5221\n",
      "\n",
      "Class: disgust\n",
      "Precision: 0.3672\n",
      "Recall: 0.3874\n",
      "F1 Score: 0.3770\n",
      "\n",
      "Class: fear\n",
      "Precision: 0.5156\n",
      "Recall: 0.0976\n",
      "F1 Score: 0.1642\n",
      "\n",
      "Class: joy\n",
      "Precision: 0.6802\n",
      "Recall: 0.5346\n",
      "F1 Score: 0.5987\n",
      "\n",
      "Class: neutral\n",
      "Precision: 0.7203\n",
      "Recall: 0.9166\n",
      "F1 Score: 0.8067\n",
      "\n",
      "Class: sadness\n",
      "Precision: 0.5930\n",
      "Recall: 0.2694\n",
      "F1 Score: 0.3705\n",
      "\n",
      "Class: surprise\n",
      "Precision: 0.6871\n",
      "Recall: 0.5114\n",
      "F1 Score: 0.5864\n",
      "\n",
      "Class: macro avg\n",
      "Precision: 0.5841\n",
      "Recall: 0.4623\n",
      "F1 Score: 0.4894\n",
      "\n",
      "Class: weighted avg\n",
      "Precision: 0.6623\n",
      "Recall: 0.6737\n",
      "F1 Score: 0.6516\n",
      "\n",
      "Accuracy: 0.6737\n",
      "Weighted F1 Score: 0.6516\n"
     ]
    }
   ],
   "source": [
    "X_trainTensor, Y_trainTensor = prep_data(concatenatedSelectedRepresentationTrain1, y_train, False)\n",
    "\n",
    "start_time = time.time()\n",
    "\n",
    "fcClf = model_train(X_set=X_trainTensor, \n",
    "                    Y_set=Y_trainTensor,\n",
    "                    input_dim=X_trainTensor.shape[1], \n",
    "                    num_epochs=11, \n",
    "                    num_classes=7)\n",
    "\n",
    "end_time = time.time()\n",
    "elapsed_time = end_time - start_time\n",
    "\n",
    "end_time = time.time()\n",
    "elapsed_time = end_time - start_time\n",
    "print(f\"Training BERT given 15 epochs - Elapsed time: {elapsed_time} seconds\")\n",
    "\n",
    "classify_emotions(fcClf, X_trainTensor, Y_trainTensor, True)"
   ]
  },
  {
   "cell_type": "code",
   "execution_count": 42,
   "id": "dccd7044",
   "metadata": {},
   "outputs": [
    {
     "name": "stdout",
     "output_type": "stream",
     "text": [
      "Label anger: 516 occurrences\n",
      "Label disgust: 99 occurrences\n",
      "Label fear: 60 occurrences\n",
      "Label joy: 495 occurrences\n",
      "Label neutral: 1615 occurrences\n",
      "Label sadness: 263 occurrences\n",
      "Label surprise: 352 occurrences\n",
      "torch.Size([3400, 210]) torch.Size([3400])\n",
      "Class: anger\n",
      "Precision: 0.5181\n",
      "Recall: 0.4438\n",
      "F1 Score: 0.4781\n",
      "\n",
      "Class: disgust\n",
      "Precision: 0.2105\n",
      "Recall: 0.2424\n",
      "F1 Score: 0.2254\n",
      "\n",
      "Class: fear\n",
      "Precision: 0.3333\n",
      "Recall: 0.0500\n",
      "F1 Score: 0.0870\n",
      "\n",
      "Class: joy\n",
      "Precision: 0.5352\n",
      "Recall: 0.4909\n",
      "F1 Score: 0.5121\n",
      "\n",
      "Class: neutral\n",
      "Precision: 0.6855\n",
      "Recall: 0.8650\n",
      "F1 Score: 0.7649\n",
      "\n",
      "Class: sadness\n",
      "Precision: 0.3662\n",
      "Recall: 0.0989\n",
      "F1 Score: 0.1557\n",
      "\n",
      "Class: surprise\n",
      "Precision: 0.5662\n",
      "Recall: 0.4375\n",
      "F1 Score: 0.4936\n",
      "\n",
      "Class: macro avg\n",
      "Precision: 0.4593\n",
      "Recall: 0.3755\n",
      "F1 Score: 0.3881\n",
      "\n",
      "Class: weighted avg\n",
      "Precision: 0.5811\n",
      "Recall: 0.6106\n",
      "F1 Score: 0.5817\n",
      "\n",
      "Accuracy: 0.6106\n",
      "Weighted F1 Score: 0.5817\n"
     ]
    },
    {
     "name": "stderr",
     "output_type": "stream",
     "text": [
      "C:\\Users\\edayo\\AppData\\Local\\Temp\\ipykernel_28788\\3259066277.py:20: UserWarning: To copy construct from a tensor, it is recommended to use sourceTensor.clone().detach() or sourceTensor.clone().detach().requires_grad_(True), rather than torch.tensor(sourceTensor).\n",
      "  X_tensor = torch.tensor(X_set.clone().detach(), dtype=torch.float32).clone().detach()\n",
      "C:\\Users\\edayo\\AppData\\Local\\Temp\\ipykernel_28788\\3259066277.py:21: UserWarning: To copy construct from a tensor, it is recommended to use sourceTensor.clone().detach() or sourceTensor.clone().detach().requires_grad_(True), rather than torch.tensor(sourceTensor).\n",
      "  Y_tensor = torch.tensor(Y_set.clone().detach(), dtype=torch.long).clone().detach()\n"
     ]
    }
   ],
   "source": [
    "# # Predict the test set\n",
    "X_testTensor, Y_testTensor = prep_data(concatenatedSelectedRepresentationTest1, y_test, False)\n",
    "classify_emotions(fcClf, X_testTensor, Y_testTensor, False)"
   ]
  }
 ],
 "metadata": {
  "kernelspec": {
   "display_name": "Python 3 (ipykernel)",
   "language": "python",
   "name": "python3"
  },
  "language_info": {
   "codemirror_mode": {
    "name": "ipython",
    "version": 3
   },
   "file_extension": ".py",
   "mimetype": "text/x-python",
   "name": "python",
   "nbconvert_exporter": "python",
   "pygments_lexer": "ipython3",
   "version": "3.10.4"
  },
  "toc": {
   "base_numbering": 1,
   "nav_menu": {},
   "number_sections": true,
   "sideBar": true,
   "skip_h1_title": false,
   "title_cell": "Table of Contents",
   "title_sidebar": "Contents",
   "toc_cell": false,
   "toc_position": {},
   "toc_section_display": true,
   "toc_window_display": false
  }
 },
 "nbformat": 4,
 "nbformat_minor": 5
}
