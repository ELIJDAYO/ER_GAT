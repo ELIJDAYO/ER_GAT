{
 "cells": [
  {
   "cell_type": "code",
   "execution_count": 10,
   "id": "3274b234",
   "metadata": {},
   "outputs": [],
   "source": [
    "from keras import layers\n",
    "import keras\n",
    "from tensorflow.keras.layers import Input, Bidirectional, LSTM, Dense, GlobalAveragePooling1D\n",
    "from tensorflow.keras.models import Model\n",
    "from tensorflow.keras.layers import LayerNormalization, Dropout, Layer\n",
    "import tensorflow as tf\n",
    "import tensorflow_hub as hub\n",
    "import tensorflow_text as text\n",
    "import matplotlib.pyplot as plt\n",
    "import matplotlib\n",
    "from sklearn.metrics import f1_score, confusion_matrix, classification_report"
   ]
  },
  {
   "cell_type": "code",
   "execution_count": 11,
   "id": "b678671f",
   "metadata": {},
   "outputs": [],
   "source": [
    "\n",
    "\n",
    "# # # Load BERT models from TensorFlow Hub\n",
    "# bert_preprocess = hub.KerasLayer(\"https://tfhub.dev/tensorflow/bert_en_uncased_preprocess/3\")\n",
    "# bert_encoder = hub.KerasLayer(\"https://tfhub.dev/tensorflow/bert_en_uncased_L-12_H-768_A-12/4\")\n",
    "\n",
    "# # Example input text\n",
    "# text_input = [\"This is a test sentence for BERT model.\"]\n",
    "\n",
    "# # Preprocess the input text\n",
    "# preprocessed_text = bert_preprocess(text_input)\n",
    "\n",
    "# # Encode the preprocessed text\n",
    "# outputs = bert_encoder(preprocessed_text)\n",
    "\n",
    "# # Extract the pooled_output (used for classification tasks)\n",
    "# pooled_output = outputs[\"pooled_output\"]\n",
    "\n",
    "# print(\"Pooled Output:\", pooled_output.shape)"
   ]
  },
  {
   "cell_type": "code",
   "execution_count": 12,
   "id": "c7856ebf",
   "metadata": {},
   "outputs": [
    {
     "name": "stdout",
     "output_type": "stream",
     "text": [
      "The autoreload extension is already loaded. To reload it, use:\n",
      "  %reload_ext autoreload\n"
     ]
    }
   ],
   "source": [
    "import os, re, time, pickle, collections, importlib, datetime, torch, nltk, pandas as pd, numpy as np, random\n",
    "from chardet import detect\n",
    "from tqdm import tqdm\n",
    "from collections import defaultdict, Counter\n",
    "from wordebd import WORDEBD\n",
    "from vocab import Vocab, Vectors\n",
    "from munch import Munch\n",
    "from cnnlstmseq import CNNLSTMseq\n",
    "from sklearn.manifold import TSNE\n",
    "import matplotlib.pyplot as plt\n",
    "from sklearn.decomposition import PCA\n",
    "from nltk.tokenize import word_tokenize\n",
    "import torch.nn as nn\n",
    "from torch.nn import MaxPool2d\n",
    "import torch.nn.functional as F\n",
    "from torch.utils.data import DataLoader, TensorDataset, Dataset\n",
    "from model import batch_graphify, LSTMModel,MaskedEdgeAttention\n",
    "from tensorflow.keras.preprocessing.text import Tokenizer\n",
    "from tensorflow.keras.preprocessing.sequence import pad_sequences\n",
    "from tensorflow.keras.models import Model\n",
    "from tensorflow.keras.layers import Input, Embedding, Reshape, Conv2D, MaxPooling2D, Flatten, Dense\n",
    "from tensorflow.keras.layers import  BatchNormalization, MaxPooling2D\n",
    "from tensorflow.keras.layers import Concatenate, Reshape, Dense\n",
    "from tensorflow.keras.callbacks import EarlyStopping\n",
    "from tensorflow.keras.models import Sequential\n",
    "from tensorflow.keras.layers import Dense\n",
    "from tensorflow.keras.utils import to_categorical\n",
    "from tensorflow.keras.models import Sequential\n",
    "from tensorflow.keras.layers import Dense\n",
    "from sklearn.preprocessing import LabelEncoder\n",
    "from sklearn.metrics import confusion_matrix, f1_score\n",
    "import tensorflow_hub as hub\n",
    "import tensorflow as tf\n",
    "from tensorflow.keras.layers import Layer\n",
    "import tensorflow.python.keras.backend as K\n",
    "\n",
    "%load_ext autoreload\n",
    "%autoreload 2"
   ]
  },
  {
   "cell_type": "code",
   "execution_count": 13,
   "id": "2f23de1d",
   "metadata": {},
   "outputs": [],
   "source": [
    "key=False"
   ]
  },
  {
   "cell_type": "markdown",
   "id": "385d7c41",
   "metadata": {},
   "source": [
    "<b>Make sure to specify which dataset to use\n",
    "<br>\n",
    " - dataset_original\n",
    "<br>\n",
    " - dataset_drop_noise\n",
    "<br>\n",
    " - dataset_smote"
   ]
  },
  {
   "cell_type": "code",
   "execution_count": 14,
   "id": "ee5dd7f0",
   "metadata": {},
   "outputs": [],
   "source": [
    "dataset_path = \"dataset_original\"\n",
    "# dataset_path = \"dataset_drop_noise\"\n",
    "# dataset_path = \"dataset_smote\""
   ]
  },
  {
   "cell_type": "code",
   "execution_count": 15,
   "id": "4c5414b9",
   "metadata": {},
   "outputs": [],
   "source": [
    "def processed_data(data):\n",
    "    data = data.apply(lambda x: x.lower())\n",
    "    data = data.apply(lambda x: re.sub('[^a-zA-z0-9\\s]','',x))\n",
    "    return data"
   ]
  },
  {
   "cell_type": "code",
   "execution_count": 16,
   "id": "6fbba9e3",
   "metadata": {
    "code_folding": [
     2
    ]
   },
   "outputs": [],
   "source": [
    "SEED = 42\n",
    "\n",
    "class CNNFeatureExtractor(nn.Module):\n",
    "    def __init__(self, vocab_size, embedding_dim, output_size, filters, kernel_sizes, dropout):\n",
    "        super(CNNFeatureExtractor, self).__init__()\n",
    "        \n",
    "        self.embedding = nn.Embedding(vocab_size, embedding_dim)\n",
    "        self.convs = nn.ModuleList(\n",
    "            [nn.Conv1d(in_channels=embedding_dim, out_channels=filters, kernel_size=K) for K in kernel_sizes])\n",
    "        \n",
    "        self.dropout = nn.Dropout(dropout)\n",
    "        self.fc = nn.Linear(len(kernel_sizes) * filters, output_size)\n",
    "        self.feature_dim = output_size\n",
    "\n",
    "    def init_pretrained_embeddings_from_numpy(self, pretrained_word_vectors):\n",
    "        self.embedding.weight = nn.Parameter(torch.from_numpy(pretrained_word_vectors).float())\n",
    "        self.embedding.weight.requires_grad = False\n",
    "\n",
    "    def forward(self, x, umask):\n",
    "        if len(x.size()) == 2:  # Check if x has only 2 dimensions\n",
    "            num_utt, num_words = x.size()\n",
    "            batch = 1\n",
    "        else:\n",
    "            num_utt, batch, num_words = x.size()\n",
    "\n",
    "        x = x.type(torch.LongTensor)\n",
    "        x = x.view(-1, num_words)  # Flatten to (num_utt * batch, num_words)\n",
    "        torch.manual_seed(SEED)\n",
    "        emb = self.embedding(x)  # Embed (num_utt * batch, num_words) -> (num_utt * batch, num_words, embedding_dim)\n",
    "        emb = emb.transpose(-2, -1).contiguous()  # (num_utt * batch, num_words, embedding_dim) -> (num_utt * batch, embedding_dim, num_words)\n",
    "\n",
    "        convoluted = [F.relu(conv(emb)) for conv in self.convs]\n",
    "        pooled = [F.max_pool1d(c, c.size(2)).squeeze(2) for c in convoluted]\n",
    "        concated = torch.cat(pooled, 1)\n",
    "        features = F.relu(self.fc(self.dropout(concated)))  # Apply dropout and fully connected layer\n",
    "        features = features.view(num_utt, batch, -1)  # Reshape back to (num_utt, batch, feature_dim)\n",
    "\n",
    "        mask = umask.unsqueeze(-1).type(torch.FloatTensor)  # (batch, num_utt) -> (batch, num_utt, 1)\n",
    "        mask = mask.transpose(0, 1)  # (batch, num_utt, 1) -> (num_utt, batch, 1)\n",
    "        mask = mask.repeat(1, 1, self.feature_dim)  # (num_utt, batch, 1) -> (num_utt, batch, feature_dim)\n",
    "        features = features * mask  # Apply mask\n",
    "\n",
    "        return features"
   ]
  },
  {
   "cell_type": "code",
   "execution_count": 17,
   "id": "a273b63b",
   "metadata": {
    "code_folding": [
     0
    ]
   },
   "outputs": [],
   "source": [
    "def get_encoding_type(file):\n",
    "    with open(file, 'rb') as f:\n",
    "        rawdata = f.read()\n",
    "    return detect(rawdata)['encoding']"
   ]
  },
  {
   "cell_type": "code",
   "execution_count": 18,
   "id": "08e24b0d",
   "metadata": {
    "code_folding": [
     0,
     19,
     32,
     46
    ]
   },
   "outputs": [],
   "source": [
    "def load_pretrained_glove():\n",
    "    print(\"Loading GloVe...\")\n",
    "    glv_vector = {}\n",
    "    f = open('embed/glove/glove.840B.300d.txt', encoding='utf-8')\n",
    "    for line in f:\n",
    "        values = line.split()\n",
    "        word = values[0]\n",
    "        try:\n",
    "            coefs = np.asarray(values[1:], dtype='float')\n",
    "            glv_vector[word] = coefs\n",
    "        except ValueError:\n",
    "            continue\n",
    "    f.close()\n",
    "    print(\"Completed loading pretrained GloVe model.\")\n",
    "    return glv_vector\n",
    "\n",
    "def encode_labels(encoder, l):\n",
    "    return encoder[l]\n",
    "\n",
    "def _read_words(data, convmode=None):\n",
    "    '''    \n",
    "    Count the occurrences of all words\n",
    "    @param convmode: str, None for non conversational scope, 'naive' for classic or naive approach, 'conv' for conversation depth into account (one additional dim and nested values)\n",
    "    @param data: list of examples\n",
    "    @return words: list of words (with duplicates)\n",
    "    '''    \n",
    "    words = []\n",
    "    if convmode is None:\n",
    "        for example in data:\n",
    "            words += example.split()\n",
    "    return words\n",
    "\n",
    "def find_value_ranges(lst):\n",
    "    value_ranges = []\n",
    "    start_index = 0\n",
    "\n",
    "    for i in range(1, len(lst)):\n",
    "        if lst[i] != lst[i - 1]:\n",
    "            value_ranges.append((start_index, i - 1))\n",
    "            start_index = i\n",
    "\n",
    "    # Add the last range\n",
    "    value_ranges.append((start_index, len(lst) - 1))\n",
    "\n",
    "    return value_ranges\n",
    "\n",
    "def seed_everything(seed=100):\n",
    "    random.seed(seed)\n",
    "    np.random.seed(seed)\n",
    "    torch.manual_seed(seed)\n",
    "    torch.cuda.manual_seed(seed)\n",
    "    torch.cuda.manual_seed_all(seed)\n",
    "    torch.backends.cudnn.benchmark = False\n",
    "    torch.backends.cudnn.deterministic = True"
   ]
  },
  {
   "cell_type": "code",
   "execution_count": 19,
   "id": "cd611917",
   "metadata": {},
   "outputs": [],
   "source": [
    "# df = pd.read_csv('data/DatasetPreparation/X_train.csv', encoding='shift_jis')\n",
    "\n",
    "# # Print the column names\n",
    "# print(df.columns)\n",
    "\n",
    "# columns_to_use = df.columns[1:]\n"
   ]
  },
  {
   "cell_type": "code",
   "execution_count": 20,
   "id": "0d2cf5f5",
   "metadata": {
    "code_folding": []
   },
   "outputs": [],
   "source": [
    "MAX_PADDING = 100\n",
    "def x_value(data1, data2):\n",
    "    tokenizer = Tokenizer(num_words = 5000, split=\" \")\n",
    "    tokenizer.fit_on_texts(data2['Utterance'].values)\n",
    "    x = tokenizer.texts_to_sequences(data1['Utterance'].values)\n",
    "    x = pad_sequences(x, padding='post', maxlen=MAX_PADDING)\n",
    "    return x\n",
    "\n",
    "def prev_utt_generator(x):\n",
    "    shape = x.shape \n",
    "    zeros = shape[1]\n",
    "    zero_array = np.zeros((1, zeros))\n",
    "    array = np.concatenate((zero_array, x))\n",
    "    req_array = array[:-1]\n",
    "    return req_array"
   ]
  },
  {
   "cell_type": "code",
   "execution_count": 21,
   "id": "1bf1a974",
   "metadata": {},
   "outputs": [
    {
     "name": "stdout",
     "output_type": "stream",
     "text": [
      "(12840, 12)\n",
      "(3400, 12)\n",
      "(1462, 12)\n"
     ]
    }
   ],
   "source": [
    "X_train = pd.read_csv('data/' + dataset_path + '/train_sent_emo_dya.csv', encoding='shift_jis')\n",
    "X_test = pd.read_csv('data/' + dataset_path+ '/test_sent_emo_dya.csv', encoding='utf-8')\n",
    "X_dev = pd.read_csv('data/' + dataset_path + '/dev_sent_emo_dya.csv', encoding='utf-8')\n",
    "\n",
    "\n",
    "# Display the first three rows\n",
    "print(X_train.shape)\n",
    "print(X_test.shape)\n",
    "print(X_dev.shape)\n",
    "\n",
    "# Define features to drop\n",
    "drop_features = list(X_train.columns[6:]) \n",
    "\n",
    "# Create DataFrame for target labels\n",
    "y_train = pd.DataFrame()\n",
    "y_test = pd.DataFrame()\n",
    "y_dev = pd.DataFrame()\n",
    "\n",
    "y_train[\"Emotion\"] = X_train[\"Emotion\"].copy()\n",
    "y_test[\"Emotion\"] = X_test[\"Emotion\"].copy()\n",
    "y_dev[\"Emotion\"] = X_dev[\"Emotion\"].copy()\n",
    "\n",
    "y_train[\"Dialogue_ID\"] = X_train[\"Dialogue_ID\"].copy()\n",
    "y_test[\"Dialogue_ID\"] = X_test[\"Dialogue_ID\"].copy()\n",
    "y_dev[\"Dialogue_ID\"] = X_dev[\"Dialogue_ID\"].copy()\n",
    "\n",
    "\n",
    "\n",
    "# Drop features from X_train DataFrame\n",
    "X_train = X_train.drop(drop_features, axis=1)\n",
    "X_train[\"Utterance\"] = processed_data(X_train[\"Utterance\"]) \n",
    "x_train = x_value(X_train, X_train)\n",
    "\n",
    "X_test = X_test.drop(drop_features, axis=1)\n",
    "X_test[\"Utterance\"] = processed_data(X_test[\"Utterance\"])\n",
    "x_test = x_value(X_test, X_train)\n",
    "\n",
    "X_dev = X_dev.drop(drop_features, axis=1)\n",
    "X_dev[\"Utterance\"] = processed_data(X_dev[\"Utterance\"])\n",
    "x_dev = x_value(X_dev, X_train)"
   ]
  },
  {
   "cell_type": "code",
   "execution_count": 22,
   "id": "14993bac",
   "metadata": {},
   "outputs": [],
   "source": [
    "# x_train_prev = prev_utt_generator(x_train)\n",
    "# x_dev_prev = prev_utt_generator(x_dev)\n",
    "# x_test_prev = prev_utt_generator(x_test)"
   ]
  },
  {
   "cell_type": "markdown",
   "id": "3f7322ae",
   "metadata": {},
   "source": [
    "#### Try the CNN version"
   ]
  },
  {
   "cell_type": "code",
   "execution_count": 23,
   "id": "6d795009",
   "metadata": {},
   "outputs": [
    {
     "name": "stdout",
     "output_type": "stream",
     "text": [
      "Model: \"model\"\n",
      "__________________________________________________________________________________________________\n",
      " Layer (type)                   Output Shape         Param #     Connected to                     \n",
      "==================================================================================================\n",
      " input_1 (InputLayer)           [(None, 100)]        0           []                               \n",
      "                                                                                                  \n",
      " embedding (Embedding)          (None, 100, 256)     3287296     ['input_1[0][0]']                \n",
      "                                                                                                  \n",
      " reshape (Reshape)              (None, 100, 256, 1)  0           ['embedding[0][0]']              \n",
      "                                                                                                  \n",
      " conv2d (Conv2D)                (None, 98, 1, 64)    49216       ['reshape[0][0]']                \n",
      "                                                                                                  \n",
      " conv2d_1 (Conv2D)              (None, 97, 1, 64)    65600       ['reshape[0][0]']                \n",
      "                                                                                                  \n",
      " conv2d_2 (Conv2D)              (None, 96, 1, 64)    81984       ['reshape[0][0]']                \n",
      "                                                                                                  \n",
      " batch_normalization (BatchNorm  (None, 98, 1, 64)   256         ['conv2d[0][0]']                 \n",
      " alization)                                                                                       \n",
      "                                                                                                  \n",
      " batch_normalization_1 (BatchNo  (None, 97, 1, 64)   256         ['conv2d_1[0][0]']               \n",
      " rmalization)                                                                                     \n",
      "                                                                                                  \n",
      " batch_normalization_2 (BatchNo  (None, 96, 1, 64)   256         ['conv2d_2[0][0]']               \n",
      " rmalization)                                                                                     \n",
      "                                                                                                  \n",
      " max_pooling2d (MaxPooling2D)   (None, 1, 1, 64)     0           ['batch_normalization[0][0]']    \n",
      "                                                                                                  \n",
      " max_pooling2d_1 (MaxPooling2D)  (None, 1, 1, 64)    0           ['batch_normalization_1[0][0]']  \n",
      "                                                                                                  \n",
      " max_pooling2d_2 (MaxPooling2D)  (None, 1, 1, 64)    0           ['batch_normalization_2[0][0]']  \n",
      "                                                                                                  \n",
      " concatenate (Concatenate)      (None, 1, 1, 192)    0           ['max_pooling2d[0][0]',          \n",
      "                                                                  'max_pooling2d_1[0][0]',        \n",
      "                                                                  'max_pooling2d_2[0][0]']        \n",
      "                                                                                                  \n",
      " reshape_1 (Reshape)            (None, 192)          0           ['concatenate[0][0]']            \n",
      "                                                                                                  \n",
      " dense (Dense)                  (None, 7)            1351        ['reshape_1[0][0]']              \n",
      "                                                                                                  \n",
      "==================================================================================================\n",
      "Total params: 3,486,215\n",
      "Trainable params: 3,485,831\n",
      "Non-trainable params: 384\n",
      "__________________________________________________________________________________________________\n"
     ]
    }
   ],
   "source": [
    "filter_sizes = [3,4,5]\n",
    "num_filters = 64\n",
    "drop = 0.2\n",
    "VOCAB_SIZE = len(x_train) # 43,731\n",
    "MAX_LENGTH = 100\n",
    "\n",
    "EMBED_SIZE = 256 # arbitary\n",
    "UNIQUE_DA = 5\n",
    "\n",
    "# CNN model\n",
    "inputs = Input(shape=(MAX_LENGTH, ), dtype='int32')\n",
    "embedding = Embedding(input_dim=VOCAB_SIZE+1, \n",
    "                      output_dim=EMBED_SIZE, \n",
    "                      input_length=MAX_LENGTH)(inputs)\n",
    "reshape = Reshape((MAX_LENGTH, EMBED_SIZE, 1))(embedding)\n",
    "\n",
    "# 3 convolutions\n",
    "conv_0 = Conv2D(num_filters, \n",
    "                kernel_size=(filter_sizes[0], EMBED_SIZE), \n",
    "                strides=1, \n",
    "                padding='valid', \n",
    "                kernel_initializer='normal', \n",
    "                activation='relu')(reshape)\n",
    "\n",
    "bn_0 = BatchNormalization()(conv_0)\n",
    "\n",
    "conv_1 = Conv2D(num_filters, \n",
    "                kernel_size=(filter_sizes[1], EMBED_SIZE), \n",
    "                strides=1, \n",
    "                padding='valid', \n",
    "                kernel_initializer='normal', \n",
    "                activation='relu')(reshape)\n",
    "bn_1 = BatchNormalization()(conv_1)\n",
    "\n",
    "conv_2 = Conv2D(num_filters, \n",
    "                kernel_size=(filter_sizes[2], EMBED_SIZE), \n",
    "                strides=1, \n",
    "                padding='valid', \n",
    "                kernel_initializer='normal', \n",
    "                activation='relu')(reshape)\n",
    "bn_2 = BatchNormalization()(conv_2)\n",
    "\n",
    "# maxpool for 3 layers\n",
    "maxpool_0 = MaxPooling2D(pool_size=(MAX_LENGTH - filter_sizes[0] + 1, 1), padding='valid')(bn_0)\n",
    "maxpool_1 = MaxPooling2D(pool_size=(MAX_LENGTH - filter_sizes[1] + 1, 1), padding='valid')(bn_1)\n",
    "maxpool_2 = MaxPooling2D(pool_size=(MAX_LENGTH - filter_sizes[2] + 1, 1), padding='valid')(bn_2)\n",
    "\n",
    "# concatenate tensors\n",
    "merged_1 = Concatenate(axis=-1)([maxpool_0, maxpool_1, maxpool_2])\n",
    "\n",
    "reshape_1 = Reshape((192,), input_shape=(1,1,192))(merged_1)\n",
    "\n",
    "output = Dense(7, activation='softmax')(reshape_1)\n",
    "\n",
    "model = Model(inputs=[inputs], outputs=[output])\n",
    "\n",
    "model.summary()"
   ]
  },
  {
   "cell_type": "code",
   "execution_count": 24,
   "id": "5b3d410a",
   "metadata": {},
   "outputs": [],
   "source": [
    "model.compile(loss='categorical_crossentropy',\n",
    "              optimizer='adam',\n",
    "              metrics=['accuracy'])\n",
    "\n",
    "early_stopping = EarlyStopping(monitor='val_accuracy', \n",
    "                               mode='auto', \n",
    "                               patience=3, \n",
    "                               verbose=1)"
   ]
  },
  {
   "cell_type": "code",
   "execution_count": 25,
   "id": "86036b44",
   "metadata": {
    "code_folding": [
     3,
     10
    ]
   },
   "outputs": [],
   "source": [
    "checkFile1 = os.path.isfile(\"data/dump/\" + dataset_path + \"/label_encoder.pkl\")\n",
    "checkFile2 = os.path.isfile(\"data/dump/\" + dataset_path + \"/label_decoder.pkl\")\n",
    "\n",
    "if not(checkFile1 and checkFile2):\n",
    "    labels = sorted(set(y_train.Emotion))\n",
    "    labelEncoder = {label: i for i, label in enumerate(labels)}\n",
    "    labelDecoder = {i: label for i, label in enumerate(labels)}\n",
    "\n",
    "    pickle.dump(labelEncoder, open('data/dump/' + dataset_path + '/label_encoder.pkl', 'wb'))\n",
    "    pickle.dump(labelDecoder, open('data/dump/' + dataset_path + '/label_decoder.pkl', 'wb'))\n",
    "else:\n",
    "    file1 = open('data/dump/' + dataset_path +'/label_encoder.pkl', 'rb')\n",
    "    file2 = open('data/dump/' + dataset_path + '/label_decoder.pkl', 'rb')\n",
    "    labelEncoder = pickle.load(file1)\n",
    "    labelDecoder = pickle.load(file2)\n",
    "    file1.close()\n",
    "    file2.close()"
   ]
  },
  {
   "cell_type": "code",
   "execution_count": 26,
   "id": "a15940aa",
   "metadata": {
    "code_folding": [
     5
    ]
   },
   "outputs": [],
   "source": [
    "# Check if the file already exists\n",
    "checkFile1 = os.path.isfile(\"data/dump/\" + dataset_path + \"/labels_train.pkl\")\n",
    "checkFile2 = os.path.isfile(\"data/dump/\" + dataset_path + \"/labels_test.pkl\")\n",
    "checkFile3 = os.path.isfile(\"data/dump/\" + dataset_path + \"/labels_dev.pkl\")\n",
    "\n",
    "if not (checkFile1 or checkFile2 or checkFile3):\n",
    "    pickle.dump(X_train[\"Emotion\"], open('data/dump/' + dataset_path + '/labels_train.pkl', 'wb'))\n",
    "    pickle.dump(X_test[\"Emotion\"], open('data/dump/' + dataset_path + '/labels_test.pkl', 'wb'))\n",
    "    pickle.dump(X_dev[\"Emotion\"], open('data/dump/' + dataset_path + '/labels_dev.pkl', 'wb'))"
   ]
  },
  {
   "cell_type": "code",
   "execution_count": 27,
   "id": "7594afad",
   "metadata": {},
   "outputs": [],
   "source": [
    "encoder = LabelEncoder()\n",
    "# Encode training labels\n",
    "y_train['Label'] = encoder.fit_transform(y_train['Emotion'])\n",
    "y_train_encoded = to_categorical(y_train['Label'], num_classes=7)\n",
    "\n",
    "# Encode development labels\n",
    "y_dev['Label'] = encoder.transform(y_dev['Emotion'])\n",
    "y_dev_encoded = to_categorical(y_dev['Label'], num_classes=7)\n",
    "\n",
    "# Encode test labels\n",
    "y_test['Label'] = encoder.transform(y_test['Emotion'])\n",
    "y_test_encoded = to_categorical(y_test['Label'], num_classes=7)"
   ]
  },
  {
   "cell_type": "code",
   "execution_count": 28,
   "id": "ca597143",
   "metadata": {},
   "outputs": [
    {
     "name": "stdout",
     "output_type": "stream",
     "text": [
      "Epoch 1/20\n",
      "402/402 [==============================] - 29s 71ms/step - loss: 1.3833 - accuracy: 0.5470 - val_loss: 1.6140 - val_accuracy: 0.4371\n",
      "Epoch 2/20\n",
      "402/402 [==============================] - 30s 74ms/step - loss: 0.5031 - accuracy: 0.8350 - val_loss: 1.8187 - val_accuracy: 0.3967\n",
      "Epoch 3/20\n",
      "402/402 [==============================] - 29s 71ms/step - loss: 0.2948 - accuracy: 0.9030 - val_loss: 2.1602 - val_accuracy: 0.4302\n",
      "Epoch 4/20\n",
      "402/402 [==============================] - 30s 75ms/step - loss: 0.2307 - accuracy: 0.9222 - val_loss: 2.3512 - val_accuracy: 0.4186\n",
      "Epoch 4: early stopping\n"
     ]
    }
   ],
   "source": [
    "hist = model.fit(x_train, y_train_encoded, \n",
    "                 epochs=20, \n",
    "                 batch_size=32, \n",
    "                 verbose=1,\n",
    "                 callbacks=[early_stopping],\n",
    "                 validation_data=(x_dev, y_dev_encoded))"
   ]
  },
  {
   "cell_type": "code",
   "execution_count": 29,
   "id": "af8224da",
   "metadata": {},
   "outputs": [
    {
     "data": {
      "image/png": "[encoded data removed]",
      "text/plain": [
       "<Figure size 576x360 with 1 Axes>"
      ]
     },
     "metadata": {
      "needs_background": "light"
     },
     "output_type": "display_data"
    }
   ],
   "source": [
    "def plot(history):\n",
    "    pd.DataFrame(history.history).plot(figsize=(8, 5))\n",
    "    plt.grid(True)\n",
    "    plt.show()\n",
    "\n",
    "plot(hist)"
   ]
  },
  {
   "cell_type": "code",
   "execution_count": 30,
   "id": "e34a861e",
   "metadata": {},
   "outputs": [
    {
     "name": "stdout",
     "output_type": "stream",
     "text": [
      "Confusion Matrix\n",
      "\n",
      "[[  52    9   20   78  310   17   30]\n",
      " [   5    5    2   16   57    4   10]\n",
      " [   7    2    3    9   35    2    2]\n",
      " [  27    7   13  171  248   13   16]\n",
      " [  97   15   60  229 1123   47   44]\n",
      " [  28    5   14   25  139   37   15]\n",
      " [  23    7   19   33  161    9  100]]\n"
     ]
    }
   ],
   "source": [
    "y_pred = model.predict(x_test)\n",
    "y_pred = np.argmax(y_pred, axis=1)\n",
    "y_test = np.argmax(y_test_encoded, axis=1)\n",
    "\n",
    "confusion = confusion_matrix(y_test, y_pred)\n",
    "print('Confusion Matrix\\n')\n",
    "print(confusion)"
   ]
  },
  {
   "cell_type": "code",
   "execution_count": 31,
   "id": "d5f1ba94",
   "metadata": {},
   "outputs": [
    {
     "name": "stdout",
     "output_type": "stream",
     "text": [
      "F1 score for each emotion:\n",
      "Emotion 0: 0.1377\n",
      "Emotion 1: 0.0671\n",
      "Emotion 2: 0.0314\n",
      "Emotion 3: 0.3239\n",
      "Emotion 4: 0.6090\n",
      "Emotion 5: 0.1888\n",
      "Emotion 6: 0.3515\n"
     ]
    }
   ],
   "source": [
    "f1_per_emotion = f1_score(y_test, y_pred, average=None)\n",
    "print(\"F1 score for each emotion:\")\n",
    "for idx, score in enumerate(f1_per_emotion):\n",
    "    print(f\"Emotion {idx}: {score:.4f}\")\n"
   ]
  },
  {
   "cell_type": "code",
   "execution_count": 32,
   "id": "f547e349",
   "metadata": {},
   "outputs": [
    {
     "name": "stdout",
     "output_type": "stream",
     "text": [
      "F1 score(macro) 0.24420160221697104\n",
      "F1 score(micro) 0.4385294117647059\n"
     ]
    }
   ],
   "source": [
    "print(\"F1 score(macro)\",f1_score(y_test, y_pred, average='macro'))\n",
    "print(\"F1 score(micro)\",f1_score(y_test, y_pred, average='micro'))"
   ]
  },
  {
   "cell_type": "code",
   "execution_count": 33,
   "id": "6ea255d3",
   "metadata": {},
   "outputs": [
    {
     "name": "stdout",
     "output_type": "stream",
     "text": [
      "              precision    recall  f1-score   support\n",
      "\n",
      "       anger     0.2176    0.1008    0.1377       516\n",
      "     disgust     0.1000    0.0505    0.0671        99\n",
      "        fear     0.0229    0.0500    0.0314        60\n",
      "         joy     0.3048    0.3455    0.3239       495\n",
      "     neutral     0.5417    0.6954    0.6090      1615\n",
      "     sadness     0.2868    0.1407    0.1888       263\n",
      "    surprise     0.4608    0.2841    0.3515       352\n",
      "\n",
      "    accuracy                         0.4385      3400\n",
      "   macro avg     0.2764    0.2381    0.2442      3400\n",
      "weighted avg     0.4079    0.4385    0.4108      3400\n",
      "\n"
     ]
    }
   ],
   "source": [
    "# Classification report (includes F1 score for each class, precision, recall, and support)\n",
    "target_names = list(labelDecoder.values())  # Assuming labelDecoder is defined\n",
    "print(classification_report(y_test, y_pred, target_names=target_names, digits=4))"
   ]
  },
  {
   "cell_type": "code",
   "execution_count": 34,
   "id": "ed47d045",
   "metadata": {},
   "outputs": [],
   "source": [
    "df_predictions = pd.DataFrame({\n",
    "    'true_label': y_test,\n",
    "    'predicted_label': y_pred\n",
    "})\n",
    "\n",
    "\n",
    "file_name = f\"data/dump/{dataset_path}/CNNBiLSTM_data_for_classifier/CNN_predictedTest.pkl\"\n",
    "directory = os.path.dirname(file_name)\n",
    "if not os.path.exists(directory):\n",
    "    os.makedirs(directory)\n",
    "    \n",
    "with open(file_name, 'wb') as file:\n",
    "    pickle.dump(df_predictions, file)"
   ]
  },
  {
   "cell_type": "markdown",
   "id": "1992c643",
   "metadata": {},
   "source": [
    "#### TODO Get the predicted label of saved in csv"
   ]
  },
  {
   "cell_type": "code",
   "execution_count": null,
   "id": "33aff141",
   "metadata": {},
   "outputs": [],
   "source": []
  },
  {
   "cell_type": "code",
   "execution_count": null,
   "id": "c4ec07ab",
   "metadata": {},
   "outputs": [],
   "source": []
  },
  {
   "cell_type": "markdown",
   "id": "5fa9a5a2",
   "metadata": {},
   "source": [
    "#### Trying the BERT version"
   ]
  },
  {
   "cell_type": "code",
   "execution_count": 49,
   "id": "df9d0ce7",
   "metadata": {},
   "outputs": [],
   "source": [
    "x_train = X_train[\"Utterance\"].to_numpy()\n",
    "x_train = np.asarray(x_train).astype(str)\n",
    "y_train_encoded = np.asarray(y_train_encoded).astype('float32')\n",
    "\n",
    "x_test = X_test[\"Utterance\"].to_numpy()\n",
    "x_test = np.asarray(x_test).astype(str)\n",
    "y_test_encoded = np.asarray(y_test_encoded).astype('float32')\n",
    "\n",
    "x_dev = X_dev[\"Utterance\"].to_numpy()\n",
    "x_dev = np.asarray(x_dev).astype(str)\n",
    "y_val_encoded = np.asarray(y_dev_encoded).astype('float32')"
   ]
  },
  {
   "cell_type": "code",
   "execution_count": 50,
   "id": "477ae5de",
   "metadata": {},
   "outputs": [],
   "source": [
    "class TransformerBlock(tf.keras.layers.Layer):\n",
    "    def __init__(self, embed_dim, num_heads, ff_dim, rate=0.1):\n",
    "        super(TransformerBlock, self).__init__()\n",
    "        self.att = tf.keras.layers.MultiHeadAttention(num_heads=num_heads, key_dim=embed_dim)\n",
    "        self.ffn = tf.keras.Sequential(\n",
    "            [Dense(ff_dim, activation=\"relu\"), Dense(embed_dim)]\n",
    "        )\n",
    "        self.layernorm1 = LayerNormalization(epsilon=1e-6)\n",
    "        self.layernorm2 = LayerNormalization(epsilon=1e-6)\n",
    "        self.dropout1 = Dropout(rate)\n",
    "        self.dropout2 = Dropout(rate)\n",
    "\n",
    "    def call(self, inputs, training):\n",
    "        attn_output = self.att(inputs, inputs)\n",
    "        attn_output = self.dropout1(attn_output, training=training)\n",
    "        out1 = self.layernorm1(inputs + attn_output)\n",
    "        ffn_output = self.ffn(out1)\n",
    "        ffn_output = self.dropout2(ffn_output, training=training)\n",
    "        return self.layernorm2(out1 + ffn_output)"
   ]
  },
  {
   "cell_type": "code",
   "execution_count": 51,
   "id": "a463ac07",
   "metadata": {},
   "outputs": [
    {
     "name": "stderr",
     "output_type": "stream",
     "text": [
      "C:\\Users\\edayo\\AppData\\Local\\Temp\\ipykernel_15060\\2871278467.py:5: FutureWarning: Series.ravel is deprecated. The underlying array is already 1D, so ravel is not necessary.  Use `to_numpy()` for conversion to a numpy array instead.\n",
      "  x_train_rv = X_test[\"Utterance\"].ravel()\n",
      "C:\\Users\\edayo\\AppData\\Local\\Temp\\ipykernel_15060\\2871278467.py:6: FutureWarning: Series.ravel is deprecated. The underlying array is already 1D, so ravel is not necessary.  Use `to_numpy()` for conversion to a numpy array instead.\n",
      "  x_dev_rv = X_dev[\"Utterance\"].ravel()\n"
     ]
    }
   ],
   "source": [
    "embed_dim = 128\n",
    "num_heads = 3\n",
    "ff_dim = 32\n",
    "\n",
    "x_train_rv = X_test[\"Utterance\"].ravel()\n",
    "x_dev_rv = X_dev[\"Utterance\"].ravel()"
   ]
  },
  {
   "cell_type": "code",
   "execution_count": 61,
   "id": "0ee139ea",
   "metadata": {},
   "outputs": [
    {
     "name": "stdout",
     "output_type": "stream",
     "text": [
      "Model: \"model_13\"\n",
      "__________________________________________________________________________________________________\n",
      " Layer (type)                   Output Shape         Param #     Connected to                     \n",
      "==================================================================================================\n",
      " Text (InputLayer)              [(None,)]            0           []                               \n",
      "                                                                                                  \n",
      " keras_layer_4 (KerasLayer)     {'input_type_ids':   0           ['Text[0][0]']                   \n",
      "                                (None, 128),                                                      \n",
      "                                 'input_mask': (Non                                               \n",
      "                                e, 128),                                                          \n",
      "                                 'input_word_ids':                                                \n",
      "                                (None, 128)}                                                      \n",
      "                                                                                                  \n",
      " keras_layer_5 (KerasLayer)     {'pooled_output': (  109482241   ['keras_layer_4[4][0]',          \n",
      "                                None, 768),                       'keras_layer_4[4][1]',          \n",
      "                                 'sequence_output':               'keras_layer_4[4][2]']          \n",
      "                                 (None, 128, 768),                                                \n",
      "                                 'encoder_outputs':                                               \n",
      "                                 [(None, 128, 768),                                               \n",
      "                                 (None, 128, 768),                                                \n",
      "                                 (None, 128, 768),                                                \n",
      "                                 (None, 128, 768),                                                \n",
      "                                 (None, 128, 768),                                                \n",
      "                                 (None, 128, 768),                                                \n",
      "                                 (None, 128, 768),                                                \n",
      "                                 (None, 128, 768),                                                \n",
      "                                 (None, 128, 768),                                                \n",
      "                                 (None, 128, 768),                                                \n",
      "                                 (None, 128, 768),                                                \n",
      "                                 (None, 128, 768)],                                               \n",
      "                                 'default': (None,                                                \n",
      "                                768)}                                                             \n",
      "                                                                                                  \n",
      " bidirectional_7 (Bidirectional  (None, 128, 128)    426496      ['keras_layer_5[4][12]']         \n",
      " )                                                                                                \n",
      "                                                                                                  \n",
      " transformer_block_7 (Transform  (None, 128, 128)    206752      ['bidirectional_7[0][0]']        \n",
      " erBlock)                                                                                         \n",
      "                                                                                                  \n",
      " global_average_pooling1d_7 (Gl  (None, 128)         0           ['transformer_block_7[0][0]']    \n",
      " obalAveragePooling1D)                                                                            \n",
      "                                                                                                  \n",
      " dense_23 (Dense)               (None, 7)            903         ['global_average_pooling1d_7[0][0\n",
      "                                                                 ]']                              \n",
      "                                                                                                  \n",
      "==================================================================================================\n",
      "Total params: 110,116,392\n",
      "Trainable params: 634,151\n",
      "Non-trainable params: 109,482,241\n",
      "__________________________________________________________________________________________________\n"
     ]
    }
   ],
   "source": [
    "text_input = Input(shape=(), dtype=tf.string, name='Text')\n",
    "preprocess_text = bert_preprocess(text_input)\n",
    "encode_output = bert_encoder(preprocess_text)['encoder_outputs'][11]  # Output of the last encoded layer\n",
    "\n",
    "# BiLSTM layer\n",
    "bilstm = Bidirectional(LSTM(\n",
    "    units=64,\n",
    "    dropout=0.2,\n",
    "    return_sequences=True))(encode_output)\n",
    "\n",
    "\n",
    "att = TransformerBlock(embed_dim, num_heads, ff_dim)(bilstm)\n",
    "pool = GlobalAveragePooling1D()(att)\n",
    "\n",
    "# Output layer\n",
    "output = Dense(7, activation='softmax')(pool)\n",
    "\n",
    "# Define the model\n",
    "model = Model(inputs=text_input, outputs=output)\n",
    "\n",
    "model=keras.Model(text_input,output)\n",
    "early_stopping = keras.callbacks.EarlyStopping(monitor='val_accuracy', \n",
    "                                               mode='auto', \n",
    "                                               patience=3, \n",
    "                                               verbose=1)\n",
    "\n",
    "# Compile the model\n",
    "model.compile(optimizer='adam', loss='categorical_crossentropy', metrics=['accuracy'])\n",
    "\n",
    "# Model summary\n",
    "model.summary()"
   ]
  },
  {
   "cell_type": "code",
   "execution_count": 54,
   "id": "c84e18c5",
   "metadata": {},
   "outputs": [
    {
     "name": "stdout",
     "output_type": "stream",
     "text": [
      "x_train shape: (12840,)\n"
     ]
    }
   ],
   "source": [
    "print(f\"x_train shape: {x_train.shape}\")"
   ]
  },
  {
   "cell_type": "code",
   "execution_count": 77,
   "id": "1cbebf20",
   "metadata": {},
   "outputs": [
    {
     "name": "stdout",
     "output_type": "stream",
     "text": [
      "Epoch 1/15\n",
      "402/402 [==============================] - 2959s 7s/step - loss: 1.3449 - accuracy: 0.5229 - val_loss: 1.3462 - val_accuracy: 0.5055\n",
      "Epoch 2/15\n",
      "402/402 [==============================] - 3041s 8s/step - loss: 1.2279 - accuracy: 0.5550 - val_loss: 1.3357 - val_accuracy: 0.5007\n",
      "Epoch 3/15\n",
      "402/402 [==============================] - 2940s 7s/step - loss: 1.1298 - accuracy: 0.5879 - val_loss: 1.4588 - val_accuracy: 0.4945\n",
      "Epoch 4/15\n",
      "402/402 [==============================] - 3010s 7s/step - loss: 0.9927 - accuracy: 0.6447 - val_loss: 1.5401 - val_accuracy: 0.4774\n",
      "Epoch 4: early stopping\n"
     ]
    }
   ],
   "source": [
    "hist = model.fit(\n",
    "    x_train, y_train_encoded, \n",
    "          epochs=15, \n",
    "          batch_size=32, \n",
    "          verbose=1,\n",
    "          callbacks=[early_stopping],\n",
    "          validation_data=(x_dev, y_dev_encoded)\n",
    "                )"
   ]
  },
  {
   "cell_type": "code",
   "execution_count": 78,
   "id": "df94f2f8",
   "metadata": {},
   "outputs": [
    {
     "data": {
      "image/png": "[encoded data removed]",
      "text/plain": [
       "<Figure size 800x500 with 1 Axes>"
      ]
     },
     "metadata": {
      "needs_background": "light"
     },
     "output_type": "display_data"
    }
   ],
   "source": [
    "matplotlib.rcParams['figure.dpi'] = 100\n",
    "\n",
    "def plot(history):\n",
    "    pd.DataFrame(history.history).plot(figsize=(8, 5))\n",
    "    plt.grid(True)\n",
    "    plt.show()\n",
    "    \n",
    "plot(hist)"
   ]
  },
  {
   "cell_type": "code",
   "execution_count": 79,
   "id": "a90581b4",
   "metadata": {},
   "outputs": [
    {
     "name": "stdout",
     "output_type": "stream",
     "text": [
      "107/107 [==============================] - 684s 6s/step - loss: 1.4920 - accuracy: 0.5253\n"
     ]
    },
    {
     "data": {
      "text/plain": [
       "[1.4919867515563965, 0.5252941250801086]"
      ]
     },
     "execution_count": 79,
     "metadata": {},
     "output_type": "execute_result"
    }
   ],
   "source": [
    "model.evaluate(x_test, y_test_encoded)"
   ]
  },
  {
   "cell_type": "code",
   "execution_count": 80,
   "id": "8aadb2fe",
   "metadata": {},
   "outputs": [
    {
     "name": "stdout",
     "output_type": "stream",
     "text": [
      "Confusion Matrix\n",
      "\n",
      "[[  72   22    3   32  298   14   75]\n",
      " [   9   18    2    2   49    9   10]\n",
      " [   5    0    5    3   34    5    8]\n",
      " [  11    3    0   94  350    8   29]\n",
      " [  37   12    1   54 1376   23  112]\n",
      " [   8   10    1   11  176   42   15]\n",
      " [   6    3    2   21  133    8  179]]\n"
     ]
    }
   ],
   "source": [
    "y_pred = model.predict(x_test)\n",
    "\n",
    "y_pred = np.argmax(y_pred, axis=1)\n",
    "y_test = np.argmax(y_test_encoded, axis=1)\n",
    "\n",
    "confusion = confusion_matrix(y_test, y_pred)\n",
    "print('Confusion Matrix\\n')\n",
    "print(confusion)"
   ]
  },
  {
   "cell_type": "code",
   "execution_count": 73,
   "id": "05be7fdb",
   "metadata": {},
   "outputs": [
    {
     "name": "stdout",
     "output_type": "stream",
     "text": [
      "Confusion Matrix\n",
      "\n",
      "[[ 176    0    0   26  222   48   44]\n",
      " [  42    0    0    2   31    8   16]\n",
      " [  22    0    0    2   20   13    3]\n",
      " [  45    0    0   86  288   44   32]\n",
      " [ 161    0    0  127 1009  177  141]\n",
      " [  54    0    0   18   82   90   19]\n",
      " [  56    0    0   18  116   21  141]]\n"
     ]
    }
   ],
   "source": [
    "confusion = confusion_matrix(y_test, y_pred)\n",
    "print('Confusion Matrix\\n')\n",
    "print(confusion)"
   ]
  },
  {
   "cell_type": "code",
   "execution_count": 81,
   "id": "1a751989",
   "metadata": {},
   "outputs": [
    {
     "name": "stdout",
     "output_type": "stream",
     "text": [
      "F1 score(macro) 0.3141580324153164\n",
      "F1 score(micro) 0.5252941176470588\n"
     ]
    }
   ],
   "source": [
    "print(\"F1 score(macro)\",f1_score(y_test, y_pred, average='macro'))\n",
    "print(\"F1 score(micro)\",f1_score(y_test, y_pred, average='micro'))"
   ]
  },
  {
   "cell_type": "code",
   "execution_count": null,
   "id": "1e832efc",
   "metadata": {},
   "outputs": [],
   "source": []
  },
  {
   "cell_type": "code",
   "execution_count": null,
   "id": "6f5abcfa",
   "metadata": {},
   "outputs": [],
   "source": [
    "rangesTrain = find_value_ranges(X_train[\"Dialogue_ID\"])\n",
    "print(len(rangesTrain))\n",
    "\n",
    "rangesTest = find_value_ranges(X_test[\"Dialogue_ID\"])\n",
    "print(len(rangesTest))\n",
    "\n",
    "rangesDev = find_value_ranges(X_dev[\"Dialogue_ID\"])\n",
    "print(len(rangesDev))"
   ]
  },
  {
   "cell_type": "code",
   "execution_count": 14,
   "id": "6458f659",
   "metadata": {},
   "outputs": [],
   "source": [
    "checkFile = os.path.isfile(\"embed/glove/\" + dataset_path + \"/tokenizer.pkl\")\n",
    "\n",
    "## tokenize all sentences ##\n",
    "if not checkFile:\n",
    "    all_text = list(X_train[\"Utterance\"])\n",
    "    tokenizer = Tokenizer()\n",
    "    tokenizer.fit_on_texts(all_text)\n",
    "    pickle.dump(tokenizer, open('embed/glove/' + dataset_path + '/tokenizer.pkl', 'wb'))\n",
    "else:\n",
    "    file1 = open('embed/glove/' + dataset_path + '/tokenizer.pkl', 'rb')\n",
    "    tokenizer = pickle.load(file1)"
   ]
  },
  {
   "cell_type": "code",
   "execution_count": 34,
   "id": "1caa67cb",
   "metadata": {},
   "outputs": [],
   "source": [
    "## convert the sentences into sequences ##\n",
    "train_sequence = tokenizer.texts_to_sequences(list(X_train['Utterance']))\n",
    "dev_sequence = tokenizer.texts_to_sequences(list(X_dev['Utterance']))\n",
    "test_sequence = tokenizer.texts_to_sequences(list(X_test['Utterance']))\n",
    "\n",
    "X_train['sentence_length'] = [len(item) for item in train_sequence]\n",
    "X_dev['sentence_length'] = [len(item) for item in dev_sequence]\n",
    "X_test['sentence_length'] = [len(item) for item in test_sequence]"
   ]
  },
  {
   "cell_type": "code",
   "execution_count": 16,
   "id": "ae3a80d0",
   "metadata": {},
   "outputs": [],
   "source": [
    "max_num_tokens = 250\n",
    "\n",
    "train_sequence = pad_sequences(train_sequence, maxlen=max_num_tokens, padding='post')\n",
    "dev_sequence = pad_sequences(dev_sequence, maxlen=max_num_tokens, padding='post')\n",
    "test_sequence = pad_sequences(test_sequence, maxlen=max_num_tokens, padding='post')\n",
    "\n",
    "X_train['sequence'] = list(train_sequence)\n",
    "X_dev['sequence'] = list(dev_sequence)\n",
    "X_test['sequence'] = list(test_sequence)"
   ]
  },
  {
   "cell_type": "code",
   "execution_count": 17,
   "id": "44bd8817",
   "metadata": {},
   "outputs": [
    {
     "data": {
      "text/html": [
       "<div>\n",
       "<style scoped>\n",
       "    .dataframe tbody tr th:only-of-type {\n",
       "        vertical-align: middle;\n",
       "    }\n",
       "\n",
       "    .dataframe tbody tr th {\n",
       "        vertical-align: top;\n",
       "    }\n",
       "\n",
       "    .dataframe thead th {\n",
       "        text-align: right;\n",
       "    }\n",
       "</style>\n",
       "<table border=\"1\" class=\"dataframe\">\n",
       "  <thead>\n",
       "    <tr style=\"text-align: right;\">\n",
       "      <th></th>\n",
       "      <th>Utterance</th>\n",
       "      <th>Speaker</th>\n",
       "      <th>Emotion</th>\n",
       "      <th>Sentiment</th>\n",
       "      <th>Dialogue_ID</th>\n",
       "      <th>Utterance_ID</th>\n",
       "      <th>sentence_length</th>\n",
       "      <th>sequence</th>\n",
       "    </tr>\n",
       "  </thead>\n",
       "  <tbody>\n",
       "    <tr>\n",
       "      <th>0</th>\n",
       "      <td>also I was the point person on my company’s tr...</td>\n",
       "      <td>Chandler</td>\n",
       "      <td>neutral</td>\n",
       "      <td>neutral</td>\n",
       "      <td>0</td>\n",
       "      <td>0</td>\n",
       "      <td>18</td>\n",
       "      <td>[455, 1, 32, 3, 940, 443, 28, 18, 3621, 3622, ...</td>\n",
       "    </tr>\n",
       "    <tr>\n",
       "      <th>1</th>\n",
       "      <td>You must’ve had your hands full.</td>\n",
       "      <td>The Interviewer</td>\n",
       "      <td>neutral</td>\n",
       "      <td>neutral</td>\n",
       "      <td>0</td>\n",
       "      <td>1</td>\n",
       "      <td>6</td>\n",
       "      <td>[2, 1120, 104, 45, 706, 871, 0, 0, 0, 0, 0, 0,...</td>\n",
       "    </tr>\n",
       "    <tr>\n",
       "      <th>2</th>\n",
       "      <td>That I did. That I did.</td>\n",
       "      <td>Chandler</td>\n",
       "      <td>neutral</td>\n",
       "      <td>neutral</td>\n",
       "      <td>0</td>\n",
       "      <td>2</td>\n",
       "      <td>6</td>\n",
       "      <td>[9, 1, 76, 9, 1, 76, 0, 0, 0, 0, 0, 0, 0, 0, 0...</td>\n",
       "    </tr>\n",
       "    <tr>\n",
       "      <th>3</th>\n",
       "      <td>So let’s talk a little bit about your duties.</td>\n",
       "      <td>The Interviewer</td>\n",
       "      <td>neutral</td>\n",
       "      <td>neutral</td>\n",
       "      <td>0</td>\n",
       "      <td>3</td>\n",
       "      <td>9</td>\n",
       "      <td>[17, 228, 193, 5, 96, 487, 51, 45, 1971, 0, 0,...</td>\n",
       "    </tr>\n",
       "    <tr>\n",
       "      <th>4</th>\n",
       "      <td>My duties?  All right.</td>\n",
       "      <td>Chandler</td>\n",
       "      <td>surprise</td>\n",
       "      <td>positive</td>\n",
       "      <td>0</td>\n",
       "      <td>4</td>\n",
       "      <td>4</td>\n",
       "      <td>[18, 1971, 29, 36, 0, 0, 0, 0, 0, 0, 0, 0, 0, ...</td>\n",
       "    </tr>\n",
       "  </tbody>\n",
       "</table>\n",
       "</div>"
      ],
      "text/plain": [
       "                                           Utterance          Speaker  \\\n",
       "0  also I was the point person on my company’s tr...         Chandler   \n",
       "1                   You must’ve had your hands full.  The Interviewer   \n",
       "2                            That I did. That I did.         Chandler   \n",
       "3      So let’s talk a little bit about your duties.  The Interviewer   \n",
       "4                             My duties?  All right.         Chandler   \n",
       "\n",
       "    Emotion Sentiment  Dialogue_ID  Utterance_ID  sentence_length  \\\n",
       "0   neutral   neutral            0             0               18   \n",
       "1   neutral   neutral            0             1                6   \n",
       "2   neutral   neutral            0             2                6   \n",
       "3   neutral   neutral            0             3                9   \n",
       "4  surprise  positive            0             4                4   \n",
       "\n",
       "                                            sequence  \n",
       "0  [455, 1, 32, 3, 940, 443, 28, 18, 3621, 3622, ...  \n",
       "1  [2, 1120, 104, 45, 706, 871, 0, 0, 0, 0, 0, 0,...  \n",
       "2  [9, 1, 76, 9, 1, 76, 0, 0, 0, 0, 0, 0, 0, 0, 0...  \n",
       "3  [17, 228, 193, 5, 96, 487, 51, 45, 1971, 0, 0,...  \n",
       "4  [18, 1971, 29, 36, 0, 0, 0, 0, 0, 0, 0, 0, 0, ...  "
      ]
     },
     "execution_count": 17,
     "metadata": {},
     "output_type": "execute_result"
    }
   ],
   "source": [
    "X_train.head()"
   ]
  },
  {
   "cell_type": "code",
   "execution_count": 18,
   "id": "d04fb6d0",
   "metadata": {},
   "outputs": [
    {
     "name": "stdout",
     "output_type": "stream",
     "text": [
      "also I was the point person on my company’s transition from the KL-5 to GR-6 system.\n"
     ]
    }
   ],
   "source": [
    "print(X_train['Utterance'][0])"
   ]
  },
  {
   "cell_type": "code",
   "execution_count": 19,
   "id": "4ea2580c",
   "metadata": {},
   "outputs": [
    {
     "name": "stdout",
     "output_type": "stream",
     "text": [
      "Loading GloVe...\n",
      "Completed loading pretrained GloVe model.\n"
     ]
    }
   ],
   "source": [
    "checkFile = os.path.isfile(\"embed/glove/\" + dataset_path + \"/glv_embedding_matrix.pkl\")\n",
    "\n",
    "if True or not checkFile:\n",
    "    glv_vector = load_pretrained_glove()\n",
    "    word_vector_length = len(glv_vector['the'])\n",
    "    word_index = tokenizer.word_index\n",
    "    inv_word_index = {v: k for k, v in word_index.items()}\n",
    "    num_unique_words = len(word_index)\n",
    "    glv_embedding_matrix = np.zeros((num_unique_words + 1, word_vector_length))\n",
    "    pickle.dump(glv_embedding_matrix, open('embed/glove/' + dataset_path + '/glv_embedding_matrix.pkl', 'wb'))\n",
    "else:\n",
    "    file1 = open('embed/glove/' + dataset_path + '/glv_embedding_matrix.pkl', 'rb')\n",
    "    glv_embedding_matrix = pickle.load(file1)"
   ]
  },
  {
   "cell_type": "code",
   "execution_count": 20,
   "id": "4ac41b45",
   "metadata": {
    "scrolled": true
   },
   "outputs": [
    {
     "name": "stdout",
     "output_type": "stream",
     "text": [
      "Done. Completed preprocessing.\n"
     ]
    }
   ],
   "source": [
    "checkFile = os.path.isfile('embed/glove/' + dataset_path + '/pretrained_glv_embedding_matrix')\n",
    "\n",
    "if True or not checkFile:\n",
    "    for j in range(1, num_unique_words + 1):\n",
    "        try:\n",
    "            glv_embedding_matrix[j] = glv_vector[inv_word_index[j]]\n",
    "        except KeyError:\n",
    "            glv_embedding_matrix[j] = np.random.randn(word_vector_length) / 200\n",
    "\n",
    "    np.ndarray.dump(glv_embedding_matrix, open('embed/glove/' + dataset_path + '/pretrained_glv_embedding_matrix', 'wb'))\n",
    "    vocab_size = word_vector_length\n",
    "    print('Done. Completed preprocessing.')\n",
    "    \n",
    "else:\n",
    "#     file1 = open('embed/glove/pretrained_glv_embedding_matrix', 'rb')\n",
    "#     glv_embedding_matrix = pickle.load(file1)\n",
    "    glv_embedding_matrix = np.load(open('embed/glove/' + dataset_path + '/pretrained_glv_embedding_matrix', 'rb'), allow_pickle=True)\n",
    "    vocab_size, embedding_dim = glv_embedding_matrix.shape"
   ]
  },
  {
   "cell_type": "code",
   "execution_count": 21,
   "id": "fc4bde77",
   "metadata": {},
   "outputs": [],
   "source": [
    "# change D_m into\n",
    "D_m = 100\n",
    "D_g = 150\n",
    "D_p = 150\n",
    "D_e = 100\n",
    "D_h = 100\n",
    "D_a = 100\n",
    "graph_h=100\n",
    "seed_everything()"
   ]
  },
  {
   "cell_type": "code",
   "execution_count": 22,
   "id": "31b6cca4",
   "metadata": {},
   "outputs": [],
   "source": [
    "cnn_feat_extractor = CNNFeatureExtractor(vocab_size=vocab_size, embedding_dim=300, output_size=100, filters=50, kernel_sizes=(3, 4, 5), dropout=0.5)\n",
    "cnn_feat_extractor.init_pretrained_embeddings_from_numpy(glv_embedding_matrix)\n",
    "lstm = nn.LSTM(input_size=D_m, hidden_size=D_e, num_layers=2, bidirectional=True, dropout=0.5)"
   ]
  },
  {
   "cell_type": "markdown",
   "id": "635c6c03",
   "metadata": {},
   "source": [
    "<h4> Getting speaker encoder for train set¶"
   ]
  },
  {
   "cell_type": "code",
   "execution_count": 23,
   "id": "07e5e63e",
   "metadata": {},
   "outputs": [
    {
     "name": "stdout",
     "output_type": "stream",
     "text": [
      "2160\n",
      "577\n",
      "270\n"
     ]
    }
   ],
   "source": [
    "rangesTrain = find_value_ranges(X_train[\"Dialogue_ID\"])\n",
    "print(len(rangesTrain))\n",
    "rangesTest = find_value_ranges(X_test[\"Dialogue_ID\"])\n",
    "print(len(rangesTest))\n",
    "rangesDev = find_value_ranges(X_dev[\"Dialogue_ID\"])\n",
    "print(len(rangesDev))"
   ]
  },
  {
   "cell_type": "code",
   "execution_count": 24,
   "id": "4459dbb5",
   "metadata": {
    "code_folding": [
     4
    ]
   },
   "outputs": [
    {
     "name": "stderr",
     "output_type": "stream",
     "text": [
      "C:\\Users\\edayo\\AppData\\Local\\Temp\\ipykernel_9644\\2247667134.py:13: FutureWarning: Downcasting behavior in `replace` is deprecated and will be removed in a future version. To retain the old behavior, explicitly call `result.infer_objects(copy=False)`. To opt-in to the future behavior, set `pd.set_option('future.no_silent_downcasting', True)`\n",
      "  encoded_speaker = speaker_per_dialog.replace(speaker_encoder)\n"
     ]
    }
   ],
   "source": [
    "# Check if the file exists\n",
    "checkFile = os.path.isfile(\"data/dump/\" + dataset_path + \"/speaker_encoder_train.pkl\")\n",
    "encodedSpeakersTrain = []\n",
    "\n",
    "if True or not checkFile:\n",
    "    for range_pair in rangesTrain:\n",
    "        start_idx, end_idx = range_pair\n",
    "        speaker_per_dialog = X_train['Speaker'][start_idx:end_idx + 1].copy()\n",
    "        speaker_feature = sorted(set(speaker_per_dialog))\n",
    "        speaker_encoder = {feature: i for i, feature in enumerate(speaker_feature)}\n",
    "        speaker_decoder = {i: feature for i, feature in enumerate(speaker_feature)}\n",
    "\n",
    "        encoded_speaker = speaker_per_dialog.replace(speaker_encoder)\n",
    "        encodedSpeakersTrain.append(encoded_speaker)\n",
    "\n",
    "    # Save encoded speaker list and ranges to a file using pickle\n",
    "    file_path = 'data/dump/' + dataset_path + '/speaker_encoder_train.pkl'\n",
    "    with open(file_path, 'wb') as file:\n",
    "        pickle.dump([encodedSpeakersTrain, rangesTrain], file)\n",
    "else:\n",
    "    # Load encoded speaker list and ranges from the existing pickle file\n",
    "    file = open('data/dump/' + dataset_path + '/speaker_encoder_train.pkl', \"rb\")\n",
    "    encodedSpeakersTrain, rangesTrain = pickle.load(file)\n",
    "    file.close()"
   ]
  },
  {
   "cell_type": "markdown",
   "id": "f1cf00b0",
   "metadata": {},
   "source": [
    "<h4> Getting speaker encoder for test set"
   ]
  },
  {
   "cell_type": "code",
   "execution_count": 25,
   "id": "2df3e0b0",
   "metadata": {
    "code_folding": [
     4
    ]
   },
   "outputs": [
    {
     "name": "stderr",
     "output_type": "stream",
     "text": [
      "C:\\Users\\edayo\\AppData\\Local\\Temp\\ipykernel_9644\\970745468.py:13: FutureWarning: Downcasting behavior in `replace` is deprecated and will be removed in a future version. To retain the old behavior, explicitly call `result.infer_objects(copy=False)`. To opt-in to the future behavior, set `pd.set_option('future.no_silent_downcasting', True)`\n",
      "  encoded_speaker = speaker_per_dialog.replace(speaker_encoder)\n"
     ]
    }
   ],
   "source": [
    "# Check if the file exists\n",
    "checkFile = os.path.isfile(\"data/dump/\" + dataset_path + \"/speaker_encoder_test.pkl\")\n",
    "encodedSpeakersTest = []\n",
    "\n",
    "if True or not checkFile:\n",
    "    for range_pair in rangesTest:\n",
    "        start_idx, end_idx = range_pair\n",
    "        speaker_per_dialog = X_test['Speaker'][start_idx:end_idx + 1].copy()\n",
    "        speaker_feature = sorted(set(speaker_per_dialog))\n",
    "        speaker_encoder = {feature: i for i, feature in enumerate(speaker_feature)}\n",
    "        speaker_decoder = {i: feature for i, feature in enumerate(speaker_feature)}\n",
    "\n",
    "        encoded_speaker = speaker_per_dialog.replace(speaker_encoder)\n",
    "        encodedSpeakersTest.append(encoded_speaker)\n",
    "\n",
    "    # Save encoded speaker list and ranges to a file using pickle\n",
    "    file_path = 'data/dump/' + dataset_path + '/speaker_encoder_test.pkl'\n",
    "    with open(file_path, 'wb') as file:\n",
    "        pickle.dump([encodedSpeakersTest, rangesTest], file)\n",
    "else:\n",
    "    # Load encoded speaker list and ranges from the existing pickle file\n",
    "    file = open('data/dump/' + dataset_path + '/speaker_encoder_test.pkl', \"rb\")\n",
    "    encodedSpeakersTest, rangesTest = pickle.load(file)\n",
    "    file.close()"
   ]
  },
  {
   "cell_type": "markdown",
   "id": "936e2384",
   "metadata": {},
   "source": [
    "<h4> Getting speaker encoder for val set"
   ]
  },
  {
   "cell_type": "code",
   "execution_count": 26,
   "id": "6d4eae62",
   "metadata": {
    "code_folding": [
     4
    ]
   },
   "outputs": [],
   "source": [
    "# Check if the file exists\n",
    "checkFile = os.path.isfile(\"data/dump/\" + dataset_path + \"/speaker_encoder_dev.pkl\")\n",
    "encodedSpeakersDev = []\n",
    "\n",
    "if not checkFile:\n",
    "    for range_pair in rangesDev:\n",
    "        start_idx, end_idx = range_pair\n",
    "        speaker_per_dialog = X_dev['Speaker'][start_idx:end_idx + 1].copy()\n",
    "        speaker_feature = sorted(set(speaker_per_dialog))\n",
    "        speaker_encoder = {feature: i for i, feature in enumerate(speaker_feature)}\n",
    "        speaker_decoder = {i: feature for i, feature in enumerate(speaker_feature)}\n",
    "\n",
    "        encoded_speaker = speaker_per_dialog.replace(speaker_encoder)\n",
    "        encodedSpeakersDev.append(encoded_speaker)\n",
    "\n",
    "    # Save encoded speaker list and ranges to a file using pickle\n",
    "    file_path = 'data/dump/' + dataset_path + '/speaker_encoder_dev.pkl'\n",
    "    with open(file_path, 'wb') as file:\n",
    "        pickle.dump([encodedSpeakersDev, rangesDev], file)\n",
    "else:\n",
    "    # Load encoded speaker list and ranges from the existing pickle file\n",
    "    file = open('data/dump/' + dataset_path + '/speaker_encoder_dev.pkl', \"rb\")\n",
    "    encodedSpeakersDev, rangesDev = pickle.load(file)\n",
    "    file.close()"
   ]
  },
  {
   "cell_type": "code",
   "execution_count": 27,
   "id": "e1827fc2",
   "metadata": {},
   "outputs": [],
   "source": [
    "D_m = 100\n",
    "D_g = 150\n",
    "D_p = 150\n",
    "D_e = 200\n",
    "D_h = 100\n",
    "D_a = 100\n",
    "graph_h=100\n",
    "n_speakers=2\n",
    "max_seq_len=110\n",
    "window_past=0\n",
    "window_future=5\n",
    "# vocab_size=vocab_size\n",
    "n_classes=7\n",
    "listener_state=False\n",
    "context_attention='general'\n",
    "dropout=0.5\n",
    "nodal_attention=False\n",
    "no_cuda=True\n",
    "n_relations = 2 * n_speakers ** 2\n",
    "att_model = MaskedEdgeAttention(D_e, max_seq_len, no_cuda)\n",
    "nodal_attention=True\n",
    "edge_type_mapping = {}\n",
    "for j in range(n_speakers):\n",
    "    for k in range(n_speakers):\n",
    "        edge_type_mapping[str(j) + str(k) + '0'] = len(edge_type_mapping)\n",
    "        edge_type_mapping[str(j) + str(k) + '1'] = len(edge_type_mapping)"
   ]
  },
  {
   "cell_type": "markdown",
   "id": "c84f487a",
   "metadata": {},
   "source": [
    "<h4> Getting data required for graph processing"
   ]
  },
  {
   "cell_type": "code",
   "execution_count": 28,
   "id": "b8920b3f",
   "metadata": {},
   "outputs": [],
   "source": [
    "OverrideFileChecks = True"
   ]
  },
  {
   "cell_type": "code",
   "execution_count": 29,
   "id": "dcbad5c0",
   "metadata": {
    "code_folding": []
   },
   "outputs": [],
   "source": [
    "class ContextDataset(Dataset):\n",
    "    def __init__(self, X_set, rangesSet, encodedSpeakersSet):\n",
    "        self.X_set = X_set\n",
    "        self.rangesSet = rangesSet\n",
    "        self.encodedSpeakersSet = encodedSpeakersSet\n",
    "\n",
    "    def __len__(self):\n",
    "        return len(self.rangesSet)\n",
    "\n",
    "    def __getitem__(self, idx):\n",
    "        startIdx, endIdx = self.rangesSet[idx]\n",
    "        sequence = self.X_set[\"sequence\"][startIdx:endIdx+1].tolist()\n",
    "        qmask = self.encodedSpeakersSet[startIdx: endIdx+1]\n",
    "        return torch.FloatTensor(sequence), qmask\n",
    "\n",
    "# Define the ContextEncoding function\n",
    "def ContextEncoding(file_path, dataset):\n",
    "    all_emotions, all_umask, all_seq_lengths = [], [], []\n",
    "    all_features, all_edge_index, all_edge_norm, all_edge_type, all_edge_index_lengths = [], [], [], [], []\n",
    "    dataloader = DataLoader(dataset, batch_size=1, shuffle=False)\n",
    "    \n",
    "    for textf, qmask in tqdm(dataloader, desc=\"Encoding Progress\", unit=\"batch\"):\n",
    "        textf = textf.squeeze(0)  # Remove batch dimension (1, utterance_size, embedding_size) -> (utterance_size, embedding_size)\n",
    "        umask = torch.FloatTensor([[1] * textf.size(0)])  # Adjust to (1, utterance_size)\n",
    "        lengths = [(umask[j] == 1).nonzero().tolist()[-1][0] + 1 for j in range(len(umask))]\n",
    "        # print(umask.shape, lengths)\n",
    "        U = cnn_feat_extractor(textf, umask)\n",
    "        emotions, hidden = lstm(U)\n",
    "        all_emotions.append(emotions)\n",
    "        \n",
    "        features, edge_index, \\\n",
    "        edge_norm, edge_type, \\\n",
    "        edge_index_lengths = batch_graphify(emotions, \n",
    "                                            qmask,\n",
    "                                            lengths,\n",
    "                                            window_past,\n",
    "                                            window_future,\n",
    "                                            edge_type_mapping,\n",
    "                                            att_model, \n",
    "                                            no_cuda)\n",
    "        all_umask.append(umask)\n",
    "        all_seq_lengths.append(lengths)\n",
    "        all_features.append(features)\n",
    "        all_edge_index.append(edge_index)\n",
    "        all_edge_norm.append(edge_norm)\n",
    "        all_edge_type.append(edge_type)\n",
    "        all_edge_index_lengths.append(edge_index_lengths)\n",
    "\n",
    "#     all_emotions = torch.cat(all_emotions, dim=0)  # (total_num_utterances, lstm_hidden_size)\n",
    "    \n",
    "    with open(file_path[0], 'wb') as file:\n",
    "        pickle.dump(all_emotions, file)\n",
    "        \n",
    "    with open(file_path[1], 'wb') as file:\n",
    "        pickle.dump([   all_umask, \\\n",
    "                        all_seq_lengths,\n",
    "                        all_features, \\\n",
    "                        all_edge_index, \\\n",
    "                        all_edge_norm, \\\n",
    "                        all_edge_type, \\\n",
    "                        all_edge_index_lengths], file)\n",
    "    \n",
    "    return all_emotions, all_edge_index, all_edge_norm, all_edge_type, all_edge_index_lengths\n",
    "\n",
    "# File paths\n",
    "file_path1 = ['embed/' + dataset_path + '/u_prime_CNNBiLSTM_train.pkl', 'embed/' + dataset_path + '/pre_h_prime_CNNBiLSTM_train.pkl']\n",
    "file_path2 = ['embed/' + dataset_path + '/u_prime_CNNBiLSTM_test.pkl', 'embed/' + dataset_path + '/pre_h_prime_CNNBiLSTM_test.pkl']\n",
    "file_path3 = ['embed/' + dataset_path + '/u_prime_CNNBiLSTM_dev.pkl', 'embed/' + dataset_path + '/pre_h_prime_CNNBiLSTM_dev.pkl']\n",
    "\n",
    "# Check if files exist\n",
    "checkFile1 = os.path.isfile(file_path1[0])\n",
    "checkFile2 = os.path.isfile(file_path2[0])\n",
    "checkFile3 = os.path.isfile(file_path3[0])\n",
    "\n",
    "if not checkFile1:\n",
    "    encodedSpeakersFlat = [speaker for dialogue in encodedSpeakersTrain for speaker in dialogue]\n",
    "    oheEncodedSpeakersFlat = torch.FloatTensor([[1, 0] if x == 0 else [0, 1] for x in encodedSpeakersFlat])\n",
    "\n",
    "    trainDataset = ContextDataset(X_train, rangesTrain, oheEncodedSpeakersFlat)\n",
    "    start_time = time.time()\n",
    "    \n",
    "    trainContext, \\\n",
    "     all_edge_index, \\\n",
    "     all_edge_norm, \\\n",
    "     all_edge_type, \\\n",
    "     all_edge_index_lengths = ContextEncoding(file_path1, trainDataset)\n",
    "    \n",
    "    end_time = time.time()\n",
    "    elapsed_time = end_time - start_time\n",
    "    print(\"It took\", elapsed_time, \"seconds to encode train text\")\n",
    "\n",
    "if not checkFile2:\n",
    "    encodedSpeakersFlat = [speaker for dialogue in encodedSpeakersTest for speaker in dialogue]\n",
    "    oheEncodedSpeakersFlat = torch.FloatTensor([[1, 0] if x == 0 else [0, 1] for x in encodedSpeakersFlat])\n",
    "    \n",
    "    testDataset = ContextDataset(X_test, rangesTest, oheEncodedSpeakersFlat)\n",
    "    start_time = time.time()\n",
    "    testContext, _, _, _, _ = ContextEncoding(file_path2, testDataset)\n",
    "    end_time = time.time()\n",
    "    elapsed_time = end_time - start_time\n",
    "    print(\"It took\", elapsed_time, \"seconds to encode test text\")\n",
    "    \n",
    "if not checkFile3:\n",
    "    encodedSpeakersFlat = [speaker for dialogue in encodedSpeakersDev for speaker in dialogue]\n",
    "    oheEncodedSpeakersFlat = torch.FloatTensor([[1, 0] if x == 0 else [0, 1] for x in encodedSpeakersFlat])\n",
    "    \n",
    "    devDataset = ContextDataset(X_dev, rangesDev, oheEncodedSpeakersFlat)\n",
    "    start_time = time.time()\n",
    "    devContext, _, _, _, _ = ContextEncoding(file_path3, devDataset)\n",
    "    end_time = time.time()\n",
    "    elapsed_time = end_time - start_time\n",
    "    print(\"It took\", elapsed_time, \"seconds to encode test text\")\n",
    "\n",
    "if checkFile1 and checkFile2 and checkFile3:\n",
    "    with open(file_path1[0], 'rb') as file1:\n",
    "        trainContext = pickle.load(file1)\n",
    "    with open(file_path2[0], 'rb') as file2:\n",
    "        testContext = pickle.load(file2)\n",
    "    with open(file_path3[0], 'rb') as file3:\n",
    "        devContext = pickle.load(file3)"
   ]
  },
  {
   "cell_type": "code",
   "execution_count": 30,
   "id": "871aaea1",
   "metadata": {},
   "outputs": [
    {
     "data": {
      "text/plain": [
       "torch.Size([14, 1, 200])"
      ]
     },
     "execution_count": 30,
     "metadata": {},
     "output_type": "execute_result"
    }
   ],
   "source": [
    "trainContext[0].shape"
   ]
  },
  {
   "cell_type": "markdown",
   "id": "95c07b8f",
   "metadata": {},
   "source": [
    "<h4> Visualize utterance embeddnig (u') with T-SNE"
   ]
  },
  {
   "cell_type": "code",
   "execution_count": 31,
   "id": "fe10df08",
   "metadata": {
    "code_folding": [
     0
    ]
   },
   "outputs": [],
   "source": [
    "# if True:\n",
    "#     # Assuming trainContext, X_train, and labelDecoder are already defined\n",
    "#     num_instance = len(X_train[\"Emotion\"])\n",
    "\n",
    "#     # Calculate the counts for each unique label\n",
    "#     unique_labels, label_counts = np.unique(list(X_train[\"Emotion\"][:num_instance]), return_counts=True)\n",
    "\n",
    "#     # Print the counts for each unique label\n",
    "#     for label, count in zip(unique_labels, label_counts):\n",
    "#         print(f\"{labelDecoder[label]}: {count} occurrences\")\n",
    "\n",
    "#     encodedFeaturesFlat = [speaker for dialogue in encodedSpeakersTrain for speaker in dialogue]\n",
    "#     trainContext = trainContext.squeeze(1)\n",
    "\n",
    "#     # Convert the tensor to a numpy array for use with sklearn\n",
    "#     trainContext_np = trainContext.detach().numpy()\n",
    "\n",
    "#     # Perform PCA\n",
    "#     pca = PCA(n_components=2)\n",
    "#     trainContext_pca = pca.fit_transform(trainContext_np)\n",
    "\n",
    "#     # Perform t-SNE\n",
    "#     tsne = TSNE(n_components=2, random_state=42, perplexity=30)\n",
    "#     trainContext_tsne = tsne.fit_transform(trainContext_np)\n",
    "\n",
    "#     # Plot PCA results with color-coded labels  \n",
    "#     plt.figure(figsize=(14, 7))\n",
    "\n",
    "#     plt.subplot(1, 2, 1)\n",
    "#     for label in unique_labels:\n",
    "#         indices = np.where(X_train[\"Emotion\"][:num_instance] == label)[0]\n",
    "#         plt.scatter(trainContext_pca[indices, 0], trainContext_pca[indices, 1], label=labelDecoder[label], alpha=0.7)\n",
    "#     plt.title('PCA of trainContext with Color-Coded Labels')\n",
    "#     plt.xlabel('Principal Component 1')\n",
    "#     plt.ylabel('Principal Component 2')\n",
    "#     plt.legend(bbox_to_anchor=(1.05, 1), loc='upper left')\n",
    "\n",
    "#     # Plot t-SNE results with color-coded labels\n",
    "#     plt.subplot(1, 2, 2, position=[0.65, 0.1, 0.35, 0.8])\n",
    "#     for label in unique_labels:\n",
    "#         indices = np.where(X_train[\"Emotion\"][:num_instance] == label)[0]\n",
    "#         plt.scatter(trainContext_tsne[indices, 0], trainContext_tsne[indices, 1], label=labelDecoder[label], alpha=0.7)\n",
    "#     plt.title('t-SNE of trainContext with Color-Coded Labels')\n",
    "#     plt.xlabel('t-SNE Component 1')\n",
    "#     plt.ylabel('t-SNE Component 2')\n",
    "#     plt.legend(bbox_to_anchor=(1.05, 1), loc='upper left')\n",
    "\n",
    "#     plt.show()"
   ]
  },
  {
   "cell_type": "markdown",
   "id": "78804eeb",
   "metadata": {},
   "source": [
    "<h4>Visualize node features (pre-h') with T-SNE and PCA"
   ]
  },
  {
   "cell_type": "code",
   "execution_count": 32,
   "id": "2c3f3a2d",
   "metadata": {
    "code_folding": [
     0
    ]
   },
   "outputs": [],
   "source": [
    "# if True:\n",
    "#     # Assuming trainContext, X_train, and labelDecoder are already defined\n",
    "#     num_instance = len(X_train[\"Emotion\"])\n",
    "\n",
    "#     # Calculate the counts for each unique label\n",
    "#     unique_labels, label_counts = np.unique(list(X_train[\"Emotion\"][:num_instance]), return_counts=True)\n",
    "\n",
    "#     # Print the counts for each unique label\n",
    "#     for label, count in zip(unique_labels, label_counts):\n",
    "#         print(f\"{labelDecoder[label]}: {count} occurrences\")\n",
    "\n",
    "#     flattened_features = torch.cat(all_features, dim=0)\n",
    "\n",
    "#     # Convert the tensor to a numpy array for use with sklearn\n",
    "#     flattened_features_np = flattened_features.detach().numpy()\n",
    "\n",
    "#     # Perform PCA\n",
    "#     pca = PCA(n_components=2)\n",
    "#     flattened_features_np_pca = pca.fit_transform(flattened_features_np)\n",
    "\n",
    "#     # Perform t-SNE\n",
    "#     tsne = TSNE(n_components=2, random_state=42, perplexity=30)\n",
    "#     flattened_features_tsne = tsne.fit_transform(flattened_features_np)\n",
    "\n",
    "#     # Plot PCA results with color-coded labels\n",
    "#     plt.figure(figsize=(14, 7))\n",
    "\n",
    "#     plt.subplot(1, 2, 1)\n",
    "#     for label in unique_labels:\n",
    "#         indices = np.where(X_train[\"Emotion\"][:num_instance] == label)[0]\n",
    "#         plt.scatter(flattened_features_np_pca[indices, 0], flattened_features_np_pca[indices, 1], label=labelDecoder[label], alpha=0.7)\n",
    "#     plt.title('PCA of trainContext with Color-Coded Labels')\n",
    "#     plt.xlabel('Principal Component 1')\n",
    "#     plt.ylabel('Principal Component 2')\n",
    "#     plt.legend(bbox_to_anchor=(1.05, 1), loc='upper left')\n",
    "\n",
    "#     # Plot t-SNE results with color-coded labels\n",
    "#     plt.subplot(1, 2, 2, position=[0.65, 0.1, 0.35, 0.8])\n",
    "#     for label in unique_labels:\n",
    "#         indices = np.where(X_train[\"Emotion\"][:num_instance] == label)[0]\n",
    "#         plt.scatter(flattened_features_tsne[indices, 0], flattened_features_tsne[indices, 1], label=labelDecoder[label], alpha=0.7)\n",
    "#     plt.title('t-SNE of trainContext with Color-Coded Labels')\n",
    "#     plt.xlabel('t-SNE Component 1')\n",
    "#     plt.ylabel('t-SNE Component 2')\n",
    "#     plt.legend(bbox_to_anchor=(1.05, 1), loc='upper left')\n",
    "\n",
    "#     plt.show()"
   ]
  },
  {
   "cell_type": "markdown",
   "id": "61099f3e",
   "metadata": {},
   "source": [
    "#### Objective measure on observing howuseful the data representation"
   ]
  },
  {
   "cell_type": "code",
   "execution_count": 35,
   "id": "43c18404",
   "metadata": {},
   "outputs": [],
   "source": [
    "from sklearn.cluster import KMeans\n",
    "from sklearn.metrics import silhouette_score"
   ]
  },
  {
   "cell_type": "code",
   "execution_count": 36,
   "id": "be546014",
   "metadata": {},
   "outputs": [
    {
     "data": {
      "text/plain": [
       "0     neutral\n",
       "1     neutral\n",
       "2     neutral\n",
       "3     neutral\n",
       "4    surprise\n",
       "5     neutral\n",
       "6     neutral\n",
       "7     neutral\n",
       "8     neutral\n",
       "9     neutral\n",
       "Name: Emotion, dtype: object"
      ]
     },
     "execution_count": 36,
     "metadata": {},
     "output_type": "execute_result"
    }
   ],
   "source": [
    "trainContext"
   ]
  },
  {
   "cell_type": "code",
   "execution_count": 51,
   "id": "a4a564d7",
   "metadata": {},
   "outputs": [],
   "source": [
    "def flatten_extend(matrix):\n",
    "    flat_list = []\n",
    "    for row in matrix:\n",
    "        flat_list.extend(row)\n",
    "    return flat_list\n",
    "\n",
    "flat_trainContext = flatten_extend(trainContext)\n",
    "stacked_trainContext = torch.stack(flat_trainContext)"
   ]
  },
  {
   "cell_type": "code",
   "execution_count": 52,
   "id": "38c4adb5",
   "metadata": {},
   "outputs": [],
   "source": [
    "trainNp = stacked_trainContext.squeeze(1).detach().numpy()"
   ]
  },
  {
   "cell_type": "code",
   "execution_count": 53,
   "id": "acade541",
   "metadata": {},
   "outputs": [
    {
     "name": "stdout",
     "output_type": "stream",
     "text": [
      "Silhouette Score: 0.25304386019706726\n"
     ]
    }
   ],
   "source": [
    "kmeans = KMeans(n_clusters=len(set(y_train[\"Emotion\"])))\n",
    "clusters = kmeans.fit_predict(trainNp)\n",
    "\n",
    "score = silhouette_score(trainNp, clusters)\n",
    "print(f\"Silhouette Score: {score}\")"
   ]
  },
  {
   "cell_type": "markdown",
   "id": "044ef4b2",
   "metadata": {},
   "source": [
    "- Silhouette Score > 0.5: Indicates a good clustering with well-separated clusters.\n",
    "- Silhouette Score between 0 and 0.5: Indicates overlapping clusters to some degree.\n",
    "- Silhouette Score < 0: Indicates that samples might have been assigned to the wrong clusters."
   ]
  },
  {
   "cell_type": "code",
   "execution_count": 54,
   "id": "b66d8014",
   "metadata": {},
   "outputs": [],
   "source": [
    "from sklearn.metrics import calinski_harabasz_score"
   ]
  },
  {
   "cell_type": "code",
   "execution_count": 56,
   "id": "cbcf9d07",
   "metadata": {},
   "outputs": [
    {
     "name": "stdout",
     "output_type": "stream",
     "text": [
      "Calinski-Harabasz Index: 3835.5476772002985\n"
     ]
    }
   ],
   "source": [
    "kmeans = KMeans(n_clusters=len(set(y_train[\"Emotion\"])))\n",
    "clusters = kmeans.fit_predict(trainNp)\n",
    "\n",
    "score = calinski_harabasz_score(trainNp, clusters)\n",
    "print(f\"Calinski-Harabasz Index: {score}\")"
   ]
  },
  {
   "cell_type": "markdown",
   "id": "600b9966",
   "metadata": {},
   "source": [
    "Higher values: Indicate better-defined clusters. There is no strict threshold for \"good\" scores, as it depends on the specific dataset and context."
   ]
  },
  {
   "cell_type": "code",
   "execution_count": 57,
   "id": "56c959ea",
   "metadata": {},
   "outputs": [],
   "source": [
    "from sklearn.metrics import davies_bouldin_score"
   ]
  },
  {
   "cell_type": "code",
   "execution_count": 58,
   "id": "b9885870",
   "metadata": {},
   "outputs": [
    {
     "name": "stderr",
     "output_type": "stream",
     "text": [
      "C:\\Users\\edayo\\AppData\\Local\\Programs\\Python\\Python310\\lib\\site-packages\\sklearn\\base.py:1473: ConvergenceWarning: Number of distinct clusters (12832) found smaller than n_clusters (12840). Possibly due to duplicate points in X.\n",
      "  return fit_method(estimator, *args, **kwargs)\n"
     ]
    },
    {
     "name": "stdout",
     "output_type": "stream",
     "text": [
      "Davies-Bouldin Index: 2.2036955879278816e-07\n"
     ]
    }
   ],
   "source": [
    "# Assuming `embeddings` is your BERT/CNN output and `labels` are your true labels\n",
    "kmeans = KMeans(n_clusters=len(y_train[\"Emotion\"]))\n",
    "clusters = kmeans.fit_predict(trainNp)\n",
    "\n",
    "score = davies_bouldin_score(trainNp, clusters)\n",
    "print(f\"Davies-Bouldin Index: {score}\")"
   ]
  },
  {
   "cell_type": "markdown",
   "id": "ebeb6c34",
   "metadata": {},
   "source": [
    "- Lower values: Indicate better clustering with well-separated clusters.\n",
    "- Higher values: Indicate poor clustering with overlapping clusters."
   ]
  }
 ],
 "metadata": {
  "kernelspec": {
   "display_name": "Python 3 (ipykernel)",
   "language": "python",
   "name": "python3"
  },
  "language_info": {
   "codemirror_mode": {
    "name": "ipython",
    "version": 3
   },
   "file_extension": ".py",
   "mimetype": "text/x-python",
   "name": "python",
   "nbconvert_exporter": "python",
   "pygments_lexer": "ipython3",
   "version": "3.10.4"
  },
  "toc": {
   "base_numbering": 1,
   "nav_menu": {
    "height": "221.991px",
    "width": "339.977px"
   },
   "number_sections": true,
   "sideBar": true,
   "skip_h1_title": false,
   "title_cell": "Table of Contents",
   "title_sidebar": "Contents",
   "toc_cell": false,
   "toc_position": {},
   "toc_section_display": true,
   "toc_window_display": false
  }
 },
 "nbformat": 4,
 "nbformat_minor": 5
}
