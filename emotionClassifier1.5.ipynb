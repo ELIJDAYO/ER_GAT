{
 "cells": [
  {
   "cell_type": "markdown",
   "id": "35a857cc",
   "metadata": {},
   "source": [
    "\"FC layers referenced from https://towardsdatascience.com/math-neural-network-from-scratch-in-python-d6da9f29ce65\"\n"
   ]
  },
  {
   "cell_type": "code",
   "execution_count": 1,
   "id": "176f72e4",
   "metadata": {},
   "outputs": [],
   "source": [
    "import torch, time, os\n",
    "import numpy as np\n",
    "import pickle\n",
    "import numpy as np\n",
    "import torch.nn as nn\n",
    "import torch.nn.functional as F\n",
    "from torch.utils.data import DataLoader, TensorDataset, Dataset\n",
    "import torch.optim as optim\n",
    "from sklearn.metrics import precision_score, recall_score, f1_score, precision_recall_fscore_support\n",
    "import matplotlib.pyplot as plt\n",
    "from sklearn.metrics.pairwise import cosine_similarity\n",
    "from sklearn.datasets import make_classification\n",
    "from sklearn.model_selection import train_test_split\n",
    "from sklearn.tree import DecisionTreeClassifier\n",
    "from sklearn.metrics import accuracy_score\n",
    "from sklearn.feature_selection import SelectKBest, f_classif, chi2\n",
    "from sklearn.decomposition import PCA\n",
    "from sklearn.preprocessing import MinMaxScaler\n",
    "import plotly.graph_objs as go\n",
    "from sklearn.manifold import TSNE\n",
    "import plotly.io as pio\n",
    "from sklearn.utils import class_weight\n",
    "import tqdm as notebook_tqdm\n",
    "from tqdm import tqdm\n",
    "from sklearn.model_selection import train_test_split\n",
    "from sklearn.metrics import classification_report\n"
   ]
  },
  {
   "cell_type": "code",
   "execution_count": 2,
   "id": "4cebd6a3",
   "metadata": {},
   "outputs": [],
   "source": [
    "# !pip install ipywidgets"
   ]
  },
  {
   "cell_type": "markdown",
   "id": "4a1470c3",
   "metadata": {},
   "source": [
    "<h3> Declare functions"
   ]
  },
  {
   "cell_type": "code",
   "execution_count": 3,
   "id": "3a68406d",
   "metadata": {},
   "outputs": [],
   "source": [
    "class MyNetwork(nn.Module):\n",
    "    def __init__(self, input_dim, hidden_dims, output_dim, dropout_rate):\n",
    "        super(MyNetwork, self).__init__()\n",
    "        self.fc1 = nn.Linear(input_dim, hidden_dims[0])\n",
    "        self.activation1 = nn.ReLU()\n",
    "        self.fc2 = nn.Linear(hidden_dims[0], hidden_dims[1])\n",
    "        self.activation2 = nn.ReLU()\n",
    "        self.dropout = nn.Dropout(dropout_rate)\n",
    "        self.fc3 = nn.Linear(hidden_dims[1], output_dim)\n",
    "\n",
    "    def forward(self, x):\n",
    "        x = self.fc1(x)\n",
    "        x = self.activation1(x)\n",
    "        x = self.fc2(x)\n",
    "        x = self.activation2(x)\n",
    "        x = self.dropout(x)\n",
    "        x = self.fc3(x)\n",
    "        return x"
   ]
  },
  {
   "cell_type": "code",
   "execution_count": 4,
   "id": "6a4fb045",
   "metadata": {
    "code_folding": [
     0,
     9,
     18,
     21
    ]
   },
   "outputs": [],
   "source": [
    "class FCLayer(nn.Module):\n",
    "    def __init__(self, input_dim, output_dim):\n",
    "        super(FCLayer, self).__init__()\n",
    "        self.fc = nn.Linear(input_dim, output_dim)\n",
    "\n",
    "    def forward(self, x):\n",
    "        x = self.fc(x)\n",
    "        return x\n",
    "\n",
    "class ActivationLayer(nn.Module):\n",
    "    def __init__(self, activation_fn):\n",
    "        super(ActivationLayer, self).__init__()\n",
    "        self.activation_fn = activation_fn\n",
    "\n",
    "    def forward(self, x):\n",
    "        x = self.activation_fn(x)\n",
    "        return x\n",
    "\n",
    "def tanh(x):\n",
    "    return torch.tanh(x)\n",
    "\n",
    "def sigmoid(x):\n",
    "    return torch.sigmoid(x)\n",
    "# loss function and its derivative\n",
    "def mse(y_true, y_pred):\n",
    "    return np.mean(np.power(y_true - y_pred, 2))\n",
    "\n",
    "def mse_prime(y_true, y_pred):\n",
    "    return 2 * (y_pred - y_true) / y_true.size\n"
   ]
  },
  {
   "cell_type": "code",
   "execution_count": 55,
   "id": "246bf76e",
   "metadata": {},
   "outputs": [],
   "source": [
    "def oversample_data(X_train, Y_train, num_classes):\n",
    "    # Determine the class with the maximum number of instances\n",
    "    max_class_count = np.max(np.bincount(Y_train))\n",
    "    # Generate indices for oversampling each class\n",
    "    indices_list = [np.where(Y_train == i)[0] for i in range(num_classes)]\n",
    "    # Oversample minority classes to match the count of the majority class\n",
    "    for i, indices in enumerate(indices_list):\n",
    "        if len(indices) < max_class_count:\n",
    "            # Calculate the number of instances to oversample for this class\n",
    "            num_to_oversample = max_class_count - len(indices)\n",
    "            # Randomly select instances with replacement to oversample\n",
    "            oversampled_indices = np.random.choice(indices, size=num_to_oversample, replace=True)\n",
    "            # Append the oversampled instances to the original data\n",
    "            X_train = np.concatenate((X_train, X_train[oversampled_indices]), axis=0)\n",
    "            Y_train = np.concatenate((Y_train, Y_train[oversampled_indices]), axis=0)\n",
    "    return torch.tensor(X_train), torch.tensor(Y_train)\n"
   ]
  },
  {
   "cell_type": "markdown",
   "id": "a7503aae",
   "metadata": {},
   "source": [
    "<h4> Extract train labels and label encoder"
   ]
  },
  {
   "cell_type": "code",
   "execution_count": 6,
   "id": "72c216ce",
   "metadata": {},
   "outputs": [],
   "source": [
    "file_path = \"data/dump/labels_train.pkl\"\n",
    "with open(file_path, 'rb') as file:\n",
    "    y_train = pickle.load(file)\n",
    "y_train = torch.tensor(y_train)\n",
    "    \n",
    "file_path = 'data/dump/label_decoder.pkl'\n",
    "with open(file_path, 'rb') as file:\n",
    "    label_decoder = pickle.load(file)"
   ]
  },
  {
   "cell_type": "markdown",
   "id": "ed7136ff",
   "metadata": {},
   "source": [
    "<h4> Extract test labels"
   ]
  },
  {
   "cell_type": "code",
   "execution_count": 7,
   "id": "117dcaca",
   "metadata": {},
   "outputs": [],
   "source": [
    "file_path = \"data/dump/labels_test.pkl\"\n",
    "with open(file_path, 'rb') as file:\n",
    "    file = open('data/dump/labels_test.pkl', 'rb')\n",
    "    y_test = pickle.load(file)\n",
    "y_test = torch.tensor(y_test)"
   ]
  },
  {
   "cell_type": "markdown",
   "id": "40f3e716",
   "metadata": {},
   "source": [
    "<h4> Getting BERT and GAT outputs for train"
   ]
  },
  {
   "cell_type": "code",
   "execution_count": 8,
   "id": "7e3426c4",
   "metadata": {},
   "outputs": [],
   "source": [
    "file_path = 'embed/u_prime_CNNBiLSTM_train.pkl'\n",
    "with open(file_path, 'rb') as file:\n",
    "    u_primes = pickle.load(file)\n",
    "\n",
    "    concatenated_tensors = []\n",
    "    for dialogue_tensor in u_primes:\n",
    "        concatenated_tensors.extend(dialogue_tensor)\n",
    "\n",
    "    tensorUtterancesTrain = torch.stack(concatenated_tensors)\n",
    "\n",
    "file_path = \"embed/h_prime_CNNBiLSTM-GAT_train.pkl\"\n",
    "with open(file_path, 'rb') as file:\n",
    "    cherryPickedNodesTrain, _ = pickle.load(file)\n",
    "\n",
    "file_path = \"embed/h_prime_CNNBiLSTM-EGAT_train.pkl\"\n",
    "with open(file_path, 'rb') as file:\n",
    "    allNodeFeatsTrain, _ = pickle.load(file)"
   ]
  },
  {
   "cell_type": "markdown",
   "id": "e1e9766f",
   "metadata": {},
   "source": [
    "<h4> Getting BERT and GAT outputs for test set"
   ]
  },
  {
   "cell_type": "code",
   "execution_count": 9,
   "id": "4ba9f3f1",
   "metadata": {},
   "outputs": [],
   "source": [
    "file_path = 'embed/u_prime_CNNBiLSTM_test.pkl'\n",
    "with open(file_path, 'rb') as file:\n",
    "    u_primes = pickle.load(file)\n",
    "\n",
    "    concatenated_tensors = []\n",
    "    for dialogue_tensor in u_primes:\n",
    "        concatenated_tensors.extend(dialogue_tensor)\n",
    "\n",
    "    tensorUtterancesTest = torch.stack(concatenated_tensors)\n",
    "\n",
    "file_path = \"embed/h_prime_CNNBiLSTM-GAT_test.pkl\"\n",
    "with open(file_path, 'rb') as file:\n",
    "    cherryPickedNodesTest, _ = pickle.load(file)\n",
    "\n",
    "file_path = \"embed/h_prime_CNNBiLSTM-EGAT_test.pkl\"\n",
    "with open(file_path, 'rb') as file:\n",
    "    allNodeFeatsTest, _ = pickle.load(file)\n",
    "    \n",
    "_ = None"
   ]
  },
  {
   "cell_type": "markdown",
   "id": "8cba837d",
   "metadata": {},
   "source": [
    "<h4> Getting BERT and GAT outputs for the valid set"
   ]
  },
  {
   "cell_type": "code",
   "execution_count": 10,
   "id": "4a2f89a3",
   "metadata": {},
   "outputs": [],
   "source": [
    "# TODO do the same code as above once you have u' and h' of valid set"
   ]
  },
  {
   "cell_type": "markdown",
   "id": "875e7687",
   "metadata": {},
   "source": [
    "EDA"
   ]
  },
  {
   "cell_type": "code",
   "execution_count": 11,
   "id": "1e174164",
   "metadata": {
    "code_folding": [
     0
    ]
   },
   "outputs": [],
   "source": [
    "# # Checking the structure of graph\n",
    "# for n in range(10):\n",
    "#     tensor_data_np = tensor_utterances[n].detach().numpy()\n",
    "\n",
    "#     # Plot the data\n",
    "#     plt.figure(figsize=(10, 5))\n",
    "#     plt.plot(range(len(tensor_data_np)), tensor_data_np)\n",
    "#     plt.title('Line Graph of Tensor Data')\n",
    "#     plt.xlabel('Index')\n",
    "#     plt.ylabel('Value')\n",
    "#     plt.show()\n"
   ]
  },
  {
   "cell_type": "code",
   "execution_count": 12,
   "id": "479a3b1f",
   "metadata": {
    "code_folding": [
     0
    ]
   },
   "outputs": [],
   "source": [
    "# # Normalize the h' (1st GAT)\n",
    "# data = cherry_picked_nodes.detach().numpy()\n",
    "# data_normalized = data / np.linalg.norm(data, axis=1, keepdims=True)\n",
    "\n",
    "# # Compute pairwise cosine similarities\n",
    "# similarities = cosine_similarity(data_normalized)\n",
    "\n",
    "# # Print or analyze the similarity matrix\n",
    "# # print(similarities)\n",
    "# plt.hist(similarities.flatten(), bins=50, density=True)\n",
    "# plt.title('Distribution of Cosine Similarities')\n",
    "# plt.xlabel('Cosine Similarity')\n",
    "# plt.ylabel('Frequency')\n",
    "# plt.show()\n"
   ]
  },
  {
   "cell_type": "code",
   "execution_count": 13,
   "id": "6a070ce4",
   "metadata": {
    "code_folding": [
     0
    ]
   },
   "outputs": [],
   "source": [
    "# # Normalize the h' (2nd GAT)\n",
    "# data = all_node_feats.detach().numpy()\n",
    "# data_normalized = data / np.linalg.norm(data, axis=1, keepdims=True)\n",
    "\n",
    "# # Compute pairwise cosine similarities\n",
    "# similarities = cosine_similarity(data_normalized)\n",
    "\n",
    "# # Print or analyze the similarity matrix\n",
    "# # print(similarities)\n",
    "# plt.hist(similarities.flatten(), bins=50, density=True)\n",
    "# plt.title('Distribution of Cosine Similarities')\n",
    "# plt.xlabel('Cosine Similarity')\n",
    "# plt.ylabel('Frequency')\n",
    "# plt.show()\n"
   ]
  },
  {
   "cell_type": "code",
   "execution_count": 14,
   "id": "a43fa315",
   "metadata": {
    "code_folding": [
     0
    ]
   },
   "outputs": [],
   "source": [
    "# # Normalize the u' or updated_representations\n",
    "# data = tensor_utterances.detach().numpy()\n",
    "# data_normalized = data / np.linalg.norm(data, axis=1, keepdims=True)\n",
    "\n",
    "# # Compute pairwise cosine similarities\n",
    "# similarities = cosine_similarity(data_normalized)\n",
    "\n",
    "# plt.hist(similarities.flatten(), bins=50, density=True)\n",
    "# plt.title('Distribution of Cosine Similarities')\n",
    "# plt.xlabel('Cosine Similarity')\n",
    "# plt.ylabel('Frequency')\n",
    "# plt.show()\n"
   ]
  },
  {
   "cell_type": "markdown",
   "id": "40320052",
   "metadata": {},
   "source": [
    "<h3> Feature Selection"
   ]
  },
  {
   "cell_type": "code",
   "execution_count": 15,
   "id": "c909e8b3",
   "metadata": {},
   "outputs": [],
   "source": [
    "# X_train = tensor_utterances\n",
    "# Y_train = y_train"
   ]
  },
  {
   "cell_type": "markdown",
   "id": "510f143f",
   "metadata": {},
   "source": [
    "Part 1"
   ]
  },
  {
   "cell_type": "code",
   "execution_count": 16,
   "id": "caf09478",
   "metadata": {
    "code_folding": [
     0
    ]
   },
   "outputs": [],
   "source": [
    "# # Define the number of features (k) to select\n",
    "# k = 100  # Adjust this value as needed\n",
    "\n",
    "# # Initialize SelectKBest with the desired score function (e.g., f_classif for classification tasks)\n",
    "# selector = SelectKBest(score_func=f_classif, k=k)\n",
    "\n",
    "# # Fit SelectKBest on the training data and target variable\n",
    "# selector.fit(X_train, Y_train)\n",
    "\n",
    "# # Get the indices of the selected features\n",
    "# selected_indices = selector.get_support(indices=True)\n",
    "\n",
    "# # Get the scores of the selected features\n",
    "# feature_scores = selector.scores_[selected_indices]\n",
    "\n",
    "# # Display the scores along with their corresponding indices\n",
    "# # for idx, score in zip(selected_indices, feature_scores):\n",
    "# #     print(f\"Feature index: {idx}, Score: {score}\")\n",
    "\n",
    "# X_train_selected = X_train[:, selected_indices]\n",
    "# print(X_train_selected.shape)"
   ]
  },
  {
   "cell_type": "markdown",
   "id": "0264084c",
   "metadata": {},
   "source": [
    "Pass u' (BERT) and h' (GAT or EGAT) into this method"
   ]
  },
  {
   "cell_type": "code",
   "execution_count": 17,
   "id": "6501b577",
   "metadata": {},
   "outputs": [],
   "source": [
    "def get_norm_features(encoded_features):\n",
    "    scaler = MinMaxScaler()\n",
    "#       \"FeatureSelected+BERT+GAT: \", concatenatedRepresentationTrain2.shape, \"\\n\",\n",
    "    features_scaled = scaler.fit_transform(encoded_features.clone().detach())\n",
    "    return torch.tensor(features_scaled)\n",
    "\n",
    "def get_selected_features(encoded_features, labels, top_n):\n",
    "    # Apply Min-Max scaling to make the data non-negative\n",
    "    scaler = MinMaxScaler()\n",
    "    features_scaled = scaler.fit_transform(encoded_features)\n",
    "\n",
    "    # Initialize SelectKBest with the desired score function (e.g., f_classif for classification tasks)\n",
    "    selector = SelectKBest(score_func=f_classif, k=100)\n",
    "    # Assuming feature is your feature matrix (12840 instances x 300 dimensions)\n",
    "    # and y_train is your target labels\n",
    "\n",
    "    # Initialize a dictionary to store the indices of top features for each class\n",
    "    top_features_by_class = {}\n",
    "    top_scores = {}\n",
    "    # Calculate the relevance of each feature to each class using chi-squared test\n",
    "    for label in range(7):  # Assuming you have 7 classes\n",
    "        # Create a binary mask indicating instances belonging to the current class\n",
    "        mask = (labels == label)\n",
    "\n",
    "        # SelectKBest with chi2 as the scoring function\n",
    "        selector = SelectKBest(score_func=chi2, k=top_n)  # Select top 20 features\n",
    "        selector.fit(features_scaled, mask)  # Fit SelectKBest to the data\n",
    "        # Get the indices of the top 20 features\n",
    "        top_features_indices = np.argsort(selector.scores_)[-top_n:]\n",
    "        scores = selector.scores_[top_features_indices]\n",
    "        # Store the indices in the dictionary\n",
    "        top_features_by_class[label] = top_features_indices\n",
    "        top_scores[label] = scores\n",
    "\n",
    "    # Print the top features for each class\n",
    "    # for label, indices in top_features_by_class.items():\n",
    "    #     print(f\"Label {label_decoder[label]}: idx {', '.join(map(str, indices))}\")\n",
    "    #     print(top_scores[label])\n",
    "\n",
    "    concatenated_features_set = set()\n",
    "    for label, indices in top_features_by_class.items():\n",
    "        concatenated_features_set.update(indices)\n",
    "\n",
    "    concatenated_features_indices = list(concatenated_features_set)\n",
    "\n",
    "    concatenated_features_indices = np.array(concatenated_features_indices)\n",
    "\n",
    "    # Select the desired features\n",
    "    selected_features = encoded_features[:, concatenated_features_indices]\n",
    "#     print(selected_features.shape)\n",
    "    return selected_features, concatenated_features_indices"
   ]
  },
  {
   "cell_type": "code",
   "execution_count": null,
   "id": "306feca5",
   "metadata": {},
   "outputs": [],
   "source": []
  },
  {
   "cell_type": "markdown",
   "id": "ac1af030",
   "metadata": {},
   "source": [
    "Selected h'"
   ]
  },
  {
   "cell_type": "code",
   "execution_count": 18,
   "id": "74744ee3",
   "metadata": {
    "code_folding": []
   },
   "outputs": [],
   "source": [
    "# X_train = all_node_feats"
   ]
  },
  {
   "cell_type": "code",
   "execution_count": 19,
   "id": "13cad676",
   "metadata": {
    "code_folding": [
     0
    ]
   },
   "outputs": [],
   "source": [
    "# # Apply Min-Max scaling to make the data non-negative\n",
    "# scaler = MinMaxScaler()\n",
    "# X_train_scaled = scaler.fit_transform(X_train)\n",
    "\n",
    "# # Initialize SelectKBest with the desired score function (e.g., f_classif for classification tasks)\n",
    "# selector = SelectKBest(score_func=f_classif, k=100)\n",
    "# # Assuming X_train is your feature matrix (12840 instances x 300 dimensions)\n",
    "# # and y_train is your target labels\n",
    "\n",
    "# # Initialize a dictionary to store the indices of top features for each class\n",
    "# top_features_by_class = {}\n",
    "# top_scores = {}\n",
    "# # Calculate the relevance of each feature to each class using chi-squared test\n",
    "# for label in range(7):  # Assuming you have 7 classes\n",
    "#     # Create a binary mask indicating instances belonging to the current class\n",
    "#     mask = (Y_train == label)\n",
    "\n",
    "#     # SelectKBest with chi2 as the scoring function\n",
    "#     selector = SelectKBest(score_func=chi2, k=20)  # Select top 20 features\n",
    "#     selector.fit(X_train_scaled, mask)  # Fit SelectKBest to the data\n",
    "#     # Get the indices of the top 20 features\n",
    "#     top_features_indices = np.argsort(selector.scores_)[-20:]\n",
    "#     scores = selector.scores_[top_features_indices]\n",
    "#     # Store the indices in the dictionary\n",
    "#     top_features_by_class[label] = top_features_indices\n",
    "#     top_scores[label] = scores\n",
    "    \n",
    "# # Print the top features for each class\n",
    "# for label, indices in top_features_by_class.items():\n",
    "#     print(f\"Label {label_decoder[label]}: idx {', '.join(map(str, indices))}\")\n",
    "#     print(top_scores[label])"
   ]
  },
  {
   "cell_type": "code",
   "execution_count": 20,
   "id": "ca3e54f4",
   "metadata": {},
   "outputs": [],
   "source": [
    "# selected_features1[0]"
   ]
  },
  {
   "cell_type": "code",
   "execution_count": 21,
   "id": "bc72c402",
   "metadata": {},
   "outputs": [],
   "source": [
    "# selected_features2[0]"
   ]
  },
  {
   "cell_type": "code",
   "execution_count": 22,
   "id": "46d79a94",
   "metadata": {
    "code_folding": [
     0
    ]
   },
   "outputs": [],
   "source": [
    "# pca = PCA(n_components=2)\n",
    "# pca_result = pca.fit_transform(selected_features.detach().numpy())\n",
    "\n",
    "# # Plot the PCA result with color-coded labels\n",
    "# plt.figure(figsize=(8, 6))\n",
    "# for label in np.unique(Y_train):\n",
    "#     indices = Y_train == label\n",
    "#     plt.scatter(pca_result[indices, 0], pca_result[indices, 1], label=f'{label_decoder[label]}', alpha=0.5)\n",
    "#     plt.title('PCA Visualization of Selected Utterance Embeddings (Train) with Color-Coded Labels')\n",
    "#     plt.xlabel('Principal Component 1')\n",
    "#     plt.ylabel('Principal Component 2')\n",
    "#     plt.legend()\n",
    "#     plt.grid(True)\n",
    "#     plt.show()"
   ]
  },
  {
   "cell_type": "markdown",
   "id": "9891e235",
   "metadata": {},
   "source": [
    "3d plottly"
   ]
  },
  {
   "cell_type": "code",
   "execution_count": 23,
   "id": "efccc17d",
   "metadata": {
    "code_folding": [
     0
    ]
   },
   "outputs": [],
   "source": [
    "# X_train = selected_features\n",
    "# X_train = X_train / np.linalg.norm(X_train, axis=1, keepdims=True)\n",
    "# # Perform T-SNE dimensionality reduction\n",
    "# tsne = TSNE(n_components=3, random_state=42)\n",
    "# X_tsne = tsne.fit_transform(X_train)\n",
    "\n",
    "# # Create a Plotly scatter plot\n",
    "# fig = go.Figure(data=[go.Scatter3d(\n",
    "#     x=X_tsne[:, 0],\n",
    "#     y=X_tsne[:, 1],\n",
    "#     z=X_tsne[:, 2],\n",
    "#     mode='markers',\n",
    "#     marker=dict(\n",
    "#         size=3,\n",
    "#         color=Y_train,  # Assuming Y_train contains labels for coloring\n",
    "#         colorscale='Viridis',  # You can choose a different colorscale\n",
    "#         opacity=0.8\n",
    "#     )\n",
    "# )])\n",
    "\n",
    "# # Update layout\n",
    "# fig.update_layout(title='3D T-SNE Plot', autosize=False,\n",
    "#                   width=800, height=800)\n",
    "\n",
    "# # Show the plot\n",
    "# fig.show()"
   ]
  },
  {
   "cell_type": "code",
   "execution_count": 24,
   "id": "ca73f7e2",
   "metadata": {
    "code_folding": [
     0
    ]
   },
   "outputs": [],
   "source": [
    "# Save the plot as an HTML file\n",
    "# pio.write_html(fig, '3d_tsne_plot.html')"
   ]
  },
  {
   "cell_type": "markdown",
   "id": "0feaf772",
   "metadata": {},
   "source": [
    "Selected features of train data"
   ]
  },
  {
   "cell_type": "code",
   "execution_count": 25,
   "id": "cd9e733c",
   "metadata": {},
   "outputs": [],
   "source": [
    "# BERT+EGAT\n",
    "selectedUPrime, BERT_trainIndices = get_selected_features(tensorUtterancesTrain, y_train, 20)\n",
    "selectedHPrime, GAT_trainIndices1 = get_selected_features(allNodeFeatsTrain, y_train, 20)\n",
    "concatenatedSelectedRepresentationTrain1 = torch.cat((selectedUPrime, selectedHPrime), dim=1)\n",
    "# BERT+GAT\n",
    "# selectedHPrime, GAT_trainIndices2 = get_selected_features(allNodeFeatsTrain, y_train, 20)\n",
    "# concatenatedRepresentationTrain2 = torch.cat((selectedUPrime, selectedHPrime), dim=1)\n",
    "# raw-BERT\n",
    "rawCtxRepresentationTrain = get_norm_features(tensorUtterancesTrain)\n",
    "# selected-BERT\n",
    "# ctxRepresentationTrain = selectedUPrime\n",
    "\n",
    "# raw-BERT+GAT \n",
    "concatenatedRepresentationTrain1 = torch.cat((get_norm_features(tensorUtterancesTrain), \n",
    "                                              get_norm_features(cherryPickedNodesTrain)), dim=1)\n",
    "# raw-BERT+EGAT\n",
    "concatenatedRepresentationTrain2 = torch.cat((get_norm_features(tensorUtterancesTrain), \n",
    "                                              get_norm_features(allNodeFeatsTrain)), dim=1)\n",
    "\n",
    "# print(\"Sizes of different combination of train data\\n\",\n",
    "#       \"FeatureSelected+BERT+EGAT: \", concatenatedRepresentationTrain1.shape, \"\\n\",\n",
    "#       \"FeatureSelected+BERT+GAT: \", concatenatedRepresentationTrain2.shape, \"\\n\",\n",
    "#       \"BERT: \", rawCtxRepresentationTrain.shape, \"\\n\",\n",
    "#       \"FeatureSelected+BERT: \", ctxRepresentationTrain.shape)"
   ]
  },
  {
   "cell_type": "code",
   "execution_count": 26,
   "id": "a45cd1d2",
   "metadata": {},
   "outputs": [
    {
     "data": {
      "text/plain": [
       "array([  1, 260, 261, 262, 263, 136, 264, 139, 140, 141, 143,  16, 146,\n",
       "       279, 152,  28,  31, 288, 161, 292, 293, 294, 170, 185, 186, 187,\n",
       "        64,  65, 195,  68, 197, 198,  69,  72,  74,  77, 206,  84, 212,\n",
       "       213,  88, 225,  98,  99, 228, 229, 230, 101, 104, 107, 110, 240,\n",
       "       113, 114, 244, 116, 246, 119, 120, 249, 250, 252, 253, 254],\n",
       "      dtype=int64)"
      ]
     },
     "execution_count": 26,
     "metadata": {},
     "output_type": "execute_result"
    }
   ],
   "source": [
    "GAT_trainIndices1"
   ]
  },
  {
   "cell_type": "markdown",
   "id": "8756dd76",
   "metadata": {},
   "source": [
    "Selected features of test data"
   ]
  },
  {
   "cell_type": "code",
   "execution_count": 27,
   "id": "84716dd2",
   "metadata": {},
   "outputs": [],
   "source": [
    "# BERT+EGAT\n",
    "selectedUPrime = tensorUtterancesTest[:, BERT_trainIndices]\n",
    "selectedHPrime = allNodeFeatsTest[:, GAT_trainIndices1]\n",
    "concatenatedSelectedRepresentationTest1 = torch.cat((selectedUPrime, selectedHPrime), dim=1)\n",
    "# BERT+GAT\n",
    "# selectedHPrime = allNodeFeatsTest[:, GAT_trainIndices2]\n",
    "# concatenatedRepresentationTest2 = torch.cat((selectedUPrime, selectedHPrime), dim=1)\n",
    "# raw-BERT\n",
    "rawCtxRepresentationTest = get_norm_features(tensorUtterancesTest)\n",
    "# selected-BERT\n",
    "# ctxRepresentationTest = selectedUPrime\n",
    "# raw-BERT+GAT \n",
    "concatenatedRepresentationTest1 = torch.cat((get_norm_features(tensorUtterancesTest), \n",
    "                                             get_norm_features(cherryPickedNodesTest)), dim=1)\n",
    "# raw-BERT+EGAT\n",
    "concatenatedRepresentationTest2 = torch.cat((get_norm_features(tensorUtterancesTest), \n",
    "                                             get_norm_features(allNodeFeatsTest)), dim=1)\n",
    "\n",
    "# print(\"Sizes of different combination of train data\\n\",\n",
    "#       \"FeatureSelected+BERT+EGAT: \", concatenatedRepresentationTest1.shape, \"\\n\",\n",
    "#       \"FeatureSelected+BERT+GAT: \", concatenatedRepresentationTest2.shape, \"\\n\",\n",
    "#       \"BERT: \", rawCtxRepresentationTest.shape, \"\\n\",\n",
    "#       \"FeatureSelected+BERT: \", ctxRepresentationTest.shape)"
   ]
  },
  {
   "cell_type": "markdown",
   "id": "265dc4c4",
   "metadata": {},
   "source": [
    "1. Prep data - normalize and create data loader"
   ]
  },
  {
   "cell_type": "code",
   "execution_count": 28,
   "id": "ebb893e7",
   "metadata": {
    "code_folding": []
   },
   "outputs": [],
   "source": [
    "def prep_data(features, labels, isOversample):\n",
    "    num_instances = len(features)\n",
    "    num_classes = 7\n",
    "\n",
    "    # Rescale input features\n",
    "    # selected_features = concatenated_representation / np.linalg.norm(concatenated_representation, axis=1, keepdims=True)\n",
    "\n",
    "    # Apply data resampling (oversampling) to balance class distribution\n",
    "    if isOversample:\n",
    "        X_set, Y_set = oversample_data(features, labels, num_classes)\n",
    "    else:\n",
    "        X_set, Y_set = features, labels\n",
    "\n",
    "    # Calculate class weights for class weighting\n",
    "#     class_counts = np.bincount(labels)\n",
    "#     total_instances = np.sum(class_counts)\n",
    "    # class_weights = torch.tensor([total_instances / (num_classes * count) for count in class_counts], dtype=torch.float32)\n",
    "\n",
    "    # Convert data to PyTorch tensors\n",
    "    X_tensor = torch.tensor(X_set.clone().detach(), dtype=torch.float32).clone().detach()\n",
    "    Y_tensor = torch.tensor(Y_set.clone().detach(), dtype=torch.long).clone().detach()\n",
    "    # print(X_train_tensor.shape, Y_train_tensor.shape)\n",
    "    # X_train_tensor = torch.tensor(selected_features)\n",
    "    # Y_train_tensor = torch.tensor(y_train)\n",
    "\n",
    "    unique_labels, label_counts = np.unique(Y_set, return_counts=True)\n",
    "\n",
    "    # Print the counts for each unique label\n",
    "    for label, count in zip(unique_labels, label_counts):\n",
    "        print(f\"Label {label_decoder[label]}: {count} occurrences\")\n",
    "\n",
    "    print(X_tensor.shape, Y_tensor.shape)\n",
    "    # Create a TensorDataset\n",
    "    dataset = TensorDataset(X_tensor, Y_tensor)\n",
    "\n",
    "    return X_tensor, Y_tensor"
   ]
  },
  {
   "cell_type": "markdown",
   "id": "861ebf30",
   "metadata": {},
   "source": [
    "2. Training"
   ]
  },
  {
   "cell_type": "code",
   "execution_count": 52,
   "id": "9a71c886",
   "metadata": {},
   "outputs": [],
   "source": [
    "def model_train(X_set, Y_set, input_dim, num_epochs, num_classes, loss_difference_threshold=0.01):\n",
    "    hidden_dims = [256, 128]  # Hidden layer dimensions\n",
    "    output_dim = num_classes  # Number of classes\n",
    "    dropout_rate = 0.5  # Dropout rate for regularization\n",
    "    # Initialize the model\n",
    "    model = MyNetwork(input_dim, hidden_dims, output_dim, dropout_rate)\n",
    "    # Define loss function and optimizer\n",
    "    criterion = nn.CrossEntropyLoss()\n",
    "    optimizer = optim.Adam(model.parameters(), lr=0.0001)\n",
    "    # Lists to store loss and accuracy for plotting\n",
    "    loss_history = []\n",
    "    accuracy_history = []\n",
    "    # Train the model\n",
    "    print_interval = 1  # Print tqdm every epoch\n",
    "    previous_loss = float('inf')\n",
    "    for epoch in range(num_epochs):\n",
    "        total_loss = 0.0\n",
    "        correct_predictions = 0\n",
    "        total_instances = 0\n",
    "        # Use tqdm for progress tracking\n",
    "        with tqdm(total=len(X_set), desc=f'Epoch {epoch+1}/{num_epochs}', leave=False) as pbar:\n",
    "            for inputs, labels in zip(X_set, Y_set):\n",
    "                inputs = torch.tensor(inputs.clone().detach(), dtype=torch.float32)\n",
    "                labels = torch.tensor(labels.clone().detach(), dtype=torch.long)\n",
    "                # Forward pass\n",
    "                outputs = model(inputs)\n",
    "                # Flatten the outputs and labels if necessary\n",
    "                outputs = outputs.squeeze()\n",
    "                labels = labels.squeeze()\n",
    "                # Calculate loss\n",
    "                loss = criterion(outputs, labels)\n",
    "                # Backward and optimize\n",
    "                optimizer.zero_grad()\n",
    "                loss.backward()\n",
    "                optimizer.step()\n",
    "                # Update metrics\n",
    "                total_loss += loss.item()\n",
    "                _, predicted = torch.max(outputs, dim=0)  # Use dim=0 for single output\n",
    "                correct_predictions += (predicted == labels).sum().item()\n",
    "                total_instances += 1\n",
    "                pbar.update(1)\n",
    "\n",
    "        # Calculate epoch loss and accuracy\n",
    "        epoch_loss = total_loss / total_instances\n",
    "        epoch_accuracy = correct_predictions / total_instances\n",
    "        loss_history.append(epoch_loss)\n",
    "        accuracy_history.append(epoch_accuracy)\n",
    "\n",
    "        # Print average loss and accuracy per epoch\n",
    "        print(f'Epoch [{epoch+1}/{num_epochs}], Loss: {epoch_loss:.4f}, Accuracy: {epoch_accuracy:.4f}')\n",
    "\n",
    "        # Check if difference in loss exceeds threshold\n",
    "        if epoch > 0 and abs(epoch_loss - previous_loss) < loss_difference_threshold:\n",
    "            print(f'Training terminated early at epoch {epoch+1} due to small change in loss')\n",
    "            break\n",
    "\n",
    "        previous_loss = epoch_loss\n",
    "\n",
    "    # Plot loss and accuracy over epochs\n",
    "    plt.figure(figsize=(10, 5))\n",
    "    plt.subplot(1, 2, 1)\n",
    "    plt.plot(loss_history, label='Loss')\n",
    "    plt.xlabel('Epoch')\n",
    "    plt.ylabel('Loss')\n",
    "    plt.title('Loss Over Epochs')\n",
    "    plt.legend()\n",
    "\n",
    "    plt.subplot(1, 2, 2)\n",
    "    plt.plot(accuracy_history, label='Accuracy')\n",
    "    plt.xlabel('Epoch')\n",
    "    plt.ylabel('Accuracy')\n",
    "    plt.title('Accuracy Over Epochs')\n",
    "    plt.legend()\n",
    "\n",
    "    plt.tight_layout()\n",
    "    plt.show()\n",
    "\n",
    "    return model"
   ]
  },
  {
   "cell_type": "code",
   "execution_count": 30,
   "id": "b435c98b",
   "metadata": {
    "code_folding": [
     0
    ]
   },
   "outputs": [],
   "source": [
    "def classify_emotions(model, X_tensor, Y_tensor, isTrain):\n",
    "    # Set the model to evaluation mode\n",
    "    model.eval()\n",
    "\n",
    "    # Predict on the data\n",
    "    with torch.no_grad():\n",
    "        outputs = model(X_tensor)\n",
    "        _, predicted = torch.max(outputs, 1)\n",
    "\n",
    "    # Convert predicted tensor to numpy array\n",
    "    predicted = predicted.numpy()\n",
    "\n",
    "    # Calculate classification report\n",
    "    report = classification_report(Y_tensor, predicted, target_names=label_decoder.values(), output_dict=True, zero_division=0)\n",
    "\n",
    "    # Print classification report\n",
    "    for label, metrics in report.items():\n",
    "        if label != 'accuracy':  # Skip printing accuracy as it's a separate metric\n",
    "            print(f'Class: {label}')\n",
    "            print(f'Precision: {metrics[\"precision\"]:.4f}')\n",
    "            print(f'Recall: {metrics[\"recall\"]:.4f}')\n",
    "            print(f'F1 Score: {metrics[\"f1-score\"]:.4f}')\n",
    "            print()\n",
    "\n",
    "    # Print accuracy\n",
    "    print(f'Accuracy: {report[\"accuracy\"]:.4f}')\n",
    "\n",
    "    # Print weighted F1 score\n",
    "    print(f'Weighted F1 Score: {report[\"weighted avg\"][\"f1-score\"]:.4f}')"
   ]
  },
  {
   "cell_type": "code",
   "execution_count": 31,
   "id": "8d2b72ce",
   "metadata": {},
   "outputs": [],
   "source": [
    "# TODO create table of loss and accuracy during training\n",
    "# TODO also compute the time it takes to complete the train"
   ]
  },
  {
   "cell_type": "markdown",
   "id": "61a14b7b",
   "metadata": {},
   "source": [
    "<h4> Train and validate CNNBiLSTM+EGAT"
   ]
  },
  {
   "cell_type": "code",
   "execution_count": 38,
   "id": "731a5a22",
   "metadata": {},
   "outputs": [
    {
     "name": "stderr",
     "output_type": "stream",
     "text": [
      "C:\\Users\\edayo\\AppData\\Local\\Temp\\ipykernel_21404\\2151628629.py:20: UserWarning: To copy construct from a tensor, it is recommended to use sourceTensor.clone().detach() or sourceTensor.clone().detach().requires_grad_(True), rather than torch.tensor(sourceTensor).\n",
      "  X_tensor = torch.tensor(X_set.clone().detach(), dtype=torch.float32).clone().detach()\n",
      "C:\\Users\\edayo\\AppData\\Local\\Temp\\ipykernel_21404\\2151628629.py:21: UserWarning: To copy construct from a tensor, it is recommended to use sourceTensor.clone().detach() or sourceTensor.clone().detach().requires_grad_(True), rather than torch.tensor(sourceTensor).\n",
      "  Y_tensor = torch.tensor(Y_set.clone().detach(), dtype=torch.long).clone().detach()\n"
     ]
    },
    {
     "name": "stdout",
     "output_type": "stream",
     "text": [
      "Label anger: 1500 occurrences\n",
      "Label disgust: 364 occurrences\n",
      "Label fear: 338 occurrences\n",
      "Label joy: 2312 occurrences\n",
      "Label neutral: 5960 occurrences\n",
      "Label sadness: 876 occurrences\n",
      "Label surprise: 1490 occurrences\n",
      "torch.Size([12840, 600]) torch.Size([12840])\n"
     ]
    },
    {
     "name": "stderr",
     "output_type": "stream",
     "text": [
      "Epoch 1/10:   0%|                                                                            | 0/12840 [00:00<?, ?it/s]C:\\Users\\edayo\\AppData\\Local\\Temp\\ipykernel_21404\\3756449778.py:23: UserWarning: To copy construct from a tensor, it is recommended to use sourceTensor.clone().detach() or sourceTensor.clone().detach().requires_grad_(True), rather than torch.tensor(sourceTensor).\n",
      "  inputs = torch.tensor(inputs.clone().detach(), dtype=torch.float32)\n",
      "C:\\Users\\edayo\\AppData\\Local\\Temp\\ipykernel_21404\\3756449778.py:24: UserWarning: To copy construct from a tensor, it is recommended to use sourceTensor.clone().detach() or sourceTensor.clone().detach().requires_grad_(True), rather than torch.tensor(sourceTensor).\n",
      "  labels = torch.tensor(labels.clone().detach(), dtype=torch.long)\n",
      "                                                                                                                       \r"
     ]
    },
    {
     "name": "stdout",
     "output_type": "stream",
     "text": [
      "Epoch [1/10], Loss: 1.5712, Accuracy: 0.4625\n"
     ]
    },
    {
     "name": "stderr",
     "output_type": "stream",
     "text": [
      "                                                                                                                       \r"
     ]
    },
    {
     "name": "stdout",
     "output_type": "stream",
     "text": [
      "Epoch [2/10], Loss: 1.5525, Accuracy: 0.4642\n",
      "Training terminated early at epoch 2 due to small change in loss\n"
     ]
    },
    {
     "data": {
      "image/png": "[encoded data removed]",
      "text/plain": [
       "<Figure size 720x360 with 2 Axes>"
      ]
     },
     "metadata": {
      "needs_background": "light"
     },
     "output_type": "display_data"
    },
    {
     "name": "stdout",
     "output_type": "stream",
     "text": [
      "Train CNNBiLSTM+EGAT given 15 epochs - Elapsed time: 236.176696062088 seconds\n"
     ]
    }
   ],
   "source": [
    "# enable oversampling by setting isOversample=True\n",
    "X_trainTensor, Y_trainTensor = prep_data(concatenatedRepresentationTrain2, y_train, False)\n",
    "\n",
    "start_time = time.time()\n",
    "\n",
    "fcClf = model_train(X_set=X_trainTensor, \n",
    "                    Y_set=Y_trainTensor,\n",
    "                    input_dim=X_trainTensor.shape[1], \n",
    "                    num_epochs=10, \n",
    "                    num_classes=7)\n",
    "\n",
    "end_time = time.time()\n",
    "elapsed_time = end_time - start_time\n",
    "print(f\"Train CNNBiLSTM+EGAT given 15 epochs - Elapsed time: {elapsed_time} seconds\")"
   ]
  },
  {
   "cell_type": "code",
   "execution_count": 39,
   "id": "50c657f0",
   "metadata": {},
   "outputs": [
    {
     "name": "stdout",
     "output_type": "stream",
     "text": [
      "Label anger: 516 occurrences\n",
      "Label disgust: 99 occurrences\n",
      "Label fear: 60 occurrences\n",
      "Label joy: 495 occurrences\n",
      "Label neutral: 1615 occurrences\n",
      "Label sadness: 263 occurrences\n",
      "Label surprise: 352 occurrences\n",
      "torch.Size([3400, 600]) torch.Size([3400])\n",
      "Class: anger\n",
      "Precision: 0.0000\n",
      "Recall: 0.0000\n",
      "F1 Score: 0.0000\n",
      "\n",
      "Class: disgust\n",
      "Precision: 0.0000\n",
      "Recall: 0.0000\n",
      "F1 Score: 0.0000\n",
      "\n",
      "Class: fear\n",
      "Precision: 0.0000\n",
      "Recall: 0.0000\n",
      "F1 Score: 0.0000\n",
      "\n",
      "Class: joy\n",
      "Precision: 0.0000\n",
      "Recall: 0.0000\n",
      "F1 Score: 0.0000\n",
      "\n",
      "Class: neutral\n",
      "Precision: 0.4750\n",
      "Recall: 1.0000\n",
      "F1 Score: 0.6441\n",
      "\n",
      "Class: sadness\n",
      "Precision: 0.0000\n",
      "Recall: 0.0000\n",
      "F1 Score: 0.0000\n",
      "\n",
      "Class: surprise\n",
      "Precision: 0.0000\n",
      "Recall: 0.0000\n",
      "F1 Score: 0.0000\n",
      "\n",
      "Class: macro avg\n",
      "Precision: 0.0679\n",
      "Recall: 0.1429\n",
      "F1 Score: 0.0920\n",
      "\n",
      "Class: weighted avg\n",
      "Precision: 0.2256\n",
      "Recall: 0.4750\n",
      "F1 Score: 0.3059\n",
      "\n",
      "Accuracy: 0.4750\n",
      "Weighted F1 Score: 0.3059\n"
     ]
    },
    {
     "name": "stderr",
     "output_type": "stream",
     "text": [
      "C:\\Users\\edayo\\AppData\\Local\\Temp\\ipykernel_21404\\2151628629.py:20: UserWarning: To copy construct from a tensor, it is recommended to use sourceTensor.clone().detach() or sourceTensor.clone().detach().requires_grad_(True), rather than torch.tensor(sourceTensor).\n",
      "  X_tensor = torch.tensor(X_set.clone().detach(), dtype=torch.float32).clone().detach()\n",
      "C:\\Users\\edayo\\AppData\\Local\\Temp\\ipykernel_21404\\2151628629.py:21: UserWarning: To copy construct from a tensor, it is recommended to use sourceTensor.clone().detach() or sourceTensor.clone().detach().requires_grad_(True), rather than torch.tensor(sourceTensor).\n",
      "  Y_tensor = torch.tensor(Y_set.clone().detach(), dtype=torch.long).clone().detach()\n"
     ]
    }
   ],
   "source": [
    "# Predict the test set\n",
    "# classify_emotions(fcClf, X_trainTensor, Y_trainTensor, False)\n",
    "X_testTensor, Y_testTensor = prep_data(concatenatedRepresentationTest2, y_test, False)\n",
    "classify_emotions(fcClf, X_testTensor, Y_testTensor, False)"
   ]
  },
  {
   "cell_type": "markdown",
   "id": "23e94626",
   "metadata": {},
   "source": [
    "<h4> Train and validate CNNBiLSTM+GAT (⭕️ Oversample)"
   ]
  },
  {
   "cell_type": "code",
   "execution_count": 40,
   "id": "57c145a1",
   "metadata": {},
   "outputs": [
    {
     "name": "stderr",
     "output_type": "stream",
     "text": [
      "C:\\Users\\edayo\\AppData\\Local\\Temp\\ipykernel_21404\\2151628629.py:20: UserWarning: To copy construct from a tensor, it is recommended to use sourceTensor.clone().detach() or sourceTensor.clone().detach().requires_grad_(True), rather than torch.tensor(sourceTensor).\n",
      "  X_tensor = torch.tensor(X_set.clone().detach(), dtype=torch.float32).clone().detach()\n",
      "C:\\Users\\edayo\\AppData\\Local\\Temp\\ipykernel_21404\\2151628629.py:21: UserWarning: To copy construct from a tensor, it is recommended to use sourceTensor.clone().detach() or sourceTensor.clone().detach().requires_grad_(True), rather than torch.tensor(sourceTensor).\n",
      "  Y_tensor = torch.tensor(Y_set.clone().detach(), dtype=torch.long).clone().detach()\n"
     ]
    },
    {
     "name": "stdout",
     "output_type": "stream",
     "text": [
      "Label anger: 5960 occurrences\n",
      "Label disgust: 5960 occurrences\n",
      "Label fear: 5960 occurrences\n",
      "Label joy: 5960 occurrences\n",
      "Label neutral: 5960 occurrences\n",
      "Label sadness: 5960 occurrences\n",
      "Label surprise: 5960 occurrences\n",
      "torch.Size([41720, 600]) torch.Size([41720])\n"
     ]
    },
    {
     "name": "stderr",
     "output_type": "stream",
     "text": [
      "Epoch 1/11:   0%|                                                                            | 0/41720 [00:00<?, ?it/s]C:\\Users\\edayo\\AppData\\Local\\Temp\\ipykernel_21404\\3756449778.py:23: UserWarning: To copy construct from a tensor, it is recommended to use sourceTensor.clone().detach() or sourceTensor.clone().detach().requires_grad_(True), rather than torch.tensor(sourceTensor).\n",
      "  inputs = torch.tensor(inputs.clone().detach(), dtype=torch.float32)\n",
      "C:\\Users\\edayo\\AppData\\Local\\Temp\\ipykernel_21404\\3756449778.py:24: UserWarning: To copy construct from a tensor, it is recommended to use sourceTensor.clone().detach() or sourceTensor.clone().detach().requires_grad_(True), rather than torch.tensor(sourceTensor).\n",
      "  labels = torch.tensor(labels.clone().detach(), dtype=torch.long)\n",
      "                                                                                                                       \r"
     ]
    },
    {
     "name": "stdout",
     "output_type": "stream",
     "text": [
      "Epoch [1/11], Loss: 0.5595, Accuracy: 0.8228\n"
     ]
    },
    {
     "name": "stderr",
     "output_type": "stream",
     "text": [
      "                                                                                                                       \r"
     ]
    },
    {
     "name": "stdout",
     "output_type": "stream",
     "text": [
      "Epoch [2/11], Loss: 0.5732, Accuracy: 0.8187\n",
      "Training terminated early at epoch 2 due to small change in loss\n"
     ]
    },
    {
     "data": {
      "image/png": "[encoded data removed]",
      "text/plain": [
       "<Figure size 720x360 with 2 Axes>"
      ]
     },
     "metadata": {
      "needs_background": "light"
     },
     "output_type": "display_data"
    },
    {
     "name": "stdout",
     "output_type": "stream",
     "text": [
      "Trai CNNBiLSTM+GAT given 15 epochs - Elapsed time: 869.8773131370544 seconds\n",
      "Class: anger\n",
      "Precision: 0.0000\n",
      "Recall: 0.0000\n",
      "F1 Score: 0.0000\n",
      "\n",
      "Class: disgust\n",
      "Precision: 0.0000\n",
      "Recall: 0.0000\n",
      "F1 Score: 0.0000\n",
      "\n",
      "Class: fear\n",
      "Precision: 0.0000\n",
      "Recall: 0.0000\n",
      "F1 Score: 0.0000\n",
      "\n",
      "Class: joy\n",
      "Precision: 0.0000\n",
      "Recall: 0.0000\n",
      "F1 Score: 0.0000\n",
      "\n",
      "Class: neutral\n",
      "Precision: 0.0000\n",
      "Recall: 0.0000\n",
      "F1 Score: 0.0000\n",
      "\n",
      "Class: sadness\n",
      "Precision: 0.0000\n",
      "Recall: 0.0000\n",
      "F1 Score: 0.0000\n",
      "\n",
      "Class: surprise\n",
      "Precision: 0.1429\n",
      "Recall: 1.0000\n",
      "F1 Score: 0.2500\n",
      "\n",
      "Class: macro avg\n",
      "Precision: 0.0204\n",
      "Recall: 0.1429\n",
      "F1 Score: 0.0357\n",
      "\n",
      "Class: weighted avg\n",
      "Precision: 0.0204\n",
      "Recall: 0.1429\n",
      "F1 Score: 0.0357\n",
      "\n",
      "Accuracy: 0.1429\n",
      "Weighted F1 Score: 0.0357\n"
     ]
    }
   ],
   "source": [
    "X_trainTensor, Y_trainTensor = prep_data(concatenatedRepresentationTrain1, y_train, True)\n",
    "\n",
    "start_time = time.time()\n",
    "\n",
    "fcClf = model_train(X_set=X_trainTensor, \n",
    "                    Y_set=Y_trainTensor,\n",
    "                    input_dim=X_trainTensor.shape[1], \n",
    "                    num_epochs=11, \n",
    "                    num_classes=7)\n",
    "\n",
    "end_time = time.time()\n",
    "elapsed_time = end_time - start_time\n",
    "end_time = time.time()\n",
    "elapsed_time = end_time - start_time\n",
    "print(f\"Trai CNNBiLSTM+GAT given 15 epochs - Elapsed time: {elapsed_time} seconds\")\n",
    "\n",
    "classify_emotions(fcClf, X_trainTensor, Y_trainTensor, True)"
   ]
  },
  {
   "cell_type": "code",
   "execution_count": 42,
   "id": "5aa10a6e",
   "metadata": {},
   "outputs": [
    {
     "name": "stdout",
     "output_type": "stream",
     "text": [
      "Label anger: 516 occurrences\n",
      "Label disgust: 99 occurrences\n",
      "Label fear: 60 occurrences\n",
      "Label joy: 495 occurrences\n",
      "Label neutral: 1615 occurrences\n",
      "Label sadness: 263 occurrences\n",
      "Label surprise: 352 occurrences\n",
      "torch.Size([3400, 600]) torch.Size([3400])\n",
      "Class: anger\n",
      "Precision: 0.0000\n",
      "Recall: 0.0000\n",
      "F1 Score: 0.0000\n",
      "\n",
      "Class: disgust\n",
      "Precision: 0.0000\n",
      "Recall: 0.0000\n",
      "F1 Score: 0.0000\n",
      "\n",
      "Class: fear\n",
      "Precision: 0.0000\n",
      "Recall: 0.0000\n",
      "F1 Score: 0.0000\n",
      "\n",
      "Class: joy\n",
      "Precision: 0.0000\n",
      "Recall: 0.0000\n",
      "F1 Score: 0.0000\n",
      "\n",
      "Class: neutral\n",
      "Precision: 0.0000\n",
      "Recall: 0.0000\n",
      "F1 Score: 0.0000\n",
      "\n",
      "Class: sadness\n",
      "Precision: 0.0000\n",
      "Recall: 0.0000\n",
      "F1 Score: 0.0000\n",
      "\n",
      "Class: surprise\n",
      "Precision: 0.1035\n",
      "Recall: 1.0000\n",
      "F1 Score: 0.1876\n",
      "\n",
      "Class: macro avg\n",
      "Precision: 0.0148\n",
      "Recall: 0.1429\n",
      "F1 Score: 0.0268\n",
      "\n",
      "Class: weighted avg\n",
      "Precision: 0.0107\n",
      "Recall: 0.1035\n",
      "F1 Score: 0.0194\n",
      "\n",
      "Accuracy: 0.1035\n",
      "Weighted F1 Score: 0.0194\n"
     ]
    },
    {
     "name": "stderr",
     "output_type": "stream",
     "text": [
      "C:\\Users\\edayo\\AppData\\Local\\Temp\\ipykernel_21404\\2151628629.py:20: UserWarning: To copy construct from a tensor, it is recommended to use sourceTensor.clone().detach() or sourceTensor.clone().detach().requires_grad_(True), rather than torch.tensor(sourceTensor).\n",
      "  X_tensor = torch.tensor(X_set.clone().detach(), dtype=torch.float32).clone().detach()\n",
      "C:\\Users\\edayo\\AppData\\Local\\Temp\\ipykernel_21404\\2151628629.py:21: UserWarning: To copy construct from a tensor, it is recommended to use sourceTensor.clone().detach() or sourceTensor.clone().detach().requires_grad_(True), rather than torch.tensor(sourceTensor).\n",
      "  Y_tensor = torch.tensor(Y_set.clone().detach(), dtype=torch.long).clone().detach()\n"
     ]
    }
   ],
   "source": [
    "# Predict the test set\n",
    "X_testTensor, Y_testTensor = prep_data(concatenatedRepresentationTest1, y_test, False)\n",
    "classify_emotions(fcClf, X_testTensor, Y_testTensor, False)"
   ]
  },
  {
   "cell_type": "markdown",
   "id": "1a5dc686",
   "metadata": {},
   "source": [
    "<h4> Train and validate CNNBiLSTM (❌ feature selection ⭕️ Oversample) given 2 epochs"
   ]
  },
  {
   "cell_type": "code",
   "execution_count": 43,
   "id": "665f4578",
   "metadata": {
    "code_folding": []
   },
   "outputs": [
    {
     "name": "stderr",
     "output_type": "stream",
     "text": [
      "C:\\Users\\edayo\\AppData\\Local\\Temp\\ipykernel_21404\\2151628629.py:20: UserWarning: To copy construct from a tensor, it is recommended to use sourceTensor.clone().detach() or sourceTensor.clone().detach().requires_grad_(True), rather than torch.tensor(sourceTensor).\n",
      "  X_tensor = torch.tensor(X_set.clone().detach(), dtype=torch.float32).clone().detach()\n",
      "C:\\Users\\edayo\\AppData\\Local\\Temp\\ipykernel_21404\\2151628629.py:21: UserWarning: To copy construct from a tensor, it is recommended to use sourceTensor.clone().detach() or sourceTensor.clone().detach().requires_grad_(True), rather than torch.tensor(sourceTensor).\n",
      "  Y_tensor = torch.tensor(Y_set.clone().detach(), dtype=torch.long).clone().detach()\n"
     ]
    },
    {
     "name": "stdout",
     "output_type": "stream",
     "text": [
      "Label anger: 5960 occurrences\n",
      "Label disgust: 5960 occurrences\n",
      "Label fear: 5960 occurrences\n",
      "Label joy: 5960 occurrences\n",
      "Label neutral: 5960 occurrences\n",
      "Label sadness: 5960 occurrences\n",
      "Label surprise: 5960 occurrences\n",
      "torch.Size([41720, 300]) torch.Size([41720])\n"
     ]
    },
    {
     "name": "stderr",
     "output_type": "stream",
     "text": [
      "Epoch 1/11:   0%|                                                                            | 0/41720 [00:00<?, ?it/s]C:\\Users\\edayo\\AppData\\Local\\Temp\\ipykernel_21404\\3756449778.py:23: UserWarning: To copy construct from a tensor, it is recommended to use sourceTensor.clone().detach() or sourceTensor.clone().detach().requires_grad_(True), rather than torch.tensor(sourceTensor).\n",
      "  inputs = torch.tensor(inputs.clone().detach(), dtype=torch.float32)\n",
      "C:\\Users\\edayo\\AppData\\Local\\Temp\\ipykernel_21404\\3756449778.py:24: UserWarning: To copy construct from a tensor, it is recommended to use sourceTensor.clone().detach() or sourceTensor.clone().detach().requires_grad_(True), rather than torch.tensor(sourceTensor).\n",
      "  labels = torch.tensor(labels.clone().detach(), dtype=torch.long)\n",
      "                                                                                                                       \r"
     ]
    },
    {
     "name": "stdout",
     "output_type": "stream",
     "text": [
      "Epoch [1/11], Loss: 0.5492, Accuracy: 0.8229\n"
     ]
    },
    {
     "name": "stderr",
     "output_type": "stream",
     "text": [
      "                                                                                                                       \r"
     ]
    },
    {
     "name": "stdout",
     "output_type": "stream",
     "text": [
      "Epoch [2/11], Loss: 0.5942, Accuracy: 0.8044\n",
      "Training terminated early at epoch 2 due to small change in loss\n"
     ]
    },
    {
     "data": {
      "image/png": "[encoded data removed]",
      "text/plain": [
       "<Figure size 720x360 with 2 Axes>"
      ]
     },
     "metadata": {
      "needs_background": "light"
     },
     "output_type": "display_data"
    },
    {
     "name": "stdout",
     "output_type": "stream",
     "text": [
      "Training CNNBiLSTM given 15 epochs - Elapsed time: 612.7316813468933 seconds\n",
      "Class: anger\n",
      "Precision: 0.0000\n",
      "Recall: 0.0000\n",
      "F1 Score: 0.0000\n",
      "\n",
      "Class: disgust\n",
      "Precision: 0.0000\n",
      "Recall: 0.0000\n",
      "F1 Score: 0.0000\n",
      "\n",
      "Class: fear\n",
      "Precision: 0.0000\n",
      "Recall: 0.0000\n",
      "F1 Score: 0.0000\n",
      "\n",
      "Class: joy\n",
      "Precision: 0.0000\n",
      "Recall: 0.0000\n",
      "F1 Score: 0.0000\n",
      "\n",
      "Class: neutral\n",
      "Precision: 0.0000\n",
      "Recall: 0.0000\n",
      "F1 Score: 0.0000\n",
      "\n",
      "Class: sadness\n",
      "Precision: 0.0000\n",
      "Recall: 0.0000\n",
      "F1 Score: 0.0000\n",
      "\n",
      "Class: surprise\n",
      "Precision: 0.1429\n",
      "Recall: 1.0000\n",
      "F1 Score: 0.2500\n",
      "\n",
      "Class: macro avg\n",
      "Precision: 0.0204\n",
      "Recall: 0.1429\n",
      "F1 Score: 0.0357\n",
      "\n",
      "Class: weighted avg\n",
      "Precision: 0.0204\n",
      "Recall: 0.1429\n",
      "F1 Score: 0.0357\n",
      "\n",
      "Accuracy: 0.1429\n",
      "Weighted F1 Score: 0.0357\n"
     ]
    }
   ],
   "source": [
    "X_trainTensor, Y_trainTensor = prep_data(rawCtxRepresentationTrain, y_train, True)\n",
    "\n",
    "start_time = time.time()\n",
    "\n",
    "fcClf = model_train(X_set=X_trainTensor, \n",
    "                    Y_set=Y_trainTensor,\n",
    "                    input_dim=X_trainTensor.shape[1], \n",
    "                    num_epochs=11, \n",
    "                    num_classes=7)\n",
    "\n",
    "end_time = time.time()\n",
    "elapsed_time = end_time - start_time\n",
    "\n",
    "end_time = time.time()\n",
    "elapsed_time = end_time - start_time\n",
    "print(f\"Training CNNBiLSTM given 15 epochs - Elapsed time: {elapsed_time} seconds\")\n",
    "\n",
    "classify_emotions(fcClf, X_trainTensor, Y_trainTensor, True)"
   ]
  },
  {
   "cell_type": "code",
   "execution_count": 44,
   "id": "052cd879",
   "metadata": {},
   "outputs": [
    {
     "name": "stdout",
     "output_type": "stream",
     "text": [
      "Label anger: 516 occurrences\n",
      "Label disgust: 99 occurrences\n",
      "Label fear: 60 occurrences\n",
      "Label joy: 495 occurrences\n",
      "Label neutral: 1615 occurrences\n",
      "Label sadness: 263 occurrences\n",
      "Label surprise: 352 occurrences\n",
      "torch.Size([3400, 300]) torch.Size([3400])\n",
      "Class: anger\n",
      "Precision: 0.0000\n",
      "Recall: 0.0000\n",
      "F1 Score: 0.0000\n",
      "\n",
      "Class: disgust\n",
      "Precision: 0.0000\n",
      "Recall: 0.0000\n",
      "F1 Score: 0.0000\n",
      "\n",
      "Class: fear\n",
      "Precision: 0.0000\n",
      "Recall: 0.0000\n",
      "F1 Score: 0.0000\n",
      "\n",
      "Class: joy\n",
      "Precision: 0.0000\n",
      "Recall: 0.0000\n",
      "F1 Score: 0.0000\n",
      "\n",
      "Class: neutral\n",
      "Precision: 0.0000\n",
      "Recall: 0.0000\n",
      "F1 Score: 0.0000\n",
      "\n",
      "Class: sadness\n",
      "Precision: 0.0000\n",
      "Recall: 0.0000\n",
      "F1 Score: 0.0000\n",
      "\n",
      "Class: surprise\n",
      "Precision: 0.1035\n",
      "Recall: 1.0000\n",
      "F1 Score: 0.1876\n",
      "\n",
      "Class: macro avg\n",
      "Precision: 0.0148\n",
      "Recall: 0.1429\n",
      "F1 Score: 0.0268\n",
      "\n",
      "Class: weighted avg\n",
      "Precision: 0.0107\n",
      "Recall: 0.1035\n",
      "F1 Score: 0.0194\n",
      "\n",
      "Accuracy: 0.1035\n",
      "Weighted F1 Score: 0.0194\n"
     ]
    },
    {
     "name": "stderr",
     "output_type": "stream",
     "text": [
      "C:\\Users\\edayo\\AppData\\Local\\Temp\\ipykernel_21404\\2151628629.py:20: UserWarning: To copy construct from a tensor, it is recommended to use sourceTensor.clone().detach() or sourceTensor.clone().detach().requires_grad_(True), rather than torch.tensor(sourceTensor).\n",
      "  X_tensor = torch.tensor(X_set.clone().detach(), dtype=torch.float32).clone().detach()\n",
      "C:\\Users\\edayo\\AppData\\Local\\Temp\\ipykernel_21404\\2151628629.py:21: UserWarning: To copy construct from a tensor, it is recommended to use sourceTensor.clone().detach() or sourceTensor.clone().detach().requires_grad_(True), rather than torch.tensor(sourceTensor).\n",
      "  Y_tensor = torch.tensor(Y_set.clone().detach(), dtype=torch.long).clone().detach()\n"
     ]
    }
   ],
   "source": [
    "# Predict the test set\n",
    "X_testTensor, Y_testTensor = prep_data(rawCtxRepresentationTest, y_test, False)\n",
    "classify_emotions(fcClf, X_testTensor, Y_testTensor, False)"
   ]
  },
  {
   "cell_type": "markdown",
   "id": "2cac86ff",
   "metadata": {},
   "source": [
    "<h4> Train and validate BERT+EGAT (⭕️ feature selection, ⭕️ Oversample) given 11 epochs"
   ]
  },
  {
   "cell_type": "code",
   "execution_count": 56,
   "id": "3189c7d9",
   "metadata": {},
   "outputs": [
    {
     "name": "stderr",
     "output_type": "stream",
     "text": [
      "C:\\Users\\edayo\\AppData\\Local\\Temp\\ipykernel_21404\\2151628629.py:20: UserWarning: To copy construct from a tensor, it is recommended to use sourceTensor.clone().detach() or sourceTensor.clone().detach().requires_grad_(True), rather than torch.tensor(sourceTensor).\n",
      "  X_tensor = torch.tensor(X_set.clone().detach(), dtype=torch.float32).clone().detach()\n",
      "C:\\Users\\edayo\\AppData\\Local\\Temp\\ipykernel_21404\\2151628629.py:21: UserWarning: To copy construct from a tensor, it is recommended to use sourceTensor.clone().detach() or sourceTensor.clone().detach().requires_grad_(True), rather than torch.tensor(sourceTensor).\n",
      "  Y_tensor = torch.tensor(Y_set.clone().detach(), dtype=torch.long).clone().detach()\n"
     ]
    },
    {
     "name": "stdout",
     "output_type": "stream",
     "text": [
      "Label anger: 5960 occurrences\n",
      "Label disgust: 5960 occurrences\n",
      "Label fear: 5960 occurrences\n",
      "Label joy: 5960 occurrences\n",
      "Label neutral: 5960 occurrences\n",
      "Label sadness: 5960 occurrences\n",
      "Label surprise: 5960 occurrences\n",
      "torch.Size([41720, 131]) torch.Size([41720])\n"
     ]
    },
    {
     "name": "stderr",
     "output_type": "stream",
     "text": [
      "Epoch 1/5:   0%|                                                                             | 0/41720 [00:00<?, ?it/s]C:\\Users\\edayo\\AppData\\Local\\Temp\\ipykernel_21404\\1948670983.py:23: UserWarning: To copy construct from a tensor, it is recommended to use sourceTensor.clone().detach() or sourceTensor.clone().detach().requires_grad_(True), rather than torch.tensor(sourceTensor).\n",
      "  inputs = torch.tensor(inputs.clone().detach(), dtype=torch.float32)\n",
      "C:\\Users\\edayo\\AppData\\Local\\Temp\\ipykernel_21404\\1948670983.py:24: UserWarning: To copy construct from a tensor, it is recommended to use sourceTensor.clone().detach() or sourceTensor.clone().detach().requires_grad_(True), rather than torch.tensor(sourceTensor).\n",
      "  labels = torch.tensor(labels.clone().detach(), dtype=torch.long)\n",
      "                                                                                                                       \r"
     ]
    },
    {
     "name": "stdout",
     "output_type": "stream",
     "text": [
      "Epoch [1/5], Loss: 0.7708, Accuracy: 0.7471\n"
     ]
    },
    {
     "name": "stderr",
     "output_type": "stream",
     "text": [
      "                                                                                                                       \r"
     ]
    },
    {
     "name": "stdout",
     "output_type": "stream",
     "text": [
      "Epoch [2/5], Loss: 0.7725, Accuracy: 0.7529\n",
      "Training terminated early at epoch 2 due to small change in loss\n"
     ]
    },
    {
     "data": {
      "image/png": "[encoded data removed]",
      "text/plain": [
       "<Figure size 720x360 with 2 Axes>"
      ]
     },
     "metadata": {
      "needs_background": "light"
     },
     "output_type": "display_data"
    },
    {
     "name": "stdout",
     "output_type": "stream",
     "text": [
      "Training CNNBiLSTM given 15 epochs - Elapsed time: 310.8277277946472 seconds\n",
      "Class: anger\n",
      "Precision: 0.0000\n",
      "Recall: 0.0000\n",
      "F1 Score: 0.0000\n",
      "\n",
      "Class: disgust\n",
      "Precision: 0.0000\n",
      "Recall: 0.0000\n",
      "F1 Score: 0.0000\n",
      "\n",
      "Class: fear\n",
      "Precision: 0.0000\n",
      "Recall: 0.0000\n",
      "F1 Score: 0.0000\n",
      "\n",
      "Class: joy\n",
      "Precision: 0.0000\n",
      "Recall: 0.0000\n",
      "F1 Score: 0.0000\n",
      "\n",
      "Class: neutral\n",
      "Precision: 0.0000\n",
      "Recall: 0.0000\n",
      "F1 Score: 0.0000\n",
      "\n",
      "Class: sadness\n",
      "Precision: 0.0000\n",
      "Recall: 0.0000\n",
      "F1 Score: 0.0000\n",
      "\n",
      "Class: surprise\n",
      "Precision: 0.1429\n",
      "Recall: 1.0000\n",
      "F1 Score: 0.2500\n",
      "\n",
      "Class: macro avg\n",
      "Precision: 0.0204\n",
      "Recall: 0.1429\n",
      "F1 Score: 0.0357\n",
      "\n",
      "Class: weighted avg\n",
      "Precision: 0.0204\n",
      "Recall: 0.1429\n",
      "F1 Score: 0.0357\n",
      "\n",
      "Accuracy: 0.1429\n",
      "Weighted F1 Score: 0.0357\n"
     ]
    }
   ],
   "source": [
    "X_trainTensor, Y_trainTensor = prep_data(concatenatedSelectedRepresentationTrain1, y_train, True)\n",
    "\n",
    "start_time = time.time()\n",
    "\n",
    "fcClf = model_train(X_set=X_trainTensor, \n",
    "                    Y_set=Y_trainTensor,\n",
    "                    input_dim=X_trainTensor.shape[1], \n",
    "                    num_epochs=5, \n",
    "                    num_classes=7)\n",
    "\n",
    "end_time = time.time()\n",
    "elapsed_time = end_time - start_time\n",
    "\n",
    "end_time = time.time()\n",
    "elapsed_time = end_time - start_time\n",
    "print(f\"Training CNNBiLSTM given 15 epochs - Elapsed time: {elapsed_time} seconds\")\n",
    "\n",
    "classify_emotions(fcClf, X_trainTensor, Y_trainTensor, True)"
   ]
  },
  {
   "cell_type": "code",
   "execution_count": null,
   "id": "1847bae2",
   "metadata": {},
   "outputs": [],
   "source": [
    "# # Predict the test set\n",
    "X_testTensor, Y_testTensor = prep_data(concatenatedSelectedRepresentationTest1, y_test, False)\n",
    "classify_emotions(fcClf, X_testTensor, Y_testTensor, False)"
   ]
  },
  {
   "cell_type": "markdown",
   "id": "8bbfadf1",
   "metadata": {},
   "source": [
    "<h4> Train and validate BERT+EGAT (⭕️ feature selection, ❌ Oversample) given 11 epochs¶"
   ]
  },
  {
   "cell_type": "code",
   "execution_count": 53,
   "id": "3f0fbe5f",
   "metadata": {},
   "outputs": [
    {
     "name": "stderr",
     "output_type": "stream",
     "text": [
      "C:\\Users\\edayo\\AppData\\Local\\Temp\\ipykernel_21404\\2151628629.py:20: UserWarning: To copy construct from a tensor, it is recommended to use sourceTensor.clone().detach() or sourceTensor.clone().detach().requires_grad_(True), rather than torch.tensor(sourceTensor).\n",
      "  X_tensor = torch.tensor(X_set.clone().detach(), dtype=torch.float32).clone().detach()\n",
      "C:\\Users\\edayo\\AppData\\Local\\Temp\\ipykernel_21404\\2151628629.py:21: UserWarning: To copy construct from a tensor, it is recommended to use sourceTensor.clone().detach() or sourceTensor.clone().detach().requires_grad_(True), rather than torch.tensor(sourceTensor).\n",
      "  Y_tensor = torch.tensor(Y_set.clone().detach(), dtype=torch.long).clone().detach()\n"
     ]
    },
    {
     "name": "stdout",
     "output_type": "stream",
     "text": [
      "Label anger: 1500 occurrences\n",
      "Label disgust: 364 occurrences\n",
      "Label fear: 338 occurrences\n",
      "Label joy: 2312 occurrences\n",
      "Label neutral: 5960 occurrences\n",
      "Label sadness: 876 occurrences\n",
      "Label surprise: 1490 occurrences\n",
      "torch.Size([12840, 131]) torch.Size([12840])\n"
     ]
    },
    {
     "name": "stderr",
     "output_type": "stream",
     "text": [
      "Epoch 1/11:   0%|                                                                            | 0/12840 [00:00<?, ?it/s]C:\\Users\\edayo\\AppData\\Local\\Temp\\ipykernel_21404\\1948670983.py:23: UserWarning: To copy construct from a tensor, it is recommended to use sourceTensor.clone().detach() or sourceTensor.clone().detach().requires_grad_(True), rather than torch.tensor(sourceTensor).\n",
      "  inputs = torch.tensor(inputs.clone().detach(), dtype=torch.float32)\n",
      "C:\\Users\\edayo\\AppData\\Local\\Temp\\ipykernel_21404\\1948670983.py:24: UserWarning: To copy construct from a tensor, it is recommended to use sourceTensor.clone().detach() or sourceTensor.clone().detach().requires_grad_(True), rather than torch.tensor(sourceTensor).\n",
      "  labels = torch.tensor(labels.clone().detach(), dtype=torch.long)\n",
      "                                                                                                                       \r"
     ]
    },
    {
     "name": "stdout",
     "output_type": "stream",
     "text": [
      "Epoch [1/11], Loss: 1.5805, Accuracy: 0.4622\n"
     ]
    },
    {
     "name": "stderr",
     "output_type": "stream",
     "text": [
      "                                                                                                                       \r"
     ]
    },
    {
     "name": "stdout",
     "output_type": "stream",
     "text": [
      "Epoch [2/11], Loss: 1.5517, Accuracy: 0.4642\n"
     ]
    },
    {
     "name": "stderr",
     "output_type": "stream",
     "text": [
      "                                                                                                                       \r"
     ]
    },
    {
     "name": "stdout",
     "output_type": "stream",
     "text": [
      "Epoch [3/11], Loss: 1.5454, Accuracy: 0.4642\n",
      "Training terminated early at epoch 3 due to small change in loss\n"
     ]
    },
    {
     "data": {
      "image/png": "[encoded data removed]",
      "text/plain": [
       "<Figure size 720x360 with 2 Axes>"
      ]
     },
     "metadata": {
      "needs_background": "light"
     },
     "output_type": "display_data"
    },
    {
     "name": "stdout",
     "output_type": "stream",
     "text": [
      "Training CNNBiLSTM given 15 epochs - Elapsed time: 107.85777187347412 seconds\n",
      "Class: anger\n",
      "Precision: 0.0000\n",
      "Recall: 0.0000\n",
      "F1 Score: 0.0000\n",
      "\n",
      "Class: disgust\n",
      "Precision: 0.0000\n",
      "Recall: 0.0000\n",
      "F1 Score: 0.0000\n",
      "\n",
      "Class: fear\n",
      "Precision: 0.0000\n",
      "Recall: 0.0000\n",
      "F1 Score: 0.0000\n",
      "\n",
      "Class: joy\n",
      "Precision: 0.0000\n",
      "Recall: 0.0000\n",
      "F1 Score: 0.0000\n",
      "\n",
      "Class: neutral\n",
      "Precision: 0.4642\n",
      "Recall: 1.0000\n",
      "F1 Score: 0.6340\n",
      "\n",
      "Class: sadness\n",
      "Precision: 0.0000\n",
      "Recall: 0.0000\n",
      "F1 Score: 0.0000\n",
      "\n",
      "Class: surprise\n",
      "Precision: 0.0000\n",
      "Recall: 0.0000\n",
      "F1 Score: 0.0000\n",
      "\n",
      "Class: macro avg\n",
      "Precision: 0.0663\n",
      "Recall: 0.1429\n",
      "F1 Score: 0.0906\n",
      "\n",
      "Class: weighted avg\n",
      "Precision: 0.2155\n",
      "Recall: 0.4642\n",
      "F1 Score: 0.2943\n",
      "\n",
      "Accuracy: 0.4642\n",
      "Weighted F1 Score: 0.2943\n"
     ]
    }
   ],
   "source": [
    "X_trainTensor, Y_trainTensor = prep_data(concatenatedSelectedRepresentationTrain1, y_train, False)\n",
    "\n",
    "start_time = time.time()\n",
    "\n",
    "fcClf = model_train(X_set=X_trainTensor, \n",
    "                    Y_set=Y_trainTensor,\n",
    "                    input_dim=X_trainTensor.shape[1], \n",
    "                    num_epochs=11, \n",
    "                    num_classes=7)\n",
    "\n",
    "end_time = time.time()\n",
    "elapsed_time = end_time - start_time\n",
    "\n",
    "end_time = time.time()\n",
    "elapsed_time = end_time - start_time\n",
    "print(f\"Training CNNBiLSTM given 15 epochs - Elapsed time: {elapsed_time} seconds\")\n",
    "\n",
    "classify_emotions(fcClf, X_trainTensor, Y_trainTensor, True)"
   ]
  },
  {
   "cell_type": "code",
   "execution_count": 54,
   "id": "dccd7044",
   "metadata": {},
   "outputs": [
    {
     "name": "stdout",
     "output_type": "stream",
     "text": [
      "Label anger: 516 occurrences\n",
      "Label disgust: 99 occurrences\n",
      "Label fear: 60 occurrences\n",
      "Label joy: 495 occurrences\n",
      "Label neutral: 1615 occurrences\n",
      "Label sadness: 263 occurrences\n",
      "Label surprise: 352 occurrences\n",
      "torch.Size([3400, 131]) torch.Size([3400])\n",
      "Class: anger\n",
      "Precision: 0.0000\n",
      "Recall: 0.0000\n",
      "F1 Score: 0.0000\n",
      "\n",
      "Class: disgust\n",
      "Precision: 0.0000\n",
      "Recall: 0.0000\n",
      "F1 Score: 0.0000\n",
      "\n",
      "Class: fear\n",
      "Precision: 0.0000\n",
      "Recall: 0.0000\n",
      "F1 Score: 0.0000\n",
      "\n",
      "Class: joy\n",
      "Precision: 0.0000\n",
      "Recall: 0.0000\n",
      "F1 Score: 0.0000\n",
      "\n",
      "Class: neutral\n",
      "Precision: 0.4750\n",
      "Recall: 1.0000\n",
      "F1 Score: 0.6441\n",
      "\n",
      "Class: sadness\n",
      "Precision: 0.0000\n",
      "Recall: 0.0000\n",
      "F1 Score: 0.0000\n",
      "\n",
      "Class: surprise\n",
      "Precision: 0.0000\n",
      "Recall: 0.0000\n",
      "F1 Score: 0.0000\n",
      "\n",
      "Class: macro avg\n",
      "Precision: 0.0679\n",
      "Recall: 0.1429\n",
      "F1 Score: 0.0920\n",
      "\n",
      "Class: weighted avg\n",
      "Precision: 0.2256\n",
      "Recall: 0.4750\n",
      "F1 Score: 0.3059\n",
      "\n",
      "Accuracy: 0.4750\n",
      "Weighted F1 Score: 0.3059\n"
     ]
    },
    {
     "name": "stderr",
     "output_type": "stream",
     "text": [
      "C:\\Users\\edayo\\AppData\\Local\\Temp\\ipykernel_21404\\2151628629.py:20: UserWarning: To copy construct from a tensor, it is recommended to use sourceTensor.clone().detach() or sourceTensor.clone().detach().requires_grad_(True), rather than torch.tensor(sourceTensor).\n",
      "  X_tensor = torch.tensor(X_set.clone().detach(), dtype=torch.float32).clone().detach()\n",
      "C:\\Users\\edayo\\AppData\\Local\\Temp\\ipykernel_21404\\2151628629.py:21: UserWarning: To copy construct from a tensor, it is recommended to use sourceTensor.clone().detach() or sourceTensor.clone().detach().requires_grad_(True), rather than torch.tensor(sourceTensor).\n",
      "  Y_tensor = torch.tensor(Y_set.clone().detach(), dtype=torch.long).clone().detach()\n"
     ]
    }
   ],
   "source": [
    "# # Predict the test set\n",
    "X_testTensor, Y_testTensor = prep_data(concatenatedSelectedRepresentationTest1, y_test, False)\n",
    "classify_emotions(fcClf, X_testTensor, Y_testTensor, False)"
   ]
  }
 ],
 "metadata": {
  "kernelspec": {
   "display_name": "Python 3 (ipykernel)",
   "language": "python",
   "name": "python3"
  },
  "language_info": {
   "codemirror_mode": {
    "name": "ipython",
    "version": 3
   },
   "file_extension": ".py",
   "mimetype": "text/x-python",
   "name": "python",
   "nbconvert_exporter": "python",
   "pygments_lexer": "ipython3",
   "version": "3.10.4"
  },
  "toc": {
   "base_numbering": 1,
   "nav_menu": {},
   "number_sections": true,
   "sideBar": true,
   "skip_h1_title": false,
   "title_cell": "Table of Contents",
   "title_sidebar": "Contents",
   "toc_cell": false,
   "toc_position": {},
   "toc_section_display": true,
   "toc_window_display": false
  }
 },
 "nbformat": 4,
 "nbformat_minor": 5
}
