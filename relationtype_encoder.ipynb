{
 "cells": [
  {
   "cell_type": "markdown",
   "id": "29c3cd42",
   "metadata": {},
   "source": [
    "Put libraries here"
   ]
  },
  {
   "cell_type": "code",
   "execution_count": 20,
   "id": "553916bd",
   "metadata": {},
   "outputs": [
    {
     "name": "stdout",
     "output_type": "stream",
     "text": [
      "The autoreload extension is already loaded. To reload it, use:\n",
      "  %reload_ext autoreload\n"
     ]
    }
   ],
   "source": [
    "import torch, os, pickle, sys,torch.nn.init as init, dgl, numpy as np\n",
    "from torch.utils.data import Dataset, DataLoader\n",
    "import torch.nn as nn\n",
    "import torch.nn.functional as F\n",
    "from torch.nn import Parameter\n",
    "from collections import Counter\n",
    "import dgl.function as fn\n",
    "from dgl.nn.functional import edge_softmax\n",
    "import pandas as pd\n",
    "from scipy.stats import chi2_contingency\n",
    "from sklearn.manifold import TSNE\n",
    "import matplotlib.pyplot as plt\n",
    "import pickle\n",
    "\n",
    "# from GAT import GAT\n",
    "%load_ext autoreload\n",
    "%autoreload 2"
   ]
  },
  {
   "cell_type": "code",
   "execution_count": 2,
   "id": "38a0066b",
   "metadata": {},
   "outputs": [
    {
     "name": "stdout",
     "output_type": "stream",
     "text": [
      "Script Path: C:\\Users\\edayo\\Downloads\\4y2t\\THSST-2\\ug_thesis\\ER_GAT\\utils\\constans.py\n",
      "Project Directory: C:\\Users\\edayo\\Downloads\\4y2t\\THSST-2\\ug_thesis\\ER_GAT\n"
     ]
    }
   ],
   "source": [
    "script_path = os.path.abspath(\"utils\\\\constans.py\")  # Replace __file__ with the path to your script if in a notebook\n",
    "\n",
    "# Determine the project directory by moving up two levels (adjust as needed)\n",
    "project_directory = os.path.dirname(os.path.dirname(script_path))\n",
    "\n",
    "print(\"Script Path:\", script_path)\n",
    "print(\"Project Directory:\", project_directory)"
   ]
  },
  {
   "cell_type": "markdown",
   "id": "e5dc1152",
   "metadata": {},
   "source": [
    "Code related to GAT"
   ]
  },
  {
   "cell_type": "code",
   "execution_count": 3,
   "id": "2ecf3858",
   "metadata": {
    "code_folding": [
     1,
     6,
     17,
     63,
     139
    ]
   },
   "outputs": [],
   "source": [
    "\n",
    "class DialogueGraphDataLoader(DataLoader):\n",
    "    def __init__(self, node_features_list, edge_index_list, batch_size=1, shuffle=False):\n",
    "        graph_dataset = DialogueGraphDataset(node_features_list, edge_index_list)\n",
    "        super().__init__(graph_dataset, batch_size, shuffle, collate_fn=dialogue_graph_collate_fn)\n",
    "\n",
    "class DialogueGraphDataset(Dataset):\n",
    "    def __init__(self, node_features_list, edge_index_list):\n",
    "        self.node_features_list = node_features_list\n",
    "        self.edge_index_list = edge_index_list\n",
    "\n",
    "    def __len__(self):\n",
    "        return len(self.edge_index_list)\n",
    "\n",
    "    def __getitem__(self, idx):\n",
    "        return self.node_features_list[idx], self.edge_index_list[idx]\n",
    "\n",
    "def dialogue_graph_collate_fn(batch):\n",
    "    node_features_list, edge_index_list = zip(*batch)\n",
    "    \n",
    "    node_features_list_combined = []\n",
    "    num_nodes_seen = 0\n",
    "\n",
    "    for node_features, edge_index in zip(node_features_list, edge_index_list):\n",
    "        # Assuming node_features is a tuple (text_embeddings, speakers_list)\n",
    "        text_embeddings, speakers_list = node_features\n",
    "        combined_features = (text_embeddings, speakers_list)\n",
    "\n",
    "        node_features_list_combined.append(combined_features)\n",
    "\n",
    "        # Translate the range of edge_index\n",
    "        edge_index_list.append(edge_index + num_nodes_seen)\n",
    "        num_nodes_seen += len(text_embeddings)\n",
    "\n",
    "    # Merge the dialogue graphs into a single graph with multiple connected components\n",
    "    node_features_combined = [torch.cat(features, 1) for features in zip(*node_features_list_combined)]\n",
    "    edge_index = torch.cat(edge_index_list, 1)\n",
    "\n",
    "    return node_features_combined, edge_index\n",
    "\n",
    "# get one hot encoding to normalize values\n",
    "def get_ohe(edge_types):\n",
    "    # Number of classes\n",
    "    one_hot_encoding = []\n",
    "\n",
    "    # Convert to one-hot encoding\n",
    "    for edge_type in edge_types:\n",
    "        if edge_type==0:\n",
    "            one_hot_encoding.append([1. ,0. ,0.])\n",
    "        elif edge_type==1:\n",
    "            one_hot_encoding.append([0. ,1. ,0.])\n",
    "        elif edge_type==2:\n",
    "            one_hot_encoding.append([0. ,0. ,1.])\n",
    "    return torch.tensor(one_hot_encoding)\n",
    "\n",
    "# print(edge_feats)\n",
    "\n",
    "# print(sample[1]) #target: node 1\n",
    "# output: [[1, -0.018013518303632736], [4, -0.013125997968018055]]\n",
    "# print(sample[1][1]) #src: node 1\n",
    "# output: [4, -0.013125997968018055]\n",
    "# print(sample[1][1][1]) #attention val\n",
    "# output: -0.013125997968018055\n",
    "def get_inferred_edgetypes1(dialog, edge_types):\n",
    "    inferred_edge_types = []\n",
    "    inferred_edge_indices = []\n",
    "    # the input is by dialog\n",
    "    for target_node in dialog.values():\n",
    "        if len(target_node) == 1:      \n",
    "            inferred_edge_types.append(0)\n",
    "            inferred_edge_indices.append(0)\n",
    "        else:\n",
    "#             print(target_node)\n",
    "            edge_index = target_node[0][0]\n",
    "            highest_attention = target_node[0][1]\n",
    "    #         getting the relation type of a node\n",
    "            for src_node in target_node[1:]:\n",
    "#                 print(src_node)\n",
    "                if highest_attention < src_node[1]:\n",
    "                    highest_attention = src_node[1]\n",
    "                    edge_index = src_node[0]\n",
    "#                     print(src_node)\n",
    "            inferred_edge_indices.append(edge_index)\n",
    "            inferred_edge_types.append(edge_types[edge_index].tolist())\n",
    "#             print(len(edge_types), edge_index)\n",
    "    #         print(\"=======\")\n",
    "    return inferred_edge_indices, inferred_edge_types\n",
    "\n",
    "\n",
    "# [[0, [-0.006794655695557594, 0.11656633019447327, 0.10856685042381287]]]\n",
    "\n",
    "# [[1, [0.47986578941345215, 0.24290838837623596, 0.20059877634048462]], [4, [-0.005781680811196566, 0.06976183503866196, -0.0009530335664749146]]]\n",
    "\n",
    "# [[2, [0.4331742525100708, 0.20570839941501617, 0.18644499778747559]], [5, [0.4922890067100525, 0.21909664571285248, 0.09882635623216629]], [8, [-0.006040609907358885, 0.052320029586553574, 0.025565672665834427]]]\n",
    "\n",
    "def get_inferred_edgetypes2(edges_target_nodes, sample_edge_types, size_dialog, dialog_id):\n",
    "    inferred_edge_types = []\n",
    "    for target_idx in range(size_dialog):\n",
    "    #     print(sample_edgetypes[target_idx])\n",
    "        # window size\n",
    "        # print(len(sample_edgetypes[sample_idx]))\n",
    "        num_edges = len(edges_target_nodes[target_idx])\n",
    "        # display list of edges\n",
    "        # print(sample_edgetypes[sample_idx][0])\n",
    "        # highest observed attention score\n",
    "        if num_edges == 1:\n",
    "        #     print((max(sample_edgetypes[target_idx][0][1])))\n",
    "        #     highest_attn_score = max(sample_edgetypes[target_idx][0][1])\n",
    "\n",
    "    #         print(np.argmax(sample_edgetypes[target_idx][0][1]))\n",
    "            edgetype_idx = np.argmax(edges_target_nodes[target_idx][0][1])\n",
    "            edge_idx = edges_target_nodes[target_idx][0][0]\n",
    "#           referencing edge_idx for edgetype\n",
    "#             inferred_edge_types.append(sample_edge_types[edge_idx].tolist())\n",
    "#           referencing egat prediction for edgetype\n",
    "            inferred_edge_types.append(edgetype_idx)\n",
    "\n",
    "#             print(\"Actual and Predicted EdgeType: \", sample_edge_types[edge_idx].tolist(), edgetype_idx)\n",
    "        #     print(edge_idx)\n",
    "        else:\n",
    "            highest_attn_score = max(edges_target_nodes[target_idx][0][1])\n",
    "            edgetype_idx = np.argmax(edges_target_nodes[target_idx][0][1])\n",
    "            edge_idx = edges_target_nodes[target_idx][0][0]\n",
    "            for sample_edge in range(1,num_edges):\n",
    "            #     print((max(sample_edgetypes[target_idx][sample_edge][1])))\n",
    "                cur_highest_attn_score = max(edges_target_nodes[target_idx][sample_edge][1])\n",
    "                if cur_highest_attn_score > highest_attn_score:\n",
    "                    highest_attn_score = cur_highest_attn_score\n",
    "                # edge_type with highest attention\n",
    "                    edgetype_idx = np.argmax(edges_target_nodes[target_idx][sample_edge][1])\n",
    "                    edge_idx = edges_target_nodes[target_idx][sample_edge][0]\n",
    "        #     comparison\n",
    "#             inferred_edge_types.append(sample_edge_types[edge_idx].tolist())\n",
    "            inferred_edge_types.append(edgetype_idx)\n",
    "\n",
    "#             print(\"Actual and Predicted EdgeType: \", sample_edge_types[edge_idx].tolist(), edgetype_idx)\n",
    "\n",
    "    return inferred_edge_types\n",
    "\n",
    "def flatten_extend(matrix):\n",
    "    flat_list = []\n",
    "    for row in matrix:\n",
    "        flat_list.extend(row)\n",
    "    return flat_list"
   ]
  },
  {
   "cell_type": "code",
   "execution_count": 4,
   "id": "75f4cb1c",
   "metadata": {
    "code_folding": [
     0,
     51,
     52,
     73
    ]
   },
   "outputs": [],
   "source": [
    "class GATLayerWithEdgeType(nn.Module):\n",
    "    def __init__(self, num_in_features_per_head, num_out_features_per_head, num_heads, num_edge_types):\n",
    "        super(GATLayerWithEdgeType, self).__init__()\n",
    "        self.num_in_features_per_head = num_in_features_per_head\n",
    "        self.num_out_features_per_head = num_out_features_per_head\n",
    "        self.num_heads = num_heads\n",
    "        self.num_edge_types = num_edge_types\n",
    "\n",
    "        # Linear projection for node features\n",
    "        torch.manual_seed(42)\n",
    "        self.linear_proj = nn.Linear(self.num_in_features_per_head, self.num_heads * self.num_out_features_per_head)\n",
    "        \n",
    "        # Edge type embeddings\n",
    "        torch.manual_seed(42)  # Set your desired seed value\n",
    "        self.edge_type_embedding = nn.Embedding(self.num_edge_types, self.num_heads)\n",
    "        \n",
    "    def forward(self, input_data, edge_type):\n",
    "        node_features, edge_indices = input_data\n",
    "\n",
    "        # Linear projection for node features\n",
    "#         print(\"node_features.shape: \",node_features.shape, \" edge_indices: \", edge_indices.shape)\n",
    "#         print(\"edge_type.shape: \",  edge_type.shape)\n",
    "        h_linear = self.linear_proj(node_features.view(-1, self.num_in_features_per_head))\n",
    "#         print(\"h_linear.shape after linear_proj of node_features: \",h_linear.shape)\n",
    "        h_linear = h_linear.view(-1, self.num_heads, self.num_out_features_per_head)\n",
    "#         print(\"h_linear.shape after view: \",h_linear.shape)\n",
    "        # Transpose dimensions of h_linear to match edge_type_embedding's shape\n",
    "        h_linear = h_linear.permute(0, 2, 1)\n",
    "#         print(\"h_linear.shape after permuting dimension: \",h_linear.shape)\n",
    "\n",
    "        # Edge type embedding\n",
    "        edge_type_embedding = self.edge_type_embedding(edge_type).transpose(0, 1)\n",
    "#         print(\"edge_type_embedding.shape after transpose: \",edge_type_embedding.shape)\n",
    "\n",
    "        # Perform matrix multiplication\n",
    "        attention_scores = torch.matmul(h_linear, edge_type_embedding).squeeze(-1)\n",
    "#         print(\"attention_scores..shape after matmul h_linear and edge_type_emb: \",attention_scores.shape)\n",
    "\n",
    "        # Softmax to get attention coefficients\n",
    "        attention_coefficients = F.softmax(attention_scores, dim=-1)\n",
    "\n",
    "         # Weighted sum of neighbor node representations\n",
    "#         print(\"attention_coefficients.shape after softmax: \",attention_coefficients.shape)\n",
    "#       the one below is for edges\n",
    "        updated_representation = torch.matmul(attention_coefficients.transpose(1, 2), h_linear).mean(dim=2)\n",
    "#         the one below is for attention heads\n",
    "#         updated_representation = torch.matmul(attention_coefficients.transpose(1, 2), h_linear).sum(dim=1)\n",
    "#         print(\"updated_representation.shape after matmul of trasposed attn_coef and h_linear and sum at dim=1: \",updated_representation.shape)\n",
    "\n",
    "        return updated_representation, attention_coefficients\n",
    "    \n",
    "class GATWithEdgeType(nn.Module):\n",
    "    def __init__(self, num_of_layers, num_heads_per_layer, num_features_per_layer, num_edge_types):\n",
    "        super(GATWithEdgeType, self).__init__()\n",
    "\n",
    "        self.gat_net = nn.ModuleList()\n",
    "\n",
    "        for layer in range(num_of_layers):\n",
    "            num_in_features = num_heads_per_layer[layer - 1] * num_features_per_layer[layer - 1] if layer > 0 else num_features_per_layer[0]\n",
    "            num_out_features = num_heads_per_layer[layer] * num_features_per_layer[layer]\n",
    "            self.gat_net.append(GATLayerWithEdgeType(num_in_features, num_out_features, num_heads_per_layer[layer], num_edge_types))\n",
    "\n",
    "    def forward(self, node_features, edge_indices, edge_types):\n",
    "        h = node_features\n",
    "\n",
    "        attention_scores = []\n",
    "\n",
    "        for layer in self.gat_net:\n",
    "            h, attention_coefficients = layer((h, edge_indices), edge_types)\n",
    "            attention_scores.append(attention_coefficients)\n",
    "\n",
    "        return h, attention_scores\n",
    "\n",
    "class EGATConv(nn.Module):\n",
    "    r\"\"\"\n",
    "    \n",
    "    Description\n",
    "    -----------\n",
    "    Apply Graph Attention Layer over input graph. EGAT is an extension\n",
    "    of regular `Graph Attention Network <https://arxiv.org/pdf/1710.10903.pdf>`__ \n",
    "    handling edge features, detailed description is available in\n",
    "    `Rossmann-Toolbox <https://pubmed.ncbi.nlm.nih.gov/34571541/>`__ (see supplementary data).\n",
    "     The difference appears in the method how unnormalized attention scores :math:`e_{ij}`\n",
    "     are obtain:\n",
    "        \n",
    "    .. math::\n",
    "        e_{ij} &= \\vec{F} (f_{ij}^{\\prime})\n",
    "\n",
    "        f_{ij}^{\\prim} &= \\mathrm{LeakyReLU}\\left(A [ h_{i} \\| f_{ij} \\| h_{j}]\\right)\n",
    "\n",
    "    where :math:`f_{ij}^{\\prim}` are edge features, :math:`\\mathrm{A}` is weight matrix and \n",
    "    :math: `\\vec{F}` is weight vector. After that resulting node features \n",
    "    :math:`h_{i}^{\\prim}` are updated in the same way as in regular GAT. \n",
    "   \n",
    "    Parameters\n",
    "    ----------\n",
    "    in_node_feats : int\n",
    "        Input node feature size :math:`h_{i}`.\n",
    "    in_edge_feats : int\n",
    "        Input edge feature size :math:`f_{ij}`.\n",
    "    out_node_feats : int\n",
    "        Output nodes feature size.\n",
    "    out_edge_feats : int\n",
    "        Output edge feature size.\n",
    "    num_heads : int\n",
    "        Number of attention heads.\n",
    "    bias : bool, optional\n",
    "        If True, learns a bias term. Defaults: ``True``.\n",
    "        \n",
    "    Examples\n",
    "    ----------\n",
    "    >>> import dgl\n",
    "    >>> import torch as th\n",
    "    >>> from dgl.nn import EGATConv\n",
    "    >>> \n",
    "    >>> num_nodes, num_edges = 8, 30\n",
    "    >>>#define connections\n",
    "    >>> u, v = th.randint(num_nodes, num_edges), th.randint(num_nodes, num_edges) \n",
    "    >>> graph = dgl.graph((u,v))    \n",
    "\n",
    "    >>> node_feats = th.rand((num_nodes, 20)) \n",
    "    >>> edge_feats = th.rand((num_edges, 12))\n",
    "    >>> egat = EGATConv(in_node_feats=20,\n",
    "                          in_edge_feats=12,\n",
    "                          out_node_feats=15,\n",
    "                          out_edge_feats=10,\n",
    "                          num_heads=3)\n",
    "    >>> #forward pass                    \n",
    "    >>> new_node_feats, new_edge_feats = egat(graph, node_feats, edge_feats)\n",
    "    >>> new_node_feats.shape, new_edge_feats.shape\n",
    "    ((8, 3, 12), (30, 3, 10))\n",
    "    \"\"\"\n",
    "    def __init__(self,\n",
    "                 in_node_feats,\n",
    "                 in_edge_feats,\n",
    "                 out_node_feats,\n",
    "                 out_edge_feats,\n",
    "                 num_heads,\n",
    "                 bias=True,\n",
    "                 **kw_args):\n",
    "        \n",
    "        super().__init__()\n",
    "        self._num_heads = num_heads\n",
    "        self._out_node_feats = out_node_feats\n",
    "        self._out_edge_feats = out_edge_feats\n",
    "        \n",
    "        self.fc_node = nn.Linear(in_node_feats, out_node_feats * num_heads, bias=bias)\n",
    "        self.fc_ni = nn.Linear(in_node_feats, out_edge_feats * num_heads, bias=False)\n",
    "        self.fc_fij = nn.Linear(in_edge_feats, out_edge_feats * num_heads, bias=False)\n",
    "        self.fc_nj = nn.Linear(in_node_feats, out_edge_feats * num_heads, bias=False)\n",
    "        \n",
    "        # Attention parameter\n",
    "        self.attn = nn.Parameter(torch.FloatTensor(size=(1, num_heads, out_edge_feats)))\n",
    "        \n",
    "        if bias:\n",
    "            self.bias = nn.Parameter(torch.FloatTensor(size=(num_heads * out_edge_feats,)))\n",
    "        else:\n",
    "            self.register_buffer('bias', None)\n",
    "        \n",
    "        self.reset_parameters()\n",
    "\n",
    "    def reset_parameters(self):\n",
    "        \"\"\"\n",
    "        Reinitialize learnable parameters.\n",
    "        \"\"\"\n",
    "        torch.manual_seed(42)  # You can use any integer value as the seed\n",
    "        gain = init.calculate_gain('relu')\n",
    "        init.xavier_normal_(self.fc_node.weight, gain=gain)\n",
    "        init.xavier_normal_(self.fc_ni.weight, gain=gain)\n",
    "        init.xavier_normal_(self.fc_fij.weight, gain=gain)\n",
    "        init.xavier_normal_(self.fc_nj.weight, gain=gain)\n",
    "        init.xavier_normal_(self.attn, gain=gain)\n",
    "        \n",
    "        if self.bias is not None:\n",
    "            nn.init.constant_(self.bias, 0)\n",
    "\n",
    "    def forward(self, graph, nfeats, efeats, get_attention=False):\n",
    "        r\"\"\"\n",
    "        Compute new node and edge features.\n",
    "\n",
    "        Parameters\n",
    "        ----------\n",
    "        graph : DGLGraph\n",
    "            The graph.\n",
    "        nfeats : torch.Tensor\n",
    "            The input node feature of shape :math:`(*, D_{in})`\n",
    "            where:\n",
    "                :math:`D_{in}` is size of input node feature,\n",
    "                :math:`*` is the number of nodes.\n",
    "        efeats: torch.Tensor\n",
    "             The input edge feature of shape :math:`(*, F_{in})`\n",
    "             where:\n",
    "                 :math:`F_{in}` is size of input node feauture,\n",
    "                 :math:`*` is the number of edges.\n",
    "        get_attention : bool, optional\n",
    "                Whether to return the attention values. Default to False.\n",
    "            \n",
    "        Returns\n",
    "        -------\n",
    "        pair of torch.Tensor\n",
    "            node output features followed by edge output features\n",
    "            The node output feature of shape :math:`(*, H, D_{out})` \n",
    "            The edge output feature of shape :math:`(*, H, F_{out})`\n",
    "            where:\n",
    "                :math:`H` is the number of heads,\n",
    "                :math:`D_{out}` is size of output node feature,\n",
    "                :math:`F_{out}` is size of output edge feature.            \n",
    "        \"\"\"\n",
    "        \n",
    "        with graph.local_scope():\n",
    "            # TODO allow node src and dst feats\n",
    "            graph.edata['f'] = efeats\n",
    "            graph.ndata['h'] = nfeats\n",
    "            # calc edge attention\n",
    "            # same trick way as in dgl.nn.pytorch.GATConv, but also includes edge feats\n",
    "            # https://github.com/dmlc/dgl/blob/master/python/dgl/nn/pytorch/conv/gatconv.py#L297\n",
    "            f_ni = self.fc_ni(nfeats)\n",
    "            f_nj = self.fc_nj(nfeats)\n",
    "            f_fij = self.fc_fij(efeats)\n",
    "            graph.srcdata.update({'f_ni' : f_ni})\n",
    "            graph.dstdata.update({'f_nj' : f_nj})\n",
    "            #graph.edata.update({'f_fij' : f_fij})\n",
    "            # add ni, nj factors\n",
    "            graph.apply_edges(fn.u_add_v('f_ni', 'f_nj', 'f_tmp'))\n",
    "            # add fij to node factor\n",
    "            f_out = graph.edata.pop('f_tmp') + f_fij \n",
    "            if self.bias is not None:\n",
    "                f_out+= self.bias\n",
    "            f_out = nn.functional.leaky_relu(f_out)\n",
    "            f_out = f_out.view(-1, self._num_heads, self._out_edge_feats)\n",
    "            # compute attention factor\n",
    "            e = (f_out * self.attn).sum(dim=-1).unsqueeze(-1)\n",
    "            graph.edata['a'] = edge_softmax(graph, e)\n",
    "            graph.ndata['h_out'] = self.fc_node(nfeats).view(-1, self._num_heads, self._out_node_feats)\n",
    "            # calc weighted sum \n",
    "            graph.update_all(fn.u_mul_e('h_out', 'a', 'm'),\n",
    "                            fn.sum('m', 'h_out'))\n",
    "\n",
    "            h_out = graph.ndata['h_out'].view(-1, self._num_heads, self._out_node_feats)\n",
    "            if get_attention:\n",
    "                return h_out, f_out, graph.edata.pop('a')\n",
    "            else:\n",
    "                return h_out, f_out\n"
   ]
  },
  {
   "cell_type": "markdown",
   "id": "539e3ed3",
   "metadata": {},
   "source": [
    "<h3>Methods definition"
   ]
  },
  {
   "cell_type": "code",
   "execution_count": 5,
   "id": "c53e5417",
   "metadata": {
    "code_folding": [
     0,
     20,
     24,
     42,
     58
    ]
   },
   "outputs": [],
   "source": [
    "def create_node_pairs_list(start_idx, end_idx):\n",
    "    # Initialize an empty list to store pairs\n",
    "    list_node_i = []\n",
    "    list_node_j = []\n",
    "#     node_pairs_dict = {}\n",
    "    end_idx = end_idx - start_idx\n",
    "    start_idx = 0\n",
    "    for i in range(start_idx, end_idx+1):\n",
    "        val = 0\n",
    "        while (val <= 3)  and (i+val <= end_idx):\n",
    "            target_idx = i+val\n",
    "#                 print(target_idx)\n",
    "            if target_idx >= 0:\n",
    "                list_node_i.append(i)\n",
    "                list_node_j.append(target_idx)\n",
    "#                 node_pairs_dict[i] = target_idx\n",
    "            val = val+1\n",
    "    \n",
    "    return [list_node_i, list_node_j]\n",
    "\n",
    "def create_adjacency_dict(node_pairs):\n",
    "    adjacency_list_dict = {}\n",
    "\n",
    "    # Iterate through pairs of nodes\n",
    "    for i in range(0, len(node_pairs[0])):\n",
    "        source_node, target_node = node_pairs[0][i], node_pairs[1][i]\n",
    "\n",
    "#         # Add source node to target node's neighbors\n",
    "#         if target_node not in adjacency_list_dict:\n",
    "#             adjacency_list_dict[target_node] = [source_node]\n",
    "#         else:\n",
    "#             adjacency_list_dict[target_node].append(source_node)\n",
    "\n",
    "        # Add target node to source node's neighbors\n",
    "        if source_node not in adjacency_list_dict:\n",
    "            adjacency_list_dict[source_node] = [target_node]\n",
    "        else:\n",
    "            adjacency_list_dict[source_node].append(target_node)\n",
    "\n",
    "    return adjacency_list_dict\n",
    "# print(ranges[:1])\n",
    "\n",
    "def get_all_adjacency_list(ranges, key=0):\n",
    "    all_adjacency_list = []\n",
    "    for range_pair in ranges:\n",
    "        start_idx, end_idx = range_pair\n",
    "        \n",
    "        if key == 0:\n",
    "            output = create_node_pairs_list(start_idx, end_idx)\n",
    "            output = create_adjacency_dict(output)\n",
    "        elif key == 1:\n",
    "            output = create_node_pairs_list(start_idx, end_idx)\n",
    "            output = torch.tensor(output)\n",
    "        else:\n",
    "            print(\"N/A\")\n",
    "        all_adjacency_list.append(output)\n",
    "    return all_adjacency_list\n",
    "\n",
    "def get_all_edge_type_list(edge_indices, encoded_speaker_list):\n",
    "    dialogs_len = len(edge_indices)\n",
    "    whole_edge_type_list = []\n",
    "    \n",
    "    for i in range(dialogs_len): #2140 dialogs\n",
    "        dialog_nodes_pairs = edge_indices[i]\n",
    "        dialog_speakers = list(encoded_speaker_list[i])\n",
    "        dialog_len = len(dialog_nodes_pairs.keys())\n",
    "        edge_type_list = []\n",
    "#         print(i, \" th dialogue\")\n",
    "#         print(i, dialog_speakers)\n",
    "        for j in range(dialog_len): #num utterances\n",
    "            src_node = dialog_nodes_pairs[j] # j = key = src node\n",
    "            node_i_idx = j\n",
    "            win_len = len(src_node)\n",
    "            for k in range(win_len):\n",
    "                node_j_idx = src_node[k] # k = value = targ node\n",
    "                # edge_types = torch.tensor([0, 1, 2]) \n",
    "                # 0: cur-self, 1: past-self, 2: past-other/past-inter\n",
    "                                \n",
    "                if node_i_idx == node_j_idx:\n",
    "                    edge_type_list.append(0)\n",
    "#                     print(\"This is 0 \", node_i_idx, node_j_idx)\n",
    "                else:\n",
    "                    if dialog_speakers[node_i_idx] != dialog_speakers[node_j_idx]:\n",
    "                        edge_type_list.append(1)\n",
    "#                         print(\"This is 1 \", node_i_idx, node_j_idx)\n",
    "                    else:\n",
    "                        edge_type_list.append(2)\n",
    "#                         print(\"This is 2 \", node_i_idx, node_j_idx)\n",
    "        whole_edge_type_list.append(torch.tensor(edge_type_list).to(torch.int64))  \n",
    "                    \n",
    "    return whole_edge_type_list"
   ]
  },
  {
   "cell_type": "code",
   "execution_count": 6,
   "id": "20cb34a8",
   "metadata": {
    "code_folding": [
     2
    ]
   },
   "outputs": [],
   "source": [
    "checkFile = os.path.isfile(\"data/dump/speaker_encoder.pkl\")\n",
    "encoded_speaker_list = []\n",
    "if checkFile is False:\n",
    "    print(\"Run first the prototype_context_encoder to generate this file\")\n",
    "else:\n",
    "    file = open('data/dump/speaker_encoder.pkl', \"rb\")\n",
    "    encoded_speaker_list, ranges = pickle.load(file)\n",
    "    file.close()"
   ]
  },
  {
   "cell_type": "code",
   "execution_count": 7,
   "id": "7f02158e",
   "metadata": {
    "code_folding": []
   },
   "outputs": [],
   "source": [
    "file_path = 'embed/updated_representation_list.pkl'\n",
    "\n",
    "# Load the list from the file using pickle\n",
    "with open(file_path, 'rb') as file:\n",
    "    updated_representations = pickle.load(file)"
   ]
  },
  {
   "cell_type": "markdown",
   "id": "48400c3a",
   "metadata": {},
   "source": [
    "<h3> Getting the updated representation"
   ]
  },
  {
   "cell_type": "code",
   "execution_count": 8,
   "id": "ea3af5d9",
   "metadata": {},
   "outputs": [],
   "source": [
    "edge_indices = get_all_adjacency_list(ranges)\n",
    "edge_types = get_all_edge_type_list(edge_indices, encoded_speaker_list)\n",
    "edge_indices = get_all_adjacency_list(ranges, key=1)"
   ]
  },
  {
   "cell_type": "code",
   "execution_count": 9,
   "id": "658dd100",
   "metadata": {},
   "outputs": [
    {
     "name": "stdout",
     "output_type": "stream",
     "text": [
      "Number of edges:  50\n",
      "tensor([[ 0,  0,  0,  0,  1,  1,  1,  1,  2,  2,  2,  2,  3,  3,  3,  3,  4,  4,\n",
      "          4,  4,  5,  5,  5,  5,  6,  6,  6,  6,  7,  7,  7,  7,  8,  8,  8,  8,\n",
      "          9,  9,  9,  9, 10, 10, 10, 10, 11, 11, 11, 12, 12, 13],\n",
      "        [ 0,  1,  2,  3,  1,  2,  3,  4,  2,  3,  4,  5,  3,  4,  5,  6,  4,  5,\n",
      "          6,  7,  5,  6,  7,  8,  6,  7,  8,  9,  7,  8,  9, 10,  8,  9, 10, 11,\n",
      "          9, 10, 11, 12, 10, 11, 12, 13, 11, 12, 13, 12, 13, 13]])\n"
     ]
    }
   ],
   "source": [
    "# i = 38\n",
    "# print(updated_representations[i].shape)\n",
    "print(\"Number of edges: \", len(edge_indices[0][0]))\n",
    "print(edge_indices[0])"
   ]
  },
  {
   "cell_type": "markdown",
   "id": "e6fcf05f",
   "metadata": {},
   "source": [
    "<h4>Instantiating the GAT (first implementation)"
   ]
  },
  {
   "cell_type": "code",
   "execution_count": 10,
   "id": "4d385187",
   "metadata": {},
   "outputs": [],
   "source": [
    "num_in_features = 300\n",
    "num_out_features = 300\n",
    "num_heads = 4\n",
    "num_edge_types = 3\n",
    "\n",
    "gat_layer = GATLayerWithEdgeType(num_in_features, num_out_features, num_heads, num_edge_types)"
   ]
  },
  {
   "cell_type": "markdown",
   "id": "80c55310",
   "metadata": {},
   "source": [
    "Infering edge type of nodes from 1 example"
   ]
  },
  {
   "cell_type": "code",
   "execution_count": 11,
   "id": "4d8831f3",
   "metadata": {},
   "outputs": [
    {
     "name": "stdout",
     "output_type": "stream",
     "text": [
      "h_prime shape:  torch.Size([14, 50]) attention_coef shape:  torch.Size([14, 300, 50])\n"
     ]
    }
   ],
   "source": [
    "i = 0 #dialogue id\n",
    "h_prime, attention_coef = gat_layer((updated_representations[i], edge_indices[i]), edge_types[i])\n",
    "# print(f\"dialogue_representation[{i}] shape:\", updated_representations[i].shape)\n",
    "# print(\"Attention coef shape:\", attention_coef.shape)\n",
    "print(\"h_prime shape: \", h_prime.shape, \"attention_coef shape: \", attention_coef.shape)\n",
    "# source node\n",
    "# index represent the edge\n",
    "target_nodes = edge_indices[i][1].tolist() #first idx represent dialogue id\n",
    "\n",
    "sample = {}\n",
    "sample_edgetypes = []\n",
    "for target_i in set(target_nodes):\n",
    "    sample[target_i] = []\n",
    "# print(target_nodes)\n",
    "for target_node, idx in zip(target_nodes, range(len(target_nodes))):\n",
    "#     print(target_node, idx)\n",
    "    sample[target_node].append([idx, h_prime[target_node][idx].tolist()])\n",
    "\n",
    "list_edge_idx, inferred_edgetypes = get_inferred_edgetypes1(sample, edge_types[i])\n",
    "sample_edgetypes.append(inferred_edgetypes)\n",
    "\n",
    "# print(edge_types[i]) #candidate edgetypes\n",
    "# print(edge_indices[i]) #first row is the src node idx and second row is the target node idx\n",
    "# print(sample_edgetypes) #inferred edge types "
   ]
  },
  {
   "cell_type": "markdown",
   "id": "38ebf0fc",
   "metadata": {},
   "source": [
    "<h4>Exploratory Data Analysis"
   ]
  },
  {
   "cell_type": "code",
   "execution_count": 12,
   "id": "2ab03412",
   "metadata": {},
   "outputs": [
    {
     "name": "stdout",
     "output_type": "stream",
     "text": [
      "['neutral', 'anger', 'joy', 'fear', 'disgust', 'sadness', 'surprise']\n"
     ]
    }
   ],
   "source": [
    "file = open('data/dump/label_decoder.pkl', 'rb')\n",
    "label_decoder = pickle.load(file)\n",
    "file.close()\n",
    "label_decoder = list(label_decoder.values())\n",
    "print(label_decoder)"
   ]
  },
  {
   "cell_type": "code",
   "execution_count": 13,
   "id": "0030c20d",
   "metadata": {},
   "outputs": [],
   "source": [
    "checkFile = os.path.isfile(\"data/dump/train_labels.pkl\")\n",
    "\n",
    "if checkFile is False:\n",
    "    print(\"Please run the context_encoder nodebook to save label file\")\n",
    "    \n",
    "else:\n",
    "    file = open('data/dump/train_labels.pkl', 'rb')\n",
    "    y_train = pickle.load(file)\n",
    "    file.close()"
   ]
  },
  {
   "cell_type": "markdown",
   "id": "195067f2",
   "metadata": {},
   "source": [
    "Graph visualization (for W8)"
   ]
  },
  {
   "cell_type": "code",
   "execution_count": 14,
   "id": "0660ec2f",
   "metadata": {
    "code_folding": [
     0
    ]
   },
   "outputs": [],
   "source": [
    "# from pyvis.network import Network\n",
    "\n",
    "# # Create a new Pyvis Network instance\n",
    "# net = Network()\n",
    "\n",
    "# # Add nodes with labels and names\n",
    "# nodes = [(0, 'Node 0'), (1, 'Node 1'), (2, 'Node 2'), (3, 'Node 3')]\n",
    "# labels = [0, 1, 0, 1]  # Example labels for nodes\n",
    "# color_mapping = {0: 'red', 1: 'blue'}  # Define color mapping for labels\n",
    "# for node_id, node_name, label in zip(range(len(nodes)), nodes, labels):\n",
    "#     net.add_node(node_id, label=node_name[1], color=color_mapping[label])\n",
    "\n",
    "# # Add edges with weights and arrows\n",
    "# edges = [(0, 1, 0.5), (1, 2, 0.8), (2, 3, 0.6), (3, 0, 0.7)]  # Example edges with weights\n",
    "# for source, target, weight in edges:\n",
    "#     net.add_edge(source, target, value=weight, arrows='to')\n",
    "\n",
    "# # Set options for the network visualization\n",
    "# net.set_options(\"\"\"\n",
    "# var options = {\n",
    "#   \"edges\": {\n",
    "#     \"arrows\": {\n",
    "#       \"to\": {\n",
    "#         \"enabled\": true\n",
    "#       }\n",
    "#     }\n",
    "#   },\n",
    "#   \"nodes\": {\n",
    "#     \"font\": {\n",
    "#       \"size\": 20\n",
    "#     }\n",
    "#   }\n",
    "# }\n",
    "# \"\"\")\n",
    "\n",
    "# # Show the network visualization\n",
    "# net.show(\"graph.html\", notebook=False)\n"
   ]
  },
  {
   "cell_type": "markdown",
   "id": "6074b57b",
   "metadata": {},
   "source": [
    "<h5>Unsupervised Visualizarion"
   ]
  },
  {
   "cell_type": "markdown",
   "id": "713520bf",
   "metadata": {},
   "source": [
    "<h6> Visualize 1 instance then scale up"
   ]
  },
  {
   "cell_type": "code",
   "execution_count": 15,
   "id": "5df4edd5",
   "metadata": {},
   "outputs": [],
   "source": [
    "# Assuming h_prime contains the node embeddings\n",
    "utt_size=13\n",
    "labels = torch.tensor(y_train[:utt_size+1])\n",
    "\n",
    "cherrypicked_nodes = []\n",
    "for src_idx, edge_idx in zip(range(len(list_edge_idx)), list_edge_idx):\n",
    "    cherrypicked_nodes.append(attention_coef[src_idx, :, edge_idx].tolist())\n",
    "cherrypicked_nodes = torch.tensor(cherrypicked_nodes)"
   ]
  },
  {
   "cell_type": "code",
   "execution_count": 16,
   "id": "94164d24",
   "metadata": {},
   "outputs": [
    {
     "data": {
      "text/plain": [
       "torch.Size([14, 300])"
      ]
     },
     "execution_count": 16,
     "metadata": {},
     "output_type": "execute_result"
    }
   ],
   "source": [
    "cherrypicked_nodes.shape"
   ]
  },
  {
   "cell_type": "code",
   "execution_count": 17,
   "id": "eff43ab2",
   "metadata": {},
   "outputs": [
    {
     "name": "stderr",
     "output_type": "stream",
     "text": [
      "C:\\Users\\edayo\\AppData\\Local\\Temp\\ipykernel_6448\\1138302530.py:2: UserWarning: To copy construct from a tensor, it is recommended to use sourceTensor.clone().detach() or sourceTensor.clone().detach().requires_grad_(True), rather than torch.tensor(sourceTensor).\n",
      "  h_prime_np = torch.tensor(cherrypicked_nodes).numpy()\n"
     ]
    },
    {
     "data": {
      "image/png": "[encoded data removed]",
      "text/plain": [
       "<Figure size 720x576 with 1 Axes>"
      ]
     },
     "metadata": {
      "needs_background": "light"
     },
     "output_type": "display_data"
    }
   ],
   "source": [
    "# Convert tensor to numpy array\n",
    "h_prime_np = torch.tensor(cherrypicked_nodes).numpy()\n",
    "\n",
    "# Perform dimensionality reduction using t-SNE\n",
    "tsne = TSNE(n_components=3, perplexity=5, random_state=42)\n",
    "h_prime_tsne = tsne.fit_transform(h_prime_np)\n",
    "\n",
    "# Plot the node embeddings with different colors for each label\n",
    "plt.figure(figsize=(10, 8))\n",
    "for label, emotion in zip(range(len(label_decoder)),label_decoder): \n",
    "    indices = (labels == label).nonzero().squeeze()\n",
    "    plt.scatter(h_prime_tsne[indices, 0], h_prime_tsne[indices, 1], label=f'{emotion}')\n",
    "plt.title('Node Embeddings Visualization (t-SNE)', color=\"white\")\n",
    "plt.xlabel('Dimension 1', color=\"white\")\n",
    "plt.ylabel('Dimension 2', color=\"white\")\n",
    "plt.legend()\n",
    "plt.show()"
   ]
  },
  {
   "cell_type": "markdown",
   "id": "7626f6ac",
   "metadata": {},
   "source": [
    "<h6>Now for all train data"
   ]
  },
  {
   "cell_type": "code",
   "execution_count": 22,
   "id": "0b26b57d",
   "metadata": {},
   "outputs": [],
   "source": [
    "## save the data in pickle format ##\n",
    "checkFile = os.path.isfile(\"data/dump/1st_gat.pkl\")\n",
    "if checkFile is False:\n",
    "    \n",
    "    \"Start of getting output of 1st GAT\"\n",
    "    all_inferred_edgetypes = []\n",
    "    list_all_edge_idx = []\n",
    "    cherrypicked_nodes = []\n",
    "    for dialog, dialog_id in zip(updated_representations, range(len(updated_representations))):\n",
    "        h_prime, attention_coef = gat_layer((dialog, edge_indices[dialog_id]), edge_types[dialog_id])\n",
    "    #     all_attention\n",
    "        # print(f\"dialogue_representation[{i}] shape:\", updated_representations[i].shape)\n",
    "        # print(\"Attention coef shape:\", attention_coef.shape)\n",
    "        # print(\"h_prime shape:\", h_prime.shape)\n",
    "        # source node\n",
    "        # index represent the edge\n",
    "        target_nodes = edge_indices[dialog_id][1].tolist() #first idx represent dialogue id\n",
    "\n",
    "        sample_edgetypes = {}\n",
    "        for i in set(target_nodes):\n",
    "            sample_edgetypes[i] = []\n",
    "\n",
    "        for target_node, edge_idx in zip(target_nodes, range(len(target_nodes))):\n",
    "            sample_edgetypes[target_node].append([edge_idx, h_prime[target_node][edge_idx].tolist()])\n",
    "    #     print(len(sample_edgetypes), dialog_id)\n",
    "        list_edge_idx, inferred_edgetypes = get_inferred_edgetypes1(sample_edgetypes,  edge_types[dialog_id])\n",
    "        list_all_edge_idx.append(list_edge_idx)\n",
    "        all_inferred_edgetypes.append(inferred_edgetypes)\n",
    "\n",
    "\n",
    "        for src_idx, edge_idx in zip(range(len(list_edge_idx)), list_edge_idx):\n",
    "            cherrypicked_nodes.append(attention_coef[src_idx, :, edge_idx].tolist())\n",
    "\n",
    "    #     print(dialog_id)\n",
    "    cherrypicked_nodes = torch.tensor(cherrypicked_nodes)\n",
    "    cherrypicked_nodes.shape\n",
    "    \"end of getting output of 1st GAT\"\n",
    "    pickle.dump([cherrypicked_nodes, all_inferred_edgetypes],\n",
    "            open('data/dump/1st_gat', 'wb'))\n",
    "    \n",
    "else:\n",
    "    file = open('data/dump/1st_gat.pkl', 'rb')\n",
    "    cherry_picked_nodes, all_inferred_edgetypes = pickle.load(file)\n",
    "    file.close()\n"
   ]
  },
  {
   "cell_type": "code",
   "execution_count": 23,
   "id": "f70d3b05",
   "metadata": {},
   "outputs": [
    {
     "name": "stderr",
     "output_type": "stream",
     "text": [
      "C:\\Users\\edayo\\AppData\\Local\\Temp\\ipykernel_6448\\394207145.py:3: UserWarning: To copy construct from a tensor, it is recommended to use sourceTensor.clone().detach() or sourceTensor.clone().detach().requires_grad_(True), rather than torch.tensor(sourceTensor).\n",
      "  h_prime_np = torch.tensor(cherrypicked_nodes).numpy()\n"
     ]
    }
   ],
   "source": [
    "# Convert tensor to numpy array\n",
    "labels = torch.tensor(y_train) \n",
    "h_prime_np = torch.tensor(cherrypicked_nodes).numpy()"
   ]
  },
  {
   "cell_type": "code",
   "execution_count": 26,
   "id": "12c94c43",
   "metadata": {},
   "outputs": [],
   "source": [
    "runTSNE = 0"
   ]
  },
  {
   "cell_type": "code",
   "execution_count": 27,
   "id": "1f077bce",
   "metadata": {},
   "outputs": [],
   "source": [
    "if runTSNE:\n",
    "    # List of perplexity values to loop over\n",
    "    perplexity_values = [30, 100]\n",
    "\n",
    "    # Loop over each perplexity value\n",
    "    for perplexity in perplexity_values:\n",
    "        # Initialize t-SNE with the current perplexity value\n",
    "        tsne = TSNE(n_components=2, perplexity=perplexity, random_state=42)\n",
    "\n",
    "        # Fit and transform the data using t-SNE\n",
    "        h_prime_tsne = tsne.fit_transform(h_prime_np)\n",
    "\n",
    "        # Plot the node embeddings with different colors for each label\n",
    "        plt.figure(figsize=(10, 8))\n",
    "        for label, emotion in zip(range(len(label_decoder)), label_decoder): \n",
    "            indices = (labels == label).nonzero().squeeze()\n",
    "            plt.scatter(h_prime_tsne[indices, 0], h_prime_tsne[indices, 1], label=f'{emotion}')\n",
    "        plt.title(f'Node Embeddings Visualization (t-SNE) - Perplexity {perplexity}', color=\"white\")\n",
    "        plt.xlabel('Dimension 1', color=\"white\")\n",
    "        plt.ylabel('Dimension 2', color=\"white\")\n",
    "        plt.legend()\n",
    "        plt.show()"
   ]
  },
  {
   "cell_type": "markdown",
   "id": "685a8387",
   "metadata": {},
   "source": [
    "Scale up 'till you get the edgetypes of all train dialogs "
   ]
  },
  {
   "cell_type": "code",
   "execution_count": 28,
   "id": "c51f7cf3",
   "metadata": {},
   "outputs": [],
   "source": [
    "df_eda = pd.DataFrame(\n",
    "    {'edgetype': flatten_extend(all_inferred_edgetypes),\n",
    "     'label': y_train,\n",
    "    })"
   ]
  },
  {
   "cell_type": "code",
   "execution_count": 29,
   "id": "f6f5d695",
   "metadata": {},
   "outputs": [
    {
     "name": "stdout",
     "output_type": "stream",
     "text": [
      "label        0     1     2    3    4    5    6\n",
      "edgetype                                      \n",
      "0         2218   407   941   97  117  277  591\n",
      "2         3742  1093  1371  241  247  599  899\n",
      "The P-Value of the ChiSq Test is: 6.372109133776597e-20\n",
      "Two variables are correlated\n"
     ]
    }
   ],
   "source": [
    "CrosstabResult=pd.crosstab(index=df_eda['edgetype'],columns=df_eda['label'])\n",
    "print(CrosstabResult)\n",
    "\n",
    "# Performing Chi-sq test\n",
    "ChiSqResult = chi2_contingency(CrosstabResult)\n",
    "\n",
    "# P-Value is the Probability of H0 being True\n",
    "# If P-Value > 0.05 then only we Accept the assumption(H0)\n",
    "# H0: The variables are not correlated with each other.\n",
    "\n",
    "print('The P-Value of the ChiSq Test is:', ChiSqResult[1])\n",
    "if ChiSqResult[1] > 0.05:\n",
    "    print(\"Variables are not correlated with each other\")\n",
    "else:\n",
    "    print(\"Two variables are correlated\")"
   ]
  },
  {
   "cell_type": "markdown",
   "id": "0f1ec138",
   "metadata": {},
   "source": [
    "Below is a sample usage of GAT (second implementation)"
   ]
  },
  {
   "cell_type": "code",
   "execution_count": 30,
   "id": "d365dc0e",
   "metadata": {},
   "outputs": [
    {
     "name": "stdout",
     "output_type": "stream",
     "text": [
      "u:  tensor([3, 5, 5, 1, 7, 3, 4, 0, 3, 1, 5, 4, 3, 0, 0, 2, 2, 6, 1, 7, 3, 3, 7, 6,\n",
      "        5, 5, 6, 5, 2, 3])\n",
      "v:  tensor([6, 3, 7, 0, 2, 4, 2, 6, 4, 0, 6, 1, 3, 0, 3, 5, 1, 1, 0, 1, 4, 1, 3, 3,\n",
      "        6, 3, 6, 3, 4, 7])\n",
      "Graph(num_nodes=8, num_edges=30,\n",
      "      ndata_schemes={}\n",
      "      edata_schemes={})\n",
      "node_feats.shape:  torch.Size([8, 20])\n",
      "edge_feats.shape:  torch.Size([30, 12])\n"
     ]
    }
   ],
   "source": [
    "num_nodes = 8\n",
    "num_edges = 30\n",
    "#define connections\n",
    "u = torch.randint(num_nodes, (num_edges,))\n",
    "print(\"u: \", u)\n",
    "v = torch.randint(num_nodes, (num_edges,)) \n",
    "print(\"v: \", v)\n",
    "graph = dgl.graph((u,v))    \n",
    "print(graph)\n",
    "node_feats = torch.rand((num_nodes, 20)) \n",
    "print(\"node_feats.shape: \", node_feats.shape)\n",
    "edge_feats = torch.rand((num_edges, 12))\n",
    "print(\"edge_feats.shape: \", edge_feats.shape)\n"
   ]
  },
  {
   "cell_type": "code",
   "execution_count": 31,
   "id": "fabbe5f5",
   "metadata": {},
   "outputs": [],
   "source": [
    "#use as regular torch/dgl layer work similar as GATConv from dgl library\n",
    "# egat = EGATConv(in_node_feats=num_node_feats,\n",
    "#                 in_edge_feats=num_edge_feats,\n",
    "#                 out_node_feats=10,\n",
    "#                 out_edge_feats=10,\n",
    "#                 num_heads=3)"
   ]
  },
  {
   "cell_type": "code",
   "execution_count": 32,
   "id": "3799c44a",
   "metadata": {},
   "outputs": [],
   "source": [
    "# new_node_feats, new_edge_feats = egat(graph, node_feats, edge_feats)\n",
    "#new_node_feats.shape = (*, num_heads, out_node_feats)\n",
    "#new_eode_feats.shape = (*, num_heads, out_edge_feats)"
   ]
  },
  {
   "cell_type": "code",
   "execution_count": 33,
   "id": "6903cdb3",
   "metadata": {},
   "outputs": [],
   "source": [
    "egat = EGATConv(in_node_feats=300,\n",
    "                    in_edge_feats=3,\n",
    "                    out_node_feats=300,\n",
    "                    out_edge_feats=3,\n",
    "                    num_heads=4)"
   ]
  },
  {
   "cell_type": "code",
   "execution_count": 34,
   "id": "a76b43c2",
   "metadata": {},
   "outputs": [],
   "source": [
    "## save the data in pickle format ##\n",
    "checkFile = os.path.isfile(\"data/dump/2nd_gat.pkl\")\n",
    "if checkFile is False:\n",
    "    \"Start of getting output of 1st GAT\"\n",
    "    inferred_edgetypes2 = []\n",
    "    all_node_feats = []\n",
    "    for dialog_id in range(len(updated_representations)):\n",
    "        graph = dgl.graph((edge_indices[dialog_id][0],edge_indices[dialog_id][1]))    \n",
    "        edge_feats = get_ohe(edge_types[dialog_id])\n",
    "        new_node_feats, new_edge_feats = egat(graph, updated_representations[dialog_id], edge_feats)\n",
    "    #     print(new_node_feats.shape, new_edge_feats.shape)\n",
    "\n",
    "        target_nodes = edge_indices[dialog_id][1].tolist() #first idx represent dialogue id\n",
    "        mean_edge_feats = new_edge_feats.mean(dim=1)\n",
    "\n",
    "        all_node_feats.append(new_node_feats.mean(dim=1).tolist())\n",
    "\n",
    "        sample_edgetypes = {}\n",
    "        for i in set(target_nodes):\n",
    "            sample_edgetypes[i] = []\n",
    "\n",
    "        for target_node, edge_idx in zip(target_nodes, range(len(target_nodes))):\n",
    "            sample_edgetypes[target_node].append([edge_idx, mean_edge_feats[edge_idx].tolist()])\n",
    "\n",
    "        sample_edgetypes = get_inferred_edgetypes2(sample_edgetypes, \n",
    "                                edge_types[dialog_id], \n",
    "                                len(updated_representations[dialog_id]),\n",
    "                                dialog_id)\n",
    "        inferred_edgetypes2.append(sample_edgetypes)\n",
    "\n",
    "    all_node_feats = torch.tensor(flatten_extend(all_node_feats))\n",
    "\n",
    "    \"end of getting output of 2nd GAT\"\n",
    "    pickle.dump([all_node_feats, inferred_edgetypes2],\n",
    "            open('data/dump/2nd_gat', 'wb'))\n",
    "    \n",
    "else:\n",
    "    file = open('data/dump/2nd_gat.pkl', 'rb')\n",
    "    all_node_feats, inferred_edgetypes2 = pickle.load(file)\n",
    "    file.close()"
   ]
  },
  {
   "cell_type": "code",
   "execution_count": 35,
   "id": "c99dfa01",
   "metadata": {},
   "outputs": [],
   "source": [
    "df_eda2 = pd.DataFrame(\n",
    "    {'edgetype': flatten_extend(inferred_edgetypes2),\n",
    "     'label': y_train,\n",
    "    })"
   ]
  },
  {
   "cell_type": "code",
   "execution_count": 36,
   "id": "62c5a029",
   "metadata": {},
   "outputs": [
    {
     "name": "stdout",
     "output_type": "stream",
     "text": [
      "label        0    1     2    3    4    5    6\n",
      "edgetype                                     \n",
      "0         3657  971  1333  230  205  548  894\n",
      "1         2207  499   920  105  155  321  545\n",
      "2           96   30    59    3    4    7   51\n",
      "The P-Value of the ChiSq Test is: 6.228942926996122e-09\n",
      "Two variables are correlated\n"
     ]
    }
   ],
   "source": [
    "CrosstabResult2=pd.crosstab(index=df_eda2['edgetype'],columns=df_eda2['label'])\n",
    "print(CrosstabResult2)\n",
    "\n",
    "# Performing Chi-sq test\n",
    "ChiSqResult2 = chi2_contingency(CrosstabResult2)\n",
    "\n",
    "# P-Value is the Probability of H0 being True\n",
    "# If P-Value > 0.05 then only we Accept the assumption(H0)\n",
    "# H0: The variables are not correlated with each other.\n",
    "\n",
    "print('The P-Value of the ChiSq Test is:', ChiSqResult2[1])\n",
    "if ChiSqResult2[1] > 0.05:\n",
    "    print(\"Variables are not correlated with each other\")\n",
    "else:\n",
    "    print(\"Two variables are correlated\")"
   ]
  },
  {
   "cell_type": "markdown",
   "id": "583899db",
   "metadata": {},
   "source": [
    "Testing on 1 dialog data before scaling up"
   ]
  },
  {
   "cell_type": "code",
   "execution_count": 37,
   "id": "bd5890e7",
   "metadata": {
    "code_folding": []
   },
   "outputs": [
    {
     "name": "stdout",
     "output_type": "stream",
     "text": [
      "torch.Size([14, 4, 300]) torch.Size([50, 4, 3])\n"
     ]
    }
   ],
   "source": [
    "dialog_id=0\n",
    "\n",
    "graph = dgl.graph((edge_indices[dialog_id][0],edge_indices[dialog_id][1]))    \n",
    "edge_feats = get_ohe(edge_types[dialog_id])\n",
    "new_node_feats, new_edge_feats = egat(graph, updated_representations[dialog_id], edge_feats)\n",
    "print(new_node_feats.shape, new_edge_feats.shape)\n",
    "#target_nodes = edge_indices[dialog_id][1].tolist() #first idx represent dialogue id\n",
    "h_prime_mean = new_node_feats.mean(dim=1)\n",
    "utt_size=13\n",
    "labels = torch.tensor(y_train[:utt_size+1])"
   ]
  },
  {
   "cell_type": "code",
   "execution_count": 38,
   "id": "bdfcf5a5",
   "metadata": {},
   "outputs": [
    {
     "name": "stdout",
     "output_type": "stream",
     "text": [
      "torch.Size([14, 4, 300])\n",
      "torch.Size([50, 4, 3])\n"
     ]
    }
   ],
   "source": [
    "print(new_node_feats.shape)\n",
    "print(new_edge_feats.shape)"
   ]
  },
  {
   "cell_type": "code",
   "execution_count": 39,
   "id": "b7fb0eb6",
   "metadata": {},
   "outputs": [
    {
     "name": "stderr",
     "output_type": "stream",
     "text": [
      "C:\\Users\\edayo\\AppData\\Local\\Temp\\ipykernel_6448\\4041947391.py:2: UserWarning: To copy construct from a tensor, it is recommended to use sourceTensor.clone().detach() or sourceTensor.clone().detach().requires_grad_(True), rather than torch.tensor(sourceTensor).\n",
      "  h_prime_np = torch.tensor(h_prime_mean).numpy()\n"
     ]
    },
    {
     "data": {
      "image/png": "[encoded data removed]",
      "text/plain": [
       "<Figure size 720x576 with 1 Axes>"
      ]
     },
     "metadata": {
      "needs_background": "light"
     },
     "output_type": "display_data"
    }
   ],
   "source": [
    "# Convert tensor to numpy array\n",
    "h_prime_np = torch.tensor(h_prime_mean).numpy()\n",
    "\n",
    "# Perform dimensionality reduction using t-SNE\n",
    "tsne = TSNE(n_components=2, perplexity=5, random_state=42)\n",
    "h_prime_tsne = tsne.fit_transform(h_prime_np)\n",
    "\n",
    "# Plot the node embeddings with different colors for each label\n",
    "plt.figure(figsize=(10, 8))\n",
    "for label, emotion in zip(range(len(label_decoder)),label_decoder): \n",
    "    indices = (labels == label).nonzero().squeeze()\n",
    "    plt.scatter(h_prime_tsne[indices, 0], h_prime_tsne[indices, 1], label=f'{emotion}')\n",
    "plt.title('Node Embeddings Visualization (t-SNE)', color=\"white\")\n",
    "plt.xlabel('Dimension 1', color=\"white\")\n",
    "plt.ylabel('Dimension 2', color=\"white\")\n",
    "plt.legend()\n",
    "plt.show()"
   ]
  },
  {
   "cell_type": "code",
   "execution_count": 40,
   "id": "8c5ab69e",
   "metadata": {},
   "outputs": [
    {
     "data": {
      "text/plain": [
       "torch.Size([12840, 300])"
      ]
     },
     "execution_count": 40,
     "metadata": {},
     "output_type": "execute_result"
    }
   ],
   "source": [
    "all_node_feats.shape"
   ]
  },
  {
   "cell_type": "code",
   "execution_count": 41,
   "id": "789bea88",
   "metadata": {},
   "outputs": [],
   "source": [
    "runTSNE = 0"
   ]
  },
  {
   "cell_type": "code",
   "execution_count": 42,
   "id": "590c2b48",
   "metadata": {},
   "outputs": [],
   "source": [
    "if runTSNE:\n",
    "    # Convert tensor to numpy array\n",
    "    h_prime_np = torch.tensor(all_node_feats).numpy()\n",
    "    labels = torch.tensor(y_train)\n",
    "    # List of perplexity values to loop over\n",
    "    perplexity_values = [30, 100]\n",
    "\n",
    "    # Loop over each perplexity value\n",
    "    for perplexity in perplexity_values:\n",
    "        # Initialize t-SNE with the current perplexity value\n",
    "        tsne = TSNE(n_components=2, perplexity=perplexity, random_state=42)\n",
    "\n",
    "        # Fit and transform the data using t-SNE\n",
    "        h_prime_tsne = tsne.fit_transform(h_prime_np)\n",
    "        print(h_prime_tsne.shape)\n",
    "        # Plot the node embeddings with different colors for each label\n",
    "        plt.figure(figsize=(10, 8))\n",
    "        for label, emotion in zip(range(len(label_decoder)), label_decoder): \n",
    "            indices = (labels == label).nonzero().squeeze()\n",
    "            plt.scatter(h_prime_tsne[indices, 0], h_prime_tsne[indices, 1], label=f'{emotion}')\n",
    "        plt.title(f'Node Embeddings Visualization (t-SNE) - Perplexity {perplexity}', color=\"white\")\n",
    "        plt.xlabel('Dimension 1', color=\"white\")\n",
    "        plt.ylabel('Dimension 2', color=\"white\")\n",
    "        plt.legend()\n",
    "        plt.show()"
   ]
  },
  {
   "cell_type": "markdown",
   "id": "1de2a25b",
   "metadata": {},
   "source": [
    "Store the 2nd GAT output"
   ]
  }
 ],
 "metadata": {
  "kernelspec": {
   "display_name": "Python 3 (ipykernel)",
   "language": "python",
   "name": "python3"
  },
  "language_info": {
   "codemirror_mode": {
    "name": "ipython",
    "version": 3
   },
   "file_extension": ".py",
   "mimetype": "text/x-python",
   "name": "python",
   "nbconvert_exporter": "python",
   "pygments_lexer": "ipython3",
   "version": "3.10.4"
  },
  "toc": {
   "base_numbering": 1,
   "nav_menu": {
    "height": "119px",
    "width": "235px"
   },
   "number_sections": true,
   "sideBar": true,
   "skip_h1_title": false,
   "title_cell": "Table of Contents",
   "title_sidebar": "Contents",
   "toc_cell": false,
   "toc_position": {},
   "toc_section_display": true,
   "toc_window_display": false
  }
 },
 "nbformat": 4,
 "nbformat_minor": 5
}
