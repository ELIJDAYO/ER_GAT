{
 "cells": [
  {
   "cell_type": "markdown",
   "metadata": {},
   "source": [
    "# Dataset Preparation"
   ]
  },
  {
   "cell_type": "markdown",
   "metadata": {},
   "source": [
    "### Importing of libraries"
   ]
  },
  {
   "cell_type": "code",
   "execution_count": 412,
   "metadata": {},
   "outputs": [],
   "source": [
    "import pandas as pd\n",
    "import os\n",
    "import pickle\n",
    "import re\n",
    "\n",
    "from collections import Counter\n",
    "from vocab import Vocab, Vectors\n",
    "from wordebd import WORDEBD\n",
    "\n",
    "import nltk\n",
    "from nltk.corpus import stopwords\n",
    "from nltk.tokenize import word_tokenize\n",
    "from nltk.stem import WordNetLemmatizer\n",
    "from wordcloud import WordCloud\n",
    "import matplotlib.pyplot as plt\n",
    "import matplotlib.cm as cm\n",
    "from model import DATASET_PATH\n",
    "\n",
    "%matplotlib inline\n",
    "plt.style.use(\"fivethirtyeight\")"
   ]
  },
  {
   "cell_type": "code",
   "execution_count": 413,
   "metadata": {},
   "outputs": [],
   "source": [
    "dataset_path = DATASET_PATH"
   ]
  },
  {
   "cell_type": "markdown",
   "metadata": {},
   "source": [
    "### Importing of data"
   ]
  },
  {
   "cell_type": "code",
   "execution_count": 414,
   "metadata": {},
   "outputs": [
    {
     "name": "stdout",
     "output_type": "stream",
     "text": [
      "(12840, 12)\n",
      "(3400, 12)\n",
      "(1462, 12)\n"
     ]
    }
   ],
   "source": [
    "dataset_path = \"dataset_drop_noise\"\n",
    "\n",
    "# Read the CSV file\n",
    "TrainData = pd.read_csv('data/dataset_original/train_sent_emo_dya.csv', encoding='shift_jis')\n",
    "TestData = pd.read_csv('data/dataset_original/test_sent_emo_dya.csv', encoding='utf-8')\n",
    "DevData = pd.read_csv('data/dataset_original/dev_sent_emo_dya.csv', encoding='utf-8')\n",
    "\n",
    "# Display the first three rows\n",
    "print(TrainData.shape)\n",
    "print(TestData.shape)\n",
    "print(DevData.shape)\n"
   ]
  },
  {
   "cell_type": "markdown",
   "metadata": {},
   "source": [
    "### Checking statistics"
   ]
  },
  {
   "cell_type": "code",
   "execution_count": 415,
   "metadata": {},
   "outputs": [
    {
     "name": "stdout",
     "output_type": "stream",
     "text": [
      "Train Data Emotion Count: \n",
      "     Emotion  Count\n",
      "0     anger   1500\n",
      "1   disgust    364\n",
      "2      fear    338\n",
      "3       joy   2312\n",
      "4   neutral   5960\n",
      "5   sadness    876\n",
      "6  surprise   1490 \n",
      "\n",
      "Test Data Emotion Count: \n",
      "     Emotion  Count\n",
      "0     anger    516\n",
      "1   disgust     99\n",
      "2      fear     60\n",
      "3       joy    495\n",
      "4   neutral   1615\n",
      "5   sadness    263\n",
      "6  surprise    352 \n",
      "\n",
      "Validation Data Emotion Count: \n",
      "     Emotion  Count\n",
      "0     anger    208\n",
      "1   disgust     31\n",
      "2      fear     54\n",
      "3       joy    214\n",
      "4   neutral    600\n",
      "5   sadness    145\n",
      "6  surprise    210 \n",
      "\n"
     ]
    }
   ],
   "source": [
    "def showTotalEmotions(df):\n",
    "    data = pd.DataFrame(columns=[\"Emotion\", \"Count\"])\n",
    "    data['Emotion'] = [\"anger\", \"disgust\", \"fear\", \"joy\", \"neutral\", \"sadness\", \"surprise\"]\n",
    "    count = []\n",
    "\n",
    "    for emotion in data['Emotion']:\n",
    "        count.append(df[df[\"Emotion\"] == emotion].shape[0])\n",
    "    \n",
    "    data['Count'] = count\n",
    "\n",
    "    return data\n",
    "\n",
    "print(\"Train Data Emotion Count: \\n\", showTotalEmotions(TrainData), \"\\n\")\n",
    "print(\"Test Data Emotion Count: \\n\", showTotalEmotions(TestData), \"\\n\")\n",
    "print(\"Validation Data Emotion Count: \\n\", showTotalEmotions(DevData), \"\\n\")\n"
   ]
  },
  {
   "cell_type": "code",
   "execution_count": 416,
   "metadata": {},
   "outputs": [
    {
     "name": "stdout",
     "output_type": "stream",
     "text": [
      "(5955, 2)\n",
      "(2689, 2)\n",
      "(1573, 2)\n"
     ]
    }
   ],
   "source": [
    "def count_unique_words(df):\n",
    "    # Combine all utterances into a single string\n",
    "    all_text = ' '.join(df['Utterance'].astype(str).tolist())\n",
    "    \n",
    "    # Remove non-alphanumeric characters and split into words\n",
    "    words = re.findall(r'\\b\\w+\\b', all_text)\n",
    "    \n",
    "    # Remove single-letter words\n",
    "    words = [word for word in words if len(word) > 1]\\\n",
    "    \n",
    "    # Count the unique words\n",
    "    word_counts = Counter(words)\n",
    "    \n",
    "    # Convert to a dataframe\n",
    "    word_counts_df = pd.DataFrame(word_counts.items(), columns=['Word', 'Count'])\n",
    "\n",
    "     # Sort the dataframe by 'Count' in descending order\n",
    "    word_counts_df = word_counts_df.sort_values(by='Count', ascending=False).reset_index(drop=True)\n",
    "    \n",
    "    return word_counts_df\n",
    "\n",
    "print(count_unique_words(TrainData).shape)\n",
    "print(count_unique_words(TestData).shape)\n",
    "print(count_unique_words(DevData).shape)"
   ]
  },
  {
   "cell_type": "markdown",
   "metadata": {},
   "source": [
    "### Dropping of Features"
   ]
  },
  {
   "cell_type": "markdown",
   "metadata": {},
   "source": [
    "Drop Old_Dialogue_ID, Old_Utterance_ID, Season, Episode, StartTime, and EndTime"
   ]
  },
  {
   "cell_type": "code",
   "execution_count": 417,
   "metadata": {},
   "outputs": [],
   "source": [
    "# Define features to drop\n",
    "# drop_features = list(TrainData.columns[6:]) \n",
    "# drop_features"
   ]
  },
  {
   "cell_type": "code",
   "execution_count": 418,
   "metadata": {},
   "outputs": [],
   "source": [
    "# Drop features from X_train DataFrame\n",
    "# TrainData = TrainData.drop(drop_features, axis=1)\n",
    "# TestData = TestData.drop(drop_features, axis=1)\n",
    "# DevData = DevData.drop(drop_features, axis=1)"
   ]
  },
  {
   "cell_type": "code",
   "execution_count": 419,
   "metadata": {},
   "outputs": [],
   "source": [
    "key = True\n",
    "\n",
    "checkFile1 = os.path.isfile(\"data/dump/\" + dataset_path + \"/label_encoder.pkl\")\n",
    "checkFile2 = os.path.isfile(\"data/dump/\" + dataset_path + \"/label_decoder.pkl\")\n",
    "\n",
    "if not (checkFile1 and checkFile2):\n",
    "    labels = sorted(set(TrainData.Emotion))\n",
    "    labelEncoder = {label: i for i, label in enumerate(labels)}\n",
    "    labelDecoder = {i: label for i, label in enumerate(labels)}\n",
    "\n",
    "    pickle.dump(labelEncoder, open('data/dump/' + dataset_path + '/label_encoder.pkl', 'wb'))\n",
    "    pickle.dump(labelDecoder, open('data/dump/' + dataset_path + '/label_decoder.pkl', 'wb'))\n",
    "else:\n",
    "    file1 = open('data/dump/' + dataset_path + '/label_encoder.pkl', 'rb')\n",
    "    file2 = open('data/dump/' + dataset_path + '/label_decoder.pkl', 'rb')\n",
    "    labelEncoder = pickle.load(file1)\n",
    "    labelDecoder = pickle.load(file2)\n",
    "    file1.close()\n",
    "    file2.close()"
   ]
  },
  {
   "cell_type": "code",
   "execution_count": 420,
   "metadata": {},
   "outputs": [],
   "source": [
    "# labelEncoder"
   ]
  },
  {
   "cell_type": "code",
   "execution_count": 421,
   "metadata": {},
   "outputs": [],
   "source": [
    "def encode_labels(encoder, l):\n",
    "    return encoder[l]"
   ]
  },
  {
   "cell_type": "code",
   "execution_count": 422,
   "metadata": {},
   "outputs": [],
   "source": [
    "# Apply label encoding to the \"Emotion\" column in y_train\n",
    "TrainData[\"Emotion\"] = TrainData[\"Emotion\"].apply(lambda x: encode_labels(labelEncoder, x))\n",
    "TestData[\"Emotion\"] = TestData[\"Emotion\"].apply(lambda x: encode_labels(labelEncoder, x))\n",
    "DevData[\"Emotion\"] = DevData[\"Emotion\"].apply(lambda x: encode_labels(labelEncoder, x))"
   ]
  },
  {
   "cell_type": "code",
   "execution_count": 423,
   "metadata": {},
   "outputs": [],
   "source": [
    "# def find_value_ranges(lst):\n",
    "#     value_ranges = []\n",
    "#     start_index = 0\n",
    "\n",
    "#     for i in range(1, len(lst)):\n",
    "#         if lst[i] != lst[i - 1]:\n",
    "#             value_ranges.append((start_index, i - 1))\n",
    "#             start_index = i\n",
    "\n",
    "#     # Add the last range\n",
    "#     value_ranges.append((start_index, len(lst) - 1))\n",
    "\n",
    "#     return value_ranges"
   ]
  },
  {
   "cell_type": "markdown",
   "metadata": {},
   "source": [
    "### Copying orginal dataset"
   ]
  },
  {
   "cell_type": "markdown",
   "metadata": {},
   "source": [
    "This section will copy the current dataframe to be ready for export and stored at dataset_original since dataset_original will NOT have any pre-processing of utterances. "
   ]
  },
  {
   "cell_type": "code",
   "execution_count": 424,
   "metadata": {},
   "outputs": [],
   "source": [
    "TrainData_Original =  TrainData.copy()\n",
    "TestData_Original = TestData.copy()\n",
    "DevData_Original = DevData.copy()"
   ]
  },
  {
   "cell_type": "markdown",
   "metadata": {},
   "source": [
    "### Data Pre-Processing"
   ]
  },
  {
   "cell_type": "code",
   "execution_count": 425,
   "metadata": {},
   "outputs": [
    {
     "name": "stderr",
     "output_type": "stream",
     "text": [
      "[nltk_data] Downloading package punkt to\n",
      "[nltk_data]     C:\\Users\\edayo\\AppData\\Roaming\\nltk_data...\n",
      "[nltk_data]   Package punkt is already up-to-date!\n",
      "[nltk_data] Downloading package stopwords to\n",
      "[nltk_data]     C:\\Users\\edayo\\AppData\\Roaming\\nltk_data...\n",
      "[nltk_data]   Package stopwords is already up-to-date!\n",
      "[nltk_data] Downloading package wordnet to\n",
      "[nltk_data]     C:\\Users\\edayo\\AppData\\Roaming\\nltk_data...\n",
      "[nltk_data]   Package wordnet is already up-to-date!\n"
     ]
    }
   ],
   "source": [
    "# Download NLTK data (if not already downloaded)\n",
    "nltk.download('punkt')\n",
    "nltk.download('stopwords')\n",
    "nltk.download('wordnet')\n",
    "\n",
    "# Make a copy of X_train_utterances\n",
    "train_utterances = TrainData['Utterance']\n",
    "test_utterances = TestData['Utterance']\n",
    "dev_utterances = DevData['Utterance']\n",
    "\n",
    "# Get the list of stopwords\n",
    "stop_words = set(stopwords.words('english'))"
   ]
  },
  {
   "cell_type": "code",
   "execution_count": 426,
   "metadata": {},
   "outputs": [],
   "source": [
    "def get_word_emotion_counts(df):\n",
    "    # Define emotion mapping\n",
    "    emotion_mapping = {\n",
    "        'anger': 0,\n",
    "        'disgust': 1,\n",
    "        'fear': 2,\n",
    "        'joy': 3,\n",
    "        'neutral': 4,\n",
    "        'sadness': 5,\n",
    "        'surprise': 6\n",
    "    }\n",
    "    \n",
    "    # Initialize an empty dictionary to store word counts for each emotion\n",
    "    word_emotion_counts = {}\n",
    "\n",
    "    # Iterate over each row in the dataframe\n",
    "    for _, row in df.iterrows():\n",
    "        utterance = row['Utterance'].split()  # Splitting utterance into words\n",
    "        emotion = row['Emotion']\n",
    "\n",
    "        # Get the emotion label\n",
    "        emotion_label = list(emotion_mapping.keys())[emotion]\n",
    "        \n",
    "        # Iterate over each word in the set of words\n",
    "        for word in utterance:\n",
    "            if word not in word_emotion_counts:\n",
    "                word_emotion_counts[word] = {key: 0 for key in emotion_mapping.keys()}\n",
    "            word_emotion_counts[word][emotion_label] += 1\n",
    "\n",
    "    # Convert the dictionary to a dataframe\n",
    "    word_emotion_df = pd.DataFrame.from_dict(word_emotion_counts, orient='index')\n",
    "    word_emotion_df = word_emotion_df.fillna(0).astype(int)  # Ensure all values are integers\n",
    "    \n",
    "    return word_emotion_df\n",
    "\n",
    "train_word_emotion_counts = get_word_emotion_counts(TrainData)\n",
    "test_word_emotion_counts = get_word_emotion_counts(TestData)\n",
    "dev_word_emotion_counts = get_word_emotion_counts(DevData)"
   ]
  },
  {
   "cell_type": "code",
   "execution_count": 427,
   "metadata": {},
   "outputs": [
    {
     "data": {
      "text/html": [
       "<div>\n",
       "<style scoped>\n",
       "    .dataframe tbody tr th:only-of-type {\n",
       "        vertical-align: middle;\n",
       "    }\n",
       "\n",
       "    .dataframe tbody tr th {\n",
       "        vertical-align: top;\n",
       "    }\n",
       "\n",
       "    .dataframe thead th {\n",
       "        text-align: right;\n",
       "    }\n",
       "</style>\n",
       "<table border=\"1\" class=\"dataframe\">\n",
       "  <thead>\n",
       "    <tr style=\"text-align: right;\">\n",
       "      <th></th>\n",
       "      <th>anger</th>\n",
       "      <th>disgust</th>\n",
       "      <th>fear</th>\n",
       "      <th>joy</th>\n",
       "      <th>neutral</th>\n",
       "      <th>sadness</th>\n",
       "      <th>surprise</th>\n",
       "    </tr>\n",
       "  </thead>\n",
       "  <tbody>\n",
       "    <tr>\n",
       "      <th>also</th>\n",
       "      <td>2</td>\n",
       "      <td>0</td>\n",
       "      <td>1</td>\n",
       "      <td>6</td>\n",
       "      <td>7</td>\n",
       "      <td>0</td>\n",
       "      <td>0</td>\n",
       "    </tr>\n",
       "    <tr>\n",
       "      <th>I</th>\n",
       "      <td>521</td>\n",
       "      <td>107</td>\n",
       "      <td>172</td>\n",
       "      <td>703</td>\n",
       "      <td>1599</td>\n",
       "      <td>474</td>\n",
       "      <td>255</td>\n",
       "    </tr>\n",
       "    <tr>\n",
       "      <th>was</th>\n",
       "      <td>73</td>\n",
       "      <td>19</td>\n",
       "      <td>18</td>\n",
       "      <td>121</td>\n",
       "      <td>225</td>\n",
       "      <td>66</td>\n",
       "      <td>58</td>\n",
       "    </tr>\n",
       "    <tr>\n",
       "      <th>the</th>\n",
       "      <td>318</td>\n",
       "      <td>100</td>\n",
       "      <td>40</td>\n",
       "      <td>374</td>\n",
       "      <td>1106</td>\n",
       "      <td>181</td>\n",
       "      <td>171</td>\n",
       "    </tr>\n",
       "    <tr>\n",
       "      <th>point</th>\n",
       "      <td>1</td>\n",
       "      <td>0</td>\n",
       "      <td>0</td>\n",
       "      <td>0</td>\n",
       "      <td>4</td>\n",
       "      <td>1</td>\n",
       "      <td>0</td>\n",
       "    </tr>\n",
       "  </tbody>\n",
       "</table>\n",
       "</div>"
      ],
      "text/plain": [
       "       anger  disgust  fear  joy  neutral  sadness  surprise\n",
       "also       2        0     1    6        7        0         0\n",
       "I        521      107   172  703     1599      474       255\n",
       "was       73       19    18  121      225       66        58\n",
       "the      318      100    40  374     1106      181       171\n",
       "point      1        0     0    0        4        1         0"
      ]
     },
     "execution_count": 427,
     "metadata": {},
     "output_type": "execute_result"
    }
   ],
   "source": [
    "train_word_emotion_counts.head()"
   ]
  },
  {
   "cell_type": "code",
   "execution_count": 428,
   "metadata": {
    "code_folding": [
     0
    ]
   },
   "outputs": [],
   "source": [
    "def plot_word_emotion_counts(df, top_n=10):\n",
    "    # Define colors for each emotion\n",
    "    emotion_colors = {\n",
    "        'anger': 'red',\n",
    "        'disgust': 'green',\n",
    "        'fear': 'purple',\n",
    "        'joy': 'yellow',\n",
    "        'neutral': 'black',\n",
    "        'sadness': 'darkblue',\n",
    "        'surprise': 'orange'\n",
    "    }\n",
    "    \n",
    "    # Plot the top N words for each emotion\n",
    "    emotions = df.columns\n",
    "    \n",
    "    plt.style.use('default')  # Reset to default style for white background\n",
    "\n",
    "    # Determine the number of rows needed based on the number of emotions and desired columns\n",
    "    num_emotions = len(emotions)\n",
    "    num_cols = 3\n",
    "    num_rows = (num_emotions + num_cols - 1) // num_cols  # Ceiling division\n",
    "\n",
    "    fig, axes = plt.subplots(num_rows, num_cols, figsize=(15, 5 * num_rows))\n",
    "    axes = axes.flatten()  # Flatten axes for easy iteration\n",
    "\n",
    "    for idx, emotion in enumerate(emotions):\n",
    "        # Sort the dataframe by the count of the current emotion and get the top N words\n",
    "        top_words = df[emotion].sort_values(ascending=False).head(top_n)\n",
    "        \n",
    "        # Create a bar plot\n",
    "        axes[idx].bar(top_words.index, top_words.values, color=emotion_colors[emotion])\n",
    "        axes[idx].set_title(f'Top {top_n} words for {emotion}')\n",
    "        axes[idx].set_xlabel('Words')\n",
    "        axes[idx].set_ylabel('Count')\n",
    "        axes[idx].tick_params(axis='x', rotation=45)\n",
    "        \n",
    "    # Hide any empty subplots\n",
    "    for i in range(len(emotions), len(axes)):\n",
    "        fig.delaxes(axes[i])\n",
    "\n",
    "    plt.tight_layout()\n",
    "    plt.show()"
   ]
  },
  {
   "cell_type": "code",
   "execution_count": 429,
   "metadata": {},
   "outputs": [
    {
     "data": {
      "image/png": "[encoded data removed]",
      "text/plain": [
       "<Figure size 1500x1500 with 7 Axes>"
      ]
     },
     "metadata": {},
     "output_type": "display_data"
    }
   ],
   "source": [
    "plot_word_emotion_counts(train_word_emotion_counts)"
   ]
  },
  {
   "cell_type": "code",
   "execution_count": 430,
   "metadata": {},
   "outputs": [],
   "source": [
    "def clean_text(text):\n",
    "\n",
    "    # Use regular expression to remove standalone punctuation\n",
    "    text = re.sub(r'\\s+[^\\w\\s]+\\s+', ' ', text)  \n",
    "    text = re.sub(r'^\\s*[^\\w\\s]+\\s*$', '', text)  \n",
    "    text = re.sub(r'^\\s*[^\\w\\s]+\\s*', '', text)  \n",
    "    text = re.sub(r'\\s*[^\\w\\s]+\\s*$', '', text) \n",
    "\n",
    "    # Tokenize\n",
    "    words = word_tokenize(text)\n",
    "\n",
    "    # Remove punctuation and non-alphabetic characters, and stop words\n",
    "    words = [word for word in words if word not in stop_words]\n",
    "    \n",
    "    words = [word for word in words if word not in [',', '.', '\\'', '!', '?']]\n",
    "    words = [word for word in words if word not in [',', '.', '\\'', '!', '?']]\n",
    "\n",
    "    # Join words back into a single string\n",
    "    cleaned_text = ' '.join(words)\n",
    "    return cleaned_text\n",
    "\n",
    "\n",
    "# Apply the clean_text function to each utterance\n",
    "TrainData[\"Utterance\"] = TrainData[\"Utterance\"].apply(clean_text)\n",
    "TestData[\"Utterance\"] = TestData[\"Utterance\"].apply(clean_text)\n",
    "DevData[\"Utterance\"] = DevData[\"Utterance\"].apply(clean_text)"
   ]
  },
  {
   "cell_type": "code",
   "execution_count": 431,
   "metadata": {},
   "outputs": [
    {
     "data": {
      "text/plain": [
       "2673                            How many times I told guys\n",
       "5213     All right comes I ’ gon na I ’ gon na tell I ’...\n",
       "6076     Uh say would umm… Would mind checking see umm ...\n",
       "6559     Let 's get started Five six a-five six seven e...\n",
       "5325                                                 Right\n",
       "11147                                               Do sit\n",
       "1976                           We switching next rest stop\n",
       "98                                              Great Okay\n",
       "7905                                           Maybe level\n",
       "9915                                            Oh You got\n",
       "Name: Utterance, dtype: object"
      ]
     },
     "execution_count": 431,
     "metadata": {},
     "output_type": "execute_result"
    }
   ],
   "source": [
    "TrainData[\"Utterance\"].sample(10)"
   ]
  },
  {
   "cell_type": "code",
   "execution_count": 432,
   "metadata": {},
   "outputs": [
    {
     "data": {
      "text/plain": [
       "0                     Why ’ coffee mugs numbers bottom\n",
       "1    Oh That ’ Monica keep track That way one missi...\n",
       "2                                               Y'know\n",
       "3                                                 Okay\n",
       "4                                Ross n't say elevator\n",
       "Name: Utterance, dtype: object"
      ]
     },
     "execution_count": 432,
     "metadata": {},
     "output_type": "execute_result"
    }
   ],
   "source": [
    "TestData[\"Utterance\"].head()"
   ]
  },
  {
   "cell_type": "code",
   "execution_count": 433,
   "metadata": {},
   "outputs": [
    {
     "data": {
      "text/plain": [
       "0                  Oh God ’ lost He ’ totally lost\n",
       "1                                             What\n",
       "2    Or Or could go bank close accounts cut source\n",
       "3                                     You ’ genius\n",
       "4                                     You ’ genius\n",
       "Name: Utterance, dtype: object"
      ]
     },
     "execution_count": 433,
     "metadata": {},
     "output_type": "execute_result"
    }
   ],
   "source": [
    "DevData[\"Utterance\"].head()"
   ]
  },
  {
   "cell_type": "markdown",
   "metadata": {},
   "source": [
    "Check for empty strings"
   ]
  },
  {
   "cell_type": "code",
   "execution_count": 434,
   "metadata": {},
   "outputs": [
    {
     "name": "stdout",
     "output_type": "stream",
     "text": [
      "Empty in Train Utterances: 1\n",
      "Empty in Test Utterances: 0\n",
      "Empty in Dev Utterances: 0\n"
     ]
    }
   ],
   "source": [
    "# Count the empty string values in X_train_utterances\n",
    "empty_string_count_train = (TrainData[\"Utterance\"] == '').sum()\n",
    "empty_string_count_test = (TestData[\"Utterance\"] == '').sum()\n",
    "empty_string_count_dev = (DevData[\"Utterance\"] == '').sum()\n",
    "\n",
    "print(f\"Empty in Train Utterances: {empty_string_count_train}\")\n",
    "print(f\"Empty in Test Utterances: {empty_string_count_test}\")\n",
    "print(f\"Empty in Dev Utterances: {empty_string_count_dev}\")"
   ]
  },
  {
   "cell_type": "markdown",
   "metadata": {},
   "source": [
    "Update 'Utterance' column and remove all empty strings"
   ]
  },
  {
   "cell_type": "code",
   "execution_count": 435,
   "metadata": {},
   "outputs": [
    {
     "name": "stdout",
     "output_type": "stream",
     "text": [
      "Train data shape after removing empty utterances: (12839, 12)\n",
      "Test data shape after removing empty utterances: (3400, 12)\n",
      "Dev data shape after removing empty utterances: (1462, 12)\n",
      "Some examples from TrainData after removing empty utterances:\n",
      "0    also I point person company ’ transition KL-5 ...\n",
      "1                                You must ’ hands full\n",
      "2                                        That I That I\n",
      "3                      So let ’ talk little bit duties\n",
      "4                                  My duties All right\n",
      "Name: Utterance, dtype: object\n"
     ]
    }
   ],
   "source": [
    "# # Update X_train with the cleaned utterances\n",
    "# TrainData['Utterance'] = train_utterances\n",
    "# TestData['Utterance'] = test_utterances\n",
    "# DevData['Utterance'] = dev_utterances\n",
    "\n",
    "# Ensure no leading/trailing spaces in Utterance\n",
    "TrainData['Utterance'] = TrainData['Utterance'].str.strip()\n",
    "TestData['Utterance'] = TestData['Utterance'].str.strip()\n",
    "DevData['Utterance'] = DevData['Utterance'].str.strip()\n",
    "\n",
    "# Drop rows where Utterance is an empty string. Empty string value is ''.\n",
    "TrainData = TrainData[TrainData['Utterance'] != '']\n",
    "TestData = TestData[TestData['Utterance'] != '']\n",
    "DevData = DevData[DevData['Utterance'] != '']\n",
    "\n",
    "# Reset the index\n",
    "TrainData.reset_index(drop=True, inplace=True)\n",
    "TestData.reset_index(drop=True, inplace=True)\n",
    "DevData.reset_index(drop=True, inplace=True)\n",
    "\n",
    "print(f\"Train data shape after removing empty utterances: {TrainData.shape}\")\n",
    "print(f\"Test data shape after removing empty utterances: {TestData.shape}\")\n",
    "print(f\"Dev data shape after removing empty utterances: {DevData.shape}\")\n",
    "\n",
    "# Print some examples to debug\n",
    "print(\"Some examples from TrainData after removing empty utterances:\")\n",
    "print(TrainData['Utterance'].head())"
   ]
  },
  {
   "cell_type": "code",
   "execution_count": 437,
   "metadata": {},
   "outputs": [
    {
     "data": {
      "text/plain": [
       "12839"
      ]
     },
     "execution_count": 437,
     "metadata": {},
     "output_type": "execute_result"
    }
   ],
   "source": [
    "len(TrainData)"
   ]
  },
  {
   "cell_type": "code",
   "execution_count": 436,
   "metadata": {},
   "outputs": [
    {
     "name": "stdout",
     "output_type": "stream",
     "text": [
      "2160\n",
      "577\n",
      "270\n"
     ]
    }
   ],
   "source": [
    "rangesTrain = find_value_ranges(TrainData[\"Dialogue_ID\"])\n",
    "print(len(rangesTrain))\n",
    "\n",
    "rangesTest = find_value_ranges(TestData[\"Dialogue_ID\"])\n",
    "print(len(rangesTest))\n",
    "\n",
    "rangesDev = find_value_ranges(DevData[\"Dialogue_ID\"])\n",
    "print(len(rangesDev))"
   ]
  },
  {
   "cell_type": "code",
   "execution_count": null,
   "metadata": {},
   "outputs": [],
   "source": []
  },
  {
   "cell_type": "markdown",
   "metadata": {},
   "source": [
    "<b>Take note of new shape of Train and Test Data after dropping the values"
   ]
  },
  {
   "cell_type": "markdown",
   "metadata": {},
   "source": [
    "Remove rows with *n* or below number of words and create a new **Dropped Words Dataset**"
   ]
  },
  {
   "cell_type": "code",
   "execution_count": 393,
   "metadata": {},
   "outputs": [
    {
     "name": "stdout",
     "output_type": "stream",
     "text": [
      "After removing rows with 2 words or fewer:\n",
      "Train shape : (9394, 12)\n",
      "Test shape: (2494, 12)\n",
      "Dev shape: (1073, 12)\n",
      "Some examples from TrainData after removing short utterances:\n",
      "0    also I point person company ’ transition KL-5 ...\n",
      "1                                You must ’ hands full\n",
      "2                                        That I That I\n",
      "3                      So let ’ talk little bit duties\n",
      "4                                  My duties All right\n",
      "Name: Utterance, dtype: object\n"
     ]
    }
   ],
   "source": [
    "n = 2 # This number removes rows with n or fewer words. (Retains rows with more than n words)\n",
    "\n",
    "# Retain rows with more than n words\n",
    "TrainData = TrainData[TrainData['Utterance'].apply(lambda x: len(x.split()) > n)]\n",
    "TestData = TestData[TestData['Utterance'].apply(lambda x: len(x.split()) > n)]\n",
    "DevData = DevData[DevData['Utterance'].apply(lambda x: len(x.split()) > n)]\n",
    "\n",
    "# Reset the index again\n",
    "TrainData.reset_index(drop=True, inplace=True)\n",
    "TestData.reset_index(drop=True, inplace=True)\n",
    "DevData.reset_index(drop=True, inplace=True)\n",
    "\n",
    "print(f\"After removing rows with {n} words or fewer:\")\n",
    "print(f\"Train shape : {TrainData.shape}\")\n",
    "print(f\"Test shape: {TestData.shape}\")\n",
    "print(f\"Dev shape: {DevData.shape}\")\n",
    "\n",
    "# Print some examples to debug\n",
    "print(\"Some examples from TrainData after removing short utterances:\")\n",
    "print(TrainData['Utterance'].head())"
   ]
  },
  {
   "cell_type": "code",
   "execution_count": 395,
   "metadata": {},
   "outputs": [
    {
     "data": {
      "text/plain": [
       "40    Listen I ’ ah I ’ sorry I ’ crazy jealous ’ I ...\n",
       "41                                   Ameri-can Y'know ’\n",
       "42                                   Ameri-can Y'know ’\n",
       "43                     Good job Joe Well done Top notch\n",
       "44                           You liked You really liked\n",
       "45                                   Which part exactly\n",
       "Name: Utterance, dtype: object"
      ]
     },
     "execution_count": 395,
     "metadata": {},
     "output_type": "execute_result"
    }
   ],
   "source": [
    "print(TrainData['Utterance'][40:46])"
   ]
  },
  {
   "cell_type": "code",
   "execution_count": 397,
   "metadata": {},
   "outputs": [
    {
     "name": "stdout",
     "output_type": "stream",
     "text": [
      "40        Ross\n",
      "41      Phoebe\n",
      "42      Phoebe\n",
      "43    Chandler\n",
      "44        Joey\n",
      "45        Joey\n",
      "Name: Speaker, dtype: object\n"
     ]
    }
   ],
   "source": [
    "print(TrainData['Speaker'][40:46])"
   ]
  },
  {
   "cell_type": "code",
   "execution_count": 398,
   "metadata": {},
   "outputs": [
    {
     "name": "stdout",
     "output_type": "stream",
     "text": [
      "40    5\n",
      "41    4\n",
      "42    4\n",
      "43    3\n",
      "44    6\n",
      "45    4\n",
      "Name: Emotion, dtype: int64\n"
     ]
    }
   ],
   "source": [
    "print(TrainData['Emotion'][40:46])"
   ]
  },
  {
   "cell_type": "markdown",
   "metadata": {},
   "source": [
    "Get random sample from train and test data"
   ]
  },
  {
   "cell_type": "code",
   "execution_count": 349,
   "metadata": {
    "code_folding": [
     0
    ]
   },
   "outputs": [
    {
     "data": {
      "text/html": [
       "<div>\n",
       "<style scoped>\n",
       "    .dataframe tbody tr th:only-of-type {\n",
       "        vertical-align: middle;\n",
       "    }\n",
       "\n",
       "    .dataframe tbody tr th {\n",
       "        vertical-align: top;\n",
       "    }\n",
       "\n",
       "    .dataframe thead th {\n",
       "        text-align: right;\n",
       "    }\n",
       "</style>\n",
       "<table border=\"1\" class=\"dataframe\">\n",
       "  <thead>\n",
       "    <tr style=\"text-align: right;\">\n",
       "      <th></th>\n",
       "      <th>Utterance</th>\n",
       "      <th>Emotion</th>\n",
       "    </tr>\n",
       "  </thead>\n",
       "  <tbody>\n",
       "    <tr>\n",
       "      <th>3582</th>\n",
       "      <td>Oh yeah With</td>\n",
       "      <td>6</td>\n",
       "    </tr>\n",
       "    <tr>\n",
       "      <th>6178</th>\n",
       "      <td>I think lover ’ spat start little early month</td>\n",
       "      <td>0</td>\n",
       "    </tr>\n",
       "    <tr>\n",
       "      <th>5487</th>\n",
       "      <td>I wanted thank last night great party</td>\n",
       "      <td>3</td>\n",
       "    </tr>\n",
       "    <tr>\n",
       "      <th>8045</th>\n",
       "      <td>Janice ’ birthday coming I want get something ...</td>\n",
       "      <td>4</td>\n",
       "    </tr>\n",
       "    <tr>\n",
       "      <th>1885</th>\n",
       "      <td>Look umm people want tell story</td>\n",
       "      <td>0</td>\n",
       "    </tr>\n",
       "    <tr>\n",
       "      <th>5445</th>\n",
       "      <td>You got ta take care</td>\n",
       "      <td>4</td>\n",
       "    </tr>\n",
       "    <tr>\n",
       "      <th>4248</th>\n",
       "      <td>Hey Any good mail</td>\n",
       "      <td>4</td>\n",
       "    </tr>\n",
       "    <tr>\n",
       "      <th>9312</th>\n",
       "      <td>You took watch</td>\n",
       "      <td>6</td>\n",
       "    </tr>\n",
       "    <tr>\n",
       "      <th>88</th>\n",
       "      <td>Fine You ’ ll-you ’ watch video get back</td>\n",
       "      <td>4</td>\n",
       "    </tr>\n",
       "    <tr>\n",
       "      <th>7393</th>\n",
       "      <td>I guess n't</td>\n",
       "      <td>4</td>\n",
       "    </tr>\n",
       "  </tbody>\n",
       "</table>\n",
       "</div>"
      ],
      "text/plain": [
       "                                              Utterance  Emotion\n",
       "3582                                       Oh yeah With        6\n",
       "6178      I think lover ’ spat start little early month        0\n",
       "5487              I wanted thank last night great party        3\n",
       "8045  Janice ’ birthday coming I want get something ...        4\n",
       "1885                    Look umm people want tell story        0\n",
       "5445                               You got ta take care        4\n",
       "4248                                  Hey Any good mail        4\n",
       "9312                                     You took watch        6\n",
       "88             Fine You ’ ll-you ’ watch video get back        4\n",
       "7393                                        I guess n't        4"
      ]
     },
     "execution_count": 349,
     "metadata": {},
     "output_type": "execute_result"
    }
   ],
   "source": [
    "# Randomly select 10 rows\n",
    "random_sample = TrainData.sample(n=10)[[\"Utterance\", \"Emotion\"]]\n",
    "\n",
    "random_sample"
   ]
  },
  {
   "cell_type": "code",
   "execution_count": 350,
   "metadata": {
    "code_folding": [
     0
    ]
   },
   "outputs": [
    {
     "data": {
      "text/html": [
       "<div>\n",
       "<style scoped>\n",
       "    .dataframe tbody tr th:only-of-type {\n",
       "        vertical-align: middle;\n",
       "    }\n",
       "\n",
       "    .dataframe tbody tr th {\n",
       "        vertical-align: top;\n",
       "    }\n",
       "\n",
       "    .dataframe thead th {\n",
       "        text-align: right;\n",
       "    }\n",
       "</style>\n",
       "<table border=\"1\" class=\"dataframe\">\n",
       "  <thead>\n",
       "    <tr style=\"text-align: right;\">\n",
       "      <th></th>\n",
       "      <th>Utterance</th>\n",
       "      <th>Emotion</th>\n",
       "    </tr>\n",
       "  </thead>\n",
       "  <tbody>\n",
       "    <tr>\n",
       "      <th>1010</th>\n",
       "      <td>Oh Oh That 's hard</td>\n",
       "      <td>6</td>\n",
       "    </tr>\n",
       "    <tr>\n",
       "      <th>166</th>\n",
       "      <td>Oh I believe ’ using divorce sell mattresses</td>\n",
       "      <td>0</td>\n",
       "    </tr>\n",
       "    <tr>\n",
       "      <th>2290</th>\n",
       "      <td>What We 're going hospital</td>\n",
       "      <td>6</td>\n",
       "    </tr>\n",
       "    <tr>\n",
       "      <th>88</th>\n",
       "      <td>I mean enough silliness</td>\n",
       "      <td>0</td>\n",
       "    </tr>\n",
       "    <tr>\n",
       "      <th>2116</th>\n",
       "      <td>Oh anyway I wanted say wonderful I think</td>\n",
       "      <td>3</td>\n",
       "    </tr>\n",
       "    <tr>\n",
       "      <th>900</th>\n",
       "      <td>You said bald</td>\n",
       "      <td>0</td>\n",
       "    </tr>\n",
       "    <tr>\n",
       "      <th>960</th>\n",
       "      <td>Alright well good I love</td>\n",
       "      <td>3</td>\n",
       "    </tr>\n",
       "    <tr>\n",
       "      <th>1517</th>\n",
       "      <td>Look I ’ need steal stupid ring right</td>\n",
       "      <td>0</td>\n",
       "    </tr>\n",
       "    <tr>\n",
       "      <th>2409</th>\n",
       "      <td>I 'm sorry n't better news test last week I wa...</td>\n",
       "      <td>4</td>\n",
       "    </tr>\n",
       "    <tr>\n",
       "      <th>2089</th>\n",
       "      <td>I thought gon na closed casket</td>\n",
       "      <td>4</td>\n",
       "    </tr>\n",
       "  </tbody>\n",
       "</table>\n",
       "</div>"
      ],
      "text/plain": [
       "                                              Utterance  Emotion\n",
       "1010                                 Oh Oh That 's hard        6\n",
       "166        Oh I believe ’ using divorce sell mattresses        0\n",
       "2290                         What We 're going hospital        6\n",
       "88                              I mean enough silliness        0\n",
       "2116           Oh anyway I wanted say wonderful I think        3\n",
       "900                                       You said bald        0\n",
       "960                            Alright well good I love        3\n",
       "1517              Look I ’ need steal stupid ring right        0\n",
       "2409  I 'm sorry n't better news test last week I wa...        4\n",
       "2089                     I thought gon na closed casket        4"
      ]
     },
     "execution_count": 350,
     "metadata": {},
     "output_type": "execute_result"
    }
   ],
   "source": [
    "# Randomly select 10 rows\n",
    "random_sample = TestData.sample(n=10)[[\"Utterance\", \"Emotion\"]]\n",
    "\n",
    "random_sample"
   ]
  },
  {
   "cell_type": "code",
   "execution_count": 351,
   "metadata": {
    "code_folding": [
     0
    ],
    "scrolled": false
   },
   "outputs": [
    {
     "data": {
      "text/html": [
       "<div>\n",
       "<style scoped>\n",
       "    .dataframe tbody tr th:only-of-type {\n",
       "        vertical-align: middle;\n",
       "    }\n",
       "\n",
       "    .dataframe tbody tr th {\n",
       "        vertical-align: top;\n",
       "    }\n",
       "\n",
       "    .dataframe thead th {\n",
       "        text-align: right;\n",
       "    }\n",
       "</style>\n",
       "<table border=\"1\" class=\"dataframe\">\n",
       "  <thead>\n",
       "    <tr style=\"text-align: right;\">\n",
       "      <th></th>\n",
       "      <th>Utterance</th>\n",
       "      <th>Emotion</th>\n",
       "    </tr>\n",
       "  </thead>\n",
       "  <tbody>\n",
       "    <tr>\n",
       "      <th>739</th>\n",
       "      <td>I ’ pregnant Ross Ross Okay whenever ’ ready A...</td>\n",
       "      <td>0</td>\n",
       "    </tr>\n",
       "    <tr>\n",
       "      <th>185</th>\n",
       "      <td>talked night realized reason angry still feeli...</td>\n",
       "      <td>5</td>\n",
       "    </tr>\n",
       "    <tr>\n",
       "      <th>807</th>\n",
       "      <td>Anyway ’ robot guy controls</td>\n",
       "      <td>4</td>\n",
       "    </tr>\n",
       "    <tr>\n",
       "      <th>747</th>\n",
       "      <td>You know course like ca n't possibly think any...</td>\n",
       "      <td>0</td>\n",
       "    </tr>\n",
       "    <tr>\n",
       "      <th>952</th>\n",
       "      <td>Joke Joke Blah Blah</td>\n",
       "      <td>0</td>\n",
       "    </tr>\n",
       "    <tr>\n",
       "      <th>19</th>\n",
       "      <td>I-I ’ sorry moment I touch I wan na throw old ...</td>\n",
       "      <td>0</td>\n",
       "    </tr>\n",
       "    <tr>\n",
       "      <th>136</th>\n",
       "      <td>Chandler 's girl</td>\n",
       "      <td>6</td>\n",
       "    </tr>\n",
       "    <tr>\n",
       "      <th>468</th>\n",
       "      <td>Oh I thought guys got married uh January</td>\n",
       "      <td>6</td>\n",
       "    </tr>\n",
       "    <tr>\n",
       "      <th>673</th>\n",
       "      <td>Of course ’ help Yeah We ’</td>\n",
       "      <td>3</td>\n",
       "    </tr>\n",
       "    <tr>\n",
       "      <th>1026</th>\n",
       "      <td>Ross Get shot ( He 's carrying issue</td>\n",
       "      <td>6</td>\n",
       "    </tr>\n",
       "  </tbody>\n",
       "</table>\n",
       "</div>"
      ],
      "text/plain": [
       "                                              Utterance  Emotion\n",
       "739   I ’ pregnant Ross Ross Okay whenever ’ ready A...        0\n",
       "185   talked night realized reason angry still feeli...        5\n",
       "807                         Anyway ’ robot guy controls        4\n",
       "747   You know course like ca n't possibly think any...        0\n",
       "952                                 Joke Joke Blah Blah        0\n",
       "19    I-I ’ sorry moment I touch I wan na throw old ...        0\n",
       "136                                    Chandler 's girl        6\n",
       "468            Oh I thought guys got married uh January        6\n",
       "673                          Of course ’ help Yeah We ’        3\n",
       "1026               Ross Get shot ( He 's carrying issue        6"
      ]
     },
     "execution_count": 351,
     "metadata": {},
     "output_type": "execute_result"
    }
   ],
   "source": [
    "# Randomly select 10 rows\n",
    "random_sample = DevData.sample(n=10)[[\"Utterance\", \"Emotion\"]]\n",
    "\n",
    "random_sample"
   ]
  },
  {
   "cell_type": "code",
   "execution_count": 352,
   "metadata": {
    "code_folding": [
     0
    ]
   },
   "outputs": [],
   "source": [
    "# # Custom color function using the \"Spectral\" colormap\n",
    "# def color_func(word, font_size, position, orientation, random_state=None, **kwargs):\n",
    "#     cmap = cm.get_cmap(\"Spectral\")\n",
    "#     colors = cmap(np.linspace(0, 1, 10))\n",
    "#     return tuple(int(c * 255) for c in colors[np.random.randint(0, 10)])\n",
    "\n",
    "# # Function to get the top 10 words from a word cloud\n",
    "# def get_top_words(wordcloud):\n",
    "#     word_freq = wordcloud.words_\n",
    "#     top_words = [word for word, freq in sorted(word_freq.items(), key=lambda x: x[1], reverse=True)[:10]]\n",
    "#     return top_words\n",
    "\n",
    "# try:\n",
    "#     # Corrected WordCloud generation for all datasets with custom color function\n",
    "#     WC_Train = WordCloud(\n",
    "#         max_words=2000, min_font_size=10, height=800, width=1600, background_color=\"white\", color_func=color_func\n",
    "#     ).generate(\" \".join(TrainData.Utterance))\n",
    "\n",
    "#     WC_Test = WordCloud(\n",
    "#         max_words=2000, min_font_size=10, height=800, width=1600, background_color=\"white\", color_func=color_func\n",
    "#     ).generate(\" \".join(TestData.Utterance))\n",
    "\n",
    "#     WC_Dev = WordCloud(\n",
    "#         max_words=2000, min_font_size=10, height=800, width=1600, background_color=\"white\", color_func=color_func\n",
    "#     ).generate(\" \".join(DevData.Utterance))\n",
    "\n",
    "#     # Get top 10 words for each dataset\n",
    "#     top_words_train = get_top_words(WC_Train)\n",
    "#     top_words_test = get_top_words(WC_Test)\n",
    "#     top_words_dev = get_top_words(WC_Dev)\n",
    "\n",
    "#     # Print the top words\n",
    "#     print(\"Top words in TrainData:\", top_words_train)\n",
    "#     print(\"Top words in TestData:\", top_words_test)\n",
    "#     print(\"Top words in DevData:\", top_words_dev)\n",
    "\n",
    "#     # PLOT\n",
    "#     fig, axes = plt.subplots(nrows=3, ncols=1, figsize=(20, 30))  # Adjust the layout and size as needed\n",
    "\n",
    "#     wordclouds = [WC_Train, WC_Test, WC_Dev]\n",
    "#     titles = ['TrainData', 'TestData', 'DevData']\n",
    "\n",
    "#     # Plot each WordCloud\n",
    "#     for idx, wc in enumerate(wordclouds):\n",
    "#         axes[idx].imshow(wc, interpolation='bilinear')\n",
    "#         axes[idx].set_title(titles[idx], fontsize=16)\n",
    "#         axes[idx].axis('off')\n",
    "\n",
    "#     plt.tight_layout()\n",
    "#     plt.show()\n",
    "\n",
    "# except Exception as e:\n",
    "#     print(f\"An error occurred: {e}\")"
   ]
  },
  {
   "cell_type": "markdown",
   "metadata": {},
   "source": [
    "### Division of X and y data"
   ]
  },
  {
   "cell_type": "code",
   "execution_count": 400,
   "metadata": {},
   "outputs": [],
   "source": [
    "# Create DataFrame for target labels\n",
    "y_train = pd.DataFrame()\n",
    "y_test = pd.DataFrame()\n",
    "y_dev = pd.DataFrame()\n",
    "\n",
    "X_train = TrainData\n",
    "X_test = TestData\n",
    "X_dev = DevData\n",
    "    \n",
    "y_train[\"Emotion\"] = TrainData[\"Emotion\"].copy()\n",
    "y_test[\"Emotion\"] = TestData[\"Emotion\"].copy()\n",
    "y_dev[\"Emotion\"] = DevData[\"Emotion\"].copy()\n",
    "\n",
    "y_train[\"Dialogue_ID\"] = TrainData[\"Dialogue_ID\"].copy()\n",
    "y_test[\"Dialogue_ID\"] = TestData[\"Dialogue_ID\"].copy()\n",
    "y_dev[\"Dialogue_ID\"] = DevData[\"Dialogue_ID\"].copy()"
   ]
  },
  {
   "cell_type": "code",
   "execution_count": 401,
   "metadata": {},
   "outputs": [
    {
     "name": "stdout",
     "output_type": "stream",
     "text": [
      "Shape of X_train: (9394, 12)\n",
      "Shape of y_train: (9394, 2)\n",
      "--\n",
      "Shape of X_test: (2494, 12)\n",
      "Shape of y_test: (2494, 2)\n",
      "--\n",
      "Shape of X_dev: (1073, 12)\n",
      "Shape of y_dev: (1073, 2)\n"
     ]
    }
   ],
   "source": [
    "print(f'Shape of X_train: {X_train.shape}')\n",
    "print(f'Shape of y_train: {y_train.shape}')\n",
    "print('--')\n",
    "print(f'Shape of X_test: {X_test.shape}')\n",
    "print(f'Shape of y_test: {y_test.shape}')\n",
    "print('--')\n",
    "print(f'Shape of X_dev: {X_dev.shape}')\n",
    "print(f'Shape of y_dev: {y_dev.shape}')"
   ]
  },
  {
   "cell_type": "markdown",
   "metadata": {},
   "source": [
    "### Output data to new csv"
   ]
  },
  {
   "cell_type": "markdown",
   "metadata": {},
   "source": [
    "##### Label Encoding Data"
   ]
  },
  {
   "cell_type": "code",
   "execution_count": 403,
   "metadata": {},
   "outputs": [],
   "source": [
    "# Check if the file already exists\n",
    "# checkFile1 = os.path.isfile(\"data/dump/\" + dataset_path + \"/labels_train.pkl\")\n",
    "# checkFile2 = os.path.isfile(\"data/dump/\" + dataset_path + \"/labels_test.pkl\")\n",
    "\n",
    "pickle.dump(X_train[\"Emotion\"], open('data/dump/' + dataset_path + '/labels_train.pkl', 'wb'))\n",
    "pickle.dump(X_test[\"Emotion\"], open('data/dump/' + dataset_path + '/labels_test.pkl', 'wb'))"
   ]
  },
  {
   "cell_type": "markdown",
   "metadata": {},
   "source": [
    "##### Drop Noise Training and Testing Data"
   ]
  },
  {
   "cell_type": "code",
   "execution_count": 406,
   "metadata": {},
   "outputs": [
    {
     "data": {
      "text/html": [
       "<div>\n",
       "<style scoped>\n",
       "    .dataframe tbody tr th:only-of-type {\n",
       "        vertical-align: middle;\n",
       "    }\n",
       "\n",
       "    .dataframe tbody tr th {\n",
       "        vertical-align: top;\n",
       "    }\n",
       "\n",
       "    .dataframe thead th {\n",
       "        text-align: right;\n",
       "    }\n",
       "</style>\n",
       "<table border=\"1\" class=\"dataframe\">\n",
       "  <thead>\n",
       "    <tr style=\"text-align: right;\">\n",
       "      <th></th>\n",
       "      <th>Utterance</th>\n",
       "      <th>Speaker</th>\n",
       "      <th>Emotion</th>\n",
       "      <th>Sentiment</th>\n",
       "      <th>Dialogue_ID</th>\n",
       "      <th>Utterance_ID</th>\n",
       "      <th>Old_Dialogue_ID</th>\n",
       "      <th>Old_Utterance_ID</th>\n",
       "      <th>Season</th>\n",
       "      <th>Episode</th>\n",
       "      <th>StartTime</th>\n",
       "      <th>EndTime</th>\n",
       "    </tr>\n",
       "  </thead>\n",
       "  <tbody>\n",
       "    <tr>\n",
       "      <th>40</th>\n",
       "      <td>Listen I ’ ah I ’ sorry I ’ crazy jealous ’ I ...</td>\n",
       "      <td>Ross</td>\n",
       "      <td>5</td>\n",
       "      <td>negative</td>\n",
       "      <td>5</td>\n",
       "      <td>11</td>\n",
       "      <td>4</td>\n",
       "      <td>11</td>\n",
       "      <td>3</td>\n",
       "      <td>11</td>\n",
       "      <td>00:20:44,284</td>\n",
       "      <td>00:20:53,584</td>\n",
       "    </tr>\n",
       "    <tr>\n",
       "      <th>41</th>\n",
       "      <td>Ameri-can Y'know ’</td>\n",
       "      <td>Phoebe</td>\n",
       "      <td>4</td>\n",
       "      <td>neutral</td>\n",
       "      <td>6</td>\n",
       "      <td>2</td>\n",
       "      <td>5</td>\n",
       "      <td>2</td>\n",
       "      <td>3</td>\n",
       "      <td>15</td>\n",
       "      <td>00:22:20,589</td>\n",
       "      <td>00:22:23,507</td>\n",
       "    </tr>\n",
       "    <tr>\n",
       "      <th>42</th>\n",
       "      <td>Ameri-can Y'know ’</td>\n",
       "      <td>Phoebe</td>\n",
       "      <td>4</td>\n",
       "      <td>neutral</td>\n",
       "      <td>7</td>\n",
       "      <td>0</td>\n",
       "      <td>5</td>\n",
       "      <td>2</td>\n",
       "      <td>3</td>\n",
       "      <td>15</td>\n",
       "      <td>00:22:20,589</td>\n",
       "      <td>00:22:23,507</td>\n",
       "    </tr>\n",
       "    <tr>\n",
       "      <th>43</th>\n",
       "      <td>Good job Joe Well done Top notch</td>\n",
       "      <td>Chandler</td>\n",
       "      <td>3</td>\n",
       "      <td>positive</td>\n",
       "      <td>8</td>\n",
       "      <td>0</td>\n",
       "      <td>6</td>\n",
       "      <td>0</td>\n",
       "      <td>8</td>\n",
       "      <td>22</td>\n",
       "      <td>00:12:24,315</td>\n",
       "      <td>00:12:27,526</td>\n",
       "    </tr>\n",
       "    <tr>\n",
       "      <th>44</th>\n",
       "      <td>You liked You really liked</td>\n",
       "      <td>Joey</td>\n",
       "      <td>6</td>\n",
       "      <td>positive</td>\n",
       "      <td>8</td>\n",
       "      <td>1</td>\n",
       "      <td>6</td>\n",
       "      <td>1</td>\n",
       "      <td>8</td>\n",
       "      <td>22</td>\n",
       "      <td>0:12:28,194</td>\n",
       "      <td>0:12:29,796</td>\n",
       "    </tr>\n",
       "  </tbody>\n",
       "</table>\n",
       "</div>"
      ],
      "text/plain": [
       "                                            Utterance   Speaker  Emotion  \\\n",
       "40  Listen I ’ ah I ’ sorry I ’ crazy jealous ’ I ...      Ross        5   \n",
       "41                                 Ameri-can Y'know ’    Phoebe        4   \n",
       "42                                 Ameri-can Y'know ’    Phoebe        4   \n",
       "43                   Good job Joe Well done Top notch  Chandler        3   \n",
       "44                         You liked You really liked      Joey        6   \n",
       "\n",
       "   Sentiment  Dialogue_ID  Utterance_ID  Old_Dialogue_ID  Old_Utterance_ID  \\\n",
       "40  negative            5            11                4                11   \n",
       "41   neutral            6             2                5                 2   \n",
       "42   neutral            7             0                5                 2   \n",
       "43  positive            8             0                6                 0   \n",
       "44  positive            8             1                6                 1   \n",
       "\n",
       "    Season  Episode     StartTime       EndTime  \n",
       "40       3       11  00:20:44,284  00:20:53,584  \n",
       "41       3       15  00:22:20,589  00:22:23,507  \n",
       "42       3       15  00:22:20,589  00:22:23,507  \n",
       "43       8       22  00:12:24,315  00:12:27,526  \n",
       "44       8       22   0:12:28,194   0:12:29,796  "
      ]
     },
     "execution_count": 406,
     "metadata": {},
     "output_type": "execute_result"
    }
   ],
   "source": [
    "X_train[40:45]"
   ]
  },
  {
   "cell_type": "code",
   "execution_count": 404,
   "metadata": {},
   "outputs": [],
   "source": [
    "# def exportDataToCSV(df, name):\n",
    "#     path = \"data/\" + dataset_path + \"/\" + name + \".csv\"\n",
    "#     df.to_csv(path)\n"
   ]
  },
  {
   "cell_type": "code",
   "execution_count": 411,
   "metadata": {},
   "outputs": [],
   "source": [
    "X_train.to_csv(\"data/\" + dataset_path + \"/train_sent_emo_dya.csv\", index=False, encoding='shift_jis')\n",
    "y_train.to_csv(\"y_train.csv\", index=False)\n",
    "\n",
    "# Export X_test and y_test\n",
    "X_test.to_csv(\"data/\" + dataset_path + \"/test_sent_emo_dya.csv\", index=False, encoding='utf-8')\n",
    "y_test.to_csv(\"y_test.csv\", index=False)\n",
    "\n",
    "# Export X_dev and y_dev\n",
    "X_dev.to_csv(\"data/\" + dataset_path + \"/dev_sent_emo_dya.csv\", index=False, encoding='utf-8')\n",
    "y_dev.to_csv(\"y_dev.csv\", index=False)"
   ]
  },
  {
   "cell_type": "markdown",
   "metadata": {},
   "source": [
    "##### Original Training and Testing Data"
   ]
  },
  {
   "cell_type": "code",
   "execution_count": 321,
   "metadata": {},
   "outputs": [],
   "source": [
    "# exportDataToCSV(TrainData_Original, \"X_train\")\n",
    "# exportDataToCSV(TrainData_Original['Emotion'], \"y_train\")\n",
    "\n",
    "# exportDataToCSV(TestData_Original, \"X_test\")\n",
    "# exportDataToCSV(TestData_Original['Emotion'], \"y_test\")\n",
    "\n",
    "# exportDataToCSV(DevData_Original, \"X_dev\")\n",
    "# exportDataToCSV(DevData_Original['Emotion'], \"y_dev\")"
   ]
  }
 ],
 "metadata": {
  "kernelspec": {
   "display_name": "Python 3 (ipykernel)",
   "language": "python",
   "name": "python3"
  },
  "language_info": {
   "codemirror_mode": {
    "name": "ipython",
    "version": 3
   },
   "file_extension": ".py",
   "mimetype": "text/x-python",
   "name": "python",
   "nbconvert_exporter": "python",
   "pygments_lexer": "ipython3",
   "version": "3.10.4"
  },
  "toc": {
   "base_numbering": 1,
   "nav_menu": {},
   "number_sections": true,
   "sideBar": true,
   "skip_h1_title": false,
   "title_cell": "Table of Contents",
   "title_sidebar": "Contents",
   "toc_cell": false,
   "toc_position": {},
   "toc_section_display": true,
   "toc_window_display": false
  }
 },
 "nbformat": 4,
 "nbformat_minor": 2
}
