{
 "cells": [
  {
   "cell_type": "code",
<<<<<<< Updated upstream
   "execution_count": 1,
=======
<<<<<<< HEAD
<<<<<<< Updated upstream
   "execution_count": 4,
=======
   "execution_count": 290,
>>>>>>> Stashed changes
=======
   "execution_count": 1,
>>>>>>> 1ab8d73fb594cf89710a5a76651eb2cf24b294df
>>>>>>> Stashed changes
   "id": "5b63fd00",
   "metadata": {},
   "outputs": [],
   "source": [
    "import os, re, time, pickle, collections, importlib, datetime, torch, nltk\n",
    "import pandas as pd, numpy as np, pickle\n",
    "from chardet import detect\n",
    "from tensorflow.keras.preprocessing.text import Tokenizer\n",
    "from tensorflow.keras.preprocessing.sequence import pad_sequences\n",
    "from tensorflow.keras.preprocessing.sequence import pad_sequences\n",
    "from collections import defaultdict, Counter\n",
    "from wordebd import WORDEBD\n",
    "from vocab import Vocab, Vectors\n",
    "from munch import Munch\n",
    "from cnnlstmseq import CNNLSTMseq\n",
    "from sklearn.manifold import TSNE\n",
    "import matplotlib.pyplot as plt\n",
    "from sklearn.decomposition import PCA\n",
    "from nltk.tokenize import word_tokenize\n",
    "\n",
    "%load_ext autoreload\n",
    "%autoreload 2"
   ]
  },
  {
   "cell_type": "code",
<<<<<<< Updated upstream
   "execution_count": 2,
=======
<<<<<<< HEAD
<<<<<<< Updated upstream
   "execution_count": 5,
=======
   "execution_count": 328,
   "id": "62dff716",
   "metadata": {},
   "outputs": [],
   "source": [
    "key=True"
   ]
  },
  {
   "cell_type": "code",
   "execution_count": 292,
>>>>>>> Stashed changes
=======
   "execution_count": 2,
>>>>>>> 1ab8d73fb594cf89710a5a76651eb2cf24b294df
>>>>>>> Stashed changes
   "id": "d8e3efa4",
   "metadata": {},
   "outputs": [],
   "source": [
    "def get_encoding_type(file):\n",
    "    with open(file, 'rb') as f:\n",
    "        rawdata = f.read(),\n",
    "    return detect(rawdata['encoding'])\n",
    "\n",
    "def detect_misspelling(source):\n",
    "    pass\n",
    "def replace_spelling(source):\n",
    "    return re.sub(\"Åf\", \"'\", source)"
   ]
  },
  {
   "cell_type": "code",
<<<<<<< Updated upstream
   "execution_count": 3,
=======
<<<<<<< HEAD
<<<<<<< Updated upstream
   "execution_count": 6,
=======
   "execution_count": 293,
>>>>>>> Stashed changes
=======
   "execution_count": 3,
>>>>>>> 1ab8d73fb594cf89710a5a76651eb2cf24b294df
>>>>>>> Stashed changes
   "id": "7b9072d1",
   "metadata": {
    "code_folding": [
     43
    ]
   },
   "outputs": [],
   "source": [
    "# referenced from DialogueGCN, mastodon code\n",
    "def preprocess_text(data):\n",
    "    '''\n",
    "    Preprocess text data\n",
    "    @param data: list of text examples\n",
    "    @return preprocessed_data: list of preprocessed text examples\n",
    "    '''\n",
    "    preprocessed_data = []\n",
    "    for example in data:\n",
    "        # Convert to lowercase\n",
    "        example = example.lower()\n",
    "        # Remove punctuation\n",
    "        example = re.sub(r'[^\\w\\s]', '', example)\n",
    "        preprocessed_data.append(example)\n",
    "    return preprocessed_data\n",
    "\n",
    "def load_pretrained_glove():\n",
    "    print(\"Loading GloVe...\")\n",
    "    glv_vector = {}\n",
    "    f = open('/embed/glove/glove.840B.300d.txt', encoding='utf-8')\n",
    "    for line in f:\n",
    "        values = line.split()\n",
    "        word, coefs = values[0], np.asarray(values[1:], dtype='float')\n",
    "        try:\n",
    "            glv_vector[word] = coefs\n",
    "\n",
    "        except ValueError:\n",
    "            continue\n",
    "    f.close()\n",
    "    start_time = time.time()\n",
    "    print(f\"Took {time.time() - start_time} seconds to load pretrained GloVe model.\")\n",
    "    return glv_vector\n",
    "\n",
    "\n",
    "def encode_labels(encoder, l):\n",
    "    return encoder[l]\n",
    "\n",
    "def _read_words(data, convmode=None):\n",
    "    '''    \n",
    "        Count the occurrences of all words\n",
    "        @param convmode: str, None for non conversational scope, 'naive' for classic or naive approach, 'conv' for conversation depth into account (one additional dim and nested values)\n",
    "        @param data: list of examples\n",
    "        @return words: list of words (with duplicates)\n",
    "    '''    \n",
    "    words = []\n",
    "    if convmode is None:\n",
    "        for example in data:\n",
    "            words += example.split()\n",
    "    return words\n",
    "\n",
    "def find_value_ranges(lst):\n",
    "    value_ranges = []\n",
    "    start_index = 0\n",
    "\n",
    "    for i in range(1, len(lst)):\n",
    "        if lst[i] != lst[i - 1]:\n",
    "            value_ranges.append((start_index, i - 1))\n",
    "            start_index = i\n",
    "\n",
    "    # Add the last range\n",
    "    value_ranges.append((start_index, len(lst) - 1))\n",
    "\n",
    "    return value_ranges\n"
   ]
  },
  {
   "cell_type": "code",
<<<<<<< Updated upstream
   "execution_count": 4,
=======
<<<<<<< HEAD
<<<<<<< Updated upstream
   "execution_count": 7,
=======
   "execution_count": 4,
>>>>>>> 1ab8d73fb594cf89710a5a76651eb2cf24b294df
>>>>>>> Stashed changes
   "id": "94282feb",
   "metadata": {},
   "outputs": [
    {
     "data": {
      "text/plain": [
       "['.git',\n",
       " '.gitignore',\n",
       " '.idea',\n",
       " '.ipynb_checkpoints',\n",
       " 'cnnlstmseq.py',\n",
       " 'context_encoder.ipynb',\n",
       " 'data',\n",
       " 'embed',\n",
       " 'emotionClassifier.ipynb',\n",
       " 'emotion_classifier.py',\n",
       " 'GAT.py',\n",
       " 'LICENSE',\n",
       " 'models',\n",
       " 'README.md',\n",
       " 'relationtype_encoder.ipynb',\n",
       " 'runs',\n",
       " 'utils',\n",
       " 'vocab.py',\n",
       " 'wordebd.py',\n",
       " '__pycache__']"
      ]
     },
     "execution_count": 4,
     "metadata": {},
     "output_type": "execute_result"
    }
   ],
   "source": [
    "os.listdir()"
   ]
  },
  {
   "cell_type": "code",
<<<<<<< Updated upstream
   "execution_count": 5,
=======
<<<<<<< HEAD
   "execution_count": 8,
   "id": "b55850d0",
   "metadata": {},
   "outputs": [],
   "source": [
    "#not working...\n",
    "# get_encoding_type(\"data/train_sent_emo_dya.csv\")"
   ]
  },
  {
   "cell_type": "code",
   "execution_count": 12,
=======
   "execution_count": 294,
>>>>>>> Stashed changes
=======
   "execution_count": 5,
>>>>>>> 1ab8d73fb594cf89710a5a76651eb2cf24b294df
>>>>>>> Stashed changes
   "id": "7147d96d",
   "metadata": {},
   "outputs": [
    {
     "data": {
      "text/html": [
       "<div>\n",
       "<style scoped>\n",
       "    .dataframe tbody tr th:only-of-type {\n",
       "        vertical-align: middle;\n",
       "    }\n",
       "\n",
       "    .dataframe tbody tr th {\n",
       "        vertical-align: top;\n",
       "    }\n",
       "\n",
       "    .dataframe thead th {\n",
       "        text-align: right;\n",
       "    }\n",
       "</style>\n",
       "<table border=\"1\" class=\"dataframe\">\n",
       "  <thead>\n",
       "    <tr style=\"text-align: right;\">\n",
       "      <th></th>\n",
       "      <th>Utterance</th>\n",
       "      <th>Speaker</th>\n",
       "      <th>Emotion</th>\n",
       "      <th>Sentiment</th>\n",
       "      <th>Dialogue_ID</th>\n",
       "      <th>Utterance_ID</th>\n",
       "      <th>Old_Dialogue_ID</th>\n",
       "      <th>Old_Utterance_ID</th>\n",
       "      <th>Season</th>\n",
       "      <th>Episode</th>\n",
       "      <th>StartTime</th>\n",
       "      <th>EndTime</th>\n",
       "    </tr>\n",
       "  </thead>\n",
       "  <tbody>\n",
       "    <tr>\n",
       "      <th>0</th>\n",
       "      <td>also I was the point person on my companyÅfs t...</td>\n",
       "      <td>Chandler</td>\n",
       "      <td>neutral</td>\n",
       "      <td>neutral</td>\n",
       "      <td>0</td>\n",
       "      <td>0</td>\n",
       "      <td>0</td>\n",
       "      <td>0</td>\n",
       "      <td>8</td>\n",
       "      <td>21</td>\n",
       "      <td>00:16:16,059</td>\n",
       "      <td>00:16:21,731</td>\n",
       "    </tr>\n",
       "    <tr>\n",
       "      <th>1</th>\n",
       "      <td>You mustÅfve had your hands full.</td>\n",
       "      <td>The Interviewer</td>\n",
       "      <td>neutral</td>\n",
       "      <td>neutral</td>\n",
       "      <td>0</td>\n",
       "      <td>1</td>\n",
       "      <td>0</td>\n",
       "      <td>1</td>\n",
       "      <td>8</td>\n",
       "      <td>21</td>\n",
       "      <td>00:16:21,940</td>\n",
       "      <td>00:16:23,442</td>\n",
       "    </tr>\n",
       "    <tr>\n",
       "      <th>2</th>\n",
       "      <td>That I did. That I did.</td>\n",
       "      <td>Chandler</td>\n",
       "      <td>neutral</td>\n",
       "      <td>neutral</td>\n",
       "      <td>0</td>\n",
       "      <td>2</td>\n",
       "      <td>0</td>\n",
       "      <td>2</td>\n",
       "      <td>8</td>\n",
       "      <td>21</td>\n",
       "      <td>00:16:23,442</td>\n",
       "      <td>00:16:26,389</td>\n",
       "    </tr>\n",
       "  </tbody>\n",
       "</table>\n",
       "</div>"
      ],
      "text/plain": [
       "                                           Utterance          Speaker  \\\n",
       "0  also I was the point person on my companyÅfs t...         Chandler   \n",
       "1                  You mustÅfve had your hands full.  The Interviewer   \n",
       "2                            That I did. That I did.         Chandler   \n",
       "\n",
       "   Emotion Sentiment  Dialogue_ID  Utterance_ID  Old_Dialogue_ID  \\\n",
       "0  neutral   neutral            0             0                0   \n",
       "1  neutral   neutral            0             1                0   \n",
       "2  neutral   neutral            0             2                0   \n",
       "\n",
       "   Old_Utterance_ID  Season  Episode     StartTime       EndTime  \n",
       "0                 0       8       21  00:16:16,059  00:16:21,731  \n",
       "1                 1       8       21  00:16:21,940  00:16:23,442  \n",
       "2                 2       8       21  00:16:23,442  00:16:26,389  "
      ]
     },
<<<<<<< Updated upstream
     "execution_count": 5,
=======
<<<<<<< HEAD
<<<<<<< Updated upstream
     "execution_count": 12,
=======
     "execution_count": 294,
>>>>>>> Stashed changes
=======
     "execution_count": 5,
>>>>>>> 1ab8d73fb594cf89710a5a76651eb2cf24b294df
>>>>>>> Stashed changes
     "metadata": {},
     "output_type": "execute_result"
    }
   ],
   "source": [
    "X_train = pd.read_csv('data/train_sent_emo_dya.csv', encoding='MacRoman')\n",
    "X_train[:3]"
   ]
  },
  {
   "cell_type": "code",
<<<<<<< Updated upstream
   "execution_count": 6,
=======
<<<<<<< HEAD
<<<<<<< Updated upstream
   "execution_count": 26,
=======
   "execution_count": 295,
>>>>>>> Stashed changes
=======
   "execution_count": 6,
>>>>>>> 1ab8d73fb594cf89710a5a76651eb2cf24b294df
>>>>>>> Stashed changes
   "id": "d4a470f6",
   "metadata": {},
   "outputs": [
    {
     "data": {
      "text/html": [
       "<div>\n",
       "<style scoped>\n",
       "    .dataframe tbody tr th:only-of-type {\n",
       "        vertical-align: middle;\n",
       "    }\n",
       "\n",
       "    .dataframe tbody tr th {\n",
       "        vertical-align: top;\n",
       "    }\n",
       "\n",
       "    .dataframe thead th {\n",
       "        text-align: right;\n",
       "    }\n",
       "</style>\n",
       "<table border=\"1\" class=\"dataframe\">\n",
       "  <thead>\n",
       "    <tr style=\"text-align: right;\">\n",
       "      <th></th>\n",
       "      <th>Utterance</th>\n",
       "      <th>Speaker</th>\n",
       "      <th>Emotion</th>\n",
       "      <th>Sentiment</th>\n",
       "      <th>Dialogue_ID</th>\n",
       "      <th>Utterance_ID</th>\n",
       "    </tr>\n",
       "  </thead>\n",
       "  <tbody>\n",
       "    <tr>\n",
       "      <th>0</th>\n",
       "      <td>also I was the point person on my companyÅfs t...</td>\n",
       "      <td>Chandler</td>\n",
       "      <td>neutral</td>\n",
       "      <td>neutral</td>\n",
       "      <td>0</td>\n",
       "      <td>0</td>\n",
       "    </tr>\n",
       "    <tr>\n",
       "      <th>1</th>\n",
       "      <td>You mustÅfve had your hands full.</td>\n",
       "      <td>The Interviewer</td>\n",
       "      <td>neutral</td>\n",
       "      <td>neutral</td>\n",
       "      <td>0</td>\n",
       "      <td>1</td>\n",
       "    </tr>\n",
       "    <tr>\n",
       "      <th>2</th>\n",
       "      <td>That I did. That I did.</td>\n",
       "      <td>Chandler</td>\n",
       "      <td>neutral</td>\n",
       "      <td>neutral</td>\n",
       "      <td>0</td>\n",
       "      <td>2</td>\n",
       "    </tr>\n",
       "  </tbody>\n",
       "</table>\n",
       "</div>"
      ],
      "text/plain": [
       "                                           Utterance          Speaker  \\\n",
       "0  also I was the point person on my companyÅfs t...         Chandler   \n",
       "1                  You mustÅfve had your hands full.  The Interviewer   \n",
       "2                            That I did. That I did.         Chandler   \n",
       "\n",
       "   Emotion Sentiment  Dialogue_ID  Utterance_ID  \n",
       "0  neutral   neutral            0             0  \n",
       "1  neutral   neutral            0             1  \n",
       "2  neutral   neutral            0             2  "
      ]
     },
<<<<<<< Updated upstream
     "execution_count": 6,
=======
<<<<<<< HEAD
<<<<<<< Updated upstream
     "execution_count": 26,
=======
     "execution_count": 295,
>>>>>>> Stashed changes
=======
     "execution_count": 6,
>>>>>>> 1ab8d73fb594cf89710a5a76651eb2cf24b294df
>>>>>>> Stashed changes
     "metadata": {},
     "output_type": "execute_result"
    }
   ],
   "source": [
    "drop_features = list(X_train.keys()[6:])\n",
    "# drop_features.append(\"Emotion\")\n",
    "drop_features\n",
    "y_train = pd.DataFrame()\n",
    "y_train[\"Emotion\"] = X_train[\"Emotion\"].copy()\n",
    "y_train[\"Dialogue_ID\"] = X_train[\"Dialogue_ID\"].copy()\n",
    "X_train = X_train.drop(drop_features, axis=1)\n",
    "X_train[:3]"
   ]
  },
  {
   "cell_type": "code",
<<<<<<< Updated upstream
   "execution_count": 7,
=======
<<<<<<< HEAD
<<<<<<< Updated upstream
   "execution_count": 27,
=======
   "execution_count": 296,
>>>>>>> Stashed changes
=======
   "execution_count": 7,
>>>>>>> 1ab8d73fb594cf89710a5a76651eb2cf24b294df
>>>>>>> Stashed changes
   "id": "fd8ac980",
   "metadata": {},
   "outputs": [
    {
     "data": {
      "text/html": [
       "<div>\n",
       "<style scoped>\n",
       "    .dataframe tbody tr th:only-of-type {\n",
       "        vertical-align: middle;\n",
       "    }\n",
       "\n",
       "    .dataframe tbody tr th {\n",
       "        vertical-align: top;\n",
       "    }\n",
       "\n",
       "    .dataframe thead th {\n",
       "        text-align: right;\n",
       "    }\n",
       "</style>\n",
       "<table border=\"1\" class=\"dataframe\">\n",
       "  <thead>\n",
       "    <tr style=\"text-align: right;\">\n",
       "      <th></th>\n",
       "      <th>Emotion</th>\n",
       "      <th>Dialogue_ID</th>\n",
       "    </tr>\n",
       "  </thead>\n",
       "  <tbody>\n",
       "    <tr>\n",
       "      <th>0</th>\n",
       "      <td>neutral</td>\n",
       "      <td>0</td>\n",
       "    </tr>\n",
       "    <tr>\n",
       "      <th>1</th>\n",
       "      <td>neutral</td>\n",
       "      <td>0</td>\n",
       "    </tr>\n",
       "    <tr>\n",
       "      <th>2</th>\n",
       "      <td>neutral</td>\n",
       "      <td>0</td>\n",
       "    </tr>\n",
       "  </tbody>\n",
       "</table>\n",
       "</div>"
      ],
      "text/plain": [
       "   Emotion  Dialogue_ID\n",
       "0  neutral            0\n",
       "1  neutral            0\n",
       "2  neutral            0"
      ]
     },
<<<<<<< Updated upstream
     "execution_count": 7,
=======
<<<<<<< HEAD
<<<<<<< Updated upstream
     "execution_count": 27,
=======
     "execution_count": 296,
>>>>>>> Stashed changes
=======
     "execution_count": 7,
>>>>>>> 1ab8d73fb594cf89710a5a76651eb2cf24b294df
>>>>>>> Stashed changes
     "metadata": {},
     "output_type": "execute_result"
    }
   ],
   "source": [
    "y_train[:3]"
   ]
  },
  {
   "cell_type": "code",
<<<<<<< Updated upstream
   "execution_count": 8,
=======
<<<<<<< HEAD
<<<<<<< Updated upstream
   "execution_count": 28,
=======
   "execution_count": 8,
>>>>>>> 1ab8d73fb594cf89710a5a76651eb2cf24b294df
>>>>>>> Stashed changes
   "id": "e1381d96",
   "metadata": {},
   "outputs": [
    {
     "data": {
      "text/html": [
       "<div>\n",
       "<style scoped>\n",
       "    .dataframe tbody tr th:only-of-type {\n",
       "        vertical-align: middle;\n",
       "    }\n",
       "\n",
       "    .dataframe tbody tr th {\n",
       "        vertical-align: top;\n",
       "    }\n",
       "\n",
       "    .dataframe thead th {\n",
       "        text-align: right;\n",
       "    }\n",
       "</style>\n",
       "<table border=\"1\" class=\"dataframe\">\n",
       "  <thead>\n",
       "    <tr style=\"text-align: right;\">\n",
       "      <th></th>\n",
       "      <th>Utterance</th>\n",
       "      <th>Speaker</th>\n",
       "      <th>Emotion</th>\n",
       "      <th>Sentiment</th>\n",
       "      <th>Dialogue_ID</th>\n",
       "      <th>Utterance_ID</th>\n",
       "    </tr>\n",
       "  </thead>\n",
       "  <tbody>\n",
       "    <tr>\n",
       "      <th>0</th>\n",
       "      <td>also I was the point person on my company's tr...</td>\n",
       "      <td>Chandler</td>\n",
       "      <td>neutral</td>\n",
       "      <td>neutral</td>\n",
       "      <td>0</td>\n",
       "      <td>0</td>\n",
       "    </tr>\n",
       "    <tr>\n",
       "      <th>1</th>\n",
       "      <td>You must've had your hands full.</td>\n",
       "      <td>The Interviewer</td>\n",
       "      <td>neutral</td>\n",
       "      <td>neutral</td>\n",
       "      <td>0</td>\n",
       "      <td>1</td>\n",
       "    </tr>\n",
       "    <tr>\n",
       "      <th>2</th>\n",
       "      <td>That I did. That I did.</td>\n",
       "      <td>Chandler</td>\n",
       "      <td>neutral</td>\n",
       "      <td>neutral</td>\n",
       "      <td>0</td>\n",
       "      <td>2</td>\n",
       "    </tr>\n",
       "    <tr>\n",
       "      <th>3</th>\n",
       "      <td>So let's talk a little bit about your duties.</td>\n",
       "      <td>The Interviewer</td>\n",
       "      <td>neutral</td>\n",
       "      <td>neutral</td>\n",
       "      <td>0</td>\n",
       "      <td>3</td>\n",
       "    </tr>\n",
       "    <tr>\n",
       "      <th>4</th>\n",
       "      <td>My duties?  All right.</td>\n",
       "      <td>Chandler</td>\n",
       "      <td>surprise</td>\n",
       "      <td>positive</td>\n",
       "      <td>0</td>\n",
       "      <td>4</td>\n",
       "    </tr>\n",
       "    <tr>\n",
       "      <th>5</th>\n",
       "      <td>Now you'll be heading a whole division, so you...</td>\n",
       "      <td>The Interviewer</td>\n",
       "      <td>neutral</td>\n",
       "      <td>neutral</td>\n",
       "      <td>0</td>\n",
       "      <td>5</td>\n",
       "    </tr>\n",
       "    <tr>\n",
       "      <th>6</th>\n",
       "      <td>I see.</td>\n",
       "      <td>Chandler</td>\n",
       "      <td>neutral</td>\n",
       "      <td>neutral</td>\n",
       "      <td>0</td>\n",
       "      <td>6</td>\n",
       "    </tr>\n",
       "    <tr>\n",
       "      <th>7</th>\n",
       "      <td>But there'll be perhaps 30 people under you so...</td>\n",
       "      <td>The Interviewer</td>\n",
       "      <td>neutral</td>\n",
       "      <td>neutral</td>\n",
       "      <td>0</td>\n",
       "      <td>7</td>\n",
       "    </tr>\n",
       "    <tr>\n",
       "      <th>8</th>\n",
       "      <td>Good to know.</td>\n",
       "      <td>Chandler</td>\n",
       "      <td>neutral</td>\n",
       "      <td>neutral</td>\n",
       "      <td>0</td>\n",
       "      <td>8</td>\n",
       "    </tr>\n",
       "    <tr>\n",
       "      <th>9</th>\n",
       "      <td>We can go into detail</td>\n",
       "      <td>The Interviewer</td>\n",
       "      <td>neutral</td>\n",
       "      <td>neutral</td>\n",
       "      <td>0</td>\n",
       "      <td>9</td>\n",
       "    </tr>\n",
       "    <tr>\n",
       "      <th>10</th>\n",
       "      <td>No don't I beg of you!</td>\n",
       "      <td>Chandler</td>\n",
       "      <td>fear</td>\n",
       "      <td>negative</td>\n",
       "      <td>0</td>\n",
       "      <td>10</td>\n",
       "    </tr>\n",
       "    <tr>\n",
       "      <th>11</th>\n",
       "      <td>All right then, we'll have a definite answer f...</td>\n",
       "      <td>The Interviewer</td>\n",
       "      <td>neutral</td>\n",
       "      <td>neutral</td>\n",
       "      <td>0</td>\n",
       "      <td>11</td>\n",
       "    </tr>\n",
       "    <tr>\n",
       "      <th>12</th>\n",
       "      <td>Really?!</td>\n",
       "      <td>Chandler</td>\n",
       "      <td>surprise</td>\n",
       "      <td>positive</td>\n",
       "      <td>0</td>\n",
       "      <td>12</td>\n",
       "    </tr>\n",
       "    <tr>\n",
       "      <th>13</th>\n",
       "      <td>Absolutely.  You can relax</td>\n",
       "      <td>The Interviewer</td>\n",
       "      <td>neutral</td>\n",
       "      <td>neutral</td>\n",
       "      <td>0</td>\n",
       "      <td>13</td>\n",
       "    </tr>\n",
       "  </tbody>\n",
       "</table>\n",
       "</div>"
      ],
      "text/plain": [
       "                                            Utterance          Speaker  \\\n",
       "0   also I was the point person on my company's tr...         Chandler   \n",
       "1                    You must've had your hands full.  The Interviewer   \n",
       "2                             That I did. That I did.         Chandler   \n",
       "3       So let's talk a little bit about your duties.  The Interviewer   \n",
       "4                              My duties?  All right.         Chandler   \n",
       "5   Now you'll be heading a whole division, so you...  The Interviewer   \n",
       "6                                              I see.         Chandler   \n",
       "7   But there'll be perhaps 30 people under you so...  The Interviewer   \n",
       "8                                       Good to know.         Chandler   \n",
       "9                               We can go into detail  The Interviewer   \n",
       "10                             No don't I beg of you!         Chandler   \n",
       "11  All right then, we'll have a definite answer f...  The Interviewer   \n",
       "12                                           Really?!         Chandler   \n",
       "13                         Absolutely.  You can relax  The Interviewer   \n",
       "\n",
       "     Emotion Sentiment  Dialogue_ID  Utterance_ID  \n",
       "0    neutral   neutral            0             0  \n",
       "1    neutral   neutral            0             1  \n",
       "2    neutral   neutral            0             2  \n",
       "3    neutral   neutral            0             3  \n",
       "4   surprise  positive            0             4  \n",
       "5    neutral   neutral            0             5  \n",
       "6    neutral   neutral            0             6  \n",
       "7    neutral   neutral            0             7  \n",
       "8    neutral   neutral            0             8  \n",
       "9    neutral   neutral            0             9  \n",
       "10      fear  negative            0            10  \n",
       "11   neutral   neutral            0            11  \n",
       "12  surprise  positive            0            12  \n",
       "13   neutral   neutral            0            13  "
      ]
     },
     "execution_count": 8,
     "metadata": {},
     "output_type": "execute_result"
    }
   ],
   "source": [
    "X_train[\"Utterance\"] = X_train[\"Utterance\"].apply(lambda x: replace_spelling(x))\n",
<<<<<<< Updated upstream
    "X_train[:14]"
=======
<<<<<<< HEAD
    "X_train[:3]"
=======
   "execution_count": 297,
   "id": "e1381d96",
   "metadata": {},
   "outputs": [],
   "source": [
    "X_train[\"Utterance\"] = X_train[\"Utterance\"].apply(lambda x: replace_spelling(x))"
>>>>>>> Stashed changes
=======
    "X_train[:14]"
>>>>>>> 1ab8d73fb594cf89710a5a76651eb2cf24b294df
>>>>>>> Stashed changes
   ]
  },
  {
   "cell_type": "code",
<<<<<<< Updated upstream
=======
<<<<<<< HEAD
<<<<<<< Updated upstream
   "execution_count": 29,
=======
   "execution_count": 298,
   "id": "ab33f245",
   "metadata": {},
   "outputs": [],
   "source": [
    "X_train[\"Utterance\"] = preprocess_text(X_train[\"Utterance\"].tolist())"
   ]
  },
  {
   "cell_type": "code",
   "execution_count": 299,
   "id": "269e0ae4",
   "metadata": {},
   "outputs": [
    {
     "data": {
      "text/plain": [
       "{'anger': 0,\n",
       " 'disgust': 1,\n",
       " 'surprise': 2,\n",
       " 'fear': 3,\n",
       " 'neutral': 4,\n",
       " 'sadness': 5,\n",
       " 'joy': 6}"
      ]
     },
     "execution_count": 299,
=======
>>>>>>> Stashed changes
   "execution_count": 15,
   "id": "ab33f245",
   "metadata": {},
   "outputs": [
    {
     "data": {
      "text/html": [
       "<div>\n",
       "<style scoped>\n",
       "    .dataframe tbody tr th:only-of-type {\n",
       "        vertical-align: middle;\n",
       "    }\n",
       "\n",
       "    .dataframe tbody tr th {\n",
       "        vertical-align: top;\n",
       "    }\n",
       "\n",
       "    .dataframe thead th {\n",
       "        text-align: right;\n",
       "    }\n",
       "</style>\n",
       "<table border=\"1\" class=\"dataframe\">\n",
       "  <thead>\n",
       "    <tr style=\"text-align: right;\">\n",
       "      <th></th>\n",
       "      <th>Utterance</th>\n",
       "      <th>Speaker</th>\n",
       "      <th>Emotion</th>\n",
       "      <th>Sentiment</th>\n",
       "      <th>Dialogue_ID</th>\n",
       "      <th>Utterance_ID</th>\n",
       "    </tr>\n",
       "  </thead>\n",
       "  <tbody>\n",
       "    <tr>\n",
       "      <th>0</th>\n",
       "      <td>also I was the point person on my company's tr...</td>\n",
       "      <td>Chandler</td>\n",
       "      <td>0</td>\n",
       "      <td>neutral</td>\n",
       "      <td>0</td>\n",
       "      <td>0</td>\n",
       "    </tr>\n",
       "    <tr>\n",
       "      <th>1</th>\n",
       "      <td>You must've had your hands full.</td>\n",
       "      <td>The Interviewer</td>\n",
       "      <td>0</td>\n",
       "      <td>neutral</td>\n",
       "      <td>0</td>\n",
       "      <td>1</td>\n",
       "    </tr>\n",
       "    <tr>\n",
       "      <th>2</th>\n",
       "      <td>That I did. That I did.</td>\n",
       "      <td>Chandler</td>\n",
       "      <td>0</td>\n",
       "      <td>neutral</td>\n",
       "      <td>0</td>\n",
       "      <td>2</td>\n",
       "    </tr>\n",
       "    <tr>\n",
       "      <th>3</th>\n",
       "      <td>So let's talk a little bit about your duties.</td>\n",
       "      <td>The Interviewer</td>\n",
       "      <td>0</td>\n",
       "      <td>neutral</td>\n",
       "      <td>0</td>\n",
       "      <td>3</td>\n",
       "    </tr>\n",
       "    <tr>\n",
       "      <th>4</th>\n",
       "      <td>My duties?  All right.</td>\n",
       "      <td>Chandler</td>\n",
       "      <td>6</td>\n",
       "      <td>positive</td>\n",
       "      <td>0</td>\n",
       "      <td>4</td>\n",
       "    </tr>\n",
       "    <tr>\n",
       "      <th>5</th>\n",
       "      <td>Now you'll be heading a whole division, so you...</td>\n",
       "      <td>The Interviewer</td>\n",
       "      <td>0</td>\n",
       "      <td>neutral</td>\n",
       "      <td>0</td>\n",
       "      <td>5</td>\n",
       "    </tr>\n",
       "    <tr>\n",
       "      <th>6</th>\n",
       "      <td>I see.</td>\n",
       "      <td>Chandler</td>\n",
       "      <td>0</td>\n",
       "      <td>neutral</td>\n",
       "      <td>0</td>\n",
       "      <td>6</td>\n",
       "    </tr>\n",
       "    <tr>\n",
       "      <th>7</th>\n",
       "      <td>But there'll be perhaps 30 people under you so...</td>\n",
       "      <td>The Interviewer</td>\n",
       "      <td>0</td>\n",
       "      <td>neutral</td>\n",
       "      <td>0</td>\n",
       "      <td>7</td>\n",
       "    </tr>\n",
       "    <tr>\n",
       "      <th>8</th>\n",
       "      <td>Good to know.</td>\n",
       "      <td>Chandler</td>\n",
       "      <td>0</td>\n",
       "      <td>neutral</td>\n",
       "      <td>0</td>\n",
       "      <td>8</td>\n",
       "    </tr>\n",
       "    <tr>\n",
       "      <th>9</th>\n",
       "      <td>We can go into detail</td>\n",
       "      <td>The Interviewer</td>\n",
       "      <td>0</td>\n",
       "      <td>neutral</td>\n",
       "      <td>0</td>\n",
       "      <td>9</td>\n",
       "    </tr>\n",
       "    <tr>\n",
       "      <th>10</th>\n",
       "      <td>No don't I beg of you!</td>\n",
       "      <td>Chandler</td>\n",
       "      <td>3</td>\n",
       "      <td>negative</td>\n",
       "      <td>0</td>\n",
       "      <td>10</td>\n",
       "    </tr>\n",
       "    <tr>\n",
       "      <th>11</th>\n",
       "      <td>All right then, we'll have a definite answer f...</td>\n",
       "      <td>The Interviewer</td>\n",
       "      <td>0</td>\n",
       "      <td>neutral</td>\n",
       "      <td>0</td>\n",
       "      <td>11</td>\n",
       "    </tr>\n",
       "    <tr>\n",
       "      <th>12</th>\n",
       "      <td>Really?!</td>\n",
       "      <td>Chandler</td>\n",
       "      <td>6</td>\n",
       "      <td>positive</td>\n",
       "      <td>0</td>\n",
       "      <td>12</td>\n",
       "    </tr>\n",
       "    <tr>\n",
       "      <th>13</th>\n",
       "      <td>Absolutely.  You can relax</td>\n",
       "      <td>The Interviewer</td>\n",
       "      <td>0</td>\n",
       "      <td>neutral</td>\n",
       "      <td>0</td>\n",
       "      <td>13</td>\n",
       "    </tr>\n",
       "  </tbody>\n",
       "</table>\n",
       "</div>"
      ],
      "text/plain": [
       "                                            Utterance          Speaker  \\\n",
       "0   also I was the point person on my company's tr...         Chandler   \n",
       "1                    You must've had your hands full.  The Interviewer   \n",
       "2                             That I did. That I did.         Chandler   \n",
       "3       So let's talk a little bit about your duties.  The Interviewer   \n",
       "4                              My duties?  All right.         Chandler   \n",
       "5   Now you'll be heading a whole division, so you...  The Interviewer   \n",
       "6                                              I see.         Chandler   \n",
       "7   But there'll be perhaps 30 people under you so...  The Interviewer   \n",
       "8                                       Good to know.         Chandler   \n",
       "9                               We can go into detail  The Interviewer   \n",
       "10                             No don't I beg of you!         Chandler   \n",
       "11  All right then, we'll have a definite answer f...  The Interviewer   \n",
       "12                                           Really?!         Chandler   \n",
       "13                         Absolutely.  You can relax  The Interviewer   \n",
       "\n",
       "    Emotion Sentiment  Dialogue_ID  Utterance_ID  \n",
       "0         0   neutral            0             0  \n",
       "1         0   neutral            0             1  \n",
       "2         0   neutral            0             2  \n",
       "3         0   neutral            0             3  \n",
       "4         6  positive            0             4  \n",
       "5         0   neutral            0             5  \n",
       "6         0   neutral            0             6  \n",
       "7         0   neutral            0             7  \n",
       "8         0   neutral            0             8  \n",
       "9         0   neutral            0             9  \n",
       "10        3  negative            0            10  \n",
       "11        0   neutral            0            11  \n",
       "12        6  positive            0            12  \n",
       "13        0   neutral            0            13  "
      ]
     },
     "execution_count": 15,
<<<<<<< Updated upstream
=======
>>>>>>> 1ab8d73fb594cf89710a5a76651eb2cf24b294df
>>>>>>> Stashed changes
     "metadata": {},
     "output_type": "execute_result"
    }
   ],
   "source": [
<<<<<<< Updated upstream
    "X_train[:14]"
=======
<<<<<<< HEAD
    "label_encoder"
=======
    "X_train[:14]"
>>>>>>> 1ab8d73fb594cf89710a5a76651eb2cf24b294df
>>>>>>> Stashed changes
   ]
  },
  {
   "cell_type": "code",
<<<<<<< Updated upstream
   "execution_count": 10,
=======
<<<<<<< HEAD
   "execution_count": 300,
   "id": "66da67d7",
   "metadata": {},
   "outputs": [
    {
     "data": {
      "text/plain": [
       "{0: 'anger',\n",
       " 1: 'disgust',\n",
       " 2: 'surprise',\n",
       " 3: 'fear',\n",
       " 4: 'neutral',\n",
       " 5: 'sadness',\n",
       " 6: 'joy'}"
      ]
     },
     "execution_count": 300,
     "metadata": {},
     "output_type": "execute_result"
    }
   ],
   "source": [
    "label_decoder"
   ]
  },
  {
   "cell_type": "code",
   "execution_count": 301,
>>>>>>> Stashed changes
=======
   "execution_count": 10,
>>>>>>> 1ab8d73fb594cf89710a5a76651eb2cf24b294df
>>>>>>> Stashed changes
   "id": "e90851d3",
   "metadata": {},
   "outputs": [],
   "source": [
    "checkFile1 = os.path.isfile(\"data/dump/label_encoder.pkl\")\n",
    "checkFile2 = os.path.isfile(\"data/dump/label_decoder.pkl\")\n",
    "\n",
<<<<<<< Updated upstream
    "if checkFile1 or checkFile2 is False:\n",
=======
<<<<<<< HEAD
<<<<<<< Updated upstream
    "if checkFile1 and checkFile2 is False:\n",
=======
    "if checkFile1 or checkFile2 is key:\n",
>>>>>>> Stashed changes
=======
    "if checkFile1 or checkFile2 is False:\n",
>>>>>>> 1ab8d73fb594cf89710a5a76651eb2cf24b294df
>>>>>>> Stashed changes
    "    labels = set(y_train.Emotion)\n",
    "    label_encoder = {label: i for i, label in enumerate(labels)}\n",
    "    label_decoder = {i: label for i, label in enumerate(labels)}\n",
    "\n",
    "    pickle.dump(label_encoder, open('data/dump/label_encoder.pkl', 'wb'))\n",
    "    pickle.dump(label_decoder, open('data/dump/label_decoder.pkl', 'wb'))\n",
    "    \n",
    "else:\n",
    "    file1 = open('data/dump/label_encoder.pkl', 'rb')\n",
    "    file2 = open('data/dump/label_decoder.pkl', 'rb')\n",
    "    label_encoder = pickle.load(file1)\n",
    "    label_decoder = pickle.load(file2)\n",
    "    file1.close()\n",
    "    file2.close()"
   ]
  },
  {
   "cell_type": "code",
<<<<<<< Updated upstream
   "execution_count": 11,
=======
<<<<<<< HEAD
<<<<<<< Updated upstream
   "execution_count": 30,
=======
   "execution_count": 11,
>>>>>>> 1ab8d73fb594cf89710a5a76651eb2cf24b294df
>>>>>>> Stashed changes
   "id": "0503247d",
   "metadata": {},
   "outputs": [],
   "source": [
    "y_train[\"Emotion\"] = y_train[\"Emotion\"].apply(lambda x: encode_labels(label_encoder, x))"
   ]
  },
  {
   "cell_type": "code",
   "execution_count": 12,
   "id": "03d0ac1a",
   "metadata": {},
   "outputs": [
    {
     "data": {
      "text/html": [
       "<div>\n",
       "<style scoped>\n",
       "    .dataframe tbody tr th:only-of-type {\n",
       "        vertical-align: middle;\n",
       "    }\n",
       "\n",
       "    .dataframe tbody tr th {\n",
       "        vertical-align: top;\n",
       "    }\n",
       "\n",
       "    .dataframe thead th {\n",
       "        text-align: right;\n",
       "    }\n",
       "</style>\n",
       "<table border=\"1\" class=\"dataframe\">\n",
       "  <thead>\n",
       "    <tr style=\"text-align: right;\">\n",
       "      <th></th>\n",
       "      <th>Emotion</th>\n",
       "      <th>Dialogue_ID</th>\n",
       "    </tr>\n",
       "  </thead>\n",
       "  <tbody>\n",
       "    <tr>\n",
       "      <th>0</th>\n",
       "      <td>0</td>\n",
       "      <td>0</td>\n",
       "    </tr>\n",
       "    <tr>\n",
       "      <th>1</th>\n",
       "      <td>0</td>\n",
       "      <td>0</td>\n",
       "    </tr>\n",
       "    <tr>\n",
       "      <th>2</th>\n",
       "      <td>0</td>\n",
       "      <td>0</td>\n",
       "    </tr>\n",
       "    <tr>\n",
       "      <th>3</th>\n",
       "      <td>0</td>\n",
       "      <td>0</td>\n",
       "    </tr>\n",
       "    <tr>\n",
       "      <th>4</th>\n",
       "      <td>6</td>\n",
       "      <td>0</td>\n",
       "    </tr>\n",
       "    <tr>\n",
       "      <th>5</th>\n",
       "      <td>0</td>\n",
       "      <td>0</td>\n",
       "    </tr>\n",
       "    <tr>\n",
       "      <th>6</th>\n",
       "      <td>0</td>\n",
       "      <td>0</td>\n",
       "    </tr>\n",
       "    <tr>\n",
       "      <th>7</th>\n",
       "      <td>0</td>\n",
       "      <td>0</td>\n",
       "    </tr>\n",
       "    <tr>\n",
       "      <th>8</th>\n",
       "      <td>0</td>\n",
       "      <td>0</td>\n",
       "    </tr>\n",
       "    <tr>\n",
       "      <th>9</th>\n",
       "      <td>0</td>\n",
       "      <td>0</td>\n",
       "    </tr>\n",
       "    <tr>\n",
       "      <th>10</th>\n",
       "      <td>3</td>\n",
       "      <td>0</td>\n",
       "    </tr>\n",
       "    <tr>\n",
       "      <th>11</th>\n",
       "      <td>0</td>\n",
       "      <td>0</td>\n",
       "    </tr>\n",
       "    <tr>\n",
       "      <th>12</th>\n",
       "      <td>6</td>\n",
       "      <td>0</td>\n",
       "    </tr>\n",
       "    <tr>\n",
       "      <th>13</th>\n",
       "      <td>0</td>\n",
       "      <td>0</td>\n",
       "    </tr>\n",
       "    <tr>\n",
       "      <th>14</th>\n",
       "      <td>6</td>\n",
       "      <td>1</td>\n",
       "    </tr>\n",
       "  </tbody>\n",
       "</table>\n",
       "</div>"
      ],
      "text/plain": [
       "    Emotion  Dialogue_ID\n",
       "0         0            0\n",
       "1         0            0\n",
       "2         0            0\n",
       "3         0            0\n",
       "4         6            0\n",
       "5         0            0\n",
       "6         0            0\n",
       "7         0            0\n",
       "8         0            0\n",
       "9         0            0\n",
       "10        3            0\n",
       "11        0            0\n",
       "12        6            0\n",
       "13        0            0\n",
       "14        6            1"
      ]
     },
     "execution_count": 12,
     "metadata": {},
     "output_type": "execute_result"
    }
   ],
   "source": [
    "y_train[:15]"
=======
   "execution_count": 302,
   "id": "0503247d",
   "metadata": {},
   "outputs": [],
   "source": [
    "y_train[\"Emotion\"] = y_train[\"Emotion\"].apply(lambda x: encode_labels(label_encoder, x))"
>>>>>>> Stashed changes
   ]
  },
  {
   "cell_type": "code",
<<<<<<< Updated upstream
   "execution_count": 13,
=======
<<<<<<< HEAD
<<<<<<< Updated upstream
   "execution_count": 49,
=======
   "execution_count": 303,
>>>>>>> Stashed changes
=======
   "execution_count": 13,
>>>>>>> 1ab8d73fb594cf89710a5a76651eb2cf24b294df
>>>>>>> Stashed changes
   "id": "2df87a48",
   "metadata": {},
   "outputs": [],
   "source": [
    "X_train[\"Emotion\"] = y_train[\"Emotion\"].copy()"
   ]
  },
  {
   "cell_type": "code",
<<<<<<< Updated upstream
=======
<<<<<<< HEAD
<<<<<<< Updated upstream
   "execution_count": 31,
=======
>>>>>>> Stashed changes
   "execution_count": 17,
   "id": "e1cc4d66",
   "metadata": {},
   "outputs": [],
   "source": [
    "## save the data in pickle format ##\n",
    "checkFile = os.path.isfile(\"data/dump/train_labels.pkl\")\n",
    "if checkFile is False:\n",
    "    X_train[\"Emotion\"]\n",
    "\n",
    "    pickle.dump(X_train[\"Emotion\"],\n",
    "                open('data/dump/train_labels.pkl', 'wb'))"
   ]
  },
  {
   "cell_type": "code",
   "execution_count": 14,
   "id": "d506d5c5",
   "metadata": {},
   "outputs": [
    {
     "data": {
      "text/plain": [
       "0        0\n",
       "1        0\n",
       "2        0\n",
       "3        0\n",
       "4        6\n",
       "        ..\n",
       "12835    4\n",
       "12836    4\n",
       "12837    6\n",
       "12838    0\n",
       "12839    2\n",
       "Name: Emotion, Length: 12840, dtype: int64"
      ]
     },
     "execution_count": 14,
     "metadata": {},
     "output_type": "execute_result"
    }
   ],
   "source": [
    "X_train[\"Emotion\"]"
   ]
  },
  {
   "cell_type": "code",
   "execution_count": 28,
   "id": "8f38cf3a",
   "metadata": {},
   "outputs": [],
   "source": [
    "# checkFile = os.path.isfile(\"data/dump/dialog_ids.pkl\")\n",
    "# if checkFile is False:\n",
    "#     dialogSpeakers, dialogInputSeq, dialogInputMaxSeqLen, dialogLabels = {}, {}, {}, {}\n",
    "#     X_train_dialog_ids = set(X_train.Dialogue_ID)\n",
    "#     all_data = X_train.copy()\n",
    "#     # all_data = X_train.append(X_test, ignore_index=True).append(X_valid, ignore_index=True)\n",
    "\n",
    "#     for item in list(X_train_dialog_ids):\n",
    "#         X_df = all_data[all_data.Dialogue_ID == item]\n",
    "#         y_df = y_train[y_train[\"Dialogue_ID\"] == item] \n",
    "\n",
    "#         dialogSpeakers[item] = list(X_df.Speaker)\n",
    "#         dialogInputSeq[item] = list(X_df.sequence)\n",
    "#         dialogInputMaxSeqLen[item] = max(list(X_df.sentence_length))\n",
    "#         dialogLabels[item] = list(y_df.Emotion)\n",
    "\n",
    "#     pickle.dump([dialogSpeakers, dialogInputSeq, dialogInputMaxSeqLen, dialogLabels, X_train_dialog_ids],\n",
    "#                 open('data/dump/per_dialog_ids.pkl', 'wb'))\n",
    "# else:\n",
    "#     file = open('data/dump/per_dialog_ids.pkl', \"rb\")\n",
    "#     dialogSpeakers, dialogInputSeq, dialogInputMaxSeqLen, dialogLabels, X_train_dialog_ids = pickle.load(file)\n",
    "#     file.close()"
   ]
  },
  {
   "cell_type": "code",
   "execution_count": 29,
<<<<<<< Updated upstream
=======
>>>>>>> 1ab8d73fb594cf89710a5a76651eb2cf24b294df
>>>>>>> Stashed changes
   "id": "f71baeda",
   "metadata": {},
   "outputs": [],
   "source": [
    "# ## tokenize all sentences ##\n",
    "# checkFile = os.path.isfile(\"data/dump/tokenizer.pkl\")\n",
    "\n",
    "# if checkFile is False:\n",
    "#     all_text = list(X_train.Utterance)\n",
    "#     tokenizer = Tokenizer()\n",
    "#     tokenizer.fit_on_texts(all_text)\n",
    "#     pickle.dump(tokenizer, open('data/dump/tokenizer.pkl', 'wb'))\n",
    "# else:\n",
    "#     file = open('data/dump/tokenizer.pkl', 'rb')\n",
    "#     tokenizer = pickle.load(file)\n",
    "#     file.close()"
   ]
  },
  {
   "cell_type": "code",
   "execution_count": 30,
   "id": "96268d7d",
   "metadata": {},
   "outputs": [],
   "source": [
    "# ## convert the sentences into sequences ## \n",
    "# train_sequence = tokenizer.texts_to_sequences(list(X_train.Utterance)) \n",
    "# X_train['sentence_length'] = [len(item) for item in train_sequence] \n",
    " \n",
    "# max_num_tokens = 250 \n",
    "\n",
    "# train_sequence = pad_sequences(train_sequence, maxlen=max_num_tokens, padding='post') \n",
    " \n",
    "# X_train['sequence'] = list(train_sequence)"
   ]
  },
  {
   "cell_type": "code",
   "execution_count": 31,
   "id": "cad434c8",
   "metadata": {},
   "outputs": [],
   "source": [
    "# tokenizer.word_counts"
   ]
  },
  {
   "cell_type": "markdown",
   "id": "169ca725",
   "metadata": {},
   "source": [
    "Idk why glove embeddings and toknizers were used in the orig source code..."
   ]
  },
  {
   "cell_type": "code",
   "execution_count": 32,
   "id": "2911056b",
=======
   "execution_count": 304,
   "id": "e1cc4d66",
>>>>>>> Stashed changes
   "metadata": {},
   "outputs": [],
   "source": [
<<<<<<< Updated upstream
=======
<<<<<<< HEAD
    "## save the data in pickle format ##\n",
<<<<<<< Updated upstream
    "checkFile = os.path.isfile(\"data/dump/per_dialog_ids.pkl\")\n",
    "if checkFile is False:\n",
    "    dialogSpeakers, dialogInputSeq, dialogInputMaxSeqLen, dialogLabels = {}, {}, {}, {}\n",
    "    X_train_dialog_ids = set(X_train.Dialogue_ID)\n",
    "    all_data = X_train.copy()\n",
    "    # all_data = X_train.append(X_test, ignore_index=True).append(X_valid, ignore_index=True)\n",
=======
>>>>>>> Stashed changes
    "# ## save the data in pickle format ##\n",
    "# checkFile = os.path.isfile(\"data/dump/per_dialog_ids.pkl\")\n",
    "# if checkFile is False:\n",
    "#     dialogSpeakers, dialogInputSeq, dialogInputMaxSeqLen, dialogLabels = {}, {}, {}, {}\n",
    "#     X_train_dialog_ids = set(X_train.Dialogue_ID)\n",
    "#     all_data = X_train.copy()\n",
    "#     # all_data = X_train.append(X_test, ignore_index=True).append(X_valid, ignore_index=True)\n",
<<<<<<< Updated upstream
=======
>>>>>>> 1ab8d73fb594cf89710a5a76651eb2cf24b294df
>>>>>>> Stashed changes
    "\n",
    "#     for item in list(X_train_dialog_ids):\n",
    "#         X_df = all_data[all_data.Dialogue_ID == item]\n",
    "#         y_df = y_train[y_train[\"Dialogue_ID\"] == item] \n",
    "\n",
    "#         dialogSpeakers[item] = list(X_df.Speaker)\n",
    "#         dialogInputSeq[item] = list(X_df.sequence)\n",
    "#         dialogInputMaxSeqLen[item] = max(list(X_df.sentence_length))\n",
    "#         dialogLabels[item] = list(y_df.Emotion)\n",
    "\n",
<<<<<<< Updated upstream
=======
<<<<<<< HEAD
    "    pickle.dump([dialogSpeakers, dialogInputSeq, dialogInputMaxSeqLen, dialogLabels, X_train_dialog_ids],\n",
    "                open('data/dump/per_dialog_ids.pkl', 'wb'))\n",
    "else:\n",
    "    file = open('data/dump/per_dialog_ids.pkl', \"rb\")\n",
    "    dialogSpeakers, dialogInputSeq, dialogInputMaxSeqLen, dialogLabels, X_train_dialog_ids = pickle.load(file)\n",
    "    file.close()"
=======
    "checkFile = os.path.isfile(\"data/dump/train_labels.pkl\")\n",
    "if checkFile is key:\n",
    "    X_train[\"Emotion\"]\n",
    "\n",
    "    pickle.dump(X_train[\"Emotion\"],\n",
    "                open('data/dump/train_labels.pkl', 'wb'))"
>>>>>>> Stashed changes
=======
>>>>>>> Stashed changes
    "#     pickle.dump([dialogSpeakers, dialogInputSeq, dialogInputMaxSeqLen, dialogLabels, X_train_dialog_ids],\n",
    "#                 open('data/dump/per_dialog_ids.pkl', 'wb'))\n",
    "# else:\n",
    "#     file = open('data/dump/per_dialog_ids.pkl', \"rb\")\n",
    "#     dialogSpeakers, dialogInputSeq, dialogInputMaxSeqLen, dialogLabels, X_train_dialog_ids = pickle.load(file)\n",
    "#     file.close()"
<<<<<<< Updated upstream
=======
>>>>>>> 1ab8d73fb594cf89710a5a76651eb2cf24b294df
>>>>>>> Stashed changes
   ]
  },
  {
   "cell_type": "code",
<<<<<<< Updated upstream
   "execution_count": 33,
=======
<<<<<<< HEAD
<<<<<<< Updated upstream
   "execution_count": null,
=======
   "execution_count": 33,
>>>>>>> 1ab8d73fb594cf89710a5a76651eb2cf24b294df
>>>>>>> Stashed changes
   "id": "3849c0fd",
   "metadata": {},
   "outputs": [],
   "source": [
    "## save pretrained embedding matrix ## \n",
    "# file = open('data/dump/glv_embedding_matrix.npy', \"rb\") \n",
    "# if file is None: \n",
    "#     glv_vector = load_pretrained_glove() \n",
    "#     word_vector_length = len(glv_vector['the'])#dim=300 \n",
    "#     word_index = tokenizer.word_index \n",
    "#     inv_word_index = {v: k for k, v in word_index.items()} \n",
    "#     num_unique_words = len(word_index) \n",
    "#     glv_embedding_matrix = np.zeros((num_unique_words + 1, word_vector_length)) \n",
    " \n",
    "#     for j in range(1, num_unique_words + 1): \n",
    "#         glv_embedding_matrix[j] = glv_vector.get(inv_word_index[j], np.random.randn(word_vector_length) / 200) \n",
    " \n",
    "#     np.save('data/dump/glv_embedding_matrix.npy', glv_embedding_matrix) \n",
    "#     print('Done. Completed preprocessing.') \n",
    "# else: \n",
    "#     glv_embedding_matrix = np.load('data/dump/glv_embedding_matrix.npy', allow_pickle=True) \n",
    "#     file.close()"
=======
   "execution_count": 305,
   "id": "d506d5c5",
   "metadata": {},
   "outputs": [
    {
     "data": {
      "text/plain": [
       "0        4\n",
       "1        4\n",
       "2        4\n",
       "3        4\n",
       "4        2\n",
       "        ..\n",
       "12835    1\n",
       "12836    1\n",
       "12837    2\n",
       "12838    4\n",
       "12839    6\n",
       "Name: Emotion, Length: 12840, dtype: int64"
      ]
     },
     "execution_count": 305,
     "metadata": {},
     "output_type": "execute_result"
    }
   ],
   "source": [
    "X_train[\"Emotion\"]"
>>>>>>> Stashed changes
   ]
  },
  {
   "cell_type": "code",
<<<<<<< Updated upstream
   "execution_count": 34,
=======
<<<<<<< HEAD
<<<<<<< Updated upstream
   "execution_count": null,
=======
   "execution_count": 34,
>>>>>>> 1ab8d73fb594cf89710a5a76651eb2cf24b294df
>>>>>>> Stashed changes
   "id": "367963a3",
   "metadata": {},
   "outputs": [],
   "source": [
    "# vocab_size, embedding_dim = glv_embedding_matrix.shape\n",
    "# vocab_size, embedding_dim"
   ]
  },
  {
   "cell_type": "code",
<<<<<<< Updated upstream
   "execution_count": 35,
=======
<<<<<<< HEAD
   "execution_count": 34,
=======
   "execution_count": 306,
>>>>>>> Stashed changes
=======
   "execution_count": 35,
>>>>>>> 1ab8d73fb594cf89710a5a76651eb2cf24b294df
>>>>>>> Stashed changes
   "id": "a539fab3",
   "metadata": {},
   "outputs": [
    {
     "name": "stdout",
     "output_type": "stream",
     "text": [
      "C:\\Users\\edayo\\Downloads\\4y2t\\THSST-2\\ug_thesis\\ER_GAT\\data/wiki-news-300d-1M.vec exists\n"
     ]
    }
   ],
   "source": [
    "file_path = os.path.join(os.getcwd(), \"data/wiki-news-300d-1M.vec\")\n",
    "if os.path.isfile(file_path):\n",
    "    print(f\"{file_path} exists\")\n",
    "else:\n",
    "    print(f\"The file does not exist in the current directory.\")"
   ]
  },
  {
   "cell_type": "code",
<<<<<<< Updated upstream
   "execution_count": 36,
=======
<<<<<<< HEAD
<<<<<<< Updated upstream
   "execution_count": 35,
=======
   "execution_count": 36,
>>>>>>> 1ab8d73fb594cf89710a5a76651eb2cf24b294df
>>>>>>> Stashed changes
   "id": "c74680f0",
   "metadata": {},
   "outputs": [],
   "source": [
    "vectors = Vectors(name=\"wiki-news-300d-1M.vec\", url=\"data/\", cache=\"data/\")\n",
    "vectors.cache(name=\"data/wiki-news-300d-1M.vec\", url=\"data/\", cache=\"data/\")"
   ]
  },
  {
   "cell_type": "code",
   "execution_count": 37,
   "id": "89ca952d",
   "metadata": {},
   "outputs": [
    {
     "name": "stdout",
     "output_type": "stream",
     "text": [
      "torch.Size([999994, 300])\n"
     ]
    }
   ],
   "source": [
    "print(vectors.vectors.shape)"
   ]
  },
  {
   "cell_type": "code",
   "execution_count": 38,
   "id": "b27c37d8",
   "metadata": {},
   "outputs": [],
   "source": [
    "vocab = Vocab(counter=collections.Counter(_read_words(X_train.Utterance)),\n",
    "                  vectors=vectors,\n",
    "                  specials=['<pad>', '<unk>'],\n",
    "                  min_freq=5)"
   ]
  },
  {
   "cell_type": "code",
<<<<<<< Updated upstream
   "execution_count": 39,
=======
<<<<<<< HEAD
   "execution_count": 38,
=======
   "execution_count": 307,
>>>>>>> Stashed changes
=======
   "execution_count": 39,
>>>>>>> 1ab8d73fb594cf89710a5a76651eb2cf24b294df
>>>>>>> Stashed changes
   "id": "f41e9829",
   "metadata": {},
   "outputs": [
    {
     "name": "stdout",
     "output_type": "stream",
     "text": [
      "Total num. of words: 1587, word vector dimension: 300\n"
     ]
    }
   ],
   "source": [
    "vectors = Vectors(name=\"wiki-news-300d-1M.vec\", url=\"data/\", cache=\"data/\")\n",
    "vectors.cache(name=\"data/wiki-news-300d-1M.vec\", url=\"data/\", cache=\"data/\")\n",
    "vocab = Vocab(counter=collections.Counter(_read_words(X_train[\"Utterance\"])),\n",
    "                  vectors=vectors,\n",
    "                  specials=['<pad>', '<unk>'],\n",
    "                  min_freq=5)\n",
    "# print word embedding statistics \n",
    "wv_size = vocab.vectors.size() \n",
    "print('Total num. of words: {}, word vector dimension: {}'.format( \n",
    "   wv_size[0], \n",
    "   wv_size[1]))\n",
    "\n",
    "ebd = WORDEBD(vocab, False)"
   ]
  },
  {
   "cell_type": "code",
<<<<<<< Updated upstream
   "execution_count": 40,
=======
<<<<<<< HEAD
<<<<<<< Updated upstream
   "execution_count": 39,
=======
   "execution_count": 40,
>>>>>>> 1ab8d73fb594cf89710a5a76651eb2cf24b294df
>>>>>>> Stashed changes
   "id": "0db604a0",
=======
   "execution_count": 308,
   "id": "4055eade",
>>>>>>> Stashed changes
   "metadata": {},
   "outputs": [
    {
     "data": {
      "text/plain": [
       "69"
      ]
     },
<<<<<<< Updated upstream
     "execution_count": 40,
=======
<<<<<<< HEAD
<<<<<<< Updated upstream
     "execution_count": 39,
=======
     "execution_count": 308,
>>>>>>> Stashed changes
=======
     "execution_count": 40,
>>>>>>> 1ab8d73fb594cf89710a5a76651eb2cf24b294df
>>>>>>> Stashed changes
     "metadata": {},
     "output_type": "execute_result"
    }
   ],
   "source": [
    "vocab.stoi[\"got\"]"
   ]
  },
  {
   "cell_type": "code",
<<<<<<< Updated upstream
   "execution_count": 41,
=======
<<<<<<< HEAD
<<<<<<< Updated upstream
   "execution_count": 40,
=======
   "execution_count": 309,
>>>>>>> Stashed changes
=======
   "execution_count": 41,
>>>>>>> 1ab8d73fb594cf89710a5a76651eb2cf24b294df
>>>>>>> Stashed changes
   "id": "5238db3c",
   "metadata": {
    "code_folding": [
     0
    ]
   },
   "outputs": [],
   "source": [
    "args = Munch({\n",
    "    \"cnn_filter_sizes\":[3,4,5],\n",
    "    \"cnn_num_filters\":100,\n",
    "    \"cuda\":-1,\n",
    "    \"mode\":\"train\",\n",
    "    \"snapshot\":'',\n",
    "})"
   ]
  },
  {
   "cell_type": "markdown",
   "id": "b8d7c0f2",
   "metadata": {},
   "source": [
    "Creating an embedding"
   ]
  },
  {
   "cell_type": "code",
<<<<<<< Updated upstream
   "execution_count": 42,
=======
<<<<<<< HEAD
<<<<<<< Updated upstream
   "execution_count": 41,
=======
   "execution_count": 310,
>>>>>>> Stashed changes
=======
   "execution_count": 42,
>>>>>>> 1ab8d73fb594cf89710a5a76651eb2cf24b294df
>>>>>>> Stashed changes
   "id": "87436c8d",
   "metadata": {},
   "outputs": [
    {
     "data": {
      "text/plain": [
       "CNNLSTMseq(\n",
       "  (ebd): WORDEBD(\n",
       "    (embedding_layer): Embedding(1587, 300)\n",
       "  )\n",
       "  (convs): ModuleList(\n",
       "    (0): Conv1d(300, 100, kernel_size=(3,), stride=(1,))\n",
       "    (1): Conv1d(300, 100, kernel_size=(4,), stride=(1,))\n",
       "    (2): Conv1d(300, 100, kernel_size=(5,), stride=(1,))\n",
       "  )\n",
       "  (lstm): LSTM(300, 150, bidirectional=True)\n",
       ")"
      ]
     },
     "execution_count": 310,
     "metadata": {},
     "output_type": "execute_result"
    }
   ],
   "source": [
    "model = CNNLSTMseq(ebd, args) # ProtoSeq\n",
    "model"
   ]
  },
  {
   "cell_type": "code",
   "execution_count": 311,
   "id": "8f3a4969",
   "metadata": {},
   "outputs": [
    {
     "name": "stdout",
     "output_type": "stream",
     "text": [
<<<<<<< Updated upstream
      "24/02/20 20:56:19, Building embedding\n"
=======
<<<<<<< HEAD
<<<<<<< Updated upstream
      "24/01/25 23:44:37, Building embedding\n"
=======
      "24/03/05 21:46:57, Building embedding\n"
>>>>>>> Stashed changes
=======
      "24/02/20 20:56:19, Building embedding\n"
>>>>>>> 1ab8d73fb594cf89710a5a76651eb2cf24b294df
>>>>>>> Stashed changes
     ]
    }
   ],
   "source": [
    "print(\"{}, Building embedding\".format(\n",
    "    datetime.datetime.now().strftime('%y/%m/%d %H:%M:%S')), flush=True),\n",
    "if args.snapshot != '':\n",
    "    if args.multitask:\n",
    "        print(\"{}, Loading pretrained embedding from {}\".format(\n",
    "            datetime.datetime.now().strftime('%y/%m/%d %H:%M:%S'),\n",
    "            '%s_%s.ebd' % (args.snapshot, args.task),\n",
    "            ))\n",
    "        model.load_state_dict(  torch.load( '%s_%s.ebd' % (args.snapshot, args.task) ), strict=False  )\n",
    "    else:   \n",
    "        # load pretrained models,\n",
    "        print(\"{}, Loading pretrained embedding from {}\".format(\n",
    "            datetime.datetime.now().strftime('%y/%m/%d %H:%M:%S'),\n",
    "            '{}.ebd'.format(args.snapshot)\n",
    "            ))\n",
    "        model.load_state_dict(  torch.load( '{}.ebd'.format(args.snapshot) ), strict=False  )"
   ]
  },
  {
   "cell_type": "code",
<<<<<<< Updated upstream
   "execution_count": 44,
=======
<<<<<<< HEAD
<<<<<<< Updated upstream
   "execution_count": 46,
=======
   "execution_count": 312,
>>>>>>> Stashed changes
=======
   "execution_count": 44,
>>>>>>> 1ab8d73fb594cf89710a5a76651eb2cf24b294df
>>>>>>> Stashed changes
   "id": "481c95c4",
   "metadata": {},
   "outputs": [
    {
     "data": {
      "text/plain": [
       "CNNLSTMseq(\n",
       "  (ebd): WORDEBD(\n",
       "    (embedding_layer): Embedding(1587, 300)\n",
       "  )\n",
       "  (convs): ModuleList(\n",
       "    (0): Conv1d(300, 100, kernel_size=(3,), stride=(1,))\n",
       "    (1): Conv1d(300, 100, kernel_size=(4,), stride=(1,))\n",
       "    (2): Conv1d(300, 100, kernel_size=(5,), stride=(1,))\n",
       "  )\n",
       "  (lstm): LSTM(300, 150, bidirectional=True)\n",
       ")"
      ]
     },
<<<<<<< Updated upstream
     "execution_count": 44,
=======
<<<<<<< HEAD
<<<<<<< Updated upstream
     "execution_count": 46,
=======
     "execution_count": 312,
>>>>>>> Stashed changes
=======
     "execution_count": 44,
>>>>>>> 1ab8d73fb594cf89710a5a76651eb2cf24b294df
>>>>>>> Stashed changes
     "metadata": {},
     "output_type": "execute_result"
    }
   ],
   "source": [
    "model.train()"
   ]
  },
  {
<<<<<<< Updated upstream
   "cell_type": "code",
   "execution_count": 45,
   "id": "705921fe",
   "metadata": {},
   "outputs": [],
   "source": [
    "# Convert everything into np array for fast data loading\n",
    "# _X_train = _data_to_nparray(X_train, vocab, args)"
   ]
  },
  {
   "cell_type": "code",
   "execution_count": 46,
   "id": "ff983f01",
   "metadata": {},
   "outputs": [],
   "source": [
    "# _X_train"
   ]
  },
  {
   "cell_type": "code",
   "execution_count": 47,
   "id": "d87fc320",
   "metadata": {},
   "outputs": [
    {
     "data": {
      "text/plain": [
       "CNNLSTMseq(\n",
       "  (ebd): WORDEBD(\n",
       "    (embedding_layer): Embedding(2120, 300)\n",
       "  )\n",
       "  (convs): ModuleList(\n",
       "    (0): Conv1d(300, 100, kernel_size=(3,), stride=(1,))\n",
       "    (1): Conv1d(300, 100, kernel_size=(4,), stride=(1,))\n",
       "    (2): Conv1d(300, 100, kernel_size=(5,), stride=(1,))\n",
       "  )\n",
       "  (lstm): LSTM(300, 150, bidirectional=True)\n",
       ")"
      ]
     },
     "execution_count": 47,
     "metadata": {},
     "output_type": "execute_result"
    }
   ],
   "source": [
    "model.eval()"
   ]
  },
  {
=======
>>>>>>> Stashed changes
   "cell_type": "markdown",
   "id": "c5246b15",
   "metadata": {},
   "source": [
    "Testing on smaller data. Uncomment to see the size of updated representations"
   ]
  },
  {
   "cell_type": "code",
<<<<<<< Updated upstream
   "execution_count": 48,
=======
<<<<<<< HEAD
<<<<<<< Updated upstream
   "execution_count": 55,
=======
   "execution_count": 313,
>>>>>>> Stashed changes
=======
   "execution_count": 48,
>>>>>>> 1ab8d73fb594cf89710a5a76651eb2cf24b294df
>>>>>>> Stashed changes
   "id": "d9000ec4",
   "metadata": {
    "code_folding": []
   },
   "outputs": [
    {
     "name": "stdout",
     "output_type": "stream",
     "text": [
      "tensor([[-1.5043e-02,  2.7661e-02,  1.0686e-02, -9.4983e-03,  3.5312e-03,\n",
      "         -2.7554e-02,  1.9271e-02, -1.6561e-02, -1.6714e-02, -3.4171e-03,\n",
      "          3.2481e-02, -4.8555e-04,  1.3527e-02,  4.8929e-03, -1.3482e-03,\n",
      "         -1.6101e-02,  2.6525e-03, -6.0749e-03, -1.1132e-02,  2.9817e-02,\n",
      "         -2.2814e-02,  2.3704e-02,  1.5993e-02,  2.8629e-02, -9.9087e-03,\n",
      "          5.3862e-03, -6.8367e-04,  1.8656e-02, -1.7440e-02,  3.3441e-03,\n",
      "         -7.3737e-03, -2.1812e-02, -7.1773e-03, -2.4350e-02,  9.1503e-03,\n",
      "          4.5387e-03,  2.4660e-02,  3.4849e-02, -6.7257e-03,  2.5797e-03,\n",
      "         -2.4973e-02, -2.2077e-03, -2.4386e-02,  3.9285e-02, -7.3482e-03,\n",
      "          1.9535e-02,  2.0980e-02,  4.4685e-03,  1.6974e-02, -1.7242e-02,\n",
      "          4.1801e-02, -1.1717e-02,  9.3315e-03,  1.2157e-02, -2.5341e-02,\n",
      "         -2.5753e-02, -7.1698e-03,  1.5272e-02, -2.5688e-02,  7.0235e-03,\n",
      "          3.9962e-03,  1.0349e-02,  2.0192e-02, -1.9266e-02, -3.6125e-03,\n",
      "          3.6205e-02, -3.2284e-02, -1.8583e-02,  2.2537e-02,  5.0094e-02,\n",
      "         -2.0902e-02,  2.1671e-02,  3.4153e-03, -6.6755e-03, -2.9031e-02,\n",
      "         -2.0803e-03, -1.5805e-02,  1.6501e-02,  6.0086e-03, -2.7227e-02,\n",
      "          1.5286e-02, -1.0090e-02,  2.1645e-02,  2.6113e-02, -3.3541e-02,\n",
      "          2.5750e-02,  2.8556e-02, -3.1369e-02,  2.5295e-03,  3.6936e-02,\n",
      "          7.9162e-04, -1.0505e-02,  3.3641e-03,  3.9892e-03,  1.8148e-02,\n",
      "         -1.5721e-02, -4.1162e-03,  1.3833e-02,  9.1197e-03,  3.8789e-02,\n",
      "         -2.8137e-02, -8.7793e-03,  3.4038e-04,  1.5872e-02, -1.2573e-02,\n",
      "          2.3688e-02, -8.5052e-03,  1.5176e-02,  2.2397e-02,  1.9983e-02,\n",
      "         -4.7558e-03, -8.8907e-04, -1.2874e-02, -3.0828e-02, -1.9673e-02,\n",
      "         -2.2128e-02,  7.5321e-03,  2.1708e-03, -5.4072e-04, -1.9172e-02,\n",
      "          1.5914e-02,  3.7347e-02, -6.4068e-03, -8.1896e-03,  1.7485e-02,\n",
      "         -3.9521e-04,  3.5939e-03,  1.6109e-03, -4.7331e-03, -1.6947e-02,\n",
      "         -8.8018e-03,  4.2913e-02, -1.4868e-02, -3.4058e-02, -9.5749e-03,\n",
      "          1.9091e-04,  1.8872e-02,  1.2150e-02, -2.9986e-02,  7.6392e-03,\n",
      "         -4.3486e-02,  1.8148e-02, -2.2771e-02, -1.6852e-02, -1.3707e-02,\n",
      "         -1.1427e-02, -3.3834e-02, -9.6571e-03, -2.3156e-02,  4.5815e-03,\n",
      "         -2.4774e-02, -1.7768e-02, -5.8499e-03,  1.4489e-02,  3.7504e-02,\n",
      "          6.3732e-04,  5.7182e-02,  4.3770e-02,  2.8804e-02,  3.0805e-02,\n",
      "         -2.8152e-02, -2.8373e-02,  3.4374e-02, -1.8907e-02,  3.6708e-03,\n",
      "          5.2831e-03, -3.0329e-02, -1.7421e-02, -5.0253e-02,  2.1918e-02,\n",
      "          4.1425e-02, -5.5146e-02, -1.8960e-02,  3.0788e-02, -8.8336e-04,\n",
      "          4.7782e-02,  1.7649e-03, -3.1890e-02,  3.7058e-02,  3.0195e-02,\n",
      "          5.5988e-02,  5.0272e-02, -1.6445e-02, -7.9250e-03, -1.2203e-02,\n",
      "          2.9588e-02,  6.0531e-02,  1.3591e-02, -4.9417e-02,  1.1955e-02,\n",
      "          2.8490e-02, -1.0902e-02,  2.2548e-02, -3.9683e-02,  7.9668e-03,\n",
      "          5.8718e-03,  2.0098e-03, -1.7719e-02,  4.0866e-02,  4.3636e-02,\n",
      "         -4.3238e-02, -5.2324e-03,  5.7174e-02,  1.1331e-02,  7.5798e-03,\n",
      "          6.1711e-03,  7.1443e-02, -1.6360e-02,  3.5062e-02,  3.1266e-02,\n",
      "          1.1988e-02, -1.0402e-02, -4.3208e-02,  2.5587e-02,  5.2708e-02,\n",
      "          5.4703e-03,  3.2938e-03,  3.0968e-02,  5.6803e-02, -4.4159e-02,\n",
      "          5.3227e-02, -3.0619e-02,  2.6678e-02, -2.4329e-02, -9.0297e-03,\n",
      "         -8.2561e-03,  3.3173e-02,  4.1788e-02,  8.5881e-03,  1.8568e-02,\n",
      "         -1.1475e-02, -1.8643e-03,  3.1452e-03, -4.1678e-02,  1.9342e-02,\n",
      "          7.9766e-03,  2.0784e-02,  4.1322e-02, -2.4687e-02,  2.7876e-02,\n",
      "          4.7244e-02, -7.9637e-04, -2.3716e-02, -3.8342e-02,  2.3315e-02,\n",
      "         -3.7600e-02,  4.5033e-03, -2.4543e-02,  1.3014e-02,  2.7020e-02,\n",
      "         -3.5471e-02,  4.4342e-02,  4.3871e-02,  2.1475e-02, -2.8909e-02,\n",
      "          2.8462e-02, -1.4931e-02, -1.4664e-02,  1.4093e-02, -1.1976e-02,\n",
      "         -2.1446e-02, -2.9716e-02, -5.5311e-03, -2.4978e-02, -7.4668e-03,\n",
      "         -2.7773e-02, -1.2818e-02,  6.8055e-03, -1.9711e-02, -1.3688e-02,\n",
      "          1.1952e-02, -2.4444e-02,  5.2674e-02, -9.4908e-03, -5.4459e-03,\n",
      "         -7.7676e-03, -4.9795e-03, -1.1569e-02, -5.4844e-02, -1.8012e-02,\n",
      "         -4.1248e-02, -3.2554e-02, -1.2961e-03, -2.1846e-02, -5.4998e-02,\n",
      "          2.1388e-02,  2.2364e-03,  1.8248e-02, -3.8908e-02, -9.2384e-03,\n",
      "          2.6304e-02, -1.4665e-02, -4.3297e-02,  1.5930e-02,  5.1523e-02,\n",
      "         -2.3190e-02,  6.7762e-03, -5.6665e-02, -5.9491e-04,  4.4652e-03],\n",
      "        [-2.9933e-02,  4.3910e-02,  1.7087e-02, -1.4409e-02, -7.4354e-03,\n",
      "         -3.0618e-02,  3.3555e-02, -3.0017e-02, -2.5168e-02, -4.3608e-03,\n",
      "          3.6017e-02,  1.3313e-02,  3.2285e-02,  5.1249e-03,  3.9783e-04,\n",
      "         -1.8089e-02, -2.0935e-03, -2.1993e-03, -1.4284e-02,  4.3258e-02,\n",
      "         -4.6733e-02,  1.1787e-02,  3.5157e-02,  3.8267e-02, -9.8861e-03,\n",
      "          1.2795e-02,  6.4194e-03,  4.1212e-02, -3.6082e-02,  1.1555e-02,\n",
      "         -1.6801e-03, -2.0240e-02, -1.6762e-02, -3.2252e-02,  1.1571e-02,\n",
      "          3.9233e-03,  3.1700e-02,  5.8049e-02, -1.9039e-02,  5.3093e-03,\n",
      "         -3.5855e-02,  1.5790e-03, -4.5354e-02,  5.2210e-02, -1.8105e-02,\n",
      "          3.5894e-02,  3.6046e-02,  8.5759e-03,  2.8262e-02, -1.5406e-02,\n",
      "          6.3955e-02, -1.4782e-02,  1.0541e-02,  2.7280e-02, -3.9819e-02,\n",
      "         -3.9913e-02, -7.7164e-03,  2.9863e-02, -2.8451e-02,  1.3197e-02,\n",
      "          1.8402e-02,  1.2495e-02,  3.7849e-02, -1.7845e-02, -8.9477e-03,\n",
      "          6.3613e-02, -3.1159e-02, -3.1458e-02,  4.7652e-02,  8.1891e-02,\n",
      "         -2.2086e-02,  2.6740e-02,  1.0256e-02, -7.4199e-03, -4.4515e-02,\n",
      "          6.4958e-03, -1.6775e-02,  3.5405e-02,  1.0300e-02, -4.2748e-02,\n",
      "          2.0393e-02, -8.8932e-03,  3.0452e-02,  3.7546e-02, -5.2566e-02,\n",
      "          3.2882e-02,  4.4662e-02, -4.1512e-02, -9.2322e-03,  6.3200e-02,\n",
      "          5.8408e-03, -1.7170e-02, -7.5148e-03,  1.1032e-02,  1.4718e-02,\n",
      "         -1.3718e-02, -5.0434e-03,  1.6340e-03,  2.9535e-02,  5.9740e-02,\n",
      "         -4.4076e-02, -8.4238e-03, -3.9609e-03,  2.6539e-02, -1.8938e-02,\n",
      "          3.5065e-02, -1.6324e-02,  1.8542e-02,  2.4956e-02,  3.5069e-02,\n",
      "         -9.2233e-03,  3.6424e-03, -1.9675e-02, -4.9436e-02, -2.5870e-02,\n",
      "         -3.5108e-02,  9.5829e-03,  1.1072e-02,  3.3626e-03, -1.9747e-02,\n",
      "          2.6364e-02,  6.3759e-02,  3.8262e-03, -6.1980e-03,  3.2140e-02,\n",
      "          6.3654e-03,  5.3527e-03, -5.0365e-04, -1.4901e-02, -1.9647e-02,\n",
      "         -2.0160e-02,  6.4589e-02, -3.0661e-02, -5.3016e-02, -1.8851e-02,\n",
      "          9.0160e-03,  1.6918e-02,  1.0194e-02, -4.6289e-02,  1.3414e-02,\n",
      "         -5.9060e-02,  2.7504e-02, -3.2659e-02, -2.8470e-02, -2.9967e-02,\n",
      "         -2.4714e-02, -5.4005e-02, -1.7709e-02, -3.9812e-02,  9.2893e-03,\n",
      "         -2.3736e-02, -1.4714e-02, -2.4751e-03,  1.6296e-02,  2.8394e-02,\n",
      "          5.0840e-03,  4.3018e-02,  4.1747e-02,  2.7574e-02,  2.6260e-02,\n",
      "         -2.9364e-02, -2.4875e-02,  2.7037e-02, -1.7033e-02,  8.4821e-03,\n",
      "          2.3648e-03, -2.3340e-02, -1.3646e-02, -4.7322e-02,  1.9453e-02,\n",
      "          3.9401e-02, -4.9304e-02, -2.0327e-02,  3.0691e-02, -1.2221e-02,\n",
      "          4.6791e-02, -4.3662e-04, -1.8958e-02,  3.0286e-02,  3.5737e-02,\n",
      "          5.1534e-02,  4.6718e-02, -1.2789e-02, -6.5082e-03, -1.1062e-02,\n",
      "          2.3423e-02,  4.3246e-02,  1.8382e-02, -3.7290e-02,  6.8825e-03,\n",
      "          2.9770e-02, -2.6036e-03,  1.5330e-02, -2.7363e-02,  9.6863e-03,\n",
      "          6.6650e-03,  9.5982e-03, -1.4277e-02,  3.6608e-02,  3.9656e-02,\n",
      "         -4.2377e-02, -5.2045e-03,  4.3718e-02,  1.0973e-02, -1.9627e-04,\n",
      "          7.7776e-03,  5.8305e-02, -1.3107e-02,  2.9189e-02,  2.5656e-02,\n",
      "          2.4143e-03, -7.0808e-03, -3.7964e-02,  2.3371e-02,  4.3157e-02,\n",
      "          1.1067e-02,  2.8919e-03,  3.7596e-02,  4.1012e-02, -4.1878e-02,\n",
      "          4.5589e-02, -2.9892e-02,  1.8582e-02, -1.7004e-02,  9.9340e-05,\n",
      "         -1.4252e-02,  3.0167e-02,  3.7096e-02,  7.9546e-03,  8.9024e-03,\n",
      "         -7.9219e-03, -6.5399e-04,  6.8465e-03, -3.7381e-02,  1.7956e-02,\n",
      "          7.0187e-03,  1.5204e-02,  3.3536e-02, -1.7035e-02,  2.2485e-02,\n",
      "          3.9357e-02,  1.8614e-03, -2.1302e-02, -3.1674e-02,  2.4805e-02,\n",
      "         -2.8242e-02,  5.3752e-03, -1.6678e-02,  6.1669e-03,  2.0070e-02,\n",
      "         -2.9929e-02,  3.8599e-02,  3.4703e-02,  2.5243e-02, -2.7718e-02,\n",
      "          1.9265e-02, -1.6566e-02, -1.3587e-02,  4.1188e-03, -1.0433e-02,\n",
      "         -1.6011e-02, -2.9894e-02, -6.9999e-03, -2.6474e-02, -6.3065e-03,\n",
      "         -2.4424e-02, -6.7960e-03,  7.5087e-03, -1.7285e-02, -1.8483e-02,\n",
      "          1.0476e-02, -1.3346e-02,  3.5467e-02, -2.6160e-03, -3.5820e-03,\n",
      "          2.3811e-03, -3.5154e-03, -1.0097e-02, -4.6219e-02, -8.1689e-03,\n",
      "         -3.2654e-02, -3.1178e-02, -2.9316e-03, -1.6935e-02, -4.6334e-02,\n",
      "          2.1096e-02, -2.7451e-03,  1.4969e-02, -2.9185e-02, -1.2365e-02,\n",
      "          1.8806e-02, -1.0115e-02, -3.1944e-02,  1.0100e-02,  4.1109e-02,\n",
      "         -2.3534e-02,  1.4523e-03, -5.5471e-02,  3.0377e-04,  4.2869e-03],\n",
      "        [-3.9152e-02,  4.6583e-02,  1.8328e-02, -1.0306e-02, -4.7230e-03,\n",
      "         -3.2849e-02,  4.0624e-02, -2.7544e-02, -3.2088e-02, -1.1926e-02,\n",
      "          4.4908e-02,  7.0250e-03,  3.9689e-02,  1.5466e-02, -4.0050e-03,\n",
      "         -2.6767e-02,  1.8130e-03, -7.2090e-03, -2.3906e-02,  4.6535e-02,\n",
      "         -4.7898e-02,  2.4101e-02,  3.4384e-02,  3.8355e-02, -1.5424e-02,\n",
      "          1.0198e-02,  1.4593e-04,  3.2876e-02, -4.1783e-02,  1.8319e-02,\n",
      "         -6.9406e-03, -3.1255e-02, -1.1057e-02, -3.2388e-02,  1.9829e-02,\n",
      "          1.5882e-03,  2.9368e-02,  6.3765e-02, -1.6292e-02,  7.5757e-04,\n",
      "         -3.3053e-02, -1.3294e-02, -6.0131e-02,  6.0156e-02, -2.2777e-02,\n",
      "          3.5181e-02,  3.6359e-02,  1.2295e-02,  3.1578e-02, -2.5807e-02,\n",
      "          7.0680e-02, -1.7279e-02,  1.1255e-02,  2.3228e-02, -4.3474e-02,\n",
      "         -4.9598e-02, -1.0889e-02,  2.7015e-02, -3.7375e-02,  1.2006e-02,\n",
      "          1.8744e-02,  1.4382e-02,  4.4614e-02, -2.5136e-02, -9.3415e-03,\n",
      "          5.3092e-02, -3.6208e-02, -4.1315e-02,  4.3421e-02,  8.0915e-02,\n",
      "         -2.4889e-02,  3.9547e-02,  9.7758e-03, -6.6478e-03, -4.5478e-02,\n",
      "          5.6806e-05, -2.1854e-02,  2.9045e-02,  2.2078e-02, -5.2580e-02,\n",
      "          2.7046e-02, -9.3889e-03,  3.8205e-02,  3.9202e-02, -6.0693e-02,\n",
      "          4.3334e-02,  5.4447e-02, -4.9375e-02, -2.2087e-04,  7.5058e-02,\n",
      "          5.1923e-03, -2.5558e-02, -7.1639e-03,  1.3998e-02,  2.1454e-02,\n",
      "         -5.9951e-03,  9.6493e-05,  2.1117e-03,  1.5647e-02,  6.7847e-02,\n",
      "         -4.0699e-02, -1.9266e-02, -3.8624e-03,  2.2162e-02, -2.0243e-02,\n",
      "          4.5248e-02, -1.5838e-02,  2.6879e-02,  3.3583e-02,  3.9487e-02,\n",
      "         -1.4607e-02,  4.1011e-03, -1.7850e-02, -5.3811e-02, -3.0584e-02,\n",
      "         -4.0956e-02,  6.8144e-03,  9.2951e-03, -6.4101e-03, -3.0581e-02,\n",
      "          3.0638e-02,  6.6207e-02,  7.0176e-03, -9.1062e-03,  3.5401e-02,\n",
      "          1.6691e-03, -1.8342e-03, -1.4515e-02, -1.4105e-02, -2.9267e-02,\n",
      "         -2.7130e-02,  7.0031e-02, -3.1254e-02, -6.3017e-02, -8.5274e-03,\n",
      "          6.5388e-03,  1.9813e-02,  1.3790e-02, -5.1810e-02,  1.3198e-02,\n",
      "         -6.4565e-02,  3.2820e-02, -4.1291e-02, -3.6891e-02, -2.4896e-02,\n",
      "         -1.5633e-02, -5.6512e-02, -1.5603e-02, -4.7726e-02,  8.6810e-03,\n",
      "         -1.0868e-02, -1.0905e-02, -5.8451e-03,  3.8452e-03,  2.2706e-02,\n",
      "         -3.8620e-03,  2.7102e-02,  2.7990e-02,  1.3415e-02,  1.1869e-02,\n",
      "         -1.6268e-02, -8.7863e-03,  1.7001e-02, -5.0765e-03,  7.0406e-04,\n",
      "          4.1280e-03, -7.1450e-03, -5.9599e-04, -2.5610e-02,  4.4211e-03,\n",
      "          1.9401e-02, -3.0225e-02, -1.2214e-02,  1.5843e-02, -1.4191e-03,\n",
      "          2.8296e-02, -5.1871e-04, -1.1268e-02,  1.8862e-02,  1.7120e-02,\n",
      "          2.7795e-02,  2.3961e-02, -8.5127e-03, -9.2885e-04, -5.2724e-04,\n",
      "          1.5377e-02,  2.8246e-02,  8.6470e-03, -2.9728e-02,  4.1064e-03,\n",
      "          1.7672e-02, -8.9071e-03,  1.2967e-02, -2.1912e-02,  1.9427e-04,\n",
      "          1.5160e-04,  5.9698e-03, -8.1153e-03,  2.2385e-02,  2.6998e-02,\n",
      "         -2.2822e-02, -3.0295e-03,  3.1078e-02,  8.8820e-03,  5.5603e-03,\n",
      "          7.5505e-03,  3.2587e-02, -1.7717e-03,  2.2680e-02,  1.9436e-02,\n",
      "          6.3846e-03, -4.3497e-03, -2.4675e-02,  1.2055e-02,  3.3120e-02,\n",
      "          2.6891e-03, -1.6841e-04,  1.1483e-02,  3.3298e-02, -2.5365e-02,\n",
      "          2.9414e-02, -2.7424e-02,  1.8272e-02, -1.5729e-02, -5.7186e-04,\n",
      "         -2.3747e-03,  1.7888e-02,  1.8597e-02, -2.0824e-03, -4.1095e-04,\n",
      "         -1.2084e-02, -9.5516e-04, -5.4227e-03, -3.0852e-02,  1.3934e-02,\n",
      "          1.0940e-02,  1.4444e-02,  3.2990e-02, -2.2314e-02,  2.0502e-02,\n",
      "          2.5190e-02,  8.8790e-03, -9.1916e-03, -1.3713e-02,  1.3346e-02,\n",
      "         -1.1143e-02,  6.2666e-03, -9.9613e-03,  4.5133e-03,  8.7465e-03,\n",
      "         -1.9574e-02,  2.1307e-02,  2.8010e-02,  1.5534e-02, -1.2952e-02,\n",
      "          1.8988e-02, -6.8559e-03, -8.3969e-03,  7.0042e-03, -5.9982e-03,\n",
      "         -1.1563e-02, -1.5684e-02, -1.2032e-03, -8.0187e-03, -8.8133e-04,\n",
      "         -2.2802e-02,  2.9863e-03,  7.9827e-04, -1.8987e-02, -8.3414e-03,\n",
      "          6.4655e-03, -8.5499e-03,  2.9066e-02, -2.3192e-03, -3.7053e-03,\n",
      "          1.8860e-04,  5.1460e-05, -1.3846e-02, -3.0543e-02,  1.4008e-04,\n",
      "         -2.3191e-02, -1.3163e-02, -8.2668e-03, -1.1430e-02, -2.3511e-02,\n",
      "          1.3743e-02, -4.7209e-03,  8.9889e-03, -1.9652e-02, -1.5243e-03,\n",
      "          1.3187e-02, -1.0345e-02, -2.3356e-02,  1.3678e-02,  3.1161e-02,\n",
      "         -1.3964e-02,  6.0708e-05, -2.6303e-02, -5.4573e-03, -4.0309e-03]])\n"
     ]
    }
   ],
   "source": [
    "# sample data\n",
    "data = [\"how\", \"i see\", \"foo\"]\n",
    "\n",
    "# Initialize variables\n",
    "input_data = []\n",
    "max_seq_len_list = []\n",
    "\n",
    "# Process each conversation in the data\n",
    "for conversation in data:\n",
    "    # Tokenize each conversation into words\n",
    "    conversation_tokens = conversation.split()\n",
    "\n",
    "    # Convert words to indices\n",
    "    turn_indices = [vocab.stoi[word] if word in vocab.stoi else vocab.stoi['<unk>'] for word in conversation_tokens]\n",
    "    turn_tensor = torch.tensor(turn_indices, dtype=torch.long)  # Specify data type as long\n",
    "\n",
    "    # Pad sequences to a fixed length (adjust this based on your model requirements)\n",
    "    max_seq_len = len(turn_tensor)\n",
    "    max_seq_len_list.append(max_seq_len)\n",
    "    padded_turn = torch.nn.functional.pad(turn_tensor, pad=(0, max_seq_len - len(turn_tensor)))\n",
    "\n",
    "    # Append the padded turn\n",
    "    input_data.append(padded_turn)\n",
    "\n",
    "# Determine the maximum sequence length across all conversations\n",
    "max_seq_len = max(5,max(max_seq_len_list))\n",
    "\n",
    "# Pad all conversations to the same maximum sequence length\n",
    "for i, padded_turn in enumerate(input_data):\n",
    "    input_data[i] = torch.nn.functional.pad(padded_turn, pad=(0, max_seq_len - len(padded_turn)))\n",
    "\n",
    "# Stack all padded turns along a new dimension to create batched input\n",
    "input_data_stacked = torch.stack(input_data)\n",
    "\n",
    "# Construct input data dictionary\n",
    "input_data_dict = {'Utterance': input_data_stacked}\n",
    "\n",
    "# Perform the forward pass (inference) to obtain the numerical representation\n",
    "with torch.no_grad():  # Disable gradient calculation during inference\n",
    "    output_representation = model(input_data_dict)\n",
    "\n",
    "# Output representation now contains the numerical representation of the input text dialog data\n",
    "print(output_representation)"
   ]
  },
  {
   "cell_type": "code",
   "execution_count": 314,
   "id": "eba627be",
   "metadata": {},
   "outputs": [
    {
     "data": {
      "text/plain": [
       "{'Utterance': tensor([[66,  0,  0,  0,  0],\n",
       "         [ 2, 70,  0,  0,  0],\n",
       "         [ 1,  0,  0,  0,  0]])}"
      ]
     },
     "execution_count": 314,
     "metadata": {},
     "output_type": "execute_result"
    }
   ],
   "source": [
    "input_data_dict"
   ]
  },
  {
   "cell_type": "markdown",
   "id": "83d75d57",
   "metadata": {},
   "source": [
    "This is just a duplicate of code above. Using this on train data"
   ]
  },
  {
   "cell_type": "code",
<<<<<<< Updated upstream
   "execution_count": 50,
   "id": "22c69a9d",
=======
<<<<<<< HEAD
<<<<<<< Updated upstream
   "execution_count": 61,
   "id": "200bbb7c",
=======
   "execution_count": 50,
   "id": "22c69a9d",
>>>>>>> 1ab8d73fb594cf89710a5a76651eb2cf24b294df
>>>>>>> Stashed changes
   "metadata": {},
   "outputs": [],
=======
   "execution_count": 315,
   "id": "22c69a9d",
   "metadata": {},
   "outputs": [],
   "source": [
    "ranges = find_value_ranges(X_train[\"Dialogue_ID\"])"
   ]
  },
  {
   "cell_type": "code",
   "execution_count": null,
   "id": "200bbb7c",
   "metadata": {
    "code_folding": [],
    "scrolled": true
   },
   "outputs": [
    {
     "name": "stdout",
     "output_type": "stream",
     "text": [
      "0   13\n",
      "14   20\n",
      "21   33\n",
      "34   41\n",
      "42   48\n",
      "49   63\n",
      "64   66\n",
      "67   68\n",
      "69   90\n",
      "91   92\n",
      "93   95\n",
      "96   100\n",
      "101   109\n",
      "110   117\n",
      "118   123\n",
      "124   126\n",
      "127   128\n",
      "129   131\n",
      "132   134\n",
      "135   137\n",
      "138   142\n",
      "143   154\n",
      "155   158\n",
      "159   164\n",
      "165   185\n",
      "186   189\n",
      "190   198\n",
      "199   203\n",
      "204   211\n",
      "212   213\n",
      "214   215\n",
      "216   218\n",
      "219   220\n",
      "221   223\n",
      "224   225\n",
      "226   229\n",
      "230   231\n",
      "232   235\n",
      "236   246\n",
      "247   248\n",
      "249   263\n",
      "264   277\n",
      "278   282\n",
      "283   292\n",
      "293   300\n",
      "301   304\n",
      "305   308\n",
      "309   310\n",
      "311   312\n",
      "313   316\n",
      "317   318\n",
      "319   320\n",
      "321   329\n",
      "330   343\n",
      "344   351\n",
      "352   354\n",
      "355   360\n",
      "361   368\n",
      "369   370\n",
      "371   378\n",
      "379   390\n",
      "391   392\n",
      "393   397\n",
      "398   411\n",
      "412   413\n",
      "414   416\n",
      "417   418\n",
      "419   420\n",
      "421   425\n",
      "426   428\n",
      "429   436\n",
      "437   445\n",
      "446   447\n",
      "448   449\n",
      "450   458\n",
      "459   460\n",
      "461   462\n",
      "463   466\n",
      "467   469\n",
      "470   471\n",
      "472   474\n",
      "475   476\n",
      "477   490\n",
      "491   496\n",
      "497   501\n",
      "502   504\n",
      "505   508\n",
      "509   511\n",
      "512   518\n",
      "519   526\n",
      "527   528\n",
      "529   542\n",
      "543   554\n",
      "555   559\n",
      "560   561\n",
      "562   565\n",
      "566   567\n",
      "568   569\n",
      "570   574\n",
      "575   581\n",
      "582   583\n",
      "584   599\n",
      "600   601\n",
      "602   608\n",
      "609   611\n",
      "612   616\n",
      "617   622\n",
      "623   624\n",
      "625   626\n",
      "627   630\n",
      "631   635\n",
      "636   639\n",
      "640   656\n",
      "657   663\n",
      "664   671\n",
      "672   678\n",
      "679   684\n",
      "685   693\n",
      "694   700\n",
      "701   717\n",
      "718   728\n",
      "729   740\n",
      "741   749\n",
      "750   755\n",
      "756   772\n",
      "773   784\n",
      "785   786\n",
      "787   788\n",
      "789   796\n",
      "797   798\n",
      "799   808\n",
      "809   815\n",
      "816   818\n",
      "819   820\n",
      "821   827\n",
      "828   832\n",
      "833   840\n",
      "841   845\n",
      "846   852\n",
      "853   860\n",
      "861   863\n",
      "864   867\n",
      "868   872\n",
      "873   875\n",
      "876   878\n",
      "879   882\n",
      "883   894\n",
      "895   905\n",
      "906   910\n",
      "911   914\n",
      "915   918\n",
      "919   924\n",
      "925   926\n",
      "927   928\n",
      "929   933\n",
      "934   935\n",
      "936   937\n",
      "938   939\n",
      "940   947\n",
      "948   959\n",
      "960   965\n",
      "966   968\n",
      "969   976\n",
      "977   981\n",
      "982   985\n",
      "986   988\n",
      "989   991\n",
      "992   999\n",
      "1000   1005\n",
      "1006   1010\n",
      "1011   1019\n",
      "1020   1030\n",
      "1031   1039\n",
      "1040   1043\n",
      "1044   1045\n",
      "1046   1049\n",
      "1050   1051\n",
      "1052   1055\n",
      "1056   1058\n",
      "1059   1063\n",
      "1064   1070\n",
      "1071   1080\n",
      "1081   1084\n",
      "1085   1086\n",
      "1087   1089\n",
      "1090   1091\n",
      "1092   1093\n",
      "1094   1095\n",
      "1096   1099\n",
      "1100   1101\n",
      "1102   1113\n",
      "1114   1124\n",
      "1125   1127\n",
      "1128   1131\n",
      "1132   1134\n",
      "1135   1150\n",
      "1151   1164\n",
      "1165   1175\n",
      "1176   1177\n",
      "1178   1180\n",
      "1181   1194\n",
      "1195   1200\n",
      "1201   1203\n",
      "1204   1211\n",
      "1212   1213\n",
      "1214   1216\n",
      "1217   1224\n",
      "1225   1226\n",
      "1227   1228\n",
      "1229   1232\n",
      "1233   1235\n",
      "1236   1239\n",
      "1240   1242\n",
      "1243   1245\n",
      "1246   1250\n",
      "1251   1252\n",
      "1253   1256\n",
      "1257   1259\n",
      "1260   1269\n",
      "1270   1279\n",
      "1280   1286\n",
      "1287   1291\n",
      "1292   1295\n",
      "1296   1297\n",
      "1298   1299\n",
      "1300   1317\n",
      "1318   1322\n",
      "1323   1331\n",
      "1332   1340\n",
      "1341   1345\n",
      "1346   1348\n",
      "1349   1353\n",
      "1354   1355\n",
      "1356   1363\n",
      "1364   1367\n",
      "1368   1373\n",
      "1374   1386\n",
      "1387   1391\n",
      "1392   1393\n",
      "1394   1400\n",
      "1401   1402\n",
      "1403   1407\n",
      "1408   1409\n",
      "1410   1412\n",
      "1413   1417\n",
      "1418   1425\n",
      "1426   1437\n",
      "1438   1443\n",
      "1444   1454\n",
      "1455   1459\n",
      "1460   1467\n",
      "1468   1476\n",
      "1477   1480\n",
      "1481   1483\n",
      "1484   1489\n",
      "1490   1492\n",
      "1493   1502\n",
      "1503   1505\n",
      "1506   1518\n",
      "1519   1536\n",
      "1537   1538\n",
      "1539   1540\n",
      "1541   1551\n",
      "1552   1559\n",
      "1560   1564\n",
      "1565   1581\n",
      "1582   1584\n",
      "1585   1586\n",
      "1587   1589\n",
      "1590   1592\n",
      "1593   1600\n",
      "1601   1602\n",
      "1603   1604\n",
      "1605   1606\n",
      "1607   1608\n",
      "1609   1610\n",
      "1611   1616\n",
      "1617   1623\n",
      "1624   1628\n",
      "1629   1631\n",
      "1632   1638\n",
      "1639   1645\n",
      "1646   1654\n",
      "1655   1667\n",
      "1668   1679\n",
      "1680   1700\n",
      "1701   1704\n",
      "1705   1706\n",
      "1707   1709\n",
      "1710   1724\n",
      "1725   1731\n",
      "1732   1735\n",
      "1736   1741\n",
      "1742   1746\n",
      "1747   1750\n",
      "1751   1752\n",
      "1753   1759\n",
      "1760   1764\n",
      "1765   1777\n",
      "1778   1788\n",
      "1789   1794\n",
      "1795   1796\n",
      "1797   1798\n",
      "1799   1803\n",
      "1804   1806\n",
      "1807   1808\n",
      "1809   1816\n",
      "1817   1823\n",
      "1824   1836\n",
      "1837   1846\n",
      "1847   1850\n",
      "1851   1856\n",
      "1857   1858\n",
      "1859   1869\n",
      "1870   1879\n",
      "1880   1899\n",
      "1900   1902\n",
      "1903   1906\n",
      "1907   1910\n",
      "1911   1914\n",
      "1915   1916\n",
      "1917   1918\n",
      "1919   1920\n",
      "1921   1924\n",
      "1925   1939\n",
      "1940   1942\n",
      "1943   1954\n",
      "1955   1962\n",
      "1963   1971\n",
      "1972   1980\n",
      "1981   1985\n",
      "1986   1987\n",
      "1988   1990\n",
      "1991   1995\n",
      "1996   1997\n",
      "1998   2002\n",
      "2003   2009\n",
      "2010   2013\n",
      "2014   2016\n",
      "2017   2018\n",
      "2019   2020\n",
      "2021   2024\n",
      "2025   2027\n",
      "2028   2029\n",
      "2030   2036\n",
      "2037   2043\n",
      "2044   2046\n",
      "2047   2065\n",
      "2066   2067\n",
      "2068   2070\n",
      "2071   2072\n",
      "2073   2080\n",
      "2081   2082\n",
      "2083   2084\n",
      "2085   2086\n",
      "2087   2091\n",
      "2092   2107\n",
      "2108   2127\n",
      "2128   2131\n",
      "2132   2149\n",
      "2150   2151\n",
      "2152   2153\n",
      "2154   2164\n",
      "2165   2171\n",
      "2172   2173\n",
      "2174   2175\n",
      "2176   2181\n",
      "2182   2185\n",
      "2186   2189\n",
      "2190   2195\n",
      "2196   2201\n",
      "2202   2203\n",
      "2204   2206\n",
      "2207   2208\n",
      "2209   2212\n",
      "2213   2214\n",
      "2215   2216\n",
      "2217   2218\n",
      "2219   2220\n",
      "2221   2224\n",
      "2225   2226\n",
      "2227   2228\n",
      "2229   2230\n",
      "2231   2235\n",
      "2236   2237\n",
      "2238   2239\n",
      "2240   2246\n",
      "2247   2252\n",
      "2253   2254\n",
      "2255   2261\n",
      "2262   2269\n",
      "2270   2271\n",
      "2272   2284\n",
      "2285   2287\n",
      "2288   2292\n",
      "2293   2299\n",
      "2300   2302\n",
      "2303   2309\n",
      "2310   2311\n",
      "2312   2318\n",
      "2319   2324\n",
      "2325   2329\n",
      "2330   2336\n",
      "2337   2339\n",
      "2340   2341\n",
      "2342   2351\n",
      "2352   2361\n",
      "2362   2366\n",
      "2367   2374\n",
      "2375   2382\n",
      "2383   2384\n",
      "2385   2388\n",
      "2389   2390\n",
      "2391   2399\n",
      "2400   2401\n",
      "2402   2412\n",
      "2413   2416\n",
      "2417   2418\n",
      "2419   2420\n",
      "2421   2422\n",
      "2423   2434\n",
      "2435   2447\n",
      "2448   2451\n",
      "2452   2460\n",
      "2461   2469\n",
      "2470   2481\n",
      "2482   2483\n",
      "2484   2490\n",
      "2491   2494\n",
      "2495   2499\n",
      "2500   2501\n",
      "2502   2503\n",
      "2504   2505\n",
      "2506   2507\n",
      "2508   2515\n",
      "2516   2518\n",
      "2519   2520\n",
      "2521   2522\n",
      "2523   2526\n",
      "2527   2530\n",
      "2531   2532\n",
      "2533   2536\n",
      "2537   2542\n",
      "2543   2546\n",
      "2547   2556\n",
      "2557   2561\n",
      "2562   2564\n",
      "2565   2573\n",
      "2574   2576\n",
      "2577   2580\n",
      "2581   2588\n",
      "2589   2596\n",
      "2597   2604\n",
      "2605   2609\n",
      "2610   2611\n",
      "2612   2614\n",
      "2615   2619\n",
      "2620   2623\n",
      "2624   2628\n",
      "2629   2630\n",
      "2631   2636\n",
      "2637   2646\n",
      "2647   2655\n",
      "2656   2668\n",
      "2669   2672\n",
      "2673   2686\n",
      "2687   2689\n",
      "2690   2693\n",
      "2694   2705\n",
      "2706   2716\n",
      "2717   2723\n",
      "2724   2725\n",
      "2726   2732\n",
      "2733   2740\n",
      "2741   2745\n",
      "2746   2747\n",
      "2748   2761\n",
      "2762   2765\n",
      "2766   2776\n",
      "2777   2784\n",
      "2785   2786\n",
      "2787   2788\n",
      "2789   2792\n",
      "2793   2794\n",
      "2795   2800\n",
      "2801   2802\n",
      "2803   2809\n",
      "2810   2814\n",
      "2815   2817\n",
      "2818   2820\n",
      "2821   2822\n",
      "2823   2828\n",
      "2829   2839\n",
      "2840   2843\n",
      "2844   2855\n",
      "2856   2862\n",
      "2863   2868\n",
      "2869   2870\n",
      "2871   2873\n",
      "2874   2876\n",
      "2877   2879\n",
      "2880   2890\n",
      "2891   2897\n",
      "2898   2900\n",
      "2901   2906\n",
      "2907   2909\n",
      "2910   2911\n",
      "2912   2917\n",
      "2918   2934\n",
      "2935   2936\n",
      "2937   2940\n",
      "2941   2945\n",
      "2946   2948\n",
      "2949   2955\n",
      "2956   2964\n",
      "2965   2976\n",
      "2977   2981\n",
      "2982   2983\n",
      "2984   2985\n",
      "2986   2991\n",
      "2992   2995\n",
      "2996   3010\n",
      "3011   3018\n",
      "3019   3021\n",
      "3022   3023\n",
      "3024   3035\n",
      "3036   3045\n",
      "3046   3061\n",
      "3062   3075\n",
      "3076   3083\n",
      "3084   3090\n",
      "3091   3097\n",
      "3098   3104\n",
      "3105   3108\n",
      "3109   3114\n",
      "3115   3119\n",
      "3120   3125\n",
      "3126   3131\n",
      "3132   3140\n",
      "3141   3144\n",
      "3145   3146\n",
      "3147   3155\n",
      "3156   3174\n",
      "3175   3179\n",
      "3180   3181\n",
      "3182   3185\n",
      "3186   3191\n",
      "3192   3197\n",
      "3198   3203\n",
      "3204   3208\n",
      "3209   3222\n",
      "3223   3230\n",
      "3231   3239\n",
      "3240   3241\n",
      "3242   3254\n",
      "3255   3258\n",
      "3259   3273\n",
      "3274   3275\n",
      "3276   3278\n",
      "3279   3285\n",
      "3286   3291\n",
      "3292   3299\n",
      "3300   3304\n",
      "3305   3308\n",
      "3309   3310\n",
      "3311   3312\n",
      "3313   3321\n",
      "3322   3323\n",
      "3324   3325\n",
      "3326   3336\n",
      "3337   3339\n",
      "3340   3346\n",
      "3347   3349\n",
      "3350   3362\n",
      "3363   3369\n",
      "3370   3371\n",
      "3372   3373\n",
      "3374   3375\n",
      "3376   3377\n",
      "3378   3388\n",
      "3389   3397\n",
      "3398   3399\n",
      "3400   3406\n",
      "3407   3415\n",
      "3416   3428\n",
      "3429   3433\n",
      "3434   3435\n",
      "3436   3444\n",
      "3445   3451\n",
      "3452   3454\n",
      "3455   3456\n",
      "3457   3458\n",
      "3459   3480\n",
      "3481   3488\n",
      "3489   3490\n",
      "3491   3501\n",
      "3502   3503\n",
      "3504   3507\n",
      "3508   3510\n",
      "3511   3520\n",
      "3521   3527\n",
      "3528   3531\n",
      "3532   3546\n",
      "3547   3551\n",
      "3552   3559\n",
      "3560   3570\n",
      "3571   3573\n",
      "3574   3575\n",
      "3576   3577\n",
      "3578   3579\n",
      "3580   3585\n",
      "3586   3587\n",
      "3588   3591\n",
      "3592   3599\n",
      "3600   3602\n",
      "3603   3607\n",
      "3608   3609\n",
      "3610   3611\n",
      "3612   3619\n",
      "3620   3625\n",
      "3626   3633\n",
      "3634   3646\n",
      "3647   3652\n",
      "3653   3657\n",
      "3658   3661\n",
      "3662   3665\n",
      "3666   3667\n",
      "3668   3669\n",
      "3670   3671\n",
      "3672   3674\n",
      "3675   3678\n",
      "3679   3680\n",
      "3681   3682\n",
      "3683   3686\n",
      "3687   3703\n",
      "3704   3709\n",
      "3710   3713\n",
      "3714   3721\n",
      "3722   3725\n",
      "3726   3735\n",
      "3736   3738\n",
      "3739   3746\n",
      "3747   3750\n",
      "3751   3752\n",
      "3753   3756\n",
      "3757   3762\n",
      "3763   3766\n",
      "3767   3775\n",
      "3776   3782\n",
      "3783   3786\n",
      "3787   3795\n",
      "3796   3797\n",
      "3798   3801\n",
      "3802   3824\n",
      "3825   3842\n",
      "3843   3854\n",
      "3855   3856\n",
      "3857   3858\n",
      "3859   3864\n",
      "3865   3870\n",
      "3871   3877\n",
      "3878   3882\n",
      "3883   3884\n",
      "3885   3892\n",
      "3893   3897\n",
      "3898   3903\n",
      "3904   3908\n",
      "3909   3910\n",
      "3911   3915\n",
      "3916   3923\n",
      "3924   3926\n",
      "3927   3930\n",
      "3931   3935\n",
      "3936   3939\n",
      "3940   3941\n",
      "3942   3944\n",
      "3945   3946\n",
      "3947   3957\n",
      "3958   3964\n",
      "3965   3973\n",
      "3974   3978\n",
      "3979   3982\n",
      "3983   3992\n",
      "3993   3996\n",
      "3997   4007\n",
      "4008   4016\n",
      "4017   4029\n",
      "4030   4035\n",
      "4036   4055\n",
      "4056   4063\n",
      "4064   4071\n",
      "4072   4073\n",
      "4074   4084\n",
      "4085   4088\n",
      "4089   4098\n",
      "4099   4105\n",
      "4106   4113\n",
      "4114   4128\n",
      "4129   4133\n",
      "4134   4140\n",
      "4141   4146\n",
      "4147   4151\n",
      "4152   4156\n",
      "4157   4160\n",
      "4161   4162\n",
      "4163   4165\n",
      "4166   4171\n",
      "4172   4178\n",
      "4179   4182\n",
      "4183   4185\n",
      "4186   4193\n",
      "4194   4197\n",
      "4198   4207\n"
     ]
    },
    {
     "name": "stdout",
     "output_type": "stream",
     "text": [
      "4208   4217\n",
      "4218   4219\n",
      "4220   4222\n",
      "4223   4224\n",
      "4225   4226\n",
      "4227   4228\n",
      "4229   4230\n",
      "4231   4232\n",
      "4233   4234\n",
      "4235   4236\n",
      "4237   4240\n",
      "4241   4242\n",
      "4243   4245\n",
      "4246   4248\n",
      "4249   4250\n",
      "4251   4252\n",
      "4253   4255\n",
      "4256   4265\n",
      "4266   4274\n",
      "4275   4282\n",
      "4283   4289\n",
      "4290   4291\n",
      "4292   4293\n",
      "4294   4301\n",
      "4302   4309\n",
      "4310   4311\n",
      "4312   4313\n",
      "4314   4318\n",
      "4319   4328\n",
      "4329   4336\n",
      "4337   4345\n",
      "4346   4350\n",
      "4351   4356\n",
      "4357   4358\n",
      "4359   4362\n",
      "4363   4364\n",
      "4365   4369\n",
      "4370   4377\n",
      "4378   4381\n",
      "4382   4385\n",
      "4386   4392\n",
      "4393   4394\n",
      "4395   4405\n",
      "4406   4410\n",
      "4411   4418\n",
      "4419   4434\n",
      "4435   4450\n",
      "4451   4452\n",
      "4453   4455\n",
      "4456   4467\n",
      "4468   4480\n",
      "4481   4483\n",
      "4484   4490\n",
      "4491   4496\n",
      "4497   4501\n",
      "4502   4503\n",
      "4504   4511\n",
      "4512   4517\n",
      "4518   4522\n",
      "4523   4526\n",
      "4527   4533\n",
      "4534   4536\n",
      "4537   4546\n",
      "4547   4551\n",
      "4552   4556\n",
      "4557   4559\n",
      "4560   4568\n",
      "4569   4579\n",
      "4580   4582\n",
      "4583   4585\n",
      "4586   4591\n",
      "4592   4593\n",
      "4594   4595\n",
      "4596   4598\n",
      "4599   4615\n",
      "4616   4617\n",
      "4618   4619\n",
      "4620   4621\n",
      "4622   4626\n",
      "4627   4628\n",
      "4629   4630\n",
      "4631   4633\n",
      "4634   4635\n",
      "4636   4638\n",
      "4639   4651\n",
      "4652   4653\n",
      "4654   4655\n",
      "4656   4660\n",
      "4661   4663\n",
      "4664   4665\n",
      "4666   4674\n",
      "4675   4677\n",
      "4678   4691\n",
      "4692   4700\n",
      "4701   4713\n",
      "4714   4715\n",
      "4716   4734\n",
      "4735   4736\n",
      "4737   4738\n",
      "4739   4740\n",
      "4741   4744\n",
      "4745   4746\n",
      "4747   4748\n",
      "4749   4752\n",
      "4753   4754\n",
      "4755   4756\n",
      "4757   4761\n",
      "4762   4765\n",
      "4766   4768\n",
      "4769   4770\n",
      "4771   4772\n",
      "4773   4776\n",
      "4777   4780\n",
      "4781   4783\n",
      "4784   4793\n",
      "4794   4810\n",
      "4811   4814\n",
      "4815   4819\n",
      "4820   4821\n",
      "4822   4826\n",
      "4827   4829\n",
      "4830   4831\n",
      "4832   4833\n",
      "4834   4835\n",
      "4836   4838\n",
      "4839   4844\n",
      "4845   4849\n",
      "4850   4854\n",
      "4855   4859\n",
      "4860   4866\n",
      "4867   4877\n",
      "4878   4879\n",
      "4880   4882\n",
      "4883   4890\n",
      "4891   4908\n",
      "4909   4913\n",
      "4914   4916\n",
      "4917   4918\n",
      "4919   4927\n",
      "4928   4935\n",
      "4936   4944\n",
      "4945   4947\n",
      "4948   4960\n",
      "4961   4973\n",
      "4974   4975\n",
      "4976   4981\n",
      "4982   4983\n",
      "4984   4988\n",
      "4989   4993\n",
      "4994   4997\n",
      "4998   4999\n",
      "5000   5002\n",
      "5003   5006\n",
      "5007   5015\n",
      "5016   5021\n",
      "5022   5023\n",
      "5024   5030\n",
      "5031   5032\n",
      "5033   5034\n",
      "5035   5046\n",
      "5047   5055\n",
      "5056   5057\n",
      "5058   5065\n",
      "5066   5069\n",
      "5070   5071\n",
      "5072   5086\n",
      "5087   5088\n",
      "5089   5090\n",
      "5091   5092\n",
      "5093   5094\n",
      "5095   5096\n",
      "5097   5100\n",
      "5101   5103\n",
      "5104   5109\n",
      "5110   5111\n",
      "5112   5113\n",
      "5114   5124\n",
      "5125   5132\n",
      "5133   5134\n",
      "5135   5137\n",
      "5138   5144\n",
      "5145   5151\n",
      "5152   5156\n",
      "5157   5163\n",
      "5164   5165\n",
      "5166   5167\n",
      "5168   5173\n",
      "5174   5182\n",
      "5183   5184\n",
      "5185   5188\n",
      "5189   5190\n",
      "5191   5194\n",
      "5195   5199\n",
      "5200   5206\n",
      "5207   5212\n",
      "5213   5230\n",
      "5231   5233\n",
      "5234   5236\n",
      "5237   5238\n",
      "5239   5241\n",
      "5242   5243\n",
      "5244   5245\n",
      "5246   5247\n",
      "5248   5249\n",
      "5250   5257\n",
      "5258   5265\n",
      "5266   5268\n",
      "5269   5278\n",
      "5279   5287\n",
      "5288   5289\n",
      "5290   5303\n",
      "5304   5310\n",
      "5311   5317\n",
      "5318   5319\n",
      "5320   5328\n",
      "5329   5339\n",
      "5340   5353\n",
      "5354   5355\n",
      "5356   5362\n",
      "5363   5367\n",
      "5368   5369\n",
      "5370   5372\n",
      "5373   5390\n",
      "5391   5402\n",
      "5403   5413\n",
      "5414   5415\n",
      "5416   5420\n",
      "5421   5424\n",
      "5425   5429\n",
      "5430   5435\n",
      "5436   5443\n",
      "5444   5447\n",
      "5448   5449\n",
      "5450   5451\n",
      "5452   5453\n",
      "5454   5462\n",
      "5463   5476\n",
      "5477   5487\n",
      "5488   5497\n",
      "5498   5511\n",
      "5512   5520\n",
      "5521   5522\n",
      "5523   5530\n",
      "5531   5532\n",
      "5533   5536\n",
      "5537   5538\n",
      "5539   5542\n",
      "5543   5544\n",
      "5545   5546\n",
      "5547   5548\n",
      "5549   5556\n",
      "5557   5563\n",
      "5564   5568\n",
      "5569   5571\n",
      "5572   5580\n",
      "5581   5583\n",
      "5584   5585\n",
      "5586   5590\n",
      "5591   5592\n",
      "5593   5594\n",
      "5595   5596\n",
      "5597   5598\n",
      "5599   5601\n",
      "5602   5603\n",
      "5604   5605\n",
      "5606   5617\n",
      "5618   5623\n",
      "5624   5631\n",
      "5632   5634\n",
      "5635   5642\n",
      "5643   5645\n",
      "5646   5654\n",
      "5655   5657\n",
      "5658   5665\n",
      "5666   5671\n",
      "5672   5675\n",
      "5676   5677\n",
      "5678   5684\n",
      "5685   5689\n",
      "5690   5695\n",
      "5696   5698\n",
      "5699   5702\n",
      "5703   5707\n",
      "5708   5715\n",
      "5716   5723\n",
      "5724   5735\n",
      "5736   5745\n",
      "5746   5760\n",
      "5761   5778\n",
      "5779   5781\n",
      "5782   5787\n",
      "5788   5794\n",
      "5795   5796\n",
      "5797   5800\n",
      "5801   5804\n",
      "5805   5809\n",
      "5810   5812\n",
      "5813   5830\n",
      "5831   5836\n",
      "5837   5838\n",
      "5839   5840\n",
      "5841   5842\n",
      "5843   5844\n",
      "5845   5846\n",
      "5847   5848\n",
      "5849   5850\n",
      "5851   5852\n",
      "5853   5854\n",
      "5855   5867\n",
      "5868   5870\n",
      "5871   5881\n",
      "5882   5886\n",
      "5887   5894\n",
      "5895   5897\n",
      "5898   5916\n",
      "5917   5921\n",
      "5922   5923\n",
      "5924   5936\n",
      "5937   5938\n",
      "5939   5940\n",
      "5941   5955\n",
      "5956   5960\n",
      "5961   5962\n",
      "5963   5972\n",
      "5973   5974\n",
      "5975   5976\n",
      "5977   5984\n",
      "5985   5993\n",
      "5994   6009\n",
      "6010   6021\n",
      "6022   6038\n",
      "6039   6059\n",
      "6060   6066\n",
      "6067   6068\n",
      "6069   6082\n",
      "6083   6086\n",
      "6087   6094\n",
      "6095   6100\n",
      "6101   6107\n",
      "6108   6122\n",
      "6123   6127\n",
      "6128   6135\n",
      "6136   6137\n",
      "6138   6142\n",
      "6143   6144\n",
      "6145   6150\n",
      "6151   6157\n",
      "6158   6164\n",
      "6165   6171\n",
      "6172   6173\n",
      "6174   6178\n",
      "6179   6182\n",
      "6183   6185\n",
      "6186   6187\n",
      "6188   6189\n",
      "6190   6196\n",
      "6197   6199\n",
      "6200   6204\n",
      "6205   6208\n",
      "6209   6210\n",
      "6211   6216\n",
      "6217   6218\n",
      "6219   6222\n",
      "6223   6228\n",
      "6229   6233\n",
      "6234   6237\n",
      "6238   6239\n",
      "6240   6242\n",
      "6243   6244\n",
      "6245   6261\n",
      "6262   6267\n",
      "6268   6270\n",
      "6271   6273\n",
      "6274   6294\n",
      "6295   6299\n",
      "6300   6304\n",
      "6305   6306\n",
      "6307   6312\n",
      "6313   6321\n",
      "6322   6329\n",
      "6330   6353\n",
      "6354   6367\n",
      "6368   6382\n",
      "6383   6398\n",
      "6399   6404\n",
      "6405   6411\n",
      "6412   6415\n",
      "6416   6419\n",
      "6420   6435\n",
      "6436   6440\n",
      "6441   6445\n",
      "6446   6448\n",
      "6449   6451\n",
      "6452   6454\n",
      "6455   6457\n",
      "6458   6462\n",
      "6463   6481\n",
      "6482   6495\n",
      "6496   6497\n",
      "6498   6501\n",
      "6502   6505\n",
      "6506   6507\n",
      "6508   6510\n",
      "6511   6519\n",
      "6520   6526\n",
      "6527   6530\n",
      "6531   6535\n",
      "6536   6538\n",
      "6539   6540\n",
      "6541   6542\n",
      "6543   6544\n",
      "6545   6553\n",
      "6554   6560\n",
      "6561   6562\n",
      "6563   6569\n",
      "6570   6571\n",
      "6572   6573\n",
      "6574   6576\n",
      "6577   6583\n",
      "6584   6585\n",
      "6586   6587\n",
      "6588   6589\n",
      "6590   6599\n",
      "6600   6609\n",
      "6610   6611\n",
      "6612   6613\n",
      "6614   6615\n",
      "6616   6617\n",
      "6618   6626\n",
      "6627   6634\n",
      "6635   6641\n",
      "6642   6647\n",
      "6648   6655\n",
      "6656   6663\n",
      "6664   6668\n",
      "6669   6675\n",
      "6676   6682\n",
      "6683   6684\n",
      "6685   6692\n",
      "6693   6695\n",
      "6696   6699\n",
      "6700   6701\n",
      "6702   6703\n",
      "6704   6711\n",
      "6712   6730\n",
      "6731   6739\n",
      "6740   6743\n",
      "6744   6746\n",
      "6747   6754\n",
      "6755   6756\n",
      "6757   6767\n",
      "6768   6770\n",
      "6771   6773\n",
      "6774   6775\n",
      "6776   6777\n",
      "6778   6779\n",
      "6780   6781\n",
      "6782   6783\n",
      "6784   6790\n",
      "6791   6794\n",
      "6795   6797\n",
      "6798   6799\n",
      "6800   6810\n",
      "6811   6812\n",
      "6813   6821\n",
      "6822   6823\n",
      "6824   6832\n",
      "6833   6834\n",
      "6835   6843\n",
      "6844   6848\n",
      "6849   6853\n",
      "6854   6861\n",
      "6862   6870\n",
      "6871   6878\n",
      "6879   6880\n",
      "6881   6885\n",
      "6886   6887\n",
      "6888   6891\n",
      "6892   6903\n",
      "6904   6912\n",
      "6913   6914\n",
      "6915   6918\n",
      "6919   6922\n",
      "6923   6933\n",
      "6934   6941\n",
      "6942   6943\n",
      "6944   6952\n",
      "6953   6954\n",
      "6955   6956\n",
      "6957   6962\n",
      "6963   6967\n",
      "6968   6969\n",
      "6970   6979\n",
      "6980   6992\n",
      "6993   6997\n",
      "6998   6999\n",
      "7000   7006\n",
      "7007   7016\n",
      "7017   7019\n",
      "7020   7021\n",
      "7022   7024\n",
      "7025   7026\n",
      "7027   7035\n",
      "7036   7041\n",
      "7042   7043\n",
      "7044   7046\n",
      "7047   7049\n",
      "7050   7051\n",
      "7052   7061\n",
      "7062   7071\n",
      "7072   7073\n",
      "7074   7075\n",
      "7076   7083\n",
      "7084   7085\n",
      "7086   7093\n",
      "7094   7095\n",
      "7096   7097\n",
      "7098   7106\n",
      "7107   7113\n",
      "7114   7117\n",
      "7118   7124\n",
      "7125   7126\n",
      "7127   7129\n",
      "7130   7131\n",
      "7132   7137\n",
      "7138   7139\n",
      "7140   7143\n",
      "7144   7145\n",
      "7146   7147\n",
      "7148   7159\n",
      "7160   7164\n",
      "7165   7167\n",
      "7168   7174\n",
      "7175   7176\n",
      "7177   7178\n",
      "7179   7182\n",
      "7183   7190\n",
      "7191   7192\n",
      "7193   7195\n",
      "7196   7197\n",
      "7198   7199\n",
      "7200   7201\n",
      "7202   7207\n",
      "7208   7212\n",
      "7213   7215\n",
      "7216   7220\n",
      "7221   7226\n",
      "7227   7228\n",
      "7229   7232\n",
      "7233   7244\n",
      "7245   7246\n",
      "7247   7248\n",
      "7249   7255\n",
      "7256   7265\n",
      "7266   7270\n",
      "7271   7272\n",
      "7273   7276\n",
      "7277   7278\n",
      "7279   7289\n",
      "7290   7301\n",
      "7302   7304\n",
      "7305   7312\n",
      "7313   7317\n",
      "7318   7325\n",
      "7326   7327\n",
      "7328   7329\n",
      "7330   7332\n",
      "7333   7342\n",
      "7343   7348\n",
      "7349   7358\n",
      "7359   7362\n",
      "7363   7372\n",
      "7373   7379\n",
      "7380   7392\n",
      "7393   7407\n",
      "7408   7416\n",
      "7417   7419\n",
      "7420   7422\n",
      "7423   7431\n",
      "7432   7440\n",
      "7441   7448\n",
      "7449   7451\n",
      "7452   7455\n",
      "7456   7457\n",
      "7458   7460\n",
      "7461   7463\n",
      "7464   7466\n",
      "7467   7476\n",
      "7477   7485\n",
      "7486   7487\n",
      "7488   7496\n",
      "7497   7504\n",
      "7505   7519\n",
      "7520   7534\n",
      "7535   7545\n",
      "7546   7551\n",
      "7552   7571\n",
      "7572   7582\n",
      "7583   7584\n",
      "7585   7588\n",
      "7589   7597\n",
      "7598   7607\n",
      "7608   7618\n",
      "7619   7623\n",
      "7624   7630\n",
      "7631   7633\n",
      "7634   7645\n",
      "7646   7654\n",
      "7655   7664\n",
      "7665   7670\n",
      "7671   7688\n",
      "7689   7691\n",
      "7692   7693\n",
      "7694   7697\n",
      "7698   7701\n",
      "7702   7708\n",
      "7709   7715\n",
      "7716   7721\n",
      "7722   7726\n",
      "7727   7733\n",
      "7734   7745\n",
      "7746   7753\n",
      "7754   7757\n",
      "7758   7760\n",
      "7761   7769\n",
      "7770   7775\n",
      "7776   7777\n",
      "7778   7784\n",
      "7785   7788\n",
      "7789   7802\n",
      "7803   7805\n",
      "7806   7811\n",
      "7812   7813\n",
      "7814   7818\n",
      "7819   7822\n",
      "7823   7824\n",
      "7825   7827\n",
      "7828   7833\n",
      "7834   7842\n",
      "7843   7844\n",
      "7845   7856\n",
      "7857   7858\n",
      "7859   7860\n",
      "7861   7864\n",
      "7865   7878\n",
      "7879   7888\n",
      "7889   7898\n",
      "7899   7905\n",
      "7906   7929\n",
      "7930   7935\n",
      "7936   7940\n",
      "7941   7947\n",
      "7948   7950\n",
      "7951   7953\n",
      "7954   7955\n",
      "7956   7959\n",
      "7960   7961\n",
      "7962   7970\n",
      "7971   7978\n",
      "7979   7983\n",
      "7984   7985\n",
      "7986   7987\n",
      "7988   7992\n",
      "7993   8001\n",
      "8002   8017\n",
      "8018   8029\n",
      "8030   8040\n",
      "8041   8044\n",
      "8045   8049\n",
      "8050   8060\n",
      "8061   8069\n",
      "8070   8071\n",
      "8072   8073\n",
      "8074   8086\n",
      "8087   8097\n",
      "8098   8099\n",
      "8100   8102\n",
      "8103   8119\n",
      "8120   8121\n",
      "8122   8123\n",
      "8124   8137\n",
      "8138   8152\n",
      "8153   8168\n"
     ]
    },
    {
     "name": "stdout",
     "output_type": "stream",
     "text": [
      "8169   8178\n",
      "8179   8184\n",
      "8185   8187\n",
      "8188   8195\n",
      "8196   8198\n",
      "8199   8200\n",
      "8201   8205\n",
      "8206   8210\n",
      "8211   8221\n",
      "8222   8229\n",
      "8230   8231\n",
      "8232   8236\n",
      "8237   8241\n",
      "8242   8248\n",
      "8249   8251\n"
     ]
    }
   ],
>>>>>>> Stashed changes
   "source": [
    "ranges = find_value_ranges(X_train[\"Dialogue_ID\"])"
   ]
  },
  {
   "cell_type": "code",
   "execution_count": 55,
   "id": "200bbb7c",
   "metadata": {
    "code_folding": []
   },
   "outputs": [],
   "source": [
    "ranges = find_value_ranges(X_train[\"Dialogue_ID\"])"
   ]
  },
  {
   "cell_type": "code",
   "execution_count": 55,
   "id": "200bbb7c",
   "metadata": {
    "code_folding": []
   },
   "outputs": [],
   "source": [
    "updated_representations = [] \n",
    " \n",
    "checkFile = os.path.isfile(\"embed/updated_representation_list.pkl\") \n",
    " \n",
    "if checkFile is key: #key controls whether I save new file or not\n",
    "    for range_pair in ranges: \n",
    "        start_idx, end_idx = range_pair \n",
    "        print(start_idx , \" \", end_idx) \n",
    "        conversation = X_train['Utterance'][start_idx:end_idx+1] \n",
    "\n",
    "        for utterance in conversation:\n",
    "            # Tokenize each conversation into words\n",
    "            conversation_tokens = utterance.split()\n",
    "\n",
    "            # Convert words to indices\n",
    "            turn_indices = [vocab.stoi[word] if word in vocab.stoi else vocab.stoi['<unk>'] for word in conversation_tokens]\n",
    "            turn_tensor = torch.tensor(turn_indices, dtype=torch.long)  # Specify data type as long\n",
    "\n",
    "            # Pad sequences to a fixed length (adjust this based on your model requirements)\n",
    "            max_seq_len = len(turn_tensor)\n",
    "            max_seq_len_list.append(max_seq_len)\n",
    "            padded_turn = torch.nn.functional.pad(turn_tensor, pad=(0, max_seq_len - len(turn_tensor)))\n",
    "\n",
    "            # Append the padded turn\n",
    "            input_data.append(padded_turn)\n",
    "\n",
    "        # Determine the maximum sequence length across all conversations\n",
    "        max_seq_len = max(5,max(max_seq_len_list))\n",
    "\n",
    "        # Pad all conversations to the same maximum sequence length\n",
    "        for i, padded_turn in enumerate(input_data):\n",
    "            input_data[i] = torch.nn.functional.pad(padded_turn, pad=(0, max_seq_len - len(padded_turn)))\n",
    "\n",
    "        # Stack all padded turns along a new dimension to create batched input\n",
    "        input_data_stacked = torch.stack(input_data)\n",
    "\n",
    "        # Construct input data dictionary\n",
    "        input_data_dict = {'Utterance': input_data_stacked}\n",
    "\n",
    "        # Perform the forward pass (inference) to obtain the numerical representation\n",
    "        with torch.no_grad():  # Disable gradient calculation during inference\n",
    "            output_representation = model(input_data_dict)\n",
    " \n",
    "        updated_representations.append(output_representation) \n",
    "     \n",
    "     \n",
    "    file_path = 'embed/updated_representation_list.pkl' \n",
    "    # Save the list to a file using pickle \n",
    "    with open(file_path, 'wb') as file: \n",
    "        pickle.dump(updated_representations, file) \n",
    "     \n",
    "else: \n",
    "    file_path = 'embed/updated_representation_list.pkl' \n",
    " \n",
    "    # Load the list from the file using pickle \n",
    "    with open(file_path, 'rb') as file: \n",
    "        updated_representations = pickle.load(file)"
   ]
  },
  {
   "cell_type": "code",
<<<<<<< Updated upstream
   "execution_count": 56,
=======
<<<<<<< HEAD
<<<<<<< Updated upstream
   "execution_count": 63,
=======
   "execution_count": 56,
>>>>>>> 1ab8d73fb594cf89710a5a76651eb2cf24b294df
>>>>>>> Stashed changes
   "id": "5c3d1152",
   "metadata": {},
   "outputs": [
    {
     "data": {
      "text/plain": [
       "torch.Size([11, 300])"
      ]
     },
     "execution_count": 56,
     "metadata": {},
     "output_type": "execute_result"
    }
   ],
   "source": [
<<<<<<< Updated upstream
    "updated_representations[38].shape"
   ]
  },
  {
   "cell_type": "code",
   "execution_count": 57,
   "id": "4aea66e4",
   "metadata": {},
   "outputs": [],
   "source": [
    "# print(len(_X_train[\"text\"]))\n",
    "# print(len(X_train))"
=======
<<<<<<< HEAD
    "ranges = find_value_ranges(_X_train[\"ids\"])\n",
    "ranges[:10]"
=======
   "execution_count": null,
   "id": "c23d811e",
   "metadata": {},
   "outputs": [],
   "source": [
    "# last checkpoint\n",
    "# 8230   8231\n",
    "# 8232   8236\n",
    "# 8237   8241\n",
    "# 8242   8248\n",
    "# 8249   8251"
   ]
  },
  {
   "cell_type": "markdown",
   "id": "79f8d82c",
   "metadata": {},
   "source": [
    "#old<br>\n",
    "torch.Size([14, 300])<br>\n",
    "tensor([[ 0.1502, -0.1841, -0.3293,  ..., -0.0544,  0.0272, -0.0368],<br>\n",
    "        [ 0.0544, -0.1022, -0.1380,  ..., -0.0529,  0.0268, -0.0346],<br>\n",
    "        [ 0.0173, -0.0505, -0.0609,  ..., -0.0537,  0.0261, -0.0355],<br>\n",
    "        ...,<br>\n",
    "        [-0.0478, -0.0104,  0.0360,  ...,  0.0458, -0.0616,  0.0019],<br>\n",
    "        [-0.0391, -0.0135,  0.0423,  ...,  0.1525, -0.1418,  0.0137],<br>\n",
    "        [-0.0376, -0.0129,  0.0393,  ...,  0.3294, -0.2143,  0.0170]],<br>\n",
    "       grad_fn=<SqueezeBackward1>)"
=======
    "updated_representations[38].shape"
>>>>>>> Stashed changes
   ]
  },
  {
   "cell_type": "code",
<<<<<<< Updated upstream
   "execution_count": 58,
   "id": "447aa6fd",
   "metadata": {},
   "outputs": [],
   "source": [
    "# ranges = find_value_ranges(X_train[\"Dialogue_ID\"])\n",
    "# ranges[:10]"
   ]
  },
  {
   "cell_type": "code",
   "execution_count": 63,
   "id": "a1821fb3",
=======
   "execution_count": 57,
   "id": "4aea66e4",
>>>>>>> Stashed changes
   "metadata": {},
   "outputs": [],
   "source": [
    "# print(len(_X_train[\"text\"]))\n",
    "# print(len(X_train))"
>>>>>>> 1ab8d73fb594cf89710a5a76651eb2cf24b294df
   ]
  },
  {
   "cell_type": "code",
   "execution_count": 1,
   "id": "4aea66e4",
   "metadata": {},
   "outputs": [
    {
     "ename": "NameError",
     "evalue": "name 'updated_representations' is not defined",
     "output_type": "error",
     "traceback": [
      "\u001b[1;31m---------------------------------------------------------------------------\u001b[0m",
      "\u001b[1;31mNameError\u001b[0m                                 Traceback (most recent call last)",
      "Input \u001b[1;32mIn [1]\u001b[0m, in \u001b[0;36m<cell line: 1>\u001b[1;34m()\u001b[0m\n\u001b[1;32m----> 1\u001b[0m \u001b[38;5;28mprint\u001b[39m(\u001b[43mupdated_representations\u001b[49m[\u001b[38;5;241m0\u001b[39m]\u001b[38;5;241m.\u001b[39mshape)\n\u001b[0;32m      2\u001b[0m \u001b[38;5;28mprint\u001b[39m(updated_representations[\u001b[38;5;241m0\u001b[39m])\n",
      "\u001b[1;31mNameError\u001b[0m: name 'updated_representations' is not defined"
     ]
    }
   ],
   "source": [
    "print(updated_representations[0].shape)\n",
    "print(updated_representations[0])"
>>>>>>> Stashed changes
   ]
  },
  {
   "cell_type": "code",
<<<<<<< Updated upstream
   "execution_count": 58,
<<<<<<< HEAD
=======
   "execution_count": 2,
>>>>>>> Stashed changes
=======
   "id": "447aa6fd",
   "metadata": {},
   "outputs": [],
   "source": [
    "# ranges = find_value_ranges(X_train[\"Dialogue_ID\"])\n",
    "# ranges[:10]"
   ]
  },
  {
   "cell_type": "code",
   "execution_count": 63,
>>>>>>> 1ab8d73fb594cf89710a5a76651eb2cf24b294df
   "id": "a1821fb3",
   "metadata": {},
   "outputs": [
    {
     "ename": "NameError",
     "evalue": "name 'os' is not defined",
     "output_type": "error",
     "traceback": [
      "\u001b[1;31m---------------------------------------------------------------------------\u001b[0m",
      "\u001b[1;31mNameError\u001b[0m                                 Traceback (most recent call last)",
      "Input \u001b[1;32mIn [2]\u001b[0m, in \u001b[0;36m<cell line: 1>\u001b[1;34m()\u001b[0m\n\u001b[1;32m----> 1\u001b[0m checkFile \u001b[38;5;241m=\u001b[39m \u001b[43mos\u001b[49m\u001b[38;5;241m.\u001b[39mpath\u001b[38;5;241m.\u001b[39misfile( \u001b[38;5;124m\"\u001b[39m\u001b[38;5;124mdata/dump/speaker_encoder.pkl\u001b[39m\u001b[38;5;124m\"\u001b[39m) \n\u001b[0;32m      2\u001b[0m encoded_speaker_list \u001b[38;5;241m=\u001b[39m [] \n\u001b[0;32m      3\u001b[0m \u001b[38;5;28;01mif\u001b[39;00m checkFile \u001b[38;5;129;01mis\u001b[39;00m key: \n",
      "\u001b[1;31mNameError\u001b[0m: name 'os' is not defined"
     ]
    }
   ],
   "source": [
    "checkFile = os.path.isfile( \"data/dump/speaker_encoder.pkl\") \n",
    "encoded_speaker_list = [] \n",
    "if checkFile is key: \n",
    "    for range_pair in ranges: \n",
    "        start_idx, end_idx = range_pair \n",
    "        speaker_per_dialog = X_train['Speaker'][start_idx:end_idx+1].copy() \n",
    "        speaker_feature = set(speaker_per_dialog) \n",
    "        speaker_encoder = {feature: i for i, feature in enumerate(speaker_feature)} \n",
    "        speaker_decoder = {i: feature for i, feature in enumerate(speaker_feature)} \n",
    "\n",
    "        encoded_speaker = speaker_per_dialog.replace(speaker_encoder) \n",
    "        encoded_speaker_list.append(encoded_speaker) \n",
    " \n",
    "    file_path = 'data/dump/speaker_encoder.pkl' \n",
    "    with open(file_path, 'wb') as file: \n",
    "        pickle.dump([encoded_speaker_list, ranges], file) \n",
    "#     pickle.dump([encoded_speaker_list, ranges], open('data/dump/speaker_encoder.pkl')) \n",
    "else: \n",
    "    file = open('data/dump/speaker_encoder.pkl',  \"rb\") \n",
    "    encoded_speaker_list = pickle.load(file) \n",
    "    file.close()"
   ]
  },
  {
<<<<<<< Updated upstream
=======
<<<<<<< HEAD
<<<<<<< Updated upstream
=======
>>>>>>> Stashed changes
   "cell_type": "markdown",
   "id": "53400cc5",
   "metadata": {},
   "source": [
    "To check if there are 2 speakers"
   ]
  },
  {
<<<<<<< Updated upstream
=======
>>>>>>> 1ab8d73fb594cf89710a5a76651eb2cf24b294df
>>>>>>> Stashed changes
   "cell_type": "code",
   "execution_count": 60,
   "id": "fa2f5daa",
   "metadata": {},
   "outputs": [],
   "source": [
    "# for range_pair in ranges: \n",
    "#     start_idx, end_idx = range_pair \n",
    "#     speaker_per_dialog = X_train[['Dialogue_ID','Speaker']][start_idx:end_idx+1].copy() \n",
    "#     speaker_feature = set(speaker_per_dialog[\"Speaker\"])\n",
    "#     print(start_idx, end_idx ,speaker_feature)\n",
    "#     print(list(speaker_per_dialog[\"Dialogue_ID\"]))\n",
    "#     speaker_encoder = {feature: i for i, feature in enumerate(speaker_feature)} \n",
    "#     speaker_decoder = {i: feature for i, feature in enumerate(speaker_feature)} "
   ]
  },
  {
   "cell_type": "code",
   "execution_count": 61,
   "id": "fd6c294c",
=======
   "cell_type": "markdown",
   "id": "3f4c8b1f",
   "metadata": {},
   "source": [
    "Unsupervised visualization"
   ]
  },
  {
   "cell_type": "code",
   "execution_count": 319,
   "id": "dc15915f",
   "metadata": {},
   "outputs": [],
   "source": [
    "# Concatenate all the tensors representing individual utterances\n",
    "concatenated_tensors = []\n",
    "for dialogue_tensor in updated_representations:\n",
    "    concatenated_tensors.extend(dialogue_tensor)\n",
    "\n",
    "# Convert the concatenated list of tensors into a single tensor\n",
    "tensor_utterances = torch.stack(concatenated_tensors)"
   ]
  },
  {
   "cell_type": "code",
   "execution_count": 320,
   "id": "0ade9263",
   "metadata": {},
<<<<<<< Updated upstream
   "outputs": [],
   "source": [
    "# encoded_speaker_list"
=======
   "outputs": [
    {
     "data": {
      "text/html": [
       "<div>\n",
       "<style scoped>\n",
       "    .dataframe tbody tr th:only-of-type {\n",
       "        vertical-align: middle;\n",
       "    }\n",
       "\n",
       "    .dataframe tbody tr th {\n",
       "        vertical-align: top;\n",
       "    }\n",
       "\n",
       "    .dataframe thead th {\n",
       "        text-align: right;\n",
       "    }\n",
       "</style>\n",
       "<table border=\"1\" class=\"dataframe\">\n",
       "  <thead>\n",
       "    <tr style=\"text-align: right;\">\n",
       "      <th></th>\n",
       "      <th>Emotion</th>\n",
       "      <th>Dialogue_ID</th>\n",
       "    </tr>\n",
       "  </thead>\n",
       "  <tbody>\n",
       "    <tr>\n",
       "      <th>0</th>\n",
       "      <td>4</td>\n",
       "      <td>0</td>\n",
       "    </tr>\n",
       "    <tr>\n",
       "      <th>1</th>\n",
       "      <td>4</td>\n",
       "      <td>0</td>\n",
       "    </tr>\n",
       "    <tr>\n",
       "      <th>2</th>\n",
       "      <td>4</td>\n",
       "      <td>0</td>\n",
       "    </tr>\n",
       "    <tr>\n",
       "      <th>3</th>\n",
       "      <td>4</td>\n",
       "      <td>0</td>\n",
       "    </tr>\n",
       "    <tr>\n",
       "      <th>4</th>\n",
       "      <td>2</td>\n",
       "      <td>0</td>\n",
       "    </tr>\n",
       "    <tr>\n",
       "      <th>...</th>\n",
       "      <td>...</td>\n",
       "      <td>...</td>\n",
       "    </tr>\n",
       "    <tr>\n",
       "      <th>12835</th>\n",
       "      <td>1</td>\n",
       "      <td>2159</td>\n",
       "    </tr>\n",
       "    <tr>\n",
       "      <th>12836</th>\n",
       "      <td>1</td>\n",
       "      <td>2159</td>\n",
       "    </tr>\n",
       "    <tr>\n",
       "      <th>12837</th>\n",
       "      <td>2</td>\n",
       "      <td>2159</td>\n",
       "    </tr>\n",
       "    <tr>\n",
       "      <th>12838</th>\n",
       "      <td>4</td>\n",
       "      <td>2159</td>\n",
       "    </tr>\n",
       "    <tr>\n",
       "      <th>12839</th>\n",
       "      <td>6</td>\n",
       "      <td>2159</td>\n",
       "    </tr>\n",
       "  </tbody>\n",
       "</table>\n",
       "<p>12840 rows × 2 columns</p>\n",
       "</div>"
      ],
      "text/plain": [
       "       Emotion  Dialogue_ID\n",
       "0            4            0\n",
       "1            4            0\n",
       "2            4            0\n",
       "3            4            0\n",
       "4            2            0\n",
       "...        ...          ...\n",
       "12835        1         2159\n",
       "12836        1         2159\n",
       "12837        2         2159\n",
       "12838        4         2159\n",
       "12839        6         2159\n",
       "\n",
       "[12840 rows x 2 columns]"
      ]
     },
     "execution_count": 320,
     "metadata": {},
     "output_type": "execute_result"
    }
   ],
   "source": [
    "y_train"
   ]
  },
  {
   "cell_type": "code",
   "execution_count": 321,
   "id": "1387c72f",
   "metadata": {},
   "outputs": [
    {
     "data": {
      "text/plain": [
       "['anger', 'disgust', 'surprise', 'fear', 'neutral', 'sadness', 'joy']"
      ]
     },
     "execution_count": 321,
     "metadata": {},
     "output_type": "execute_result"
    }
   ],
   "source": [
    "list(label_decoder.values())"
   ]
  },
  {
   "cell_type": "code",
   "execution_count": 322,
   "id": "ca108663",
>>>>>>> Stashed changes
   "metadata": {},
   "outputs": [],
   "source": [
<<<<<<< HEAD
<<<<<<< Updated upstream
    "encoded_speaker_list"
=======
    "num_instance=len(X_train)"
   ]
  },
  {
   "cell_type": "code",
   "execution_count": 323,
   "id": "e5e014ee",
   "metadata": {},
   "outputs": [
    {
     "name": "stdout",
     "output_type": "stream",
     "text": [
      "0: 1500 occurrences\n",
      "1: 364 occurrences\n",
      "2: 1490 occurrences\n",
      "3: 338 occurrences\n",
      "4: 5960 occurrences\n",
      "5: 876 occurrences\n",
      "6: 2312 occurrences\n"
     ]
    }
   ],
   "source": [
    "unique_labels, label_counts = np.unique(list(X_train[\"Emotion\"][:num_instance]), return_counts=True)\n",
    "\n",
    "# Print the counts for each unique label\n",
    "for label, count in zip(unique_labels, label_counts):\n",
    "    print(f\"{label}: {count} occurrences\")"
   ]
  },
  {
   "cell_type": "markdown",
   "id": "12fc17b9",
   "metadata": {},
   "source": [
    "Visualize utterance embeddnig (u') with T-SNE"
   ]
  },
  {
   "cell_type": "code",
   "execution_count": 324,
   "id": "9f8b552c",
   "metadata": {},
   "outputs": [],
   "source": [
    "labels = torch.tensor(X_train[\"Emotion\"][:num_instance])"
   ]
  },
  {
   "cell_type": "code",
   "execution_count": 325,
   "id": "0fc72d79",
   "metadata": {},
   "outputs": [
    {
     "data": {
      "image/png": "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\n",
      "text/plain": [
       "<Figure size 720x576 with 1 Axes>"
      ]
     },
     "metadata": {
      "needs_background": "light"
     },
     "output_type": "display_data"
    },
    {
     "data": {
      "image/png": "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\n",
      "text/plain": [
       "<Figure size 720x576 with 1 Axes>"
      ]
     },
     "metadata": {
      "needs_background": "light"
     },
     "output_type": "display_data"
    },
    {
     "data": {
      "image/png": "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\n",
      "text/plain": [
       "<Figure size 720x576 with 1 Axes>"
      ]
     },
     "metadata": {
      "needs_background": "light"
     },
     "output_type": "display_data"
    }
   ],
   "source": [
    "runTSNE = 0\n",
    "if runTSNE:\n",
    "    # List of perplexity values to loop over\n",
    "    perplexity_values = [30, 50, 100]\n",
    "\n",
    "    # Loop over each perplexity value\n",
    "    for perplexity in perplexity_values:\n",
    "        # Initialize t-SNE with the current perplexity value\n",
    "        tsne = TSNE(n_components=2, perplexity=perplexity, random_state=42)\n",
    "\n",
    "        # Fit and transform the data using t-SNE\n",
    "        h_prime_tsne = tsne.fit_transform(tensor_utterances[:num_instance].detach().numpy())\n",
    "\n",
    "        # Plot the node embeddings with different colors for each label\n",
    "        plt.figure(figsize=(10, 8))\n",
    "        for label, emotion in zip(range(len(label_encoder)), label_encoder): \n",
    "            indices = (labels == label).nonzero().squeeze()\n",
    "            plt.scatter(h_prime_tsne[indices, 0], h_prime_tsne[indices, 1], label=f'{emotion}')\n",
    "        plt.title(f'Utterance Embeddings (Train) Visualization (t-SNE) - Perplexity {perplexity}', color=\"white\")\n",
    "        plt.xlabel('Dimension 1', color=\"white\")\n",
    "        plt.ylabel('Dimension 2', color=\"white\")\n",
    "        plt.legend()\n",
    "        plt.show()"
   ]
  },
  {
   "cell_type": "markdown",
   "id": "918649c1",
   "metadata": {},
   "source": [
    "Visualize utterance embedding (u') with PCA"
   ]
  },
  {
   "cell_type": "code",
   "execution_count": 326,
   "id": "2f59370b",
   "metadata": {},
   "outputs": [
    {
     "data": {
      "image/png": "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\n",
      "text/plain": [
       "<Figure size 576x432 with 1 Axes>"
      ]
     },
     "metadata": {
      "needs_background": "light"
     },
     "output_type": "display_data"
    }
   ],
   "source": [
    "# Perform PCA\n",
    "pca = PCA(n_components=2)\n",
    "pca_result = pca.fit_transform(tensor_utterances[:num_instance].detach().numpy())\n",
    "\n",
    "# Plot the PCA result with color-coded labels\n",
    "plt.figure(figsize=(8, 6))\n",
    "for label in np.unique(labels):\n",
    "    indices = labels == label\n",
    "    plt.scatter(pca_result[indices, 0], pca_result[indices, 1], label=f'{label_decoder[label]}', alpha=0.5)\n",
    "plt.title('PCA Visualization of Utterance Embeddings (Train) with Color-Coded Labels')\n",
    "plt.xlabel('Principal Component 1')\n",
    "plt.ylabel('Principal Component 2')\n",
    "plt.legend()\n",
    "plt.grid(True)\n",
    "plt.show()"
>>>>>>> Stashed changes
=======
    "# encoded_speaker_list"
>>>>>>> 1ab8d73fb594cf89710a5a76651eb2cf24b294df
>>>>>>> Stashed changes
   ]
  }
 ],
 "metadata": {
  "kernelspec": {
   "display_name": "Python 3 (ipykernel)",
   "language": "python",
   "name": "python3"
  },
  "language_info": {
   "codemirror_mode": {
    "name": "ipython",
    "version": 3
   },
   "file_extension": ".py",
   "mimetype": "text/x-python",
   "name": "python",
   "nbconvert_exporter": "python",
   "pygments_lexer": "ipython3",
   "version": "3.10.4"
  },
  "toc": {
   "base_numbering": 1,
   "nav_menu": {},
   "number_sections": true,
   "sideBar": true,
   "skip_h1_title": false,
   "title_cell": "Table of Contents",
   "title_sidebar": "Contents",
   "toc_cell": false,
   "toc_position": {},
   "toc_section_display": true,
   "toc_window_display": false
  }
 },
 "nbformat": 4,
 "nbformat_minor": 5
}
