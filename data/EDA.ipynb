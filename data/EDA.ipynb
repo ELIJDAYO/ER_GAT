{
 "cells": [
  {
   "cell_type": "code",
   "execution_count": 1,
   "id": "23b320ba",
   "metadata": {},
   "outputs": [
    {
     "name": "stdout",
     "output_type": "stream",
     "text": [
      "0.7286985701779982 0.1903997665596732 0.08090166326232857\n"
     ]
    }
   ],
   "source": [
    "a=9989 \n",
    "b=2610\n",
    "c=1109\n",
    "\n",
    "sum_set=a+b+c\n",
    "\n",
    "print(a/sum_set, b/sum_set, c/sum_set)"
   ]
  },
  {
   "cell_type": "code",
   "execution_count": 19,
   "id": "7d8bd7ef",
   "metadata": {},
   "outputs": [],
   "source": [
    "# !pip install chardet"
   ]
  },
  {
   "cell_type": "code",
   "execution_count": 27,
   "id": "7092ccb1",
   "metadata": {},
   "outputs": [],
   "source": [
    "import os\n",
    "import pandas as pd\n",
    "from chardet import detect"
   ]
  },
  {
   "cell_type": "code",
   "execution_count": 26,
   "id": "ae2ca1d2",
   "metadata": {},
   "outputs": [
    {
     "data": {
      "text/plain": [
       "['.ipynb_checkpoints',\n",
       " 'dev_sent_emo_dya.csv',\n",
       " 'EDA.ipynb',\n",
       " 'test_sent_emo_dya.csv',\n",
       " 'train.csv',\n",
       " 'train_sent_emo_dya.csv']"
      ]
     },
     "execution_count": 26,
     "metadata": {},
     "output_type": "execute_result"
    }
   ],
   "source": [
    "(os.listdir())"
   ]
  },
  {
   "cell_type": "code",
   "execution_count": 11,
   "id": "cafc14e6",
   "metadata": {},
   "outputs": [],
   "source": [
    "# get file encoding type\n",
    "def get_encoding_type(file):\n",
    "    with open(file, 'rb') as f:\n",
    "        rawdata = f.read()\n",
    "    return detect(rawdata)['encoding']"
   ]
  },
  {
   "cell_type": "code",
   "execution_count": 29,
   "id": "ebd280f9",
   "metadata": {},
   "outputs": [
    {
     "name": "stdout",
     "output_type": "stream",
     "text": [
      "MacRoman\n"
     ]
    }
   ],
   "source": [
    "print(encoding=get_encoding_type(\"train_sent_emo_dya.csv\"))"
   ]
  },
  {
   "cell_type": "code",
   "execution_count": 40,
   "id": "36c51689",
   "metadata": {},
   "outputs": [
    {
     "data": {
      "text/plain": [
       "'Ã'"
      ]
     },
     "execution_count": 40,
     "metadata": {},
     "output_type": "execute_result"
    }
   ],
   "source": [
    "df."
   ]
  },
  {
   "cell_type": "code",
   "execution_count": 54,
   "id": "6a3ea9e8",
   "metadata": {
    "scrolled": true
   },
   "outputs": [
    {
     "name": "stdout",
     "output_type": "stream",
     "text": [
      "                                               Utterance          Speaker  \\\n",
      "0      also I was the point person on my companyÅfs t...         Chandler   \n",
      "1                      You mustÅfve had your hands full.  The Interviewer   \n",
      "2                                That I did. That I did.         Chandler   \n",
      "3         So letÅfs talk a little bit about your duties.  The Interviewer   \n",
      "4                                 My duties?  All right.         Chandler   \n",
      "...                                                  ...              ...   \n",
      "12835  When I first moved to the city, I went out a c...             Joey   \n",
      "12836                                   It made me nuts.             Joey   \n",
      "12837               You guys are messing with me, right?             Joey   \n",
      "12838                                              Yeah.              All   \n",
      "12839  That was a good one. For a second there, I was...             Joey   \n",
      "\n",
      "        Emotion Sentiment  Dialogue_ID  Utterance_ID  Old_Dialogue_ID  \\\n",
      "0       neutral   neutral            0             0                0   \n",
      "1       neutral   neutral            0             1                0   \n",
      "2       neutral   neutral            0             2                0   \n",
      "3       neutral   neutral            0             3                0   \n",
      "4      surprise  positive            0             4                0   \n",
      "...         ...       ...          ...           ...              ...   \n",
      "12835   disgust  negative         2159             2             1038   \n",
      "12836   disgust  negative         2159             3             1038   \n",
      "12837  surprise  positive         2159             4             1038   \n",
      "12838   neutral   neutral         2159             5             1038   \n",
      "12839       joy  positive         2159             6             1038   \n",
      "\n",
      "       Old_Utterance_ID  Season  Episode     StartTime       EndTime  \n",
      "0                     0       8       21  00:16:16,059  00:16:21,731  \n",
      "1                     1       8       21  00:16:21,940  00:16:23,442  \n",
      "2                     2       8       21  00:16:23,442  00:16:26,389  \n",
      "3                     3       8       21  00:16:26,820  00:16:29,572  \n",
      "4                     4       8       21  00:16:34,452  00:16:40,917  \n",
      "...                 ...     ...      ...           ...           ...  \n",
      "12835                11       2        3  00:00:35,744  00:00:44,334  \n",
      "12836                12       2        3  00:00:45,462  00:00:46,587  \n",
      "12837                15       2        3  00:01:00,518  00:01:03,520  \n",
      "12838                16       2        3  00:01:05,398  00:01:07,274  \n",
      "12839                17       2        3  00:01:08,401  00:01:12,071  \n",
      "\n",
      "[12840 rows x 12 columns]\n"
     ]
    }
   ],
   "source": [
    "df = pd.read_csv('train_sent_emo_dya.csv', encoding='MacRoman')"
   ]
  },
  {
   "cell_type": "code",
   "execution_count": 60,
   "id": "aca9cb65",
   "metadata": {},
   "outputs": [
    {
     "name": "stdout",
     "output_type": "stream",
     "text": [
      "0     00:16:21,731\n",
      "1     00:16:23,442\n",
      "2     00:16:26,389\n",
      "3     00:16:29,572\n",
      "4     00:16:40,917\n",
      "5     00:16:44,337\n",
      "6     00:16:51,886\n",
      "7     00:16:54,514\n",
      "8     00:17:00,478\n",
      "9     00:17:02,719\n",
      "10    00:17:04,858\n",
      "11    00:17:13,324\n",
      "12    00:17:16,536\n",
      "13    00:17:20,707\n",
      "14    00:36:42,824\n",
      "15    00:36:46,578\n",
      "16    00:36:49,122\n",
      "17    00:36:51,791\n",
      "18    00:36:53,543\n",
      "19    00:36:55,000\n",
      "20     0:37:01,439\n",
      "21    00:05:51,433\n",
      "22     0:05:53,897\n",
      "23     0:05:55,743\n",
      "24     0:05:58,734\n",
      "25     0:05:59,774\n",
      "26    00:06:02,152\n",
      "27    00:06:07,157\n",
      "28    00:06:07,157\n",
      "29     0:06:08,035\n",
      "Name: EndTime, dtype: object\n"
     ]
    }
   ],
   "source": [
    "\n",
    "print(df.EndTime[:30])"
   ]
  },
  {
   "cell_type": "code",
   "execution_count": 58,
   "id": "5b56c955",
   "metadata": {},
   "outputs": [
    {
     "name": "stdout",
     "output_type": "stream",
     "text": [
      "<class 'pandas.core.frame.DataFrame'>\n",
      "RangeIndex: 12840 entries, 0 to 12839\n",
      "Data columns (total 12 columns):\n",
      " #   Column            Non-Null Count  Dtype \n",
      "---  ------            --------------  ----- \n",
      " 0   Utterance         12840 non-null  object\n",
      " 1   Speaker           12840 non-null  object\n",
      " 2   Emotion           12840 non-null  object\n",
      " 3   Sentiment         12840 non-null  object\n",
      " 4   Dialogue_ID       12840 non-null  int64 \n",
      " 5   Utterance_ID      12840 non-null  int64 \n",
      " 6   Old_Dialogue_ID   12840 non-null  int64 \n",
      " 7   Old_Utterance_ID  12840 non-null  int64 \n",
      " 8   Season            12840 non-null  int64 \n",
      " 9   Episode           12840 non-null  int64 \n",
      " 10  StartTime         12840 non-null  object\n",
      " 11  EndTime           12840 non-null  object\n",
      "dtypes: int64(6), object(6)\n",
      "memory usage: 1.2+ MB\n"
     ]
    }
   ],
   "source": [
    "df.info()"
   ]
  }
 ],
 "metadata": {
  "kernelspec": {
   "display_name": "Python 3 (ipykernel)",
   "language": "python",
   "name": "python3"
  },
  "language_info": {
   "codemirror_mode": {
    "name": "ipython",
    "version": 3
   },
   "file_extension": ".py",
   "mimetype": "text/x-python",
   "name": "python",
   "nbconvert_exporter": "python",
   "pygments_lexer": "ipython3",
   "version": "3.10.4"
  },
  "toc": {
   "base_numbering": 1,
   "nav_menu": {},
   "number_sections": true,
   "sideBar": true,
   "skip_h1_title": false,
   "title_cell": "Table of Contents",
   "title_sidebar": "Contents",
   "toc_cell": false,
   "toc_position": {},
   "toc_section_display": true,
   "toc_window_display": false
  }
 },
 "nbformat": 4,
 "nbformat_minor": 5
}
