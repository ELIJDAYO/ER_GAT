{
 "cells": [
  {
   "cell_type": "markdown",
   "metadata": {},
   "source": [
    "# Dataset Preparation"
   ]
  },
  {
   "cell_type": "markdown",
   "metadata": {},
   "source": [
    "### Importing of libraries"
   ]
  },
  {
   "cell_type": "code",
   "execution_count": 37,
   "metadata": {},
   "outputs": [],
   "source": [
    "import pandas as pd\n",
    "import os\n",
    "import pickle\n",
    "\n",
    "import collections\n",
    "from vocab import Vocab, Vectors\n",
    "from wordebd import WORDEBD\n",
    "\n",
    "import nltk\n",
    "from nltk.corpus import stopwords\n",
    "from nltk.tokenize import word_tokenize\n",
    "from nltk.stem import WordNetLemmatizer"
   ]
  },
  {
   "cell_type": "markdown",
   "metadata": {},
   "source": [
    "### Importing of data"
   ]
  },
  {
   "cell_type": "code",
   "execution_count": 39,
   "metadata": {},
   "outputs": [
    {
     "name": "stdout",
     "output_type": "stream",
     "text": [
      "(12840, 12)\n",
      "(3400, 12)\n",
      "(1462, 12)\n"
     ]
    }
   ],
   "source": [
    "# Read the CSV file\n",
    "TrainData = pd.read_csv('data/dataset_original/train_sent_emo_dya.csv', encoding='shift_jis')\n",
    "TestData = pd.read_csv('data/dataset_original/test_sent_emo_dya.csv', encoding='utf-8')\n",
    "DevData = pd.read_csv('data/dataset_original/dev_sent_emo_dya.csv', encoding='utf-8')\n",
    "\n",
    "# Display the first three rows\n",
    "print(TrainData.shape)\n",
    "print(TestData.shape)\n",
    "print(DevData.shape)\n"
   ]
  },
  {
   "cell_type": "markdown",
   "metadata": {},
   "source": [
    "### Dropping of Features"
   ]
  },
  {
   "cell_type": "markdown",
   "metadata": {},
   "source": [
    "Drop Old_Dialogue_ID, Old_Utterance_ID, Season, Episode, StartTime, and EndTime"
   ]
  },
  {
   "cell_type": "code",
   "execution_count": 40,
   "metadata": {},
   "outputs": [],
   "source": [
    "# Define features to drop\n",
    "drop_features = list(TrainData.columns[6:]) "
   ]
  },
  {
   "cell_type": "code",
   "execution_count": 41,
   "metadata": {},
   "outputs": [],
   "source": [
    "# Drop features from X_train DataFrame\n",
    "TrainData = TrainData.drop(drop_features, axis=1)\n",
    "TestData = TestData.drop(drop_features, axis=1)\n",
    "DevData = DevData.drop(drop_features, axis=1)"
   ]
  },
  {
   "cell_type": "code",
   "execution_count": 42,
   "metadata": {},
   "outputs": [],
   "source": [
    "checkFile1 = os.path.isfile(\"data/dump/label_encoder.pkl\")\n",
    "checkFile2 = os.path.isfile(\"data/dump/label_decoder.pkl\")\n",
    "\n",
    "key = True\n",
    "\n",
    "if key:\n",
    "    labels = sorted(set(TrainData.Emotion))\n",
    "    labelEncoder = {label: i for i, label in enumerate(labels)}\n",
    "    labelDecoder = {i: label for i, label in enumerate(labels)}\n",
    "\n",
    "    pickle.dump(labelEncoder, open('data/dump/label_encoder.pkl', 'wb'))\n",
    "    pickle.dump(labelDecoder, open('data/dump/label_decoder.pkl', 'wb'))\n",
    "else:\n",
    "    file1 = open('data/dump/label_encoder.pkl', 'rb')\n",
    "    file2 = open('data/dump/label_decoder.pkl', 'rb')\n",
    "    labelEncoder = pickle.load(file1)\n",
    "    labelDecoder = pickle.load(file2)\n",
    "    file1.close()\n",
    "    file2.close()"
   ]
  },
  {
   "cell_type": "code",
   "execution_count": 43,
   "metadata": {},
   "outputs": [
    {
     "data": {
      "text/plain": [
       "{'anger': 0,\n",
       " 'disgust': 1,\n",
       " 'fear': 2,\n",
       " 'joy': 3,\n",
       " 'neutral': 4,\n",
       " 'sadness': 5,\n",
       " 'surprise': 6}"
      ]
     },
     "execution_count": 43,
     "metadata": {},
     "output_type": "execute_result"
    }
   ],
   "source": [
    "labelEncoder"
   ]
  },
  {
   "cell_type": "code",
   "execution_count": 44,
   "metadata": {},
   "outputs": [],
   "source": [
    "def encode_labels(encoder, l):\n",
    "    return encoder[l]"
   ]
  },
  {
   "cell_type": "code",
   "execution_count": 45,
   "metadata": {},
   "outputs": [],
   "source": [
    "# Apply label encoding to the \"Emotion\" column in y_train\n",
    "TrainData[\"Emotion\"] = TrainData[\"Emotion\"].apply(lambda x: encode_labels(labelEncoder, x))\n",
    "TestData[\"Emotion\"] = TestData[\"Emotion\"].apply(lambda x: encode_labels(labelEncoder, x))\n",
    "DevData[\"Emotion\"] = DevData[\"Emotion\"].apply(lambda x: encode_labels(labelEncoder, x))"
   ]
  },
  {
   "cell_type": "code",
   "execution_count": 46,
   "metadata": {},
   "outputs": [],
   "source": [
    "def find_value_ranges(lst):\n",
    "    value_ranges = []\n",
    "    start_index = 0\n",
    "\n",
    "    for i in range(1, len(lst)):\n",
    "        if lst[i] != lst[i - 1]:\n",
    "            value_ranges.append((start_index, i - 1))\n",
    "            start_index = i\n",
    "\n",
    "    # Add the last range\n",
    "    value_ranges.append((start_index, len(lst) - 1))\n",
    "\n",
    "    return value_ranges"
   ]
  },
  {
   "cell_type": "code",
   "execution_count": 47,
   "metadata": {},
   "outputs": [
    {
     "name": "stdout",
     "output_type": "stream",
     "text": [
      "2160\n",
      "577\n",
      "270\n"
     ]
    }
   ],
   "source": [
    "rangesTrain = find_value_ranges(TrainData[\"Dialogue_ID\"])\n",
    "print(len(rangesTrain))\n",
    "\n",
    "rangesTest = find_value_ranges(TestData[\"Dialogue_ID\"])\n",
    "print(len(rangesTest))\n",
    "\n",
    "rangesDev = find_value_ranges(DevData[\"Dialogue_ID\"])\n",
    "print(len(rangesDev))"
   ]
  },
  {
   "cell_type": "markdown",
   "metadata": {},
   "source": [
    "### Speaker Encoder"
   ]
  },
  {
   "cell_type": "markdown",
   "metadata": {},
   "source": [
    "Encoding speaker on train set"
   ]
  },
  {
   "cell_type": "code",
   "execution_count": 48,
   "metadata": {},
   "outputs": [],
   "source": [
    "# Check if the file exists\n",
    "checkFile = os.path.isfile(\"data/dump/speaker_encoder_train.pkl\")\n",
    "encodedSpeakersTrain = []\n",
    "\n",
    "if key:\n",
    "    for range_pair in rangesTrain:\n",
    "        start_idx, end_idx = range_pair\n",
    "        speaker_per_dialog = TrainData['Speaker'][start_idx:end_idx + 1].copy()\n",
    "        speaker_feature = sorted(set(speaker_per_dialog))\n",
    "        speaker_encoder = {feature: i for i, feature in enumerate(speaker_feature)}\n",
    "        speaker_decoder = {i: feature for i, feature in enumerate(speaker_feature)}\n",
    "\n",
    "        encoded_speaker = speaker_per_dialog.replace(speaker_encoder)\n",
    "        encodedSpeakersTrain.append(encoded_speaker)\n",
    "\n",
    "    # Save encoded speaker list and ranges to a file using pickle\n",
    "    file_path = 'data/dump/speaker_encoder_train.pkl'\n",
    "    with open(file_path, 'wb') as file:\n",
    "        pickle.dump([encodedSpeakersTrain, rangesTrain], file)\n",
    "else:\n",
    "    # Load encoded speaker list and ranges from the existing pickle file\n",
    "    file = open('data/dump/speaker_encoder_train.pkl', \"rb\")\n",
    "    encodedSpeakersTrain, rangesTrain = pickle.load(file)\n",
    "    file.close()"
   ]
  },
  {
   "cell_type": "markdown",
   "metadata": {},
   "source": [
    "Encoding speaker on test set"
   ]
  },
  {
   "cell_type": "code",
   "execution_count": 49,
   "metadata": {},
   "outputs": [],
   "source": [
    "# Check if the file exists\n",
    "checkFile = os.path.isfile(\"data/dump/speaker_encoder_test.pkl\")\n",
    "encodedSpeakersTest = []\n",
    "\n",
    "if key:\n",
    "    for range_pair in rangesTest:\n",
    "        start_idx, end_idx = range_pair\n",
    "        speaker_per_dialog = TestData['Speaker'][start_idx:end_idx + 1].copy()\n",
    "        speaker_feature = sorted(set(speaker_per_dialog))\n",
    "        speaker_encoder = {feature: i for i, feature in enumerate(speaker_feature)}\n",
    "        speaker_decoder = {i: feature for i, feature in enumerate(speaker_feature)}\n",
    "\n",
    "        encoded_speaker = speaker_per_dialog.replace(speaker_encoder)\n",
    "        encodedSpeakersTest.append(encoded_speaker)\n",
    "\n",
    "    # Save encoded speaker list and ranges to a file using pickle\n",
    "    file_path = 'data/dump/speaker_encoder_test.pkl'\n",
    "    with open(file_path, 'wb') as file:\n",
    "        pickle.dump([encodedSpeakersTest, rangesTest], file)\n",
    "else:\n",
    "    # Load encoded speaker list and ranges from the existing pickle file\n",
    "    file = open('data/dump/speaker_encoder_test.pkl', \"rb\")\n",
    "    encodedSpeakersTest, rangesTest = pickle.load(file)\n",
    "    file.close()"
   ]
  },
  {
   "cell_type": "code",
   "execution_count": 53,
   "metadata": {},
   "outputs": [],
   "source": [
    "# Check if the file exists\n",
    "checkFile = os.path.isfile(\"data/dump/speaker_encoder_dev.pkl\")\n",
    "encodedSpeakersDev = []\n",
    "\n",
    "if checkFile:\n",
    "    for range_pair in rangesDev:\n",
    "        start_idx, end_idx = range_pair\n",
    "        speaker_per_dialog = DevData['Speaker'][start_idx:end_idx + 1].copy()\n",
    "        speaker_feature = sorted(set(speaker_per_dialog))\n",
    "        speaker_encoder = {feature: i for i, feature in enumerate(speaker_feature)}\n",
    "        speaker_decoder = {i: feature for i, feature in enumerate(speaker_feature)}\n",
    "\n",
    "        encoded_speaker = speaker_per_dialog.replace(speaker_encoder)\n",
    "        encodedSpeakersDev.append(encoded_speaker)\n",
    "\n",
    "    # Save encoded speaker list and ranges to a file using pickle\n",
    "    file_path = 'data/dump/speaker_encoder_dev.pkl'\n",
    "    with open(file_path, 'wb') as file:\n",
    "        pickle.dump([encodedSpeakersDev, rangesDev], file)\n",
    "else:\n",
    "    # Load encoded speaker list and ranges from the existing pickle file\n",
    "    with open('data/dump/speaker_encoder_dev.pkl', \"rb\") as file:\n",
    "        encodedSpeakersDev, rangesDev = pickle.load(file)"
   ]
  },
  {
   "cell_type": "markdown",
   "metadata": {},
   "source": [
    "Apply the encoded speakers in the Train and Test data"
   ]
  },
  {
   "cell_type": "code",
   "execution_count": 54,
   "metadata": {},
   "outputs": [],
   "source": [
    "# Flatten the list of encoded speakers if it is nested\n",
    "encodedSpeakersTrain_flat = [item for sublist in encodedSpeakersTrain for item in sublist]\n",
    "encodedSpeakersTest_flat  = [item for sublist in encodedSpeakersTest for item in sublist]\n",
    "encodedSpeakersDev_flat  = [item for sublist in encodedSpeakersDev for item in sublist]\n",
    "\n",
    "# Replace the 'Speaker' column in TrainData with the encoded speaker data\n",
    "TrainData['Speaker'] = encodedSpeakersTrain_flat\n",
    "TestData['Speaker'] = encodedSpeakersTest_flat\n",
    "DevData['Speaker'] = encodedSpeakersDev_flat"
   ]
  },
  {
   "cell_type": "code",
   "execution_count": 55,
   "metadata": {},
   "outputs": [
    {
     "data": {
      "text/plain": [
       "array([0, 1], dtype=int64)"
      ]
     },
     "execution_count": 55,
     "metadata": {},
     "output_type": "execute_result"
    }
   ],
   "source": [
    "TrainData['Speaker'].unique()"
   ]
  },
  {
   "cell_type": "code",
   "execution_count": 56,
   "metadata": {},
   "outputs": [
    {
     "data": {
      "text/plain": [
       "array([0, 1], dtype=int64)"
      ]
     },
     "execution_count": 56,
     "metadata": {},
     "output_type": "execute_result"
    }
   ],
   "source": [
    "TestData['Speaker'].unique()"
   ]
  },
  {
   "cell_type": "code",
   "execution_count": 57,
   "metadata": {},
   "outputs": [
    {
     "data": {
      "text/plain": [
       "array([1, 0], dtype=int64)"
      ]
     },
     "execution_count": 57,
     "metadata": {},
     "output_type": "execute_result"
    }
   ],
   "source": [
    "DevData['Speaker'].unique()"
   ]
  },
  {
   "cell_type": "markdown",
   "metadata": {},
   "source": [
    "### Data Pre-Processing"
   ]
  },
  {
   "cell_type": "code",
   "execution_count": 58,
   "metadata": {},
   "outputs": [
    {
     "name": "stderr",
     "output_type": "stream",
     "text": [
      "[nltk_data] Downloading package punkt to\n",
      "[nltk_data]     C:\\Users\\PC\\AppData\\Roaming\\nltk_data...\n",
      "[nltk_data]   Package punkt is already up-to-date!\n",
      "[nltk_data] Downloading package stopwords to\n",
      "[nltk_data]     C:\\Users\\PC\\AppData\\Roaming\\nltk_data...\n",
      "[nltk_data]   Package stopwords is already up-to-date!\n",
      "[nltk_data] Downloading package wordnet to\n",
      "[nltk_data]     C:\\Users\\PC\\AppData\\Roaming\\nltk_data...\n",
      "[nltk_data]   Package wordnet is already up-to-date!\n"
     ]
    }
   ],
   "source": [
    "# Download NLTK data (if not already downloaded)\n",
    "nltk.download('punkt')\n",
    "nltk.download('stopwords')\n",
    "nltk.download('wordnet')\n",
    "\n",
    "# Make a copy of X_train_utterances\n",
    "train_utterances = TrainData['Utterance']\n",
    "test_utterances = TestData['Utterance']\n",
    "dev_utterances = DevData['Utterance']\n",
    "\n",
    "# Initialize the lemmatizer and stop words\n",
    "lemmatizer = WordNetLemmatizer()\n",
    "stop_words = set(stopwords.words('english'))"
   ]
  },
  {
   "cell_type": "code",
   "execution_count": 59,
   "metadata": {},
   "outputs": [],
   "source": [
    "def clean_text(text):\n",
    "    # Convert to lowercase\n",
    "    text = text.lower()\n",
    "\n",
    "    # Tokenize\n",
    "    words = word_tokenize(text)\n",
    "\n",
    "    # Remove punctuation and non-alphabetic characters, and stop words\n",
    "    words = [word for word in words if word.isalpha() and word not in stop_words]\n",
    "\n",
    "    # Lemmatize\n",
    "    words = [lemmatizer.lemmatize(word) for word in words]\n",
    "\n",
    "    # Join words back into a single string\n",
    "    cleaned_text = ' '.join(words)\n",
    "    return cleaned_text\n",
    "\n",
    "\n",
    "# Apply the clean_text function to each utterance\n",
    "train_utterances = train_utterances.apply(clean_text)\n",
    "test_utterances = test_utterances.apply(clean_text)\n",
    "dev_utterances = dev_utterances.apply(clean_text)"
   ]
  },
  {
   "cell_type": "code",
   "execution_count": 60,
   "metadata": {},
   "outputs": [
    {
     "data": {
      "text/plain": [
       "0    also point person company transition system\n",
       "1                                 must hand full\n",
       "2                                               \n",
       "3                       let talk little bit duty\n",
       "4                                     duty right\n",
       "Name: Utterance, dtype: object"
      ]
     },
     "execution_count": 60,
     "metadata": {},
     "output_type": "execute_result"
    }
   ],
   "source": [
    "train_utterances.head()"
   ]
  },
  {
   "cell_type": "code",
   "execution_count": 61,
   "metadata": {},
   "outputs": [
    {
     "data": {
      "text/plain": [
       "0                            coffee mug number bottom\n",
       "1    oh monica keep track way one missing like number\n",
       "2                                                    \n",
       "3                                                okay\n",
       "4                                   ross say elevator\n",
       "Name: Utterance, dtype: object"
      ]
     },
     "execution_count": 61,
     "metadata": {},
     "output_type": "execute_result"
    }
   ],
   "source": [
    "test_utterances.head()"
   ]
  },
  {
   "cell_type": "code",
   "execution_count": 62,
   "metadata": {},
   "outputs": [
    {
     "data": {
      "text/plain": [
       "0                  oh god lost totally lost\n",
       "1                                          \n",
       "2    could go bank close account cut source\n",
       "3                                    genius\n",
       "4                                    genius\n",
       "Name: Utterance, dtype: object"
      ]
     },
     "execution_count": 62,
     "metadata": {},
     "output_type": "execute_result"
    }
   ],
   "source": [
    "dev_utterances.head()"
   ]
  },
  {
   "cell_type": "markdown",
   "metadata": {},
   "source": [
    "Check for empty strings"
   ]
  },
  {
   "cell_type": "code",
   "execution_count": 63,
   "metadata": {},
   "outputs": [
    {
     "name": "stdout",
     "output_type": "stream",
     "text": [
      "Empty in Train Utterances: 664\n",
      "Empty in Test Utterances: 170\n",
      "Empty in Dev Utterances: 89\n"
     ]
    }
   ],
   "source": [
    "# Count the empty string values in X_train_utterances\n",
    "empty_string_count_train = (train_utterances == '').sum()\n",
    "empty_string_count_test = (test_utterances == '').sum()\n",
    "empty_string_count_dev = (dev_utterances == '').sum()\n",
    "\n",
    "print(f\"Empty in Train Utterances: {empty_string_count_train}\")\n",
    "print(f\"Empty in Test Utterances: {empty_string_count_test}\")\n",
    "print(f\"Empty in Dev Utterances: {empty_string_count_dev}\")"
   ]
  },
  {
   "cell_type": "markdown",
   "metadata": {},
   "source": [
    "Update 'Utterance' column and remove all empty strings"
   ]
  },
  {
   "cell_type": "code",
   "execution_count": 64,
   "metadata": {},
   "outputs": [
    {
     "name": "stdout",
     "output_type": "stream",
     "text": [
      "Train data shape: (12176, 6)\n",
      "Test data shape: (3230, 6)\n",
      "Dev data shape: (1373, 6)\n"
     ]
    }
   ],
   "source": [
    "# Update X_train with the cleaned utterances\n",
    "TrainData['Utterance'] = train_utterances\n",
    "TestData['Utterance'] = test_utterances\n",
    "DevData['Utterance'] = dev_utterances\n",
    "\n",
    "# Drop rows where Utterance is an empty string. Empty string value is ''.\n",
    "TrainData = TrainData[TrainData['Utterance'] != '']\n",
    "TestData = TestData[TestData['Utterance'] != '']\n",
    "DevData = DevData[DevData['Utterance'] != '']\n",
    "\n",
    "# Reset the index\n",
    "TrainData.reset_index(drop=True, inplace=True)\n",
    "TestData.reset_index(drop=True, inplace=True)\n",
    "DevData.reset_index(drop=True, inplace=True)\n",
    "\n",
    "print(f\"Train data shape: {TrainData.shape}\")\n",
    "print(f\"Test data shape: {TestData.shape}\")\n",
    "print(f\"Dev data shape: {DevData.shape}\")"
   ]
  },
  {
   "cell_type": "markdown",
   "metadata": {},
   "source": [
    "<b>Take note of new shape of Train and Test Data after dropping the values"
   ]
  },
  {
   "cell_type": "markdown",
   "metadata": {},
   "source": [
    "Remove rows with *n* or below number of words and create a new **Dropped Words Dataset**"
   ]
  },
  {
   "cell_type": "code",
   "execution_count": 65,
   "metadata": {},
   "outputs": [
    {
     "name": "stdout",
     "output_type": "stream",
     "text": [
      "After removing rows that is 2 words or below:\n",
      "Train shape : (7354, 6)\n",
      "Test shape: (1973, 6)\n",
      "Test shape: (858, 6)\n"
     ]
    }
   ],
   "source": [
    "n = 2 # This number removes rows with n or less words. (Retains rows with more than n words)\n",
    "\n",
    "# Retain rows with more than n words\n",
    "Dropwords_TrainData = TrainData[TrainData['Utterance'].apply(lambda x: len(x.split()) > n)]\n",
    "Dropwords_TestData = TestData[TestData['Utterance'].apply(lambda x: len(x.split()) > n)]\n",
    "Dropwords_DevData = DevData[DevData['Utterance'].apply(lambda x: len(x.split()) > n)]\n",
    "\n",
    "Dropwords_TrainData.reset_index(drop=True, inplace=True)\n",
    "Dropwords_TestData.reset_index(drop=True, inplace=True)\n",
    "Dropwords_DevData.reset_index(drop=True, inplace=True)\n",
    "\n",
    "print(f\"After removing rows that is {n} words or below:\")\n",
    "print(f\"Train shape : {Dropwords_TrainData.shape}\")\n",
    "print(f\"Test shape: {Dropwords_TestData.shape}\")\n",
    "print(f\"Test shape: {Dropwords_DevData.shape}\")"
   ]
  },
  {
   "cell_type": "markdown",
   "metadata": {},
   "source": [
    "Get random sample from train and test data"
   ]
  },
  {
   "cell_type": "code",
   "execution_count": 66,
   "metadata": {},
   "outputs": [
    {
     "data": {
      "text/html": [
       "<div>\n",
       "<style scoped>\n",
       "    .dataframe tbody tr th:only-of-type {\n",
       "        vertical-align: middle;\n",
       "    }\n",
       "\n",
       "    .dataframe tbody tr th {\n",
       "        vertical-align: top;\n",
       "    }\n",
       "\n",
       "    .dataframe thead th {\n",
       "        text-align: right;\n",
       "    }\n",
       "</style>\n",
       "<table border=\"1\" class=\"dataframe\">\n",
       "  <thead>\n",
       "    <tr style=\"text-align: right;\">\n",
       "      <th></th>\n",
       "      <th>Utterance</th>\n",
       "      <th>Emotion</th>\n",
       "    </tr>\n",
       "  </thead>\n",
       "  <tbody>\n",
       "    <tr>\n",
       "      <th>11051</th>\n",
       "      <td>oh yeah shirt dirty yep</td>\n",
       "      <td>4</td>\n",
       "    </tr>\n",
       "    <tr>\n",
       "      <th>3911</th>\n",
       "      <td>monica</td>\n",
       "      <td>5</td>\n",
       "    </tr>\n",
       "    <tr>\n",
       "      <th>8154</th>\n",
       "      <td>made tea</td>\n",
       "      <td>6</td>\n",
       "    </tr>\n",
       "    <tr>\n",
       "      <th>4725</th>\n",
       "      <td>get pretty one get mess</td>\n",
       "      <td>4</td>\n",
       "    </tr>\n",
       "    <tr>\n",
       "      <th>9044</th>\n",
       "      <td>really like lot</td>\n",
       "      <td>2</td>\n",
       "    </tr>\n",
       "    <tr>\n",
       "      <th>1043</th>\n",
       "      <td>somewhere along way one gon na realise done ca...</td>\n",
       "      <td>4</td>\n",
       "    </tr>\n",
       "    <tr>\n",
       "      <th>3793</th>\n",
       "      <td>okay night leaving museum laser floyd letting ...</td>\n",
       "      <td>3</td>\n",
       "    </tr>\n",
       "    <tr>\n",
       "      <th>11620</th>\n",
       "      <td>know</td>\n",
       "      <td>3</td>\n",
       "    </tr>\n",
       "    <tr>\n",
       "      <th>8941</th>\n",
       "      <td>next caller five hour ago must going crazy</td>\n",
       "      <td>3</td>\n",
       "    </tr>\n",
       "    <tr>\n",
       "      <th>7230</th>\n",
       "      <td>ok funny clown funny clown nap nap wo sleep</td>\n",
       "      <td>4</td>\n",
       "    </tr>\n",
       "  </tbody>\n",
       "</table>\n",
       "</div>"
      ],
      "text/plain": [
       "                                               Utterance  Emotion\n",
       "11051                            oh yeah shirt dirty yep        4\n",
       "3911                                              monica        5\n",
       "8154                                            made tea        6\n",
       "4725                             get pretty one get mess        4\n",
       "9044                                     really like lot        2\n",
       "1043   somewhere along way one gon na realise done ca...        4\n",
       "3793   okay night leaving museum laser floyd letting ...        3\n",
       "11620                                               know        3\n",
       "8941          next caller five hour ago must going crazy        3\n",
       "7230         ok funny clown funny clown nap nap wo sleep        4"
      ]
     },
     "execution_count": 66,
     "metadata": {},
     "output_type": "execute_result"
    }
   ],
   "source": [
    "# Randomly select 10 rows\n",
    "random_sample = TrainData.sample(n=10)[[\"Utterance\", \"Emotion\"]]\n",
    "\n",
    "random_sample"
   ]
  },
  {
   "cell_type": "code",
   "execution_count": 67,
   "metadata": {},
   "outputs": [
    {
     "data": {
      "text/html": [
       "<div>\n",
       "<style scoped>\n",
       "    .dataframe tbody tr th:only-of-type {\n",
       "        vertical-align: middle;\n",
       "    }\n",
       "\n",
       "    .dataframe tbody tr th {\n",
       "        vertical-align: top;\n",
       "    }\n",
       "\n",
       "    .dataframe thead th {\n",
       "        text-align: right;\n",
       "    }\n",
       "</style>\n",
       "<table border=\"1\" class=\"dataframe\">\n",
       "  <thead>\n",
       "    <tr style=\"text-align: right;\">\n",
       "      <th></th>\n",
       "      <th>Utterance</th>\n",
       "      <th>Emotion</th>\n",
       "    </tr>\n",
       "  </thead>\n",
       "  <tbody>\n",
       "    <tr>\n",
       "      <th>3108</th>\n",
       "      <td>wow fortunately</td>\n",
       "      <td>6</td>\n",
       "    </tr>\n",
       "    <tr>\n",
       "      <th>31</th>\n",
       "      <td>coming entire room chandler</td>\n",
       "      <td>0</td>\n",
       "    </tr>\n",
       "    <tr>\n",
       "      <th>2327</th>\n",
       "      <td>trying figure</td>\n",
       "      <td>5</td>\n",
       "    </tr>\n",
       "    <tr>\n",
       "      <th>2972</th>\n",
       "      <td>yes absolutely quality</td>\n",
       "      <td>4</td>\n",
       "    </tr>\n",
       "    <tr>\n",
       "      <th>257</th>\n",
       "      <td>monica still turn light bedroom</td>\n",
       "      <td>4</td>\n",
       "    </tr>\n",
       "    <tr>\n",
       "      <th>3210</th>\n",
       "      <td>gim</td>\n",
       "      <td>0</td>\n",
       "    </tr>\n",
       "    <tr>\n",
       "      <th>198</th>\n",
       "      <td>question ah egg gellers war cry neighbourhood</td>\n",
       "      <td>4</td>\n",
       "    </tr>\n",
       "    <tr>\n",
       "      <th>2606</th>\n",
       "      <td>fallin</td>\n",
       "      <td>0</td>\n",
       "    </tr>\n",
       "    <tr>\n",
       "      <th>857</th>\n",
       "      <td>okay</td>\n",
       "      <td>4</td>\n",
       "    </tr>\n",
       "    <tr>\n",
       "      <th>939</th>\n",
       "      <td>go</td>\n",
       "      <td>0</td>\n",
       "    </tr>\n",
       "  </tbody>\n",
       "</table>\n",
       "</div>"
      ],
      "text/plain": [
       "                                          Utterance  Emotion\n",
       "3108                                wow fortunately        6\n",
       "31                      coming entire room chandler        0\n",
       "2327                                  trying figure        5\n",
       "2972                         yes absolutely quality        4\n",
       "257                 monica still turn light bedroom        4\n",
       "3210                                            gim        0\n",
       "198   question ah egg gellers war cry neighbourhood        4\n",
       "2606                                         fallin        0\n",
       "857                                            okay        4\n",
       "939                                              go        0"
      ]
     },
     "execution_count": 67,
     "metadata": {},
     "output_type": "execute_result"
    }
   ],
   "source": [
    "# Randomly select 10 rows\n",
    "random_sample = TestData.sample(n=10)[[\"Utterance\", \"Emotion\"]]\n",
    "\n",
    "random_sample"
   ]
  },
  {
   "cell_type": "code",
   "execution_count": 68,
   "metadata": {},
   "outputs": [
    {
     "data": {
      "text/html": [
       "<div>\n",
       "<style scoped>\n",
       "    .dataframe tbody tr th:only-of-type {\n",
       "        vertical-align: middle;\n",
       "    }\n",
       "\n",
       "    .dataframe tbody tr th {\n",
       "        vertical-align: top;\n",
       "    }\n",
       "\n",
       "    .dataframe thead th {\n",
       "        text-align: right;\n",
       "    }\n",
       "</style>\n",
       "<table border=\"1\" class=\"dataframe\">\n",
       "  <thead>\n",
       "    <tr style=\"text-align: right;\">\n",
       "      <th></th>\n",
       "      <th>Utterance</th>\n",
       "      <th>Emotion</th>\n",
       "    </tr>\n",
       "  </thead>\n",
       "  <tbody>\n",
       "    <tr>\n",
       "      <th>195</th>\n",
       "      <td>got another one</td>\n",
       "      <td>6</td>\n",
       "    </tr>\n",
       "    <tr>\n",
       "      <th>967</th>\n",
       "      <td>would fine except totally</td>\n",
       "      <td>4</td>\n",
       "    </tr>\n",
       "    <tr>\n",
       "      <th>1020</th>\n",
       "      <td>joey tribbiani</td>\n",
       "      <td>4</td>\n",
       "    </tr>\n",
       "    <tr>\n",
       "      <th>759</th>\n",
       "      <td>ross feasible</td>\n",
       "      <td>4</td>\n",
       "    </tr>\n",
       "    <tr>\n",
       "      <th>666</th>\n",
       "      <td>mean go airport ya wan na say good bye</td>\n",
       "      <td>5</td>\n",
       "    </tr>\n",
       "    <tr>\n",
       "      <th>1162</th>\n",
       "      <td>ross get</td>\n",
       "      <td>6</td>\n",
       "    </tr>\n",
       "    <tr>\n",
       "      <th>850</th>\n",
       "      <td>would really help guy make look good</td>\n",
       "      <td>5</td>\n",
       "    </tr>\n",
       "    <tr>\n",
       "      <th>1227</th>\n",
       "      <td>well nobody want ghost got one house sitting a...</td>\n",
       "      <td>4</td>\n",
       "    </tr>\n",
       "    <tr>\n",
       "      <th>1090</th>\n",
       "      <td>magic story use wan na sex</td>\n",
       "      <td>0</td>\n",
       "    </tr>\n",
       "    <tr>\n",
       "      <th>1065</th>\n",
       "      <td>well said told executor person francis needed ...</td>\n",
       "      <td>4</td>\n",
       "    </tr>\n",
       "  </tbody>\n",
       "</table>\n",
       "</div>"
      ],
      "text/plain": [
       "                                              Utterance  Emotion\n",
       "195                                     got another one        6\n",
       "967                           would fine except totally        4\n",
       "1020                                     joey tribbiani        4\n",
       "759                                       ross feasible        4\n",
       "666              mean go airport ya wan na say good bye        5\n",
       "1162                                           ross get        6\n",
       "850                would really help guy make look good        5\n",
       "1227  well nobody want ghost got one house sitting a...        4\n",
       "1090                         magic story use wan na sex        0\n",
       "1065  well said told executor person francis needed ...        4"
      ]
     },
     "execution_count": 68,
     "metadata": {},
     "output_type": "execute_result"
    }
   ],
   "source": [
    "# Randomly select 10 rows\n",
    "random_sample = DevData.sample(n=10)[[\"Utterance\", \"Emotion\"]]\n",
    "\n",
    "random_sample"
   ]
  },
  {
   "cell_type": "code",
   "execution_count": 69,
   "metadata": {},
   "outputs": [
    {
     "data": {
      "text/html": [
       "<div>\n",
       "<style scoped>\n",
       "    .dataframe tbody tr th:only-of-type {\n",
       "        vertical-align: middle;\n",
       "    }\n",
       "\n",
       "    .dataframe tbody tr th {\n",
       "        vertical-align: top;\n",
       "    }\n",
       "\n",
       "    .dataframe thead th {\n",
       "        text-align: right;\n",
       "    }\n",
       "</style>\n",
       "<table border=\"1\" class=\"dataframe\">\n",
       "  <thead>\n",
       "    <tr style=\"text-align: right;\">\n",
       "      <th></th>\n",
       "      <th>Utterance</th>\n",
       "      <th>Emotion</th>\n",
       "    </tr>\n",
       "  </thead>\n",
       "  <tbody>\n",
       "    <tr>\n",
       "      <th>7087</th>\n",
       "      <td>know really funny story happened</td>\n",
       "      <td>3</td>\n",
       "    </tr>\n",
       "    <tr>\n",
       "      <th>5880</th>\n",
       "      <td>say shed coat separate u get know people under...</td>\n",
       "      <td>4</td>\n",
       "    </tr>\n",
       "    <tr>\n",
       "      <th>6536</th>\n",
       "      <td>wanted let know changed mind gon na gon na kis...</td>\n",
       "      <td>0</td>\n",
       "    </tr>\n",
       "    <tr>\n",
       "      <th>406</th>\n",
       "      <td>look rachel told much easier made</td>\n",
       "      <td>0</td>\n",
       "    </tr>\n",
       "    <tr>\n",
       "      <th>3553</th>\n",
       "      <td>hey chandler table place close come</td>\n",
       "      <td>4</td>\n",
       "    </tr>\n",
       "    <tr>\n",
       "      <th>4507</th>\n",
       "      <td>phoebe maid honor</td>\n",
       "      <td>4</td>\n",
       "    </tr>\n",
       "    <tr>\n",
       "      <th>353</th>\n",
       "      <td>well ross seems pretty clear</td>\n",
       "      <td>4</td>\n",
       "    </tr>\n",
       "    <tr>\n",
       "      <th>4645</th>\n",
       "      <td>kristin kristin something funnily enough even ...</td>\n",
       "      <td>3</td>\n",
       "    </tr>\n",
       "    <tr>\n",
       "      <th>1137</th>\n",
       "      <td>actually one small complaint</td>\n",
       "      <td>4</td>\n",
       "    </tr>\n",
       "    <tr>\n",
       "      <th>6497</th>\n",
       "      <td>hey figured way tell moving</td>\n",
       "      <td>4</td>\n",
       "    </tr>\n",
       "  </tbody>\n",
       "</table>\n",
       "</div>"
      ],
      "text/plain": [
       "                                              Utterance  Emotion\n",
       "7087                   know really funny story happened        3\n",
       "5880  say shed coat separate u get know people under...        4\n",
       "6536  wanted let know changed mind gon na gon na kis...        0\n",
       "406                   look rachel told much easier made        0\n",
       "3553                hey chandler table place close come        4\n",
       "4507                                  phoebe maid honor        4\n",
       "353                        well ross seems pretty clear        4\n",
       "4645  kristin kristin something funnily enough even ...        3\n",
       "1137                       actually one small complaint        4\n",
       "6497                        hey figured way tell moving        4"
      ]
     },
     "execution_count": 69,
     "metadata": {},
     "output_type": "execute_result"
    }
   ],
   "source": [
    "# Randomly select 10 rows\n",
    "random_sample = Dropwords_TrainData.sample(n=10)[[\"Utterance\", \"Emotion\"]]\n",
    "\n",
    "random_sample"
   ]
  },
  {
   "cell_type": "code",
   "execution_count": 70,
   "metadata": {},
   "outputs": [
    {
     "data": {
      "text/html": [
       "<div>\n",
       "<style scoped>\n",
       "    .dataframe tbody tr th:only-of-type {\n",
       "        vertical-align: middle;\n",
       "    }\n",
       "\n",
       "    .dataframe tbody tr th {\n",
       "        vertical-align: top;\n",
       "    }\n",
       "\n",
       "    .dataframe thead th {\n",
       "        text-align: right;\n",
       "    }\n",
       "</style>\n",
       "<table border=\"1\" class=\"dataframe\">\n",
       "  <thead>\n",
       "    <tr style=\"text-align: right;\">\n",
       "      <th></th>\n",
       "      <th>Utterance</th>\n",
       "      <th>Emotion</th>\n",
       "    </tr>\n",
       "  </thead>\n",
       "  <tbody>\n",
       "    <tr>\n",
       "      <th>675</th>\n",
       "      <td>joey mom phone</td>\n",
       "      <td>4</td>\n",
       "    </tr>\n",
       "    <tr>\n",
       "      <th>1001</th>\n",
       "      <td>soo ah eric kind photography ya</td>\n",
       "      <td>4</td>\n",
       "    </tr>\n",
       "    <tr>\n",
       "      <th>36</th>\n",
       "      <td>yeah anything go except ah eye gouging fish ho...</td>\n",
       "      <td>4</td>\n",
       "    </tr>\n",
       "    <tr>\n",
       "      <th>1132</th>\n",
       "      <td>like end era</td>\n",
       "      <td>5</td>\n",
       "    </tr>\n",
       "    <tr>\n",
       "      <th>1114</th>\n",
       "      <td>said call called</td>\n",
       "      <td>5</td>\n",
       "    </tr>\n",
       "    <tr>\n",
       "      <th>1414</th>\n",
       "      <td>got ta make sure paolo walk first guy rachel s...</td>\n",
       "      <td>3</td>\n",
       "    </tr>\n",
       "    <tr>\n",
       "      <th>1264</th>\n",
       "      <td>okay finish apple juice</td>\n",
       "      <td>4</td>\n",
       "    </tr>\n",
       "    <tr>\n",
       "      <th>1112</th>\n",
       "      <td>well heard emma stirring came make sure could ...</td>\n",
       "      <td>4</td>\n",
       "    </tr>\n",
       "    <tr>\n",
       "      <th>525</th>\n",
       "      <td>bring one woman baby going sue</td>\n",
       "      <td>0</td>\n",
       "    </tr>\n",
       "    <tr>\n",
       "      <th>908</th>\n",
       "      <td>like taking air</td>\n",
       "      <td>6</td>\n",
       "    </tr>\n",
       "  </tbody>\n",
       "</table>\n",
       "</div>"
      ],
      "text/plain": [
       "                                              Utterance  Emotion\n",
       "675                                      joey mom phone        4\n",
       "1001                    soo ah eric kind photography ya        4\n",
       "36    yeah anything go except ah eye gouging fish ho...        4\n",
       "1132                                       like end era        5\n",
       "1114                                   said call called        5\n",
       "1414  got ta make sure paolo walk first guy rachel s...        3\n",
       "1264                            okay finish apple juice        4\n",
       "1112  well heard emma stirring came make sure could ...        4\n",
       "525                      bring one woman baby going sue        0\n",
       "908                                     like taking air        6"
      ]
     },
     "execution_count": 70,
     "metadata": {},
     "output_type": "execute_result"
    }
   ],
   "source": [
    "# Randomly select 10 rows\n",
    "random_sample = Dropwords_TestData.sample(n=10)[[\"Utterance\", \"Emotion\"]]\n",
    "\n",
    "random_sample"
   ]
  },
  {
   "cell_type": "code",
   "execution_count": 71,
   "metadata": {},
   "outputs": [
    {
     "data": {
      "text/html": [
       "<div>\n",
       "<style scoped>\n",
       "    .dataframe tbody tr th:only-of-type {\n",
       "        vertical-align: middle;\n",
       "    }\n",
       "\n",
       "    .dataframe tbody tr th {\n",
       "        vertical-align: top;\n",
       "    }\n",
       "\n",
       "    .dataframe thead th {\n",
       "        text-align: right;\n",
       "    }\n",
       "</style>\n",
       "<table border=\"1\" class=\"dataframe\">\n",
       "  <thead>\n",
       "    <tr style=\"text-align: right;\">\n",
       "      <th></th>\n",
       "      <th>Utterance</th>\n",
       "      <th>Emotion</th>\n",
       "    </tr>\n",
       "  </thead>\n",
       "  <tbody>\n",
       "    <tr>\n",
       "      <th>87</th>\n",
       "      <td>wait rach one</td>\n",
       "      <td>4</td>\n",
       "    </tr>\n",
       "    <tr>\n",
       "      <th>94</th>\n",
       "      <td>oh god would play hide seek someone know fligh...</td>\n",
       "      <td>5</td>\n",
       "    </tr>\n",
       "    <tr>\n",
       "      <th>332</th>\n",
       "      <td>tell tell call okay</td>\n",
       "      <td>2</td>\n",
       "    </tr>\n",
       "    <tr>\n",
       "      <th>404</th>\n",
       "      <td>sure new year eve two week away wait</td>\n",
       "      <td>4</td>\n",
       "    </tr>\n",
       "    <tr>\n",
       "      <th>14</th>\n",
       "      <td>hey estelle listen</td>\n",
       "      <td>4</td>\n",
       "    </tr>\n",
       "    <tr>\n",
       "      <th>203</th>\n",
       "      <td>danielle hi everybody danielle danielle everybody</td>\n",
       "      <td>4</td>\n",
       "    </tr>\n",
       "    <tr>\n",
       "      <th>730</th>\n",
       "      <td>course smell like wine spilled thanks wrecking...</td>\n",
       "      <td>0</td>\n",
       "    </tr>\n",
       "    <tr>\n",
       "      <th>171</th>\n",
       "      <td>know harm go put name</td>\n",
       "      <td>4</td>\n",
       "    </tr>\n",
       "    <tr>\n",
       "      <th>513</th>\n",
       "      <td>gon na gon na go find bring back</td>\n",
       "      <td>4</td>\n",
       "    </tr>\n",
       "    <tr>\n",
       "      <th>216</th>\n",
       "      <td>aw hey think susan person lover</td>\n",
       "      <td>4</td>\n",
       "    </tr>\n",
       "  </tbody>\n",
       "</table>\n",
       "</div>"
      ],
      "text/plain": [
       "                                             Utterance  Emotion\n",
       "87                                       wait rach one        4\n",
       "94   oh god would play hide seek someone know fligh...        5\n",
       "332                                tell tell call okay        2\n",
       "404               sure new year eve two week away wait        4\n",
       "14                                  hey estelle listen        4\n",
       "203  danielle hi everybody danielle danielle everybody        4\n",
       "730  course smell like wine spilled thanks wrecking...        0\n",
       "171                              know harm go put name        4\n",
       "513                   gon na gon na go find bring back        4\n",
       "216                    aw hey think susan person lover        4"
      ]
     },
     "execution_count": 71,
     "metadata": {},
     "output_type": "execute_result"
    }
   ],
   "source": [
    "# Randomly select 10 rows\n",
    "random_sample = Dropwords_DevData.sample(n=10)[[\"Utterance\", \"Emotion\"]]\n",
    "\n",
    "random_sample"
   ]
  },
  {
   "cell_type": "markdown",
   "metadata": {},
   "source": [
    "### Division of X and y data"
   ]
  },
  {
   "cell_type": "code",
   "execution_count": 72,
   "metadata": {},
   "outputs": [],
   "source": [
    "# Create DataFrame for target labels\n",
    "y_train = pd.DataFrame()\n",
    "y_test = pd.DataFrame()\n",
    "y_dev = pd.DataFrame()\n",
    "\n",
    "X_train = TrainData\n",
    "X_test = TestData\n",
    "X_dev = DevData\n",
    "    \n",
    "y_train[\"Emotion\"] = TrainData[\"Emotion\"].copy()\n",
    "y_test[\"Emotion\"] = TestData[\"Emotion\"].copy()\n",
    "y_dev[\"Emotion\"] = DevData[\"Emotion\"].copy()\n",
    "\n",
    "y_train[\"Dialogue_ID\"] = TrainData[\"Dialogue_ID\"].copy()\n",
    "y_test[\"Dialogue_ID\"] = TestData[\"Dialogue_ID\"].copy()\n",
    "y_dev[\"Dialogue_ID\"] = DevData[\"Dialogue_ID\"].copy()"
   ]
  },
  {
   "cell_type": "code",
   "execution_count": 73,
   "metadata": {},
   "outputs": [
    {
     "name": "stdout",
     "output_type": "stream",
     "text": [
      "Shape of X_train: (12176, 6)\n",
      "Shape of y_train: (12176, 2)\n",
      "--\n",
      "Shape of X_test: (3230, 6)\n",
      "Shape of y_test: (3230, 2)\n",
      "--\n",
      "Shape of X_dev: (1373, 6)\n",
      "Shape of y_dev: (1373, 2)\n"
     ]
    }
   ],
   "source": [
    "print(f'Shape of X_train: {X_train.shape}')\n",
    "print(f'Shape of y_train: {y_train.shape}')\n",
    "print('--')\n",
    "print(f'Shape of X_test: {X_test.shape}')\n",
    "print(f'Shape of y_test: {y_test.shape}')\n",
    "print('--')\n",
    "print(f'Shape of X_dev: {X_dev.shape}')\n",
    "print(f'Shape of y_dev: {y_dev.shape}')"
   ]
  },
  {
   "cell_type": "code",
   "execution_count": 74,
   "metadata": {},
   "outputs": [],
   "source": [
    "# Create DataFrame for target labels\n",
    "y_dropped_train = pd.DataFrame()\n",
    "y_dropped_test = pd.DataFrame()\n",
    "y_dropped_dev = pd.DataFrame()\n",
    "\n",
    "X_dropped_train = Dropwords_TrainData\n",
    "X_dropped_test = Dropwords_TestData\n",
    "X_dropped_dev = Dropwords_DevData\n",
    "\n",
    "y_dropped_train[\"Emotion\"] = Dropwords_TrainData[\"Emotion\"].copy()\n",
    "y_dropped_test[\"Emotion\"] = Dropwords_TestData[\"Emotion\"].copy()\n",
    "y_dropped_dev[\"Emotion\"] = Dropwords_DevData[\"Emotion\"].copy()\n",
    "\n",
    "y_dropped_train[\"Dialogue_ID\"] = Dropwords_TrainData[\"Dialogue_ID\"].copy()\n",
    "y_dropped_test[\"Dialogue_ID\"] = Dropwords_TestData[\"Dialogue_ID\"].copy()\n",
    "y_dropped_dev[\"Dialogue_ID\"] = Dropwords_DevData[\"Dialogue_ID\"].copy()"
   ]
  },
  {
   "cell_type": "code",
   "execution_count": 75,
   "metadata": {},
   "outputs": [
    {
     "name": "stdout",
     "output_type": "stream",
     "text": [
      "Shape of X_dropped_train: (7354, 6)\n",
      "Shape of y_dropped_train: (7354, 2)\n",
      "--\n",
      "Shape of X_dropped_test: (1973, 6)\n",
      "Shape of y_dropped_test: (1973, 2)\n",
      "--\n",
      "Shape of X_dropped_dev: (858, 6)\n",
      "Shape of y_dropped_dev: (858, 2)\n"
     ]
    }
   ],
   "source": [
    "print(f'Shape of X_dropped_train: {X_dropped_train.shape}')\n",
    "print(f'Shape of y_dropped_train: {y_dropped_train.shape}')\n",
    "print('--')\n",
    "print(f'Shape of X_dropped_test: {X_dropped_test.shape}')\n",
    "print(f'Shape of y_dropped_test: {y_dropped_test.shape}')\n",
    "print('--')\n",
    "print(f'Shape of X_dropped_dev: {X_dropped_dev.shape}')\n",
    "print(f'Shape of y_dropped_dev: {y_dropped_dev.shape}')"
   ]
  },
  {
   "cell_type": "markdown",
   "metadata": {},
   "source": [
    "### Output data to new csv"
   ]
  },
  {
   "cell_type": "markdown",
   "metadata": {},
   "source": [
    "##### Label Encoding Data"
   ]
  },
  {
   "cell_type": "code",
   "execution_count": 76,
   "metadata": {},
   "outputs": [],
   "source": [
    "# Check if the file already exists\n",
    "checkFile1 = os.path.isfile(\"data/dump/labels_train.pkl\")\n",
    "checkFile2 = os.path.isfile(\"data/dump/labels_test.pkl\")\n",
    "\n",
    "if key:\n",
    "    pickle.dump(X_train[\"Emotion\"], open('data/dump/labels_train.pkl', 'wb'))\n",
    "    pickle.dump(X_test[\"Emotion\"], open('data/dump/labels_test.pkl', 'wb'))"
   ]
  },
  {
   "cell_type": "markdown",
   "metadata": {},
   "source": [
    "##### Training and Testing Data"
   ]
  },
  {
   "cell_type": "code",
   "execution_count": 77,
   "metadata": {},
   "outputs": [],
   "source": [
    "def exportDataToCSV(df, name):\n",
    "    path = f'data/DatasetPreparation/{name}.csv'\n",
    "    df.to_csv(path)\n"
   ]
  },
  {
   "cell_type": "code",
   "execution_count": 78,
   "metadata": {},
   "outputs": [],
   "source": [
    "exportDataToCSV(X_train, \"X_train\")\n",
    "exportDataToCSV(y_train, \"y_train\")\n",
    "\n",
    "exportDataToCSV(X_test, \"X_test\")\n",
    "exportDataToCSV(y_test, \"y_test\")\n",
    "\n",
    "exportDataToCSV(X_dev, \"X_dev\")\n",
    "exportDataToCSV(y_dev, \"y_dev\")"
   ]
  },
  {
   "cell_type": "code",
   "execution_count": 79,
   "metadata": {},
   "outputs": [],
   "source": [
    "exportDataToCSV(X_dropped_train, \"dropwords_X_train\")\n",
    "exportDataToCSV(y_dropped_train, \"dropwords_y_train\")\n",
    "\n",
    "exportDataToCSV(X_dropped_test, \"dropwords_X_test\")\n",
    "exportDataToCSV(y_dropped_test, \"dropwords_y_test\")\n",
    "\n",
    "exportDataToCSV(X_dropped_dev, \"dropwords_X_dev\")\n",
    "exportDataToCSV(y_dropped_dev, \"dropwords_y_dev\")"
   ]
  }
 ],
 "metadata": {
  "kernelspec": {
   "display_name": "base",
   "language": "python",
   "name": "python3"
  },
  "language_info": {
   "codemirror_mode": {
    "name": "ipython",
    "version": 3
   },
   "file_extension": ".py",
   "mimetype": "text/x-python",
   "name": "python",
   "nbconvert_exporter": "python",
   "pygments_lexer": "ipython3",
   "version": "3.11.5"
  }
 },
 "nbformat": 4,
 "nbformat_minor": 2
}
